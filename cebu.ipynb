{
  "cells": [
    {
      "cell_type": "markdown",
      "metadata": {
        "id": "view-in-github",
        "colab_type": "text"
      },
      "source": [
        "<a href=\"https://colab.research.google.com/github/eRuaro/prac-research/blob/main/cebu.ipynb\" target=\"_parent\"><img src=\"https://colab.research.google.com/assets/colab-badge.svg\" alt=\"Open In Colab\"/></a>"
      ]
    },
    {
      "cell_type": "code",
      "execution_count": 1,
      "metadata": {
        "id": "RYOLABWb1Q1j"
      },
      "outputs": [],
      "source": [
        "path = '/content/drive/MyDrive/prac-research/actual/data/research-data-cebu.csv'\n",
        "\n",
        "import numpy as np\n",
        "import pandas as pd\n",
        "%matplotlib inline \n",
        "import matplotlib.pyplot as plt \n",
        "import sklearn"
      ]
    },
    {
      "cell_type": "code",
      "execution_count": 2,
      "metadata": {
        "colab": {
          "base_uri": "https://localhost:8080/",
          "height": 357
        },
        "id": "hcv8HmpN3qX9",
        "outputId": "3bc5dc39-9aa3-4bd1-e147-b371c4a04a07"
      },
      "outputs": [
        {
          "output_type": "execute_result",
          "data": {
            "text/html": [
              "\n",
              "  <div id=\"df-8c85cbd5-7271-41cf-999b-675b0ec17aa2\">\n",
              "    <div class=\"colab-df-container\">\n",
              "      <div>\n",
              "<style scoped>\n",
              "    .dataframe tbody tr th:only-of-type {\n",
              "        vertical-align: middle;\n",
              "    }\n",
              "\n",
              "    .dataframe tbody tr th {\n",
              "        vertical-align: top;\n",
              "    }\n",
              "\n",
              "    .dataframe thead th {\n",
              "        text-align: right;\n",
              "    }\n",
              "</style>\n",
              "<table border=\"1\" class=\"dataframe\">\n",
              "  <thead>\n",
              "    <tr style=\"text-align: right;\">\n",
              "      <th></th>\n",
              "      <th>name</th>\n",
              "      <th>region</th>\n",
              "      <th>country</th>\n",
              "      <th>longitude</th>\n",
              "      <th>latitude</th>\n",
              "      <th>time</th>\n",
              "      <th>temp_c</th>\n",
              "      <th>is_day</th>\n",
              "      <th>condition</th>\n",
              "      <th>wind_kph</th>\n",
              "      <th>wind_degree</th>\n",
              "      <th>wind_dir</th>\n",
              "      <th>air_pressure</th>\n",
              "      <th>precipitation</th>\n",
              "      <th>relative_humidity</th>\n",
              "      <th>cloud</th>\n",
              "      <th>feelslike_c</th>\n",
              "      <th>will_it_rain</th>\n",
              "      <th>chance_of_rain</th>\n",
              "    </tr>\n",
              "  </thead>\n",
              "  <tbody>\n",
              "    <tr>\n",
              "      <th>523</th>\n",
              "      <td>Cebu</td>\n",
              "      <td>Cebu City</td>\n",
              "      <td>Philippines</td>\n",
              "      <td>123.89</td>\n",
              "      <td>10.31</td>\n",
              "      <td>2021-12-31 19:00:00</td>\n",
              "      <td>25.2</td>\n",
              "      <td>0</td>\n",
              "      <td>Light rain shower</td>\n",
              "      <td>24.5</td>\n",
              "      <td>33</td>\n",
              "      <td>NNE</td>\n",
              "      <td>1012.95</td>\n",
              "      <td>0.95</td>\n",
              "      <td>91.70</td>\n",
              "      <td>100</td>\n",
              "      <td>27.9</td>\n",
              "      <td>1</td>\n",
              "      <td>80</td>\n",
              "    </tr>\n",
              "    <tr>\n",
              "      <th>524</th>\n",
              "      <td>Cebu</td>\n",
              "      <td>Cebu City</td>\n",
              "      <td>Philippines</td>\n",
              "      <td>123.89</td>\n",
              "      <td>10.31</td>\n",
              "      <td>2021-12-31 20:00:00</td>\n",
              "      <td>25.0</td>\n",
              "      <td>0</td>\n",
              "      <td>Light rain shower</td>\n",
              "      <td>24.5</td>\n",
              "      <td>31</td>\n",
              "      <td>NNE</td>\n",
              "      <td>1012.95</td>\n",
              "      <td>0.84</td>\n",
              "      <td>92.80</td>\n",
              "      <td>100</td>\n",
              "      <td>27.5</td>\n",
              "      <td>1</td>\n",
              "      <td>80</td>\n",
              "    </tr>\n",
              "    <tr>\n",
              "      <th>525</th>\n",
              "      <td>Cebu</td>\n",
              "      <td>Cebu City</td>\n",
              "      <td>Philippines</td>\n",
              "      <td>123.89</td>\n",
              "      <td>10.31</td>\n",
              "      <td>2021-12-31 21:00:00</td>\n",
              "      <td>24.7</td>\n",
              "      <td>0</td>\n",
              "      <td>Light rain shower</td>\n",
              "      <td>24.5</td>\n",
              "      <td>30</td>\n",
              "      <td>NNE</td>\n",
              "      <td>1012.94</td>\n",
              "      <td>0.73</td>\n",
              "      <td>93.90</td>\n",
              "      <td>100</td>\n",
              "      <td>27.2</td>\n",
              "      <td>0</td>\n",
              "      <td>0</td>\n",
              "    </tr>\n",
              "    <tr>\n",
              "      <th>526</th>\n",
              "      <td>Cebu</td>\n",
              "      <td>Cebu City</td>\n",
              "      <td>Philippines</td>\n",
              "      <td>123.89</td>\n",
              "      <td>10.31</td>\n",
              "      <td>2021-12-31 22:00:00</td>\n",
              "      <td>24.4</td>\n",
              "      <td>0</td>\n",
              "      <td>Light rain shower</td>\n",
              "      <td>22.7</td>\n",
              "      <td>32</td>\n",
              "      <td>NNE</td>\n",
              "      <td>1013.64</td>\n",
              "      <td>0.87</td>\n",
              "      <td>93.77</td>\n",
              "      <td>96</td>\n",
              "      <td>26.9</td>\n",
              "      <td>1</td>\n",
              "      <td>80</td>\n",
              "    </tr>\n",
              "    <tr>\n",
              "      <th>527</th>\n",
              "      <td>Cebu</td>\n",
              "      <td>Cebu City</td>\n",
              "      <td>Philippines</td>\n",
              "      <td>123.89</td>\n",
              "      <td>10.31</td>\n",
              "      <td>2021-12-31 23:00:00</td>\n",
              "      <td>24.1</td>\n",
              "      <td>0</td>\n",
              "      <td>Light rain shower</td>\n",
              "      <td>20.9</td>\n",
              "      <td>33</td>\n",
              "      <td>NNE</td>\n",
              "      <td>1014.33</td>\n",
              "      <td>1.01</td>\n",
              "      <td>93.63</td>\n",
              "      <td>92</td>\n",
              "      <td>26.5</td>\n",
              "      <td>1</td>\n",
              "      <td>80</td>\n",
              "    </tr>\n",
              "  </tbody>\n",
              "</table>\n",
              "</div>\n",
              "      <button class=\"colab-df-convert\" onclick=\"convertToInteractive('df-8c85cbd5-7271-41cf-999b-675b0ec17aa2')\"\n",
              "              title=\"Convert this dataframe to an interactive table.\"\n",
              "              style=\"display:none;\">\n",
              "        \n",
              "  <svg xmlns=\"http://www.w3.org/2000/svg\" height=\"24px\"viewBox=\"0 0 24 24\"\n",
              "       width=\"24px\">\n",
              "    <path d=\"M0 0h24v24H0V0z\" fill=\"none\"/>\n",
              "    <path d=\"M18.56 5.44l.94 2.06.94-2.06 2.06-.94-2.06-.94-.94-2.06-.94 2.06-2.06.94zm-11 1L8.5 8.5l.94-2.06 2.06-.94-2.06-.94L8.5 2.5l-.94 2.06-2.06.94zm10 10l.94 2.06.94-2.06 2.06-.94-2.06-.94-.94-2.06-.94 2.06-2.06.94z\"/><path d=\"M17.41 7.96l-1.37-1.37c-.4-.4-.92-.59-1.43-.59-.52 0-1.04.2-1.43.59L10.3 9.45l-7.72 7.72c-.78.78-.78 2.05 0 2.83L4 21.41c.39.39.9.59 1.41.59.51 0 1.02-.2 1.41-.59l7.78-7.78 2.81-2.81c.8-.78.8-2.07 0-2.86zM5.41 20L4 18.59l7.72-7.72 1.47 1.35L5.41 20z\"/>\n",
              "  </svg>\n",
              "      </button>\n",
              "      \n",
              "  <style>\n",
              "    .colab-df-container {\n",
              "      display:flex;\n",
              "      flex-wrap:wrap;\n",
              "      gap: 12px;\n",
              "    }\n",
              "\n",
              "    .colab-df-convert {\n",
              "      background-color: #E8F0FE;\n",
              "      border: none;\n",
              "      border-radius: 50%;\n",
              "      cursor: pointer;\n",
              "      display: none;\n",
              "      fill: #1967D2;\n",
              "      height: 32px;\n",
              "      padding: 0 0 0 0;\n",
              "      width: 32px;\n",
              "    }\n",
              "\n",
              "    .colab-df-convert:hover {\n",
              "      background-color: #E2EBFA;\n",
              "      box-shadow: 0px 1px 2px rgba(60, 64, 67, 0.3), 0px 1px 3px 1px rgba(60, 64, 67, 0.15);\n",
              "      fill: #174EA6;\n",
              "    }\n",
              "\n",
              "    [theme=dark] .colab-df-convert {\n",
              "      background-color: #3B4455;\n",
              "      fill: #D2E3FC;\n",
              "    }\n",
              "\n",
              "    [theme=dark] .colab-df-convert:hover {\n",
              "      background-color: #434B5C;\n",
              "      box-shadow: 0px 1px 3px 1px rgba(0, 0, 0, 0.15);\n",
              "      filter: drop-shadow(0px 1px 2px rgba(0, 0, 0, 0.3));\n",
              "      fill: #FFFFFF;\n",
              "    }\n",
              "  </style>\n",
              "\n",
              "      <script>\n",
              "        const buttonEl =\n",
              "          document.querySelector('#df-8c85cbd5-7271-41cf-999b-675b0ec17aa2 button.colab-df-convert');\n",
              "        buttonEl.style.display =\n",
              "          google.colab.kernel.accessAllowed ? 'block' : 'none';\n",
              "\n",
              "        async function convertToInteractive(key) {\n",
              "          const element = document.querySelector('#df-8c85cbd5-7271-41cf-999b-675b0ec17aa2');\n",
              "          const dataTable =\n",
              "            await google.colab.kernel.invokeFunction('convertToInteractive',\n",
              "                                                     [key], {});\n",
              "          if (!dataTable) return;\n",
              "\n",
              "          const docLinkHtml = 'Like what you see? Visit the ' +\n",
              "            '<a target=\"_blank\" href=https://colab.research.google.com/notebooks/data_table.ipynb>data table notebook</a>'\n",
              "            + ' to learn more about interactive tables.';\n",
              "          element.innerHTML = '';\n",
              "          dataTable['output_type'] = 'display_data';\n",
              "          await google.colab.output.renderOutput(dataTable, element);\n",
              "          const docLink = document.createElement('div');\n",
              "          docLink.innerHTML = docLinkHtml;\n",
              "          element.appendChild(docLink);\n",
              "        }\n",
              "      </script>\n",
              "    </div>\n",
              "  </div>\n",
              "  "
            ],
            "text/plain": [
              "     name     region      country  ...  feelslike_c  will_it_rain chance_of_rain\n",
              "523  Cebu  Cebu City  Philippines  ...         27.9             1             80\n",
              "524  Cebu  Cebu City  Philippines  ...         27.5             1             80\n",
              "525  Cebu  Cebu City  Philippines  ...         27.2             0              0\n",
              "526  Cebu  Cebu City  Philippines  ...         26.9             1             80\n",
              "527  Cebu  Cebu City  Philippines  ...         26.5             1             80\n",
              "\n",
              "[5 rows x 19 columns]"
            ]
          },
          "metadata": {},
          "execution_count": 2
        }
      ],
      "source": [
        "df = pd.read_csv(\n",
        "    path, \n",
        "    low_memory=False,\n",
        "    parse_dates=['time']\n",
        ")\n",
        "\n",
        "df.tail()"
      ]
    },
    {
      "cell_type": "code",
      "execution_count": 3,
      "metadata": {
        "colab": {
          "base_uri": "https://localhost:8080/"
        },
        "id": "icDVCO4n3v1S",
        "outputId": "e2c1087e-288b-4c80-82bb-108a551ebfdd"
      },
      "outputs": [
        {
          "output_type": "stream",
          "name": "stdout",
          "text": [
            "<class 'pandas.core.frame.DataFrame'>\n",
            "RangeIndex: 528 entries, 0 to 527\n",
            "Data columns (total 19 columns):\n",
            " #   Column             Non-Null Count  Dtype         \n",
            "---  ------             --------------  -----         \n",
            " 0   name               528 non-null    object        \n",
            " 1   region             528 non-null    object        \n",
            " 2   country            528 non-null    object        \n",
            " 3   longitude          528 non-null    float64       \n",
            " 4   latitude           528 non-null    float64       \n",
            " 5   time               528 non-null    datetime64[ns]\n",
            " 6   temp_c             528 non-null    float64       \n",
            " 7   is_day             528 non-null    int64         \n",
            " 8   condition          528 non-null    object        \n",
            " 9   wind_kph           528 non-null    float64       \n",
            " 10  wind_degree        528 non-null    int64         \n",
            " 11  wind_dir           528 non-null    object        \n",
            " 12  air_pressure       528 non-null    float64       \n",
            " 13  precipitation      528 non-null    float64       \n",
            " 14  relative_humidity  528 non-null    float64       \n",
            " 15  cloud              528 non-null    int64         \n",
            " 16  feelslike_c        528 non-null    float64       \n",
            " 17  will_it_rain       528 non-null    int64         \n",
            " 18  chance_of_rain     528 non-null    int64         \n",
            "dtypes: datetime64[ns](1), float64(8), int64(5), object(5)\n",
            "memory usage: 78.5+ KB\n"
          ]
        }
      ],
      "source": [
        "df.info()"
      ]
    },
    {
      "cell_type": "code",
      "execution_count": 4,
      "metadata": {
        "colab": {
          "base_uri": "https://localhost:8080/"
        },
        "id": "062LMb2B31en",
        "outputId": "908491e6-c741-49e3-c625-9051d59b70da"
      },
      "outputs": [
        {
          "output_type": "execute_result",
          "data": {
            "text/plain": [
              "0   2021-12-10 00:00:00\n",
              "1   2021-12-10 01:00:00\n",
              "2   2021-12-10 02:00:00\n",
              "3   2021-12-10 03:00:00\n",
              "4   2021-12-10 04:00:00\n",
              "Name: time, dtype: datetime64[ns]"
            ]
          },
          "metadata": {},
          "execution_count": 4
        }
      ],
      "source": [
        "df.time.head()"
      ]
    },
    {
      "cell_type": "code",
      "execution_count": 5,
      "metadata": {
        "colab": {
          "base_uri": "https://localhost:8080/"
        },
        "id": "7n28bMA94p3H",
        "outputId": "e9a87d91-dacd-4527-f372-efb2db85d75e"
      },
      "outputs": [
        {
          "output_type": "execute_result",
          "data": {
            "text/plain": [
              "0   2021-12-10 00:00:00\n",
              "1   2021-12-10 01:00:00\n",
              "2   2021-12-10 02:00:00\n",
              "3   2021-12-10 03:00:00\n",
              "4   2021-12-10 04:00:00\n",
              "Name: time, dtype: datetime64[ns]"
            ]
          },
          "metadata": {},
          "execution_count": 5
        }
      ],
      "source": [
        "df.sort_values(by=['time'], ascending=True)\n",
        "\n",
        "df.time.head()"
      ]
    },
    {
      "cell_type": "markdown",
      "metadata": {
        "id": "mu1y8jlT43Hp"
      },
      "source": [
        "## Feature Engineering"
      ]
    },
    {
      "cell_type": "code",
      "execution_count": 6,
      "metadata": {
        "colab": {
          "base_uri": "https://localhost:8080/",
          "height": 864
        },
        "id": "7k4xMbeJ5UMk",
        "outputId": "1fd11dad-0a1f-48c5-87b1-83f1cb47d17d"
      },
      "outputs": [
        {
          "output_type": "execute_result",
          "data": {
            "text/html": [
              "\n",
              "  <div id=\"df-8c6fb418-c989-45b3-b5cb-ac1385c29ac5\">\n",
              "    <div class=\"colab-df-container\">\n",
              "      <div>\n",
              "<style scoped>\n",
              "    .dataframe tbody tr th:only-of-type {\n",
              "        vertical-align: middle;\n",
              "    }\n",
              "\n",
              "    .dataframe tbody tr th {\n",
              "        vertical-align: top;\n",
              "    }\n",
              "\n",
              "    .dataframe thead th {\n",
              "        text-align: right;\n",
              "    }\n",
              "</style>\n",
              "<table border=\"1\" class=\"dataframe\">\n",
              "  <thead>\n",
              "    <tr style=\"text-align: right;\">\n",
              "      <th></th>\n",
              "      <th>0</th>\n",
              "      <th>1</th>\n",
              "      <th>2</th>\n",
              "      <th>3</th>\n",
              "      <th>4</th>\n",
              "    </tr>\n",
              "  </thead>\n",
              "  <tbody>\n",
              "    <tr>\n",
              "      <th>name</th>\n",
              "      <td>Cebu</td>\n",
              "      <td>Cebu</td>\n",
              "      <td>Cebu</td>\n",
              "      <td>Cebu</td>\n",
              "      <td>Cebu</td>\n",
              "    </tr>\n",
              "    <tr>\n",
              "      <th>region</th>\n",
              "      <td>Cebu City</td>\n",
              "      <td>Cebu City</td>\n",
              "      <td>Cebu City</td>\n",
              "      <td>Cebu City</td>\n",
              "      <td>Cebu City</td>\n",
              "    </tr>\n",
              "    <tr>\n",
              "      <th>country</th>\n",
              "      <td>Philippines</td>\n",
              "      <td>Philippines</td>\n",
              "      <td>Philippines</td>\n",
              "      <td>Philippines</td>\n",
              "      <td>Philippines</td>\n",
              "    </tr>\n",
              "    <tr>\n",
              "      <th>longitude</th>\n",
              "      <td>123.89</td>\n",
              "      <td>123.89</td>\n",
              "      <td>123.89</td>\n",
              "      <td>123.89</td>\n",
              "      <td>123.89</td>\n",
              "    </tr>\n",
              "    <tr>\n",
              "      <th>latitude</th>\n",
              "      <td>10.31</td>\n",
              "      <td>10.31</td>\n",
              "      <td>10.31</td>\n",
              "      <td>10.31</td>\n",
              "      <td>10.31</td>\n",
              "    </tr>\n",
              "    <tr>\n",
              "      <th>time</th>\n",
              "      <td>2021-12-10 00:00:00</td>\n",
              "      <td>2021-12-10 01:00:00</td>\n",
              "      <td>2021-12-10 02:00:00</td>\n",
              "      <td>2021-12-10 03:00:00</td>\n",
              "      <td>2021-12-10 04:00:00</td>\n",
              "    </tr>\n",
              "    <tr>\n",
              "      <th>temp_c</th>\n",
              "      <td>24.9</td>\n",
              "      <td>24.9</td>\n",
              "      <td>24.8</td>\n",
              "      <td>24.8</td>\n",
              "      <td>24.8</td>\n",
              "    </tr>\n",
              "    <tr>\n",
              "      <th>is_day</th>\n",
              "      <td>0</td>\n",
              "      <td>0</td>\n",
              "      <td>0</td>\n",
              "      <td>0</td>\n",
              "      <td>0</td>\n",
              "    </tr>\n",
              "    <tr>\n",
              "      <th>condition</th>\n",
              "      <td>Cloudy</td>\n",
              "      <td>Cloudy</td>\n",
              "      <td>Partly cloudy</td>\n",
              "      <td>Partly cloudy</td>\n",
              "      <td>Partly cloudy</td>\n",
              "    </tr>\n",
              "    <tr>\n",
              "      <th>wind_kph</th>\n",
              "      <td>15.5</td>\n",
              "      <td>15.4</td>\n",
              "      <td>15.2</td>\n",
              "      <td>15.1</td>\n",
              "      <td>15.7</td>\n",
              "    </tr>\n",
              "    <tr>\n",
              "      <th>wind_degree</th>\n",
              "      <td>358</td>\n",
              "      <td>358</td>\n",
              "      <td>358</td>\n",
              "      <td>358</td>\n",
              "      <td>240</td>\n",
              "    </tr>\n",
              "    <tr>\n",
              "      <th>wind_dir</th>\n",
              "      <td>N</td>\n",
              "      <td>N</td>\n",
              "      <td>N</td>\n",
              "      <td>N</td>\n",
              "      <td>WSW</td>\n",
              "    </tr>\n",
              "    <tr>\n",
              "      <th>air_pressure</th>\n",
              "      <td>1011.55</td>\n",
              "      <td>1011.27</td>\n",
              "      <td>1010.99</td>\n",
              "      <td>1010.72</td>\n",
              "      <td>1009.99</td>\n",
              "    </tr>\n",
              "    <tr>\n",
              "      <th>precipitation</th>\n",
              "      <td>0.92</td>\n",
              "      <td>0.96</td>\n",
              "      <td>0.99</td>\n",
              "      <td>1.03</td>\n",
              "      <td>1.25</td>\n",
              "    </tr>\n",
              "    <tr>\n",
              "      <th>relative_humidity</th>\n",
              "      <td>88.9</td>\n",
              "      <td>88.23</td>\n",
              "      <td>87.57</td>\n",
              "      <td>86.9</td>\n",
              "      <td>86.3</td>\n",
              "    </tr>\n",
              "    <tr>\n",
              "      <th>cloud</th>\n",
              "      <td>65</td>\n",
              "      <td>58</td>\n",
              "      <td>50</td>\n",
              "      <td>43</td>\n",
              "      <td>52</td>\n",
              "    </tr>\n",
              "    <tr>\n",
              "      <th>feelslike_c</th>\n",
              "      <td>27.6</td>\n",
              "      <td>27.6</td>\n",
              "      <td>27.5</td>\n",
              "      <td>27.5</td>\n",
              "      <td>27.4</td>\n",
              "    </tr>\n",
              "    <tr>\n",
              "      <th>will_it_rain</th>\n",
              "      <td>0</td>\n",
              "      <td>0</td>\n",
              "      <td>0</td>\n",
              "      <td>0</td>\n",
              "      <td>0</td>\n",
              "    </tr>\n",
              "    <tr>\n",
              "      <th>chance_of_rain</th>\n",
              "      <td>0</td>\n",
              "      <td>2</td>\n",
              "      <td>1</td>\n",
              "      <td>0</td>\n",
              "      <td>1</td>\n",
              "    </tr>\n",
              "    <tr>\n",
              "      <th>year</th>\n",
              "      <td>2021</td>\n",
              "      <td>2021</td>\n",
              "      <td>2021</td>\n",
              "      <td>2021</td>\n",
              "      <td>2021</td>\n",
              "    </tr>\n",
              "    <tr>\n",
              "      <th>month</th>\n",
              "      <td>12</td>\n",
              "      <td>12</td>\n",
              "      <td>12</td>\n",
              "      <td>12</td>\n",
              "      <td>12</td>\n",
              "    </tr>\n",
              "    <tr>\n",
              "      <th>day</th>\n",
              "      <td>10</td>\n",
              "      <td>10</td>\n",
              "      <td>10</td>\n",
              "      <td>10</td>\n",
              "      <td>10</td>\n",
              "    </tr>\n",
              "    <tr>\n",
              "      <th>hour</th>\n",
              "      <td>0</td>\n",
              "      <td>1</td>\n",
              "      <td>2</td>\n",
              "      <td>3</td>\n",
              "      <td>4</td>\n",
              "    </tr>\n",
              "    <tr>\n",
              "      <th>dayOfWeek</th>\n",
              "      <td>4</td>\n",
              "      <td>4</td>\n",
              "      <td>4</td>\n",
              "      <td>4</td>\n",
              "      <td>4</td>\n",
              "    </tr>\n",
              "  </tbody>\n",
              "</table>\n",
              "</div>\n",
              "      <button class=\"colab-df-convert\" onclick=\"convertToInteractive('df-8c6fb418-c989-45b3-b5cb-ac1385c29ac5')\"\n",
              "              title=\"Convert this dataframe to an interactive table.\"\n",
              "              style=\"display:none;\">\n",
              "        \n",
              "  <svg xmlns=\"http://www.w3.org/2000/svg\" height=\"24px\"viewBox=\"0 0 24 24\"\n",
              "       width=\"24px\">\n",
              "    <path d=\"M0 0h24v24H0V0z\" fill=\"none\"/>\n",
              "    <path d=\"M18.56 5.44l.94 2.06.94-2.06 2.06-.94-2.06-.94-.94-2.06-.94 2.06-2.06.94zm-11 1L8.5 8.5l.94-2.06 2.06-.94-2.06-.94L8.5 2.5l-.94 2.06-2.06.94zm10 10l.94 2.06.94-2.06 2.06-.94-2.06-.94-.94-2.06-.94 2.06-2.06.94z\"/><path d=\"M17.41 7.96l-1.37-1.37c-.4-.4-.92-.59-1.43-.59-.52 0-1.04.2-1.43.59L10.3 9.45l-7.72 7.72c-.78.78-.78 2.05 0 2.83L4 21.41c.39.39.9.59 1.41.59.51 0 1.02-.2 1.41-.59l7.78-7.78 2.81-2.81c.8-.78.8-2.07 0-2.86zM5.41 20L4 18.59l7.72-7.72 1.47 1.35L5.41 20z\"/>\n",
              "  </svg>\n",
              "      </button>\n",
              "      \n",
              "  <style>\n",
              "    .colab-df-container {\n",
              "      display:flex;\n",
              "      flex-wrap:wrap;\n",
              "      gap: 12px;\n",
              "    }\n",
              "\n",
              "    .colab-df-convert {\n",
              "      background-color: #E8F0FE;\n",
              "      border: none;\n",
              "      border-radius: 50%;\n",
              "      cursor: pointer;\n",
              "      display: none;\n",
              "      fill: #1967D2;\n",
              "      height: 32px;\n",
              "      padding: 0 0 0 0;\n",
              "      width: 32px;\n",
              "    }\n",
              "\n",
              "    .colab-df-convert:hover {\n",
              "      background-color: #E2EBFA;\n",
              "      box-shadow: 0px 1px 2px rgba(60, 64, 67, 0.3), 0px 1px 3px 1px rgba(60, 64, 67, 0.15);\n",
              "      fill: #174EA6;\n",
              "    }\n",
              "\n",
              "    [theme=dark] .colab-df-convert {\n",
              "      background-color: #3B4455;\n",
              "      fill: #D2E3FC;\n",
              "    }\n",
              "\n",
              "    [theme=dark] .colab-df-convert:hover {\n",
              "      background-color: #434B5C;\n",
              "      box-shadow: 0px 1px 3px 1px rgba(0, 0, 0, 0.15);\n",
              "      filter: drop-shadow(0px 1px 2px rgba(0, 0, 0, 0.3));\n",
              "      fill: #FFFFFF;\n",
              "    }\n",
              "  </style>\n",
              "\n",
              "      <script>\n",
              "        const buttonEl =\n",
              "          document.querySelector('#df-8c6fb418-c989-45b3-b5cb-ac1385c29ac5 button.colab-df-convert');\n",
              "        buttonEl.style.display =\n",
              "          google.colab.kernel.accessAllowed ? 'block' : 'none';\n",
              "\n",
              "        async function convertToInteractive(key) {\n",
              "          const element = document.querySelector('#df-8c6fb418-c989-45b3-b5cb-ac1385c29ac5');\n",
              "          const dataTable =\n",
              "            await google.colab.kernel.invokeFunction('convertToInteractive',\n",
              "                                                     [key], {});\n",
              "          if (!dataTable) return;\n",
              "\n",
              "          const docLinkHtml = 'Like what you see? Visit the ' +\n",
              "            '<a target=\"_blank\" href=https://colab.research.google.com/notebooks/data_table.ipynb>data table notebook</a>'\n",
              "            + ' to learn more about interactive tables.';\n",
              "          element.innerHTML = '';\n",
              "          dataTable['output_type'] = 'display_data';\n",
              "          await google.colab.output.renderOutput(dataTable, element);\n",
              "          const docLink = document.createElement('div');\n",
              "          docLink.innerHTML = docLinkHtml;\n",
              "          element.appendChild(docLink);\n",
              "        }\n",
              "      </script>\n",
              "    </div>\n",
              "  </div>\n",
              "  "
            ],
            "text/plain": [
              "                                     0  ...                    4\n",
              "name                              Cebu  ...                 Cebu\n",
              "region                       Cebu City  ...            Cebu City\n",
              "country                    Philippines  ...          Philippines\n",
              "longitude                       123.89  ...               123.89\n",
              "latitude                         10.31  ...                10.31\n",
              "time               2021-12-10 00:00:00  ...  2021-12-10 04:00:00\n",
              "temp_c                            24.9  ...                 24.8\n",
              "is_day                               0  ...                    0\n",
              "condition                       Cloudy  ...        Partly cloudy\n",
              "wind_kph                          15.5  ...                 15.7\n",
              "wind_degree                        358  ...                  240\n",
              "wind_dir                             N  ...                  WSW\n",
              "air_pressure                   1011.55  ...              1009.99\n",
              "precipitation                     0.92  ...                 1.25\n",
              "relative_humidity                 88.9  ...                 86.3\n",
              "cloud                               65  ...                   52\n",
              "feelslike_c                       27.6  ...                 27.4\n",
              "will_it_rain                         0  ...                    0\n",
              "chance_of_rain                       0  ...                    1\n",
              "year                              2021  ...                 2021\n",
              "month                               12  ...                   12\n",
              "day                                 10  ...                   10\n",
              "hour                                 0  ...                    4\n",
              "dayOfWeek                            4  ...                    4\n",
              "\n",
              "[24 rows x 5 columns]"
            ]
          },
          "metadata": {},
          "execution_count": 6
        }
      ],
      "source": [
        "df['year'] = df.time.dt.year\n",
        "df['month'] = df.time.dt.month\n",
        "df['day'] = df.time.dt.day\n",
        "df['hour'] = df.time.dt.hour\n",
        "df['dayOfWeek'] = df.time.dt.dayofweek\n",
        "\n",
        "df.head().T"
      ]
    },
    {
      "cell_type": "code",
      "execution_count": 7,
      "metadata": {
        "colab": {
          "base_uri": "https://localhost:8080/",
          "height": 802
        },
        "id": "EtZgSuVh5uR0",
        "outputId": "6064c9d9-89f7-4d91-9ab9-899206852f97"
      },
      "outputs": [
        {
          "output_type": "execute_result",
          "data": {
            "text/html": [
              "\n",
              "  <div id=\"df-12970787-d62c-49a8-82fc-6aabdef4c188\">\n",
              "    <div class=\"colab-df-container\">\n",
              "      <div>\n",
              "<style scoped>\n",
              "    .dataframe tbody tr th:only-of-type {\n",
              "        vertical-align: middle;\n",
              "    }\n",
              "\n",
              "    .dataframe tbody tr th {\n",
              "        vertical-align: top;\n",
              "    }\n",
              "\n",
              "    .dataframe thead th {\n",
              "        text-align: right;\n",
              "    }\n",
              "</style>\n",
              "<table border=\"1\" class=\"dataframe\">\n",
              "  <thead>\n",
              "    <tr style=\"text-align: right;\">\n",
              "      <th></th>\n",
              "      <th>523</th>\n",
              "      <th>524</th>\n",
              "      <th>525</th>\n",
              "      <th>526</th>\n",
              "      <th>527</th>\n",
              "    </tr>\n",
              "  </thead>\n",
              "  <tbody>\n",
              "    <tr>\n",
              "      <th>name</th>\n",
              "      <td>Cebu</td>\n",
              "      <td>Cebu</td>\n",
              "      <td>Cebu</td>\n",
              "      <td>Cebu</td>\n",
              "      <td>Cebu</td>\n",
              "    </tr>\n",
              "    <tr>\n",
              "      <th>region</th>\n",
              "      <td>Cebu City</td>\n",
              "      <td>Cebu City</td>\n",
              "      <td>Cebu City</td>\n",
              "      <td>Cebu City</td>\n",
              "      <td>Cebu City</td>\n",
              "    </tr>\n",
              "    <tr>\n",
              "      <th>country</th>\n",
              "      <td>Philippines</td>\n",
              "      <td>Philippines</td>\n",
              "      <td>Philippines</td>\n",
              "      <td>Philippines</td>\n",
              "      <td>Philippines</td>\n",
              "    </tr>\n",
              "    <tr>\n",
              "      <th>longitude</th>\n",
              "      <td>123.89</td>\n",
              "      <td>123.89</td>\n",
              "      <td>123.89</td>\n",
              "      <td>123.89</td>\n",
              "      <td>123.89</td>\n",
              "    </tr>\n",
              "    <tr>\n",
              "      <th>latitude</th>\n",
              "      <td>10.31</td>\n",
              "      <td>10.31</td>\n",
              "      <td>10.31</td>\n",
              "      <td>10.31</td>\n",
              "      <td>10.31</td>\n",
              "    </tr>\n",
              "    <tr>\n",
              "      <th>time</th>\n",
              "      <td>2021-12-31 19:00:00</td>\n",
              "      <td>2021-12-31 20:00:00</td>\n",
              "      <td>2021-12-31 21:00:00</td>\n",
              "      <td>2021-12-31 22:00:00</td>\n",
              "      <td>2021-12-31 23:00:00</td>\n",
              "    </tr>\n",
              "    <tr>\n",
              "      <th>temp_c</th>\n",
              "      <td>25.2</td>\n",
              "      <td>25</td>\n",
              "      <td>24.7</td>\n",
              "      <td>24.4</td>\n",
              "      <td>24.1</td>\n",
              "    </tr>\n",
              "    <tr>\n",
              "      <th>is_day</th>\n",
              "      <td>0</td>\n",
              "      <td>0</td>\n",
              "      <td>0</td>\n",
              "      <td>0</td>\n",
              "      <td>0</td>\n",
              "    </tr>\n",
              "    <tr>\n",
              "      <th>condition</th>\n",
              "      <td>Light rain shower</td>\n",
              "      <td>Light rain shower</td>\n",
              "      <td>Light rain shower</td>\n",
              "      <td>Light rain shower</td>\n",
              "      <td>Light rain shower</td>\n",
              "    </tr>\n",
              "    <tr>\n",
              "      <th>wind_kph</th>\n",
              "      <td>24.5</td>\n",
              "      <td>24.5</td>\n",
              "      <td>24.5</td>\n",
              "      <td>22.7</td>\n",
              "      <td>20.9</td>\n",
              "    </tr>\n",
              "    <tr>\n",
              "      <th>wind_degree</th>\n",
              "      <td>33</td>\n",
              "      <td>31</td>\n",
              "      <td>30</td>\n",
              "      <td>32</td>\n",
              "      <td>33</td>\n",
              "    </tr>\n",
              "    <tr>\n",
              "      <th>wind_dir</th>\n",
              "      <td>NNE</td>\n",
              "      <td>NNE</td>\n",
              "      <td>NNE</td>\n",
              "      <td>NNE</td>\n",
              "      <td>NNE</td>\n",
              "    </tr>\n",
              "    <tr>\n",
              "      <th>air_pressure</th>\n",
              "      <td>1012.95</td>\n",
              "      <td>1012.95</td>\n",
              "      <td>1012.94</td>\n",
              "      <td>1013.64</td>\n",
              "      <td>1014.33</td>\n",
              "    </tr>\n",
              "    <tr>\n",
              "      <th>precipitation</th>\n",
              "      <td>0.95</td>\n",
              "      <td>0.84</td>\n",
              "      <td>0.73</td>\n",
              "      <td>0.87</td>\n",
              "      <td>1.01</td>\n",
              "    </tr>\n",
              "    <tr>\n",
              "      <th>relative_humidity</th>\n",
              "      <td>91.7</td>\n",
              "      <td>92.8</td>\n",
              "      <td>93.9</td>\n",
              "      <td>93.77</td>\n",
              "      <td>93.63</td>\n",
              "    </tr>\n",
              "    <tr>\n",
              "      <th>cloud</th>\n",
              "      <td>100</td>\n",
              "      <td>100</td>\n",
              "      <td>100</td>\n",
              "      <td>96</td>\n",
              "      <td>92</td>\n",
              "    </tr>\n",
              "    <tr>\n",
              "      <th>feelslike_c</th>\n",
              "      <td>27.9</td>\n",
              "      <td>27.5</td>\n",
              "      <td>27.2</td>\n",
              "      <td>26.9</td>\n",
              "      <td>26.5</td>\n",
              "    </tr>\n",
              "    <tr>\n",
              "      <th>will_it_rain</th>\n",
              "      <td>1</td>\n",
              "      <td>1</td>\n",
              "      <td>0</td>\n",
              "      <td>1</td>\n",
              "      <td>1</td>\n",
              "    </tr>\n",
              "    <tr>\n",
              "      <th>chance_of_rain</th>\n",
              "      <td>80</td>\n",
              "      <td>80</td>\n",
              "      <td>0</td>\n",
              "      <td>80</td>\n",
              "      <td>80</td>\n",
              "    </tr>\n",
              "    <tr>\n",
              "      <th>year</th>\n",
              "      <td>2021</td>\n",
              "      <td>2021</td>\n",
              "      <td>2021</td>\n",
              "      <td>2021</td>\n",
              "      <td>2021</td>\n",
              "    </tr>\n",
              "    <tr>\n",
              "      <th>month</th>\n",
              "      <td>12</td>\n",
              "      <td>12</td>\n",
              "      <td>12</td>\n",
              "      <td>12</td>\n",
              "      <td>12</td>\n",
              "    </tr>\n",
              "    <tr>\n",
              "      <th>day</th>\n",
              "      <td>31</td>\n",
              "      <td>31</td>\n",
              "      <td>31</td>\n",
              "      <td>31</td>\n",
              "      <td>31</td>\n",
              "    </tr>\n",
              "    <tr>\n",
              "      <th>hour</th>\n",
              "      <td>19</td>\n",
              "      <td>20</td>\n",
              "      <td>21</td>\n",
              "      <td>22</td>\n",
              "      <td>23</td>\n",
              "    </tr>\n",
              "    <tr>\n",
              "      <th>dayOfWeek</th>\n",
              "      <td>4</td>\n",
              "      <td>4</td>\n",
              "      <td>4</td>\n",
              "      <td>4</td>\n",
              "      <td>4</td>\n",
              "    </tr>\n",
              "  </tbody>\n",
              "</table>\n",
              "</div>\n",
              "      <button class=\"colab-df-convert\" onclick=\"convertToInteractive('df-12970787-d62c-49a8-82fc-6aabdef4c188')\"\n",
              "              title=\"Convert this dataframe to an interactive table.\"\n",
              "              style=\"display:none;\">\n",
              "        \n",
              "  <svg xmlns=\"http://www.w3.org/2000/svg\" height=\"24px\"viewBox=\"0 0 24 24\"\n",
              "       width=\"24px\">\n",
              "    <path d=\"M0 0h24v24H0V0z\" fill=\"none\"/>\n",
              "    <path d=\"M18.56 5.44l.94 2.06.94-2.06 2.06-.94-2.06-.94-.94-2.06-.94 2.06-2.06.94zm-11 1L8.5 8.5l.94-2.06 2.06-.94-2.06-.94L8.5 2.5l-.94 2.06-2.06.94zm10 10l.94 2.06.94-2.06 2.06-.94-2.06-.94-.94-2.06-.94 2.06-2.06.94z\"/><path d=\"M17.41 7.96l-1.37-1.37c-.4-.4-.92-.59-1.43-.59-.52 0-1.04.2-1.43.59L10.3 9.45l-7.72 7.72c-.78.78-.78 2.05 0 2.83L4 21.41c.39.39.9.59 1.41.59.51 0 1.02-.2 1.41-.59l7.78-7.78 2.81-2.81c.8-.78.8-2.07 0-2.86zM5.41 20L4 18.59l7.72-7.72 1.47 1.35L5.41 20z\"/>\n",
              "  </svg>\n",
              "      </button>\n",
              "      \n",
              "  <style>\n",
              "    .colab-df-container {\n",
              "      display:flex;\n",
              "      flex-wrap:wrap;\n",
              "      gap: 12px;\n",
              "    }\n",
              "\n",
              "    .colab-df-convert {\n",
              "      background-color: #E8F0FE;\n",
              "      border: none;\n",
              "      border-radius: 50%;\n",
              "      cursor: pointer;\n",
              "      display: none;\n",
              "      fill: #1967D2;\n",
              "      height: 32px;\n",
              "      padding: 0 0 0 0;\n",
              "      width: 32px;\n",
              "    }\n",
              "\n",
              "    .colab-df-convert:hover {\n",
              "      background-color: #E2EBFA;\n",
              "      box-shadow: 0px 1px 2px rgba(60, 64, 67, 0.3), 0px 1px 3px 1px rgba(60, 64, 67, 0.15);\n",
              "      fill: #174EA6;\n",
              "    }\n",
              "\n",
              "    [theme=dark] .colab-df-convert {\n",
              "      background-color: #3B4455;\n",
              "      fill: #D2E3FC;\n",
              "    }\n",
              "\n",
              "    [theme=dark] .colab-df-convert:hover {\n",
              "      background-color: #434B5C;\n",
              "      box-shadow: 0px 1px 3px 1px rgba(0, 0, 0, 0.15);\n",
              "      filter: drop-shadow(0px 1px 2px rgba(0, 0, 0, 0.3));\n",
              "      fill: #FFFFFF;\n",
              "    }\n",
              "  </style>\n",
              "\n",
              "      <script>\n",
              "        const buttonEl =\n",
              "          document.querySelector('#df-12970787-d62c-49a8-82fc-6aabdef4c188 button.colab-df-convert');\n",
              "        buttonEl.style.display =\n",
              "          google.colab.kernel.accessAllowed ? 'block' : 'none';\n",
              "\n",
              "        async function convertToInteractive(key) {\n",
              "          const element = document.querySelector('#df-12970787-d62c-49a8-82fc-6aabdef4c188');\n",
              "          const dataTable =\n",
              "            await google.colab.kernel.invokeFunction('convertToInteractive',\n",
              "                                                     [key], {});\n",
              "          if (!dataTable) return;\n",
              "\n",
              "          const docLinkHtml = 'Like what you see? Visit the ' +\n",
              "            '<a target=\"_blank\" href=https://colab.research.google.com/notebooks/data_table.ipynb>data table notebook</a>'\n",
              "            + ' to learn more about interactive tables.';\n",
              "          element.innerHTML = '';\n",
              "          dataTable['output_type'] = 'display_data';\n",
              "          await google.colab.output.renderOutput(dataTable, element);\n",
              "          const docLink = document.createElement('div');\n",
              "          docLink.innerHTML = docLinkHtml;\n",
              "          element.appendChild(docLink);\n",
              "        }\n",
              "      </script>\n",
              "    </div>\n",
              "  </div>\n",
              "  "
            ],
            "text/plain": [
              "                                   523  ...                  527\n",
              "name                              Cebu  ...                 Cebu\n",
              "region                       Cebu City  ...            Cebu City\n",
              "country                    Philippines  ...          Philippines\n",
              "longitude                       123.89  ...               123.89\n",
              "latitude                         10.31  ...                10.31\n",
              "time               2021-12-31 19:00:00  ...  2021-12-31 23:00:00\n",
              "temp_c                            25.2  ...                 24.1\n",
              "is_day                               0  ...                    0\n",
              "condition            Light rain shower  ...    Light rain shower\n",
              "wind_kph                          24.5  ...                 20.9\n",
              "wind_degree                         33  ...                   33\n",
              "wind_dir                           NNE  ...                  NNE\n",
              "air_pressure                   1012.95  ...              1014.33\n",
              "precipitation                     0.95  ...                 1.01\n",
              "relative_humidity                 91.7  ...                93.63\n",
              "cloud                              100  ...                   92\n",
              "feelslike_c                       27.9  ...                 26.5\n",
              "will_it_rain                         1  ...                    1\n",
              "chance_of_rain                      80  ...                   80\n",
              "year                              2021  ...                 2021\n",
              "month                               12  ...                   12\n",
              "day                                 31  ...                   31\n",
              "hour                                19  ...                   23\n",
              "dayOfWeek                            4  ...                    4\n",
              "\n",
              "[24 rows x 5 columns]"
            ]
          },
          "metadata": {},
          "execution_count": 7
        }
      ],
      "source": [
        "df.tail().T"
      ]
    },
    {
      "cell_type": "code",
      "execution_count": 8,
      "metadata": {
        "colab": {
          "base_uri": "https://localhost:8080/",
          "height": 771
        },
        "id": "oDYUWdkW9Gyo",
        "outputId": "c4b68bc1-652b-49ce-feb0-0b4e63cfaeb9"
      },
      "outputs": [
        {
          "output_type": "execute_result",
          "data": {
            "text/html": [
              "\n",
              "  <div id=\"df-d8e90800-164d-4fac-ae51-90ff0872d175\">\n",
              "    <div class=\"colab-df-container\">\n",
              "      <div>\n",
              "<style scoped>\n",
              "    .dataframe tbody tr th:only-of-type {\n",
              "        vertical-align: middle;\n",
              "    }\n",
              "\n",
              "    .dataframe tbody tr th {\n",
              "        vertical-align: top;\n",
              "    }\n",
              "\n",
              "    .dataframe thead th {\n",
              "        text-align: right;\n",
              "    }\n",
              "</style>\n",
              "<table border=\"1\" class=\"dataframe\">\n",
              "  <thead>\n",
              "    <tr style=\"text-align: right;\">\n",
              "      <th></th>\n",
              "      <th>0</th>\n",
              "      <th>1</th>\n",
              "      <th>2</th>\n",
              "      <th>3</th>\n",
              "      <th>4</th>\n",
              "    </tr>\n",
              "  </thead>\n",
              "  <tbody>\n",
              "    <tr>\n",
              "      <th>name</th>\n",
              "      <td>Cebu</td>\n",
              "      <td>Cebu</td>\n",
              "      <td>Cebu</td>\n",
              "      <td>Cebu</td>\n",
              "      <td>Cebu</td>\n",
              "    </tr>\n",
              "    <tr>\n",
              "      <th>region</th>\n",
              "      <td>Cebu City</td>\n",
              "      <td>Cebu City</td>\n",
              "      <td>Cebu City</td>\n",
              "      <td>Cebu City</td>\n",
              "      <td>Cebu City</td>\n",
              "    </tr>\n",
              "    <tr>\n",
              "      <th>country</th>\n",
              "      <td>Philippines</td>\n",
              "      <td>Philippines</td>\n",
              "      <td>Philippines</td>\n",
              "      <td>Philippines</td>\n",
              "      <td>Philippines</td>\n",
              "    </tr>\n",
              "    <tr>\n",
              "      <th>longitude</th>\n",
              "      <td>123.89</td>\n",
              "      <td>123.89</td>\n",
              "      <td>123.89</td>\n",
              "      <td>123.89</td>\n",
              "      <td>123.89</td>\n",
              "    </tr>\n",
              "    <tr>\n",
              "      <th>latitude</th>\n",
              "      <td>10.31</td>\n",
              "      <td>10.31</td>\n",
              "      <td>10.31</td>\n",
              "      <td>10.31</td>\n",
              "      <td>10.31</td>\n",
              "    </tr>\n",
              "    <tr>\n",
              "      <th>temp_c</th>\n",
              "      <td>24.9</td>\n",
              "      <td>24.9</td>\n",
              "      <td>24.8</td>\n",
              "      <td>24.8</td>\n",
              "      <td>24.8</td>\n",
              "    </tr>\n",
              "    <tr>\n",
              "      <th>is_day</th>\n",
              "      <td>0</td>\n",
              "      <td>0</td>\n",
              "      <td>0</td>\n",
              "      <td>0</td>\n",
              "      <td>0</td>\n",
              "    </tr>\n",
              "    <tr>\n",
              "      <th>condition</th>\n",
              "      <td>Cloudy</td>\n",
              "      <td>Cloudy</td>\n",
              "      <td>Partly cloudy</td>\n",
              "      <td>Partly cloudy</td>\n",
              "      <td>Partly cloudy</td>\n",
              "    </tr>\n",
              "    <tr>\n",
              "      <th>wind_kph</th>\n",
              "      <td>15.5</td>\n",
              "      <td>15.4</td>\n",
              "      <td>15.2</td>\n",
              "      <td>15.1</td>\n",
              "      <td>15.7</td>\n",
              "    </tr>\n",
              "    <tr>\n",
              "      <th>wind_degree</th>\n",
              "      <td>358</td>\n",
              "      <td>358</td>\n",
              "      <td>358</td>\n",
              "      <td>358</td>\n",
              "      <td>240</td>\n",
              "    </tr>\n",
              "    <tr>\n",
              "      <th>wind_dir</th>\n",
              "      <td>N</td>\n",
              "      <td>N</td>\n",
              "      <td>N</td>\n",
              "      <td>N</td>\n",
              "      <td>WSW</td>\n",
              "    </tr>\n",
              "    <tr>\n",
              "      <th>air_pressure</th>\n",
              "      <td>1011.55</td>\n",
              "      <td>1011.27</td>\n",
              "      <td>1010.99</td>\n",
              "      <td>1010.72</td>\n",
              "      <td>1009.99</td>\n",
              "    </tr>\n",
              "    <tr>\n",
              "      <th>precipitation</th>\n",
              "      <td>0.92</td>\n",
              "      <td>0.96</td>\n",
              "      <td>0.99</td>\n",
              "      <td>1.03</td>\n",
              "      <td>1.25</td>\n",
              "    </tr>\n",
              "    <tr>\n",
              "      <th>relative_humidity</th>\n",
              "      <td>88.9</td>\n",
              "      <td>88.23</td>\n",
              "      <td>87.57</td>\n",
              "      <td>86.9</td>\n",
              "      <td>86.3</td>\n",
              "    </tr>\n",
              "    <tr>\n",
              "      <th>cloud</th>\n",
              "      <td>65</td>\n",
              "      <td>58</td>\n",
              "      <td>50</td>\n",
              "      <td>43</td>\n",
              "      <td>52</td>\n",
              "    </tr>\n",
              "    <tr>\n",
              "      <th>feelslike_c</th>\n",
              "      <td>27.6</td>\n",
              "      <td>27.6</td>\n",
              "      <td>27.5</td>\n",
              "      <td>27.5</td>\n",
              "      <td>27.4</td>\n",
              "    </tr>\n",
              "    <tr>\n",
              "      <th>will_it_rain</th>\n",
              "      <td>0</td>\n",
              "      <td>0</td>\n",
              "      <td>0</td>\n",
              "      <td>0</td>\n",
              "      <td>0</td>\n",
              "    </tr>\n",
              "    <tr>\n",
              "      <th>chance_of_rain</th>\n",
              "      <td>0</td>\n",
              "      <td>2</td>\n",
              "      <td>1</td>\n",
              "      <td>0</td>\n",
              "      <td>1</td>\n",
              "    </tr>\n",
              "    <tr>\n",
              "      <th>year</th>\n",
              "      <td>2021</td>\n",
              "      <td>2021</td>\n",
              "      <td>2021</td>\n",
              "      <td>2021</td>\n",
              "      <td>2021</td>\n",
              "    </tr>\n",
              "    <tr>\n",
              "      <th>month</th>\n",
              "      <td>12</td>\n",
              "      <td>12</td>\n",
              "      <td>12</td>\n",
              "      <td>12</td>\n",
              "      <td>12</td>\n",
              "    </tr>\n",
              "    <tr>\n",
              "      <th>day</th>\n",
              "      <td>10</td>\n",
              "      <td>10</td>\n",
              "      <td>10</td>\n",
              "      <td>10</td>\n",
              "      <td>10</td>\n",
              "    </tr>\n",
              "    <tr>\n",
              "      <th>hour</th>\n",
              "      <td>0</td>\n",
              "      <td>1</td>\n",
              "      <td>2</td>\n",
              "      <td>3</td>\n",
              "      <td>4</td>\n",
              "    </tr>\n",
              "    <tr>\n",
              "      <th>dayOfWeek</th>\n",
              "      <td>4</td>\n",
              "      <td>4</td>\n",
              "      <td>4</td>\n",
              "      <td>4</td>\n",
              "      <td>4</td>\n",
              "    </tr>\n",
              "  </tbody>\n",
              "</table>\n",
              "</div>\n",
              "      <button class=\"colab-df-convert\" onclick=\"convertToInteractive('df-d8e90800-164d-4fac-ae51-90ff0872d175')\"\n",
              "              title=\"Convert this dataframe to an interactive table.\"\n",
              "              style=\"display:none;\">\n",
              "        \n",
              "  <svg xmlns=\"http://www.w3.org/2000/svg\" height=\"24px\"viewBox=\"0 0 24 24\"\n",
              "       width=\"24px\">\n",
              "    <path d=\"M0 0h24v24H0V0z\" fill=\"none\"/>\n",
              "    <path d=\"M18.56 5.44l.94 2.06.94-2.06 2.06-.94-2.06-.94-.94-2.06-.94 2.06-2.06.94zm-11 1L8.5 8.5l.94-2.06 2.06-.94-2.06-.94L8.5 2.5l-.94 2.06-2.06.94zm10 10l.94 2.06.94-2.06 2.06-.94-2.06-.94-.94-2.06-.94 2.06-2.06.94z\"/><path d=\"M17.41 7.96l-1.37-1.37c-.4-.4-.92-.59-1.43-.59-.52 0-1.04.2-1.43.59L10.3 9.45l-7.72 7.72c-.78.78-.78 2.05 0 2.83L4 21.41c.39.39.9.59 1.41.59.51 0 1.02-.2 1.41-.59l7.78-7.78 2.81-2.81c.8-.78.8-2.07 0-2.86zM5.41 20L4 18.59l7.72-7.72 1.47 1.35L5.41 20z\"/>\n",
              "  </svg>\n",
              "      </button>\n",
              "      \n",
              "  <style>\n",
              "    .colab-df-container {\n",
              "      display:flex;\n",
              "      flex-wrap:wrap;\n",
              "      gap: 12px;\n",
              "    }\n",
              "\n",
              "    .colab-df-convert {\n",
              "      background-color: #E8F0FE;\n",
              "      border: none;\n",
              "      border-radius: 50%;\n",
              "      cursor: pointer;\n",
              "      display: none;\n",
              "      fill: #1967D2;\n",
              "      height: 32px;\n",
              "      padding: 0 0 0 0;\n",
              "      width: 32px;\n",
              "    }\n",
              "\n",
              "    .colab-df-convert:hover {\n",
              "      background-color: #E2EBFA;\n",
              "      box-shadow: 0px 1px 2px rgba(60, 64, 67, 0.3), 0px 1px 3px 1px rgba(60, 64, 67, 0.15);\n",
              "      fill: #174EA6;\n",
              "    }\n",
              "\n",
              "    [theme=dark] .colab-df-convert {\n",
              "      background-color: #3B4455;\n",
              "      fill: #D2E3FC;\n",
              "    }\n",
              "\n",
              "    [theme=dark] .colab-df-convert:hover {\n",
              "      background-color: #434B5C;\n",
              "      box-shadow: 0px 1px 3px 1px rgba(0, 0, 0, 0.15);\n",
              "      filter: drop-shadow(0px 1px 2px rgba(0, 0, 0, 0.3));\n",
              "      fill: #FFFFFF;\n",
              "    }\n",
              "  </style>\n",
              "\n",
              "      <script>\n",
              "        const buttonEl =\n",
              "          document.querySelector('#df-d8e90800-164d-4fac-ae51-90ff0872d175 button.colab-df-convert');\n",
              "        buttonEl.style.display =\n",
              "          google.colab.kernel.accessAllowed ? 'block' : 'none';\n",
              "\n",
              "        async function convertToInteractive(key) {\n",
              "          const element = document.querySelector('#df-d8e90800-164d-4fac-ae51-90ff0872d175');\n",
              "          const dataTable =\n",
              "            await google.colab.kernel.invokeFunction('convertToInteractive',\n",
              "                                                     [key], {});\n",
              "          if (!dataTable) return;\n",
              "\n",
              "          const docLinkHtml = 'Like what you see? Visit the ' +\n",
              "            '<a target=\"_blank\" href=https://colab.research.google.com/notebooks/data_table.ipynb>data table notebook</a>'\n",
              "            + ' to learn more about interactive tables.';\n",
              "          element.innerHTML = '';\n",
              "          dataTable['output_type'] = 'display_data';\n",
              "          await google.colab.output.renderOutput(dataTable, element);\n",
              "          const docLink = document.createElement('div');\n",
              "          docLink.innerHTML = docLinkHtml;\n",
              "          element.appendChild(docLink);\n",
              "        }\n",
              "      </script>\n",
              "    </div>\n",
              "  </div>\n",
              "  "
            ],
            "text/plain": [
              "                             0            1  ...              3              4\n",
              "name                      Cebu         Cebu  ...           Cebu           Cebu\n",
              "region               Cebu City    Cebu City  ...      Cebu City      Cebu City\n",
              "country            Philippines  Philippines  ...    Philippines    Philippines\n",
              "longitude               123.89       123.89  ...         123.89         123.89\n",
              "latitude                 10.31        10.31  ...          10.31          10.31\n",
              "temp_c                    24.9         24.9  ...           24.8           24.8\n",
              "is_day                       0            0  ...              0              0\n",
              "condition               Cloudy       Cloudy  ...  Partly cloudy  Partly cloudy\n",
              "wind_kph                  15.5         15.4  ...           15.1           15.7\n",
              "wind_degree                358          358  ...            358            240\n",
              "wind_dir                     N            N  ...              N            WSW\n",
              "air_pressure           1011.55      1011.27  ...        1010.72        1009.99\n",
              "precipitation             0.92         0.96  ...           1.03           1.25\n",
              "relative_humidity         88.9        88.23  ...           86.9           86.3\n",
              "cloud                       65           58  ...             43             52\n",
              "feelslike_c               27.6         27.6  ...           27.5           27.4\n",
              "will_it_rain                 0            0  ...              0              0\n",
              "chance_of_rain               0            2  ...              0              1\n",
              "year                      2021         2021  ...           2021           2021\n",
              "month                       12           12  ...             12             12\n",
              "day                         10           10  ...             10             10\n",
              "hour                         0            1  ...              3              4\n",
              "dayOfWeek                    4            4  ...              4              4\n",
              "\n",
              "[23 rows x 5 columns]"
            ]
          },
          "metadata": {},
          "execution_count": 8
        }
      ],
      "source": [
        "x_time = df['time']\n",
        "df.drop(columns=['time'], inplace=True, axis=1)\n",
        "df.head().T"
      ]
    },
    {
      "cell_type": "markdown",
      "metadata": {
        "id": "IlFOLPQO9VPy"
      },
      "source": [
        "## Model driven EDA"
      ]
    },
    {
      "cell_type": "code",
      "execution_count": 9,
      "metadata": {
        "id": "zOLWBiVEBHgX"
      },
      "outputs": [],
      "source": [
        "from sklearn.ensemble import RandomForestRegressor \n",
        "\n",
        "model = RandomForestRegressor(\n",
        "    n_jobs=1,\n",
        "    random_state=42\n",
        ")"
      ]
    },
    {
      "cell_type": "markdown",
      "metadata": {
        "id": "gtvKG3HZBcjc"
      },
      "source": [
        "### Turning data into pandas categories"
      ]
    },
    {
      "cell_type": "code",
      "execution_count": 10,
      "metadata": {
        "colab": {
          "base_uri": "https://localhost:8080/"
        },
        "id": "Nz_ZFSvmBfDt",
        "outputId": "9dfb9352-fa6f-4106-9f06-35c08c880810"
      },
      "outputs": [
        {
          "output_type": "stream",
          "name": "stdout",
          "text": [
            "name\n",
            "region\n",
            "country\n",
            "condition\n",
            "wind_dir\n"
          ]
        }
      ],
      "source": [
        "for label, content in df.items():\n",
        "    if pd.api.types.is_string_dtype(content):\n",
        "        print(label)"
      ]
    },
    {
      "cell_type": "code",
      "execution_count": 11,
      "metadata": {
        "id": "5By1HkPEBnBO"
      },
      "outputs": [],
      "source": [
        "for label, content in df.items(): \n",
        "    if pd.api.types.is_string_dtype(content):\n",
        "        df[label] = content.astype('category').cat.as_ordered()"
      ]
    },
    {
      "cell_type": "code",
      "execution_count": 12,
      "metadata": {
        "colab": {
          "base_uri": "https://localhost:8080/"
        },
        "id": "jn63oXi5B5x8",
        "outputId": "17b28481-4cba-486e-a294-176f01a39d92"
      },
      "outputs": [
        {
          "output_type": "stream",
          "name": "stdout",
          "text": [
            "<class 'pandas.core.frame.DataFrame'>\n",
            "RangeIndex: 528 entries, 0 to 527\n",
            "Data columns (total 23 columns):\n",
            " #   Column             Non-Null Count  Dtype   \n",
            "---  ------             --------------  -----   \n",
            " 0   name               528 non-null    category\n",
            " 1   region             528 non-null    category\n",
            " 2   country            528 non-null    category\n",
            " 3   longitude          528 non-null    float64 \n",
            " 4   latitude           528 non-null    float64 \n",
            " 5   temp_c             528 non-null    float64 \n",
            " 6   is_day             528 non-null    int64   \n",
            " 7   condition          528 non-null    category\n",
            " 8   wind_kph           528 non-null    float64 \n",
            " 9   wind_degree        528 non-null    int64   \n",
            " 10  wind_dir           528 non-null    category\n",
            " 11  air_pressure       528 non-null    float64 \n",
            " 12  precipitation      528 non-null    float64 \n",
            " 13  relative_humidity  528 non-null    float64 \n",
            " 14  cloud              528 non-null    int64   \n",
            " 15  feelslike_c        528 non-null    float64 \n",
            " 16  will_it_rain       528 non-null    int64   \n",
            " 17  chance_of_rain     528 non-null    int64   \n",
            " 18  year               528 non-null    int64   \n",
            " 19  month              528 non-null    int64   \n",
            " 20  day                528 non-null    int64   \n",
            " 21  hour               528 non-null    int64   \n",
            " 22  dayOfWeek          528 non-null    int64   \n",
            "dtypes: category(5), float64(8), int64(10)\n",
            "memory usage: 78.0 KB\n"
          ]
        }
      ],
      "source": [
        "df.info()"
      ]
    },
    {
      "cell_type": "code",
      "execution_count": 13,
      "metadata": {
        "colab": {
          "base_uri": "https://localhost:8080/"
        },
        "id": "_Y5LVTlUB7Di",
        "outputId": "3ad354dd-17be-4fdb-f4cc-2ee5ec8565fb"
      },
      "outputs": [
        {
          "output_type": "stream",
          "name": "stdout",
          "text": [
            "name                 0.0\n",
            "region               0.0\n",
            "country              0.0\n",
            "longitude            0.0\n",
            "latitude             0.0\n",
            "temp_c               0.0\n",
            "is_day               0.0\n",
            "condition            0.0\n",
            "wind_kph             0.0\n",
            "wind_degree          0.0\n",
            "wind_dir             0.0\n",
            "air_pressure         0.0\n",
            "precipitation        0.0\n",
            "relative_humidity    0.0\n",
            "cloud                0.0\n",
            "feelslike_c          0.0\n",
            "will_it_rain         0.0\n",
            "chance_of_rain       0.0\n",
            "year                 0.0\n",
            "month                0.0\n",
            "day                  0.0\n",
            "hour                 0.0\n",
            "dayOfWeek            0.0\n",
            "dtype: float64%\n"
          ]
        }
      ],
      "source": [
        "print(f'{df.isnull().sum() / len(df) * 100}%')"
      ]
    },
    {
      "cell_type": "code",
      "execution_count": 14,
      "metadata": {
        "id": "DZwoN6N0CGoT"
      },
      "outputs": [],
      "source": [
        "\n",
        "\n",
        "# Check if there is any null numeric values\n",
        "for label, content in df.items():\n",
        "    if pd.api.types.is_numeric_dtype(content):\n",
        "        if pd.isnull(content).sum():\n",
        "            print(label)"
      ]
    },
    {
      "cell_type": "code",
      "execution_count": 15,
      "metadata": {
        "colab": {
          "base_uri": "https://localhost:8080/"
        },
        "id": "bXRzy5BvCgsD",
        "outputId": "9e3052d2-28ae-49b1-c496-4cc7ef9abcc5"
      },
      "outputs": [
        {
          "output_type": "stream",
          "name": "stdout",
          "text": [
            "name\n",
            "region\n",
            "country\n",
            "condition\n",
            "wind_dir\n"
          ]
        }
      ],
      "source": [
        "\n",
        "\n",
        "# Check for columns which aren't numeric\n",
        "for label, content in df.items():\n",
        "    if not pd.api.types.is_numeric_dtype(content):\n",
        "        print(label)\n",
        "\n"
      ]
    },
    {
      "cell_type": "code",
      "execution_count": 16,
      "metadata": {
        "id": "1hrMRPtOCk1d"
      },
      "outputs": [],
      "source": [
        "# Turns categorical variables into numbers and fills missing\n",
        "for label, content in df.items():\n",
        "    if not pd.api.types.is_numeric_dtype(content):\n",
        "        #add binary column to indicate whether sample has missing value\n",
        "        df[label+'_is_missing'] = pd.isnull(content)\n",
        "        #turns categories into numbers and add + 1\n",
        "        # Add 1 to avoid having -1 values in the data (ie, missing values)\n",
        "        df[label] = pd.Categorical(content).codes + 1\n"
      ]
    },
    {
      "cell_type": "code",
      "execution_count": 17,
      "metadata": {
        "colab": {
          "base_uri": "https://localhost:8080/"
        },
        "id": "lHcw0vufCy8_",
        "outputId": "3bff29fd-1017-49b6-ac4a-2a79c7a6cbb6"
      },
      "outputs": [
        {
          "output_type": "execute_result",
          "data": {
            "text/plain": [
              "name                    0\n",
              "region                  0\n",
              "country                 0\n",
              "longitude               0\n",
              "latitude                0\n",
              "temp_c                  0\n",
              "is_day                  0\n",
              "condition               0\n",
              "wind_kph                0\n",
              "wind_degree             0\n",
              "wind_dir                0\n",
              "air_pressure            0\n",
              "precipitation           0\n",
              "relative_humidity       0\n",
              "cloud                   0\n",
              "feelslike_c             0\n",
              "will_it_rain            0\n",
              "chance_of_rain          0\n",
              "year                    0\n",
              "month                   0\n",
              "day                     0\n",
              "hour                    0\n",
              "dayOfWeek               0\n",
              "name_is_missing         0\n",
              "region_is_missing       0\n",
              "country_is_missing      0\n",
              "condition_is_missing    0\n",
              "wind_dir_is_missing     0\n",
              "dtype: int64"
            ]
          },
          "metadata": {},
          "execution_count": 17
        }
      ],
      "source": [
        "df.isna().sum()"
      ]
    },
    {
      "cell_type": "code",
      "execution_count": 18,
      "metadata": {
        "colab": {
          "base_uri": "https://localhost:8080/",
          "height": 270
        },
        "id": "cjU77Eo-C03i",
        "outputId": "25799cde-a2ff-437f-e322-e1360a41450e"
      },
      "outputs": [
        {
          "output_type": "execute_result",
          "data": {
            "text/html": [
              "\n",
              "  <div id=\"df-d6886ec7-2e5f-4837-a09f-df5adb5cb0a3\">\n",
              "    <div class=\"colab-df-container\">\n",
              "      <div>\n",
              "<style scoped>\n",
              "    .dataframe tbody tr th:only-of-type {\n",
              "        vertical-align: middle;\n",
              "    }\n",
              "\n",
              "    .dataframe tbody tr th {\n",
              "        vertical-align: top;\n",
              "    }\n",
              "\n",
              "    .dataframe thead th {\n",
              "        text-align: right;\n",
              "    }\n",
              "</style>\n",
              "<table border=\"1\" class=\"dataframe\">\n",
              "  <thead>\n",
              "    <tr style=\"text-align: right;\">\n",
              "      <th></th>\n",
              "      <th>name</th>\n",
              "      <th>region</th>\n",
              "      <th>country</th>\n",
              "      <th>longitude</th>\n",
              "      <th>latitude</th>\n",
              "      <th>temp_c</th>\n",
              "      <th>is_day</th>\n",
              "      <th>condition</th>\n",
              "      <th>wind_kph</th>\n",
              "      <th>wind_degree</th>\n",
              "      <th>wind_dir</th>\n",
              "      <th>air_pressure</th>\n",
              "      <th>precipitation</th>\n",
              "      <th>relative_humidity</th>\n",
              "      <th>cloud</th>\n",
              "      <th>feelslike_c</th>\n",
              "      <th>will_it_rain</th>\n",
              "      <th>chance_of_rain</th>\n",
              "      <th>year</th>\n",
              "      <th>month</th>\n",
              "      <th>day</th>\n",
              "      <th>hour</th>\n",
              "      <th>dayOfWeek</th>\n",
              "      <th>name_is_missing</th>\n",
              "      <th>region_is_missing</th>\n",
              "      <th>country_is_missing</th>\n",
              "      <th>condition_is_missing</th>\n",
              "      <th>wind_dir_is_missing</th>\n",
              "    </tr>\n",
              "  </thead>\n",
              "  <tbody>\n",
              "    <tr>\n",
              "      <th>0</th>\n",
              "      <td>1</td>\n",
              "      <td>1</td>\n",
              "      <td>1</td>\n",
              "      <td>123.89</td>\n",
              "      <td>10.31</td>\n",
              "      <td>24.9</td>\n",
              "      <td>0</td>\n",
              "      <td>2</td>\n",
              "      <td>15.5</td>\n",
              "      <td>358</td>\n",
              "      <td>3</td>\n",
              "      <td>1011.55</td>\n",
              "      <td>0.92</td>\n",
              "      <td>88.90</td>\n",
              "      <td>65</td>\n",
              "      <td>27.6</td>\n",
              "      <td>0</td>\n",
              "      <td>0</td>\n",
              "      <td>2021</td>\n",
              "      <td>12</td>\n",
              "      <td>10</td>\n",
              "      <td>0</td>\n",
              "      <td>4</td>\n",
              "      <td>False</td>\n",
              "      <td>False</td>\n",
              "      <td>False</td>\n",
              "      <td>False</td>\n",
              "      <td>False</td>\n",
              "    </tr>\n",
              "    <tr>\n",
              "      <th>1</th>\n",
              "      <td>1</td>\n",
              "      <td>1</td>\n",
              "      <td>1</td>\n",
              "      <td>123.89</td>\n",
              "      <td>10.31</td>\n",
              "      <td>24.9</td>\n",
              "      <td>0</td>\n",
              "      <td>2</td>\n",
              "      <td>15.4</td>\n",
              "      <td>358</td>\n",
              "      <td>3</td>\n",
              "      <td>1011.27</td>\n",
              "      <td>0.96</td>\n",
              "      <td>88.23</td>\n",
              "      <td>58</td>\n",
              "      <td>27.6</td>\n",
              "      <td>0</td>\n",
              "      <td>2</td>\n",
              "      <td>2021</td>\n",
              "      <td>12</td>\n",
              "      <td>10</td>\n",
              "      <td>1</td>\n",
              "      <td>4</td>\n",
              "      <td>False</td>\n",
              "      <td>False</td>\n",
              "      <td>False</td>\n",
              "      <td>False</td>\n",
              "      <td>False</td>\n",
              "    </tr>\n",
              "    <tr>\n",
              "      <th>2</th>\n",
              "      <td>1</td>\n",
              "      <td>1</td>\n",
              "      <td>1</td>\n",
              "      <td>123.89</td>\n",
              "      <td>10.31</td>\n",
              "      <td>24.8</td>\n",
              "      <td>0</td>\n",
              "      <td>9</td>\n",
              "      <td>15.2</td>\n",
              "      <td>358</td>\n",
              "      <td>3</td>\n",
              "      <td>1010.99</td>\n",
              "      <td>0.99</td>\n",
              "      <td>87.57</td>\n",
              "      <td>50</td>\n",
              "      <td>27.5</td>\n",
              "      <td>0</td>\n",
              "      <td>1</td>\n",
              "      <td>2021</td>\n",
              "      <td>12</td>\n",
              "      <td>10</td>\n",
              "      <td>2</td>\n",
              "      <td>4</td>\n",
              "      <td>False</td>\n",
              "      <td>False</td>\n",
              "      <td>False</td>\n",
              "      <td>False</td>\n",
              "      <td>False</td>\n",
              "    </tr>\n",
              "    <tr>\n",
              "      <th>3</th>\n",
              "      <td>1</td>\n",
              "      <td>1</td>\n",
              "      <td>1</td>\n",
              "      <td>123.89</td>\n",
              "      <td>10.31</td>\n",
              "      <td>24.8</td>\n",
              "      <td>0</td>\n",
              "      <td>9</td>\n",
              "      <td>15.1</td>\n",
              "      <td>358</td>\n",
              "      <td>3</td>\n",
              "      <td>1010.72</td>\n",
              "      <td>1.03</td>\n",
              "      <td>86.90</td>\n",
              "      <td>43</td>\n",
              "      <td>27.5</td>\n",
              "      <td>0</td>\n",
              "      <td>0</td>\n",
              "      <td>2021</td>\n",
              "      <td>12</td>\n",
              "      <td>10</td>\n",
              "      <td>3</td>\n",
              "      <td>4</td>\n",
              "      <td>False</td>\n",
              "      <td>False</td>\n",
              "      <td>False</td>\n",
              "      <td>False</td>\n",
              "      <td>False</td>\n",
              "    </tr>\n",
              "    <tr>\n",
              "      <th>4</th>\n",
              "      <td>1</td>\n",
              "      <td>1</td>\n",
              "      <td>1</td>\n",
              "      <td>123.89</td>\n",
              "      <td>10.31</td>\n",
              "      <td>24.8</td>\n",
              "      <td>0</td>\n",
              "      <td>9</td>\n",
              "      <td>15.7</td>\n",
              "      <td>240</td>\n",
              "      <td>12</td>\n",
              "      <td>1009.99</td>\n",
              "      <td>1.25</td>\n",
              "      <td>86.30</td>\n",
              "      <td>52</td>\n",
              "      <td>27.4</td>\n",
              "      <td>0</td>\n",
              "      <td>1</td>\n",
              "      <td>2021</td>\n",
              "      <td>12</td>\n",
              "      <td>10</td>\n",
              "      <td>4</td>\n",
              "      <td>4</td>\n",
              "      <td>False</td>\n",
              "      <td>False</td>\n",
              "      <td>False</td>\n",
              "      <td>False</td>\n",
              "      <td>False</td>\n",
              "    </tr>\n",
              "  </tbody>\n",
              "</table>\n",
              "</div>\n",
              "      <button class=\"colab-df-convert\" onclick=\"convertToInteractive('df-d6886ec7-2e5f-4837-a09f-df5adb5cb0a3')\"\n",
              "              title=\"Convert this dataframe to an interactive table.\"\n",
              "              style=\"display:none;\">\n",
              "        \n",
              "  <svg xmlns=\"http://www.w3.org/2000/svg\" height=\"24px\"viewBox=\"0 0 24 24\"\n",
              "       width=\"24px\">\n",
              "    <path d=\"M0 0h24v24H0V0z\" fill=\"none\"/>\n",
              "    <path d=\"M18.56 5.44l.94 2.06.94-2.06 2.06-.94-2.06-.94-.94-2.06-.94 2.06-2.06.94zm-11 1L8.5 8.5l.94-2.06 2.06-.94-2.06-.94L8.5 2.5l-.94 2.06-2.06.94zm10 10l.94 2.06.94-2.06 2.06-.94-2.06-.94-.94-2.06-.94 2.06-2.06.94z\"/><path d=\"M17.41 7.96l-1.37-1.37c-.4-.4-.92-.59-1.43-.59-.52 0-1.04.2-1.43.59L10.3 9.45l-7.72 7.72c-.78.78-.78 2.05 0 2.83L4 21.41c.39.39.9.59 1.41.59.51 0 1.02-.2 1.41-.59l7.78-7.78 2.81-2.81c.8-.78.8-2.07 0-2.86zM5.41 20L4 18.59l7.72-7.72 1.47 1.35L5.41 20z\"/>\n",
              "  </svg>\n",
              "      </button>\n",
              "      \n",
              "  <style>\n",
              "    .colab-df-container {\n",
              "      display:flex;\n",
              "      flex-wrap:wrap;\n",
              "      gap: 12px;\n",
              "    }\n",
              "\n",
              "    .colab-df-convert {\n",
              "      background-color: #E8F0FE;\n",
              "      border: none;\n",
              "      border-radius: 50%;\n",
              "      cursor: pointer;\n",
              "      display: none;\n",
              "      fill: #1967D2;\n",
              "      height: 32px;\n",
              "      padding: 0 0 0 0;\n",
              "      width: 32px;\n",
              "    }\n",
              "\n",
              "    .colab-df-convert:hover {\n",
              "      background-color: #E2EBFA;\n",
              "      box-shadow: 0px 1px 2px rgba(60, 64, 67, 0.3), 0px 1px 3px 1px rgba(60, 64, 67, 0.15);\n",
              "      fill: #174EA6;\n",
              "    }\n",
              "\n",
              "    [theme=dark] .colab-df-convert {\n",
              "      background-color: #3B4455;\n",
              "      fill: #D2E3FC;\n",
              "    }\n",
              "\n",
              "    [theme=dark] .colab-df-convert:hover {\n",
              "      background-color: #434B5C;\n",
              "      box-shadow: 0px 1px 3px 1px rgba(0, 0, 0, 0.15);\n",
              "      filter: drop-shadow(0px 1px 2px rgba(0, 0, 0, 0.3));\n",
              "      fill: #FFFFFF;\n",
              "    }\n",
              "  </style>\n",
              "\n",
              "      <script>\n",
              "        const buttonEl =\n",
              "          document.querySelector('#df-d6886ec7-2e5f-4837-a09f-df5adb5cb0a3 button.colab-df-convert');\n",
              "        buttonEl.style.display =\n",
              "          google.colab.kernel.accessAllowed ? 'block' : 'none';\n",
              "\n",
              "        async function convertToInteractive(key) {\n",
              "          const element = document.querySelector('#df-d6886ec7-2e5f-4837-a09f-df5adb5cb0a3');\n",
              "          const dataTable =\n",
              "            await google.colab.kernel.invokeFunction('convertToInteractive',\n",
              "                                                     [key], {});\n",
              "          if (!dataTable) return;\n",
              "\n",
              "          const docLinkHtml = 'Like what you see? Visit the ' +\n",
              "            '<a target=\"_blank\" href=https://colab.research.google.com/notebooks/data_table.ipynb>data table notebook</a>'\n",
              "            + ' to learn more about interactive tables.';\n",
              "          element.innerHTML = '';\n",
              "          dataTable['output_type'] = 'display_data';\n",
              "          await google.colab.output.renderOutput(dataTable, element);\n",
              "          const docLink = document.createElement('div');\n",
              "          docLink.innerHTML = docLinkHtml;\n",
              "          element.appendChild(docLink);\n",
              "        }\n",
              "      </script>\n",
              "    </div>\n",
              "  </div>\n",
              "  "
            ],
            "text/plain": [
              "   name  region  ...  condition_is_missing  wind_dir_is_missing\n",
              "0     1       1  ...                 False                False\n",
              "1     1       1  ...                 False                False\n",
              "2     1       1  ...                 False                False\n",
              "3     1       1  ...                 False                False\n",
              "4     1       1  ...                 False                False\n",
              "\n",
              "[5 rows x 28 columns]"
            ]
          },
          "metadata": {},
          "execution_count": 18
        }
      ],
      "source": [
        "df.head()"
      ]
    },
    {
      "cell_type": "code",
      "execution_count": 19,
      "metadata": {
        "colab": {
          "base_uri": "https://localhost:8080/",
          "height": 270
        },
        "id": "58jPozbqC2Op",
        "outputId": "77110a2a-5850-463d-8716-3858fb04db6c"
      },
      "outputs": [
        {
          "output_type": "execute_result",
          "data": {
            "text/html": [
              "\n",
              "  <div id=\"df-d05fb83a-b47f-4d80-855f-5221618620a5\">\n",
              "    <div class=\"colab-df-container\">\n",
              "      <div>\n",
              "<style scoped>\n",
              "    .dataframe tbody tr th:only-of-type {\n",
              "        vertical-align: middle;\n",
              "    }\n",
              "\n",
              "    .dataframe tbody tr th {\n",
              "        vertical-align: top;\n",
              "    }\n",
              "\n",
              "    .dataframe thead th {\n",
              "        text-align: right;\n",
              "    }\n",
              "</style>\n",
              "<table border=\"1\" class=\"dataframe\">\n",
              "  <thead>\n",
              "    <tr style=\"text-align: right;\">\n",
              "      <th></th>\n",
              "      <th>name</th>\n",
              "      <th>country</th>\n",
              "      <th>longitude</th>\n",
              "      <th>latitude</th>\n",
              "      <th>temp_c</th>\n",
              "      <th>is_day</th>\n",
              "      <th>condition</th>\n",
              "      <th>wind_kph</th>\n",
              "      <th>wind_degree</th>\n",
              "      <th>wind_dir</th>\n",
              "      <th>air_pressure</th>\n",
              "      <th>precipitation</th>\n",
              "      <th>relative_humidity</th>\n",
              "      <th>cloud</th>\n",
              "      <th>feelslike_c</th>\n",
              "      <th>will_it_rain</th>\n",
              "      <th>chance_of_rain</th>\n",
              "      <th>year</th>\n",
              "      <th>month</th>\n",
              "      <th>day</th>\n",
              "      <th>hour</th>\n",
              "      <th>dayOfWeek</th>\n",
              "    </tr>\n",
              "  </thead>\n",
              "  <tbody>\n",
              "    <tr>\n",
              "      <th>0</th>\n",
              "      <td>1</td>\n",
              "      <td>1</td>\n",
              "      <td>123.89</td>\n",
              "      <td>10.31</td>\n",
              "      <td>24.9</td>\n",
              "      <td>0</td>\n",
              "      <td>2</td>\n",
              "      <td>15.5</td>\n",
              "      <td>358</td>\n",
              "      <td>3</td>\n",
              "      <td>1011.55</td>\n",
              "      <td>0.92</td>\n",
              "      <td>88.90</td>\n",
              "      <td>65</td>\n",
              "      <td>27.6</td>\n",
              "      <td>0</td>\n",
              "      <td>0</td>\n",
              "      <td>2021</td>\n",
              "      <td>12</td>\n",
              "      <td>10</td>\n",
              "      <td>0</td>\n",
              "      <td>4</td>\n",
              "    </tr>\n",
              "    <tr>\n",
              "      <th>1</th>\n",
              "      <td>1</td>\n",
              "      <td>1</td>\n",
              "      <td>123.89</td>\n",
              "      <td>10.31</td>\n",
              "      <td>24.9</td>\n",
              "      <td>0</td>\n",
              "      <td>2</td>\n",
              "      <td>15.4</td>\n",
              "      <td>358</td>\n",
              "      <td>3</td>\n",
              "      <td>1011.27</td>\n",
              "      <td>0.96</td>\n",
              "      <td>88.23</td>\n",
              "      <td>58</td>\n",
              "      <td>27.6</td>\n",
              "      <td>0</td>\n",
              "      <td>2</td>\n",
              "      <td>2021</td>\n",
              "      <td>12</td>\n",
              "      <td>10</td>\n",
              "      <td>1</td>\n",
              "      <td>4</td>\n",
              "    </tr>\n",
              "    <tr>\n",
              "      <th>2</th>\n",
              "      <td>1</td>\n",
              "      <td>1</td>\n",
              "      <td>123.89</td>\n",
              "      <td>10.31</td>\n",
              "      <td>24.8</td>\n",
              "      <td>0</td>\n",
              "      <td>9</td>\n",
              "      <td>15.2</td>\n",
              "      <td>358</td>\n",
              "      <td>3</td>\n",
              "      <td>1010.99</td>\n",
              "      <td>0.99</td>\n",
              "      <td>87.57</td>\n",
              "      <td>50</td>\n",
              "      <td>27.5</td>\n",
              "      <td>0</td>\n",
              "      <td>1</td>\n",
              "      <td>2021</td>\n",
              "      <td>12</td>\n",
              "      <td>10</td>\n",
              "      <td>2</td>\n",
              "      <td>4</td>\n",
              "    </tr>\n",
              "    <tr>\n",
              "      <th>3</th>\n",
              "      <td>1</td>\n",
              "      <td>1</td>\n",
              "      <td>123.89</td>\n",
              "      <td>10.31</td>\n",
              "      <td>24.8</td>\n",
              "      <td>0</td>\n",
              "      <td>9</td>\n",
              "      <td>15.1</td>\n",
              "      <td>358</td>\n",
              "      <td>3</td>\n",
              "      <td>1010.72</td>\n",
              "      <td>1.03</td>\n",
              "      <td>86.90</td>\n",
              "      <td>43</td>\n",
              "      <td>27.5</td>\n",
              "      <td>0</td>\n",
              "      <td>0</td>\n",
              "      <td>2021</td>\n",
              "      <td>12</td>\n",
              "      <td>10</td>\n",
              "      <td>3</td>\n",
              "      <td>4</td>\n",
              "    </tr>\n",
              "    <tr>\n",
              "      <th>4</th>\n",
              "      <td>1</td>\n",
              "      <td>1</td>\n",
              "      <td>123.89</td>\n",
              "      <td>10.31</td>\n",
              "      <td>24.8</td>\n",
              "      <td>0</td>\n",
              "      <td>9</td>\n",
              "      <td>15.7</td>\n",
              "      <td>240</td>\n",
              "      <td>12</td>\n",
              "      <td>1009.99</td>\n",
              "      <td>1.25</td>\n",
              "      <td>86.30</td>\n",
              "      <td>52</td>\n",
              "      <td>27.4</td>\n",
              "      <td>0</td>\n",
              "      <td>1</td>\n",
              "      <td>2021</td>\n",
              "      <td>12</td>\n",
              "      <td>10</td>\n",
              "      <td>4</td>\n",
              "      <td>4</td>\n",
              "    </tr>\n",
              "  </tbody>\n",
              "</table>\n",
              "</div>\n",
              "      <button class=\"colab-df-convert\" onclick=\"convertToInteractive('df-d05fb83a-b47f-4d80-855f-5221618620a5')\"\n",
              "              title=\"Convert this dataframe to an interactive table.\"\n",
              "              style=\"display:none;\">\n",
              "        \n",
              "  <svg xmlns=\"http://www.w3.org/2000/svg\" height=\"24px\"viewBox=\"0 0 24 24\"\n",
              "       width=\"24px\">\n",
              "    <path d=\"M0 0h24v24H0V0z\" fill=\"none\"/>\n",
              "    <path d=\"M18.56 5.44l.94 2.06.94-2.06 2.06-.94-2.06-.94-.94-2.06-.94 2.06-2.06.94zm-11 1L8.5 8.5l.94-2.06 2.06-.94-2.06-.94L8.5 2.5l-.94 2.06-2.06.94zm10 10l.94 2.06.94-2.06 2.06-.94-2.06-.94-.94-2.06-.94 2.06-2.06.94z\"/><path d=\"M17.41 7.96l-1.37-1.37c-.4-.4-.92-.59-1.43-.59-.52 0-1.04.2-1.43.59L10.3 9.45l-7.72 7.72c-.78.78-.78 2.05 0 2.83L4 21.41c.39.39.9.59 1.41.59.51 0 1.02-.2 1.41-.59l7.78-7.78 2.81-2.81c.8-.78.8-2.07 0-2.86zM5.41 20L4 18.59l7.72-7.72 1.47 1.35L5.41 20z\"/>\n",
              "  </svg>\n",
              "      </button>\n",
              "      \n",
              "  <style>\n",
              "    .colab-df-container {\n",
              "      display:flex;\n",
              "      flex-wrap:wrap;\n",
              "      gap: 12px;\n",
              "    }\n",
              "\n",
              "    .colab-df-convert {\n",
              "      background-color: #E8F0FE;\n",
              "      border: none;\n",
              "      border-radius: 50%;\n",
              "      cursor: pointer;\n",
              "      display: none;\n",
              "      fill: #1967D2;\n",
              "      height: 32px;\n",
              "      padding: 0 0 0 0;\n",
              "      width: 32px;\n",
              "    }\n",
              "\n",
              "    .colab-df-convert:hover {\n",
              "      background-color: #E2EBFA;\n",
              "      box-shadow: 0px 1px 2px rgba(60, 64, 67, 0.3), 0px 1px 3px 1px rgba(60, 64, 67, 0.15);\n",
              "      fill: #174EA6;\n",
              "    }\n",
              "\n",
              "    [theme=dark] .colab-df-convert {\n",
              "      background-color: #3B4455;\n",
              "      fill: #D2E3FC;\n",
              "    }\n",
              "\n",
              "    [theme=dark] .colab-df-convert:hover {\n",
              "      background-color: #434B5C;\n",
              "      box-shadow: 0px 1px 3px 1px rgba(0, 0, 0, 0.15);\n",
              "      filter: drop-shadow(0px 1px 2px rgba(0, 0, 0, 0.3));\n",
              "      fill: #FFFFFF;\n",
              "    }\n",
              "  </style>\n",
              "\n",
              "      <script>\n",
              "        const buttonEl =\n",
              "          document.querySelector('#df-d05fb83a-b47f-4d80-855f-5221618620a5 button.colab-df-convert');\n",
              "        buttonEl.style.display =\n",
              "          google.colab.kernel.accessAllowed ? 'block' : 'none';\n",
              "\n",
              "        async function convertToInteractive(key) {\n",
              "          const element = document.querySelector('#df-d05fb83a-b47f-4d80-855f-5221618620a5');\n",
              "          const dataTable =\n",
              "            await google.colab.kernel.invokeFunction('convertToInteractive',\n",
              "                                                     [key], {});\n",
              "          if (!dataTable) return;\n",
              "\n",
              "          const docLinkHtml = 'Like what you see? Visit the ' +\n",
              "            '<a target=\"_blank\" href=https://colab.research.google.com/notebooks/data_table.ipynb>data table notebook</a>'\n",
              "            + ' to learn more about interactive tables.';\n",
              "          element.innerHTML = '';\n",
              "          dataTable['output_type'] = 'display_data';\n",
              "          await google.colab.output.renderOutput(dataTable, element);\n",
              "          const docLink = document.createElement('div');\n",
              "          docLink.innerHTML = docLinkHtml;\n",
              "          element.appendChild(docLink);\n",
              "        }\n",
              "      </script>\n",
              "    </div>\n",
              "  </div>\n",
              "  "
            ],
            "text/plain": [
              "   name  country  longitude  latitude  ...  month  day  hour  dayOfWeek\n",
              "0     1        1     123.89     10.31  ...     12   10     0          4\n",
              "1     1        1     123.89     10.31  ...     12   10     1          4\n",
              "2     1        1     123.89     10.31  ...     12   10     2          4\n",
              "3     1        1     123.89     10.31  ...     12   10     3          4\n",
              "4     1        1     123.89     10.31  ...     12   10     4          4\n",
              "\n",
              "[5 rows x 22 columns]"
            ]
          },
          "metadata": {},
          "execution_count": 19
        }
      ],
      "source": [
        "df.drop(columns=['region', 'region_is_missing', 'name_is_missing', 'country_is_missing', 'condition_is_missing', 'wind_dir_is_missing'], inplace=True, axis=1)\n",
        "\n",
        "df.head()"
      ]
    },
    {
      "cell_type": "markdown",
      "metadata": {
        "id": "0jashT4ADXIM"
      },
      "source": [
        "### Train and Test Sets"
      ]
    },
    {
      "cell_type": "code",
      "source": [
        "HORIZON = 1\n",
        "WINDOW = 7\n",
        "\n",
        "for i in range(WINDOW): # Shift values for each step in WINDOW_SIZE\n",
        "    df[f\"precipitation+{i+1}\"] = df[\"precipitation\"].shift(periods=i+1)\n",
        "df.head()"
      ],
      "metadata": {
        "colab": {
          "base_uri": "https://localhost:8080/",
          "height": 270
        },
        "id": "0Bq7n882rZvO",
        "outputId": "228360b7-4889-4eb9-f57d-dabb05c980cf"
      },
      "execution_count": 20,
      "outputs": [
        {
          "output_type": "execute_result",
          "data": {
            "text/html": [
              "\n",
              "  <div id=\"df-7ad82a19-5f0e-4da6-807c-da3a15a2b949\">\n",
              "    <div class=\"colab-df-container\">\n",
              "      <div>\n",
              "<style scoped>\n",
              "    .dataframe tbody tr th:only-of-type {\n",
              "        vertical-align: middle;\n",
              "    }\n",
              "\n",
              "    .dataframe tbody tr th {\n",
              "        vertical-align: top;\n",
              "    }\n",
              "\n",
              "    .dataframe thead th {\n",
              "        text-align: right;\n",
              "    }\n",
              "</style>\n",
              "<table border=\"1\" class=\"dataframe\">\n",
              "  <thead>\n",
              "    <tr style=\"text-align: right;\">\n",
              "      <th></th>\n",
              "      <th>name</th>\n",
              "      <th>country</th>\n",
              "      <th>longitude</th>\n",
              "      <th>latitude</th>\n",
              "      <th>temp_c</th>\n",
              "      <th>is_day</th>\n",
              "      <th>condition</th>\n",
              "      <th>wind_kph</th>\n",
              "      <th>wind_degree</th>\n",
              "      <th>wind_dir</th>\n",
              "      <th>air_pressure</th>\n",
              "      <th>precipitation</th>\n",
              "      <th>relative_humidity</th>\n",
              "      <th>cloud</th>\n",
              "      <th>feelslike_c</th>\n",
              "      <th>will_it_rain</th>\n",
              "      <th>chance_of_rain</th>\n",
              "      <th>year</th>\n",
              "      <th>month</th>\n",
              "      <th>day</th>\n",
              "      <th>hour</th>\n",
              "      <th>dayOfWeek</th>\n",
              "      <th>precipitation+1</th>\n",
              "      <th>precipitation+2</th>\n",
              "      <th>precipitation+3</th>\n",
              "      <th>precipitation+4</th>\n",
              "      <th>precipitation+5</th>\n",
              "      <th>precipitation+6</th>\n",
              "      <th>precipitation+7</th>\n",
              "    </tr>\n",
              "  </thead>\n",
              "  <tbody>\n",
              "    <tr>\n",
              "      <th>0</th>\n",
              "      <td>1</td>\n",
              "      <td>1</td>\n",
              "      <td>123.89</td>\n",
              "      <td>10.31</td>\n",
              "      <td>24.9</td>\n",
              "      <td>0</td>\n",
              "      <td>2</td>\n",
              "      <td>15.5</td>\n",
              "      <td>358</td>\n",
              "      <td>3</td>\n",
              "      <td>1011.55</td>\n",
              "      <td>0.92</td>\n",
              "      <td>88.90</td>\n",
              "      <td>65</td>\n",
              "      <td>27.6</td>\n",
              "      <td>0</td>\n",
              "      <td>0</td>\n",
              "      <td>2021</td>\n",
              "      <td>12</td>\n",
              "      <td>10</td>\n",
              "      <td>0</td>\n",
              "      <td>4</td>\n",
              "      <td>NaN</td>\n",
              "      <td>NaN</td>\n",
              "      <td>NaN</td>\n",
              "      <td>NaN</td>\n",
              "      <td>NaN</td>\n",
              "      <td>NaN</td>\n",
              "      <td>NaN</td>\n",
              "    </tr>\n",
              "    <tr>\n",
              "      <th>1</th>\n",
              "      <td>1</td>\n",
              "      <td>1</td>\n",
              "      <td>123.89</td>\n",
              "      <td>10.31</td>\n",
              "      <td>24.9</td>\n",
              "      <td>0</td>\n",
              "      <td>2</td>\n",
              "      <td>15.4</td>\n",
              "      <td>358</td>\n",
              "      <td>3</td>\n",
              "      <td>1011.27</td>\n",
              "      <td>0.96</td>\n",
              "      <td>88.23</td>\n",
              "      <td>58</td>\n",
              "      <td>27.6</td>\n",
              "      <td>0</td>\n",
              "      <td>2</td>\n",
              "      <td>2021</td>\n",
              "      <td>12</td>\n",
              "      <td>10</td>\n",
              "      <td>1</td>\n",
              "      <td>4</td>\n",
              "      <td>0.92</td>\n",
              "      <td>NaN</td>\n",
              "      <td>NaN</td>\n",
              "      <td>NaN</td>\n",
              "      <td>NaN</td>\n",
              "      <td>NaN</td>\n",
              "      <td>NaN</td>\n",
              "    </tr>\n",
              "    <tr>\n",
              "      <th>2</th>\n",
              "      <td>1</td>\n",
              "      <td>1</td>\n",
              "      <td>123.89</td>\n",
              "      <td>10.31</td>\n",
              "      <td>24.8</td>\n",
              "      <td>0</td>\n",
              "      <td>9</td>\n",
              "      <td>15.2</td>\n",
              "      <td>358</td>\n",
              "      <td>3</td>\n",
              "      <td>1010.99</td>\n",
              "      <td>0.99</td>\n",
              "      <td>87.57</td>\n",
              "      <td>50</td>\n",
              "      <td>27.5</td>\n",
              "      <td>0</td>\n",
              "      <td>1</td>\n",
              "      <td>2021</td>\n",
              "      <td>12</td>\n",
              "      <td>10</td>\n",
              "      <td>2</td>\n",
              "      <td>4</td>\n",
              "      <td>0.96</td>\n",
              "      <td>0.92</td>\n",
              "      <td>NaN</td>\n",
              "      <td>NaN</td>\n",
              "      <td>NaN</td>\n",
              "      <td>NaN</td>\n",
              "      <td>NaN</td>\n",
              "    </tr>\n",
              "    <tr>\n",
              "      <th>3</th>\n",
              "      <td>1</td>\n",
              "      <td>1</td>\n",
              "      <td>123.89</td>\n",
              "      <td>10.31</td>\n",
              "      <td>24.8</td>\n",
              "      <td>0</td>\n",
              "      <td>9</td>\n",
              "      <td>15.1</td>\n",
              "      <td>358</td>\n",
              "      <td>3</td>\n",
              "      <td>1010.72</td>\n",
              "      <td>1.03</td>\n",
              "      <td>86.90</td>\n",
              "      <td>43</td>\n",
              "      <td>27.5</td>\n",
              "      <td>0</td>\n",
              "      <td>0</td>\n",
              "      <td>2021</td>\n",
              "      <td>12</td>\n",
              "      <td>10</td>\n",
              "      <td>3</td>\n",
              "      <td>4</td>\n",
              "      <td>0.99</td>\n",
              "      <td>0.96</td>\n",
              "      <td>0.92</td>\n",
              "      <td>NaN</td>\n",
              "      <td>NaN</td>\n",
              "      <td>NaN</td>\n",
              "      <td>NaN</td>\n",
              "    </tr>\n",
              "    <tr>\n",
              "      <th>4</th>\n",
              "      <td>1</td>\n",
              "      <td>1</td>\n",
              "      <td>123.89</td>\n",
              "      <td>10.31</td>\n",
              "      <td>24.8</td>\n",
              "      <td>0</td>\n",
              "      <td>9</td>\n",
              "      <td>15.7</td>\n",
              "      <td>240</td>\n",
              "      <td>12</td>\n",
              "      <td>1009.99</td>\n",
              "      <td>1.25</td>\n",
              "      <td>86.30</td>\n",
              "      <td>52</td>\n",
              "      <td>27.4</td>\n",
              "      <td>0</td>\n",
              "      <td>1</td>\n",
              "      <td>2021</td>\n",
              "      <td>12</td>\n",
              "      <td>10</td>\n",
              "      <td>4</td>\n",
              "      <td>4</td>\n",
              "      <td>1.03</td>\n",
              "      <td>0.99</td>\n",
              "      <td>0.96</td>\n",
              "      <td>0.92</td>\n",
              "      <td>NaN</td>\n",
              "      <td>NaN</td>\n",
              "      <td>NaN</td>\n",
              "    </tr>\n",
              "  </tbody>\n",
              "</table>\n",
              "</div>\n",
              "      <button class=\"colab-df-convert\" onclick=\"convertToInteractive('df-7ad82a19-5f0e-4da6-807c-da3a15a2b949')\"\n",
              "              title=\"Convert this dataframe to an interactive table.\"\n",
              "              style=\"display:none;\">\n",
              "        \n",
              "  <svg xmlns=\"http://www.w3.org/2000/svg\" height=\"24px\"viewBox=\"0 0 24 24\"\n",
              "       width=\"24px\">\n",
              "    <path d=\"M0 0h24v24H0V0z\" fill=\"none\"/>\n",
              "    <path d=\"M18.56 5.44l.94 2.06.94-2.06 2.06-.94-2.06-.94-.94-2.06-.94 2.06-2.06.94zm-11 1L8.5 8.5l.94-2.06 2.06-.94-2.06-.94L8.5 2.5l-.94 2.06-2.06.94zm10 10l.94 2.06.94-2.06 2.06-.94-2.06-.94-.94-2.06-.94 2.06-2.06.94z\"/><path d=\"M17.41 7.96l-1.37-1.37c-.4-.4-.92-.59-1.43-.59-.52 0-1.04.2-1.43.59L10.3 9.45l-7.72 7.72c-.78.78-.78 2.05 0 2.83L4 21.41c.39.39.9.59 1.41.59.51 0 1.02-.2 1.41-.59l7.78-7.78 2.81-2.81c.8-.78.8-2.07 0-2.86zM5.41 20L4 18.59l7.72-7.72 1.47 1.35L5.41 20z\"/>\n",
              "  </svg>\n",
              "      </button>\n",
              "      \n",
              "  <style>\n",
              "    .colab-df-container {\n",
              "      display:flex;\n",
              "      flex-wrap:wrap;\n",
              "      gap: 12px;\n",
              "    }\n",
              "\n",
              "    .colab-df-convert {\n",
              "      background-color: #E8F0FE;\n",
              "      border: none;\n",
              "      border-radius: 50%;\n",
              "      cursor: pointer;\n",
              "      display: none;\n",
              "      fill: #1967D2;\n",
              "      height: 32px;\n",
              "      padding: 0 0 0 0;\n",
              "      width: 32px;\n",
              "    }\n",
              "\n",
              "    .colab-df-convert:hover {\n",
              "      background-color: #E2EBFA;\n",
              "      box-shadow: 0px 1px 2px rgba(60, 64, 67, 0.3), 0px 1px 3px 1px rgba(60, 64, 67, 0.15);\n",
              "      fill: #174EA6;\n",
              "    }\n",
              "\n",
              "    [theme=dark] .colab-df-convert {\n",
              "      background-color: #3B4455;\n",
              "      fill: #D2E3FC;\n",
              "    }\n",
              "\n",
              "    [theme=dark] .colab-df-convert:hover {\n",
              "      background-color: #434B5C;\n",
              "      box-shadow: 0px 1px 3px 1px rgba(0, 0, 0, 0.15);\n",
              "      filter: drop-shadow(0px 1px 2px rgba(0, 0, 0, 0.3));\n",
              "      fill: #FFFFFF;\n",
              "    }\n",
              "  </style>\n",
              "\n",
              "      <script>\n",
              "        const buttonEl =\n",
              "          document.querySelector('#df-7ad82a19-5f0e-4da6-807c-da3a15a2b949 button.colab-df-convert');\n",
              "        buttonEl.style.display =\n",
              "          google.colab.kernel.accessAllowed ? 'block' : 'none';\n",
              "\n",
              "        async function convertToInteractive(key) {\n",
              "          const element = document.querySelector('#df-7ad82a19-5f0e-4da6-807c-da3a15a2b949');\n",
              "          const dataTable =\n",
              "            await google.colab.kernel.invokeFunction('convertToInteractive',\n",
              "                                                     [key], {});\n",
              "          if (!dataTable) return;\n",
              "\n",
              "          const docLinkHtml = 'Like what you see? Visit the ' +\n",
              "            '<a target=\"_blank\" href=https://colab.research.google.com/notebooks/data_table.ipynb>data table notebook</a>'\n",
              "            + ' to learn more about interactive tables.';\n",
              "          element.innerHTML = '';\n",
              "          dataTable['output_type'] = 'display_data';\n",
              "          await google.colab.output.renderOutput(dataTable, element);\n",
              "          const docLink = document.createElement('div');\n",
              "          docLink.innerHTML = docLinkHtml;\n",
              "          element.appendChild(docLink);\n",
              "        }\n",
              "      </script>\n",
              "    </div>\n",
              "  </div>\n",
              "  "
            ],
            "text/plain": [
              "   name  country  longitude  ...  precipitation+5  precipitation+6  precipitation+7\n",
              "0     1        1     123.89  ...              NaN              NaN              NaN\n",
              "1     1        1     123.89  ...              NaN              NaN              NaN\n",
              "2     1        1     123.89  ...              NaN              NaN              NaN\n",
              "3     1        1     123.89  ...              NaN              NaN              NaN\n",
              "4     1        1     123.89  ...              NaN              NaN              NaN\n",
              "\n",
              "[5 rows x 29 columns]"
            ]
          },
          "metadata": {},
          "execution_count": 20
        }
      ]
    },
    {
      "cell_type": "code",
      "execution_count": 21,
      "metadata": {
        "colab": {
          "base_uri": "https://localhost:8080/",
          "height": 270
        },
        "id": "z531RQt9HafZ",
        "outputId": "ea0c7edd-fce5-4513-8bb4-289ee7a1564a"
      },
      "outputs": [
        {
          "output_type": "execute_result",
          "data": {
            "text/html": [
              "\n",
              "  <div id=\"df-ed187b52-b4e0-4d6b-84e7-903afc7080a1\">\n",
              "    <div class=\"colab-df-container\">\n",
              "      <div>\n",
              "<style scoped>\n",
              "    .dataframe tbody tr th:only-of-type {\n",
              "        vertical-align: middle;\n",
              "    }\n",
              "\n",
              "    .dataframe tbody tr th {\n",
              "        vertical-align: top;\n",
              "    }\n",
              "\n",
              "    .dataframe thead th {\n",
              "        text-align: right;\n",
              "    }\n",
              "</style>\n",
              "<table border=\"1\" class=\"dataframe\">\n",
              "  <thead>\n",
              "    <tr style=\"text-align: right;\">\n",
              "      <th></th>\n",
              "      <th>name</th>\n",
              "      <th>country</th>\n",
              "      <th>longitude</th>\n",
              "      <th>latitude</th>\n",
              "      <th>temp_c</th>\n",
              "      <th>is_day</th>\n",
              "      <th>condition</th>\n",
              "      <th>wind_kph</th>\n",
              "      <th>wind_degree</th>\n",
              "      <th>wind_dir</th>\n",
              "      <th>air_pressure</th>\n",
              "      <th>relative_humidity</th>\n",
              "      <th>cloud</th>\n",
              "      <th>feelslike_c</th>\n",
              "      <th>will_it_rain</th>\n",
              "      <th>chance_of_rain</th>\n",
              "      <th>year</th>\n",
              "      <th>month</th>\n",
              "      <th>day</th>\n",
              "      <th>hour</th>\n",
              "      <th>dayOfWeek</th>\n",
              "      <th>precipitation+1</th>\n",
              "      <th>precipitation+2</th>\n",
              "      <th>precipitation+3</th>\n",
              "      <th>precipitation+4</th>\n",
              "      <th>precipitation+5</th>\n",
              "      <th>precipitation+6</th>\n",
              "      <th>precipitation+7</th>\n",
              "    </tr>\n",
              "  </thead>\n",
              "  <tbody>\n",
              "    <tr>\n",
              "      <th>7</th>\n",
              "      <td>1.0</td>\n",
              "      <td>1.0</td>\n",
              "      <td>123.889999</td>\n",
              "      <td>10.31</td>\n",
              "      <td>25.700001</td>\n",
              "      <td>1.0</td>\n",
              "      <td>2.0</td>\n",
              "      <td>19.299999</td>\n",
              "      <td>11.0</td>\n",
              "      <td>5.0</td>\n",
              "      <td>1008.630005</td>\n",
              "      <td>86.930000</td>\n",
              "      <td>72.0</td>\n",
              "      <td>28.799999</td>\n",
              "      <td>0.0</td>\n",
              "      <td>2.0</td>\n",
              "      <td>2021.0</td>\n",
              "      <td>12.0</td>\n",
              "      <td>10.0</td>\n",
              "      <td>7.0</td>\n",
              "      <td>4.0</td>\n",
              "      <td>1.70</td>\n",
              "      <td>1.48</td>\n",
              "      <td>1.25</td>\n",
              "      <td>1.03</td>\n",
              "      <td>0.99</td>\n",
              "      <td>0.96</td>\n",
              "      <td>0.92</td>\n",
              "    </tr>\n",
              "    <tr>\n",
              "      <th>8</th>\n",
              "      <td>1.0</td>\n",
              "      <td>1.0</td>\n",
              "      <td>123.889999</td>\n",
              "      <td>10.31</td>\n",
              "      <td>26.799999</td>\n",
              "      <td>1.0</td>\n",
              "      <td>2.0</td>\n",
              "      <td>21.700001</td>\n",
              "      <td>15.0</td>\n",
              "      <td>5.0</td>\n",
              "      <td>1008.729980</td>\n",
              "      <td>88.769997</td>\n",
              "      <td>74.0</td>\n",
              "      <td>30.299999</td>\n",
              "      <td>0.0</td>\n",
              "      <td>2.0</td>\n",
              "      <td>2021.0</td>\n",
              "      <td>12.0</td>\n",
              "      <td>10.0</td>\n",
              "      <td>8.0</td>\n",
              "      <td>4.0</td>\n",
              "      <td>1.88</td>\n",
              "      <td>1.70</td>\n",
              "      <td>1.48</td>\n",
              "      <td>1.25</td>\n",
              "      <td>1.03</td>\n",
              "      <td>0.99</td>\n",
              "      <td>0.96</td>\n",
              "    </tr>\n",
              "    <tr>\n",
              "      <th>9</th>\n",
              "      <td>1.0</td>\n",
              "      <td>1.0</td>\n",
              "      <td>123.889999</td>\n",
              "      <td>10.31</td>\n",
              "      <td>27.799999</td>\n",
              "      <td>1.0</td>\n",
              "      <td>2.0</td>\n",
              "      <td>24.100000</td>\n",
              "      <td>20.0</td>\n",
              "      <td>5.0</td>\n",
              "      <td>1008.840027</td>\n",
              "      <td>90.599998</td>\n",
              "      <td>76.0</td>\n",
              "      <td>31.799999</td>\n",
              "      <td>0.0</td>\n",
              "      <td>0.0</td>\n",
              "      <td>2021.0</td>\n",
              "      <td>12.0</td>\n",
              "      <td>10.0</td>\n",
              "      <td>9.0</td>\n",
              "      <td>4.0</td>\n",
              "      <td>2.06</td>\n",
              "      <td>1.88</td>\n",
              "      <td>1.70</td>\n",
              "      <td>1.48</td>\n",
              "      <td>1.25</td>\n",
              "      <td>1.03</td>\n",
              "      <td>0.99</td>\n",
              "    </tr>\n",
              "    <tr>\n",
              "      <th>10</th>\n",
              "      <td>1.0</td>\n",
              "      <td>1.0</td>\n",
              "      <td>123.889999</td>\n",
              "      <td>10.31</td>\n",
              "      <td>28.200001</td>\n",
              "      <td>1.0</td>\n",
              "      <td>2.0</td>\n",
              "      <td>24.100000</td>\n",
              "      <td>21.0</td>\n",
              "      <td>5.0</td>\n",
              "      <td>1009.489990</td>\n",
              "      <td>90.730003</td>\n",
              "      <td>74.0</td>\n",
              "      <td>32.500000</td>\n",
              "      <td>0.0</td>\n",
              "      <td>2.0</td>\n",
              "      <td>2021.0</td>\n",
              "      <td>12.0</td>\n",
              "      <td>10.0</td>\n",
              "      <td>10.0</td>\n",
              "      <td>4.0</td>\n",
              "      <td>2.24</td>\n",
              "      <td>2.06</td>\n",
              "      <td>1.88</td>\n",
              "      <td>1.70</td>\n",
              "      <td>1.48</td>\n",
              "      <td>1.25</td>\n",
              "      <td>1.03</td>\n",
              "    </tr>\n",
              "    <tr>\n",
              "      <th>11</th>\n",
              "      <td>1.0</td>\n",
              "      <td>1.0</td>\n",
              "      <td>123.889999</td>\n",
              "      <td>10.31</td>\n",
              "      <td>28.500000</td>\n",
              "      <td>1.0</td>\n",
              "      <td>2.0</td>\n",
              "      <td>24.100000</td>\n",
              "      <td>22.0</td>\n",
              "      <td>5.0</td>\n",
              "      <td>1010.140015</td>\n",
              "      <td>90.870003</td>\n",
              "      <td>72.0</td>\n",
              "      <td>33.200001</td>\n",
              "      <td>0.0</td>\n",
              "      <td>2.0</td>\n",
              "      <td>2021.0</td>\n",
              "      <td>12.0</td>\n",
              "      <td>10.0</td>\n",
              "      <td>11.0</td>\n",
              "      <td>4.0</td>\n",
              "      <td>1.77</td>\n",
              "      <td>2.24</td>\n",
              "      <td>2.06</td>\n",
              "      <td>1.88</td>\n",
              "      <td>1.70</td>\n",
              "      <td>1.48</td>\n",
              "      <td>1.25</td>\n",
              "    </tr>\n",
              "  </tbody>\n",
              "</table>\n",
              "</div>\n",
              "      <button class=\"colab-df-convert\" onclick=\"convertToInteractive('df-ed187b52-b4e0-4d6b-84e7-903afc7080a1')\"\n",
              "              title=\"Convert this dataframe to an interactive table.\"\n",
              "              style=\"display:none;\">\n",
              "        \n",
              "  <svg xmlns=\"http://www.w3.org/2000/svg\" height=\"24px\"viewBox=\"0 0 24 24\"\n",
              "       width=\"24px\">\n",
              "    <path d=\"M0 0h24v24H0V0z\" fill=\"none\"/>\n",
              "    <path d=\"M18.56 5.44l.94 2.06.94-2.06 2.06-.94-2.06-.94-.94-2.06-.94 2.06-2.06.94zm-11 1L8.5 8.5l.94-2.06 2.06-.94-2.06-.94L8.5 2.5l-.94 2.06-2.06.94zm10 10l.94 2.06.94-2.06 2.06-.94-2.06-.94-.94-2.06-.94 2.06-2.06.94z\"/><path d=\"M17.41 7.96l-1.37-1.37c-.4-.4-.92-.59-1.43-.59-.52 0-1.04.2-1.43.59L10.3 9.45l-7.72 7.72c-.78.78-.78 2.05 0 2.83L4 21.41c.39.39.9.59 1.41.59.51 0 1.02-.2 1.41-.59l7.78-7.78 2.81-2.81c.8-.78.8-2.07 0-2.86zM5.41 20L4 18.59l7.72-7.72 1.47 1.35L5.41 20z\"/>\n",
              "  </svg>\n",
              "      </button>\n",
              "      \n",
              "  <style>\n",
              "    .colab-df-container {\n",
              "      display:flex;\n",
              "      flex-wrap:wrap;\n",
              "      gap: 12px;\n",
              "    }\n",
              "\n",
              "    .colab-df-convert {\n",
              "      background-color: #E8F0FE;\n",
              "      border: none;\n",
              "      border-radius: 50%;\n",
              "      cursor: pointer;\n",
              "      display: none;\n",
              "      fill: #1967D2;\n",
              "      height: 32px;\n",
              "      padding: 0 0 0 0;\n",
              "      width: 32px;\n",
              "    }\n",
              "\n",
              "    .colab-df-convert:hover {\n",
              "      background-color: #E2EBFA;\n",
              "      box-shadow: 0px 1px 2px rgba(60, 64, 67, 0.3), 0px 1px 3px 1px rgba(60, 64, 67, 0.15);\n",
              "      fill: #174EA6;\n",
              "    }\n",
              "\n",
              "    [theme=dark] .colab-df-convert {\n",
              "      background-color: #3B4455;\n",
              "      fill: #D2E3FC;\n",
              "    }\n",
              "\n",
              "    [theme=dark] .colab-df-convert:hover {\n",
              "      background-color: #434B5C;\n",
              "      box-shadow: 0px 1px 3px 1px rgba(0, 0, 0, 0.15);\n",
              "      filter: drop-shadow(0px 1px 2px rgba(0, 0, 0, 0.3));\n",
              "      fill: #FFFFFF;\n",
              "    }\n",
              "  </style>\n",
              "\n",
              "      <script>\n",
              "        const buttonEl =\n",
              "          document.querySelector('#df-ed187b52-b4e0-4d6b-84e7-903afc7080a1 button.colab-df-convert');\n",
              "        buttonEl.style.display =\n",
              "          google.colab.kernel.accessAllowed ? 'block' : 'none';\n",
              "\n",
              "        async function convertToInteractive(key) {\n",
              "          const element = document.querySelector('#df-ed187b52-b4e0-4d6b-84e7-903afc7080a1');\n",
              "          const dataTable =\n",
              "            await google.colab.kernel.invokeFunction('convertToInteractive',\n",
              "                                                     [key], {});\n",
              "          if (!dataTable) return;\n",
              "\n",
              "          const docLinkHtml = 'Like what you see? Visit the ' +\n",
              "            '<a target=\"_blank\" href=https://colab.research.google.com/notebooks/data_table.ipynb>data table notebook</a>'\n",
              "            + ' to learn more about interactive tables.';\n",
              "          element.innerHTML = '';\n",
              "          dataTable['output_type'] = 'display_data';\n",
              "          await google.colab.output.renderOutput(dataTable, element);\n",
              "          const docLink = document.createElement('div');\n",
              "          docLink.innerHTML = docLinkHtml;\n",
              "          element.appendChild(docLink);\n",
              "        }\n",
              "      </script>\n",
              "    </div>\n",
              "  </div>\n",
              "  "
            ],
            "text/plain": [
              "    name  country  ...  precipitation+6  precipitation+7\n",
              "7    1.0      1.0  ...             0.96             0.92\n",
              "8    1.0      1.0  ...             0.99             0.96\n",
              "9    1.0      1.0  ...             1.03             0.99\n",
              "10   1.0      1.0  ...             1.25             1.03\n",
              "11   1.0      1.0  ...             1.48             1.25\n",
              "\n",
              "[5 rows x 28 columns]"
            ]
          },
          "metadata": {},
          "execution_count": 21
        }
      ],
      "source": [
        "X = df.dropna().drop(\"precipitation\", axis=1).astype(np.float32) \n",
        "y = df.dropna()[\"precipitation\"].astype(np.float32)\n",
        "X.head()"
      ]
    },
    {
      "cell_type": "code",
      "execution_count": 22,
      "metadata": {
        "colab": {
          "base_uri": "https://localhost:8080/"
        },
        "id": "AFirdVtpHsb-",
        "outputId": "276ff7b3-49f4-49c5-dc05-e226efcebefd"
      },
      "outputs": [
        {
          "output_type": "execute_result",
          "data": {
            "text/plain": [
              "7     1.88\n",
              "8     2.06\n",
              "9     2.24\n",
              "10    1.77\n",
              "11    1.31\n",
              "Name: precipitation, dtype: float32"
            ]
          },
          "metadata": {},
          "execution_count": 22
        }
      ],
      "source": [
        "y.head()"
      ]
    },
    {
      "cell_type": "code",
      "execution_count": 23,
      "metadata": {
        "colab": {
          "base_uri": "https://localhost:8080/"
        },
        "id": "AxuiCiy0H3yQ",
        "outputId": "36b7ec10-e1ba-4145-8ef5-6463e213e07a"
      },
      "outputs": [
        {
          "output_type": "execute_result",
          "data": {
            "text/plain": [
              "(416, 416, 105, 105, 416, 105)"
            ]
          },
          "metadata": {},
          "execution_count": 23
        }
      ],
      "source": [
        "# Make train and test sets\n",
        "split_size = int(len(X) * 0.8)\n",
        "X_train, y_train = X[:split_size], y[:split_size]\n",
        "X_columns = X.columns\n",
        "X_time_train, X_time_test = x_time[:split_size], x_time[split_size:]\n",
        "X_time_test = X_time_test[7:]\n",
        "X_test, y_test = X[split_size:], y[split_size:]\n",
        "len(X_train), len(y_train), len(X_test), len(y_test), len(X_time_train), len(X_time_test)"
      ]
    },
    {
      "cell_type": "markdown",
      "metadata": {
        "id": "PTsSLqVTH-Qm"
      },
      "source": [
        "### Baseline model"
      ]
    },
    {
      "cell_type": "code",
      "execution_count": 24,
      "metadata": {
        "colab": {
          "base_uri": "https://localhost:8080/"
        },
        "id": "NZp1oNuYIx5A",
        "outputId": "73665318-7d93-4b9b-f501-9a61d7e7a5ca"
      },
      "outputs": [
        {
          "output_type": "execute_result",
          "data": {
            "text/plain": [
              "(423    0.07\n",
              " 424    0.06\n",
              " 425    0.04\n",
              " 426    0.03\n",
              " 427    0.04\n",
              " 428    0.05\n",
              " 429    0.07\n",
              " 430    0.07\n",
              " 431    0.07\n",
              " 432    0.07\n",
              " Name: precipitation, dtype: float32, 517    1.97\n",
              " 518    1.93\n",
              " 519    1.89\n",
              " 520    1.61\n",
              " 521    1.33\n",
              " 522    1.05\n",
              " 523    0.95\n",
              " 524    0.84\n",
              " 525    0.73\n",
              " 526    0.87\n",
              " Name: precipitation, dtype: float32)"
            ]
          },
          "metadata": {},
          "execution_count": 24
        }
      ],
      "source": [
        "# Create a naïve forecast\n",
        "naive_forecast = y_test[:-1] # Naïve forecast equals every value excluding the last value\n",
        "naive_forecast[:10], naive_forecast[-10:] # View frist 10 and last 10 "
      ]
    },
    {
      "cell_type": "code",
      "execution_count": 25,
      "metadata": {
        "id": "xuimtq0qJWkN"
      },
      "outputs": [],
      "source": [
        "def plot_time_series(timesteps, values, format='.', start=0, end=None, label=None):\n",
        "  \"\"\"\n",
        "  Plots a timesteps (a series of points in time) against values (a series of values across timesteps).\n",
        "  \n",
        "  Parameters\n",
        "  ---------\n",
        "  timesteps : array of timesteps\n",
        "  values : array of values across time\n",
        "  format : style of plot, default \".\"\n",
        "  start : where to start the plot (setting a value will index from start of timesteps & values)\n",
        "  end : where to end the plot (setting a value will index from end of timesteps & values)\n",
        "  label : label to show on plot of values\n",
        "  \"\"\"\n",
        "  # Plot the series\n",
        "  plt.plot(timesteps[start:end], values[start:end], format, label=label)\n",
        "  plt.xlabel(\"Time\")\n",
        "  plt.ylabel(\"Hourly Rain Precipitation\")\n",
        "  if label:\n",
        "    plt.legend(fontsize=14) # make label bigger\n",
        "  plt.grid(True)"
      ]
    },
    {
      "cell_type": "code",
      "execution_count": 26,
      "metadata": {
        "colab": {
          "base_uri": "https://localhost:8080/",
          "height": 442
        },
        "id": "m-upRvqnJgdE",
        "outputId": "f81ca6f4-3f4d-4f7a-f97b-80343b4c942b"
      },
      "outputs": [
        {
          "output_type": "display_data",
          "data": {
            "image/png": "[encoded data removed]",
            "text/plain": [
              "<Figure size 720x504 with 1 Axes>"
            ]
          },
          "metadata": {
            "needs_background": "light"
          }
        }
      ],
      "source": [
        "# Try out our plotting function\n",
        "plt.figure(figsize=(10, 7))\n",
        "plot_time_series(timesteps=X_time_train, values=y_train, label=\"Train data\")\n",
        "plot_time_series(timesteps=X_time_test, values=y_test, label=\"Test data\")"
      ]
    },
    {
      "cell_type": "code",
      "execution_count": 27,
      "metadata": {
        "colab": {
          "base_uri": "https://localhost:8080/",
          "height": 442
        },
        "id": "pm3P1lSQJkWQ",
        "outputId": "b7a7f4d4-fa4d-44c7-f513-5ffcabbd3553"
      },
      "outputs": [
        {
          "output_type": "display_data",
          "data": {
            "image/png": "[encoded data removed]",
            "text/plain": [
              "<Figure size 720x504 with 1 Axes>"
            ]
          },
          "metadata": {
            "needs_background": "light"
          }
        }
      ],
      "source": [
        "# Plot naive forecast\n",
        "plt.figure(figsize=(10, 7))\n",
        "plot_time_series(timesteps=X_time_train, values=y_train, label=\"Train data\")\n",
        "plot_time_series(timesteps=X_time_test, values=y_test, label=\"Test data\")\n",
        "plot_time_series(timesteps=X_time_test[1:], values=naive_forecast, format=\"-\", label=\"Naive forecast\");"
      ]
    },
    {
      "cell_type": "code",
      "execution_count": 28,
      "metadata": {
        "colab": {
          "base_uri": "https://localhost:8080/",
          "height": 445
        },
        "id": "m4ErFloxLSqN",
        "outputId": "738ddc20-34f1-4121-a045-b9c68bbcf41c"
      },
      "outputs": [
        {
          "output_type": "display_data",
          "data": {
            "image/png": "[encoded data removed]",
            "text/plain": [
              "<Figure size 720x504 with 1 Axes>"
            ]
          },
          "metadata": {
            "needs_background": "light"
          }
        }
      ],
      "source": [
        "plt.figure(figsize=(10, 7))\n",
        "offset = 10 # offset the values by 300 timesteps \n",
        "plot_time_series(timesteps=X_time_test, values=y_test, label=\"Test data\")\n",
        "plot_time_series(timesteps=X_time_test[1:], values=naive_forecast, format=\"-\", label=\"Naive forecast\");"
      ]
    },
    {
      "cell_type": "code",
      "execution_count": 29,
      "metadata": {
        "id": "jw7q9e1cNmLt"
      },
      "outputs": [],
      "source": [
        "import tensorflow as tf\n",
        "# MASE implemented courtesy of sktime - https://github.com/alan-turing-institute/sktime/blob/ee7a06843a44f4aaec7582d847e36073a9ab0566/sktime/performance_metrics/forecasting/_functions.py#L16\n",
        "def mean_absolute_scaled_error(y_true, y_pred):\n",
        "  \"\"\"\n",
        "  Implement MASE (assuming no seasonality of data).\n",
        "  \"\"\"\n",
        "  mae = tf.reduce_mean(tf.abs(y_true - y_pred))\n",
        "\n",
        "  # Find MAE of naive forecast (no seasonality)\n",
        "  mae_naive_no_season = tf.reduce_mean(tf.abs(y_true[1:] - y_true[:-1])) # our seasonality is 1 day (hence the shifting of 1 day)\n",
        "\n",
        "  return mae / mae_naive_no_season\n",
        "def evaluate_preds(y_true, y_pred):\n",
        "  # Make sure float32 (for metric calculations)\n",
        "  y_true = tf.cast(y_true, dtype=tf.float32)\n",
        "  y_pred = tf.cast(y_pred, dtype=tf.float32)\n",
        "\n",
        "  # Calculate various metrics\n",
        "  # train_mae = tf.keras.metrics.mean_absolute_error(y_train, )\n",
        "  mae = tf.keras.metrics.mean_absolute_error(y_true, y_pred)\n",
        "  mse = tf.keras.metrics.mean_squared_error(y_true, y_pred) # puts and emphasis on outliers (all errors get squared)\n",
        "  rmse = tf.sqrt(mse)\n",
        "  mape = tf.keras.metrics.mean_absolute_percentage_error(y_true, y_pred)\n",
        "  \n",
        "  return {\"mae\": mae.numpy(),\n",
        "          \"mse\": mse.numpy(),\n",
        "          \"rmse\": rmse.numpy(),\n",
        "          \"mape\": mape.numpy(),}"
      ]
    },
    {
      "cell_type": "code",
      "execution_count": 30,
      "metadata": {
        "colab": {
          "base_uri": "https://localhost:8080/"
        },
        "id": "OmmtERoXNzs-",
        "outputId": "c4e863b0-430b-420d-84b8-c6003178106b"
      },
      "outputs": [
        {
          "output_type": "execute_result",
          "data": {
            "text/plain": [
              "{'mae': 0.16596153, 'mape': 36.73516, 'mse': 0.06737308, 'rmse': 0.25956327}"
            ]
          },
          "metadata": {},
          "execution_count": 30
        }
      ],
      "source": [
        "naive_results = evaluate_preds(y_true=y_test[1:],\n",
        "                               y_pred=naive_forecast)\n",
        "naive_results"
      ]
    },
    {
      "cell_type": "markdown",
      "metadata": {
        "id": "NkcXa6IcM3s3"
      },
      "source": [
        "### RandomForestRegressor"
      ]
    },
    {
      "cell_type": "code",
      "execution_count": 31,
      "metadata": {
        "colab": {
          "base_uri": "https://localhost:8080/"
        },
        "id": "deZjFqD0Ljmg",
        "outputId": "bdecb87b-2984-45ad-aec5-bdfbaed7dfe1"
      },
      "outputs": [
        {
          "output_type": "execute_result",
          "data": {
            "text/plain": [
              "RandomForestRegressor(n_jobs=-1)"
            ]
          },
          "metadata": {},
          "execution_count": 31
        }
      ],
      "source": [
        "# Reducing data using max_samples\n",
        "from sklearn.ensemble import RandomForestRegressor\n",
        "\n",
        "np.random.seed(42)\n",
        "model = RandomForestRegressor(\n",
        "    n_jobs=-1,\n",
        "    # random_state=42,\n",
        "    # max_samples=10000, #minimizes the data\n",
        ")\n",
        "\n",
        "X_train = np.asarray(X_train)\n",
        "y_train = np.asarray(y_train)\n",
        "model.fit(X_train, y_train)"
      ]
    },
    {
      "cell_type": "code",
      "execution_count": 32,
      "metadata": {
        "colab": {
          "base_uri": "https://localhost:8080/"
        },
        "id": "p-3Whi83T5iY",
        "outputId": "22a41961-f718-43a0-80df-0fb5e5d26efd"
      },
      "outputs": [
        {
          "output_type": "execute_result",
          "data": {
            "text/plain": [
              "((416, 28), (416,), (105, 28), (105,))"
            ]
          },
          "metadata": {},
          "execution_count": 32
        }
      ],
      "source": [
        "X_train.shape, y_train.shape, X_test.shape, y_test.shape"
      ]
    },
    {
      "cell_type": "code",
      "execution_count": 33,
      "metadata": {
        "colab": {
          "base_uri": "https://localhost:8080/"
        },
        "id": "KnKFRVj2M7zk",
        "outputId": "5cbab2a3-59ff-4baf-ceec-ba67c25bd2e5"
      },
      "outputs": [
        {
          "output_type": "stream",
          "name": "stderr",
          "text": [
            "/usr/local/lib/python3.7/dist-packages/sklearn/base.py:444: UserWarning: X has feature names, but RandomForestRegressor was fitted without feature names\n",
            "  f\"X has feature names, but {self.__class__.__name__} was fitted without\"\n"
          ]
        },
        {
          "output_type": "execute_result",
          "data": {
            "text/plain": [
              "{'mae': 0.29126286191244916,\n",
              " 'mape': 0.5984963333466097,\n",
              " 'mse': 0.3210020692878519,\n",
              " 'rmse': 0.5665704451238627,\n",
              " 'train_mae': 0.034857931788563,\n",
              " 'train_mape': 3298670179476.2266,\n",
              " 'train_mse': 0.013495253485814042,\n",
              " 'train_rmse': 0.11616907284563324}"
            ]
          },
          "metadata": {},
          "execution_count": 33
        }
      ],
      "source": [
        "from tensorflow.python.ops.gen_math_ops import sqrt\n",
        "from sklearn.metrics import mean_absolute_error, mean_squared_error, mean_absolute_percentage_error\n",
        "\n",
        "def show_scores_sklearn(model):\n",
        "    train_preds = model.predict(X_train)\n",
        "    val_preds = model.predict(X_test) \n",
        "\n",
        "    train_mae =  mean_absolute_error(y_train, train_preds)\n",
        "    mae = mean_absolute_error(y_test, val_preds)\n",
        "    train_mse = mean_squared_error(y_train, train_preds)\n",
        "    mse = mean_squared_error(y_test, val_preds)\n",
        "    train_rmse = sqrt(train_mse)\n",
        "    rmse = sqrt(mse)\n",
        "    train_mape = mean_absolute_percentage_error(y_train, train_preds)\n",
        "    mape = mean_absolute_percentage_error(y_test, val_preds)\n",
        "    return {\"mae\": mae,\n",
        "            \"train_mae\": train_mae,\n",
        "          \"mse\": mse,\n",
        "          \"train_mse\": train_mse,\n",
        "          \"rmse\": rmse.numpy(),\n",
        "          \"train_rmse\": train_rmse.numpy(),\n",
        "          \"mape\": mape,\n",
        "          \"train_mape\": train_mape\n",
        "          }\n",
        "\n",
        "# Score model\n",
        "random_forest = show_scores_sklearn(model)\n",
        "random_forest"
      ]
    },
    {
      "cell_type": "code",
      "execution_count": 34,
      "metadata": {
        "colab": {
          "base_uri": "https://localhost:8080/"
        },
        "id": "SIaSfLx0sQtj",
        "outputId": "90cc8198-c26a-472a-a007-255148384217"
      },
      "outputs": [
        {
          "output_type": "stream",
          "name": "stderr",
          "text": [
            "/usr/local/lib/python3.7/dist-packages/sklearn/base.py:444: UserWarning: X has feature names, but RandomForestRegressor was fitted without feature names\n",
            "  f\"X has feature names, but {self.__class__.__name__} was fitted without\"\n"
          ]
        },
        {
          "output_type": "execute_result",
          "data": {
            "text/plain": [
              "(0.9952664029186814, 0.6347735497364699)"
            ]
          },
          "metadata": {},
          "execution_count": 34
        }
      ],
      "source": [
        "model.score(X_train, y_train), model.score(X_test, y_test)"
      ]
    },
    {
      "cell_type": "code",
      "execution_count": 35,
      "metadata": {
        "colab": {
          "base_uri": "https://localhost:8080/"
        },
        "id": "BxF3iX_jk_aX",
        "outputId": "10a124ca-88a0-4794-d3e9-9c8f9f0ef4c0"
      },
      "outputs": [
        {
          "output_type": "stream",
          "name": "stderr",
          "text": [
            "/usr/local/lib/python3.7/dist-packages/sklearn/base.py:444: UserWarning: X has feature names, but RandomForestRegressor was fitted without feature names\n",
            "  f\"X has feature names, but {self.__class__.__name__} was fitted without\"\n"
          ]
        },
        {
          "output_type": "execute_result",
          "data": {
            "text/plain": [
              "0.29126286191244916"
            ]
          },
          "metadata": {},
          "execution_count": 35
        }
      ],
      "source": [
        "train_preds = model.predict(X_train)\n",
        "val_preds = model.predict(X_test) \n",
        "\n",
        "mean_absolute_error(y_test, val_preds)"
      ]
    },
    {
      "cell_type": "code",
      "execution_count": 36,
      "metadata": {
        "colab": {
          "base_uri": "https://localhost:8080/"
        },
        "id": "Rq7h01fyNEr3",
        "outputId": "1d55d889-4bf6-40f6-c8f7-3d6e5bbda30a"
      },
      "outputs": [
        {
          "output_type": "execute_result",
          "data": {
            "text/plain": [
              "{'mae': 0.16596153, 'mape': 36.73516, 'mse': 0.06737308, 'rmse': 0.25956327}"
            ]
          },
          "metadata": {},
          "execution_count": 36
        }
      ],
      "source": [
        "naive_results"
      ]
    },
    {
      "cell_type": "markdown",
      "metadata": {
        "id": "3zfFYdKLsEzr"
      },
      "source": [
        "#### Parameter Tuning"
      ]
    },
    {
      "cell_type": "code",
      "execution_count": 37,
      "metadata": {
        "colab": {
          "base_uri": "https://localhost:8080/"
        },
        "id": "WmZQBQeDsHw-",
        "outputId": "127fee9e-40ac-4bbd-ba92-50f025156b0e"
      },
      "outputs": [
        {
          "output_type": "stream",
          "name": "stdout",
          "text": [
            "Fitting 5 folds for each of 30 candidates, totalling 150 fits\n"
          ]
        },
        {
          "output_type": "execute_result",
          "data": {
            "text/plain": [
              "RandomizedSearchCV(cv=5, estimator=RandomForestRegressor(n_jobs=-1), n_iter=30,\n",
              "                   param_distributions={'max_depth': [None, 3, 5, 10],\n",
              "                                        'max_features': [0.5, 1, 'sqrt',\n",
              "                                                         'auto'],\n",
              "                                        'max_samples': [332],\n",
              "                                        'min_samples_leaf': array([ 1,  3,  5,  7,  9, 11, 13, 15, 17, 19]),\n",
              "                                        'min_samples_split': array([ 2,  4,  6,  8, 10, 12, 14, 16, 18]),\n",
              "                                        'n_estimators': array([10, 20, 30, 40, 50, 60, 70, 80, 90])},\n",
              "                   verbose=True)"
            ]
          },
          "metadata": {},
          "execution_count": 37
        }
      ],
      "source": [
        "\n",
        "\n",
        "from sklearn.model_selection import RandomizedSearchCV\n",
        "\n",
        "rf_grid = {\n",
        "    'n_estimators': np.arange(10, 100, 10),\n",
        "    'max_depth': [None, 3, 5, 10],\n",
        "    'min_samples_split': np.arange(2, 20, 2),\n",
        "    'min_samples_leaf': np.arange(1, 20, 2),\n",
        "    'max_features': [0.5, 1, 'sqrt', 'auto'],\n",
        "    'max_samples': [332]\n",
        "}\n",
        "\n",
        "np.random.seed(42)\n",
        "#instantiate ranomdized search cv model\n",
        "rs_model = RandomizedSearchCV(\n",
        "    RandomForestRegressor(\n",
        "        n_jobs=-1,\n",
        "    ),\n",
        "    param_distributions=rf_grid,\n",
        "    n_iter=30,\n",
        "    cv=5,\n",
        "    verbose=True\n",
        ")\n",
        "\n",
        "#Fit the randomized search cv model\n",
        "rs_model.fit(X_train, y_train)"
      ]
    },
    {
      "cell_type": "code",
      "execution_count": 38,
      "metadata": {
        "colab": {
          "base_uri": "https://localhost:8080/"
        },
        "id": "GnupHk8-tGtn",
        "outputId": "54e7c3eb-c4fb-4d80-d785-d0e116a5c02a"
      },
      "outputs": [
        {
          "output_type": "stream",
          "name": "stderr",
          "text": [
            "/usr/local/lib/python3.7/dist-packages/sklearn/base.py:444: UserWarning: X has feature names, but RandomForestRegressor was fitted without feature names\n",
            "  f\"X has feature names, but {self.__class__.__name__} was fitted without\"\n"
          ]
        },
        {
          "output_type": "execute_result",
          "data": {
            "text/plain": [
              "(0.9689640238965586, 0.7079334359322013)"
            ]
          },
          "metadata": {},
          "execution_count": 38
        }
      ],
      "source": [
        "rs_model.score(X_train, y_train), rs_model.score(X_test, y_test)"
      ]
    },
    {
      "cell_type": "code",
      "execution_count": 39,
      "metadata": {
        "colab": {
          "base_uri": "https://localhost:8080/"
        },
        "id": "lKQ6cr-5t1km",
        "outputId": "3a19119d-4a69-4765-e6bd-3e745e0de585"
      },
      "outputs": [
        {
          "output_type": "stream",
          "name": "stderr",
          "text": [
            "/usr/local/lib/python3.7/dist-packages/sklearn/base.py:444: UserWarning: X has feature names, but RandomForestRegressor was fitted without feature names\n",
            "  f\"X has feature names, but {self.__class__.__name__} was fitted without\"\n"
          ]
        },
        {
          "output_type": "execute_result",
          "data": {
            "text/plain": [
              "{'mae': 0.27876417172164636,\n",
              " 'mape': 0.6223087495919063,\n",
              " 'mse': 0.25670093545499767,\n",
              " 'rmse': 0.5066566248012531,\n",
              " 'train_mae': 0.0887839471757619,\n",
              " 'train_mape': 7235655551181.462,\n",
              " 'train_mse': 0.08848204811275176,\n",
              " 'train_rmse': 0.29745932177820844}"
            ]
          },
          "metadata": {},
          "execution_count": 39
        }
      ],
      "source": [
        "random_forest_ideal = show_scores_sklearn(rs_model)\n",
        "random_forest_ideal"
      ]
    },
    {
      "cell_type": "code",
      "execution_count": 40,
      "metadata": {
        "id": "YdOeW9pIuCNf"
      },
      "outputs": [],
      "source": [
        "mae = []\n",
        "mape = []\n",
        "mse = []\n",
        "rmse = []"
      ]
    },
    {
      "cell_type": "code",
      "execution_count": 41,
      "metadata": {
        "id": "q4jpobFLuSvA"
      },
      "outputs": [],
      "source": [
        "mae.append(naive_results['mae'])\n",
        "mae.append(random_forest['mae'])\n",
        "mae.append(random_forest_ideal['mae'])\n",
        "\n",
        "mape.append(naive_results['mape'])\n",
        "mape.append(random_forest['mape'])\n",
        "mape.append(random_forest_ideal['mape'])\n",
        "\n",
        "mse.append(naive_results['mse'])\n",
        "mse.append(random_forest['mse'])\n",
        "mse.append(random_forest_ideal['mse'])\n",
        "\n",
        "rmse.append(naive_results['rmse'])\n",
        "rmse.append(random_forest['rmse'])\n",
        "rmse.append(random_forest_ideal['rmse'])"
      ]
    },
    {
      "cell_type": "code",
      "execution_count": 42,
      "metadata": {
        "id": "jZ8iBpjcvdzn"
      },
      "outputs": [],
      "source": [
        "models = []"
      ]
    },
    {
      "cell_type": "code",
      "execution_count": 43,
      "metadata": {
        "id": "Aa2X-OnkvfId"
      },
      "outputs": [],
      "source": [
        "models.append('Naive')\n",
        "models.append('Random Forest')\n",
        "models.append('Random Forest Randomized Search')"
      ]
    },
    {
      "cell_type": "code",
      "execution_count": 44,
      "metadata": {
        "colab": {
          "base_uri": "https://localhost:8080/",
          "height": 277
        },
        "id": "dvZy0y6ruoxR",
        "outputId": "30f94ff1-789b-4beb-9284-156bd0e74e6f"
      },
      "outputs": [
        {
          "output_type": "execute_result",
          "data": {
            "text/html": [
              "\n",
              "  <div id=\"df-32092a70-9a8f-4fd0-af62-648eb076f529\">\n",
              "    <div class=\"colab-df-container\">\n",
              "      <div>\n",
              "<style scoped>\n",
              "    .dataframe tbody tr th:only-of-type {\n",
              "        vertical-align: middle;\n",
              "    }\n",
              "\n",
              "    .dataframe tbody tr th {\n",
              "        vertical-align: top;\n",
              "    }\n",
              "\n",
              "    .dataframe thead th {\n",
              "        text-align: right;\n",
              "    }\n",
              "</style>\n",
              "<table border=\"1\" class=\"dataframe\">\n",
              "  <thead>\n",
              "    <tr style=\"text-align: right;\">\n",
              "      <th></th>\n",
              "      <th>models</th>\n",
              "      <th>mae</th>\n",
              "      <th>mape</th>\n",
              "      <th>mse</th>\n",
              "      <th>rmse</th>\n",
              "    </tr>\n",
              "  </thead>\n",
              "  <tbody>\n",
              "    <tr>\n",
              "      <th>0</th>\n",
              "      <td>Naive</td>\n",
              "      <td>0.165962</td>\n",
              "      <td>36.735161</td>\n",
              "      <td>0.067373</td>\n",
              "      <td>0.259563</td>\n",
              "    </tr>\n",
              "    <tr>\n",
              "      <th>1</th>\n",
              "      <td>Random Forest</td>\n",
              "      <td>0.291263</td>\n",
              "      <td>0.598496</td>\n",
              "      <td>0.321002</td>\n",
              "      <td>0.566570</td>\n",
              "    </tr>\n",
              "    <tr>\n",
              "      <th>2</th>\n",
              "      <td>Random Forest Randomized Search</td>\n",
              "      <td>0.278764</td>\n",
              "      <td>0.622309</td>\n",
              "      <td>0.256701</td>\n",
              "      <td>0.506657</td>\n",
              "    </tr>\n",
              "  </tbody>\n",
              "</table>\n",
              "</div>\n",
              "      <button class=\"colab-df-convert\" onclick=\"convertToInteractive('df-32092a70-9a8f-4fd0-af62-648eb076f529')\"\n",
              "              title=\"Convert this dataframe to an interactive table.\"\n",
              "              style=\"display:none;\">\n",
              "        \n",
              "  <svg xmlns=\"http://www.w3.org/2000/svg\" height=\"24px\"viewBox=\"0 0 24 24\"\n",
              "       width=\"24px\">\n",
              "    <path d=\"M0 0h24v24H0V0z\" fill=\"none\"/>\n",
              "    <path d=\"M18.56 5.44l.94 2.06.94-2.06 2.06-.94-2.06-.94-.94-2.06-.94 2.06-2.06.94zm-11 1L8.5 8.5l.94-2.06 2.06-.94-2.06-.94L8.5 2.5l-.94 2.06-2.06.94zm10 10l.94 2.06.94-2.06 2.06-.94-2.06-.94-.94-2.06-.94 2.06-2.06.94z\"/><path d=\"M17.41 7.96l-1.37-1.37c-.4-.4-.92-.59-1.43-.59-.52 0-1.04.2-1.43.59L10.3 9.45l-7.72 7.72c-.78.78-.78 2.05 0 2.83L4 21.41c.39.39.9.59 1.41.59.51 0 1.02-.2 1.41-.59l7.78-7.78 2.81-2.81c.8-.78.8-2.07 0-2.86zM5.41 20L4 18.59l7.72-7.72 1.47 1.35L5.41 20z\"/>\n",
              "  </svg>\n",
              "      </button>\n",
              "      \n",
              "  <style>\n",
              "    .colab-df-container {\n",
              "      display:flex;\n",
              "      flex-wrap:wrap;\n",
              "      gap: 12px;\n",
              "    }\n",
              "\n",
              "    .colab-df-convert {\n",
              "      background-color: #E8F0FE;\n",
              "      border: none;\n",
              "      border-radius: 50%;\n",
              "      cursor: pointer;\n",
              "      display: none;\n",
              "      fill: #1967D2;\n",
              "      height: 32px;\n",
              "      padding: 0 0 0 0;\n",
              "      width: 32px;\n",
              "    }\n",
              "\n",
              "    .colab-df-convert:hover {\n",
              "      background-color: #E2EBFA;\n",
              "      box-shadow: 0px 1px 2px rgba(60, 64, 67, 0.3), 0px 1px 3px 1px rgba(60, 64, 67, 0.15);\n",
              "      fill: #174EA6;\n",
              "    }\n",
              "\n",
              "    [theme=dark] .colab-df-convert {\n",
              "      background-color: #3B4455;\n",
              "      fill: #D2E3FC;\n",
              "    }\n",
              "\n",
              "    [theme=dark] .colab-df-convert:hover {\n",
              "      background-color: #434B5C;\n",
              "      box-shadow: 0px 1px 3px 1px rgba(0, 0, 0, 0.15);\n",
              "      filter: drop-shadow(0px 1px 2px rgba(0, 0, 0, 0.3));\n",
              "      fill: #FFFFFF;\n",
              "    }\n",
              "  </style>\n",
              "\n",
              "      <script>\n",
              "        const buttonEl =\n",
              "          document.querySelector('#df-32092a70-9a8f-4fd0-af62-648eb076f529 button.colab-df-convert');\n",
              "        buttonEl.style.display =\n",
              "          google.colab.kernel.accessAllowed ? 'block' : 'none';\n",
              "\n",
              "        async function convertToInteractive(key) {\n",
              "          const element = document.querySelector('#df-32092a70-9a8f-4fd0-af62-648eb076f529');\n",
              "          const dataTable =\n",
              "            await google.colab.kernel.invokeFunction('convertToInteractive',\n",
              "                                                     [key], {});\n",
              "          if (!dataTable) return;\n",
              "\n",
              "          const docLinkHtml = 'Like what you see? Visit the ' +\n",
              "            '<a target=\"_blank\" href=https://colab.research.google.com/notebooks/data_table.ipynb>data table notebook</a>'\n",
              "            + ' to learn more about interactive tables.';\n",
              "          element.innerHTML = '';\n",
              "          dataTable['output_type'] = 'display_data';\n",
              "          await google.colab.output.renderOutput(dataTable, element);\n",
              "          const docLink = document.createElement('div');\n",
              "          docLink.innerHTML = docLinkHtml;\n",
              "          element.appendChild(docLink);\n",
              "        }\n",
              "      </script>\n",
              "    </div>\n",
              "  </div>\n",
              "  "
            ],
            "text/plain": [
              "                            models       mae       mape       mse      rmse\n",
              "0                            Naive  0.165962  36.735161  0.067373  0.259563\n",
              "1                    Random Forest  0.291263   0.598496  0.321002  0.566570\n",
              "2  Random Forest Randomized Search  0.278764   0.622309  0.256701  0.506657"
            ]
          },
          "metadata": {},
          "execution_count": 44
        }
      ],
      "source": [
        "scores = pd.DataFrame(\n",
        "    data={\n",
        "        'models': models,\n",
        "        'mae': mae,\n",
        "        'mape': mape,\n",
        "        'mse': mse,\n",
        "        'rmse': rmse,\n",
        "    }    \n",
        ")\n",
        "\n",
        "scores"
      ]
    },
    {
      "cell_type": "markdown",
      "metadata": {
        "id": "joBn_h1TVcx-"
      },
      "source": [
        "### KNeighboursRegressor\n"
      ]
    },
    {
      "cell_type": "code",
      "execution_count": 45,
      "metadata": {
        "id": "5HMOfId8I0H9"
      },
      "outputs": [],
      "source": [
        "from sklearn.neighbors import KNeighborsRegressor"
      ]
    },
    {
      "cell_type": "code",
      "execution_count": 46,
      "metadata": {
        "colab": {
          "base_uri": "https://localhost:8080/"
        },
        "id": "oq4JtPOe1lMh",
        "outputId": "4d69c313-2878-479e-bb76-e4c257980354"
      },
      "outputs": [
        {
          "output_type": "execute_result",
          "data": {
            "text/plain": [
              "KNeighborsRegressor(n_jobs=-1)"
            ]
          },
          "metadata": {},
          "execution_count": 46
        }
      ],
      "source": [
        "np.random.seed(42)\n",
        "k_model = KNeighborsRegressor(\n",
        "    n_jobs=-1,\n",
        "    #n_neighbors=2,\n",
        "    # random_state=42,\n",
        "    # max_samples=10000, #minimizes the data\n",
        ")\n",
        "\n",
        "# X_train = np.asarray(X_train)\n",
        "# y_train = np.asarray(y_train)\n",
        "k_model.fit(X_train, y_train)"
      ]
    },
    {
      "cell_type": "code",
      "execution_count": 47,
      "metadata": {
        "colab": {
          "base_uri": "https://localhost:8080/"
        },
        "id": "D7pJgpvzJBBp",
        "outputId": "a686cfea-8ac0-4657-ba2b-2bd611b61947"
      },
      "outputs": [
        {
          "output_type": "stream",
          "name": "stderr",
          "text": [
            "/usr/local/lib/python3.7/dist-packages/sklearn/base.py:444: UserWarning: X has feature names, but KNeighborsRegressor was fitted without feature names\n",
            "  f\"X has feature names, but {self.__class__.__name__} was fitted without\"\n"
          ]
        },
        {
          "output_type": "execute_result",
          "data": {
            "text/plain": [
              "(0.9276862135806762, -0.7011708057848596)"
            ]
          },
          "metadata": {},
          "execution_count": 47
        }
      ],
      "source": [
        "k_model.score(X_train, y_train), k_model.score(X_test, y_test)"
      ]
    },
    {
      "cell_type": "code",
      "execution_count": 48,
      "metadata": {
        "colab": {
          "base_uri": "https://localhost:8080/"
        },
        "id": "bAUcD5KOLVOm",
        "outputId": "8129523e-0ca4-424b-a3c2-a6cd6e9b4853"
      },
      "outputs": [
        {
          "output_type": "stream",
          "name": "stderr",
          "text": [
            "/usr/local/lib/python3.7/dist-packages/sklearn/base.py:444: UserWarning: X has feature names, but KNeighborsRegressor was fitted without feature names\n",
            "  f\"X has feature names, but {self.__class__.__name__} was fitted without\"\n"
          ]
        },
        {
          "output_type": "execute_result",
          "data": {
            "text/plain": [
              "{'mae': 0.8292,\n",
              " 'mape': 1.0682853,\n",
              " 'mse': 1.4951802,\n",
              " 'rmse': 1.2227756,\n",
              " 'train_mae': 0.17576443,\n",
              " 'train_mape': 35942186000000.0,\n",
              " 'train_mse': 0.20616308,\n",
              " 'train_rmse': 0.45405185}"
            ]
          },
          "metadata": {},
          "execution_count": 48
        }
      ],
      "source": [
        "k_scores = show_scores_sklearn(k_model)\n",
        "k_scores"
      ]
    },
    {
      "cell_type": "code",
      "execution_count": 49,
      "metadata": {
        "colab": {
          "base_uri": "https://localhost:8080/"
        },
        "id": "S_OyGb0xLYUu",
        "outputId": "88565cb0-9ef3-4ac7-8475-52c72e487325"
      },
      "outputs": [
        {
          "output_type": "stream",
          "name": "stdout",
          "text": [
            "Fitting 5 folds for each of 30 candidates, totalling 150 fits\n"
          ]
        },
        {
          "output_type": "execute_result",
          "data": {
            "text/plain": [
              "RandomizedSearchCV(cv=5, estimator=KNeighborsRegressor(n_jobs=-1), n_iter=30,\n",
              "                   param_distributions={'algorithm': ['auto', 'ball_tree',\n",
              "                                                      'kd_tree', 'brute'],\n",
              "                                        'leaf_size': [20, 30, 40, 50, 60],\n",
              "                                        'n_neighbors': [1, 3, 5, 10, 20]},\n",
              "                   verbose=True)"
            ]
          },
          "metadata": {},
          "execution_count": 49
        }
      ],
      "source": [
        "rf_k_params = {\n",
        "    'n_neighbors': [1, 3, 5, 10, 20],\n",
        "    'algorithm': ['auto', 'ball_tree', 'kd_tree', 'brute'],\n",
        "    'leaf_size': [20, 30, 40, 50, 60]\n",
        "}\n",
        "\n",
        "np.random.seed(42)\n",
        "rs_k_model = RandomizedSearchCV(\n",
        "    KNeighborsRegressor(\n",
        "        n_jobs=-1,\n",
        "        #random_state=42,\n",
        "    ),\n",
        "    param_distributions=rf_k_params,\n",
        "    n_iter=30,\n",
        "    cv=5,\n",
        "    verbose=True\n",
        ")\n",
        "\n",
        "#Fit the randomized search cv model\n",
        "rs_k_model.fit(X_train, y_train)"
      ]
    },
    {
      "cell_type": "code",
      "execution_count": 50,
      "metadata": {
        "colab": {
          "base_uri": "https://localhost:8080/"
        },
        "id": "fnoiIMAKMxS5",
        "outputId": "22f8ec2f-7a83-4376-f7d0-5d4f7aa04fe6"
      },
      "outputs": [
        {
          "output_type": "stream",
          "name": "stderr",
          "text": [
            "/usr/local/lib/python3.7/dist-packages/sklearn/base.py:444: UserWarning: X has feature names, but KNeighborsRegressor was fitted without feature names\n",
            "  f\"X has feature names, but {self.__class__.__name__} was fitted without\"\n"
          ]
        },
        {
          "output_type": "execute_result",
          "data": {
            "text/plain": [
              "(0.8780769450047704, -0.6824162651990489)"
            ]
          },
          "metadata": {},
          "execution_count": 50
        }
      ],
      "source": [
        "rs_k_model.score(X_train, y_train), rs_k_model.score(X_test, y_test)"
      ]
    },
    {
      "cell_type": "code",
      "execution_count": 51,
      "metadata": {
        "colab": {
          "base_uri": "https://localhost:8080/"
        },
        "id": "M4Ka8jPzM3bA",
        "outputId": "b17d6e47-f00a-4541-9bcc-d86fd3fb0ef6"
      },
      "outputs": [
        {
          "output_type": "stream",
          "name": "stderr",
          "text": [
            "/usr/local/lib/python3.7/dist-packages/sklearn/base.py:444: UserWarning: X has feature names, but KNeighborsRegressor was fitted without feature names\n",
            "  f\"X has feature names, but {self.__class__.__name__} was fitted without\"\n"
          ]
        },
        {
          "output_type": "execute_result",
          "data": {
            "text/plain": [
              "{'mae': 0.825781,\n",
              " 'mape': 1.0995969,\n",
              " 'mse': 1.4786966,\n",
              " 'rmse': 1.2160167,\n",
              " 'train_mae': 0.23675242,\n",
              " 'train_mape': 65237240000000.0,\n",
              " 'train_mse': 0.34759662,\n",
              " 'train_rmse': 0.58957326}"
            ]
          },
          "metadata": {},
          "execution_count": 51
        }
      ],
      "source": [
        "knr_ideal = show_scores_sklearn(rs_k_model)\n",
        "knr_ideal"
      ]
    },
    {
      "cell_type": "code",
      "execution_count": 52,
      "metadata": {
        "colab": {
          "base_uri": "https://localhost:8080/",
          "height": 305
        },
        "id": "V4VasUrjNBm9",
        "outputId": "45ba5015-9bfb-4897-e903-5ab0c71ba0d9"
      },
      "outputs": [
        {
          "output_type": "execute_result",
          "data": {
            "text/html": [
              "\n",
              "  <div id=\"df-47249cc5-babb-4b7d-86fb-544f45375229\">\n",
              "    <div class=\"colab-df-container\">\n",
              "      <div>\n",
              "<style scoped>\n",
              "    .dataframe tbody tr th:only-of-type {\n",
              "        vertical-align: middle;\n",
              "    }\n",
              "\n",
              "    .dataframe tbody tr th {\n",
              "        vertical-align: top;\n",
              "    }\n",
              "\n",
              "    .dataframe thead th {\n",
              "        text-align: right;\n",
              "    }\n",
              "</style>\n",
              "<table border=\"1\" class=\"dataframe\">\n",
              "  <thead>\n",
              "    <tr style=\"text-align: right;\">\n",
              "      <th></th>\n",
              "      <th>models</th>\n",
              "      <th>mae</th>\n",
              "      <th>mape</th>\n",
              "      <th>mse</th>\n",
              "      <th>rmse</th>\n",
              "    </tr>\n",
              "  </thead>\n",
              "  <tbody>\n",
              "    <tr>\n",
              "      <th>0</th>\n",
              "      <td>Naive</td>\n",
              "      <td>0.165962</td>\n",
              "      <td>36.735161</td>\n",
              "      <td>0.067373</td>\n",
              "      <td>0.259563</td>\n",
              "    </tr>\n",
              "    <tr>\n",
              "      <th>1</th>\n",
              "      <td>Random Forest</td>\n",
              "      <td>0.291263</td>\n",
              "      <td>0.598496</td>\n",
              "      <td>0.321002</td>\n",
              "      <td>0.566570</td>\n",
              "    </tr>\n",
              "    <tr>\n",
              "      <th>2</th>\n",
              "      <td>Random Forest Randomized Search</td>\n",
              "      <td>0.278764</td>\n",
              "      <td>0.622309</td>\n",
              "      <td>0.256701</td>\n",
              "      <td>0.506657</td>\n",
              "    </tr>\n",
              "    <tr>\n",
              "      <th>3</th>\n",
              "      <td>KNeighboursRegressor</td>\n",
              "      <td>0.829200</td>\n",
              "      <td>1.068285</td>\n",
              "      <td>1.495180</td>\n",
              "      <td>1.222776</td>\n",
              "    </tr>\n",
              "    <tr>\n",
              "      <th>4</th>\n",
              "      <td>KNeighboursRegressor Randomized Search</td>\n",
              "      <td>0.825781</td>\n",
              "      <td>1.099597</td>\n",
              "      <td>1.478697</td>\n",
              "      <td>1.216017</td>\n",
              "    </tr>\n",
              "  </tbody>\n",
              "</table>\n",
              "</div>\n",
              "      <button class=\"colab-df-convert\" onclick=\"convertToInteractive('df-47249cc5-babb-4b7d-86fb-544f45375229')\"\n",
              "              title=\"Convert this dataframe to an interactive table.\"\n",
              "              style=\"display:none;\">\n",
              "        \n",
              "  <svg xmlns=\"http://www.w3.org/2000/svg\" height=\"24px\"viewBox=\"0 0 24 24\"\n",
              "       width=\"24px\">\n",
              "    <path d=\"M0 0h24v24H0V0z\" fill=\"none\"/>\n",
              "    <path d=\"M18.56 5.44l.94 2.06.94-2.06 2.06-.94-2.06-.94-.94-2.06-.94 2.06-2.06.94zm-11 1L8.5 8.5l.94-2.06 2.06-.94-2.06-.94L8.5 2.5l-.94 2.06-2.06.94zm10 10l.94 2.06.94-2.06 2.06-.94-2.06-.94-.94-2.06-.94 2.06-2.06.94z\"/><path d=\"M17.41 7.96l-1.37-1.37c-.4-.4-.92-.59-1.43-.59-.52 0-1.04.2-1.43.59L10.3 9.45l-7.72 7.72c-.78.78-.78 2.05 0 2.83L4 21.41c.39.39.9.59 1.41.59.51 0 1.02-.2 1.41-.59l7.78-7.78 2.81-2.81c.8-.78.8-2.07 0-2.86zM5.41 20L4 18.59l7.72-7.72 1.47 1.35L5.41 20z\"/>\n",
              "  </svg>\n",
              "      </button>\n",
              "      \n",
              "  <style>\n",
              "    .colab-df-container {\n",
              "      display:flex;\n",
              "      flex-wrap:wrap;\n",
              "      gap: 12px;\n",
              "    }\n",
              "\n",
              "    .colab-df-convert {\n",
              "      background-color: #E8F0FE;\n",
              "      border: none;\n",
              "      border-radius: 50%;\n",
              "      cursor: pointer;\n",
              "      display: none;\n",
              "      fill: #1967D2;\n",
              "      height: 32px;\n",
              "      padding: 0 0 0 0;\n",
              "      width: 32px;\n",
              "    }\n",
              "\n",
              "    .colab-df-convert:hover {\n",
              "      background-color: #E2EBFA;\n",
              "      box-shadow: 0px 1px 2px rgba(60, 64, 67, 0.3), 0px 1px 3px 1px rgba(60, 64, 67, 0.15);\n",
              "      fill: #174EA6;\n",
              "    }\n",
              "\n",
              "    [theme=dark] .colab-df-convert {\n",
              "      background-color: #3B4455;\n",
              "      fill: #D2E3FC;\n",
              "    }\n",
              "\n",
              "    [theme=dark] .colab-df-convert:hover {\n",
              "      background-color: #434B5C;\n",
              "      box-shadow: 0px 1px 3px 1px rgba(0, 0, 0, 0.15);\n",
              "      filter: drop-shadow(0px 1px 2px rgba(0, 0, 0, 0.3));\n",
              "      fill: #FFFFFF;\n",
              "    }\n",
              "  </style>\n",
              "\n",
              "      <script>\n",
              "        const buttonEl =\n",
              "          document.querySelector('#df-47249cc5-babb-4b7d-86fb-544f45375229 button.colab-df-convert');\n",
              "        buttonEl.style.display =\n",
              "          google.colab.kernel.accessAllowed ? 'block' : 'none';\n",
              "\n",
              "        async function convertToInteractive(key) {\n",
              "          const element = document.querySelector('#df-47249cc5-babb-4b7d-86fb-544f45375229');\n",
              "          const dataTable =\n",
              "            await google.colab.kernel.invokeFunction('convertToInteractive',\n",
              "                                                     [key], {});\n",
              "          if (!dataTable) return;\n",
              "\n",
              "          const docLinkHtml = 'Like what you see? Visit the ' +\n",
              "            '<a target=\"_blank\" href=https://colab.research.google.com/notebooks/data_table.ipynb>data table notebook</a>'\n",
              "            + ' to learn more about interactive tables.';\n",
              "          element.innerHTML = '';\n",
              "          dataTable['output_type'] = 'display_data';\n",
              "          await google.colab.output.renderOutput(dataTable, element);\n",
              "          const docLink = document.createElement('div');\n",
              "          docLink.innerHTML = docLinkHtml;\n",
              "          element.appendChild(docLink);\n",
              "        }\n",
              "      </script>\n",
              "    </div>\n",
              "  </div>\n",
              "  "
            ],
            "text/plain": [
              "                                   models       mae  ...       mse      rmse\n",
              "0                                   Naive  0.165962  ...  0.067373  0.259563\n",
              "1                           Random Forest  0.291263  ...  0.321002  0.566570\n",
              "2         Random Forest Randomized Search  0.278764  ...  0.256701  0.506657\n",
              "3                    KNeighboursRegressor  0.829200  ...  1.495180  1.222776\n",
              "4  KNeighboursRegressor Randomized Search  0.825781  ...  1.478697  1.216017\n",
              "\n",
              "[5 rows x 5 columns]"
            ]
          },
          "metadata": {},
          "execution_count": 52
        }
      ],
      "source": [
        "models.append('KNeighboursRegressor')\n",
        "models.append('KNeighboursRegressor Randomized Search')\n",
        "\n",
        "mae.append(k_scores['mae'])\n",
        "mape.append(k_scores['mape'])\n",
        "mse.append(k_scores['mse']) \n",
        "rmse.append(k_scores['rmse'])\n",
        "\n",
        "mae.append(knr_ideal['mae'])\n",
        "mape.append(knr_ideal['mape'])\n",
        "mse.append(knr_ideal['mse']) \n",
        "rmse.append(knr_ideal['rmse']) \n",
        "\n",
        "scores = pd.DataFrame(\n",
        "    data={\n",
        "        'models': models,\n",
        "        'mae': mae,\n",
        "        'mape': mape,\n",
        "        'mse': mse,\n",
        "        'rmse': rmse,\n",
        "    }    \n",
        ")\n",
        "\n",
        "scores"
      ]
    },
    {
      "cell_type": "markdown",
      "metadata": {
        "id": "GJfKLypvO-_t"
      },
      "source": [
        "### Support Vector Regressor"
      ]
    },
    {
      "cell_type": "code",
      "execution_count": 53,
      "metadata": {
        "id": "RL2jeGfUPCgq"
      },
      "outputs": [],
      "source": [
        "from sklearn.svm import SVR"
      ]
    },
    {
      "cell_type": "code",
      "execution_count": 54,
      "metadata": {
        "colab": {
          "base_uri": "https://localhost:8080/"
        },
        "id": "jSJbLIBvPggp",
        "outputId": "a17ab8e7-e1b6-45a1-d1c1-0497214eb3c2"
      },
      "outputs": [
        {
          "output_type": "execute_result",
          "data": {
            "text/plain": [
              "SVR()"
            ]
          },
          "metadata": {},
          "execution_count": 54
        }
      ],
      "source": [
        "np.random.seed(42)\n",
        "svr_model = SVR()\n",
        "\n",
        "# X_train = np.asarray(X_train)|\n",
        "# y_train = np.asarray(y_train)\n",
        "svr_model.fit(X_train, y_train)"
      ]
    },
    {
      "cell_type": "code",
      "execution_count": 55,
      "metadata": {
        "colab": {
          "base_uri": "https://localhost:8080/"
        },
        "id": "So6s8Q1RQRkc",
        "outputId": "148c13e7-8f8b-402a-c7a6-a922c2f62e5f"
      },
      "outputs": [
        {
          "output_type": "stream",
          "name": "stderr",
          "text": [
            "/usr/local/lib/python3.7/dist-packages/sklearn/base.py:444: UserWarning: X has feature names, but SVR was fitted without feature names\n",
            "  f\"X has feature names, but {self.__class__.__name__} was fitted without\"\n"
          ]
        },
        {
          "output_type": "execute_result",
          "data": {
            "text/plain": [
              "(0.036506999937692575, -0.763766924451323)"
            ]
          },
          "metadata": {},
          "execution_count": 55
        }
      ],
      "source": [
        "svr_model.score(X_train, y_train), svr_model.score(X_test, y_test)"
      ]
    },
    {
      "cell_type": "code",
      "execution_count": 56,
      "metadata": {
        "colab": {
          "base_uri": "https://localhost:8080/"
        },
        "id": "UkUxqJy1QVwy",
        "outputId": "faffb9de-8a80-4c40-9e71-31fa35e09505"
      },
      "outputs": [
        {
          "output_type": "stream",
          "name": "stderr",
          "text": [
            "/usr/local/lib/python3.7/dist-packages/sklearn/base.py:444: UserWarning: X has feature names, but SVR was fitted without feature names\n",
            "  f\"X has feature names, but {self.__class__.__name__} was fitted without\"\n"
          ]
        },
        {
          "output_type": "execute_result",
          "data": {
            "text/plain": [
              "{'mae': 0.8447532731870949,\n",
              " 'mape': 0.9883912914517913,\n",
              " 'mse': 1.5501966850479247,\n",
              " 'rmse': 1.2450689479092814,\n",
              " 'train_mae': 0.47777788093566537,\n",
              " 'train_mape': 94239714185469.19,\n",
              " 'train_mse': 2.7468713632099835,\n",
              " 'train_rmse': 1.6573688072393493}"
            ]
          },
          "metadata": {},
          "execution_count": 56
        }
      ],
      "source": [
        "svr_scores = show_scores_sklearn(svr_model)\n",
        "svr_scores"
      ]
    },
    {
      "cell_type": "code",
      "execution_count": 57,
      "metadata": {
        "colab": {
          "base_uri": "https://localhost:8080/"
        },
        "id": "tg_nJX3TQbYV",
        "outputId": "a6c5fdfb-7d74-46f6-a0d9-c64f9b2b0e8e"
      },
      "outputs": [
        {
          "output_type": "stream",
          "name": "stdout",
          "text": [
            "Fitting 5 folds for each of 5 candidates, totalling 25 fits\n"
          ]
        },
        {
          "output_type": "execute_result",
          "data": {
            "text/plain": [
              "RandomizedSearchCV(cv=5, estimator=SVR(), n_iter=5,\n",
              "                   param_distributions={'C': [1, 3, 5, 7, 9],\n",
              "                                        'degree': [1, 3, 5, 7, 9],\n",
              "                                        'epsilon': [0.1, 0.3, 0.5, 0.7, 0.9],\n",
              "                                        'gamma': ['scale', 'auto'],\n",
              "                                        'kernel': ['linear', 'poly', 'rbf',\n",
              "                                                   'sigmoid']},\n",
              "                   verbose=True)"
            ]
          },
          "metadata": {},
          "execution_count": 57
        }
      ],
      "source": [
        "rf_svr_params = {\n",
        "    'kernel': ['linear', 'poly', 'rbf', 'sigmoid'],\n",
        "    'gamma': ['scale', 'auto'],\n",
        "    'degree': [1, 3, 5, 7, 9],\n",
        "    'epsilon': [0.1, 0.3, 0.5, 0.7, 0.9],\n",
        "    'C': [1, 3, 5, 7, 9], \n",
        "}\n",
        "\n",
        "np.random.seed(42)\n",
        "rs_svr_model = RandomizedSearchCV(\n",
        "    SVR(),\n",
        "    param_distributions=rf_svr_params,\n",
        "    n_iter=5,\n",
        "    cv=5,\n",
        "    verbose=True\n",
        ")\n",
        "\n",
        "# X_train = np.asarray(X_train)\n",
        "# y_train = np.asarray(y_train)\n",
        "#Fit the randomized search cv model\n",
        "rs_svr_model.fit(X_train, y_train)"
      ]
    },
    {
      "cell_type": "code",
      "execution_count": 58,
      "metadata": {
        "colab": {
          "base_uri": "https://localhost:8080/"
        },
        "id": "TfX7YWArTwFW",
        "outputId": "f9b82168-de7b-4b0c-f7a7-ebdaf9ae9b9a"
      },
      "outputs": [
        {
          "output_type": "stream",
          "name": "stderr",
          "text": [
            "/usr/local/lib/python3.7/dist-packages/sklearn/base.py:444: UserWarning: X has feature names, but SVR was fitted without feature names\n",
            "  f\"X has feature names, but {self.__class__.__name__} was fitted without\"\n"
          ]
        },
        {
          "output_type": "execute_result",
          "data": {
            "text/plain": [
              "(0.23803327816763642, -0.12227579911322417)"
            ]
          },
          "metadata": {},
          "execution_count": 58
        }
      ],
      "source": [
        "rs_svr_model.score(X_train, y_train), rs_svr_model.score(X_test, y_test)"
      ]
    },
    {
      "cell_type": "code",
      "execution_count": 59,
      "metadata": {
        "colab": {
          "base_uri": "https://localhost:8080/"
        },
        "id": "LyRPXhMuUSvM",
        "outputId": "8927f3bd-2e45-4463-b54c-16c1c3115a36"
      },
      "outputs": [
        {
          "output_type": "stream",
          "name": "stderr",
          "text": [
            "/usr/local/lib/python3.7/dist-packages/sklearn/base.py:444: UserWarning: X has feature names, but SVR was fitted without feature names\n",
            "  f\"X has feature names, but {self.__class__.__name__} was fitted without\"\n"
          ]
        },
        {
          "output_type": "execute_result",
          "data": {
            "text/plain": [
              "{'mae': 0.5951115699702109,\n",
              " 'mape': 2.2402315355126277,\n",
              " 'mse': 0.9863821570619576,\n",
              " 'rmse': 0.9931677386332873,\n",
              " 'train_mae': 0.67922808743413,\n",
              " 'train_mape': 443854957390797.56,\n",
              " 'train_mse': 2.1723298122404153,\n",
              " 'train_rmse': 1.4738825639244177}"
            ]
          },
          "metadata": {},
          "execution_count": 59
        }
      ],
      "source": [
        "rs_svr_scores = show_scores_sklearn(rs_svr_model)\n",
        "rs_svr_scores"
      ]
    },
    {
      "cell_type": "code",
      "execution_count": 60,
      "metadata": {
        "colab": {
          "base_uri": "https://localhost:8080/",
          "height": 330
        },
        "id": "eI666yozUWpo",
        "outputId": "eb8ca1c4-5689-4743-f7f8-05ec33c96109"
      },
      "outputs": [
        {
          "output_type": "execute_result",
          "data": {
            "text/html": [
              "\n",
              "  <div id=\"df-38f062ac-cae6-47ee-a853-15a16ec91ae0\">\n",
              "    <div class=\"colab-df-container\">\n",
              "      <div>\n",
              "<style scoped>\n",
              "    .dataframe tbody tr th:only-of-type {\n",
              "        vertical-align: middle;\n",
              "    }\n",
              "\n",
              "    .dataframe tbody tr th {\n",
              "        vertical-align: top;\n",
              "    }\n",
              "\n",
              "    .dataframe thead th {\n",
              "        text-align: right;\n",
              "    }\n",
              "</style>\n",
              "<table border=\"1\" class=\"dataframe\">\n",
              "  <thead>\n",
              "    <tr style=\"text-align: right;\">\n",
              "      <th></th>\n",
              "      <th>models</th>\n",
              "      <th>mae</th>\n",
              "      <th>mape</th>\n",
              "      <th>mse</th>\n",
              "      <th>rmse</th>\n",
              "    </tr>\n",
              "  </thead>\n",
              "  <tbody>\n",
              "    <tr>\n",
              "      <th>0</th>\n",
              "      <td>Naive</td>\n",
              "      <td>0.165962</td>\n",
              "      <td>36.735161</td>\n",
              "      <td>0.067373</td>\n",
              "      <td>0.259563</td>\n",
              "    </tr>\n",
              "    <tr>\n",
              "      <th>1</th>\n",
              "      <td>Random Forest</td>\n",
              "      <td>0.291263</td>\n",
              "      <td>0.598496</td>\n",
              "      <td>0.321002</td>\n",
              "      <td>0.566570</td>\n",
              "    </tr>\n",
              "    <tr>\n",
              "      <th>2</th>\n",
              "      <td>Random Forest Randomized Search</td>\n",
              "      <td>0.278764</td>\n",
              "      <td>0.622309</td>\n",
              "      <td>0.256701</td>\n",
              "      <td>0.506657</td>\n",
              "    </tr>\n",
              "    <tr>\n",
              "      <th>3</th>\n",
              "      <td>KNeighboursRegressor</td>\n",
              "      <td>0.829200</td>\n",
              "      <td>1.068285</td>\n",
              "      <td>1.495180</td>\n",
              "      <td>1.222776</td>\n",
              "    </tr>\n",
              "    <tr>\n",
              "      <th>4</th>\n",
              "      <td>KNeighboursRegressor Randomized Search</td>\n",
              "      <td>0.825781</td>\n",
              "      <td>1.099597</td>\n",
              "      <td>1.478697</td>\n",
              "      <td>1.216017</td>\n",
              "    </tr>\n",
              "    <tr>\n",
              "      <th>5</th>\n",
              "      <td>Support Vector Regression</td>\n",
              "      <td>0.844753</td>\n",
              "      <td>0.988391</td>\n",
              "      <td>1.550197</td>\n",
              "      <td>1.245069</td>\n",
              "    </tr>\n",
              "    <tr>\n",
              "      <th>6</th>\n",
              "      <td>Support Vector Regression Randomized Search</td>\n",
              "      <td>0.595112</td>\n",
              "      <td>2.240232</td>\n",
              "      <td>0.986382</td>\n",
              "      <td>0.993168</td>\n",
              "    </tr>\n",
              "  </tbody>\n",
              "</table>\n",
              "</div>\n",
              "      <button class=\"colab-df-convert\" onclick=\"convertToInteractive('df-38f062ac-cae6-47ee-a853-15a16ec91ae0')\"\n",
              "              title=\"Convert this dataframe to an interactive table.\"\n",
              "              style=\"display:none;\">\n",
              "        \n",
              "  <svg xmlns=\"http://www.w3.org/2000/svg\" height=\"24px\"viewBox=\"0 0 24 24\"\n",
              "       width=\"24px\">\n",
              "    <path d=\"M0 0h24v24H0V0z\" fill=\"none\"/>\n",
              "    <path d=\"M18.56 5.44l.94 2.06.94-2.06 2.06-.94-2.06-.94-.94-2.06-.94 2.06-2.06.94zm-11 1L8.5 8.5l.94-2.06 2.06-.94-2.06-.94L8.5 2.5l-.94 2.06-2.06.94zm10 10l.94 2.06.94-2.06 2.06-.94-2.06-.94-.94-2.06-.94 2.06-2.06.94z\"/><path d=\"M17.41 7.96l-1.37-1.37c-.4-.4-.92-.59-1.43-.59-.52 0-1.04.2-1.43.59L10.3 9.45l-7.72 7.72c-.78.78-.78 2.05 0 2.83L4 21.41c.39.39.9.59 1.41.59.51 0 1.02-.2 1.41-.59l7.78-7.78 2.81-2.81c.8-.78.8-2.07 0-2.86zM5.41 20L4 18.59l7.72-7.72 1.47 1.35L5.41 20z\"/>\n",
              "  </svg>\n",
              "      </button>\n",
              "      \n",
              "  <style>\n",
              "    .colab-df-container {\n",
              "      display:flex;\n",
              "      flex-wrap:wrap;\n",
              "      gap: 12px;\n",
              "    }\n",
              "\n",
              "    .colab-df-convert {\n",
              "      background-color: #E8F0FE;\n",
              "      border: none;\n",
              "      border-radius: 50%;\n",
              "      cursor: pointer;\n",
              "      display: none;\n",
              "      fill: #1967D2;\n",
              "      height: 32px;\n",
              "      padding: 0 0 0 0;\n",
              "      width: 32px;\n",
              "    }\n",
              "\n",
              "    .colab-df-convert:hover {\n",
              "      background-color: #E2EBFA;\n",
              "      box-shadow: 0px 1px 2px rgba(60, 64, 67, 0.3), 0px 1px 3px 1px rgba(60, 64, 67, 0.15);\n",
              "      fill: #174EA6;\n",
              "    }\n",
              "\n",
              "    [theme=dark] .colab-df-convert {\n",
              "      background-color: #3B4455;\n",
              "      fill: #D2E3FC;\n",
              "    }\n",
              "\n",
              "    [theme=dark] .colab-df-convert:hover {\n",
              "      background-color: #434B5C;\n",
              "      box-shadow: 0px 1px 3px 1px rgba(0, 0, 0, 0.15);\n",
              "      filter: drop-shadow(0px 1px 2px rgba(0, 0, 0, 0.3));\n",
              "      fill: #FFFFFF;\n",
              "    }\n",
              "  </style>\n",
              "\n",
              "      <script>\n",
              "        const buttonEl =\n",
              "          document.querySelector('#df-38f062ac-cae6-47ee-a853-15a16ec91ae0 button.colab-df-convert');\n",
              "        buttonEl.style.display =\n",
              "          google.colab.kernel.accessAllowed ? 'block' : 'none';\n",
              "\n",
              "        async function convertToInteractive(key) {\n",
              "          const element = document.querySelector('#df-38f062ac-cae6-47ee-a853-15a16ec91ae0');\n",
              "          const dataTable =\n",
              "            await google.colab.kernel.invokeFunction('convertToInteractive',\n",
              "                                                     [key], {});\n",
              "          if (!dataTable) return;\n",
              "\n",
              "          const docLinkHtml = 'Like what you see? Visit the ' +\n",
              "            '<a target=\"_blank\" href=https://colab.research.google.com/notebooks/data_table.ipynb>data table notebook</a>'\n",
              "            + ' to learn more about interactive tables.';\n",
              "          element.innerHTML = '';\n",
              "          dataTable['output_type'] = 'display_data';\n",
              "          await google.colab.output.renderOutput(dataTable, element);\n",
              "          const docLink = document.createElement('div');\n",
              "          docLink.innerHTML = docLinkHtml;\n",
              "          element.appendChild(docLink);\n",
              "        }\n",
              "      </script>\n",
              "    </div>\n",
              "  </div>\n",
              "  "
            ],
            "text/plain": [
              "                                        models       mae  ...       mse      rmse\n",
              "0                                        Naive  0.165962  ...  0.067373  0.259563\n",
              "1                                Random Forest  0.291263  ...  0.321002  0.566570\n",
              "2              Random Forest Randomized Search  0.278764  ...  0.256701  0.506657\n",
              "3                         KNeighboursRegressor  0.829200  ...  1.495180  1.222776\n",
              "4       KNeighboursRegressor Randomized Search  0.825781  ...  1.478697  1.216017\n",
              "5                    Support Vector Regression  0.844753  ...  1.550197  1.245069\n",
              "6  Support Vector Regression Randomized Search  0.595112  ...  0.986382  0.993168\n",
              "\n",
              "[7 rows x 5 columns]"
            ]
          },
          "metadata": {},
          "execution_count": 60
        }
      ],
      "source": [
        "models.append('Support Vector Regression')\n",
        "models.append('Support Vector Regression Randomized Search')\n",
        "\n",
        "mae.append(svr_scores['mae'])\n",
        "mape.append(svr_scores['mape'])\n",
        "mse.append(svr_scores['mse']) \n",
        "rmse.append(svr_scores['rmse'])\n",
        "\n",
        "mae.append(rs_svr_scores['mae'])\n",
        "mape.append(rs_svr_scores['mape'])\n",
        "mse.append(rs_svr_scores['mse']) \n",
        "rmse.append(rs_svr_scores['rmse']) \n",
        "\n",
        "scores = pd.DataFrame(\n",
        "    data={\n",
        "        'models': models,\n",
        "        'mae': mae,\n",
        "        'mape': mape,\n",
        "        'mse': mse,\n",
        "        'rmse': rmse,\n",
        "    }    \n",
        ")\n",
        "\n",
        "scores"
      ]
    },
    {
      "cell_type": "markdown",
      "metadata": {
        "id": "NLwiiLiLngVq"
      },
      "source": [
        "### Ensemble Methods"
      ]
    },
    {
      "cell_type": "markdown",
      "metadata": {
        "id": "d1MPTF1no7VC"
      },
      "source": [
        "#### Combining RFR, KNR, and SVR"
      ]
    },
    {
      "cell_type": "code",
      "execution_count": 61,
      "metadata": {
        "id": "kUcSa3i2siXW"
      },
      "outputs": [],
      "source": [
        "from sklearn.ensemble import VotingRegressor"
      ]
    },
    {
      "cell_type": "code",
      "execution_count": 62,
      "metadata": {
        "id": "pnbKjenfskGI",
        "colab": {
          "base_uri": "https://localhost:8080/"
        },
        "outputId": "6999b7df-e5f2-417f-c74b-7d4e6264fbcb"
      },
      "outputs": [
        {
          "output_type": "stream",
          "name": "stdout",
          "text": [
            "Fitting 5 folds for each of 30 candidates, totalling 150 fits\n",
            "Fitting 5 folds for each of 30 candidates, totalling 150 fits\n",
            "Fitting 5 folds for each of 5 candidates, totalling 25 fits\n"
          ]
        },
        {
          "output_type": "execute_result",
          "data": {
            "text/plain": [
              "VotingRegressor(estimators=[('rfr',\n",
              "                             RandomizedSearchCV(cv=5,\n",
              "                                                estimator=RandomForestRegressor(n_jobs=-1),\n",
              "                                                n_iter=30,\n",
              "                                                param_distributions={'max_depth': [None,\n",
              "                                                                                   3,\n",
              "                                                                                   5,\n",
              "                                                                                   10],\n",
              "                                                                     'max_features': [0.5,\n",
              "                                                                                      1,\n",
              "                                                                                      'sqrt',\n",
              "                                                                                      'auto'],\n",
              "                                                                     'max_samples': [332],\n",
              "                                                                     'min_samples_leaf': array([ 1,  3,  5,  7,  9, 11, 13, 15, 17, 19]),\n",
              "                                                                     'min_samples_split': array([ 2,  4,  6,  8, 10, 12, 14, 16, 18]),\n",
              "                                                                     'n_estimators': array([10, 20, 3...\n",
              "                                                param_distributions={'algorithm': ['auto',\n",
              "                                                                                   'ball_tree',\n",
              "                                                                                   'kd_tree',\n",
              "                                                                                   'brute'],\n",
              "                                                                     'leaf_size': [20,\n",
              "                                                                                   30,\n",
              "                                                                                   40,\n",
              "                                                                                   50,\n",
              "                                                                                   60],\n",
              "                                                                     'n_neighbors': [1,\n",
              "                                                                                     3,\n",
              "                                                                                     5,\n",
              "                                                                                     10,\n",
              "                                                                                     20]},\n",
              "                                                verbose=True)),\n",
              "                            ('svr',\n",
              "                             RandomizedSearchCV(cv=5, estimator=SVR(), n_iter=5,\n",
              "                                                param_distributions={'C': [1, 3,\n",
              "                                                                           5, 7,\n",
              "                                                                           9],\n",
              "                                                                     'degree': [1,\n",
              "                                                                                3,\n",
              "                                                                                5,\n",
              "                                                                                7,\n",
              "                                                                                9],\n",
              "                                                                     'epsilon': [0.1,\n",
              "                                                                                 0.3,\n",
              "                                                                                 0.5,\n",
              "                                                                                 0.7,\n",
              "                                                                                 0.9],\n",
              "                                                                     'gamma': ['scale',\n",
              "                                                                               'auto'],\n",
              "                                                                     'kernel': ['linear',\n",
              "                                                                                'poly',\n",
              "                                                                                'rbf',\n",
              "                                                                                'sigmoid']},\n",
              "                                                verbose=True))])"
            ]
          },
          "metadata": {},
          "execution_count": 62
        }
      ],
      "source": [
        "vr_model = VotingRegressor(\n",
        "    estimators=[\n",
        "        ('rfr', rs_model),\n",
        "        ('knr', rs_k_model),\n",
        "        ('svr', rs_svr_model),\n",
        "    ]\n",
        ")\n",
        "\n",
        "np.random.seed(42)\n",
        "# X_train_dot = np.dot(X_train, X_train.T)\n",
        "# X_test_dot = np.dot(X_test, X_train.T)\n",
        "vr_model.fit(X_train, y_train)"
      ]
    },
    {
      "cell_type": "code",
      "source": [
        "vr_model.score(X_train, y_train), vr_model.score(X_test, y_test)"
      ],
      "metadata": {
        "id": "VAQLbxGquGcq",
        "colab": {
          "base_uri": "https://localhost:8080/"
        },
        "outputId": "500104c0-876b-4b42-b95e-98372d862a34"
      },
      "execution_count": 63,
      "outputs": [
        {
          "output_type": "stream",
          "name": "stderr",
          "text": [
            "/usr/local/lib/python3.7/dist-packages/sklearn/base.py:444: UserWarning: X has feature names, but RandomForestRegressor was fitted without feature names\n",
            "  f\"X has feature names, but {self.__class__.__name__} was fitted without\"\n",
            "/usr/local/lib/python3.7/dist-packages/sklearn/base.py:444: UserWarning: X has feature names, but KNeighborsRegressor was fitted without feature names\n",
            "  f\"X has feature names, but {self.__class__.__name__} was fitted without\"\n",
            "/usr/local/lib/python3.7/dist-packages/sklearn/base.py:444: UserWarning: X has feature names, but SVR was fitted without feature names\n",
            "  f\"X has feature names, but {self.__class__.__name__} was fitted without\"\n"
          ]
        },
        {
          "output_type": "execute_result",
          "data": {
            "text/plain": [
              "(0.7968312499296278, 0.12682940773521278)"
            ]
          },
          "metadata": {},
          "execution_count": 63
        }
      ]
    },
    {
      "cell_type": "code",
      "source": [
        "vr_scores = show_scores_sklearn(vr_model)\n",
        "vr_scores"
      ],
      "metadata": {
        "id": "GjoQAHzww1LQ",
        "colab": {
          "base_uri": "https://localhost:8080/"
        },
        "outputId": "7af58591-a189-451c-d930-f3998e9c4564"
      },
      "execution_count": 64,
      "outputs": [
        {
          "output_type": "stream",
          "name": "stderr",
          "text": [
            "/usr/local/lib/python3.7/dist-packages/sklearn/base.py:444: UserWarning: X has feature names, but RandomForestRegressor was fitted without feature names\n",
            "  f\"X has feature names, but {self.__class__.__name__} was fitted without\"\n",
            "/usr/local/lib/python3.7/dist-packages/sklearn/base.py:444: UserWarning: X has feature names, but KNeighborsRegressor was fitted without feature names\n",
            "  f\"X has feature names, but {self.__class__.__name__} was fitted without\"\n",
            "/usr/local/lib/python3.7/dist-packages/sklearn/base.py:444: UserWarning: X has feature names, but SVR was fitted without feature names\n",
            "  f\"X has feature names, but {self.__class__.__name__} was fitted without\"\n"
          ]
        },
        {
          "output_type": "execute_result",
          "data": {
            "text/plain": [
              "{'mae': 0.5096415819285015,\n",
              " 'mape': 1.0878458050743878,\n",
              " 'mse': 0.7674404927574449,\n",
              " 'rmse': 0.8760368101612197,\n",
              " 'train_mae': 0.3030603184542476,\n",
              " 'train_mape': 165088533408876.56,\n",
              " 'train_mse': 0.5792241577586776,\n",
              " 'train_rmse': 0.761067774747215}"
            ]
          },
          "metadata": {},
          "execution_count": 64
        }
      ]
    },
    {
      "cell_type": "code",
      "source": [
        "models.append('VotingRegressor')\n",
        "\n",
        "mae.append(vr_scores['mae'])\n",
        "mape.append(vr_scores['mape'])\n",
        "mse.append(vr_scores['mse']) \n",
        "rmse.append(vr_scores['rmse'])\n",
        "\n",
        "scores = pd.DataFrame(\n",
        "    data={\n",
        "        'models': models,\n",
        "        'mae': mae,\n",
        "        'mape': mape,\n",
        "        'mse': mse,\n",
        "        'rmse': rmse,\n",
        "    }    \n",
        ")\n",
        "\n",
        "scores"
      ],
      "metadata": {
        "id": "370ediEKw65u",
        "colab": {
          "base_uri": "https://localhost:8080/",
          "height": 451
        },
        "outputId": "6b14195c-46d8-4299-b939-564ac60d0964"
      },
      "execution_count": 65,
      "outputs": [
        {
          "output_type": "execute_result",
          "data": {
            "text/html": [
              "\n",
              "  <div id=\"df-bd5df218-eb6f-472e-88e5-6d66810fa5cc\">\n",
              "    <div class=\"colab-df-container\">\n",
              "      <div>\n",
              "<style scoped>\n",
              "    .dataframe tbody tr th:only-of-type {\n",
              "        vertical-align: middle;\n",
              "    }\n",
              "\n",
              "    .dataframe tbody tr th {\n",
              "        vertical-align: top;\n",
              "    }\n",
              "\n",
              "    .dataframe thead th {\n",
              "        text-align: right;\n",
              "    }\n",
              "</style>\n",
              "<table border=\"1\" class=\"dataframe\">\n",
              "  <thead>\n",
              "    <tr style=\"text-align: right;\">\n",
              "      <th></th>\n",
              "      <th>models</th>\n",
              "      <th>mae</th>\n",
              "      <th>mape</th>\n",
              "      <th>mse</th>\n",
              "      <th>rmse</th>\n",
              "    </tr>\n",
              "  </thead>\n",
              "  <tbody>\n",
              "    <tr>\n",
              "      <th>0</th>\n",
              "      <td>Naive</td>\n",
              "      <td>0.165962</td>\n",
              "      <td>36.735161</td>\n",
              "      <td>0.067373</td>\n",
              "      <td>0.259563</td>\n",
              "    </tr>\n",
              "    <tr>\n",
              "      <th>1</th>\n",
              "      <td>Random Forest</td>\n",
              "      <td>0.291263</td>\n",
              "      <td>0.598496</td>\n",
              "      <td>0.321002</td>\n",
              "      <td>0.566570</td>\n",
              "    </tr>\n",
              "    <tr>\n",
              "      <th>2</th>\n",
              "      <td>Random Forest Randomized Search</td>\n",
              "      <td>0.278764</td>\n",
              "      <td>0.622309</td>\n",
              "      <td>0.256701</td>\n",
              "      <td>0.506657</td>\n",
              "    </tr>\n",
              "    <tr>\n",
              "      <th>3</th>\n",
              "      <td>KNeighboursRegressor</td>\n",
              "      <td>0.829200</td>\n",
              "      <td>1.068285</td>\n",
              "      <td>1.495180</td>\n",
              "      <td>1.222776</td>\n",
              "    </tr>\n",
              "    <tr>\n",
              "      <th>4</th>\n",
              "      <td>KNeighboursRegressor Randomized Search</td>\n",
              "      <td>0.825781</td>\n",
              "      <td>1.099597</td>\n",
              "      <td>1.478697</td>\n",
              "      <td>1.216017</td>\n",
              "    </tr>\n",
              "    <tr>\n",
              "      <th>5</th>\n",
              "      <td>Support Vector Regression</td>\n",
              "      <td>0.844753</td>\n",
              "      <td>0.988391</td>\n",
              "      <td>1.550197</td>\n",
              "      <td>1.245069</td>\n",
              "    </tr>\n",
              "    <tr>\n",
              "      <th>6</th>\n",
              "      <td>Support Vector Regression Randomized Search</td>\n",
              "      <td>0.595112</td>\n",
              "      <td>2.240232</td>\n",
              "      <td>0.986382</td>\n",
              "      <td>0.993168</td>\n",
              "    </tr>\n",
              "    <tr>\n",
              "      <th>7</th>\n",
              "      <td>VotingRegressor</td>\n",
              "      <td>0.509642</td>\n",
              "      <td>1.087846</td>\n",
              "      <td>0.767440</td>\n",
              "      <td>0.876037</td>\n",
              "    </tr>\n",
              "  </tbody>\n",
              "</table>\n",
              "</div>\n",
              "      <button class=\"colab-df-convert\" onclick=\"convertToInteractive('df-bd5df218-eb6f-472e-88e5-6d66810fa5cc')\"\n",
              "              title=\"Convert this dataframe to an interactive table.\"\n",
              "              style=\"display:none;\">\n",
              "        \n",
              "  <svg xmlns=\"http://www.w3.org/2000/svg\" height=\"24px\"viewBox=\"0 0 24 24\"\n",
              "       width=\"24px\">\n",
              "    <path d=\"M0 0h24v24H0V0z\" fill=\"none\"/>\n",
              "    <path d=\"M18.56 5.44l.94 2.06.94-2.06 2.06-.94-2.06-.94-.94-2.06-.94 2.06-2.06.94zm-11 1L8.5 8.5l.94-2.06 2.06-.94-2.06-.94L8.5 2.5l-.94 2.06-2.06.94zm10 10l.94 2.06.94-2.06 2.06-.94-2.06-.94-.94-2.06-.94 2.06-2.06.94z\"/><path d=\"M17.41 7.96l-1.37-1.37c-.4-.4-.92-.59-1.43-.59-.52 0-1.04.2-1.43.59L10.3 9.45l-7.72 7.72c-.78.78-.78 2.05 0 2.83L4 21.41c.39.39.9.59 1.41.59.51 0 1.02-.2 1.41-.59l7.78-7.78 2.81-2.81c.8-.78.8-2.07 0-2.86zM5.41 20L4 18.59l7.72-7.72 1.47 1.35L5.41 20z\"/>\n",
              "  </svg>\n",
              "      </button>\n",
              "      \n",
              "  <style>\n",
              "    .colab-df-container {\n",
              "      display:flex;\n",
              "      flex-wrap:wrap;\n",
              "      gap: 12px;\n",
              "    }\n",
              "\n",
              "    .colab-df-convert {\n",
              "      background-color: #E8F0FE;\n",
              "      border: none;\n",
              "      border-radius: 50%;\n",
              "      cursor: pointer;\n",
              "      display: none;\n",
              "      fill: #1967D2;\n",
              "      height: 32px;\n",
              "      padding: 0 0 0 0;\n",
              "      width: 32px;\n",
              "    }\n",
              "\n",
              "    .colab-df-convert:hover {\n",
              "      background-color: #E2EBFA;\n",
              "      box-shadow: 0px 1px 2px rgba(60, 64, 67, 0.3), 0px 1px 3px 1px rgba(60, 64, 67, 0.15);\n",
              "      fill: #174EA6;\n",
              "    }\n",
              "\n",
              "    [theme=dark] .colab-df-convert {\n",
              "      background-color: #3B4455;\n",
              "      fill: #D2E3FC;\n",
              "    }\n",
              "\n",
              "    [theme=dark] .colab-df-convert:hover {\n",
              "      background-color: #434B5C;\n",
              "      box-shadow: 0px 1px 3px 1px rgba(0, 0, 0, 0.15);\n",
              "      filter: drop-shadow(0px 1px 2px rgba(0, 0, 0, 0.3));\n",
              "      fill: #FFFFFF;\n",
              "    }\n",
              "  </style>\n",
              "\n",
              "      <script>\n",
              "        const buttonEl =\n",
              "          document.querySelector('#df-bd5df218-eb6f-472e-88e5-6d66810fa5cc button.colab-df-convert');\n",
              "        buttonEl.style.display =\n",
              "          google.colab.kernel.accessAllowed ? 'block' : 'none';\n",
              "\n",
              "        async function convertToInteractive(key) {\n",
              "          const element = document.querySelector('#df-bd5df218-eb6f-472e-88e5-6d66810fa5cc');\n",
              "          const dataTable =\n",
              "            await google.colab.kernel.invokeFunction('convertToInteractive',\n",
              "                                                     [key], {});\n",
              "          if (!dataTable) return;\n",
              "\n",
              "          const docLinkHtml = 'Like what you see? Visit the ' +\n",
              "            '<a target=\"_blank\" href=https://colab.research.google.com/notebooks/data_table.ipynb>data table notebook</a>'\n",
              "            + ' to learn more about interactive tables.';\n",
              "          element.innerHTML = '';\n",
              "          dataTable['output_type'] = 'display_data';\n",
              "          await google.colab.output.renderOutput(dataTable, element);\n",
              "          const docLink = document.createElement('div');\n",
              "          docLink.innerHTML = docLinkHtml;\n",
              "          element.appendChild(docLink);\n",
              "        }\n",
              "      </script>\n",
              "    </div>\n",
              "  </div>\n",
              "  "
            ],
            "text/plain": [
              "                                        models       mae  ...       mse      rmse\n",
              "0                                        Naive  0.165962  ...  0.067373  0.259563\n",
              "1                                Random Forest  0.291263  ...  0.321002  0.566570\n",
              "2              Random Forest Randomized Search  0.278764  ...  0.256701  0.506657\n",
              "3                         KNeighboursRegressor  0.829200  ...  1.495180  1.222776\n",
              "4       KNeighboursRegressor Randomized Search  0.825781  ...  1.478697  1.216017\n",
              "5                    Support Vector Regression  0.844753  ...  1.550197  1.245069\n",
              "6  Support Vector Regression Randomized Search  0.595112  ...  0.986382  0.993168\n",
              "7                              VotingRegressor  0.509642  ...  0.767440  0.876037\n",
              "\n",
              "[8 rows x 5 columns]"
            ]
          },
          "metadata": {},
          "execution_count": 65
        }
      ]
    },
    {
      "cell_type": "markdown",
      "source": [
        "#### GradientTreeBoosting Regressor"
      ],
      "metadata": {
        "id": "gWyQsnRkxKCG"
      }
    },
    {
      "cell_type": "code",
      "source": [
        "from sklearn.ensemble import GradientBoostingRegressor\n",
        "from sklearn.ensemble import StackingRegressor"
      ],
      "metadata": {
        "id": "Uoi3CXxtxfKC"
      },
      "execution_count": 66,
      "outputs": []
    },
    {
      "cell_type": "code",
      "source": [
        "np.random.seed(42)\n",
        "gbr_model = GradientBoostingRegressor()\n",
        "\n",
        "gbr_model.fit(X_train, y_train)"
      ],
      "metadata": {
        "id": "4ImrZjcHzgYV",
        "colab": {
          "base_uri": "https://localhost:8080/"
        },
        "outputId": "8ccd390e-65d4-4baa-abb1-660cc4c11628"
      },
      "execution_count": 67,
      "outputs": [
        {
          "output_type": "execute_result",
          "data": {
            "text/plain": [
              "GradientBoostingRegressor()"
            ]
          },
          "metadata": {},
          "execution_count": 67
        }
      ]
    },
    {
      "cell_type": "code",
      "source": [
        "gbr_scores = show_scores_sklearn(gbr_model)\n",
        "gbr_scores"
      ],
      "metadata": {
        "id": "bwqZjpwVzzs4",
        "colab": {
          "base_uri": "https://localhost:8080/"
        },
        "outputId": "774295aa-5acf-4eed-d8cc-e69b30f92d14"
      },
      "execution_count": 68,
      "outputs": [
        {
          "output_type": "stream",
          "name": "stderr",
          "text": [
            "/usr/local/lib/python3.7/dist-packages/sklearn/base.py:444: UserWarning: X has feature names, but GradientBoostingRegressor was fitted without feature names\n",
            "  f\"X has feature names, but {self.__class__.__name__} was fitted without\"\n"
          ]
        },
        {
          "output_type": "execute_result",
          "data": {
            "text/plain": [
              "{'mae': 0.3223732201932685,\n",
              " 'mape': 0.7211524796242192,\n",
              " 'mse': 0.47666577581390046,\n",
              " 'rmse': 0.6904098607449783,\n",
              " 'train_mae': 0.02307777968479966,\n",
              " 'train_mape': 10305479337141.752,\n",
              " 'train_mse': 0.0011263439563763316,\n",
              " 'train_rmse': 0.0335610482013946}"
            ]
          },
          "metadata": {},
          "execution_count": 68
        }
      ]
    },
    {
      "cell_type": "code",
      "source": [
        "models.append('GradientTreeBoosting Regressor')\n",
        "\n",
        "mae.append(gbr_scores['mae'])\n",
        "mape.append(gbr_scores['mape'])\n",
        "mse.append(gbr_scores['mse']) \n",
        "rmse.append(gbr_scores['rmse'])\n",
        "\n",
        "scores = pd.DataFrame(\n",
        "    data={\n",
        "        'models': models,\n",
        "        'mae': mae,\n",
        "        'mape': mape,\n",
        "        'mse': mse,\n",
        "        'rmse': rmse,\n",
        "    }    \n",
        ")\n",
        "\n",
        "scores"
      ],
      "metadata": {
        "id": "GRfQqQOAz5kf",
        "colab": {
          "base_uri": "https://localhost:8080/",
          "height": 393
        },
        "outputId": "22c5672a-7694-4b74-dca7-bb39c91764a8"
      },
      "execution_count": 69,
      "outputs": [
        {
          "output_type": "execute_result",
          "data": {
            "text/html": [
              "\n",
              "  <div id=\"df-06c4977b-99ed-4929-8423-8e6fa0031780\">\n",
              "    <div class=\"colab-df-container\">\n",
              "      <div>\n",
              "<style scoped>\n",
              "    .dataframe tbody tr th:only-of-type {\n",
              "        vertical-align: middle;\n",
              "    }\n",
              "\n",
              "    .dataframe tbody tr th {\n",
              "        vertical-align: top;\n",
              "    }\n",
              "\n",
              "    .dataframe thead th {\n",
              "        text-align: right;\n",
              "    }\n",
              "</style>\n",
              "<table border=\"1\" class=\"dataframe\">\n",
              "  <thead>\n",
              "    <tr style=\"text-align: right;\">\n",
              "      <th></th>\n",
              "      <th>models</th>\n",
              "      <th>mae</th>\n",
              "      <th>mape</th>\n",
              "      <th>mse</th>\n",
              "      <th>rmse</th>\n",
              "    </tr>\n",
              "  </thead>\n",
              "  <tbody>\n",
              "    <tr>\n",
              "      <th>0</th>\n",
              "      <td>Naive</td>\n",
              "      <td>0.165962</td>\n",
              "      <td>36.735161</td>\n",
              "      <td>0.067373</td>\n",
              "      <td>0.259563</td>\n",
              "    </tr>\n",
              "    <tr>\n",
              "      <th>1</th>\n",
              "      <td>Random Forest</td>\n",
              "      <td>0.291263</td>\n",
              "      <td>0.598496</td>\n",
              "      <td>0.321002</td>\n",
              "      <td>0.566570</td>\n",
              "    </tr>\n",
              "    <tr>\n",
              "      <th>2</th>\n",
              "      <td>Random Forest Randomized Search</td>\n",
              "      <td>0.278764</td>\n",
              "      <td>0.622309</td>\n",
              "      <td>0.256701</td>\n",
              "      <td>0.506657</td>\n",
              "    </tr>\n",
              "    <tr>\n",
              "      <th>3</th>\n",
              "      <td>KNeighboursRegressor</td>\n",
              "      <td>0.829200</td>\n",
              "      <td>1.068285</td>\n",
              "      <td>1.495180</td>\n",
              "      <td>1.222776</td>\n",
              "    </tr>\n",
              "    <tr>\n",
              "      <th>4</th>\n",
              "      <td>KNeighboursRegressor Randomized Search</td>\n",
              "      <td>0.825781</td>\n",
              "      <td>1.099597</td>\n",
              "      <td>1.478697</td>\n",
              "      <td>1.216017</td>\n",
              "    </tr>\n",
              "    <tr>\n",
              "      <th>5</th>\n",
              "      <td>Support Vector Regression</td>\n",
              "      <td>0.844753</td>\n",
              "      <td>0.988391</td>\n",
              "      <td>1.550197</td>\n",
              "      <td>1.245069</td>\n",
              "    </tr>\n",
              "    <tr>\n",
              "      <th>6</th>\n",
              "      <td>Support Vector Regression Randomized Search</td>\n",
              "      <td>0.595112</td>\n",
              "      <td>2.240232</td>\n",
              "      <td>0.986382</td>\n",
              "      <td>0.993168</td>\n",
              "    </tr>\n",
              "    <tr>\n",
              "      <th>7</th>\n",
              "      <td>VotingRegressor</td>\n",
              "      <td>0.509642</td>\n",
              "      <td>1.087846</td>\n",
              "      <td>0.767440</td>\n",
              "      <td>0.876037</td>\n",
              "    </tr>\n",
              "    <tr>\n",
              "      <th>8</th>\n",
              "      <td>GradientTreeBoosting Regressor</td>\n",
              "      <td>0.322373</td>\n",
              "      <td>0.721152</td>\n",
              "      <td>0.476666</td>\n",
              "      <td>0.690410</td>\n",
              "    </tr>\n",
              "  </tbody>\n",
              "</table>\n",
              "</div>\n",
              "      <button class=\"colab-df-convert\" onclick=\"convertToInteractive('df-06c4977b-99ed-4929-8423-8e6fa0031780')\"\n",
              "              title=\"Convert this dataframe to an interactive table.\"\n",
              "              style=\"display:none;\">\n",
              "        \n",
              "  <svg xmlns=\"http://www.w3.org/2000/svg\" height=\"24px\"viewBox=\"0 0 24 24\"\n",
              "       width=\"24px\">\n",
              "    <path d=\"M0 0h24v24H0V0z\" fill=\"none\"/>\n",
              "    <path d=\"M18.56 5.44l.94 2.06.94-2.06 2.06-.94-2.06-.94-.94-2.06-.94 2.06-2.06.94zm-11 1L8.5 8.5l.94-2.06 2.06-.94-2.06-.94L8.5 2.5l-.94 2.06-2.06.94zm10 10l.94 2.06.94-2.06 2.06-.94-2.06-.94-.94-2.06-.94 2.06-2.06.94z\"/><path d=\"M17.41 7.96l-1.37-1.37c-.4-.4-.92-.59-1.43-.59-.52 0-1.04.2-1.43.59L10.3 9.45l-7.72 7.72c-.78.78-.78 2.05 0 2.83L4 21.41c.39.39.9.59 1.41.59.51 0 1.02-.2 1.41-.59l7.78-7.78 2.81-2.81c.8-.78.8-2.07 0-2.86zM5.41 20L4 18.59l7.72-7.72 1.47 1.35L5.41 20z\"/>\n",
              "  </svg>\n",
              "      </button>\n",
              "      \n",
              "  <style>\n",
              "    .colab-df-container {\n",
              "      display:flex;\n",
              "      flex-wrap:wrap;\n",
              "      gap: 12px;\n",
              "    }\n",
              "\n",
              "    .colab-df-convert {\n",
              "      background-color: #E8F0FE;\n",
              "      border: none;\n",
              "      border-radius: 50%;\n",
              "      cursor: pointer;\n",
              "      display: none;\n",
              "      fill: #1967D2;\n",
              "      height: 32px;\n",
              "      padding: 0 0 0 0;\n",
              "      width: 32px;\n",
              "    }\n",
              "\n",
              "    .colab-df-convert:hover {\n",
              "      background-color: #E2EBFA;\n",
              "      box-shadow: 0px 1px 2px rgba(60, 64, 67, 0.3), 0px 1px 3px 1px rgba(60, 64, 67, 0.15);\n",
              "      fill: #174EA6;\n",
              "    }\n",
              "\n",
              "    [theme=dark] .colab-df-convert {\n",
              "      background-color: #3B4455;\n",
              "      fill: #D2E3FC;\n",
              "    }\n",
              "\n",
              "    [theme=dark] .colab-df-convert:hover {\n",
              "      background-color: #434B5C;\n",
              "      box-shadow: 0px 1px 3px 1px rgba(0, 0, 0, 0.15);\n",
              "      filter: drop-shadow(0px 1px 2px rgba(0, 0, 0, 0.3));\n",
              "      fill: #FFFFFF;\n",
              "    }\n",
              "  </style>\n",
              "\n",
              "      <script>\n",
              "        const buttonEl =\n",
              "          document.querySelector('#df-06c4977b-99ed-4929-8423-8e6fa0031780 button.colab-df-convert');\n",
              "        buttonEl.style.display =\n",
              "          google.colab.kernel.accessAllowed ? 'block' : 'none';\n",
              "\n",
              "        async function convertToInteractive(key) {\n",
              "          const element = document.querySelector('#df-06c4977b-99ed-4929-8423-8e6fa0031780');\n",
              "          const dataTable =\n",
              "            await google.colab.kernel.invokeFunction('convertToInteractive',\n",
              "                                                     [key], {});\n",
              "          if (!dataTable) return;\n",
              "\n",
              "          const docLinkHtml = 'Like what you see? Visit the ' +\n",
              "            '<a target=\"_blank\" href=https://colab.research.google.com/notebooks/data_table.ipynb>data table notebook</a>'\n",
              "            + ' to learn more about interactive tables.';\n",
              "          element.innerHTML = '';\n",
              "          dataTable['output_type'] = 'display_data';\n",
              "          await google.colab.output.renderOutput(dataTable, element);\n",
              "          const docLink = document.createElement('div');\n",
              "          docLink.innerHTML = docLinkHtml;\n",
              "          element.appendChild(docLink);\n",
              "        }\n",
              "      </script>\n",
              "    </div>\n",
              "  </div>\n",
              "  "
            ],
            "text/plain": [
              "                                        models       mae  ...       mse      rmse\n",
              "0                                        Naive  0.165962  ...  0.067373  0.259563\n",
              "1                                Random Forest  0.291263  ...  0.321002  0.566570\n",
              "2              Random Forest Randomized Search  0.278764  ...  0.256701  0.506657\n",
              "3                         KNeighboursRegressor  0.829200  ...  1.495180  1.222776\n",
              "4       KNeighboursRegressor Randomized Search  0.825781  ...  1.478697  1.216017\n",
              "5                    Support Vector Regression  0.844753  ...  1.550197  1.245069\n",
              "6  Support Vector Regression Randomized Search  0.595112  ...  0.986382  0.993168\n",
              "7                              VotingRegressor  0.509642  ...  0.767440  0.876037\n",
              "8               GradientTreeBoosting Regressor  0.322373  ...  0.476666  0.690410\n",
              "\n",
              "[9 rows x 5 columns]"
            ]
          },
          "metadata": {},
          "execution_count": 69
        }
      ]
    },
    {
      "cell_type": "code",
      "source": [
        "np.random.seed(42)\n",
        "rf_gbr_params = {\n",
        "    'loss' : ['squared_error', 'absolute_error', 'huber', 'quantile'],\n",
        "    'n_estimators': [100, 200, 400, 800, 1000, 1600],\n",
        "    'criterion': ['friedman_mse', 'squared_error', 'absolute_error'],\n",
        "    'max_features': ['auto', 'sqrt', 'log2'],\n",
        "    'max_depth': [1, 3, 5, 10, 20, 50],\n",
        "    'min_samples_leaf': [1, 5, 10, 20],\n",
        "    'learning_rate': [0.1, 0.001, 0.005, 0.0001]\n",
        "}\n",
        "\n",
        "rs_gbr_model = RandomizedSearchCV(\n",
        "    GradientBoostingRegressor(),\n",
        "    param_distributions=rf_gbr_params,\n",
        "    n_iter=5,\n",
        "    cv=5,\n",
        "    verbose=True\n",
        ")\n",
        "\n",
        "#Fit the randomized search cv model\n",
        "rs_gbr_model.fit(X_train, y_train)"
      ],
      "metadata": {
        "id": "hLuqkhXY0Fxp",
        "colab": {
          "base_uri": "https://localhost:8080/"
        },
        "outputId": "a760f2ae-ed58-4934-d4ab-d5e730d2ed1b"
      },
      "execution_count": 70,
      "outputs": [
        {
          "output_type": "stream",
          "name": "stderr",
          "text": [
            "/usr/local/lib/python3.7/dist-packages/sklearn/ensemble/_gb.py:1859: FutureWarning: criterion='mae' was deprecated in version 0.24 and will be removed in version 1.1 (renaming of 0.26). The correct way of minimizing the absolute error is to use  loss='absolute_error' instead.\n",
            "  FutureWarning,\n"
          ]
        },
        {
          "output_type": "stream",
          "name": "stdout",
          "text": [
            "Fitting 5 folds for each of 5 candidates, totalling 25 fits\n"
          ]
        },
        {
          "output_type": "stream",
          "name": "stderr",
          "text": [
            "/usr/local/lib/python3.7/dist-packages/sklearn/ensemble/_gb.py:1859: FutureWarning: criterion='mae' was deprecated in version 0.24 and will be removed in version 1.1 (renaming of 0.26). The correct way of minimizing the absolute error is to use  loss='absolute_error' instead.\n",
            "  FutureWarning,\n",
            "/usr/local/lib/python3.7/dist-packages/sklearn/ensemble/_gb.py:1859: FutureWarning: criterion='mae' was deprecated in version 0.24 and will be removed in version 1.1 (renaming of 0.26). The correct way of minimizing the absolute error is to use  loss='absolute_error' instead.\n",
            "  FutureWarning,\n",
            "/usr/local/lib/python3.7/dist-packages/sklearn/ensemble/_gb.py:1859: FutureWarning: criterion='mae' was deprecated in version 0.24 and will be removed in version 1.1 (renaming of 0.26). The correct way of minimizing the absolute error is to use  loss='absolute_error' instead.\n",
            "  FutureWarning,\n",
            "/usr/local/lib/python3.7/dist-packages/sklearn/ensemble/_gb.py:1859: FutureWarning: criterion='mae' was deprecated in version 0.24 and will be removed in version 1.1 (renaming of 0.26). The correct way of minimizing the absolute error is to use  loss='absolute_error' instead.\n",
            "  FutureWarning,\n"
          ]
        },
        {
          "output_type": "execute_result",
          "data": {
            "text/plain": [
              "RandomizedSearchCV(cv=5, estimator=GradientBoostingRegressor(), n_iter=5,\n",
              "                   param_distributions={'criterion': ['friedman_mse',\n",
              "                                                      'squared_error',\n",
              "                                                      'absolute_error'],\n",
              "                                        'learning_rate': [0.1, 0.001, 0.005,\n",
              "                                                          0.0001],\n",
              "                                        'loss': ['squared_error',\n",
              "                                                 'absolute_error', 'huber',\n",
              "                                                 'quantile'],\n",
              "                                        'max_depth': [1, 3, 5, 10, 20, 50],\n",
              "                                        'max_features': ['auto', 'sqrt',\n",
              "                                                         'log2'],\n",
              "                                        'min_samples_leaf': [1, 5, 10, 20],\n",
              "                                        'n_estimators': [100, 200, 400, 800,\n",
              "                                                         1000, 1600]},\n",
              "                   verbose=True)"
            ]
          },
          "metadata": {},
          "execution_count": 70
        }
      ]
    },
    {
      "cell_type": "code",
      "source": [
        "rs_gbr_scores = show_scores_sklearn(rs_gbr_model)\n",
        "rs_gbr_scores"
      ],
      "metadata": {
        "id": "ehNDJGJI1P8j",
        "colab": {
          "base_uri": "https://localhost:8080/"
        },
        "outputId": "8963d312-d58e-4e59-b878-ffd9fce6cbfa"
      },
      "execution_count": 71,
      "outputs": [
        {
          "output_type": "stream",
          "name": "stderr",
          "text": [
            "/usr/local/lib/python3.7/dist-packages/sklearn/base.py:444: UserWarning: X has feature names, but GradientBoostingRegressor was fitted without feature names\n",
            "  f\"X has feature names, but {self.__class__.__name__} was fitted without\"\n"
          ]
        },
        {
          "output_type": "execute_result",
          "data": {
            "text/plain": [
              "{'mae': 0.34758717078631046,\n",
              " 'mape': 0.8339769847911337,\n",
              " 'mse': 0.26478403215081925,\n",
              " 'rmse': 0.5145716977747797,\n",
              " 'train_mae': 0.17959691696508176,\n",
              " 'train_mape': 39795759635030.93,\n",
              " 'train_mse': 0.3781523435035388,\n",
              " 'train_rmse': 0.6149409268405697}"
            ]
          },
          "metadata": {},
          "execution_count": 71
        }
      ]
    },
    {
      "cell_type": "code",
      "source": [
        "models.append('GradientTreeBoosting Regressor Randomized Search')\n",
        "\n",
        "mae.append(rs_gbr_scores['mae'])\n",
        "mape.append(rs_gbr_scores['mape'])\n",
        "mse.append(rs_gbr_scores['mse']) \n",
        "rmse.append(rs_gbr_scores['rmse'])\n",
        "\n",
        "scores = pd.DataFrame(\n",
        "    data={\n",
        "        'models': models,\n",
        "        'mae': mae,\n",
        "        'mape': mape,\n",
        "        'mse': mse,\n",
        "        'rmse': rmse,\n",
        "    }    \n",
        ")\n",
        "\n",
        "scores"
      ],
      "metadata": {
        "id": "Zcoe3BXm1oXt",
        "colab": {
          "base_uri": "https://localhost:8080/",
          "height": 442
        },
        "outputId": "75d135be-6c84-44ac-d8e1-a4d9ab7fc69a"
      },
      "execution_count": 72,
      "outputs": [
        {
          "output_type": "execute_result",
          "data": {
            "text/html": [
              "\n",
              "  <div id=\"df-e828a79d-d105-4214-af53-284ef1310c37\">\n",
              "    <div class=\"colab-df-container\">\n",
              "      <div>\n",
              "<style scoped>\n",
              "    .dataframe tbody tr th:only-of-type {\n",
              "        vertical-align: middle;\n",
              "    }\n",
              "\n",
              "    .dataframe tbody tr th {\n",
              "        vertical-align: top;\n",
              "    }\n",
              "\n",
              "    .dataframe thead th {\n",
              "        text-align: right;\n",
              "    }\n",
              "</style>\n",
              "<table border=\"1\" class=\"dataframe\">\n",
              "  <thead>\n",
              "    <tr style=\"text-align: right;\">\n",
              "      <th></th>\n",
              "      <th>models</th>\n",
              "      <th>mae</th>\n",
              "      <th>mape</th>\n",
              "      <th>mse</th>\n",
              "      <th>rmse</th>\n",
              "    </tr>\n",
              "  </thead>\n",
              "  <tbody>\n",
              "    <tr>\n",
              "      <th>0</th>\n",
              "      <td>Naive</td>\n",
              "      <td>0.165962</td>\n",
              "      <td>36.735161</td>\n",
              "      <td>0.067373</td>\n",
              "      <td>0.259563</td>\n",
              "    </tr>\n",
              "    <tr>\n",
              "      <th>1</th>\n",
              "      <td>Random Forest</td>\n",
              "      <td>0.291263</td>\n",
              "      <td>0.598496</td>\n",
              "      <td>0.321002</td>\n",
              "      <td>0.566570</td>\n",
              "    </tr>\n",
              "    <tr>\n",
              "      <th>2</th>\n",
              "      <td>Random Forest Randomized Search</td>\n",
              "      <td>0.278764</td>\n",
              "      <td>0.622309</td>\n",
              "      <td>0.256701</td>\n",
              "      <td>0.506657</td>\n",
              "    </tr>\n",
              "    <tr>\n",
              "      <th>3</th>\n",
              "      <td>KNeighboursRegressor</td>\n",
              "      <td>0.829200</td>\n",
              "      <td>1.068285</td>\n",
              "      <td>1.495180</td>\n",
              "      <td>1.222776</td>\n",
              "    </tr>\n",
              "    <tr>\n",
              "      <th>4</th>\n",
              "      <td>KNeighboursRegressor Randomized Search</td>\n",
              "      <td>0.825781</td>\n",
              "      <td>1.099597</td>\n",
              "      <td>1.478697</td>\n",
              "      <td>1.216017</td>\n",
              "    </tr>\n",
              "    <tr>\n",
              "      <th>5</th>\n",
              "      <td>Support Vector Regression</td>\n",
              "      <td>0.844753</td>\n",
              "      <td>0.988391</td>\n",
              "      <td>1.550197</td>\n",
              "      <td>1.245069</td>\n",
              "    </tr>\n",
              "    <tr>\n",
              "      <th>6</th>\n",
              "      <td>Support Vector Regression Randomized Search</td>\n",
              "      <td>0.595112</td>\n",
              "      <td>2.240232</td>\n",
              "      <td>0.986382</td>\n",
              "      <td>0.993168</td>\n",
              "    </tr>\n",
              "    <tr>\n",
              "      <th>7</th>\n",
              "      <td>VotingRegressor</td>\n",
              "      <td>0.509642</td>\n",
              "      <td>1.087846</td>\n",
              "      <td>0.767440</td>\n",
              "      <td>0.876037</td>\n",
              "    </tr>\n",
              "    <tr>\n",
              "      <th>8</th>\n",
              "      <td>GradientTreeBoosting Regressor</td>\n",
              "      <td>0.322373</td>\n",
              "      <td>0.721152</td>\n",
              "      <td>0.476666</td>\n",
              "      <td>0.690410</td>\n",
              "    </tr>\n",
              "    <tr>\n",
              "      <th>9</th>\n",
              "      <td>GradientTreeBoosting Regressor Randomized Search</td>\n",
              "      <td>0.347587</td>\n",
              "      <td>0.833977</td>\n",
              "      <td>0.264784</td>\n",
              "      <td>0.514572</td>\n",
              "    </tr>\n",
              "  </tbody>\n",
              "</table>\n",
              "</div>\n",
              "      <button class=\"colab-df-convert\" onclick=\"convertToInteractive('df-e828a79d-d105-4214-af53-284ef1310c37')\"\n",
              "              title=\"Convert this dataframe to an interactive table.\"\n",
              "              style=\"display:none;\">\n",
              "        \n",
              "  <svg xmlns=\"http://www.w3.org/2000/svg\" height=\"24px\"viewBox=\"0 0 24 24\"\n",
              "       width=\"24px\">\n",
              "    <path d=\"M0 0h24v24H0V0z\" fill=\"none\"/>\n",
              "    <path d=\"M18.56 5.44l.94 2.06.94-2.06 2.06-.94-2.06-.94-.94-2.06-.94 2.06-2.06.94zm-11 1L8.5 8.5l.94-2.06 2.06-.94-2.06-.94L8.5 2.5l-.94 2.06-2.06.94zm10 10l.94 2.06.94-2.06 2.06-.94-2.06-.94-.94-2.06-.94 2.06-2.06.94z\"/><path d=\"M17.41 7.96l-1.37-1.37c-.4-.4-.92-.59-1.43-.59-.52 0-1.04.2-1.43.59L10.3 9.45l-7.72 7.72c-.78.78-.78 2.05 0 2.83L4 21.41c.39.39.9.59 1.41.59.51 0 1.02-.2 1.41-.59l7.78-7.78 2.81-2.81c.8-.78.8-2.07 0-2.86zM5.41 20L4 18.59l7.72-7.72 1.47 1.35L5.41 20z\"/>\n",
              "  </svg>\n",
              "      </button>\n",
              "      \n",
              "  <style>\n",
              "    .colab-df-container {\n",
              "      display:flex;\n",
              "      flex-wrap:wrap;\n",
              "      gap: 12px;\n",
              "    }\n",
              "\n",
              "    .colab-df-convert {\n",
              "      background-color: #E8F0FE;\n",
              "      border: none;\n",
              "      border-radius: 50%;\n",
              "      cursor: pointer;\n",
              "      display: none;\n",
              "      fill: #1967D2;\n",
              "      height: 32px;\n",
              "      padding: 0 0 0 0;\n",
              "      width: 32px;\n",
              "    }\n",
              "\n",
              "    .colab-df-convert:hover {\n",
              "      background-color: #E2EBFA;\n",
              "      box-shadow: 0px 1px 2px rgba(60, 64, 67, 0.3), 0px 1px 3px 1px rgba(60, 64, 67, 0.15);\n",
              "      fill: #174EA6;\n",
              "    }\n",
              "\n",
              "    [theme=dark] .colab-df-convert {\n",
              "      background-color: #3B4455;\n",
              "      fill: #D2E3FC;\n",
              "    }\n",
              "\n",
              "    [theme=dark] .colab-df-convert:hover {\n",
              "      background-color: #434B5C;\n",
              "      box-shadow: 0px 1px 3px 1px rgba(0, 0, 0, 0.15);\n",
              "      filter: drop-shadow(0px 1px 2px rgba(0, 0, 0, 0.3));\n",
              "      fill: #FFFFFF;\n",
              "    }\n",
              "  </style>\n",
              "\n",
              "      <script>\n",
              "        const buttonEl =\n",
              "          document.querySelector('#df-e828a79d-d105-4214-af53-284ef1310c37 button.colab-df-convert');\n",
              "        buttonEl.style.display =\n",
              "          google.colab.kernel.accessAllowed ? 'block' : 'none';\n",
              "\n",
              "        async function convertToInteractive(key) {\n",
              "          const element = document.querySelector('#df-e828a79d-d105-4214-af53-284ef1310c37');\n",
              "          const dataTable =\n",
              "            await google.colab.kernel.invokeFunction('convertToInteractive',\n",
              "                                                     [key], {});\n",
              "          if (!dataTable) return;\n",
              "\n",
              "          const docLinkHtml = 'Like what you see? Visit the ' +\n",
              "            '<a target=\"_blank\" href=https://colab.research.google.com/notebooks/data_table.ipynb>data table notebook</a>'\n",
              "            + ' to learn more about interactive tables.';\n",
              "          element.innerHTML = '';\n",
              "          dataTable['output_type'] = 'display_data';\n",
              "          await google.colab.output.renderOutput(dataTable, element);\n",
              "          const docLink = document.createElement('div');\n",
              "          docLink.innerHTML = docLinkHtml;\n",
              "          element.appendChild(docLink);\n",
              "        }\n",
              "      </script>\n",
              "    </div>\n",
              "  </div>\n",
              "  "
            ],
            "text/plain": [
              "                                             models  ...      rmse\n",
              "0                                             Naive  ...  0.259563\n",
              "1                                     Random Forest  ...  0.566570\n",
              "2                   Random Forest Randomized Search  ...  0.506657\n",
              "3                              KNeighboursRegressor  ...  1.222776\n",
              "4            KNeighboursRegressor Randomized Search  ...  1.216017\n",
              "5                         Support Vector Regression  ...  1.245069\n",
              "6       Support Vector Regression Randomized Search  ...  0.993168\n",
              "7                                   VotingRegressor  ...  0.876037\n",
              "8                    GradientTreeBoosting Regressor  ...  0.690410\n",
              "9  GradientTreeBoosting Regressor Randomized Search  ...  0.514572\n",
              "\n",
              "[10 rows x 5 columns]"
            ]
          },
          "metadata": {},
          "execution_count": 72
        }
      ]
    },
    {
      "cell_type": "markdown",
      "source": [
        "### Plotting best model evaluations"
      ],
      "metadata": {
        "id": "pANNgLrORnOS"
      }
    },
    {
      "cell_type": "code",
      "source": [
        "# Plot forecasts\n",
        "rs_forecast = model.predict(X_test)\n",
        "rs_ideal_forecast = rs_model.predict(X_test)\n",
        "k_forecast = k_model.predict(X_test)\n",
        "rs_k_forecast = rs_k_model.predict(X_test)\n",
        "svr_forecast = svr_model.predict(X_test)\n",
        "rs_svr_forecast = rs_svr_model.predict(X_test) \n",
        "vr_forecast = vr_model.predict(X_test)\n",
        "gbr_forecast = gbr_model.predict(X_test)\n",
        "rs_gbr_forecast = rs_gbr_model.predict(X_test)"
      ],
      "metadata": {
        "colab": {
          "base_uri": "https://localhost:8080/"
        },
        "id": "SPyZblZPT9md",
        "outputId": "eeda239e-a3bb-4ead-b7b8-9c1b80a3968b"
      },
      "execution_count": 73,
      "outputs": [
        {
          "output_type": "stream",
          "name": "stderr",
          "text": [
            "/usr/local/lib/python3.7/dist-packages/sklearn/base.py:444: UserWarning: X has feature names, but RandomForestRegressor was fitted without feature names\n",
            "  f\"X has feature names, but {self.__class__.__name__} was fitted without\"\n",
            "/usr/local/lib/python3.7/dist-packages/sklearn/base.py:444: UserWarning: X has feature names, but RandomForestRegressor was fitted without feature names\n",
            "  f\"X has feature names, but {self.__class__.__name__} was fitted without\"\n",
            "/usr/local/lib/python3.7/dist-packages/sklearn/base.py:444: UserWarning: X has feature names, but KNeighborsRegressor was fitted without feature names\n",
            "  f\"X has feature names, but {self.__class__.__name__} was fitted without\"\n",
            "/usr/local/lib/python3.7/dist-packages/sklearn/base.py:444: UserWarning: X has feature names, but KNeighborsRegressor was fitted without feature names\n",
            "  f\"X has feature names, but {self.__class__.__name__} was fitted without\"\n",
            "/usr/local/lib/python3.7/dist-packages/sklearn/base.py:444: UserWarning: X has feature names, but SVR was fitted without feature names\n",
            "  f\"X has feature names, but {self.__class__.__name__} was fitted without\"\n",
            "/usr/local/lib/python3.7/dist-packages/sklearn/base.py:444: UserWarning: X has feature names, but SVR was fitted without feature names\n",
            "  f\"X has feature names, but {self.__class__.__name__} was fitted without\"\n",
            "/usr/local/lib/python3.7/dist-packages/sklearn/base.py:444: UserWarning: X has feature names, but RandomForestRegressor was fitted without feature names\n",
            "  f\"X has feature names, but {self.__class__.__name__} was fitted without\"\n",
            "/usr/local/lib/python3.7/dist-packages/sklearn/base.py:444: UserWarning: X has feature names, but KNeighborsRegressor was fitted without feature names\n",
            "  f\"X has feature names, but {self.__class__.__name__} was fitted without\"\n",
            "/usr/local/lib/python3.7/dist-packages/sklearn/base.py:444: UserWarning: X has feature names, but SVR was fitted without feature names\n",
            "  f\"X has feature names, but {self.__class__.__name__} was fitted without\"\n",
            "/usr/local/lib/python3.7/dist-packages/sklearn/base.py:444: UserWarning: X has feature names, but GradientBoostingRegressor was fitted without feature names\n",
            "  f\"X has feature names, but {self.__class__.__name__} was fitted without\"\n",
            "/usr/local/lib/python3.7/dist-packages/sklearn/base.py:444: UserWarning: X has feature names, but GradientBoostingRegressor was fitted without feature names\n",
            "  f\"X has feature names, but {self.__class__.__name__} was fitted without\"\n"
          ]
        }
      ]
    },
    {
      "cell_type": "code",
      "source": [
        "plt.figure(figsize=(18, 7))\n",
        "offset = 10 # offset the values by 300 timesteps \n",
        "plot_time_series(timesteps=X_time_test,  values=y_test, label=\"Test data\")\n",
        "plot_time_series(timesteps=X_time_test[1:], values=naive_forecast, format=\"-\",  label=\"Naive forecast\")\n",
        "plot_time_series(timesteps=X_time_test, start=offset, values=rs_forecast, label='RandomForest forecast')\n",
        "plot_time_series(timesteps=X_time_test,  values=rs_ideal_forecast, label='Randomized Search RandomForest forecast')\n",
        "# plot_time_series(timesteps=X_time_test, start=offset, values=k_forecast, label='KNR forecast')\n",
        "# plot_time_series(timesteps=X_time_test, start=offset, values=rs_k_forecast, label='Ideal KNR forecast')\n",
        "# plot_time_series(timesteps=X_time_test, start=offset, values=svr_forecast, label='SVR forecast')\n",
        "# plot_time_series(timesteps=X_time_test, start=offset, values=rs_svr_forecast, label='Ideal SVR forecast')\n",
        "# plot_time_series(timesteps=X_time_test, start=offset, values=vr_forecast, label='VotingRegressor forecast')\n",
        "plot_time_series(timesteps=X_time_test, start=offset, values=gbr_forecast, label='GradientTree forecast')\n",
        "plot_time_series(timesteps=X_time_test, values=rs_gbr_forecast, label='Randomized Search GradientTree forecast')\n",
        "plt.title('Best Model Predictions for Cebu', fontsize=18, fontweight='bold')\n",
        "\n",
        "plt.show();"
      ],
      "metadata": {
        "colab": {
          "base_uri": "https://localhost:8080/",
          "height": 54
        },
        "id": "voq3SajUW68E",
        "outputId": "64bdc260-b5a9-4ec8-d68c-0760e2b2aed7"
      },
      "execution_count": 74,
      "outputs": [
        {
          "output_type": "display_data",
          "data": {
            "image/png": "[encoded data removed]",
            "text/plain": [
              "<Figure size 1296x504 with 1 Axes>"
            ]
          },
          "metadata": {
            "needs_background": "light"
          }
        }
      ]
    },
    {
      "cell_type": "markdown",
      "source": [
        " ### Feature importance"
      ],
      "metadata": {
        "id": "tB_TlVhgf3Qa"
      }
    },
    {
      "cell_type": "code",
      "source": [
        "rs_model.best_params_"
      ],
      "metadata": {
        "colab": {
          "base_uri": "https://localhost:8080/"
        },
        "id": "I4MtLukZhhfw",
        "outputId": "e7403298-c321-4169-ae16-fa790d48b5f3"
      },
      "execution_count": 75,
      "outputs": [
        {
          "output_type": "execute_result",
          "data": {
            "text/plain": [
              "{'max_depth': 10,\n",
              " 'max_features': 'auto',\n",
              " 'max_samples': 332,\n",
              " 'min_samples_leaf': 3,\n",
              " 'min_samples_split': 18,\n",
              " 'n_estimators': 70}"
            ]
          },
          "metadata": {},
          "execution_count": 75
        }
      ]
    },
    {
      "cell_type": "code",
      "source": [
        "# best_rs_model = RandomForestRegressor(\n",
        "#     n_jobs=-1,\n",
        "#     max_depth=30,\n",
        "#     max_features='auto',\n",
        "#     max_samples=416,\n",
        "#     min_samples_leaf=10,\n",
        "#     min_samples_split=40,\n",
        "#     n_estimators=200\n",
        "# )\n",
        "\n",
        "# best_rs_model.fit(X_train, y_train)\n",
        "np.random.seed(1)\n",
        "best_rs_model = RandomForestRegressor(\n",
        "    n_jobs=-1,\n",
        "    max_depth=150,\n",
        "    max_features='auto',\n",
        "    max_samples=416,\n",
        "    min_samples_leaf=10,\n",
        "    min_samples_split=50,\n",
        "    n_estimators=700\n",
        ")\n",
        "\n",
        "best_rs_model.fit(X_train, y_train)"
      ],
      "metadata": {
        "colab": {
          "base_uri": "https://localhost:8080/"
        },
        "id": "fEB5eZTqv1Gl",
        "outputId": "ab7a5c97-9b91-4e2e-f12c-90a34dc37d00"
      },
      "execution_count": 76,
      "outputs": [
        {
          "output_type": "execute_result",
          "data": {
            "text/plain": [
              "RandomForestRegressor(max_depth=150, max_samples=416, min_samples_leaf=10,\n",
              "                      min_samples_split=50, n_estimators=700, n_jobs=-1)"
            ]
          },
          "metadata": {},
          "execution_count": 76
        }
      ]
    },
    {
      "cell_type": "code",
      "source": [
        "best_rs_scores = show_scores_sklearn(best_rs_model)\n",
        "best_rs_scores"
      ],
      "metadata": {
        "colab": {
          "base_uri": "https://localhost:8080/"
        },
        "id": "Zpe3xzZKiF18",
        "outputId": "99a9e634-f9cc-4dc5-8cfe-079a98c2d06c"
      },
      "execution_count": 77,
      "outputs": [
        {
          "output_type": "stream",
          "name": "stderr",
          "text": [
            "/usr/local/lib/python3.7/dist-packages/sklearn/base.py:444: UserWarning: X has feature names, but RandomForestRegressor was fitted without feature names\n",
            "  f\"X has feature names, but {self.__class__.__name__} was fitted without\"\n"
          ]
        },
        {
          "output_type": "execute_result",
          "data": {
            "text/plain": [
              "{'mae': 0.26547516962003626,\n",
              " 'mape': 0.5397256472914121,\n",
              " 'mse': 0.13998207810549565,\n",
              " 'rmse': 0.37414178877197835,\n",
              " 'train_mae': 0.1373175129423157,\n",
              " 'train_mape': 9550609727002.135,\n",
              " 'train_mse': 0.22037235458622254,\n",
              " 'train_rmse': 0.4694383394932955}"
            ]
          },
          "metadata": {},
          "execution_count": 77
        }
      ]
    },
    {
      "cell_type": "code",
      "source": [
        "scores"
      ],
      "metadata": {
        "colab": {
          "base_uri": "https://localhost:8080/",
          "height": 442
        },
        "id": "W13J_o0TxASu",
        "outputId": "5de89fd4-e428-4c5a-8bf9-88eacfd7e00f"
      },
      "execution_count": 78,
      "outputs": [
        {
          "output_type": "execute_result",
          "data": {
            "text/html": [
              "\n",
              "  <div id=\"df-492bfa7e-d81a-4629-af6a-6dc085bbd94c\">\n",
              "    <div class=\"colab-df-container\">\n",
              "      <div>\n",
              "<style scoped>\n",
              "    .dataframe tbody tr th:only-of-type {\n",
              "        vertical-align: middle;\n",
              "    }\n",
              "\n",
              "    .dataframe tbody tr th {\n",
              "        vertical-align: top;\n",
              "    }\n",
              "\n",
              "    .dataframe thead th {\n",
              "        text-align: right;\n",
              "    }\n",
              "</style>\n",
              "<table border=\"1\" class=\"dataframe\">\n",
              "  <thead>\n",
              "    <tr style=\"text-align: right;\">\n",
              "      <th></th>\n",
              "      <th>models</th>\n",
              "      <th>mae</th>\n",
              "      <th>mape</th>\n",
              "      <th>mse</th>\n",
              "      <th>rmse</th>\n",
              "    </tr>\n",
              "  </thead>\n",
              "  <tbody>\n",
              "    <tr>\n",
              "      <th>0</th>\n",
              "      <td>Naive</td>\n",
              "      <td>0.165962</td>\n",
              "      <td>36.735161</td>\n",
              "      <td>0.067373</td>\n",
              "      <td>0.259563</td>\n",
              "    </tr>\n",
              "    <tr>\n",
              "      <th>1</th>\n",
              "      <td>Random Forest</td>\n",
              "      <td>0.291263</td>\n",
              "      <td>0.598496</td>\n",
              "      <td>0.321002</td>\n",
              "      <td>0.566570</td>\n",
              "    </tr>\n",
              "    <tr>\n",
              "      <th>2</th>\n",
              "      <td>Random Forest Randomized Search</td>\n",
              "      <td>0.278764</td>\n",
              "      <td>0.622309</td>\n",
              "      <td>0.256701</td>\n",
              "      <td>0.506657</td>\n",
              "    </tr>\n",
              "    <tr>\n",
              "      <th>3</th>\n",
              "      <td>KNeighboursRegressor</td>\n",
              "      <td>0.829200</td>\n",
              "      <td>1.068285</td>\n",
              "      <td>1.495180</td>\n",
              "      <td>1.222776</td>\n",
              "    </tr>\n",
              "    <tr>\n",
              "      <th>4</th>\n",
              "      <td>KNeighboursRegressor Randomized Search</td>\n",
              "      <td>0.825781</td>\n",
              "      <td>1.099597</td>\n",
              "      <td>1.478697</td>\n",
              "      <td>1.216017</td>\n",
              "    </tr>\n",
              "    <tr>\n",
              "      <th>5</th>\n",
              "      <td>Support Vector Regression</td>\n",
              "      <td>0.844753</td>\n",
              "      <td>0.988391</td>\n",
              "      <td>1.550197</td>\n",
              "      <td>1.245069</td>\n",
              "    </tr>\n",
              "    <tr>\n",
              "      <th>6</th>\n",
              "      <td>Support Vector Regression Randomized Search</td>\n",
              "      <td>0.595112</td>\n",
              "      <td>2.240232</td>\n",
              "      <td>0.986382</td>\n",
              "      <td>0.993168</td>\n",
              "    </tr>\n",
              "    <tr>\n",
              "      <th>7</th>\n",
              "      <td>VotingRegressor</td>\n",
              "      <td>0.509642</td>\n",
              "      <td>1.087846</td>\n",
              "      <td>0.767440</td>\n",
              "      <td>0.876037</td>\n",
              "    </tr>\n",
              "    <tr>\n",
              "      <th>8</th>\n",
              "      <td>GradientTreeBoosting Regressor</td>\n",
              "      <td>0.322373</td>\n",
              "      <td>0.721152</td>\n",
              "      <td>0.476666</td>\n",
              "      <td>0.690410</td>\n",
              "    </tr>\n",
              "    <tr>\n",
              "      <th>9</th>\n",
              "      <td>GradientTreeBoosting Regressor Randomized Search</td>\n",
              "      <td>0.347587</td>\n",
              "      <td>0.833977</td>\n",
              "      <td>0.264784</td>\n",
              "      <td>0.514572</td>\n",
              "    </tr>\n",
              "  </tbody>\n",
              "</table>\n",
              "</div>\n",
              "      <button class=\"colab-df-convert\" onclick=\"convertToInteractive('df-492bfa7e-d81a-4629-af6a-6dc085bbd94c')\"\n",
              "              title=\"Convert this dataframe to an interactive table.\"\n",
              "              style=\"display:none;\">\n",
              "        \n",
              "  <svg xmlns=\"http://www.w3.org/2000/svg\" height=\"24px\"viewBox=\"0 0 24 24\"\n",
              "       width=\"24px\">\n",
              "    <path d=\"M0 0h24v24H0V0z\" fill=\"none\"/>\n",
              "    <path d=\"M18.56 5.44l.94 2.06.94-2.06 2.06-.94-2.06-.94-.94-2.06-.94 2.06-2.06.94zm-11 1L8.5 8.5l.94-2.06 2.06-.94-2.06-.94L8.5 2.5l-.94 2.06-2.06.94zm10 10l.94 2.06.94-2.06 2.06-.94-2.06-.94-.94-2.06-.94 2.06-2.06.94z\"/><path d=\"M17.41 7.96l-1.37-1.37c-.4-.4-.92-.59-1.43-.59-.52 0-1.04.2-1.43.59L10.3 9.45l-7.72 7.72c-.78.78-.78 2.05 0 2.83L4 21.41c.39.39.9.59 1.41.59.51 0 1.02-.2 1.41-.59l7.78-7.78 2.81-2.81c.8-.78.8-2.07 0-2.86zM5.41 20L4 18.59l7.72-7.72 1.47 1.35L5.41 20z\"/>\n",
              "  </svg>\n",
              "      </button>\n",
              "      \n",
              "  <style>\n",
              "    .colab-df-container {\n",
              "      display:flex;\n",
              "      flex-wrap:wrap;\n",
              "      gap: 12px;\n",
              "    }\n",
              "\n",
              "    .colab-df-convert {\n",
              "      background-color: #E8F0FE;\n",
              "      border: none;\n",
              "      border-radius: 50%;\n",
              "      cursor: pointer;\n",
              "      display: none;\n",
              "      fill: #1967D2;\n",
              "      height: 32px;\n",
              "      padding: 0 0 0 0;\n",
              "      width: 32px;\n",
              "    }\n",
              "\n",
              "    .colab-df-convert:hover {\n",
              "      background-color: #E2EBFA;\n",
              "      box-shadow: 0px 1px 2px rgba(60, 64, 67, 0.3), 0px 1px 3px 1px rgba(60, 64, 67, 0.15);\n",
              "      fill: #174EA6;\n",
              "    }\n",
              "\n",
              "    [theme=dark] .colab-df-convert {\n",
              "      background-color: #3B4455;\n",
              "      fill: #D2E3FC;\n",
              "    }\n",
              "\n",
              "    [theme=dark] .colab-df-convert:hover {\n",
              "      background-color: #434B5C;\n",
              "      box-shadow: 0px 1px 3px 1px rgba(0, 0, 0, 0.15);\n",
              "      filter: drop-shadow(0px 1px 2px rgba(0, 0, 0, 0.3));\n",
              "      fill: #FFFFFF;\n",
              "    }\n",
              "  </style>\n",
              "\n",
              "      <script>\n",
              "        const buttonEl =\n",
              "          document.querySelector('#df-492bfa7e-d81a-4629-af6a-6dc085bbd94c button.colab-df-convert');\n",
              "        buttonEl.style.display =\n",
              "          google.colab.kernel.accessAllowed ? 'block' : 'none';\n",
              "\n",
              "        async function convertToInteractive(key) {\n",
              "          const element = document.querySelector('#df-492bfa7e-d81a-4629-af6a-6dc085bbd94c');\n",
              "          const dataTable =\n",
              "            await google.colab.kernel.invokeFunction('convertToInteractive',\n",
              "                                                     [key], {});\n",
              "          if (!dataTable) return;\n",
              "\n",
              "          const docLinkHtml = 'Like what you see? Visit the ' +\n",
              "            '<a target=\"_blank\" href=https://colab.research.google.com/notebooks/data_table.ipynb>data table notebook</a>'\n",
              "            + ' to learn more about interactive tables.';\n",
              "          element.innerHTML = '';\n",
              "          dataTable['output_type'] = 'display_data';\n",
              "          await google.colab.output.renderOutput(dataTable, element);\n",
              "          const docLink = document.createElement('div');\n",
              "          docLink.innerHTML = docLinkHtml;\n",
              "          element.appendChild(docLink);\n",
              "        }\n",
              "      </script>\n",
              "    </div>\n",
              "  </div>\n",
              "  "
            ],
            "text/plain": [
              "                                             models  ...      rmse\n",
              "0                                             Naive  ...  0.259563\n",
              "1                                     Random Forest  ...  0.566570\n",
              "2                   Random Forest Randomized Search  ...  0.506657\n",
              "3                              KNeighboursRegressor  ...  1.222776\n",
              "4            KNeighboursRegressor Randomized Search  ...  1.216017\n",
              "5                         Support Vector Regression  ...  1.245069\n",
              "6       Support Vector Regression Randomized Search  ...  0.993168\n",
              "7                                   VotingRegressor  ...  0.876037\n",
              "8                    GradientTreeBoosting Regressor  ...  0.690410\n",
              "9  GradientTreeBoosting Regressor Randomized Search  ...  0.514572\n",
              "\n",
              "[10 rows x 5 columns]"
            ]
          },
          "metadata": {},
          "execution_count": 78
        }
      ]
    },
    {
      "cell_type": "code",
      "source": [
        "models.append('Random Forest Manually Tuned')\n",
        "\n",
        "mae.append(best_rs_scores['mae'])\n",
        "mape.append(best_rs_scores['mape'])\n",
        "mse.append(best_rs_scores['mse']) \n",
        "rmse.append(best_rs_scores['rmse'])\n",
        "\n",
        "scores = pd.DataFrame(\n",
        "    data={\n",
        "        'models': models,\n",
        "        'mae': mae,\n",
        "        'mape': mape,\n",
        "        'mse': mse,\n",
        "        'rmse': rmse,\n",
        "    }    \n",
        ")\n",
        "\n",
        "scores"
      ],
      "metadata": {
        "colab": {
          "base_uri": "https://localhost:8080/",
          "height": 473
        },
        "id": "_wqdH43xvys0",
        "outputId": "9f1397cb-b454-4897-bea9-92dce26b03ac"
      },
      "execution_count": 79,
      "outputs": [
        {
          "output_type": "execute_result",
          "data": {
            "text/html": [
              "\n",
              "  <div id=\"df-3a747420-f842-414a-b75b-691b3e4d179e\">\n",
              "    <div class=\"colab-df-container\">\n",
              "      <div>\n",
              "<style scoped>\n",
              "    .dataframe tbody tr th:only-of-type {\n",
              "        vertical-align: middle;\n",
              "    }\n",
              "\n",
              "    .dataframe tbody tr th {\n",
              "        vertical-align: top;\n",
              "    }\n",
              "\n",
              "    .dataframe thead th {\n",
              "        text-align: right;\n",
              "    }\n",
              "</style>\n",
              "<table border=\"1\" class=\"dataframe\">\n",
              "  <thead>\n",
              "    <tr style=\"text-align: right;\">\n",
              "      <th></th>\n",
              "      <th>models</th>\n",
              "      <th>mae</th>\n",
              "      <th>mape</th>\n",
              "      <th>mse</th>\n",
              "      <th>rmse</th>\n",
              "    </tr>\n",
              "  </thead>\n",
              "  <tbody>\n",
              "    <tr>\n",
              "      <th>0</th>\n",
              "      <td>Naive</td>\n",
              "      <td>0.165962</td>\n",
              "      <td>36.735161</td>\n",
              "      <td>0.067373</td>\n",
              "      <td>0.259563</td>\n",
              "    </tr>\n",
              "    <tr>\n",
              "      <th>1</th>\n",
              "      <td>Random Forest</td>\n",
              "      <td>0.291263</td>\n",
              "      <td>0.598496</td>\n",
              "      <td>0.321002</td>\n",
              "      <td>0.566570</td>\n",
              "    </tr>\n",
              "    <tr>\n",
              "      <th>2</th>\n",
              "      <td>Random Forest Randomized Search</td>\n",
              "      <td>0.278764</td>\n",
              "      <td>0.622309</td>\n",
              "      <td>0.256701</td>\n",
              "      <td>0.506657</td>\n",
              "    </tr>\n",
              "    <tr>\n",
              "      <th>3</th>\n",
              "      <td>KNeighboursRegressor</td>\n",
              "      <td>0.829200</td>\n",
              "      <td>1.068285</td>\n",
              "      <td>1.495180</td>\n",
              "      <td>1.222776</td>\n",
              "    </tr>\n",
              "    <tr>\n",
              "      <th>4</th>\n",
              "      <td>KNeighboursRegressor Randomized Search</td>\n",
              "      <td>0.825781</td>\n",
              "      <td>1.099597</td>\n",
              "      <td>1.478697</td>\n",
              "      <td>1.216017</td>\n",
              "    </tr>\n",
              "    <tr>\n",
              "      <th>5</th>\n",
              "      <td>Support Vector Regression</td>\n",
              "      <td>0.844753</td>\n",
              "      <td>0.988391</td>\n",
              "      <td>1.550197</td>\n",
              "      <td>1.245069</td>\n",
              "    </tr>\n",
              "    <tr>\n",
              "      <th>6</th>\n",
              "      <td>Support Vector Regression Randomized Search</td>\n",
              "      <td>0.595112</td>\n",
              "      <td>2.240232</td>\n",
              "      <td>0.986382</td>\n",
              "      <td>0.993168</td>\n",
              "    </tr>\n",
              "    <tr>\n",
              "      <th>7</th>\n",
              "      <td>VotingRegressor</td>\n",
              "      <td>0.509642</td>\n",
              "      <td>1.087846</td>\n",
              "      <td>0.767440</td>\n",
              "      <td>0.876037</td>\n",
              "    </tr>\n",
              "    <tr>\n",
              "      <th>8</th>\n",
              "      <td>GradientTreeBoosting Regressor</td>\n",
              "      <td>0.322373</td>\n",
              "      <td>0.721152</td>\n",
              "      <td>0.476666</td>\n",
              "      <td>0.690410</td>\n",
              "    </tr>\n",
              "    <tr>\n",
              "      <th>9</th>\n",
              "      <td>GradientTreeBoosting Regressor Randomized Search</td>\n",
              "      <td>0.347587</td>\n",
              "      <td>0.833977</td>\n",
              "      <td>0.264784</td>\n",
              "      <td>0.514572</td>\n",
              "    </tr>\n",
              "    <tr>\n",
              "      <th>10</th>\n",
              "      <td>Random Forest Manually Tuned</td>\n",
              "      <td>0.265475</td>\n",
              "      <td>0.539726</td>\n",
              "      <td>0.139982</td>\n",
              "      <td>0.374142</td>\n",
              "    </tr>\n",
              "  </tbody>\n",
              "</table>\n",
              "</div>\n",
              "      <button class=\"colab-df-convert\" onclick=\"convertToInteractive('df-3a747420-f842-414a-b75b-691b3e4d179e')\"\n",
              "              title=\"Convert this dataframe to an interactive table.\"\n",
              "              style=\"display:none;\">\n",
              "        \n",
              "  <svg xmlns=\"http://www.w3.org/2000/svg\" height=\"24px\"viewBox=\"0 0 24 24\"\n",
              "       width=\"24px\">\n",
              "    <path d=\"M0 0h24v24H0V0z\" fill=\"none\"/>\n",
              "    <path d=\"M18.56 5.44l.94 2.06.94-2.06 2.06-.94-2.06-.94-.94-2.06-.94 2.06-2.06.94zm-11 1L8.5 8.5l.94-2.06 2.06-.94-2.06-.94L8.5 2.5l-.94 2.06-2.06.94zm10 10l.94 2.06.94-2.06 2.06-.94-2.06-.94-.94-2.06-.94 2.06-2.06.94z\"/><path d=\"M17.41 7.96l-1.37-1.37c-.4-.4-.92-.59-1.43-.59-.52 0-1.04.2-1.43.59L10.3 9.45l-7.72 7.72c-.78.78-.78 2.05 0 2.83L4 21.41c.39.39.9.59 1.41.59.51 0 1.02-.2 1.41-.59l7.78-7.78 2.81-2.81c.8-.78.8-2.07 0-2.86zM5.41 20L4 18.59l7.72-7.72 1.47 1.35L5.41 20z\"/>\n",
              "  </svg>\n",
              "      </button>\n",
              "      \n",
              "  <style>\n",
              "    .colab-df-container {\n",
              "      display:flex;\n",
              "      flex-wrap:wrap;\n",
              "      gap: 12px;\n",
              "    }\n",
              "\n",
              "    .colab-df-convert {\n",
              "      background-color: #E8F0FE;\n",
              "      border: none;\n",
              "      border-radius: 50%;\n",
              "      cursor: pointer;\n",
              "      display: none;\n",
              "      fill: #1967D2;\n",
              "      height: 32px;\n",
              "      padding: 0 0 0 0;\n",
              "      width: 32px;\n",
              "    }\n",
              "\n",
              "    .colab-df-convert:hover {\n",
              "      background-color: #E2EBFA;\n",
              "      box-shadow: 0px 1px 2px rgba(60, 64, 67, 0.3), 0px 1px 3px 1px rgba(60, 64, 67, 0.15);\n",
              "      fill: #174EA6;\n",
              "    }\n",
              "\n",
              "    [theme=dark] .colab-df-convert {\n",
              "      background-color: #3B4455;\n",
              "      fill: #D2E3FC;\n",
              "    }\n",
              "\n",
              "    [theme=dark] .colab-df-convert:hover {\n",
              "      background-color: #434B5C;\n",
              "      box-shadow: 0px 1px 3px 1px rgba(0, 0, 0, 0.15);\n",
              "      filter: drop-shadow(0px 1px 2px rgba(0, 0, 0, 0.3));\n",
              "      fill: #FFFFFF;\n",
              "    }\n",
              "  </style>\n",
              "\n",
              "      <script>\n",
              "        const buttonEl =\n",
              "          document.querySelector('#df-3a747420-f842-414a-b75b-691b3e4d179e button.colab-df-convert');\n",
              "        buttonEl.style.display =\n",
              "          google.colab.kernel.accessAllowed ? 'block' : 'none';\n",
              "\n",
              "        async function convertToInteractive(key) {\n",
              "          const element = document.querySelector('#df-3a747420-f842-414a-b75b-691b3e4d179e');\n",
              "          const dataTable =\n",
              "            await google.colab.kernel.invokeFunction('convertToInteractive',\n",
              "                                                     [key], {});\n",
              "          if (!dataTable) return;\n",
              "\n",
              "          const docLinkHtml = 'Like what you see? Visit the ' +\n",
              "            '<a target=\"_blank\" href=https://colab.research.google.com/notebooks/data_table.ipynb>data table notebook</a>'\n",
              "            + ' to learn more about interactive tables.';\n",
              "          element.innerHTML = '';\n",
              "          dataTable['output_type'] = 'display_data';\n",
              "          await google.colab.output.renderOutput(dataTable, element);\n",
              "          const docLink = document.createElement('div');\n",
              "          docLink.innerHTML = docLinkHtml;\n",
              "          element.appendChild(docLink);\n",
              "        }\n",
              "      </script>\n",
              "    </div>\n",
              "  </div>\n",
              "  "
            ],
            "text/plain": [
              "                                              models  ...      rmse\n",
              "0                                              Naive  ...  0.259563\n",
              "1                                      Random Forest  ...  0.566570\n",
              "2                    Random Forest Randomized Search  ...  0.506657\n",
              "3                               KNeighboursRegressor  ...  1.222776\n",
              "4             KNeighboursRegressor Randomized Search  ...  1.216017\n",
              "5                          Support Vector Regression  ...  1.245069\n",
              "6        Support Vector Regression Randomized Search  ...  0.993168\n",
              "7                                    VotingRegressor  ...  0.876037\n",
              "8                     GradientTreeBoosting Regressor  ...  0.690410\n",
              "9   GradientTreeBoosting Regressor Randomized Search  ...  0.514572\n",
              "10                      Random Forest Manually Tuned  ...  0.374142\n",
              "\n",
              "[11 rows x 5 columns]"
            ]
          },
          "metadata": {},
          "execution_count": 79
        }
      ]
    },
    {
      "cell_type": "code",
      "source": [
        "best_rs_forecast = best_rs_model.predict(X_test)"
      ],
      "metadata": {
        "colab": {
          "base_uri": "https://localhost:8080/"
        },
        "id": "QWMaEYYBiIze",
        "outputId": "86baa16c-b43b-4366-8d19-2d4d1b855066"
      },
      "execution_count": 80,
      "outputs": [
        {
          "output_type": "stream",
          "name": "stderr",
          "text": [
            "/usr/local/lib/python3.7/dist-packages/sklearn/base.py:444: UserWarning: X has feature names, but RandomForestRegressor was fitted without feature names\n",
            "  f\"X has feature names, but {self.__class__.__name__} was fitted without\"\n"
          ]
        }
      ]
    },
    {
      "cell_type": "code",
      "source": [
        "plt.figure(figsize=(10, 7))\n",
        "offset = 10 # offset the values by 300 timesteps \n",
        "plot_time_series(timesteps=X_time_test,  values=y_test, label=\"Test data\")\n",
        "plot_time_series(timesteps=X_time_test[1:], values=naive_forecast, format=\"-\",  label=\"Naive forecast\")\n",
        "# plot_time_series(timesteps=X_time_test, values=rs_forecast, label='Base RandomForest forecast')\n",
        "plot_time_series(timesteps=X_time_test,  values=rs_ideal_forecast, label='RS RandomForest forecast')\n",
        "# plot_time_series(timesteps=X_time_test, start=offset, values=k_forecast, label='KNR forecast')\n",
        "# plot_time_series(timesteps=X_time_test, start=offset, values=rs_k_forecast, label='Ideal KNR forecast')\n",
        "# plot_time_series(timesteps=X_time_test, start=offset, values=svr_forecast, label='SVR forecast')\n",
        "# plot_time_series(timesteps=X_time_test, start=offset, values=rs_svr_forecast, label='Ideal SVR forecast')\n",
        "# plot_time_series(timesteps=X_time_test, start=offset, values=vr_forecast, label='VotingRegressor forecast')\n",
        "# plot_time_series(timesteps=X_time_test, start=offset, values=gbr_forecast, label='GradientTree forecast')\n",
        "# plot_time_series(timesteps=X_time_test, values=rs_gbr_forecast, label='Randomized Search GradientTree forecast')\n",
        "# plot_time_series(timesteps=X_time_test, values=best_rs_forecast, label='Manually Tuned RandomForest forecast')\n",
        "plt.title('RS Random Forrest Model vs Base Model in Cebu', fontsize=18, fontweight='bold')\n",
        "\n",
        "plt.show();"
      ],
      "metadata": {
        "colab": {
          "base_uri": "https://localhost:8080/",
          "height": 462
        },
        "id": "uu4UijVNJz7M",
        "outputId": "beec0aae-a4e5-4786-9aff-010e4edf4ded"
      },
      "execution_count": 83,
      "outputs": [
        {
          "output_type": "display_data",
          "data": {
            "image/png": "[encoded data removed]",
            "text/plain": [
              "<Figure size 720x504 with 1 Axes>"
            ]
          },
          "metadata": {
            "needs_background": "light"
          }
        }
      ]
    },
    {
      "cell_type": "code",
      "source": [
        "plt.figure(figsize=(10, 7))\n",
        "offset = 10 # offset the values by 300 timesteps \n",
        "plot_time_series(timesteps=X_time_test,  values=y_test, label=\"Test data\")\n",
        "plot_time_series(timesteps=X_time_test[1:], values=naive_forecast, format=\"-\",  label=\"Naive forecast\")\n",
        "# plot_time_series(timesteps=X_time_test, values=rs_forecast, label='Base RandomForest forecast')\n",
        "plot_time_series(timesteps=X_time_test,  values=rs_ideal_forecast, label='RS RandomForest forecast')\n",
        "# plot_time_series(timesteps=X_time_test, start=offset, values=k_forecast, label='KNR forecast')\n",
        "# plot_time_series(timesteps=X_time_test, start=offset, values=rs_k_forecast, label='Ideal KNR forecast')\n",
        "# plot_time_series(timesteps=X_time_test, start=offset, values=svr_forecast, label='SVR forecast')\n",
        "# plot_time_series(timesteps=X_time_test, start=offset, values=rs_svr_forecast, label='Ideal SVR forecast')\n",
        "# plot_time_series(timesteps=X_time_test, start=offset, values=vr_forecast, label='VotingRegressor forecast')\n",
        "# plot_time_series(timesteps=X_time_test, start=offset, values=gbr_forecast, label='GradientTree forecast')\n",
        "# plot_time_series(timesteps=X_time_test, values=rs_gbr_forecast, label='Randomized Search GradientTree forecast')\n",
        "plot_time_series(timesteps=X_time_test, values=best_rs_forecast, label='MT RandomForest forecast')\n",
        "plt.title('Manually Tuned Random Forrest Model vs RS Random \\nForrest Model vs Base Model in Cebu', fontsize=18, fontweight='bold')\n",
        "\n",
        "plt.show();"
      ],
      "metadata": {
        "colab": {
          "base_uri": "https://localhost:8080/",
          "height": 483
        },
        "id": "2bWGfa12iauK",
        "outputId": "e990627f-501d-4dd1-9bde-0d15b98d408f"
      },
      "execution_count": 85,
      "outputs": [
        {
          "output_type": "display_data",
          "data": {
            "image/png": "[encoded data removed]",
            "text/plain": [
              "<Figure size 720x504 with 1 Axes>"
            ]
          },
          "metadata": {
            "needs_background": "light"
          }
        }
      ]
    },
    {
      "cell_type": "code",
      "source": [
        "best_rs_model.feature_importances_"
      ],
      "metadata": {
        "colab": {
          "base_uri": "https://localhost:8080/"
        },
        "id": "0oaL23KPieCm",
        "outputId": "1687f0cf-9826-47bc-8162-04c829414990"
      },
      "execution_count": null,
      "outputs": [
        {
          "output_type": "execute_result",
          "data": {
            "text/plain": [
              "array([0.00000000e+00, 0.00000000e+00, 0.00000000e+00, 0.00000000e+00,\n",
              "       5.92512358e-06, 0.00000000e+00, 7.98862499e-09, 1.33997344e-06,\n",
              "       9.50670583e-06, 1.38161479e-06, 5.15596203e-01, 1.35238600e-04,\n",
              "       3.53837878e-07, 2.15325214e-05, 0.00000000e+00, 3.67837354e-07,\n",
              "       0.00000000e+00, 0.00000000e+00, 2.53914582e-06, 2.71224055e-06,\n",
              "       3.93990892e-06, 4.11312740e-01, 5.80648616e-02, 1.07811094e-02,\n",
              "       1.38614854e-03, 2.66510330e-03, 4.38507065e-06, 4.60376760e-06])"
            ]
          },
          "metadata": {},
          "execution_count": 82
        }
      ]
    },
    {
      "cell_type": "code",
      "source": [
        "def plot_features(columns, importances, n=20):\n",
        "    df = (pd.DataFrame({\n",
        "        'features': columns,\n",
        "        'feature_importances': importances\n",
        "    }).sort_values('feature_importances', ascending=False).reset_index(drop=True))\n",
        "\n",
        "    #plot df\n",
        "    fig, ax = plt.subplots()\n",
        "    ax.barh(df['features'][:n], df['feature_importances'][:n])\n",
        "    ax.set_ylabel('Features')\n",
        "    ax.set_xlabel('Feature Importance')\n",
        "    ax.invert_yaxis()\n",
        "    plt.title('Feature Importance in Cebu', fontweight='bold', fontsize=14)"
      ],
      "metadata": {
        "id": "nGmdiARHjDNZ"
      },
      "execution_count": null,
      "outputs": []
    },
    {
      "cell_type": "code",
      "source": [
        "plot_features(X_columns, best_rs_model.feature_importances_)"
      ],
      "metadata": {
        "colab": {
          "base_uri": "https://localhost:8080/",
          "height": 296
        },
        "id": "5tqXm-lfjN8w",
        "outputId": "74604ba0-0036-4468-b195-521a064bc103"
      },
      "execution_count": null,
      "outputs": [
        {
          "output_type": "display_data",
          "data": {
            "image/png": "[encoded data removed]",
            "text/plain": [
              "<Figure size 432x288 with 1 Axes>"
            ]
          },
          "metadata": {
            "needs_background": "light"
          }
        }
      ]
    },
    {
      "cell_type": "code",
      "source": [
        "scores"
      ],
      "metadata": {
        "colab": {
          "base_uri": "https://localhost:8080/",
          "height": 394
        },
        "id": "tuWH11-vm28W",
        "outputId": "a587b1cd-5cb4-4dbd-df3b-ac3383bbdfff"
      },
      "execution_count": null,
      "outputs": [
        {
          "output_type": "execute_result",
          "data": {
            "text/html": [
              "\n",
              "  <div id=\"df-73b2206d-1a88-4cf7-865c-ad2821c5fcc9\">\n",
              "    <div class=\"colab-df-container\">\n",
              "      <div>\n",
              "<style scoped>\n",
              "    .dataframe tbody tr th:only-of-type {\n",
              "        vertical-align: middle;\n",
              "    }\n",
              "\n",
              "    .dataframe tbody tr th {\n",
              "        vertical-align: top;\n",
              "    }\n",
              "\n",
              "    .dataframe thead th {\n",
              "        text-align: right;\n",
              "    }\n",
              "</style>\n",
              "<table border=\"1\" class=\"dataframe\">\n",
              "  <thead>\n",
              "    <tr style=\"text-align: right;\">\n",
              "      <th></th>\n",
              "      <th>models</th>\n",
              "      <th>mae</th>\n",
              "      <th>mape</th>\n",
              "      <th>mse</th>\n",
              "      <th>rmse</th>\n",
              "    </tr>\n",
              "  </thead>\n",
              "  <tbody>\n",
              "    <tr>\n",
              "      <th>0</th>\n",
              "      <td>Naive</td>\n",
              "      <td>0.165962</td>\n",
              "      <td>36.735161</td>\n",
              "      <td>0.067373</td>\n",
              "      <td>0.259563</td>\n",
              "    </tr>\n",
              "    <tr>\n",
              "      <th>1</th>\n",
              "      <td>Random Forest</td>\n",
              "      <td>0.291263</td>\n",
              "      <td>0.598496</td>\n",
              "      <td>0.321002</td>\n",
              "      <td>0.566570</td>\n",
              "    </tr>\n",
              "    <tr>\n",
              "      <th>2</th>\n",
              "      <td>Random Forest Randomized Search</td>\n",
              "      <td>0.278764</td>\n",
              "      <td>0.622309</td>\n",
              "      <td>0.256701</td>\n",
              "      <td>0.506657</td>\n",
              "    </tr>\n",
              "    <tr>\n",
              "      <th>3</th>\n",
              "      <td>KNeighboursRegressor</td>\n",
              "      <td>0.829200</td>\n",
              "      <td>1.068285</td>\n",
              "      <td>1.495180</td>\n",
              "      <td>1.222776</td>\n",
              "    </tr>\n",
              "    <tr>\n",
              "      <th>4</th>\n",
              "      <td>KNeighboursRegressor Randomized Search</td>\n",
              "      <td>0.825781</td>\n",
              "      <td>1.099597</td>\n",
              "      <td>1.478697</td>\n",
              "      <td>1.216017</td>\n",
              "    </tr>\n",
              "    <tr>\n",
              "      <th>5</th>\n",
              "      <td>Support Vector Regression</td>\n",
              "      <td>0.844753</td>\n",
              "      <td>0.988391</td>\n",
              "      <td>1.550197</td>\n",
              "      <td>1.245069</td>\n",
              "    </tr>\n",
              "    <tr>\n",
              "      <th>6</th>\n",
              "      <td>Support Vector Regression Randomized Search</td>\n",
              "      <td>0.595112</td>\n",
              "      <td>2.240232</td>\n",
              "      <td>0.986382</td>\n",
              "      <td>0.993168</td>\n",
              "    </tr>\n",
              "    <tr>\n",
              "      <th>7</th>\n",
              "      <td>VotingRegressor</td>\n",
              "      <td>0.509642</td>\n",
              "      <td>1.087846</td>\n",
              "      <td>0.767440</td>\n",
              "      <td>0.876037</td>\n",
              "    </tr>\n",
              "    <tr>\n",
              "      <th>8</th>\n",
              "      <td>GradientTreeBoosting Regressor</td>\n",
              "      <td>0.322373</td>\n",
              "      <td>0.721152</td>\n",
              "      <td>0.476666</td>\n",
              "      <td>0.690410</td>\n",
              "    </tr>\n",
              "    <tr>\n",
              "      <th>9</th>\n",
              "      <td>GradientTreeBoosting Regressor Randomized Search</td>\n",
              "      <td>0.347587</td>\n",
              "      <td>0.833977</td>\n",
              "      <td>0.264784</td>\n",
              "      <td>0.514572</td>\n",
              "    </tr>\n",
              "    <tr>\n",
              "      <th>10</th>\n",
              "      <td>Random Forest Manually Tuned</td>\n",
              "      <td>0.265475</td>\n",
              "      <td>0.539726</td>\n",
              "      <td>0.139982</td>\n",
              "      <td>0.374142</td>\n",
              "    </tr>\n",
              "  </tbody>\n",
              "</table>\n",
              "</div>\n",
              "      <button class=\"colab-df-convert\" onclick=\"convertToInteractive('df-73b2206d-1a88-4cf7-865c-ad2821c5fcc9')\"\n",
              "              title=\"Convert this dataframe to an interactive table.\"\n",
              "              style=\"display:none;\">\n",
              "        \n",
              "  <svg xmlns=\"http://www.w3.org/2000/svg\" height=\"24px\"viewBox=\"0 0 24 24\"\n",
              "       width=\"24px\">\n",
              "    <path d=\"M0 0h24v24H0V0z\" fill=\"none\"/>\n",
              "    <path d=\"M18.56 5.44l.94 2.06.94-2.06 2.06-.94-2.06-.94-.94-2.06-.94 2.06-2.06.94zm-11 1L8.5 8.5l.94-2.06 2.06-.94-2.06-.94L8.5 2.5l-.94 2.06-2.06.94zm10 10l.94 2.06.94-2.06 2.06-.94-2.06-.94-.94-2.06-.94 2.06-2.06.94z\"/><path d=\"M17.41 7.96l-1.37-1.37c-.4-.4-.92-.59-1.43-.59-.52 0-1.04.2-1.43.59L10.3 9.45l-7.72 7.72c-.78.78-.78 2.05 0 2.83L4 21.41c.39.39.9.59 1.41.59.51 0 1.02-.2 1.41-.59l7.78-7.78 2.81-2.81c.8-.78.8-2.07 0-2.86zM5.41 20L4 18.59l7.72-7.72 1.47 1.35L5.41 20z\"/>\n",
              "  </svg>\n",
              "      </button>\n",
              "      \n",
              "  <style>\n",
              "    .colab-df-container {\n",
              "      display:flex;\n",
              "      flex-wrap:wrap;\n",
              "      gap: 12px;\n",
              "    }\n",
              "\n",
              "    .colab-df-convert {\n",
              "      background-color: #E8F0FE;\n",
              "      border: none;\n",
              "      border-radius: 50%;\n",
              "      cursor: pointer;\n",
              "      display: none;\n",
              "      fill: #1967D2;\n",
              "      height: 32px;\n",
              "      padding: 0 0 0 0;\n",
              "      width: 32px;\n",
              "    }\n",
              "\n",
              "    .colab-df-convert:hover {\n",
              "      background-color: #E2EBFA;\n",
              "      box-shadow: 0px 1px 2px rgba(60, 64, 67, 0.3), 0px 1px 3px 1px rgba(60, 64, 67, 0.15);\n",
              "      fill: #174EA6;\n",
              "    }\n",
              "\n",
              "    [theme=dark] .colab-df-convert {\n",
              "      background-color: #3B4455;\n",
              "      fill: #D2E3FC;\n",
              "    }\n",
              "\n",
              "    [theme=dark] .colab-df-convert:hover {\n",
              "      background-color: #434B5C;\n",
              "      box-shadow: 0px 1px 3px 1px rgba(0, 0, 0, 0.15);\n",
              "      filter: drop-shadow(0px 1px 2px rgba(0, 0, 0, 0.3));\n",
              "      fill: #FFFFFF;\n",
              "    }\n",
              "  </style>\n",
              "\n",
              "      <script>\n",
              "        const buttonEl =\n",
              "          document.querySelector('#df-73b2206d-1a88-4cf7-865c-ad2821c5fcc9 button.colab-df-convert');\n",
              "        buttonEl.style.display =\n",
              "          google.colab.kernel.accessAllowed ? 'block' : 'none';\n",
              "\n",
              "        async function convertToInteractive(key) {\n",
              "          const element = document.querySelector('#df-73b2206d-1a88-4cf7-865c-ad2821c5fcc9');\n",
              "          const dataTable =\n",
              "            await google.colab.kernel.invokeFunction('convertToInteractive',\n",
              "                                                     [key], {});\n",
              "          if (!dataTable) return;\n",
              "\n",
              "          const docLinkHtml = 'Like what you see? Visit the ' +\n",
              "            '<a target=\"_blank\" href=https://colab.research.google.com/notebooks/data_table.ipynb>data table notebook</a>'\n",
              "            + ' to learn more about interactive tables.';\n",
              "          element.innerHTML = '';\n",
              "          dataTable['output_type'] = 'display_data';\n",
              "          await google.colab.output.renderOutput(dataTable, element);\n",
              "          const docLink = document.createElement('div');\n",
              "          docLink.innerHTML = docLinkHtml;\n",
              "          element.appendChild(docLink);\n",
              "        }\n",
              "      </script>\n",
              "    </div>\n",
              "  </div>\n",
              "  "
            ],
            "text/plain": [
              "                                              models  ...      rmse\n",
              "0                                              Naive  ...  0.259563\n",
              "1                                      Random Forest  ...  0.566570\n",
              "2                    Random Forest Randomized Search  ...  0.506657\n",
              "3                               KNeighboursRegressor  ...  1.222776\n",
              "4             KNeighboursRegressor Randomized Search  ...  1.216017\n",
              "5                          Support Vector Regression  ...  1.245069\n",
              "6        Support Vector Regression Randomized Search  ...  0.993168\n",
              "7                                    VotingRegressor  ...  0.876037\n",
              "8                     GradientTreeBoosting Regressor  ...  0.690410\n",
              "9   GradientTreeBoosting Regressor Randomized Search  ...  0.514572\n",
              "10                      Random Forest Manually Tuned  ...  0.374142\n",
              "\n",
              "[11 rows x 5 columns]"
            ]
          },
          "metadata": {},
          "execution_count": 85
        }
      ]
    },
    {
      "cell_type": "code",
      "source": [
        ""
      ],
      "metadata": {
        "id": "zkHpSoqKwfRm"
      },
      "execution_count": null,
      "outputs": []
    }
  ],
  "metadata": {
    "accelerator": "GPU",
    "colab": {
      "name": "cebu",
      "provenance": [],
      "mount_file_id": "1rWWFUd8ByGw8skOYG6qGVAsI_tvjKqzJ",
      "authorship_tag": "ABX9TyMLMPIkfpX5KZMXOmGAM3DA",
      "include_colab_link": true
    },
    "kernelspec": {
      "display_name": "Python 3",
      "name": "python3"
    },
    "language_info": {
      "name": "python"
    }
  },
  "nbformat": 4,
  "nbformat_minor": 0
}