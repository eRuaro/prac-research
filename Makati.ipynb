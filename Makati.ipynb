{
  "cells": [
    {
      "cell_type": "markdown",
      "metadata": {
        "id": "view-in-github",
        "colab_type": "text"
      },
      "source": [
        "<a href=\"https://colab.research.google.com/github/eRuaro/prac-research/blob/main/Makati.ipynb\" target=\"_parent\"><img src=\"https://colab.research.google.com/assets/colab-badge.svg\" alt=\"Open In Colab\"/></a>"
      ]
    },
    {
      "cell_type": "code",
      "execution_count": 29,
      "metadata": {
        "id": "RYOLABWb1Q1j"
      },
      "outputs": [],
      "source": [
        "path = '/content/drive/MyDrive/prac-research/actual/data/research-data-makati - Sheet1.csv'\n",
        "\n",
        "import numpy as np\n",
        "import pandas as pd\n",
        "%matplotlib inline \n",
        "import matplotlib.pyplot as plt \n",
        "import sklearn"
      ]
    },
    {
      "cell_type": "code",
      "execution_count": 30,
      "metadata": {
        "colab": {
          "base_uri": "https://localhost:8080/",
          "height": 357
        },
        "id": "hcv8HmpN3qX9",
        "outputId": "697f86c5-fe58-42dc-919e-65d3816f0c32"
      },
      "outputs": [
        {
          "output_type": "execute_result",
          "data": {
            "text/html": [
              "\n",
              "  <div id=\"df-9e1473c1-fff9-464e-824a-d3d1db40be91\">\n",
              "    <div class=\"colab-df-container\">\n",
              "      <div>\n",
              "<style scoped>\n",
              "    .dataframe tbody tr th:only-of-type {\n",
              "        vertical-align: middle;\n",
              "    }\n",
              "\n",
              "    .dataframe tbody tr th {\n",
              "        vertical-align: top;\n",
              "    }\n",
              "\n",
              "    .dataframe thead th {\n",
              "        text-align: right;\n",
              "    }\n",
              "</style>\n",
              "<table border=\"1\" class=\"dataframe\">\n",
              "  <thead>\n",
              "    <tr style=\"text-align: right;\">\n",
              "      <th></th>\n",
              "      <th>name</th>\n",
              "      <th>region</th>\n",
              "      <th>country</th>\n",
              "      <th>longitude</th>\n",
              "      <th>latitude</th>\n",
              "      <th>time</th>\n",
              "      <th>temp_c</th>\n",
              "      <th>is_day</th>\n",
              "      <th>condition</th>\n",
              "      <th>wind_kph</th>\n",
              "      <th>wind_degree</th>\n",
              "      <th>wind_dir</th>\n",
              "      <th>air_pressure</th>\n",
              "      <th>precipitation</th>\n",
              "      <th>relative_humidity</th>\n",
              "      <th>cloud</th>\n",
              "      <th>feelslike_c</th>\n",
              "      <th>will_it_rain</th>\n",
              "      <th>chance_of_rain</th>\n",
              "    </tr>\n",
              "  </thead>\n",
              "  <tbody>\n",
              "    <tr>\n",
              "      <th>523</th>\n",
              "      <td>Makati</td>\n",
              "      <td>Makati City</td>\n",
              "      <td>Philippines</td>\n",
              "      <td>121.03</td>\n",
              "      <td>14.57</td>\n",
              "      <td>2021-12-31 19:00:00</td>\n",
              "      <td>26.4</td>\n",
              "      <td>0</td>\n",
              "      <td>Clear</td>\n",
              "      <td>21.4</td>\n",
              "      <td>72</td>\n",
              "      <td>ENE</td>\n",
              "      <td>1015.10</td>\n",
              "      <td>0.04</td>\n",
              "      <td>70.13</td>\n",
              "      <td>15</td>\n",
              "      <td>28.0</td>\n",
              "      <td>0</td>\n",
              "      <td>0</td>\n",
              "    </tr>\n",
              "    <tr>\n",
              "      <th>524</th>\n",
              "      <td>Makati</td>\n",
              "      <td>Makati City</td>\n",
              "      <td>Philippines</td>\n",
              "      <td>121.03</td>\n",
              "      <td>14.57</td>\n",
              "      <td>2021-12-31 20:00:00</td>\n",
              "      <td>25.7</td>\n",
              "      <td>0</td>\n",
              "      <td>Partly cloudy</td>\n",
              "      <td>20.8</td>\n",
              "      <td>73</td>\n",
              "      <td>ENE</td>\n",
              "      <td>1015.12</td>\n",
              "      <td>0.04</td>\n",
              "      <td>70.07</td>\n",
              "      <td>25</td>\n",
              "      <td>27.2</td>\n",
              "      <td>0</td>\n",
              "      <td>1</td>\n",
              "    </tr>\n",
              "    <tr>\n",
              "      <th>525</th>\n",
              "      <td>Makati</td>\n",
              "      <td>Makati City</td>\n",
              "      <td>Philippines</td>\n",
              "      <td>121.03</td>\n",
              "      <td>14.57</td>\n",
              "      <td>2021-12-31 21:00:00</td>\n",
              "      <td>25.0</td>\n",
              "      <td>0</td>\n",
              "      <td>Partly cloudy</td>\n",
              "      <td>20.2</td>\n",
              "      <td>75</td>\n",
              "      <td>ENE</td>\n",
              "      <td>1015.15</td>\n",
              "      <td>0.04</td>\n",
              "      <td>70.00</td>\n",
              "      <td>35</td>\n",
              "      <td>26.5</td>\n",
              "      <td>0</td>\n",
              "      <td>0</td>\n",
              "    </tr>\n",
              "    <tr>\n",
              "      <th>526</th>\n",
              "      <td>Makati</td>\n",
              "      <td>Makati City</td>\n",
              "      <td>Philippines</td>\n",
              "      <td>121.03</td>\n",
              "      <td>14.57</td>\n",
              "      <td>2021-12-31 22:00:00</td>\n",
              "      <td>25.0</td>\n",
              "      <td>0</td>\n",
              "      <td>Partly cloudy</td>\n",
              "      <td>19.7</td>\n",
              "      <td>76</td>\n",
              "      <td>ENE</td>\n",
              "      <td>1015.83</td>\n",
              "      <td>0.04</td>\n",
              "      <td>68.53</td>\n",
              "      <td>39</td>\n",
              "      <td>26.5</td>\n",
              "      <td>0</td>\n",
              "      <td>1</td>\n",
              "    </tr>\n",
              "    <tr>\n",
              "      <th>527</th>\n",
              "      <td>Makati</td>\n",
              "      <td>Makati City</td>\n",
              "      <td>Philippines</td>\n",
              "      <td>121.03</td>\n",
              "      <td>14.57</td>\n",
              "      <td>2021-12-31 23:00:00</td>\n",
              "      <td>25.0</td>\n",
              "      <td>0</td>\n",
              "      <td>Partly cloudy</td>\n",
              "      <td>19.2</td>\n",
              "      <td>77</td>\n",
              "      <td>ENE</td>\n",
              "      <td>1016.51</td>\n",
              "      <td>0.05</td>\n",
              "      <td>67.07</td>\n",
              "      <td>44</td>\n",
              "      <td>26.6</td>\n",
              "      <td>0</td>\n",
              "      <td>1</td>\n",
              "    </tr>\n",
              "  </tbody>\n",
              "</table>\n",
              "</div>\n",
              "      <button class=\"colab-df-convert\" onclick=\"convertToInteractive('df-9e1473c1-fff9-464e-824a-d3d1db40be91')\"\n",
              "              title=\"Convert this dataframe to an interactive table.\"\n",
              "              style=\"display:none;\">\n",
              "        \n",
              "  <svg xmlns=\"http://www.w3.org/2000/svg\" height=\"24px\"viewBox=\"0 0 24 24\"\n",
              "       width=\"24px\">\n",
              "    <path d=\"M0 0h24v24H0V0z\" fill=\"none\"/>\n",
              "    <path d=\"M18.56 5.44l.94 2.06.94-2.06 2.06-.94-2.06-.94-.94-2.06-.94 2.06-2.06.94zm-11 1L8.5 8.5l.94-2.06 2.06-.94-2.06-.94L8.5 2.5l-.94 2.06-2.06.94zm10 10l.94 2.06.94-2.06 2.06-.94-2.06-.94-.94-2.06-.94 2.06-2.06.94z\"/><path d=\"M17.41 7.96l-1.37-1.37c-.4-.4-.92-.59-1.43-.59-.52 0-1.04.2-1.43.59L10.3 9.45l-7.72 7.72c-.78.78-.78 2.05 0 2.83L4 21.41c.39.39.9.59 1.41.59.51 0 1.02-.2 1.41-.59l7.78-7.78 2.81-2.81c.8-.78.8-2.07 0-2.86zM5.41 20L4 18.59l7.72-7.72 1.47 1.35L5.41 20z\"/>\n",
              "  </svg>\n",
              "      </button>\n",
              "      \n",
              "  <style>\n",
              "    .colab-df-container {\n",
              "      display:flex;\n",
              "      flex-wrap:wrap;\n",
              "      gap: 12px;\n",
              "    }\n",
              "\n",
              "    .colab-df-convert {\n",
              "      background-color: #E8F0FE;\n",
              "      border: none;\n",
              "      border-radius: 50%;\n",
              "      cursor: pointer;\n",
              "      display: none;\n",
              "      fill: #1967D2;\n",
              "      height: 32px;\n",
              "      padding: 0 0 0 0;\n",
              "      width: 32px;\n",
              "    }\n",
              "\n",
              "    .colab-df-convert:hover {\n",
              "      background-color: #E2EBFA;\n",
              "      box-shadow: 0px 1px 2px rgba(60, 64, 67, 0.3), 0px 1px 3px 1px rgba(60, 64, 67, 0.15);\n",
              "      fill: #174EA6;\n",
              "    }\n",
              "\n",
              "    [theme=dark] .colab-df-convert {\n",
              "      background-color: #3B4455;\n",
              "      fill: #D2E3FC;\n",
              "    }\n",
              "\n",
              "    [theme=dark] .colab-df-convert:hover {\n",
              "      background-color: #434B5C;\n",
              "      box-shadow: 0px 1px 3px 1px rgba(0, 0, 0, 0.15);\n",
              "      filter: drop-shadow(0px 1px 2px rgba(0, 0, 0, 0.3));\n",
              "      fill: #FFFFFF;\n",
              "    }\n",
              "  </style>\n",
              "\n",
              "      <script>\n",
              "        const buttonEl =\n",
              "          document.querySelector('#df-9e1473c1-fff9-464e-824a-d3d1db40be91 button.colab-df-convert');\n",
              "        buttonEl.style.display =\n",
              "          google.colab.kernel.accessAllowed ? 'block' : 'none';\n",
              "\n",
              "        async function convertToInteractive(key) {\n",
              "          const element = document.querySelector('#df-9e1473c1-fff9-464e-824a-d3d1db40be91');\n",
              "          const dataTable =\n",
              "            await google.colab.kernel.invokeFunction('convertToInteractive',\n",
              "                                                     [key], {});\n",
              "          if (!dataTable) return;\n",
              "\n",
              "          const docLinkHtml = 'Like what you see? Visit the ' +\n",
              "            '<a target=\"_blank\" href=https://colab.research.google.com/notebooks/data_table.ipynb>data table notebook</a>'\n",
              "            + ' to learn more about interactive tables.';\n",
              "          element.innerHTML = '';\n",
              "          dataTable['output_type'] = 'display_data';\n",
              "          await google.colab.output.renderOutput(dataTable, element);\n",
              "          const docLink = document.createElement('div');\n",
              "          docLink.innerHTML = docLinkHtml;\n",
              "          element.appendChild(docLink);\n",
              "        }\n",
              "      </script>\n",
              "    </div>\n",
              "  </div>\n",
              "  "
            ],
            "text/plain": [
              "       name       region  ... will_it_rain  chance_of_rain\n",
              "523  Makati  Makati City  ...            0               0\n",
              "524  Makati  Makati City  ...            0               1\n",
              "525  Makati  Makati City  ...            0               0\n",
              "526  Makati  Makati City  ...            0               1\n",
              "527  Makati  Makati City  ...            0               1\n",
              "\n",
              "[5 rows x 19 columns]"
            ]
          },
          "metadata": {},
          "execution_count": 30
        }
      ],
      "source": [
        "df = pd.read_csv(\n",
        "    path, \n",
        "    low_memory=False,\n",
        "    parse_dates=['time']\n",
        ")\n",
        "\n",
        "df.tail()"
      ]
    },
    {
      "cell_type": "code",
      "execution_count": 31,
      "metadata": {
        "colab": {
          "base_uri": "https://localhost:8080/"
        },
        "id": "icDVCO4n3v1S",
        "outputId": "8f72549d-5ea5-471f-f6f0-26d83d1847b0"
      },
      "outputs": [
        {
          "output_type": "stream",
          "name": "stdout",
          "text": [
            "<class 'pandas.core.frame.DataFrame'>\n",
            "RangeIndex: 528 entries, 0 to 527\n",
            "Data columns (total 19 columns):\n",
            " #   Column             Non-Null Count  Dtype         \n",
            "---  ------             --------------  -----         \n",
            " 0   name               528 non-null    object        \n",
            " 1   region             528 non-null    object        \n",
            " 2   country            528 non-null    object        \n",
            " 3   longitude          528 non-null    float64       \n",
            " 4   latitude           528 non-null    float64       \n",
            " 5   time               528 non-null    datetime64[ns]\n",
            " 6   temp_c             528 non-null    float64       \n",
            " 7   is_day             528 non-null    int64         \n",
            " 8   condition          528 non-null    object        \n",
            " 9   wind_kph           528 non-null    float64       \n",
            " 10  wind_degree        528 non-null    int64         \n",
            " 11  wind_dir           528 non-null    object        \n",
            " 12  air_pressure       528 non-null    float64       \n",
            " 13  precipitation      528 non-null    float64       \n",
            " 14  relative_humidity  528 non-null    float64       \n",
            " 15  cloud              528 non-null    int64         \n",
            " 16  feelslike_c        528 non-null    float64       \n",
            " 17  will_it_rain       528 non-null    int64         \n",
            " 18  chance_of_rain     528 non-null    int64         \n",
            "dtypes: datetime64[ns](1), float64(8), int64(5), object(5)\n",
            "memory usage: 78.5+ KB\n"
          ]
        }
      ],
      "source": [
        "df.info()"
      ]
    },
    {
      "cell_type": "code",
      "execution_count": 32,
      "metadata": {
        "colab": {
          "base_uri": "https://localhost:8080/"
        },
        "id": "062LMb2B31en",
        "outputId": "1fba07a0-2588-467a-8ddf-7326dbb0d29e"
      },
      "outputs": [
        {
          "output_type": "execute_result",
          "data": {
            "text/plain": [
              "0   2021-12-10 00:00:00\n",
              "1   2021-12-10 01:00:00\n",
              "2   2021-12-10 02:00:00\n",
              "3   2021-12-10 03:00:00\n",
              "4   2021-12-10 04:00:00\n",
              "Name: time, dtype: datetime64[ns]"
            ]
          },
          "metadata": {},
          "execution_count": 32
        }
      ],
      "source": [
        "df.time.head()"
      ]
    },
    {
      "cell_type": "code",
      "execution_count": 33,
      "metadata": {
        "colab": {
          "base_uri": "https://localhost:8080/"
        },
        "id": "7n28bMA94p3H",
        "outputId": "ca2001d1-b73a-40ba-a2a1-cad800aeb40b"
      },
      "outputs": [
        {
          "output_type": "execute_result",
          "data": {
            "text/plain": [
              "0   2021-12-10 00:00:00\n",
              "1   2021-12-10 01:00:00\n",
              "2   2021-12-10 02:00:00\n",
              "3   2021-12-10 03:00:00\n",
              "4   2021-12-10 04:00:00\n",
              "Name: time, dtype: datetime64[ns]"
            ]
          },
          "metadata": {},
          "execution_count": 33
        }
      ],
      "source": [
        "df.sort_values(by=['time'], ascending=True)\n",
        "\n",
        "df.time.head()"
      ]
    },
    {
      "cell_type": "markdown",
      "metadata": {
        "id": "mu1y8jlT43Hp"
      },
      "source": [
        "## Feature Engineering"
      ]
    },
    {
      "cell_type": "code",
      "execution_count": 34,
      "metadata": {
        "colab": {
          "base_uri": "https://localhost:8080/",
          "height": 864
        },
        "id": "7k4xMbeJ5UMk",
        "outputId": "add550f4-32c8-42d9-cc61-748acd914f3e"
      },
      "outputs": [
        {
          "output_type": "execute_result",
          "data": {
            "text/html": [
              "\n",
              "  <div id=\"df-b9061f97-b80d-4336-ba73-2ac0afa6459d\">\n",
              "    <div class=\"colab-df-container\">\n",
              "      <div>\n",
              "<style scoped>\n",
              "    .dataframe tbody tr th:only-of-type {\n",
              "        vertical-align: middle;\n",
              "    }\n",
              "\n",
              "    .dataframe tbody tr th {\n",
              "        vertical-align: top;\n",
              "    }\n",
              "\n",
              "    .dataframe thead th {\n",
              "        text-align: right;\n",
              "    }\n",
              "</style>\n",
              "<table border=\"1\" class=\"dataframe\">\n",
              "  <thead>\n",
              "    <tr style=\"text-align: right;\">\n",
              "      <th></th>\n",
              "      <th>0</th>\n",
              "      <th>1</th>\n",
              "      <th>2</th>\n",
              "      <th>3</th>\n",
              "      <th>4</th>\n",
              "    </tr>\n",
              "  </thead>\n",
              "  <tbody>\n",
              "    <tr>\n",
              "      <th>name</th>\n",
              "      <td>Makati</td>\n",
              "      <td>Makati</td>\n",
              "      <td>Makati</td>\n",
              "      <td>Makati</td>\n",
              "      <td>Makati</td>\n",
              "    </tr>\n",
              "    <tr>\n",
              "      <th>region</th>\n",
              "      <td>Manila</td>\n",
              "      <td>Manila</td>\n",
              "      <td>Manila</td>\n",
              "      <td>Manila</td>\n",
              "      <td>Manila</td>\n",
              "    </tr>\n",
              "    <tr>\n",
              "      <th>country</th>\n",
              "      <td>Philippines</td>\n",
              "      <td>Philippines</td>\n",
              "      <td>Philippines</td>\n",
              "      <td>Philippines</td>\n",
              "      <td>Philippines</td>\n",
              "    </tr>\n",
              "    <tr>\n",
              "      <th>longitude</th>\n",
              "      <td>121.03</td>\n",
              "      <td>121.03</td>\n",
              "      <td>121.03</td>\n",
              "      <td>121.03</td>\n",
              "      <td>121.03</td>\n",
              "    </tr>\n",
              "    <tr>\n",
              "      <th>latitude</th>\n",
              "      <td>14.57</td>\n",
              "      <td>14.57</td>\n",
              "      <td>14.57</td>\n",
              "      <td>14.57</td>\n",
              "      <td>14.57</td>\n",
              "    </tr>\n",
              "    <tr>\n",
              "      <th>time</th>\n",
              "      <td>2021-12-10 00:00:00</td>\n",
              "      <td>2021-12-10 01:00:00</td>\n",
              "      <td>2021-12-10 02:00:00</td>\n",
              "      <td>2021-12-10 03:00:00</td>\n",
              "      <td>2021-12-10 04:00:00</td>\n",
              "    </tr>\n",
              "    <tr>\n",
              "      <th>temp_c</th>\n",
              "      <td>24.8</td>\n",
              "      <td>24.6</td>\n",
              "      <td>24.3</td>\n",
              "      <td>24.1</td>\n",
              "      <td>24</td>\n",
              "    </tr>\n",
              "    <tr>\n",
              "      <th>is_day</th>\n",
              "      <td>0</td>\n",
              "      <td>0</td>\n",
              "      <td>0</td>\n",
              "      <td>0</td>\n",
              "      <td>0</td>\n",
              "    </tr>\n",
              "    <tr>\n",
              "      <th>condition</th>\n",
              "      <td>Clear</td>\n",
              "      <td>Clear</td>\n",
              "      <td>Clear</td>\n",
              "      <td>Clear</td>\n",
              "      <td>Clear</td>\n",
              "    </tr>\n",
              "    <tr>\n",
              "      <th>wind_kph</th>\n",
              "      <td>12.2</td>\n",
              "      <td>10.9</td>\n",
              "      <td>9.6</td>\n",
              "      <td>8.3</td>\n",
              "      <td>8.2</td>\n",
              "    </tr>\n",
              "    <tr>\n",
              "      <th>wind_degree</th>\n",
              "      <td>78</td>\n",
              "      <td>75</td>\n",
              "      <td>71</td>\n",
              "      <td>68</td>\n",
              "      <td>59</td>\n",
              "    </tr>\n",
              "    <tr>\n",
              "      <th>wind_dir</th>\n",
              "      <td>ENE</td>\n",
              "      <td>ENE</td>\n",
              "      <td>ENE</td>\n",
              "      <td>ENE</td>\n",
              "      <td>ENE</td>\n",
              "    </tr>\n",
              "    <tr>\n",
              "      <th>air_pressure</th>\n",
              "      <td>1013.88</td>\n",
              "      <td>1013.73</td>\n",
              "      <td>1013.58</td>\n",
              "      <td>1013.42</td>\n",
              "      <td>1012.62</td>\n",
              "    </tr>\n",
              "    <tr>\n",
              "      <th>precipitation</th>\n",
              "      <td>0</td>\n",
              "      <td>0</td>\n",
              "      <td>0</td>\n",
              "      <td>0</td>\n",
              "      <td>0</td>\n",
              "    </tr>\n",
              "    <tr>\n",
              "      <th>relative_humidity</th>\n",
              "      <td>67.3</td>\n",
              "      <td>63.67</td>\n",
              "      <td>60.03</td>\n",
              "      <td>56.4</td>\n",
              "      <td>55.9</td>\n",
              "    </tr>\n",
              "    <tr>\n",
              "      <th>cloud</th>\n",
              "      <td>10</td>\n",
              "      <td>14</td>\n",
              "      <td>18</td>\n",
              "      <td>22</td>\n",
              "      <td>30</td>\n",
              "    </tr>\n",
              "    <tr>\n",
              "      <th>feelslike_c</th>\n",
              "      <td>26.3</td>\n",
              "      <td>26.1</td>\n",
              "      <td>26</td>\n",
              "      <td>25.8</td>\n",
              "      <td>25.7</td>\n",
              "    </tr>\n",
              "    <tr>\n",
              "      <th>will_it_rain</th>\n",
              "      <td>0</td>\n",
              "      <td>0</td>\n",
              "      <td>0</td>\n",
              "      <td>0</td>\n",
              "      <td>0</td>\n",
              "    </tr>\n",
              "    <tr>\n",
              "      <th>chance_of_rain</th>\n",
              "      <td>0</td>\n",
              "      <td>0</td>\n",
              "      <td>0</td>\n",
              "      <td>0</td>\n",
              "      <td>0</td>\n",
              "    </tr>\n",
              "    <tr>\n",
              "      <th>year</th>\n",
              "      <td>2021</td>\n",
              "      <td>2021</td>\n",
              "      <td>2021</td>\n",
              "      <td>2021</td>\n",
              "      <td>2021</td>\n",
              "    </tr>\n",
              "    <tr>\n",
              "      <th>month</th>\n",
              "      <td>12</td>\n",
              "      <td>12</td>\n",
              "      <td>12</td>\n",
              "      <td>12</td>\n",
              "      <td>12</td>\n",
              "    </tr>\n",
              "    <tr>\n",
              "      <th>day</th>\n",
              "      <td>10</td>\n",
              "      <td>10</td>\n",
              "      <td>10</td>\n",
              "      <td>10</td>\n",
              "      <td>10</td>\n",
              "    </tr>\n",
              "    <tr>\n",
              "      <th>hour</th>\n",
              "      <td>0</td>\n",
              "      <td>1</td>\n",
              "      <td>2</td>\n",
              "      <td>3</td>\n",
              "      <td>4</td>\n",
              "    </tr>\n",
              "    <tr>\n",
              "      <th>dayOfWeek</th>\n",
              "      <td>4</td>\n",
              "      <td>4</td>\n",
              "      <td>4</td>\n",
              "      <td>4</td>\n",
              "      <td>4</td>\n",
              "    </tr>\n",
              "  </tbody>\n",
              "</table>\n",
              "</div>\n",
              "      <button class=\"colab-df-convert\" onclick=\"convertToInteractive('df-b9061f97-b80d-4336-ba73-2ac0afa6459d')\"\n",
              "              title=\"Convert this dataframe to an interactive table.\"\n",
              "              style=\"display:none;\">\n",
              "        \n",
              "  <svg xmlns=\"http://www.w3.org/2000/svg\" height=\"24px\"viewBox=\"0 0 24 24\"\n",
              "       width=\"24px\">\n",
              "    <path d=\"M0 0h24v24H0V0z\" fill=\"none\"/>\n",
              "    <path d=\"M18.56 5.44l.94 2.06.94-2.06 2.06-.94-2.06-.94-.94-2.06-.94 2.06-2.06.94zm-11 1L8.5 8.5l.94-2.06 2.06-.94-2.06-.94L8.5 2.5l-.94 2.06-2.06.94zm10 10l.94 2.06.94-2.06 2.06-.94-2.06-.94-.94-2.06-.94 2.06-2.06.94z\"/><path d=\"M17.41 7.96l-1.37-1.37c-.4-.4-.92-.59-1.43-.59-.52 0-1.04.2-1.43.59L10.3 9.45l-7.72 7.72c-.78.78-.78 2.05 0 2.83L4 21.41c.39.39.9.59 1.41.59.51 0 1.02-.2 1.41-.59l7.78-7.78 2.81-2.81c.8-.78.8-2.07 0-2.86zM5.41 20L4 18.59l7.72-7.72 1.47 1.35L5.41 20z\"/>\n",
              "  </svg>\n",
              "      </button>\n",
              "      \n",
              "  <style>\n",
              "    .colab-df-container {\n",
              "      display:flex;\n",
              "      flex-wrap:wrap;\n",
              "      gap: 12px;\n",
              "    }\n",
              "\n",
              "    .colab-df-convert {\n",
              "      background-color: #E8F0FE;\n",
              "      border: none;\n",
              "      border-radius: 50%;\n",
              "      cursor: pointer;\n",
              "      display: none;\n",
              "      fill: #1967D2;\n",
              "      height: 32px;\n",
              "      padding: 0 0 0 0;\n",
              "      width: 32px;\n",
              "    }\n",
              "\n",
              "    .colab-df-convert:hover {\n",
              "      background-color: #E2EBFA;\n",
              "      box-shadow: 0px 1px 2px rgba(60, 64, 67, 0.3), 0px 1px 3px 1px rgba(60, 64, 67, 0.15);\n",
              "      fill: #174EA6;\n",
              "    }\n",
              "\n",
              "    [theme=dark] .colab-df-convert {\n",
              "      background-color: #3B4455;\n",
              "      fill: #D2E3FC;\n",
              "    }\n",
              "\n",
              "    [theme=dark] .colab-df-convert:hover {\n",
              "      background-color: #434B5C;\n",
              "      box-shadow: 0px 1px 3px 1px rgba(0, 0, 0, 0.15);\n",
              "      filter: drop-shadow(0px 1px 2px rgba(0, 0, 0, 0.3));\n",
              "      fill: #FFFFFF;\n",
              "    }\n",
              "  </style>\n",
              "\n",
              "      <script>\n",
              "        const buttonEl =\n",
              "          document.querySelector('#df-b9061f97-b80d-4336-ba73-2ac0afa6459d button.colab-df-convert');\n",
              "        buttonEl.style.display =\n",
              "          google.colab.kernel.accessAllowed ? 'block' : 'none';\n",
              "\n",
              "        async function convertToInteractive(key) {\n",
              "          const element = document.querySelector('#df-b9061f97-b80d-4336-ba73-2ac0afa6459d');\n",
              "          const dataTable =\n",
              "            await google.colab.kernel.invokeFunction('convertToInteractive',\n",
              "                                                     [key], {});\n",
              "          if (!dataTable) return;\n",
              "\n",
              "          const docLinkHtml = 'Like what you see? Visit the ' +\n",
              "            '<a target=\"_blank\" href=https://colab.research.google.com/notebooks/data_table.ipynb>data table notebook</a>'\n",
              "            + ' to learn more about interactive tables.';\n",
              "          element.innerHTML = '';\n",
              "          dataTable['output_type'] = 'display_data';\n",
              "          await google.colab.output.renderOutput(dataTable, element);\n",
              "          const docLink = document.createElement('div');\n",
              "          docLink.innerHTML = docLinkHtml;\n",
              "          element.appendChild(docLink);\n",
              "        }\n",
              "      </script>\n",
              "    </div>\n",
              "  </div>\n",
              "  "
            ],
            "text/plain": [
              "                                     0  ...                    4\n",
              "name                            Makati  ...               Makati\n",
              "region                          Manila  ...               Manila\n",
              "country                    Philippines  ...          Philippines\n",
              "longitude                       121.03  ...               121.03\n",
              "latitude                         14.57  ...                14.57\n",
              "time               2021-12-10 00:00:00  ...  2021-12-10 04:00:00\n",
              "temp_c                            24.8  ...                   24\n",
              "is_day                               0  ...                    0\n",
              "condition                        Clear  ...                Clear\n",
              "wind_kph                          12.2  ...                  8.2\n",
              "wind_degree                         78  ...                   59\n",
              "wind_dir                           ENE  ...                  ENE\n",
              "air_pressure                   1013.88  ...              1012.62\n",
              "precipitation                        0  ...                    0\n",
              "relative_humidity                 67.3  ...                 55.9\n",
              "cloud                               10  ...                   30\n",
              "feelslike_c                       26.3  ...                 25.7\n",
              "will_it_rain                         0  ...                    0\n",
              "chance_of_rain                       0  ...                    0\n",
              "year                              2021  ...                 2021\n",
              "month                               12  ...                   12\n",
              "day                                 10  ...                   10\n",
              "hour                                 0  ...                    4\n",
              "dayOfWeek                            4  ...                    4\n",
              "\n",
              "[24 rows x 5 columns]"
            ]
          },
          "metadata": {},
          "execution_count": 34
        }
      ],
      "source": [
        "df['year'] = df.time.dt.year\n",
        "df['month'] = df.time.dt.month\n",
        "df['day'] = df.time.dt.day\n",
        "df['hour'] = df.time.dt.hour\n",
        "df['dayOfWeek'] = df.time.dt.dayofweek\n",
        "\n",
        "df.head().T"
      ]
    },
    {
      "cell_type": "code",
      "execution_count": 35,
      "metadata": {
        "colab": {
          "base_uri": "https://localhost:8080/",
          "height": 802
        },
        "id": "EtZgSuVh5uR0",
        "outputId": "af5ad8d5-bb4e-4070-a57f-0e61af5edcf5"
      },
      "outputs": [
        {
          "output_type": "execute_result",
          "data": {
            "text/html": [
              "\n",
              "  <div id=\"df-c43e7dd8-ca57-417b-9a65-4052c48e4809\">\n",
              "    <div class=\"colab-df-container\">\n",
              "      <div>\n",
              "<style scoped>\n",
              "    .dataframe tbody tr th:only-of-type {\n",
              "        vertical-align: middle;\n",
              "    }\n",
              "\n",
              "    .dataframe tbody tr th {\n",
              "        vertical-align: top;\n",
              "    }\n",
              "\n",
              "    .dataframe thead th {\n",
              "        text-align: right;\n",
              "    }\n",
              "</style>\n",
              "<table border=\"1\" class=\"dataframe\">\n",
              "  <thead>\n",
              "    <tr style=\"text-align: right;\">\n",
              "      <th></th>\n",
              "      <th>523</th>\n",
              "      <th>524</th>\n",
              "      <th>525</th>\n",
              "      <th>526</th>\n",
              "      <th>527</th>\n",
              "    </tr>\n",
              "  </thead>\n",
              "  <tbody>\n",
              "    <tr>\n",
              "      <th>name</th>\n",
              "      <td>Makati</td>\n",
              "      <td>Makati</td>\n",
              "      <td>Makati</td>\n",
              "      <td>Makati</td>\n",
              "      <td>Makati</td>\n",
              "    </tr>\n",
              "    <tr>\n",
              "      <th>region</th>\n",
              "      <td>Makati City</td>\n",
              "      <td>Makati City</td>\n",
              "      <td>Makati City</td>\n",
              "      <td>Makati City</td>\n",
              "      <td>Makati City</td>\n",
              "    </tr>\n",
              "    <tr>\n",
              "      <th>country</th>\n",
              "      <td>Philippines</td>\n",
              "      <td>Philippines</td>\n",
              "      <td>Philippines</td>\n",
              "      <td>Philippines</td>\n",
              "      <td>Philippines</td>\n",
              "    </tr>\n",
              "    <tr>\n",
              "      <th>longitude</th>\n",
              "      <td>121.03</td>\n",
              "      <td>121.03</td>\n",
              "      <td>121.03</td>\n",
              "      <td>121.03</td>\n",
              "      <td>121.03</td>\n",
              "    </tr>\n",
              "    <tr>\n",
              "      <th>latitude</th>\n",
              "      <td>14.57</td>\n",
              "      <td>14.57</td>\n",
              "      <td>14.57</td>\n",
              "      <td>14.57</td>\n",
              "      <td>14.57</td>\n",
              "    </tr>\n",
              "    <tr>\n",
              "      <th>time</th>\n",
              "      <td>2021-12-31 19:00:00</td>\n",
              "      <td>2021-12-31 20:00:00</td>\n",
              "      <td>2021-12-31 21:00:00</td>\n",
              "      <td>2021-12-31 22:00:00</td>\n",
              "      <td>2021-12-31 23:00:00</td>\n",
              "    </tr>\n",
              "    <tr>\n",
              "      <th>temp_c</th>\n",
              "      <td>26.4</td>\n",
              "      <td>25.7</td>\n",
              "      <td>25</td>\n",
              "      <td>25</td>\n",
              "      <td>25</td>\n",
              "    </tr>\n",
              "    <tr>\n",
              "      <th>is_day</th>\n",
              "      <td>0</td>\n",
              "      <td>0</td>\n",
              "      <td>0</td>\n",
              "      <td>0</td>\n",
              "      <td>0</td>\n",
              "    </tr>\n",
              "    <tr>\n",
              "      <th>condition</th>\n",
              "      <td>Clear</td>\n",
              "      <td>Partly cloudy</td>\n",
              "      <td>Partly cloudy</td>\n",
              "      <td>Partly cloudy</td>\n",
              "      <td>Partly cloudy</td>\n",
              "    </tr>\n",
              "    <tr>\n",
              "      <th>wind_kph</th>\n",
              "      <td>21.4</td>\n",
              "      <td>20.8</td>\n",
              "      <td>20.2</td>\n",
              "      <td>19.7</td>\n",
              "      <td>19.2</td>\n",
              "    </tr>\n",
              "    <tr>\n",
              "      <th>wind_degree</th>\n",
              "      <td>72</td>\n",
              "      <td>73</td>\n",
              "      <td>75</td>\n",
              "      <td>76</td>\n",
              "      <td>77</td>\n",
              "    </tr>\n",
              "    <tr>\n",
              "      <th>wind_dir</th>\n",
              "      <td>ENE</td>\n",
              "      <td>ENE</td>\n",
              "      <td>ENE</td>\n",
              "      <td>ENE</td>\n",
              "      <td>ENE</td>\n",
              "    </tr>\n",
              "    <tr>\n",
              "      <th>air_pressure</th>\n",
              "      <td>1015.1</td>\n",
              "      <td>1015.12</td>\n",
              "      <td>1015.15</td>\n",
              "      <td>1015.83</td>\n",
              "      <td>1016.51</td>\n",
              "    </tr>\n",
              "    <tr>\n",
              "      <th>precipitation</th>\n",
              "      <td>0.04</td>\n",
              "      <td>0.04</td>\n",
              "      <td>0.04</td>\n",
              "      <td>0.04</td>\n",
              "      <td>0.05</td>\n",
              "    </tr>\n",
              "    <tr>\n",
              "      <th>relative_humidity</th>\n",
              "      <td>70.13</td>\n",
              "      <td>70.07</td>\n",
              "      <td>70</td>\n",
              "      <td>68.53</td>\n",
              "      <td>67.07</td>\n",
              "    </tr>\n",
              "    <tr>\n",
              "      <th>cloud</th>\n",
              "      <td>15</td>\n",
              "      <td>25</td>\n",
              "      <td>35</td>\n",
              "      <td>39</td>\n",
              "      <td>44</td>\n",
              "    </tr>\n",
              "    <tr>\n",
              "      <th>feelslike_c</th>\n",
              "      <td>28</td>\n",
              "      <td>27.2</td>\n",
              "      <td>26.5</td>\n",
              "      <td>26.5</td>\n",
              "      <td>26.6</td>\n",
              "    </tr>\n",
              "    <tr>\n",
              "      <th>will_it_rain</th>\n",
              "      <td>0</td>\n",
              "      <td>0</td>\n",
              "      <td>0</td>\n",
              "      <td>0</td>\n",
              "      <td>0</td>\n",
              "    </tr>\n",
              "    <tr>\n",
              "      <th>chance_of_rain</th>\n",
              "      <td>0</td>\n",
              "      <td>1</td>\n",
              "      <td>0</td>\n",
              "      <td>1</td>\n",
              "      <td>1</td>\n",
              "    </tr>\n",
              "    <tr>\n",
              "      <th>year</th>\n",
              "      <td>2021</td>\n",
              "      <td>2021</td>\n",
              "      <td>2021</td>\n",
              "      <td>2021</td>\n",
              "      <td>2021</td>\n",
              "    </tr>\n",
              "    <tr>\n",
              "      <th>month</th>\n",
              "      <td>12</td>\n",
              "      <td>12</td>\n",
              "      <td>12</td>\n",
              "      <td>12</td>\n",
              "      <td>12</td>\n",
              "    </tr>\n",
              "    <tr>\n",
              "      <th>day</th>\n",
              "      <td>31</td>\n",
              "      <td>31</td>\n",
              "      <td>31</td>\n",
              "      <td>31</td>\n",
              "      <td>31</td>\n",
              "    </tr>\n",
              "    <tr>\n",
              "      <th>hour</th>\n",
              "      <td>19</td>\n",
              "      <td>20</td>\n",
              "      <td>21</td>\n",
              "      <td>22</td>\n",
              "      <td>23</td>\n",
              "    </tr>\n",
              "    <tr>\n",
              "      <th>dayOfWeek</th>\n",
              "      <td>4</td>\n",
              "      <td>4</td>\n",
              "      <td>4</td>\n",
              "      <td>4</td>\n",
              "      <td>4</td>\n",
              "    </tr>\n",
              "  </tbody>\n",
              "</table>\n",
              "</div>\n",
              "      <button class=\"colab-df-convert\" onclick=\"convertToInteractive('df-c43e7dd8-ca57-417b-9a65-4052c48e4809')\"\n",
              "              title=\"Convert this dataframe to an interactive table.\"\n",
              "              style=\"display:none;\">\n",
              "        \n",
              "  <svg xmlns=\"http://www.w3.org/2000/svg\" height=\"24px\"viewBox=\"0 0 24 24\"\n",
              "       width=\"24px\">\n",
              "    <path d=\"M0 0h24v24H0V0z\" fill=\"none\"/>\n",
              "    <path d=\"M18.56 5.44l.94 2.06.94-2.06 2.06-.94-2.06-.94-.94-2.06-.94 2.06-2.06.94zm-11 1L8.5 8.5l.94-2.06 2.06-.94-2.06-.94L8.5 2.5l-.94 2.06-2.06.94zm10 10l.94 2.06.94-2.06 2.06-.94-2.06-.94-.94-2.06-.94 2.06-2.06.94z\"/><path d=\"M17.41 7.96l-1.37-1.37c-.4-.4-.92-.59-1.43-.59-.52 0-1.04.2-1.43.59L10.3 9.45l-7.72 7.72c-.78.78-.78 2.05 0 2.83L4 21.41c.39.39.9.59 1.41.59.51 0 1.02-.2 1.41-.59l7.78-7.78 2.81-2.81c.8-.78.8-2.07 0-2.86zM5.41 20L4 18.59l7.72-7.72 1.47 1.35L5.41 20z\"/>\n",
              "  </svg>\n",
              "      </button>\n",
              "      \n",
              "  <style>\n",
              "    .colab-df-container {\n",
              "      display:flex;\n",
              "      flex-wrap:wrap;\n",
              "      gap: 12px;\n",
              "    }\n",
              "\n",
              "    .colab-df-convert {\n",
              "      background-color: #E8F0FE;\n",
              "      border: none;\n",
              "      border-radius: 50%;\n",
              "      cursor: pointer;\n",
              "      display: none;\n",
              "      fill: #1967D2;\n",
              "      height: 32px;\n",
              "      padding: 0 0 0 0;\n",
              "      width: 32px;\n",
              "    }\n",
              "\n",
              "    .colab-df-convert:hover {\n",
              "      background-color: #E2EBFA;\n",
              "      box-shadow: 0px 1px 2px rgba(60, 64, 67, 0.3), 0px 1px 3px 1px rgba(60, 64, 67, 0.15);\n",
              "      fill: #174EA6;\n",
              "    }\n",
              "\n",
              "    [theme=dark] .colab-df-convert {\n",
              "      background-color: #3B4455;\n",
              "      fill: #D2E3FC;\n",
              "    }\n",
              "\n",
              "    [theme=dark] .colab-df-convert:hover {\n",
              "      background-color: #434B5C;\n",
              "      box-shadow: 0px 1px 3px 1px rgba(0, 0, 0, 0.15);\n",
              "      filter: drop-shadow(0px 1px 2px rgba(0, 0, 0, 0.3));\n",
              "      fill: #FFFFFF;\n",
              "    }\n",
              "  </style>\n",
              "\n",
              "      <script>\n",
              "        const buttonEl =\n",
              "          document.querySelector('#df-c43e7dd8-ca57-417b-9a65-4052c48e4809 button.colab-df-convert');\n",
              "        buttonEl.style.display =\n",
              "          google.colab.kernel.accessAllowed ? 'block' : 'none';\n",
              "\n",
              "        async function convertToInteractive(key) {\n",
              "          const element = document.querySelector('#df-c43e7dd8-ca57-417b-9a65-4052c48e4809');\n",
              "          const dataTable =\n",
              "            await google.colab.kernel.invokeFunction('convertToInteractive',\n",
              "                                                     [key], {});\n",
              "          if (!dataTable) return;\n",
              "\n",
              "          const docLinkHtml = 'Like what you see? Visit the ' +\n",
              "            '<a target=\"_blank\" href=https://colab.research.google.com/notebooks/data_table.ipynb>data table notebook</a>'\n",
              "            + ' to learn more about interactive tables.';\n",
              "          element.innerHTML = '';\n",
              "          dataTable['output_type'] = 'display_data';\n",
              "          await google.colab.output.renderOutput(dataTable, element);\n",
              "          const docLink = document.createElement('div');\n",
              "          docLink.innerHTML = docLinkHtml;\n",
              "          element.appendChild(docLink);\n",
              "        }\n",
              "      </script>\n",
              "    </div>\n",
              "  </div>\n",
              "  "
            ],
            "text/plain": [
              "                                   523  ...                  527\n",
              "name                            Makati  ...               Makati\n",
              "region                     Makati City  ...          Makati City\n",
              "country                    Philippines  ...          Philippines\n",
              "longitude                       121.03  ...               121.03\n",
              "latitude                         14.57  ...                14.57\n",
              "time               2021-12-31 19:00:00  ...  2021-12-31 23:00:00\n",
              "temp_c                            26.4  ...                   25\n",
              "is_day                               0  ...                    0\n",
              "condition                        Clear  ...        Partly cloudy\n",
              "wind_kph                          21.4  ...                 19.2\n",
              "wind_degree                         72  ...                   77\n",
              "wind_dir                           ENE  ...                  ENE\n",
              "air_pressure                    1015.1  ...              1016.51\n",
              "precipitation                     0.04  ...                 0.05\n",
              "relative_humidity                70.13  ...                67.07\n",
              "cloud                               15  ...                   44\n",
              "feelslike_c                         28  ...                 26.6\n",
              "will_it_rain                         0  ...                    0\n",
              "chance_of_rain                       0  ...                    1\n",
              "year                              2021  ...                 2021\n",
              "month                               12  ...                   12\n",
              "day                                 31  ...                   31\n",
              "hour                                19  ...                   23\n",
              "dayOfWeek                            4  ...                    4\n",
              "\n",
              "[24 rows x 5 columns]"
            ]
          },
          "metadata": {},
          "execution_count": 35
        }
      ],
      "source": [
        "df.tail().T"
      ]
    },
    {
      "cell_type": "code",
      "execution_count": 36,
      "metadata": {
        "colab": {
          "base_uri": "https://localhost:8080/",
          "height": 771
        },
        "id": "oDYUWdkW9Gyo",
        "outputId": "813fad3e-6267-4ebe-b102-aabb532b7277"
      },
      "outputs": [
        {
          "output_type": "execute_result",
          "data": {
            "text/html": [
              "\n",
              "  <div id=\"df-f1e0276b-33f9-4823-908d-66dc442e36f0\">\n",
              "    <div class=\"colab-df-container\">\n",
              "      <div>\n",
              "<style scoped>\n",
              "    .dataframe tbody tr th:only-of-type {\n",
              "        vertical-align: middle;\n",
              "    }\n",
              "\n",
              "    .dataframe tbody tr th {\n",
              "        vertical-align: top;\n",
              "    }\n",
              "\n",
              "    .dataframe thead th {\n",
              "        text-align: right;\n",
              "    }\n",
              "</style>\n",
              "<table border=\"1\" class=\"dataframe\">\n",
              "  <thead>\n",
              "    <tr style=\"text-align: right;\">\n",
              "      <th></th>\n",
              "      <th>0</th>\n",
              "      <th>1</th>\n",
              "      <th>2</th>\n",
              "      <th>3</th>\n",
              "      <th>4</th>\n",
              "    </tr>\n",
              "  </thead>\n",
              "  <tbody>\n",
              "    <tr>\n",
              "      <th>name</th>\n",
              "      <td>Makati</td>\n",
              "      <td>Makati</td>\n",
              "      <td>Makati</td>\n",
              "      <td>Makati</td>\n",
              "      <td>Makati</td>\n",
              "    </tr>\n",
              "    <tr>\n",
              "      <th>region</th>\n",
              "      <td>Manila</td>\n",
              "      <td>Manila</td>\n",
              "      <td>Manila</td>\n",
              "      <td>Manila</td>\n",
              "      <td>Manila</td>\n",
              "    </tr>\n",
              "    <tr>\n",
              "      <th>country</th>\n",
              "      <td>Philippines</td>\n",
              "      <td>Philippines</td>\n",
              "      <td>Philippines</td>\n",
              "      <td>Philippines</td>\n",
              "      <td>Philippines</td>\n",
              "    </tr>\n",
              "    <tr>\n",
              "      <th>longitude</th>\n",
              "      <td>121.03</td>\n",
              "      <td>121.03</td>\n",
              "      <td>121.03</td>\n",
              "      <td>121.03</td>\n",
              "      <td>121.03</td>\n",
              "    </tr>\n",
              "    <tr>\n",
              "      <th>latitude</th>\n",
              "      <td>14.57</td>\n",
              "      <td>14.57</td>\n",
              "      <td>14.57</td>\n",
              "      <td>14.57</td>\n",
              "      <td>14.57</td>\n",
              "    </tr>\n",
              "    <tr>\n",
              "      <th>temp_c</th>\n",
              "      <td>24.8</td>\n",
              "      <td>24.6</td>\n",
              "      <td>24.3</td>\n",
              "      <td>24.1</td>\n",
              "      <td>24</td>\n",
              "    </tr>\n",
              "    <tr>\n",
              "      <th>is_day</th>\n",
              "      <td>0</td>\n",
              "      <td>0</td>\n",
              "      <td>0</td>\n",
              "      <td>0</td>\n",
              "      <td>0</td>\n",
              "    </tr>\n",
              "    <tr>\n",
              "      <th>condition</th>\n",
              "      <td>Clear</td>\n",
              "      <td>Clear</td>\n",
              "      <td>Clear</td>\n",
              "      <td>Clear</td>\n",
              "      <td>Clear</td>\n",
              "    </tr>\n",
              "    <tr>\n",
              "      <th>wind_kph</th>\n",
              "      <td>12.2</td>\n",
              "      <td>10.9</td>\n",
              "      <td>9.6</td>\n",
              "      <td>8.3</td>\n",
              "      <td>8.2</td>\n",
              "    </tr>\n",
              "    <tr>\n",
              "      <th>wind_degree</th>\n",
              "      <td>78</td>\n",
              "      <td>75</td>\n",
              "      <td>71</td>\n",
              "      <td>68</td>\n",
              "      <td>59</td>\n",
              "    </tr>\n",
              "    <tr>\n",
              "      <th>wind_dir</th>\n",
              "      <td>ENE</td>\n",
              "      <td>ENE</td>\n",
              "      <td>ENE</td>\n",
              "      <td>ENE</td>\n",
              "      <td>ENE</td>\n",
              "    </tr>\n",
              "    <tr>\n",
              "      <th>air_pressure</th>\n",
              "      <td>1013.88</td>\n",
              "      <td>1013.73</td>\n",
              "      <td>1013.58</td>\n",
              "      <td>1013.42</td>\n",
              "      <td>1012.62</td>\n",
              "    </tr>\n",
              "    <tr>\n",
              "      <th>precipitation</th>\n",
              "      <td>0</td>\n",
              "      <td>0</td>\n",
              "      <td>0</td>\n",
              "      <td>0</td>\n",
              "      <td>0</td>\n",
              "    </tr>\n",
              "    <tr>\n",
              "      <th>relative_humidity</th>\n",
              "      <td>67.3</td>\n",
              "      <td>63.67</td>\n",
              "      <td>60.03</td>\n",
              "      <td>56.4</td>\n",
              "      <td>55.9</td>\n",
              "    </tr>\n",
              "    <tr>\n",
              "      <th>cloud</th>\n",
              "      <td>10</td>\n",
              "      <td>14</td>\n",
              "      <td>18</td>\n",
              "      <td>22</td>\n",
              "      <td>30</td>\n",
              "    </tr>\n",
              "    <tr>\n",
              "      <th>feelslike_c</th>\n",
              "      <td>26.3</td>\n",
              "      <td>26.1</td>\n",
              "      <td>26</td>\n",
              "      <td>25.8</td>\n",
              "      <td>25.7</td>\n",
              "    </tr>\n",
              "    <tr>\n",
              "      <th>will_it_rain</th>\n",
              "      <td>0</td>\n",
              "      <td>0</td>\n",
              "      <td>0</td>\n",
              "      <td>0</td>\n",
              "      <td>0</td>\n",
              "    </tr>\n",
              "    <tr>\n",
              "      <th>chance_of_rain</th>\n",
              "      <td>0</td>\n",
              "      <td>0</td>\n",
              "      <td>0</td>\n",
              "      <td>0</td>\n",
              "      <td>0</td>\n",
              "    </tr>\n",
              "    <tr>\n",
              "      <th>year</th>\n",
              "      <td>2021</td>\n",
              "      <td>2021</td>\n",
              "      <td>2021</td>\n",
              "      <td>2021</td>\n",
              "      <td>2021</td>\n",
              "    </tr>\n",
              "    <tr>\n",
              "      <th>month</th>\n",
              "      <td>12</td>\n",
              "      <td>12</td>\n",
              "      <td>12</td>\n",
              "      <td>12</td>\n",
              "      <td>12</td>\n",
              "    </tr>\n",
              "    <tr>\n",
              "      <th>day</th>\n",
              "      <td>10</td>\n",
              "      <td>10</td>\n",
              "      <td>10</td>\n",
              "      <td>10</td>\n",
              "      <td>10</td>\n",
              "    </tr>\n",
              "    <tr>\n",
              "      <th>hour</th>\n",
              "      <td>0</td>\n",
              "      <td>1</td>\n",
              "      <td>2</td>\n",
              "      <td>3</td>\n",
              "      <td>4</td>\n",
              "    </tr>\n",
              "    <tr>\n",
              "      <th>dayOfWeek</th>\n",
              "      <td>4</td>\n",
              "      <td>4</td>\n",
              "      <td>4</td>\n",
              "      <td>4</td>\n",
              "      <td>4</td>\n",
              "    </tr>\n",
              "  </tbody>\n",
              "</table>\n",
              "</div>\n",
              "      <button class=\"colab-df-convert\" onclick=\"convertToInteractive('df-f1e0276b-33f9-4823-908d-66dc442e36f0')\"\n",
              "              title=\"Convert this dataframe to an interactive table.\"\n",
              "              style=\"display:none;\">\n",
              "        \n",
              "  <svg xmlns=\"http://www.w3.org/2000/svg\" height=\"24px\"viewBox=\"0 0 24 24\"\n",
              "       width=\"24px\">\n",
              "    <path d=\"M0 0h24v24H0V0z\" fill=\"none\"/>\n",
              "    <path d=\"M18.56 5.44l.94 2.06.94-2.06 2.06-.94-2.06-.94-.94-2.06-.94 2.06-2.06.94zm-11 1L8.5 8.5l.94-2.06 2.06-.94-2.06-.94L8.5 2.5l-.94 2.06-2.06.94zm10 10l.94 2.06.94-2.06 2.06-.94-2.06-.94-.94-2.06-.94 2.06-2.06.94z\"/><path d=\"M17.41 7.96l-1.37-1.37c-.4-.4-.92-.59-1.43-.59-.52 0-1.04.2-1.43.59L10.3 9.45l-7.72 7.72c-.78.78-.78 2.05 0 2.83L4 21.41c.39.39.9.59 1.41.59.51 0 1.02-.2 1.41-.59l7.78-7.78 2.81-2.81c.8-.78.8-2.07 0-2.86zM5.41 20L4 18.59l7.72-7.72 1.47 1.35L5.41 20z\"/>\n",
              "  </svg>\n",
              "      </button>\n",
              "      \n",
              "  <style>\n",
              "    .colab-df-container {\n",
              "      display:flex;\n",
              "      flex-wrap:wrap;\n",
              "      gap: 12px;\n",
              "    }\n",
              "\n",
              "    .colab-df-convert {\n",
              "      background-color: #E8F0FE;\n",
              "      border: none;\n",
              "      border-radius: 50%;\n",
              "      cursor: pointer;\n",
              "      display: none;\n",
              "      fill: #1967D2;\n",
              "      height: 32px;\n",
              "      padding: 0 0 0 0;\n",
              "      width: 32px;\n",
              "    }\n",
              "\n",
              "    .colab-df-convert:hover {\n",
              "      background-color: #E2EBFA;\n",
              "      box-shadow: 0px 1px 2px rgba(60, 64, 67, 0.3), 0px 1px 3px 1px rgba(60, 64, 67, 0.15);\n",
              "      fill: #174EA6;\n",
              "    }\n",
              "\n",
              "    [theme=dark] .colab-df-convert {\n",
              "      background-color: #3B4455;\n",
              "      fill: #D2E3FC;\n",
              "    }\n",
              "\n",
              "    [theme=dark] .colab-df-convert:hover {\n",
              "      background-color: #434B5C;\n",
              "      box-shadow: 0px 1px 3px 1px rgba(0, 0, 0, 0.15);\n",
              "      filter: drop-shadow(0px 1px 2px rgba(0, 0, 0, 0.3));\n",
              "      fill: #FFFFFF;\n",
              "    }\n",
              "  </style>\n",
              "\n",
              "      <script>\n",
              "        const buttonEl =\n",
              "          document.querySelector('#df-f1e0276b-33f9-4823-908d-66dc442e36f0 button.colab-df-convert');\n",
              "        buttonEl.style.display =\n",
              "          google.colab.kernel.accessAllowed ? 'block' : 'none';\n",
              "\n",
              "        async function convertToInteractive(key) {\n",
              "          const element = document.querySelector('#df-f1e0276b-33f9-4823-908d-66dc442e36f0');\n",
              "          const dataTable =\n",
              "            await google.colab.kernel.invokeFunction('convertToInteractive',\n",
              "                                                     [key], {});\n",
              "          if (!dataTable) return;\n",
              "\n",
              "          const docLinkHtml = 'Like what you see? Visit the ' +\n",
              "            '<a target=\"_blank\" href=https://colab.research.google.com/notebooks/data_table.ipynb>data table notebook</a>'\n",
              "            + ' to learn more about interactive tables.';\n",
              "          element.innerHTML = '';\n",
              "          dataTable['output_type'] = 'display_data';\n",
              "          await google.colab.output.renderOutput(dataTable, element);\n",
              "          const docLink = document.createElement('div');\n",
              "          docLink.innerHTML = docLinkHtml;\n",
              "          element.appendChild(docLink);\n",
              "        }\n",
              "      </script>\n",
              "    </div>\n",
              "  </div>\n",
              "  "
            ],
            "text/plain": [
              "                             0            1  ...            3            4\n",
              "name                    Makati       Makati  ...       Makati       Makati\n",
              "region                  Manila       Manila  ...       Manila       Manila\n",
              "country            Philippines  Philippines  ...  Philippines  Philippines\n",
              "longitude               121.03       121.03  ...       121.03       121.03\n",
              "latitude                 14.57        14.57  ...        14.57        14.57\n",
              "temp_c                    24.8         24.6  ...         24.1           24\n",
              "is_day                       0            0  ...            0            0\n",
              "condition                Clear        Clear  ...        Clear        Clear\n",
              "wind_kph                  12.2         10.9  ...          8.3          8.2\n",
              "wind_degree                 78           75  ...           68           59\n",
              "wind_dir                   ENE          ENE  ...          ENE          ENE\n",
              "air_pressure           1013.88      1013.73  ...      1013.42      1012.62\n",
              "precipitation                0            0  ...            0            0\n",
              "relative_humidity         67.3        63.67  ...         56.4         55.9\n",
              "cloud                       10           14  ...           22           30\n",
              "feelslike_c               26.3         26.1  ...         25.8         25.7\n",
              "will_it_rain                 0            0  ...            0            0\n",
              "chance_of_rain               0            0  ...            0            0\n",
              "year                      2021         2021  ...         2021         2021\n",
              "month                       12           12  ...           12           12\n",
              "day                         10           10  ...           10           10\n",
              "hour                         0            1  ...            3            4\n",
              "dayOfWeek                    4            4  ...            4            4\n",
              "\n",
              "[23 rows x 5 columns]"
            ]
          },
          "metadata": {},
          "execution_count": 36
        }
      ],
      "source": [
        "x_time = df['time']\n",
        "df.drop(columns=['time'], inplace=True, axis=1)\n",
        "df.head().T"
      ]
    },
    {
      "cell_type": "markdown",
      "metadata": {
        "id": "IlFOLPQO9VPy"
      },
      "source": [
        "## Model driven EDA"
      ]
    },
    {
      "cell_type": "code",
      "execution_count": 37,
      "metadata": {
        "id": "zOLWBiVEBHgX"
      },
      "outputs": [],
      "source": [
        "from sklearn.ensemble import RandomForestRegressor \n",
        "\n",
        "model = RandomForestRegressor(\n",
        "    n_jobs=1,\n",
        "    random_state=42\n",
        ")"
      ]
    },
    {
      "cell_type": "markdown",
      "metadata": {
        "id": "gtvKG3HZBcjc"
      },
      "source": [
        "### Turning data into pandas categories"
      ]
    },
    {
      "cell_type": "code",
      "execution_count": 38,
      "metadata": {
        "colab": {
          "base_uri": "https://localhost:8080/"
        },
        "id": "Nz_ZFSvmBfDt",
        "outputId": "0773c2ad-a4b5-47bd-9717-f7f65b16cc65"
      },
      "outputs": [
        {
          "output_type": "stream",
          "name": "stdout",
          "text": [
            "name\n",
            "region\n",
            "country\n",
            "condition\n",
            "wind_dir\n"
          ]
        }
      ],
      "source": [
        "for label, content in df.items():\n",
        "    if pd.api.types.is_string_dtype(content):\n",
        "        print(label)"
      ]
    },
    {
      "cell_type": "code",
      "execution_count": 39,
      "metadata": {
        "id": "5By1HkPEBnBO"
      },
      "outputs": [],
      "source": [
        "for label, content in df.items(): \n",
        "    if pd.api.types.is_string_dtype(content):\n",
        "        df[label] = content.astype('category').cat.as_ordered()"
      ]
    },
    {
      "cell_type": "code",
      "execution_count": 40,
      "metadata": {
        "colab": {
          "base_uri": "https://localhost:8080/"
        },
        "id": "jn63oXi5B5x8",
        "outputId": "7e86bca8-6d3a-450e-dd75-56f98ff398bb"
      },
      "outputs": [
        {
          "output_type": "stream",
          "name": "stdout",
          "text": [
            "<class 'pandas.core.frame.DataFrame'>\n",
            "RangeIndex: 528 entries, 0 to 527\n",
            "Data columns (total 23 columns):\n",
            " #   Column             Non-Null Count  Dtype   \n",
            "---  ------             --------------  -----   \n",
            " 0   name               528 non-null    category\n",
            " 1   region             528 non-null    category\n",
            " 2   country            528 non-null    category\n",
            " 3   longitude          528 non-null    float64 \n",
            " 4   latitude           528 non-null    float64 \n",
            " 5   temp_c             528 non-null    float64 \n",
            " 6   is_day             528 non-null    int64   \n",
            " 7   condition          528 non-null    category\n",
            " 8   wind_kph           528 non-null    float64 \n",
            " 9   wind_degree        528 non-null    int64   \n",
            " 10  wind_dir           528 non-null    category\n",
            " 11  air_pressure       528 non-null    float64 \n",
            " 12  precipitation      528 non-null    float64 \n",
            " 13  relative_humidity  528 non-null    float64 \n",
            " 14  cloud              528 non-null    int64   \n",
            " 15  feelslike_c        528 non-null    float64 \n",
            " 16  will_it_rain       528 non-null    int64   \n",
            " 17  chance_of_rain     528 non-null    int64   \n",
            " 18  year               528 non-null    int64   \n",
            " 19  month              528 non-null    int64   \n",
            " 20  day                528 non-null    int64   \n",
            " 21  hour               528 non-null    int64   \n",
            " 22  dayOfWeek          528 non-null    int64   \n",
            "dtypes: category(5), float64(8), int64(10)\n",
            "memory usage: 78.0 KB\n"
          ]
        }
      ],
      "source": [
        "df.info()"
      ]
    },
    {
      "cell_type": "code",
      "execution_count": 41,
      "metadata": {
        "colab": {
          "base_uri": "https://localhost:8080/"
        },
        "id": "_Y5LVTlUB7Di",
        "outputId": "e2df4cfa-fde9-4a85-ff93-59f4d81e5742"
      },
      "outputs": [
        {
          "output_type": "stream",
          "name": "stdout",
          "text": [
            "name                 0.0\n",
            "region               0.0\n",
            "country              0.0\n",
            "longitude            0.0\n",
            "latitude             0.0\n",
            "temp_c               0.0\n",
            "is_day               0.0\n",
            "condition            0.0\n",
            "wind_kph             0.0\n",
            "wind_degree          0.0\n",
            "wind_dir             0.0\n",
            "air_pressure         0.0\n",
            "precipitation        0.0\n",
            "relative_humidity    0.0\n",
            "cloud                0.0\n",
            "feelslike_c          0.0\n",
            "will_it_rain         0.0\n",
            "chance_of_rain       0.0\n",
            "year                 0.0\n",
            "month                0.0\n",
            "day                  0.0\n",
            "hour                 0.0\n",
            "dayOfWeek            0.0\n",
            "dtype: float64%\n"
          ]
        }
      ],
      "source": [
        "print(f'{df.isnull().sum() / len(df) * 100}%')"
      ]
    },
    {
      "cell_type": "code",
      "execution_count": 42,
      "metadata": {
        "id": "DZwoN6N0CGoT"
      },
      "outputs": [],
      "source": [
        "\n",
        "\n",
        "# Check if there is any null numeric values\n",
        "for label, content in df.items():\n",
        "    if pd.api.types.is_numeric_dtype(content):\n",
        "        if pd.isnull(content).sum():\n",
        "            print(label)"
      ]
    },
    {
      "cell_type": "code",
      "execution_count": 43,
      "metadata": {
        "colab": {
          "base_uri": "https://localhost:8080/"
        },
        "id": "bXRzy5BvCgsD",
        "outputId": "4c78b674-983a-4a58-a00e-5909065dd0e2"
      },
      "outputs": [
        {
          "output_type": "stream",
          "name": "stdout",
          "text": [
            "name\n",
            "region\n",
            "country\n",
            "condition\n",
            "wind_dir\n"
          ]
        }
      ],
      "source": [
        "\n",
        "\n",
        "# Check for columns which aren't numeric\n",
        "for label, content in df.items():\n",
        "    if not pd.api.types.is_numeric_dtype(content):\n",
        "        print(label)\n",
        "\n"
      ]
    },
    {
      "cell_type": "code",
      "execution_count": 44,
      "metadata": {
        "id": "1hrMRPtOCk1d"
      },
      "outputs": [],
      "source": [
        "# Turns categorical variables into numbers and fills missing\n",
        "for label, content in df.items():\n",
        "    if not pd.api.types.is_numeric_dtype(content):\n",
        "        #add binary column to indicate whether sample has missing value\n",
        "        df[label+'_is_missing'] = pd.isnull(content)\n",
        "        #turns categories into numbers and add + 1\n",
        "        # Add 1 to avoid having -1 values in the data (ie, missing values)\n",
        "        df[label] = pd.Categorical(content).codes + 1\n"
      ]
    },
    {
      "cell_type": "code",
      "execution_count": 45,
      "metadata": {
        "colab": {
          "base_uri": "https://localhost:8080/"
        },
        "id": "lHcw0vufCy8_",
        "outputId": "4bfed8e1-f62e-46cf-bdff-3ea49080132e"
      },
      "outputs": [
        {
          "output_type": "execute_result",
          "data": {
            "text/plain": [
              "name                    0\n",
              "region                  0\n",
              "country                 0\n",
              "longitude               0\n",
              "latitude                0\n",
              "temp_c                  0\n",
              "is_day                  0\n",
              "condition               0\n",
              "wind_kph                0\n",
              "wind_degree             0\n",
              "wind_dir                0\n",
              "air_pressure            0\n",
              "precipitation           0\n",
              "relative_humidity       0\n",
              "cloud                   0\n",
              "feelslike_c             0\n",
              "will_it_rain            0\n",
              "chance_of_rain          0\n",
              "year                    0\n",
              "month                   0\n",
              "day                     0\n",
              "hour                    0\n",
              "dayOfWeek               0\n",
              "name_is_missing         0\n",
              "region_is_missing       0\n",
              "country_is_missing      0\n",
              "condition_is_missing    0\n",
              "wind_dir_is_missing     0\n",
              "dtype: int64"
            ]
          },
          "metadata": {},
          "execution_count": 45
        }
      ],
      "source": [
        "df.isna().sum()"
      ]
    },
    {
      "cell_type": "code",
      "execution_count": 46,
      "metadata": {
        "colab": {
          "base_uri": "https://localhost:8080/",
          "height": 270
        },
        "id": "cjU77Eo-C03i",
        "outputId": "f4a05209-af56-4bdd-d699-23489055cf5a"
      },
      "outputs": [
        {
          "output_type": "execute_result",
          "data": {
            "text/html": [
              "\n",
              "  <div id=\"df-d892d969-13e0-4fd2-b69a-c6b49dafdab5\">\n",
              "    <div class=\"colab-df-container\">\n",
              "      <div>\n",
              "<style scoped>\n",
              "    .dataframe tbody tr th:only-of-type {\n",
              "        vertical-align: middle;\n",
              "    }\n",
              "\n",
              "    .dataframe tbody tr th {\n",
              "        vertical-align: top;\n",
              "    }\n",
              "\n",
              "    .dataframe thead th {\n",
              "        text-align: right;\n",
              "    }\n",
              "</style>\n",
              "<table border=\"1\" class=\"dataframe\">\n",
              "  <thead>\n",
              "    <tr style=\"text-align: right;\">\n",
              "      <th></th>\n",
              "      <th>name</th>\n",
              "      <th>region</th>\n",
              "      <th>country</th>\n",
              "      <th>longitude</th>\n",
              "      <th>latitude</th>\n",
              "      <th>temp_c</th>\n",
              "      <th>is_day</th>\n",
              "      <th>condition</th>\n",
              "      <th>wind_kph</th>\n",
              "      <th>wind_degree</th>\n",
              "      <th>wind_dir</th>\n",
              "      <th>air_pressure</th>\n",
              "      <th>precipitation</th>\n",
              "      <th>relative_humidity</th>\n",
              "      <th>cloud</th>\n",
              "      <th>feelslike_c</th>\n",
              "      <th>will_it_rain</th>\n",
              "      <th>chance_of_rain</th>\n",
              "      <th>year</th>\n",
              "      <th>month</th>\n",
              "      <th>day</th>\n",
              "      <th>hour</th>\n",
              "      <th>dayOfWeek</th>\n",
              "      <th>name_is_missing</th>\n",
              "      <th>region_is_missing</th>\n",
              "      <th>country_is_missing</th>\n",
              "      <th>condition_is_missing</th>\n",
              "      <th>wind_dir_is_missing</th>\n",
              "    </tr>\n",
              "  </thead>\n",
              "  <tbody>\n",
              "    <tr>\n",
              "      <th>0</th>\n",
              "      <td>1</td>\n",
              "      <td>2</td>\n",
              "      <td>1</td>\n",
              "      <td>121.03</td>\n",
              "      <td>14.57</td>\n",
              "      <td>24.8</td>\n",
              "      <td>0</td>\n",
              "      <td>1</td>\n",
              "      <td>12.2</td>\n",
              "      <td>78</td>\n",
              "      <td>2</td>\n",
              "      <td>1013.88</td>\n",
              "      <td>0.0</td>\n",
              "      <td>67.30</td>\n",
              "      <td>10</td>\n",
              "      <td>26.3</td>\n",
              "      <td>0</td>\n",
              "      <td>0</td>\n",
              "      <td>2021</td>\n",
              "      <td>12</td>\n",
              "      <td>10</td>\n",
              "      <td>0</td>\n",
              "      <td>4</td>\n",
              "      <td>False</td>\n",
              "      <td>False</td>\n",
              "      <td>False</td>\n",
              "      <td>False</td>\n",
              "      <td>False</td>\n",
              "    </tr>\n",
              "    <tr>\n",
              "      <th>1</th>\n",
              "      <td>1</td>\n",
              "      <td>2</td>\n",
              "      <td>1</td>\n",
              "      <td>121.03</td>\n",
              "      <td>14.57</td>\n",
              "      <td>24.6</td>\n",
              "      <td>0</td>\n",
              "      <td>1</td>\n",
              "      <td>10.9</td>\n",
              "      <td>75</td>\n",
              "      <td>2</td>\n",
              "      <td>1013.73</td>\n",
              "      <td>0.0</td>\n",
              "      <td>63.67</td>\n",
              "      <td>14</td>\n",
              "      <td>26.1</td>\n",
              "      <td>0</td>\n",
              "      <td>0</td>\n",
              "      <td>2021</td>\n",
              "      <td>12</td>\n",
              "      <td>10</td>\n",
              "      <td>1</td>\n",
              "      <td>4</td>\n",
              "      <td>False</td>\n",
              "      <td>False</td>\n",
              "      <td>False</td>\n",
              "      <td>False</td>\n",
              "      <td>False</td>\n",
              "    </tr>\n",
              "    <tr>\n",
              "      <th>2</th>\n",
              "      <td>1</td>\n",
              "      <td>2</td>\n",
              "      <td>1</td>\n",
              "      <td>121.03</td>\n",
              "      <td>14.57</td>\n",
              "      <td>24.3</td>\n",
              "      <td>0</td>\n",
              "      <td>1</td>\n",
              "      <td>9.6</td>\n",
              "      <td>71</td>\n",
              "      <td>2</td>\n",
              "      <td>1013.58</td>\n",
              "      <td>0.0</td>\n",
              "      <td>60.03</td>\n",
              "      <td>18</td>\n",
              "      <td>26.0</td>\n",
              "      <td>0</td>\n",
              "      <td>0</td>\n",
              "      <td>2021</td>\n",
              "      <td>12</td>\n",
              "      <td>10</td>\n",
              "      <td>2</td>\n",
              "      <td>4</td>\n",
              "      <td>False</td>\n",
              "      <td>False</td>\n",
              "      <td>False</td>\n",
              "      <td>False</td>\n",
              "      <td>False</td>\n",
              "    </tr>\n",
              "    <tr>\n",
              "      <th>3</th>\n",
              "      <td>1</td>\n",
              "      <td>2</td>\n",
              "      <td>1</td>\n",
              "      <td>121.03</td>\n",
              "      <td>14.57</td>\n",
              "      <td>24.1</td>\n",
              "      <td>0</td>\n",
              "      <td>1</td>\n",
              "      <td>8.3</td>\n",
              "      <td>68</td>\n",
              "      <td>2</td>\n",
              "      <td>1013.42</td>\n",
              "      <td>0.0</td>\n",
              "      <td>56.40</td>\n",
              "      <td>22</td>\n",
              "      <td>25.8</td>\n",
              "      <td>0</td>\n",
              "      <td>0</td>\n",
              "      <td>2021</td>\n",
              "      <td>12</td>\n",
              "      <td>10</td>\n",
              "      <td>3</td>\n",
              "      <td>4</td>\n",
              "      <td>False</td>\n",
              "      <td>False</td>\n",
              "      <td>False</td>\n",
              "      <td>False</td>\n",
              "      <td>False</td>\n",
              "    </tr>\n",
              "    <tr>\n",
              "      <th>4</th>\n",
              "      <td>1</td>\n",
              "      <td>2</td>\n",
              "      <td>1</td>\n",
              "      <td>121.03</td>\n",
              "      <td>14.57</td>\n",
              "      <td>24.0</td>\n",
              "      <td>0</td>\n",
              "      <td>1</td>\n",
              "      <td>8.2</td>\n",
              "      <td>59</td>\n",
              "      <td>2</td>\n",
              "      <td>1012.62</td>\n",
              "      <td>0.0</td>\n",
              "      <td>55.90</td>\n",
              "      <td>30</td>\n",
              "      <td>25.7</td>\n",
              "      <td>0</td>\n",
              "      <td>0</td>\n",
              "      <td>2021</td>\n",
              "      <td>12</td>\n",
              "      <td>10</td>\n",
              "      <td>4</td>\n",
              "      <td>4</td>\n",
              "      <td>False</td>\n",
              "      <td>False</td>\n",
              "      <td>False</td>\n",
              "      <td>False</td>\n",
              "      <td>False</td>\n",
              "    </tr>\n",
              "  </tbody>\n",
              "</table>\n",
              "</div>\n",
              "      <button class=\"colab-df-convert\" onclick=\"convertToInteractive('df-d892d969-13e0-4fd2-b69a-c6b49dafdab5')\"\n",
              "              title=\"Convert this dataframe to an interactive table.\"\n",
              "              style=\"display:none;\">\n",
              "        \n",
              "  <svg xmlns=\"http://www.w3.org/2000/svg\" height=\"24px\"viewBox=\"0 0 24 24\"\n",
              "       width=\"24px\">\n",
              "    <path d=\"M0 0h24v24H0V0z\" fill=\"none\"/>\n",
              "    <path d=\"M18.56 5.44l.94 2.06.94-2.06 2.06-.94-2.06-.94-.94-2.06-.94 2.06-2.06.94zm-11 1L8.5 8.5l.94-2.06 2.06-.94-2.06-.94L8.5 2.5l-.94 2.06-2.06.94zm10 10l.94 2.06.94-2.06 2.06-.94-2.06-.94-.94-2.06-.94 2.06-2.06.94z\"/><path d=\"M17.41 7.96l-1.37-1.37c-.4-.4-.92-.59-1.43-.59-.52 0-1.04.2-1.43.59L10.3 9.45l-7.72 7.72c-.78.78-.78 2.05 0 2.83L4 21.41c.39.39.9.59 1.41.59.51 0 1.02-.2 1.41-.59l7.78-7.78 2.81-2.81c.8-.78.8-2.07 0-2.86zM5.41 20L4 18.59l7.72-7.72 1.47 1.35L5.41 20z\"/>\n",
              "  </svg>\n",
              "      </button>\n",
              "      \n",
              "  <style>\n",
              "    .colab-df-container {\n",
              "      display:flex;\n",
              "      flex-wrap:wrap;\n",
              "      gap: 12px;\n",
              "    }\n",
              "\n",
              "    .colab-df-convert {\n",
              "      background-color: #E8F0FE;\n",
              "      border: none;\n",
              "      border-radius: 50%;\n",
              "      cursor: pointer;\n",
              "      display: none;\n",
              "      fill: #1967D2;\n",
              "      height: 32px;\n",
              "      padding: 0 0 0 0;\n",
              "      width: 32px;\n",
              "    }\n",
              "\n",
              "    .colab-df-convert:hover {\n",
              "      background-color: #E2EBFA;\n",
              "      box-shadow: 0px 1px 2px rgba(60, 64, 67, 0.3), 0px 1px 3px 1px rgba(60, 64, 67, 0.15);\n",
              "      fill: #174EA6;\n",
              "    }\n",
              "\n",
              "    [theme=dark] .colab-df-convert {\n",
              "      background-color: #3B4455;\n",
              "      fill: #D2E3FC;\n",
              "    }\n",
              "\n",
              "    [theme=dark] .colab-df-convert:hover {\n",
              "      background-color: #434B5C;\n",
              "      box-shadow: 0px 1px 3px 1px rgba(0, 0, 0, 0.15);\n",
              "      filter: drop-shadow(0px 1px 2px rgba(0, 0, 0, 0.3));\n",
              "      fill: #FFFFFF;\n",
              "    }\n",
              "  </style>\n",
              "\n",
              "      <script>\n",
              "        const buttonEl =\n",
              "          document.querySelector('#df-d892d969-13e0-4fd2-b69a-c6b49dafdab5 button.colab-df-convert');\n",
              "        buttonEl.style.display =\n",
              "          google.colab.kernel.accessAllowed ? 'block' : 'none';\n",
              "\n",
              "        async function convertToInteractive(key) {\n",
              "          const element = document.querySelector('#df-d892d969-13e0-4fd2-b69a-c6b49dafdab5');\n",
              "          const dataTable =\n",
              "            await google.colab.kernel.invokeFunction('convertToInteractive',\n",
              "                                                     [key], {});\n",
              "          if (!dataTable) return;\n",
              "\n",
              "          const docLinkHtml = 'Like what you see? Visit the ' +\n",
              "            '<a target=\"_blank\" href=https://colab.research.google.com/notebooks/data_table.ipynb>data table notebook</a>'\n",
              "            + ' to learn more about interactive tables.';\n",
              "          element.innerHTML = '';\n",
              "          dataTable['output_type'] = 'display_data';\n",
              "          await google.colab.output.renderOutput(dataTable, element);\n",
              "          const docLink = document.createElement('div');\n",
              "          docLink.innerHTML = docLinkHtml;\n",
              "          element.appendChild(docLink);\n",
              "        }\n",
              "      </script>\n",
              "    </div>\n",
              "  </div>\n",
              "  "
            ],
            "text/plain": [
              "   name  region  ...  condition_is_missing  wind_dir_is_missing\n",
              "0     1       2  ...                 False                False\n",
              "1     1       2  ...                 False                False\n",
              "2     1       2  ...                 False                False\n",
              "3     1       2  ...                 False                False\n",
              "4     1       2  ...                 False                False\n",
              "\n",
              "[5 rows x 28 columns]"
            ]
          },
          "metadata": {},
          "execution_count": 46
        }
      ],
      "source": [
        "df.head()"
      ]
    },
    {
      "cell_type": "code",
      "execution_count": 47,
      "metadata": {
        "colab": {
          "base_uri": "https://localhost:8080/",
          "height": 270
        },
        "id": "58jPozbqC2Op",
        "outputId": "e84d07a4-1305-4fcd-a12d-cc41d7e49a59"
      },
      "outputs": [
        {
          "output_type": "execute_result",
          "data": {
            "text/html": [
              "\n",
              "  <div id=\"df-0bde627d-d29a-4489-b2a1-6ed189042f0d\">\n",
              "    <div class=\"colab-df-container\">\n",
              "      <div>\n",
              "<style scoped>\n",
              "    .dataframe tbody tr th:only-of-type {\n",
              "        vertical-align: middle;\n",
              "    }\n",
              "\n",
              "    .dataframe tbody tr th {\n",
              "        vertical-align: top;\n",
              "    }\n",
              "\n",
              "    .dataframe thead th {\n",
              "        text-align: right;\n",
              "    }\n",
              "</style>\n",
              "<table border=\"1\" class=\"dataframe\">\n",
              "  <thead>\n",
              "    <tr style=\"text-align: right;\">\n",
              "      <th></th>\n",
              "      <th>name</th>\n",
              "      <th>country</th>\n",
              "      <th>longitude</th>\n",
              "      <th>latitude</th>\n",
              "      <th>temp_c</th>\n",
              "      <th>is_day</th>\n",
              "      <th>condition</th>\n",
              "      <th>wind_kph</th>\n",
              "      <th>wind_degree</th>\n",
              "      <th>wind_dir</th>\n",
              "      <th>air_pressure</th>\n",
              "      <th>precipitation</th>\n",
              "      <th>relative_humidity</th>\n",
              "      <th>cloud</th>\n",
              "      <th>feelslike_c</th>\n",
              "      <th>will_it_rain</th>\n",
              "      <th>chance_of_rain</th>\n",
              "      <th>year</th>\n",
              "      <th>month</th>\n",
              "      <th>day</th>\n",
              "      <th>hour</th>\n",
              "      <th>dayOfWeek</th>\n",
              "    </tr>\n",
              "  </thead>\n",
              "  <tbody>\n",
              "    <tr>\n",
              "      <th>0</th>\n",
              "      <td>1</td>\n",
              "      <td>1</td>\n",
              "      <td>121.03</td>\n",
              "      <td>14.57</td>\n",
              "      <td>24.8</td>\n",
              "      <td>0</td>\n",
              "      <td>1</td>\n",
              "      <td>12.2</td>\n",
              "      <td>78</td>\n",
              "      <td>2</td>\n",
              "      <td>1013.88</td>\n",
              "      <td>0.0</td>\n",
              "      <td>67.30</td>\n",
              "      <td>10</td>\n",
              "      <td>26.3</td>\n",
              "      <td>0</td>\n",
              "      <td>0</td>\n",
              "      <td>2021</td>\n",
              "      <td>12</td>\n",
              "      <td>10</td>\n",
              "      <td>0</td>\n",
              "      <td>4</td>\n",
              "    </tr>\n",
              "    <tr>\n",
              "      <th>1</th>\n",
              "      <td>1</td>\n",
              "      <td>1</td>\n",
              "      <td>121.03</td>\n",
              "      <td>14.57</td>\n",
              "      <td>24.6</td>\n",
              "      <td>0</td>\n",
              "      <td>1</td>\n",
              "      <td>10.9</td>\n",
              "      <td>75</td>\n",
              "      <td>2</td>\n",
              "      <td>1013.73</td>\n",
              "      <td>0.0</td>\n",
              "      <td>63.67</td>\n",
              "      <td>14</td>\n",
              "      <td>26.1</td>\n",
              "      <td>0</td>\n",
              "      <td>0</td>\n",
              "      <td>2021</td>\n",
              "      <td>12</td>\n",
              "      <td>10</td>\n",
              "      <td>1</td>\n",
              "      <td>4</td>\n",
              "    </tr>\n",
              "    <tr>\n",
              "      <th>2</th>\n",
              "      <td>1</td>\n",
              "      <td>1</td>\n",
              "      <td>121.03</td>\n",
              "      <td>14.57</td>\n",
              "      <td>24.3</td>\n",
              "      <td>0</td>\n",
              "      <td>1</td>\n",
              "      <td>9.6</td>\n",
              "      <td>71</td>\n",
              "      <td>2</td>\n",
              "      <td>1013.58</td>\n",
              "      <td>0.0</td>\n",
              "      <td>60.03</td>\n",
              "      <td>18</td>\n",
              "      <td>26.0</td>\n",
              "      <td>0</td>\n",
              "      <td>0</td>\n",
              "      <td>2021</td>\n",
              "      <td>12</td>\n",
              "      <td>10</td>\n",
              "      <td>2</td>\n",
              "      <td>4</td>\n",
              "    </tr>\n",
              "    <tr>\n",
              "      <th>3</th>\n",
              "      <td>1</td>\n",
              "      <td>1</td>\n",
              "      <td>121.03</td>\n",
              "      <td>14.57</td>\n",
              "      <td>24.1</td>\n",
              "      <td>0</td>\n",
              "      <td>1</td>\n",
              "      <td>8.3</td>\n",
              "      <td>68</td>\n",
              "      <td>2</td>\n",
              "      <td>1013.42</td>\n",
              "      <td>0.0</td>\n",
              "      <td>56.40</td>\n",
              "      <td>22</td>\n",
              "      <td>25.8</td>\n",
              "      <td>0</td>\n",
              "      <td>0</td>\n",
              "      <td>2021</td>\n",
              "      <td>12</td>\n",
              "      <td>10</td>\n",
              "      <td>3</td>\n",
              "      <td>4</td>\n",
              "    </tr>\n",
              "    <tr>\n",
              "      <th>4</th>\n",
              "      <td>1</td>\n",
              "      <td>1</td>\n",
              "      <td>121.03</td>\n",
              "      <td>14.57</td>\n",
              "      <td>24.0</td>\n",
              "      <td>0</td>\n",
              "      <td>1</td>\n",
              "      <td>8.2</td>\n",
              "      <td>59</td>\n",
              "      <td>2</td>\n",
              "      <td>1012.62</td>\n",
              "      <td>0.0</td>\n",
              "      <td>55.90</td>\n",
              "      <td>30</td>\n",
              "      <td>25.7</td>\n",
              "      <td>0</td>\n",
              "      <td>0</td>\n",
              "      <td>2021</td>\n",
              "      <td>12</td>\n",
              "      <td>10</td>\n",
              "      <td>4</td>\n",
              "      <td>4</td>\n",
              "    </tr>\n",
              "  </tbody>\n",
              "</table>\n",
              "</div>\n",
              "      <button class=\"colab-df-convert\" onclick=\"convertToInteractive('df-0bde627d-d29a-4489-b2a1-6ed189042f0d')\"\n",
              "              title=\"Convert this dataframe to an interactive table.\"\n",
              "              style=\"display:none;\">\n",
              "        \n",
              "  <svg xmlns=\"http://www.w3.org/2000/svg\" height=\"24px\"viewBox=\"0 0 24 24\"\n",
              "       width=\"24px\">\n",
              "    <path d=\"M0 0h24v24H0V0z\" fill=\"none\"/>\n",
              "    <path d=\"M18.56 5.44l.94 2.06.94-2.06 2.06-.94-2.06-.94-.94-2.06-.94 2.06-2.06.94zm-11 1L8.5 8.5l.94-2.06 2.06-.94-2.06-.94L8.5 2.5l-.94 2.06-2.06.94zm10 10l.94 2.06.94-2.06 2.06-.94-2.06-.94-.94-2.06-.94 2.06-2.06.94z\"/><path d=\"M17.41 7.96l-1.37-1.37c-.4-.4-.92-.59-1.43-.59-.52 0-1.04.2-1.43.59L10.3 9.45l-7.72 7.72c-.78.78-.78 2.05 0 2.83L4 21.41c.39.39.9.59 1.41.59.51 0 1.02-.2 1.41-.59l7.78-7.78 2.81-2.81c.8-.78.8-2.07 0-2.86zM5.41 20L4 18.59l7.72-7.72 1.47 1.35L5.41 20z\"/>\n",
              "  </svg>\n",
              "      </button>\n",
              "      \n",
              "  <style>\n",
              "    .colab-df-container {\n",
              "      display:flex;\n",
              "      flex-wrap:wrap;\n",
              "      gap: 12px;\n",
              "    }\n",
              "\n",
              "    .colab-df-convert {\n",
              "      background-color: #E8F0FE;\n",
              "      border: none;\n",
              "      border-radius: 50%;\n",
              "      cursor: pointer;\n",
              "      display: none;\n",
              "      fill: #1967D2;\n",
              "      height: 32px;\n",
              "      padding: 0 0 0 0;\n",
              "      width: 32px;\n",
              "    }\n",
              "\n",
              "    .colab-df-convert:hover {\n",
              "      background-color: #E2EBFA;\n",
              "      box-shadow: 0px 1px 2px rgba(60, 64, 67, 0.3), 0px 1px 3px 1px rgba(60, 64, 67, 0.15);\n",
              "      fill: #174EA6;\n",
              "    }\n",
              "\n",
              "    [theme=dark] .colab-df-convert {\n",
              "      background-color: #3B4455;\n",
              "      fill: #D2E3FC;\n",
              "    }\n",
              "\n",
              "    [theme=dark] .colab-df-convert:hover {\n",
              "      background-color: #434B5C;\n",
              "      box-shadow: 0px 1px 3px 1px rgba(0, 0, 0, 0.15);\n",
              "      filter: drop-shadow(0px 1px 2px rgba(0, 0, 0, 0.3));\n",
              "      fill: #FFFFFF;\n",
              "    }\n",
              "  </style>\n",
              "\n",
              "      <script>\n",
              "        const buttonEl =\n",
              "          document.querySelector('#df-0bde627d-d29a-4489-b2a1-6ed189042f0d button.colab-df-convert');\n",
              "        buttonEl.style.display =\n",
              "          google.colab.kernel.accessAllowed ? 'block' : 'none';\n",
              "\n",
              "        async function convertToInteractive(key) {\n",
              "          const element = document.querySelector('#df-0bde627d-d29a-4489-b2a1-6ed189042f0d');\n",
              "          const dataTable =\n",
              "            await google.colab.kernel.invokeFunction('convertToInteractive',\n",
              "                                                     [key], {});\n",
              "          if (!dataTable) return;\n",
              "\n",
              "          const docLinkHtml = 'Like what you see? Visit the ' +\n",
              "            '<a target=\"_blank\" href=https://colab.research.google.com/notebooks/data_table.ipynb>data table notebook</a>'\n",
              "            + ' to learn more about interactive tables.';\n",
              "          element.innerHTML = '';\n",
              "          dataTable['output_type'] = 'display_data';\n",
              "          await google.colab.output.renderOutput(dataTable, element);\n",
              "          const docLink = document.createElement('div');\n",
              "          docLink.innerHTML = docLinkHtml;\n",
              "          element.appendChild(docLink);\n",
              "        }\n",
              "      </script>\n",
              "    </div>\n",
              "  </div>\n",
              "  "
            ],
            "text/plain": [
              "   name  country  longitude  latitude  ...  month  day  hour  dayOfWeek\n",
              "0     1        1     121.03     14.57  ...     12   10     0          4\n",
              "1     1        1     121.03     14.57  ...     12   10     1          4\n",
              "2     1        1     121.03     14.57  ...     12   10     2          4\n",
              "3     1        1     121.03     14.57  ...     12   10     3          4\n",
              "4     1        1     121.03     14.57  ...     12   10     4          4\n",
              "\n",
              "[5 rows x 22 columns]"
            ]
          },
          "metadata": {},
          "execution_count": 47
        }
      ],
      "source": [
        "df.drop(columns=['region', 'region_is_missing', 'name_is_missing', 'country_is_missing', 'condition_is_missing', 'wind_dir_is_missing'], inplace=True, axis=1)\n",
        "\n",
        "df.head()"
      ]
    },
    {
      "cell_type": "code",
      "source": [
        "a = 2 \n",
        "b = a  \n",
        "\n",
        "a += 2\n",
        "a, b"
      ],
      "metadata": {
        "colab": {
          "base_uri": "https://localhost:8080/"
        },
        "id": "kKDmFrNYVF50",
        "outputId": "7a2b8b06-e5b5-4475-e61c-e41f5eb3b7e7"
      },
      "execution_count": 48,
      "outputs": [
        {
          "output_type": "execute_result",
          "data": {
            "text/plain": [
              "(4, 2)"
            ]
          },
          "metadata": {},
          "execution_count": 48
        }
      ]
    },
    {
      "cell_type": "markdown",
      "metadata": {
        "id": "0jashT4ADXIM"
      },
      "source": [
        "### Train and Test Sets"
      ]
    },
    {
      "cell_type": "code",
      "source": [
        "HORIZON = 1\n",
        "WINDOW = 7\n",
        "\n",
        "for i in range(WINDOW): # Shift values for each step in WINDOW_SIZE\n",
        "    df[f\"precipitation+{i+1}\"] = df[\"precipitation\"].shift(periods=i+1)\n",
        "df.head()"
      ],
      "metadata": {
        "colab": {
          "base_uri": "https://localhost:8080/",
          "height": 270
        },
        "id": "0Bq7n882rZvO",
        "outputId": "b90c9323-58b4-42c8-9dfa-e29e1f0b2037"
      },
      "execution_count": 49,
      "outputs": [
        {
          "output_type": "execute_result",
          "data": {
            "text/html": [
              "\n",
              "  <div id=\"df-df98d78c-051d-425b-b151-32bc589a503c\">\n",
              "    <div class=\"colab-df-container\">\n",
              "      <div>\n",
              "<style scoped>\n",
              "    .dataframe tbody tr th:only-of-type {\n",
              "        vertical-align: middle;\n",
              "    }\n",
              "\n",
              "    .dataframe tbody tr th {\n",
              "        vertical-align: top;\n",
              "    }\n",
              "\n",
              "    .dataframe thead th {\n",
              "        text-align: right;\n",
              "    }\n",
              "</style>\n",
              "<table border=\"1\" class=\"dataframe\">\n",
              "  <thead>\n",
              "    <tr style=\"text-align: right;\">\n",
              "      <th></th>\n",
              "      <th>name</th>\n",
              "      <th>country</th>\n",
              "      <th>longitude</th>\n",
              "      <th>latitude</th>\n",
              "      <th>temp_c</th>\n",
              "      <th>is_day</th>\n",
              "      <th>condition</th>\n",
              "      <th>wind_kph</th>\n",
              "      <th>wind_degree</th>\n",
              "      <th>wind_dir</th>\n",
              "      <th>air_pressure</th>\n",
              "      <th>precipitation</th>\n",
              "      <th>relative_humidity</th>\n",
              "      <th>cloud</th>\n",
              "      <th>feelslike_c</th>\n",
              "      <th>will_it_rain</th>\n",
              "      <th>chance_of_rain</th>\n",
              "      <th>year</th>\n",
              "      <th>month</th>\n",
              "      <th>day</th>\n",
              "      <th>hour</th>\n",
              "      <th>dayOfWeek</th>\n",
              "      <th>precipitation+1</th>\n",
              "      <th>precipitation+2</th>\n",
              "      <th>precipitation+3</th>\n",
              "      <th>precipitation+4</th>\n",
              "      <th>precipitation+5</th>\n",
              "      <th>precipitation+6</th>\n",
              "      <th>precipitation+7</th>\n",
              "    </tr>\n",
              "  </thead>\n",
              "  <tbody>\n",
              "    <tr>\n",
              "      <th>0</th>\n",
              "      <td>1</td>\n",
              "      <td>1</td>\n",
              "      <td>121.03</td>\n",
              "      <td>14.57</td>\n",
              "      <td>24.8</td>\n",
              "      <td>0</td>\n",
              "      <td>1</td>\n",
              "      <td>12.2</td>\n",
              "      <td>78</td>\n",
              "      <td>2</td>\n",
              "      <td>1013.88</td>\n",
              "      <td>0.0</td>\n",
              "      <td>67.30</td>\n",
              "      <td>10</td>\n",
              "      <td>26.3</td>\n",
              "      <td>0</td>\n",
              "      <td>0</td>\n",
              "      <td>2021</td>\n",
              "      <td>12</td>\n",
              "      <td>10</td>\n",
              "      <td>0</td>\n",
              "      <td>4</td>\n",
              "      <td>NaN</td>\n",
              "      <td>NaN</td>\n",
              "      <td>NaN</td>\n",
              "      <td>NaN</td>\n",
              "      <td>NaN</td>\n",
              "      <td>NaN</td>\n",
              "      <td>NaN</td>\n",
              "    </tr>\n",
              "    <tr>\n",
              "      <th>1</th>\n",
              "      <td>1</td>\n",
              "      <td>1</td>\n",
              "      <td>121.03</td>\n",
              "      <td>14.57</td>\n",
              "      <td>24.6</td>\n",
              "      <td>0</td>\n",
              "      <td>1</td>\n",
              "      <td>10.9</td>\n",
              "      <td>75</td>\n",
              "      <td>2</td>\n",
              "      <td>1013.73</td>\n",
              "      <td>0.0</td>\n",
              "      <td>63.67</td>\n",
              "      <td>14</td>\n",
              "      <td>26.1</td>\n",
              "      <td>0</td>\n",
              "      <td>0</td>\n",
              "      <td>2021</td>\n",
              "      <td>12</td>\n",
              "      <td>10</td>\n",
              "      <td>1</td>\n",
              "      <td>4</td>\n",
              "      <td>0.0</td>\n",
              "      <td>NaN</td>\n",
              "      <td>NaN</td>\n",
              "      <td>NaN</td>\n",
              "      <td>NaN</td>\n",
              "      <td>NaN</td>\n",
              "      <td>NaN</td>\n",
              "    </tr>\n",
              "    <tr>\n",
              "      <th>2</th>\n",
              "      <td>1</td>\n",
              "      <td>1</td>\n",
              "      <td>121.03</td>\n",
              "      <td>14.57</td>\n",
              "      <td>24.3</td>\n",
              "      <td>0</td>\n",
              "      <td>1</td>\n",
              "      <td>9.6</td>\n",
              "      <td>71</td>\n",
              "      <td>2</td>\n",
              "      <td>1013.58</td>\n",
              "      <td>0.0</td>\n",
              "      <td>60.03</td>\n",
              "      <td>18</td>\n",
              "      <td>26.0</td>\n",
              "      <td>0</td>\n",
              "      <td>0</td>\n",
              "      <td>2021</td>\n",
              "      <td>12</td>\n",
              "      <td>10</td>\n",
              "      <td>2</td>\n",
              "      <td>4</td>\n",
              "      <td>0.0</td>\n",
              "      <td>0.0</td>\n",
              "      <td>NaN</td>\n",
              "      <td>NaN</td>\n",
              "      <td>NaN</td>\n",
              "      <td>NaN</td>\n",
              "      <td>NaN</td>\n",
              "    </tr>\n",
              "    <tr>\n",
              "      <th>3</th>\n",
              "      <td>1</td>\n",
              "      <td>1</td>\n",
              "      <td>121.03</td>\n",
              "      <td>14.57</td>\n",
              "      <td>24.1</td>\n",
              "      <td>0</td>\n",
              "      <td>1</td>\n",
              "      <td>8.3</td>\n",
              "      <td>68</td>\n",
              "      <td>2</td>\n",
              "      <td>1013.42</td>\n",
              "      <td>0.0</td>\n",
              "      <td>56.40</td>\n",
              "      <td>22</td>\n",
              "      <td>25.8</td>\n",
              "      <td>0</td>\n",
              "      <td>0</td>\n",
              "      <td>2021</td>\n",
              "      <td>12</td>\n",
              "      <td>10</td>\n",
              "      <td>3</td>\n",
              "      <td>4</td>\n",
              "      <td>0.0</td>\n",
              "      <td>0.0</td>\n",
              "      <td>0.0</td>\n",
              "      <td>NaN</td>\n",
              "      <td>NaN</td>\n",
              "      <td>NaN</td>\n",
              "      <td>NaN</td>\n",
              "    </tr>\n",
              "    <tr>\n",
              "      <th>4</th>\n",
              "      <td>1</td>\n",
              "      <td>1</td>\n",
              "      <td>121.03</td>\n",
              "      <td>14.57</td>\n",
              "      <td>24.0</td>\n",
              "      <td>0</td>\n",
              "      <td>1</td>\n",
              "      <td>8.2</td>\n",
              "      <td>59</td>\n",
              "      <td>2</td>\n",
              "      <td>1012.62</td>\n",
              "      <td>0.0</td>\n",
              "      <td>55.90</td>\n",
              "      <td>30</td>\n",
              "      <td>25.7</td>\n",
              "      <td>0</td>\n",
              "      <td>0</td>\n",
              "      <td>2021</td>\n",
              "      <td>12</td>\n",
              "      <td>10</td>\n",
              "      <td>4</td>\n",
              "      <td>4</td>\n",
              "      <td>0.0</td>\n",
              "      <td>0.0</td>\n",
              "      <td>0.0</td>\n",
              "      <td>0.0</td>\n",
              "      <td>NaN</td>\n",
              "      <td>NaN</td>\n",
              "      <td>NaN</td>\n",
              "    </tr>\n",
              "  </tbody>\n",
              "</table>\n",
              "</div>\n",
              "      <button class=\"colab-df-convert\" onclick=\"convertToInteractive('df-df98d78c-051d-425b-b151-32bc589a503c')\"\n",
              "              title=\"Convert this dataframe to an interactive table.\"\n",
              "              style=\"display:none;\">\n",
              "        \n",
              "  <svg xmlns=\"http://www.w3.org/2000/svg\" height=\"24px\"viewBox=\"0 0 24 24\"\n",
              "       width=\"24px\">\n",
              "    <path d=\"M0 0h24v24H0V0z\" fill=\"none\"/>\n",
              "    <path d=\"M18.56 5.44l.94 2.06.94-2.06 2.06-.94-2.06-.94-.94-2.06-.94 2.06-2.06.94zm-11 1L8.5 8.5l.94-2.06 2.06-.94-2.06-.94L8.5 2.5l-.94 2.06-2.06.94zm10 10l.94 2.06.94-2.06 2.06-.94-2.06-.94-.94-2.06-.94 2.06-2.06.94z\"/><path d=\"M17.41 7.96l-1.37-1.37c-.4-.4-.92-.59-1.43-.59-.52 0-1.04.2-1.43.59L10.3 9.45l-7.72 7.72c-.78.78-.78 2.05 0 2.83L4 21.41c.39.39.9.59 1.41.59.51 0 1.02-.2 1.41-.59l7.78-7.78 2.81-2.81c.8-.78.8-2.07 0-2.86zM5.41 20L4 18.59l7.72-7.72 1.47 1.35L5.41 20z\"/>\n",
              "  </svg>\n",
              "      </button>\n",
              "      \n",
              "  <style>\n",
              "    .colab-df-container {\n",
              "      display:flex;\n",
              "      flex-wrap:wrap;\n",
              "      gap: 12px;\n",
              "    }\n",
              "\n",
              "    .colab-df-convert {\n",
              "      background-color: #E8F0FE;\n",
              "      border: none;\n",
              "      border-radius: 50%;\n",
              "      cursor: pointer;\n",
              "      display: none;\n",
              "      fill: #1967D2;\n",
              "      height: 32px;\n",
              "      padding: 0 0 0 0;\n",
              "      width: 32px;\n",
              "    }\n",
              "\n",
              "    .colab-df-convert:hover {\n",
              "      background-color: #E2EBFA;\n",
              "      box-shadow: 0px 1px 2px rgba(60, 64, 67, 0.3), 0px 1px 3px 1px rgba(60, 64, 67, 0.15);\n",
              "      fill: #174EA6;\n",
              "    }\n",
              "\n",
              "    [theme=dark] .colab-df-convert {\n",
              "      background-color: #3B4455;\n",
              "      fill: #D2E3FC;\n",
              "    }\n",
              "\n",
              "    [theme=dark] .colab-df-convert:hover {\n",
              "      background-color: #434B5C;\n",
              "      box-shadow: 0px 1px 3px 1px rgba(0, 0, 0, 0.15);\n",
              "      filter: drop-shadow(0px 1px 2px rgba(0, 0, 0, 0.3));\n",
              "      fill: #FFFFFF;\n",
              "    }\n",
              "  </style>\n",
              "\n",
              "      <script>\n",
              "        const buttonEl =\n",
              "          document.querySelector('#df-df98d78c-051d-425b-b151-32bc589a503c button.colab-df-convert');\n",
              "        buttonEl.style.display =\n",
              "          google.colab.kernel.accessAllowed ? 'block' : 'none';\n",
              "\n",
              "        async function convertToInteractive(key) {\n",
              "          const element = document.querySelector('#df-df98d78c-051d-425b-b151-32bc589a503c');\n",
              "          const dataTable =\n",
              "            await google.colab.kernel.invokeFunction('convertToInteractive',\n",
              "                                                     [key], {});\n",
              "          if (!dataTable) return;\n",
              "\n",
              "          const docLinkHtml = 'Like what you see? Visit the ' +\n",
              "            '<a target=\"_blank\" href=https://colab.research.google.com/notebooks/data_table.ipynb>data table notebook</a>'\n",
              "            + ' to learn more about interactive tables.';\n",
              "          element.innerHTML = '';\n",
              "          dataTable['output_type'] = 'display_data';\n",
              "          await google.colab.output.renderOutput(dataTable, element);\n",
              "          const docLink = document.createElement('div');\n",
              "          docLink.innerHTML = docLinkHtml;\n",
              "          element.appendChild(docLink);\n",
              "        }\n",
              "      </script>\n",
              "    </div>\n",
              "  </div>\n",
              "  "
            ],
            "text/plain": [
              "   name  country  longitude  ...  precipitation+5  precipitation+6  precipitation+7\n",
              "0     1        1     121.03  ...              NaN              NaN              NaN\n",
              "1     1        1     121.03  ...              NaN              NaN              NaN\n",
              "2     1        1     121.03  ...              NaN              NaN              NaN\n",
              "3     1        1     121.03  ...              NaN              NaN              NaN\n",
              "4     1        1     121.03  ...              NaN              NaN              NaN\n",
              "\n",
              "[5 rows x 29 columns]"
            ]
          },
          "metadata": {},
          "execution_count": 49
        }
      ]
    },
    {
      "cell_type": "code",
      "execution_count": 50,
      "metadata": {
        "colab": {
          "base_uri": "https://localhost:8080/",
          "height": 270
        },
        "id": "z531RQt9HafZ",
        "outputId": "844080ba-66a1-4a62-f699-55e2d30a2f92"
      },
      "outputs": [
        {
          "output_type": "execute_result",
          "data": {
            "text/html": [
              "\n",
              "  <div id=\"df-8ecd3a7a-a468-4635-bfd8-d613962910ff\">\n",
              "    <div class=\"colab-df-container\">\n",
              "      <div>\n",
              "<style scoped>\n",
              "    .dataframe tbody tr th:only-of-type {\n",
              "        vertical-align: middle;\n",
              "    }\n",
              "\n",
              "    .dataframe tbody tr th {\n",
              "        vertical-align: top;\n",
              "    }\n",
              "\n",
              "    .dataframe thead th {\n",
              "        text-align: right;\n",
              "    }\n",
              "</style>\n",
              "<table border=\"1\" class=\"dataframe\">\n",
              "  <thead>\n",
              "    <tr style=\"text-align: right;\">\n",
              "      <th></th>\n",
              "      <th>name</th>\n",
              "      <th>country</th>\n",
              "      <th>longitude</th>\n",
              "      <th>latitude</th>\n",
              "      <th>temp_c</th>\n",
              "      <th>is_day</th>\n",
              "      <th>condition</th>\n",
              "      <th>wind_kph</th>\n",
              "      <th>wind_degree</th>\n",
              "      <th>wind_dir</th>\n",
              "      <th>air_pressure</th>\n",
              "      <th>relative_humidity</th>\n",
              "      <th>cloud</th>\n",
              "      <th>feelslike_c</th>\n",
              "      <th>will_it_rain</th>\n",
              "      <th>chance_of_rain</th>\n",
              "      <th>year</th>\n",
              "      <th>month</th>\n",
              "      <th>day</th>\n",
              "      <th>hour</th>\n",
              "      <th>dayOfWeek</th>\n",
              "      <th>precipitation+1</th>\n",
              "      <th>precipitation+2</th>\n",
              "      <th>precipitation+3</th>\n",
              "      <th>precipitation+4</th>\n",
              "      <th>precipitation+5</th>\n",
              "      <th>precipitation+6</th>\n",
              "      <th>precipitation+7</th>\n",
              "    </tr>\n",
              "  </thead>\n",
              "  <tbody>\n",
              "    <tr>\n",
              "      <th>7</th>\n",
              "      <td>1.0</td>\n",
              "      <td>1.0</td>\n",
              "      <td>121.029999</td>\n",
              "      <td>14.57</td>\n",
              "      <td>24.500000</td>\n",
              "      <td>1.0</td>\n",
              "      <td>6.0</td>\n",
              "      <td>9.6</td>\n",
              "      <td>47.0</td>\n",
              "      <td>5.0</td>\n",
              "      <td>1011.130005</td>\n",
              "      <td>56.200001</td>\n",
              "      <td>46.0</td>\n",
              "      <td>26.200001</td>\n",
              "      <td>0.0</td>\n",
              "      <td>1.0</td>\n",
              "      <td>2021.0</td>\n",
              "      <td>12.0</td>\n",
              "      <td>10.0</td>\n",
              "      <td>7.0</td>\n",
              "      <td>4.0</td>\n",
              "      <td>0.0</td>\n",
              "      <td>0.0</td>\n",
              "      <td>0.0</td>\n",
              "      <td>0.0</td>\n",
              "      <td>0.0</td>\n",
              "      <td>0.0</td>\n",
              "      <td>0.0</td>\n",
              "    </tr>\n",
              "    <tr>\n",
              "      <th>8</th>\n",
              "      <td>1.0</td>\n",
              "      <td>1.0</td>\n",
              "      <td>121.029999</td>\n",
              "      <td>14.57</td>\n",
              "      <td>25.400000</td>\n",
              "      <td>1.0</td>\n",
              "      <td>6.0</td>\n",
              "      <td>11.3</td>\n",
              "      <td>52.0</td>\n",
              "      <td>5.0</td>\n",
              "      <td>1011.250000</td>\n",
              "      <td>57.500000</td>\n",
              "      <td>45.0</td>\n",
              "      <td>26.900000</td>\n",
              "      <td>0.0</td>\n",
              "      <td>1.0</td>\n",
              "      <td>2021.0</td>\n",
              "      <td>12.0</td>\n",
              "      <td>10.0</td>\n",
              "      <td>8.0</td>\n",
              "      <td>4.0</td>\n",
              "      <td>0.0</td>\n",
              "      <td>0.0</td>\n",
              "      <td>0.0</td>\n",
              "      <td>0.0</td>\n",
              "      <td>0.0</td>\n",
              "      <td>0.0</td>\n",
              "      <td>0.0</td>\n",
              "    </tr>\n",
              "    <tr>\n",
              "      <th>9</th>\n",
              "      <td>1.0</td>\n",
              "      <td>1.0</td>\n",
              "      <td>121.029999</td>\n",
              "      <td>14.57</td>\n",
              "      <td>26.200001</td>\n",
              "      <td>1.0</td>\n",
              "      <td>6.0</td>\n",
              "      <td>13.0</td>\n",
              "      <td>57.0</td>\n",
              "      <td>2.0</td>\n",
              "      <td>1011.369995</td>\n",
              "      <td>58.799999</td>\n",
              "      <td>45.0</td>\n",
              "      <td>27.600000</td>\n",
              "      <td>0.0</td>\n",
              "      <td>0.0</td>\n",
              "      <td>2021.0</td>\n",
              "      <td>12.0</td>\n",
              "      <td>10.0</td>\n",
              "      <td>9.0</td>\n",
              "      <td>4.0</td>\n",
              "      <td>0.0</td>\n",
              "      <td>0.0</td>\n",
              "      <td>0.0</td>\n",
              "      <td>0.0</td>\n",
              "      <td>0.0</td>\n",
              "      <td>0.0</td>\n",
              "      <td>0.0</td>\n",
              "    </tr>\n",
              "    <tr>\n",
              "      <th>10</th>\n",
              "      <td>1.0</td>\n",
              "      <td>1.0</td>\n",
              "      <td>121.029999</td>\n",
              "      <td>14.57</td>\n",
              "      <td>27.400000</td>\n",
              "      <td>1.0</td>\n",
              "      <td>6.0</td>\n",
              "      <td>15.0</td>\n",
              "      <td>58.0</td>\n",
              "      <td>2.0</td>\n",
              "      <td>1011.950012</td>\n",
              "      <td>61.230000</td>\n",
              "      <td>49.0</td>\n",
              "      <td>29.100000</td>\n",
              "      <td>0.0</td>\n",
              "      <td>1.0</td>\n",
              "      <td>2021.0</td>\n",
              "      <td>12.0</td>\n",
              "      <td>10.0</td>\n",
              "      <td>10.0</td>\n",
              "      <td>4.0</td>\n",
              "      <td>0.0</td>\n",
              "      <td>0.0</td>\n",
              "      <td>0.0</td>\n",
              "      <td>0.0</td>\n",
              "      <td>0.0</td>\n",
              "      <td>0.0</td>\n",
              "      <td>0.0</td>\n",
              "    </tr>\n",
              "    <tr>\n",
              "      <th>11</th>\n",
              "      <td>1.0</td>\n",
              "      <td>1.0</td>\n",
              "      <td>121.029999</td>\n",
              "      <td>14.57</td>\n",
              "      <td>28.700001</td>\n",
              "      <td>1.0</td>\n",
              "      <td>6.0</td>\n",
              "      <td>17.0</td>\n",
              "      <td>59.0</td>\n",
              "      <td>2.0</td>\n",
              "      <td>1012.530029</td>\n",
              "      <td>63.669998</td>\n",
              "      <td>53.0</td>\n",
              "      <td>30.500000</td>\n",
              "      <td>0.0</td>\n",
              "      <td>1.0</td>\n",
              "      <td>2021.0</td>\n",
              "      <td>12.0</td>\n",
              "      <td>10.0</td>\n",
              "      <td>11.0</td>\n",
              "      <td>4.0</td>\n",
              "      <td>0.0</td>\n",
              "      <td>0.0</td>\n",
              "      <td>0.0</td>\n",
              "      <td>0.0</td>\n",
              "      <td>0.0</td>\n",
              "      <td>0.0</td>\n",
              "      <td>0.0</td>\n",
              "    </tr>\n",
              "  </tbody>\n",
              "</table>\n",
              "</div>\n",
              "      <button class=\"colab-df-convert\" onclick=\"convertToInteractive('df-8ecd3a7a-a468-4635-bfd8-d613962910ff')\"\n",
              "              title=\"Convert this dataframe to an interactive table.\"\n",
              "              style=\"display:none;\">\n",
              "        \n",
              "  <svg xmlns=\"http://www.w3.org/2000/svg\" height=\"24px\"viewBox=\"0 0 24 24\"\n",
              "       width=\"24px\">\n",
              "    <path d=\"M0 0h24v24H0V0z\" fill=\"none\"/>\n",
              "    <path d=\"M18.56 5.44l.94 2.06.94-2.06 2.06-.94-2.06-.94-.94-2.06-.94 2.06-2.06.94zm-11 1L8.5 8.5l.94-2.06 2.06-.94-2.06-.94L8.5 2.5l-.94 2.06-2.06.94zm10 10l.94 2.06.94-2.06 2.06-.94-2.06-.94-.94-2.06-.94 2.06-2.06.94z\"/><path d=\"M17.41 7.96l-1.37-1.37c-.4-.4-.92-.59-1.43-.59-.52 0-1.04.2-1.43.59L10.3 9.45l-7.72 7.72c-.78.78-.78 2.05 0 2.83L4 21.41c.39.39.9.59 1.41.59.51 0 1.02-.2 1.41-.59l7.78-7.78 2.81-2.81c.8-.78.8-2.07 0-2.86zM5.41 20L4 18.59l7.72-7.72 1.47 1.35L5.41 20z\"/>\n",
              "  </svg>\n",
              "      </button>\n",
              "      \n",
              "  <style>\n",
              "    .colab-df-container {\n",
              "      display:flex;\n",
              "      flex-wrap:wrap;\n",
              "      gap: 12px;\n",
              "    }\n",
              "\n",
              "    .colab-df-convert {\n",
              "      background-color: #E8F0FE;\n",
              "      border: none;\n",
              "      border-radius: 50%;\n",
              "      cursor: pointer;\n",
              "      display: none;\n",
              "      fill: #1967D2;\n",
              "      height: 32px;\n",
              "      padding: 0 0 0 0;\n",
              "      width: 32px;\n",
              "    }\n",
              "\n",
              "    .colab-df-convert:hover {\n",
              "      background-color: #E2EBFA;\n",
              "      box-shadow: 0px 1px 2px rgba(60, 64, 67, 0.3), 0px 1px 3px 1px rgba(60, 64, 67, 0.15);\n",
              "      fill: #174EA6;\n",
              "    }\n",
              "\n",
              "    [theme=dark] .colab-df-convert {\n",
              "      background-color: #3B4455;\n",
              "      fill: #D2E3FC;\n",
              "    }\n",
              "\n",
              "    [theme=dark] .colab-df-convert:hover {\n",
              "      background-color: #434B5C;\n",
              "      box-shadow: 0px 1px 3px 1px rgba(0, 0, 0, 0.15);\n",
              "      filter: drop-shadow(0px 1px 2px rgba(0, 0, 0, 0.3));\n",
              "      fill: #FFFFFF;\n",
              "    }\n",
              "  </style>\n",
              "\n",
              "      <script>\n",
              "        const buttonEl =\n",
              "          document.querySelector('#df-8ecd3a7a-a468-4635-bfd8-d613962910ff button.colab-df-convert');\n",
              "        buttonEl.style.display =\n",
              "          google.colab.kernel.accessAllowed ? 'block' : 'none';\n",
              "\n",
              "        async function convertToInteractive(key) {\n",
              "          const element = document.querySelector('#df-8ecd3a7a-a468-4635-bfd8-d613962910ff');\n",
              "          const dataTable =\n",
              "            await google.colab.kernel.invokeFunction('convertToInteractive',\n",
              "                                                     [key], {});\n",
              "          if (!dataTable) return;\n",
              "\n",
              "          const docLinkHtml = 'Like what you see? Visit the ' +\n",
              "            '<a target=\"_blank\" href=https://colab.research.google.com/notebooks/data_table.ipynb>data table notebook</a>'\n",
              "            + ' to learn more about interactive tables.';\n",
              "          element.innerHTML = '';\n",
              "          dataTable['output_type'] = 'display_data';\n",
              "          await google.colab.output.renderOutput(dataTable, element);\n",
              "          const docLink = document.createElement('div');\n",
              "          docLink.innerHTML = docLinkHtml;\n",
              "          element.appendChild(docLink);\n",
              "        }\n",
              "      </script>\n",
              "    </div>\n",
              "  </div>\n",
              "  "
            ],
            "text/plain": [
              "    name  country  ...  precipitation+6  precipitation+7\n",
              "7    1.0      1.0  ...              0.0              0.0\n",
              "8    1.0      1.0  ...              0.0              0.0\n",
              "9    1.0      1.0  ...              0.0              0.0\n",
              "10   1.0      1.0  ...              0.0              0.0\n",
              "11   1.0      1.0  ...              0.0              0.0\n",
              "\n",
              "[5 rows x 28 columns]"
            ]
          },
          "metadata": {},
          "execution_count": 50
        }
      ],
      "source": [
        "X = df.dropna().drop(\"precipitation\", axis=1).astype(np.float32) \n",
        "y = df.dropna()[\"precipitation\"].astype(np.float32)\n",
        "X.head()"
      ]
    },
    {
      "cell_type": "code",
      "execution_count": 51,
      "metadata": {
        "colab": {
          "base_uri": "https://localhost:8080/"
        },
        "id": "AFirdVtpHsb-",
        "outputId": "51445082-2bdf-4c15-fed6-8215c1732eca"
      },
      "outputs": [
        {
          "output_type": "execute_result",
          "data": {
            "text/plain": [
              "7     0.0\n",
              "8     0.0\n",
              "9     0.0\n",
              "10    0.0\n",
              "11    0.0\n",
              "Name: precipitation, dtype: float32"
            ]
          },
          "metadata": {},
          "execution_count": 51
        }
      ],
      "source": [
        "y.head()"
      ]
    },
    {
      "cell_type": "code",
      "execution_count": 52,
      "metadata": {
        "colab": {
          "base_uri": "https://localhost:8080/"
        },
        "id": "AxuiCiy0H3yQ",
        "outputId": "a339f835-f5e4-4c14-bd0d-2b3da0da0cdf"
      },
      "outputs": [
        {
          "output_type": "execute_result",
          "data": {
            "text/plain": [
              "(416, 416, 105, 105, 416, 105)"
            ]
          },
          "metadata": {},
          "execution_count": 52
        }
      ],
      "source": [
        "# Make train and test sets\n",
        "split_size = int(len(X) * 0.8)\n",
        "X_train, y_train = X[:split_size], y[:split_size]\n",
        "X_columns = X.columns\n",
        "X_time_train, X_time_test = x_time[:split_size], x_time[split_size:]\n",
        "X_time_test = X_time_test[7:]\n",
        "X_test, y_test = X[split_size:], y[split_size:]\n",
        "len(X_train), len(y_train), len(X_test), len(y_test), len(X_time_train), len(X_time_test)"
      ]
    },
    {
      "cell_type": "markdown",
      "metadata": {
        "id": "PTsSLqVTH-Qm"
      },
      "source": [
        "### Baseline model"
      ]
    },
    {
      "cell_type": "code",
      "execution_count": 53,
      "metadata": {
        "colab": {
          "base_uri": "https://localhost:8080/"
        },
        "id": "NZp1oNuYIx5A",
        "outputId": "b1ec1865-37e6-437d-b936-5470690e6a5d"
      },
      "outputs": [
        {
          "output_type": "execute_result",
          "data": {
            "text/plain": [
              "(423    0.07\n",
              " 424    0.08\n",
              " 425    0.09\n",
              " 426    0.10\n",
              " 427    0.10\n",
              " 428    0.10\n",
              " 429    0.10\n",
              " 430    0.10\n",
              " 431    0.10\n",
              " 432    0.11\n",
              " Name: precipitation, dtype: float32, 517    0.01\n",
              " 518    0.00\n",
              " 519    0.00\n",
              " 520    0.01\n",
              " 521    0.03\n",
              " 522    0.04\n",
              " 523    0.04\n",
              " 524    0.04\n",
              " 525    0.04\n",
              " 526    0.04\n",
              " Name: precipitation, dtype: float32)"
            ]
          },
          "metadata": {},
          "execution_count": 53
        }
      ],
      "source": [
        "# Create a naïve forecast\n",
        "naive_forecast = y_test[:-1] # Naïve forecast equals every value excluding the last value\n",
        "naive_forecast[:10], naive_forecast[-10:] # View frist 10 and last 10 "
      ]
    },
    {
      "cell_type": "code",
      "execution_count": 54,
      "metadata": {
        "id": "xuimtq0qJWkN"
      },
      "outputs": [],
      "source": [
        "def plot_time_series(timesteps, values, format='.', start=0, end=None, label=None):\n",
        "  \"\"\"\n",
        "  Plots a timesteps (a series of points in time) against values (a series of values across timesteps).\n",
        "  \n",
        "  Parameters\n",
        "  ---------\n",
        "  timesteps : array of timesteps\n",
        "  values : array of values across time\n",
        "  format : style of plot, default \".\"\n",
        "  start : where to start the plot (setting a value will index from start of timesteps & values)\n",
        "  end : where to end the plot (setting a value will index from end of timesteps & values)\n",
        "  label : label to show on plot of values\n",
        "  \"\"\"\n",
        "  # Plot the series\n",
        "  plt.plot(timesteps[start:end], values[start:end], format, label=label)\n",
        "  plt.xlabel(\"Time\")\n",
        "  plt.ylabel(\"Hourly Rain Precipitation\")\n",
        "  if label:\n",
        "    plt.legend(fontsize=14) # make label bigger\n",
        "  plt.grid(True)"
      ]
    },
    {
      "cell_type": "code",
      "execution_count": 55,
      "metadata": {
        "colab": {
          "base_uri": "https://localhost:8080/",
          "height": 442
        },
        "id": "m-upRvqnJgdE",
        "outputId": "11ddfb39-53d0-432f-fbac-ac253ac3775c"
      },
      "outputs": [
        {
          "output_type": "display_data",
          "data": {
            "image/png": "[encoded data removed]",
            "text/plain": [
              "<Figure size 720x504 with 1 Axes>"
            ]
          },
          "metadata": {
            "needs_background": "light"
          }
        }
      ],
      "source": [
        "# Try out our plotting function\n",
        "plt.figure(figsize=(10, 7))\n",
        "plot_time_series(timesteps=X_time_train, values=y_train, label=\"Train data\")\n",
        "plot_time_series(timesteps=X_time_test, values=y_test, label=\"Test data\")"
      ]
    },
    {
      "cell_type": "code",
      "execution_count": 56,
      "metadata": {
        "colab": {
          "base_uri": "https://localhost:8080/",
          "height": 442
        },
        "id": "pm3P1lSQJkWQ",
        "outputId": "30854159-b518-47fd-d67c-323f127ea7d6"
      },
      "outputs": [
        {
          "output_type": "display_data",
          "data": {
            "image/png": "[encoded data removed]",
            "text/plain": [
              "<Figure size 720x504 with 1 Axes>"
            ]
          },
          "metadata": {
            "needs_background": "light"
          }
        }
      ],
      "source": [
        "# Plot naive forecast\n",
        "plt.figure(figsize=(10, 7))\n",
        "plot_time_series(timesteps=X_time_train, values=y_train, label=\"Train data\")\n",
        "plot_time_series(timesteps=X_time_test, values=y_test, label=\"Test data\")\n",
        "plot_time_series(timesteps=X_time_test[1:], values=naive_forecast, format=\"-\", label=\"Naive forecast\");"
      ]
    },
    {
      "cell_type": "code",
      "execution_count": 122,
      "metadata": {
        "colab": {
          "base_uri": "https://localhost:8080/",
          "height": 442
        },
        "id": "m4ErFloxLSqN",
        "outputId": "7e7bf5a0-66c2-44e3-9f9d-2bb5e28ea1ee"
      },
      "outputs": [
        {
          "output_type": "display_data",
          "data": {
            "image/png": "[encoded data removed]",
            "text/plain": [
              "<Figure size 720x504 with 1 Axes>"
            ]
          },
          "metadata": {
            "needs_background": "light"
          }
        }
      ],
      "source": [
        "plt.figure(figsize=(10, 7))\n",
        "offset = 10 # offset the values by 300 timesteps \n",
        "plot_time_series(timesteps=X_time_test, values=y_test, label=\"Test data\")\n",
        "plot_time_series(timesteps=X_time_test[1:], values=naive_forecast, format=\"-\", label=\"Naive forecast\");"
      ]
    },
    {
      "cell_type": "code",
      "execution_count": 58,
      "metadata": {
        "id": "jw7q9e1cNmLt"
      },
      "outputs": [],
      "source": [
        "import tensorflow as tf\n",
        "# MASE implemented courtesy of sktime - https://github.com/alan-turing-institute/sktime/blob/ee7a06843a44f4aaec7582d847e36073a9ab0566/sktime/performance_metrics/forecasting/_functions.py#L16\n",
        "def mean_absolute_scaled_error(y_true, y_pred):\n",
        "  \"\"\"\n",
        "  Implement MASE (assuming no seasonality of data).\n",
        "  \"\"\"\n",
        "  mae = tf.reduce_mean(tf.abs(y_true - y_pred))\n",
        "\n",
        "  # Find MAE of naive forecast (no seasonality)\n",
        "  mae_naive_no_season = tf.reduce_mean(tf.abs(y_true[1:] - y_true[:-1])) # our seasonality is 1 day (hence the shifting of 1 day)\n",
        "\n",
        "  return mae / mae_naive_no_season\n",
        "def evaluate_preds(y_true, y_pred):\n",
        "  # Make sure float32 (for metric calculations)\n",
        "  y_true = tf.cast(y_true, dtype=tf.float32)\n",
        "  y_pred = tf.cast(y_pred, dtype=tf.float32)\n",
        "\n",
        "  # Calculate various metrics\n",
        "  # train_mae = tf.keras.metrics.mean_absolute_error(y_train, )\n",
        "  mae = tf.keras.metrics.mean_absolute_error(y_true, y_pred)\n",
        "  mse = tf.keras.metrics.mean_squared_error(y_true, y_pred) # puts and emphasis on outliers (all errors get squared)\n",
        "  rmse = tf.sqrt(mse)\n",
        "  mape = tf.keras.metrics.mean_absolute_percentage_error(y_true, y_pred)\n",
        "  \n",
        "  return {\"mae\": mae.numpy(),\n",
        "          \"mse\": mse.numpy(),\n",
        "          \"rmse\": rmse.numpy(),\n",
        "          \"mape\": mape.numpy(),}"
      ]
    },
    {
      "cell_type": "code",
      "execution_count": 59,
      "metadata": {
        "colab": {
          "base_uri": "https://localhost:8080/"
        },
        "id": "OmmtERoXNzs-",
        "outputId": "0f69c479-9e8d-4313-b8ef-63dd27d909a6"
      },
      "outputs": [
        {
          "output_type": "execute_result",
          "data": {
            "text/plain": [
              "{'mae': 0.005769231,\n",
              " 'mape': 673100.25,\n",
              " 'mse': 9.230769e-05,\n",
              " 'rmse': 0.0096076885}"
            ]
          },
          "metadata": {},
          "execution_count": 59
        }
      ],
      "source": [
        "naive_results = evaluate_preds(y_true=y_test[1:],\n",
        "                               y_pred=naive_forecast)\n",
        "naive_results"
      ]
    },
    {
      "cell_type": "markdown",
      "metadata": {
        "id": "NkcXa6IcM3s3"
      },
      "source": [
        "### RandomForestRegressor"
      ]
    },
    {
      "cell_type": "code",
      "execution_count": 60,
      "metadata": {
        "colab": {
          "base_uri": "https://localhost:8080/"
        },
        "id": "deZjFqD0Ljmg",
        "outputId": "cef07686-9882-4fd1-9b36-682da6a8e007"
      },
      "outputs": [
        {
          "output_type": "execute_result",
          "data": {
            "text/plain": [
              "RandomForestRegressor(n_jobs=-1)"
            ]
          },
          "metadata": {},
          "execution_count": 60
        }
      ],
      "source": [
        "# Reducing data using max_samples\n",
        "from sklearn.ensemble import RandomForestRegressor\n",
        "\n",
        "np.random.seed(42)\n",
        "model = RandomForestRegressor(\n",
        "    n_jobs=-1,\n",
        "    # random_state=42,\n",
        "    # max_samples=10000, #minimizes the data\n",
        ")\n",
        "\n",
        "X_train = np.asarray(X_train)\n",
        "y_train = np.asarray(y_train)\n",
        "model.fit(X_train, y_train)"
      ]
    },
    {
      "cell_type": "code",
      "execution_count": 61,
      "metadata": {
        "colab": {
          "base_uri": "https://localhost:8080/"
        },
        "id": "p-3Whi83T5iY",
        "outputId": "8f8a7570-a624-4009-dd58-0ac53093376b"
      },
      "outputs": [
        {
          "output_type": "execute_result",
          "data": {
            "text/plain": [
              "((416, 28), (416,), (105, 28), (105,))"
            ]
          },
          "metadata": {},
          "execution_count": 61
        }
      ],
      "source": [
        "X_train.shape, y_train.shape, X_test.shape, y_test.shape"
      ]
    },
    {
      "cell_type": "code",
      "execution_count": 62,
      "metadata": {
        "colab": {
          "base_uri": "https://localhost:8080/"
        },
        "id": "KnKFRVj2M7zk",
        "outputId": "ccdf7b52-760a-4a07-b3ea-1d05fcb5d1f5"
      },
      "outputs": [
        {
          "output_type": "stream",
          "name": "stderr",
          "text": [
            "/usr/local/lib/python3.7/dist-packages/sklearn/base.py:444: UserWarning: X has feature names, but RandomForestRegressor was fitted without feature names\n",
            "  f\"X has feature names, but {self.__class__.__name__} was fitted without\"\n"
          ]
        },
        {
          "output_type": "execute_result",
          "data": {
            "text/plain": [
              "{'mae': 0.013312381137517237,\n",
              " 'mape': 12725885691519.928,\n",
              " 'mse': 0.00028144438617850573,\n",
              " 'rmse': 0.016776304306327594,\n",
              " 'train_mae': 0.011156009677573683,\n",
              " 'train_mape': 2570083061646.7144,\n",
              " 'train_mse': 0.000729645110356395,\n",
              " 'train_rmse': 0.027011943846313523}"
            ]
          },
          "metadata": {},
          "execution_count": 62
        }
      ],
      "source": [
        "from tensorflow.python.ops.gen_math_ops import sqrt\n",
        "from sklearn.metrics import mean_absolute_error, mean_squared_error, mean_absolute_percentage_error\n",
        "\n",
        "def show_scores_sklearn(model):\n",
        "    train_preds = model.predict(X_train)\n",
        "    val_preds = model.predict(X_test) \n",
        "\n",
        "    train_mae =  mean_absolute_error(y_train, train_preds)\n",
        "    mae = mean_absolute_error(y_test, val_preds)\n",
        "    train_mse = mean_squared_error(y_train, train_preds)\n",
        "    mse = mean_squared_error(y_test, val_preds)\n",
        "    train_rmse = sqrt(train_mse)\n",
        "    rmse = sqrt(mse)\n",
        "    train_mape = mean_absolute_percentage_error(y_train, train_preds)\n",
        "    mape = mean_absolute_percentage_error(y_test, val_preds)\n",
        "    return {\"mae\": mae,\n",
        "            \"train_mae\": train_mae,\n",
        "          \"mse\": mse,\n",
        "          \"train_mse\": train_mse,\n",
        "          \"rmse\": rmse.numpy(),\n",
        "          \"train_rmse\": train_rmse.numpy(),\n",
        "          \"mape\": mape,\n",
        "          \"train_mape\": train_mape\n",
        "          }\n",
        "\n",
        "# Score model\n",
        "random_forest = show_scores_sklearn(model)\n",
        "random_forest"
      ]
    },
    {
      "cell_type": "code",
      "execution_count": 63,
      "metadata": {
        "colab": {
          "base_uri": "https://localhost:8080/"
        },
        "id": "SIaSfLx0sQtj",
        "outputId": "ba9858e5-e212-4913-8e92-c51486983212"
      },
      "outputs": [
        {
          "output_type": "stream",
          "name": "stderr",
          "text": [
            "/usr/local/lib/python3.7/dist-packages/sklearn/base.py:444: UserWarning: X has feature names, but RandomForestRegressor was fitted without feature names\n",
            "  f\"X has feature names, but {self.__class__.__name__} was fitted without\"\n"
          ]
        },
        {
          "output_type": "execute_result",
          "data": {
            "text/plain": [
              "(0.9792010478912117, 0.6997189444650151)"
            ]
          },
          "metadata": {},
          "execution_count": 63
        }
      ],
      "source": [
        "model.score(X_train, y_train), model.score(X_test, y_test)"
      ]
    },
    {
      "cell_type": "code",
      "execution_count": 64,
      "metadata": {
        "colab": {
          "base_uri": "https://localhost:8080/"
        },
        "id": "BxF3iX_jk_aX",
        "outputId": "624ee558-dc0f-4c8e-8b0f-3e37009c68ac"
      },
      "outputs": [
        {
          "output_type": "stream",
          "name": "stderr",
          "text": [
            "/usr/local/lib/python3.7/dist-packages/sklearn/base.py:444: UserWarning: X has feature names, but RandomForestRegressor was fitted without feature names\n",
            "  f\"X has feature names, but {self.__class__.__name__} was fitted without\"\n"
          ]
        },
        {
          "output_type": "execute_result",
          "data": {
            "text/plain": [
              "0.013312381137517237"
            ]
          },
          "metadata": {},
          "execution_count": 64
        }
      ],
      "source": [
        "train_preds = model.predict(X_train)\n",
        "val_preds = model.predict(X_test) \n",
        "\n",
        "mean_absolute_error(y_test, val_preds)"
      ]
    },
    {
      "cell_type": "code",
      "execution_count": 65,
      "metadata": {
        "colab": {
          "base_uri": "https://localhost:8080/"
        },
        "id": "Rq7h01fyNEr3",
        "outputId": "4ae04840-b67d-4a94-fa51-7e5771080086"
      },
      "outputs": [
        {
          "output_type": "execute_result",
          "data": {
            "text/plain": [
              "{'mae': 0.005769231,\n",
              " 'mape': 673100.25,\n",
              " 'mse': 9.230769e-05,\n",
              " 'rmse': 0.0096076885}"
            ]
          },
          "metadata": {},
          "execution_count": 65
        }
      ],
      "source": [
        "naive_results"
      ]
    },
    {
      "cell_type": "markdown",
      "metadata": {
        "id": "3zfFYdKLsEzr"
      },
      "source": [
        "#### Parameter Tuning"
      ]
    },
    {
      "cell_type": "code",
      "execution_count": 66,
      "metadata": {
        "colab": {
          "base_uri": "https://localhost:8080/"
        },
        "id": "WmZQBQeDsHw-",
        "outputId": "8cd60d72-7275-44af-f544-98051bc9a5f2"
      },
      "outputs": [
        {
          "output_type": "stream",
          "name": "stdout",
          "text": [
            "Fitting 5 folds for each of 5 candidates, totalling 25 fits\n"
          ]
        },
        {
          "output_type": "execute_result",
          "data": {
            "text/plain": [
              "RandomizedSearchCV(cv=5, estimator=RandomForestRegressor(n_jobs=-1), n_iter=5,\n",
              "                   param_distributions={'max_depth': [None, 3, 5, 10],\n",
              "                                        'max_features': [0.5, 1, 'sqrt',\n",
              "                                                         'auto'],\n",
              "                                        'max_samples': [332],\n",
              "                                        'min_samples_leaf': array([ 1,  3,  5,  7,  9, 11, 13, 15, 17, 19]),\n",
              "                                        'min_samples_split': array([ 2,  4,  6,  8, 10, 12, 14, 16, 18]),\n",
              "                                        'n_estimators': array([10, 20, 30, 40, 50, 60, 70, 80, 90])},\n",
              "                   verbose=True)"
            ]
          },
          "metadata": {},
          "execution_count": 66
        }
      ],
      "source": [
        "\n",
        "\n",
        "from sklearn.model_selection import RandomizedSearchCV\n",
        "\n",
        "rf_grid = {\n",
        "    'n_estimators': np.arange(10, 100, 10),\n",
        "    'max_depth': [None, 3, 5, 10],\n",
        "    'min_samples_split': np.arange(2, 20, 2),\n",
        "    'min_samples_leaf': np.arange(1, 20, 2),\n",
        "    'max_features': [0.5, 1, 'sqrt', 'auto'],\n",
        "    'max_samples': [332]\n",
        "}\n",
        "\n",
        "np.random.seed(42)\n",
        "#instantiate ranomdized search cv model\n",
        "rs_model = RandomizedSearchCV(\n",
        "    RandomForestRegressor(\n",
        "        n_jobs=-1,\n",
        "    ),\n",
        "    param_distributions=rf_grid,\n",
        "    n_iter=5,\n",
        "    cv=5,\n",
        "    verbose=True\n",
        ")\n",
        "\n",
        "#Fit the randomized search cv model\n",
        "rs_model.fit(X_train, y_train)"
      ]
    },
    {
      "cell_type": "code",
      "execution_count": 67,
      "metadata": {
        "colab": {
          "base_uri": "https://localhost:8080/"
        },
        "id": "GnupHk8-tGtn",
        "outputId": "93ce8235-4451-45a4-d56d-b63253717e7f"
      },
      "outputs": [
        {
          "output_type": "stream",
          "name": "stderr",
          "text": [
            "/usr/local/lib/python3.7/dist-packages/sklearn/base.py:444: UserWarning: X has feature names, but RandomForestRegressor was fitted without feature names\n",
            "  f\"X has feature names, but {self.__class__.__name__} was fitted without\"\n"
          ]
        },
        {
          "output_type": "execute_result",
          "data": {
            "text/plain": [
              "(0.7450490126415756, 0.4985649919945203)"
            ]
          },
          "metadata": {},
          "execution_count": 67
        }
      ],
      "source": [
        "rs_model.score(X_train, y_train), rs_model.score(X_test, y_test)"
      ]
    },
    {
      "cell_type": "code",
      "execution_count": 68,
      "metadata": {
        "colab": {
          "base_uri": "https://localhost:8080/"
        },
        "id": "lKQ6cr-5t1km",
        "outputId": "5407a7cb-2850-4b49-d71d-92029abe95bc"
      },
      "outputs": [
        {
          "output_type": "stream",
          "name": "stderr",
          "text": [
            "/usr/local/lib/python3.7/dist-packages/sklearn/base.py:444: UserWarning: X has feature names, but RandomForestRegressor was fitted without feature names\n",
            "  f\"X has feature names, but {self.__class__.__name__} was fitted without\"\n"
          ]
        },
        {
          "output_type": "execute_result",
          "data": {
            "text/plain": [
              "{'mae': 0.015330532797300338,\n",
              " 'mape': 8694699212660.576,\n",
              " 'mse': 0.00046997992525730337,\n",
              " 'rmse': 0.0216790203943191,\n",
              " 'train_mae': 0.04183366665641622,\n",
              " 'train_mape': 18992289392206.664,\n",
              " 'train_mse': 0.00894389968944674,\n",
              " 'train_rmse': 0.09457219300326465}"
            ]
          },
          "metadata": {},
          "execution_count": 68
        }
      ],
      "source": [
        "random_forest_ideal = show_scores_sklearn(rs_model)\n",
        "random_forest_ideal"
      ]
    },
    {
      "cell_type": "code",
      "execution_count": 69,
      "metadata": {
        "id": "YdOeW9pIuCNf"
      },
      "outputs": [],
      "source": [
        "mae = []\n",
        "mape = []\n",
        "mse = []\n",
        "rmse = []"
      ]
    },
    {
      "cell_type": "code",
      "execution_count": 70,
      "metadata": {
        "id": "q4jpobFLuSvA"
      },
      "outputs": [],
      "source": [
        "mae.append(naive_results['mae'])\n",
        "mae.append(random_forest['mae'])\n",
        "mae.append(random_forest_ideal['mae'])\n",
        "\n",
        "mape.append(naive_results['mape'])\n",
        "mape.append(random_forest['mape'])\n",
        "mape.append(random_forest_ideal['mape'])\n",
        "\n",
        "mse.append(naive_results['mse'])\n",
        "mse.append(random_forest['mse'])\n",
        "mse.append(random_forest_ideal['mse'])\n",
        "\n",
        "rmse.append(naive_results['rmse'])\n",
        "rmse.append(random_forest['rmse'])\n",
        "rmse.append(random_forest_ideal['rmse'])"
      ]
    },
    {
      "cell_type": "code",
      "execution_count": 71,
      "metadata": {
        "id": "jZ8iBpjcvdzn"
      },
      "outputs": [],
      "source": [
        "models = []"
      ]
    },
    {
      "cell_type": "code",
      "execution_count": 72,
      "metadata": {
        "id": "Aa2X-OnkvfId"
      },
      "outputs": [],
      "source": [
        "models.append('Naive')\n",
        "models.append('Random Forest')\n",
        "models.append('Random Forest Randomized Search')"
      ]
    },
    {
      "cell_type": "code",
      "execution_count": 73,
      "metadata": {
        "colab": {
          "base_uri": "https://localhost:8080/",
          "height": 277
        },
        "id": "dvZy0y6ruoxR",
        "outputId": "20362f45-19b5-402b-8f19-71dc16cf26aa"
      },
      "outputs": [
        {
          "output_type": "execute_result",
          "data": {
            "text/html": [
              "\n",
              "  <div id=\"df-24dae1c5-c207-4a73-b579-6c2870d97282\">\n",
              "    <div class=\"colab-df-container\">\n",
              "      <div>\n",
              "<style scoped>\n",
              "    .dataframe tbody tr th:only-of-type {\n",
              "        vertical-align: middle;\n",
              "    }\n",
              "\n",
              "    .dataframe tbody tr th {\n",
              "        vertical-align: top;\n",
              "    }\n",
              "\n",
              "    .dataframe thead th {\n",
              "        text-align: right;\n",
              "    }\n",
              "</style>\n",
              "<table border=\"1\" class=\"dataframe\">\n",
              "  <thead>\n",
              "    <tr style=\"text-align: right;\">\n",
              "      <th></th>\n",
              "      <th>models</th>\n",
              "      <th>mae</th>\n",
              "      <th>mape</th>\n",
              "      <th>mse</th>\n",
              "      <th>rmse</th>\n",
              "    </tr>\n",
              "  </thead>\n",
              "  <tbody>\n",
              "    <tr>\n",
              "      <th>0</th>\n",
              "      <td>Naive</td>\n",
              "      <td>0.005769</td>\n",
              "      <td>6.731002e+05</td>\n",
              "      <td>0.000092</td>\n",
              "      <td>0.009608</td>\n",
              "    </tr>\n",
              "    <tr>\n",
              "      <th>1</th>\n",
              "      <td>Random Forest</td>\n",
              "      <td>0.013312</td>\n",
              "      <td>1.272589e+13</td>\n",
              "      <td>0.000281</td>\n",
              "      <td>0.016776</td>\n",
              "    </tr>\n",
              "    <tr>\n",
              "      <th>2</th>\n",
              "      <td>Random Forest Randomized Search</td>\n",
              "      <td>0.015331</td>\n",
              "      <td>8.694699e+12</td>\n",
              "      <td>0.000470</td>\n",
              "      <td>0.021679</td>\n",
              "    </tr>\n",
              "  </tbody>\n",
              "</table>\n",
              "</div>\n",
              "      <button class=\"colab-df-convert\" onclick=\"convertToInteractive('df-24dae1c5-c207-4a73-b579-6c2870d97282')\"\n",
              "              title=\"Convert this dataframe to an interactive table.\"\n",
              "              style=\"display:none;\">\n",
              "        \n",
              "  <svg xmlns=\"http://www.w3.org/2000/svg\" height=\"24px\"viewBox=\"0 0 24 24\"\n",
              "       width=\"24px\">\n",
              "    <path d=\"M0 0h24v24H0V0z\" fill=\"none\"/>\n",
              "    <path d=\"M18.56 5.44l.94 2.06.94-2.06 2.06-.94-2.06-.94-.94-2.06-.94 2.06-2.06.94zm-11 1L8.5 8.5l.94-2.06 2.06-.94-2.06-.94L8.5 2.5l-.94 2.06-2.06.94zm10 10l.94 2.06.94-2.06 2.06-.94-2.06-.94-.94-2.06-.94 2.06-2.06.94z\"/><path d=\"M17.41 7.96l-1.37-1.37c-.4-.4-.92-.59-1.43-.59-.52 0-1.04.2-1.43.59L10.3 9.45l-7.72 7.72c-.78.78-.78 2.05 0 2.83L4 21.41c.39.39.9.59 1.41.59.51 0 1.02-.2 1.41-.59l7.78-7.78 2.81-2.81c.8-.78.8-2.07 0-2.86zM5.41 20L4 18.59l7.72-7.72 1.47 1.35L5.41 20z\"/>\n",
              "  </svg>\n",
              "      </button>\n",
              "      \n",
              "  <style>\n",
              "    .colab-df-container {\n",
              "      display:flex;\n",
              "      flex-wrap:wrap;\n",
              "      gap: 12px;\n",
              "    }\n",
              "\n",
              "    .colab-df-convert {\n",
              "      background-color: #E8F0FE;\n",
              "      border: none;\n",
              "      border-radius: 50%;\n",
              "      cursor: pointer;\n",
              "      display: none;\n",
              "      fill: #1967D2;\n",
              "      height: 32px;\n",
              "      padding: 0 0 0 0;\n",
              "      width: 32px;\n",
              "    }\n",
              "\n",
              "    .colab-df-convert:hover {\n",
              "      background-color: #E2EBFA;\n",
              "      box-shadow: 0px 1px 2px rgba(60, 64, 67, 0.3), 0px 1px 3px 1px rgba(60, 64, 67, 0.15);\n",
              "      fill: #174EA6;\n",
              "    }\n",
              "\n",
              "    [theme=dark] .colab-df-convert {\n",
              "      background-color: #3B4455;\n",
              "      fill: #D2E3FC;\n",
              "    }\n",
              "\n",
              "    [theme=dark] .colab-df-convert:hover {\n",
              "      background-color: #434B5C;\n",
              "      box-shadow: 0px 1px 3px 1px rgba(0, 0, 0, 0.15);\n",
              "      filter: drop-shadow(0px 1px 2px rgba(0, 0, 0, 0.3));\n",
              "      fill: #FFFFFF;\n",
              "    }\n",
              "  </style>\n",
              "\n",
              "      <script>\n",
              "        const buttonEl =\n",
              "          document.querySelector('#df-24dae1c5-c207-4a73-b579-6c2870d97282 button.colab-df-convert');\n",
              "        buttonEl.style.display =\n",
              "          google.colab.kernel.accessAllowed ? 'block' : 'none';\n",
              "\n",
              "        async function convertToInteractive(key) {\n",
              "          const element = document.querySelector('#df-24dae1c5-c207-4a73-b579-6c2870d97282');\n",
              "          const dataTable =\n",
              "            await google.colab.kernel.invokeFunction('convertToInteractive',\n",
              "                                                     [key], {});\n",
              "          if (!dataTable) return;\n",
              "\n",
              "          const docLinkHtml = 'Like what you see? Visit the ' +\n",
              "            '<a target=\"_blank\" href=https://colab.research.google.com/notebooks/data_table.ipynb>data table notebook</a>'\n",
              "            + ' to learn more about interactive tables.';\n",
              "          element.innerHTML = '';\n",
              "          dataTable['output_type'] = 'display_data';\n",
              "          await google.colab.output.renderOutput(dataTable, element);\n",
              "          const docLink = document.createElement('div');\n",
              "          docLink.innerHTML = docLinkHtml;\n",
              "          element.appendChild(docLink);\n",
              "        }\n",
              "      </script>\n",
              "    </div>\n",
              "  </div>\n",
              "  "
            ],
            "text/plain": [
              "                            models       mae          mape       mse      rmse\n",
              "0                            Naive  0.005769  6.731002e+05  0.000092  0.009608\n",
              "1                    Random Forest  0.013312  1.272589e+13  0.000281  0.016776\n",
              "2  Random Forest Randomized Search  0.015331  8.694699e+12  0.000470  0.021679"
            ]
          },
          "metadata": {},
          "execution_count": 73
        }
      ],
      "source": [
        "scores = pd.DataFrame(\n",
        "    data={\n",
        "        'models': models,\n",
        "        'mae': mae,\n",
        "        'mape': mape,\n",
        "        'mse': mse,\n",
        "        'rmse': rmse,\n",
        "    }    \n",
        ")\n",
        "\n",
        "scores"
      ]
    },
    {
      "cell_type": "markdown",
      "metadata": {
        "id": "joBn_h1TVcx-"
      },
      "source": [
        "### KNeighboursRegressor\n"
      ]
    },
    {
      "cell_type": "code",
      "execution_count": 74,
      "metadata": {
        "id": "5HMOfId8I0H9"
      },
      "outputs": [],
      "source": [
        "from sklearn.neighbors import KNeighborsRegressor"
      ]
    },
    {
      "cell_type": "code",
      "execution_count": 75,
      "metadata": {
        "colab": {
          "base_uri": "https://localhost:8080/"
        },
        "id": "oq4JtPOe1lMh",
        "outputId": "7d4fc4fa-7eeb-4b57-d8ad-7f2c5d3f15ff"
      },
      "outputs": [
        {
          "output_type": "execute_result",
          "data": {
            "text/plain": [
              "KNeighborsRegressor(n_jobs=-1)"
            ]
          },
          "metadata": {},
          "execution_count": 75
        }
      ],
      "source": [
        "np.random.seed(42)\n",
        "k_model = KNeighborsRegressor(\n",
        "    n_jobs=-1,\n",
        "    #n_neighbors=2,\n",
        "    # random_state=42,\n",
        "    # max_samples=10000, #minimizes the data\n",
        ")\n",
        "\n",
        "# X_train = np.asarray(X_train)\n",
        "# y_train = np.asarray(y_train)\n",
        "k_model.fit(X_train, y_train)"
      ]
    },
    {
      "cell_type": "code",
      "execution_count": 76,
      "metadata": {
        "colab": {
          "base_uri": "https://localhost:8080/"
        },
        "id": "D7pJgpvzJBBp",
        "outputId": "a07f6a09-b0d4-4f15-eecc-3749cbe3a913"
      },
      "outputs": [
        {
          "output_type": "stream",
          "name": "stderr",
          "text": [
            "/usr/local/lib/python3.7/dist-packages/sklearn/base.py:444: UserWarning: X has feature names, but KNeighborsRegressor was fitted without feature names\n",
            "  f\"X has feature names, but {self.__class__.__name__} was fitted without\"\n"
          ]
        },
        {
          "output_type": "execute_result",
          "data": {
            "text/plain": [
              "(0.7023217680609357, -33.25121207579849)"
            ]
          },
          "metadata": {},
          "execution_count": 76
        }
      ],
      "source": [
        "k_model.score(X_train, y_train), k_model.score(X_test, y_test)"
      ]
    },
    {
      "cell_type": "code",
      "execution_count": 77,
      "metadata": {
        "colab": {
          "base_uri": "https://localhost:8080/"
        },
        "id": "bAUcD5KOLVOm",
        "outputId": "324efb4d-a60d-45c2-d763-c3792432450f"
      },
      "outputs": [
        {
          "output_type": "stream",
          "name": "stderr",
          "text": [
            "/usr/local/lib/python3.7/dist-packages/sklearn/base.py:444: UserWarning: X has feature names, but KNeighborsRegressor was fitted without feature names\n",
            "  f\"X has feature names, but {self.__class__.__name__} was fitted without\"\n"
          ]
        },
        {
          "output_type": "execute_result",
          "data": {
            "text/plain": [
              "{'mae': 0.101333335,\n",
              " 'mape': 108686865000000.0,\n",
              " 'mse': 0.03210263,\n",
              " 'rmse': 0.17917207,\n",
              " 'train_mae': 0.049615383,\n",
              " 'train_mape': 40987090000000.0,\n",
              " 'train_mse': 0.010442808,\n",
              " 'train_rmse': 0.102190055}"
            ]
          },
          "metadata": {},
          "execution_count": 77
        }
      ],
      "source": [
        "k_scores = show_scores_sklearn(k_model)\n",
        "k_scores"
      ]
    },
    {
      "cell_type": "code",
      "execution_count": 78,
      "metadata": {
        "colab": {
          "base_uri": "https://localhost:8080/"
        },
        "id": "S_OyGb0xLYUu",
        "outputId": "1319da26-650a-4d9a-cecc-aee5ed0e2512"
      },
      "outputs": [
        {
          "output_type": "stream",
          "name": "stdout",
          "text": [
            "Fitting 5 folds for each of 5 candidates, totalling 25 fits\n"
          ]
        },
        {
          "output_type": "execute_result",
          "data": {
            "text/plain": [
              "RandomizedSearchCV(cv=5, estimator=KNeighborsRegressor(n_jobs=-1), n_iter=5,\n",
              "                   param_distributions={'algorithm': ['auto', 'ball_tree',\n",
              "                                                      'kd_tree', 'brute'],\n",
              "                                        'leaf_size': [20, 30, 40, 50, 60],\n",
              "                                        'n_neighbors': [1, 3, 5, 10, 20]},\n",
              "                   verbose=True)"
            ]
          },
          "metadata": {},
          "execution_count": 78
        }
      ],
      "source": [
        "rf_k_params = {\n",
        "    'n_neighbors': [1, 3, 5, 10, 20],\n",
        "    'algorithm': ['auto', 'ball_tree', 'kd_tree', 'brute'],\n",
        "    'leaf_size': [20, 30, 40, 50, 60]\n",
        "}\n",
        "\n",
        "np.random.seed(42)\n",
        "rs_k_model = RandomizedSearchCV(\n",
        "    KNeighborsRegressor(\n",
        "        n_jobs=-1,\n",
        "        #random_state=42,\n",
        "    ),\n",
        "    param_distributions=rf_k_params,\n",
        "    n_iter=5,\n",
        "    cv=5,\n",
        "    verbose=True\n",
        ")\n",
        "\n",
        "#Fit the randomized search cv model\n",
        "rs_k_model.fit(X_train, y_train)"
      ]
    },
    {
      "cell_type": "code",
      "execution_count": 79,
      "metadata": {
        "colab": {
          "base_uri": "https://localhost:8080/"
        },
        "id": "fnoiIMAKMxS5",
        "outputId": "36da3373-c78f-4027-d5a2-3be8611ce39a"
      },
      "outputs": [
        {
          "output_type": "stream",
          "name": "stderr",
          "text": [
            "/usr/local/lib/python3.7/dist-packages/sklearn/base.py:444: UserWarning: X has feature names, but KNeighborsRegressor was fitted without feature names\n",
            "  f\"X has feature names, but {self.__class__.__name__} was fitted without\"\n"
          ]
        },
        {
          "output_type": "execute_result",
          "data": {
            "text/plain": [
              "(1.0, -33.60913300207516)"
            ]
          },
          "metadata": {},
          "execution_count": 79
        }
      ],
      "source": [
        "rs_k_model.score(X_train, y_train), rs_k_model.score(X_test, y_test)"
      ]
    },
    {
      "cell_type": "code",
      "execution_count": 80,
      "metadata": {
        "colab": {
          "base_uri": "https://localhost:8080/"
        },
        "id": "M4Ka8jPzM3bA",
        "outputId": "8b25f79d-cabb-45e4-9ec1-44c99261c0b9"
      },
      "outputs": [
        {
          "output_type": "stream",
          "name": "stderr",
          "text": [
            "/usr/local/lib/python3.7/dist-packages/sklearn/base.py:444: UserWarning: X has feature names, but KNeighborsRegressor was fitted without feature names\n",
            "  f\"X has feature names, but {self.__class__.__name__} was fitted without\"\n"
          ]
        },
        {
          "output_type": "execute_result",
          "data": {
            "text/plain": [
              "{'mae': 0.09257143,\n",
              " 'mape': 100365945000000.0,\n",
              " 'mse': 0.0324381,\n",
              " 'rmse': 0.1801058,\n",
              " 'train_mae': 0.0,\n",
              " 'train_mape': 0.0,\n",
              " 'train_mse': 0.0,\n",
              " 'train_rmse': 0.0}"
            ]
          },
          "metadata": {},
          "execution_count": 80
        }
      ],
      "source": [
        "knr_ideal = show_scores_sklearn(rs_k_model)\n",
        "knr_ideal"
      ]
    },
    {
      "cell_type": "code",
      "execution_count": 81,
      "metadata": {
        "colab": {
          "base_uri": "https://localhost:8080/",
          "height": 305
        },
        "id": "V4VasUrjNBm9",
        "outputId": "e19cc510-c732-4a18-e033-1f5804ce897f"
      },
      "outputs": [
        {
          "output_type": "execute_result",
          "data": {
            "text/html": [
              "\n",
              "  <div id=\"df-297eef01-7630-4b88-8cfc-af36a6b1d660\">\n",
              "    <div class=\"colab-df-container\">\n",
              "      <div>\n",
              "<style scoped>\n",
              "    .dataframe tbody tr th:only-of-type {\n",
              "        vertical-align: middle;\n",
              "    }\n",
              "\n",
              "    .dataframe tbody tr th {\n",
              "        vertical-align: top;\n",
              "    }\n",
              "\n",
              "    .dataframe thead th {\n",
              "        text-align: right;\n",
              "    }\n",
              "</style>\n",
              "<table border=\"1\" class=\"dataframe\">\n",
              "  <thead>\n",
              "    <tr style=\"text-align: right;\">\n",
              "      <th></th>\n",
              "      <th>models</th>\n",
              "      <th>mae</th>\n",
              "      <th>mape</th>\n",
              "      <th>mse</th>\n",
              "      <th>rmse</th>\n",
              "    </tr>\n",
              "  </thead>\n",
              "  <tbody>\n",
              "    <tr>\n",
              "      <th>0</th>\n",
              "      <td>Naive</td>\n",
              "      <td>0.005769</td>\n",
              "      <td>6.731002e+05</td>\n",
              "      <td>0.000092</td>\n",
              "      <td>0.009608</td>\n",
              "    </tr>\n",
              "    <tr>\n",
              "      <th>1</th>\n",
              "      <td>Random Forest</td>\n",
              "      <td>0.013312</td>\n",
              "      <td>1.272589e+13</td>\n",
              "      <td>0.000281</td>\n",
              "      <td>0.016776</td>\n",
              "    </tr>\n",
              "    <tr>\n",
              "      <th>2</th>\n",
              "      <td>Random Forest Randomized Search</td>\n",
              "      <td>0.015331</td>\n",
              "      <td>8.694699e+12</td>\n",
              "      <td>0.000470</td>\n",
              "      <td>0.021679</td>\n",
              "    </tr>\n",
              "    <tr>\n",
              "      <th>3</th>\n",
              "      <td>KNeighboursRegressor</td>\n",
              "      <td>0.101333</td>\n",
              "      <td>1.086869e+14</td>\n",
              "      <td>0.032103</td>\n",
              "      <td>0.179172</td>\n",
              "    </tr>\n",
              "    <tr>\n",
              "      <th>4</th>\n",
              "      <td>KNeighboursRegressor Randomized Search</td>\n",
              "      <td>0.092571</td>\n",
              "      <td>1.003659e+14</td>\n",
              "      <td>0.032438</td>\n",
              "      <td>0.180106</td>\n",
              "    </tr>\n",
              "  </tbody>\n",
              "</table>\n",
              "</div>\n",
              "      <button class=\"colab-df-convert\" onclick=\"convertToInteractive('df-297eef01-7630-4b88-8cfc-af36a6b1d660')\"\n",
              "              title=\"Convert this dataframe to an interactive table.\"\n",
              "              style=\"display:none;\">\n",
              "        \n",
              "  <svg xmlns=\"http://www.w3.org/2000/svg\" height=\"24px\"viewBox=\"0 0 24 24\"\n",
              "       width=\"24px\">\n",
              "    <path d=\"M0 0h24v24H0V0z\" fill=\"none\"/>\n",
              "    <path d=\"M18.56 5.44l.94 2.06.94-2.06 2.06-.94-2.06-.94-.94-2.06-.94 2.06-2.06.94zm-11 1L8.5 8.5l.94-2.06 2.06-.94-2.06-.94L8.5 2.5l-.94 2.06-2.06.94zm10 10l.94 2.06.94-2.06 2.06-.94-2.06-.94-.94-2.06-.94 2.06-2.06.94z\"/><path d=\"M17.41 7.96l-1.37-1.37c-.4-.4-.92-.59-1.43-.59-.52 0-1.04.2-1.43.59L10.3 9.45l-7.72 7.72c-.78.78-.78 2.05 0 2.83L4 21.41c.39.39.9.59 1.41.59.51 0 1.02-.2 1.41-.59l7.78-7.78 2.81-2.81c.8-.78.8-2.07 0-2.86zM5.41 20L4 18.59l7.72-7.72 1.47 1.35L5.41 20z\"/>\n",
              "  </svg>\n",
              "      </button>\n",
              "      \n",
              "  <style>\n",
              "    .colab-df-container {\n",
              "      display:flex;\n",
              "      flex-wrap:wrap;\n",
              "      gap: 12px;\n",
              "    }\n",
              "\n",
              "    .colab-df-convert {\n",
              "      background-color: #E8F0FE;\n",
              "      border: none;\n",
              "      border-radius: 50%;\n",
              "      cursor: pointer;\n",
              "      display: none;\n",
              "      fill: #1967D2;\n",
              "      height: 32px;\n",
              "      padding: 0 0 0 0;\n",
              "      width: 32px;\n",
              "    }\n",
              "\n",
              "    .colab-df-convert:hover {\n",
              "      background-color: #E2EBFA;\n",
              "      box-shadow: 0px 1px 2px rgba(60, 64, 67, 0.3), 0px 1px 3px 1px rgba(60, 64, 67, 0.15);\n",
              "      fill: #174EA6;\n",
              "    }\n",
              "\n",
              "    [theme=dark] .colab-df-convert {\n",
              "      background-color: #3B4455;\n",
              "      fill: #D2E3FC;\n",
              "    }\n",
              "\n",
              "    [theme=dark] .colab-df-convert:hover {\n",
              "      background-color: #434B5C;\n",
              "      box-shadow: 0px 1px 3px 1px rgba(0, 0, 0, 0.15);\n",
              "      filter: drop-shadow(0px 1px 2px rgba(0, 0, 0, 0.3));\n",
              "      fill: #FFFFFF;\n",
              "    }\n",
              "  </style>\n",
              "\n",
              "      <script>\n",
              "        const buttonEl =\n",
              "          document.querySelector('#df-297eef01-7630-4b88-8cfc-af36a6b1d660 button.colab-df-convert');\n",
              "        buttonEl.style.display =\n",
              "          google.colab.kernel.accessAllowed ? 'block' : 'none';\n",
              "\n",
              "        async function convertToInteractive(key) {\n",
              "          const element = document.querySelector('#df-297eef01-7630-4b88-8cfc-af36a6b1d660');\n",
              "          const dataTable =\n",
              "            await google.colab.kernel.invokeFunction('convertToInteractive',\n",
              "                                                     [key], {});\n",
              "          if (!dataTable) return;\n",
              "\n",
              "          const docLinkHtml = 'Like what you see? Visit the ' +\n",
              "            '<a target=\"_blank\" href=https://colab.research.google.com/notebooks/data_table.ipynb>data table notebook</a>'\n",
              "            + ' to learn more about interactive tables.';\n",
              "          element.innerHTML = '';\n",
              "          dataTable['output_type'] = 'display_data';\n",
              "          await google.colab.output.renderOutput(dataTable, element);\n",
              "          const docLink = document.createElement('div');\n",
              "          docLink.innerHTML = docLinkHtml;\n",
              "          element.appendChild(docLink);\n",
              "        }\n",
              "      </script>\n",
              "    </div>\n",
              "  </div>\n",
              "  "
            ],
            "text/plain": [
              "                                   models       mae  ...       mse      rmse\n",
              "0                                   Naive  0.005769  ...  0.000092  0.009608\n",
              "1                           Random Forest  0.013312  ...  0.000281  0.016776\n",
              "2         Random Forest Randomized Search  0.015331  ...  0.000470  0.021679\n",
              "3                    KNeighboursRegressor  0.101333  ...  0.032103  0.179172\n",
              "4  KNeighboursRegressor Randomized Search  0.092571  ...  0.032438  0.180106\n",
              "\n",
              "[5 rows x 5 columns]"
            ]
          },
          "metadata": {},
          "execution_count": 81
        }
      ],
      "source": [
        "models.append('KNeighboursRegressor')\n",
        "models.append('KNeighboursRegressor Randomized Search')\n",
        "\n",
        "mae.append(k_scores['mae'])\n",
        "mape.append(k_scores['mape'])\n",
        "mse.append(k_scores['mse']) \n",
        "rmse.append(k_scores['rmse'])\n",
        "\n",
        "mae.append(knr_ideal['mae'])\n",
        "mape.append(knr_ideal['mape'])\n",
        "mse.append(knr_ideal['mse']) \n",
        "rmse.append(knr_ideal['rmse']) \n",
        "\n",
        "scores = pd.DataFrame(\n",
        "    data={\n",
        "        'models': models,\n",
        "        'mae': mae,\n",
        "        'mape': mape,\n",
        "        'mse': mse,\n",
        "        'rmse': rmse,\n",
        "    }    \n",
        ")\n",
        "\n",
        "scores"
      ]
    },
    {
      "cell_type": "markdown",
      "metadata": {
        "id": "GJfKLypvO-_t"
      },
      "source": [
        "### Support Vector Regressor"
      ]
    },
    {
      "cell_type": "code",
      "execution_count": 82,
      "metadata": {
        "id": "RL2jeGfUPCgq"
      },
      "outputs": [],
      "source": [
        "from sklearn.svm import SVR"
      ]
    },
    {
      "cell_type": "code",
      "execution_count": 83,
      "metadata": {
        "colab": {
          "base_uri": "https://localhost:8080/"
        },
        "id": "jSJbLIBvPggp",
        "outputId": "46970e75-ee34-4c0d-c012-56b28a9f7503"
      },
      "outputs": [
        {
          "output_type": "execute_result",
          "data": {
            "text/plain": [
              "SVR()"
            ]
          },
          "metadata": {},
          "execution_count": 83
        }
      ],
      "source": [
        "np.random.seed(42)\n",
        "svr_model = SVR()\n",
        "\n",
        "# X_train = np.asarray(X_train)|\n",
        "# y_train = np.asarray(y_train)\n",
        "svr_model.fit(X_train, y_train)"
      ]
    },
    {
      "cell_type": "code",
      "execution_count": 84,
      "metadata": {
        "colab": {
          "base_uri": "https://localhost:8080/"
        },
        "id": "So6s8Q1RQRkc",
        "outputId": "ed7f5c3b-5f34-4422-f8a7-0c710c18516f"
      },
      "outputs": [
        {
          "output_type": "stream",
          "name": "stderr",
          "text": [
            "/usr/local/lib/python3.7/dist-packages/sklearn/base.py:444: UserWarning: X has feature names, but SVR was fitted without feature names\n",
            "  f\"X has feature names, but {self.__class__.__name__} was fitted without\"\n"
          ]
        },
        {
          "output_type": "execute_result",
          "data": {
            "text/plain": [
              "(0.005467028350361058, -6.240230461894922)"
            ]
          },
          "metadata": {},
          "execution_count": 84
        }
      ],
      "source": [
        "svr_model.score(X_train, y_train), svr_model.score(X_test, y_test)"
      ]
    },
    {
      "cell_type": "code",
      "execution_count": 85,
      "metadata": {
        "colab": {
          "base_uri": "https://localhost:8080/"
        },
        "id": "UkUxqJy1QVwy",
        "outputId": "190ee3bd-09fb-4d28-c6af-7fe32bfd8165"
      },
      "outputs": [
        {
          "output_type": "stream",
          "name": "stderr",
          "text": [
            "/usr/local/lib/python3.7/dist-packages/sklearn/base.py:444: UserWarning: X has feature names, but SVR was fitted without feature names\n",
            "  f\"X has feature names, but {self.__class__.__name__} was fitted without\"\n"
          ]
        },
        {
          "output_type": "execute_result",
          "data": {
            "text/plain": [
              "{'mae': 0.07683887398657722,\n",
              " 'mape': 112997695445044.89,\n",
              " 'mse': 0.0067860498708734755,\n",
              " 'rmse': 0.08237748400426828,\n",
              " 'train_mae': 0.12794034859660497,\n",
              " 'train_mape': 180700673123132.06,\n",
              " 'train_mse': 0.03488907114439473,\n",
              " 'train_rmse': 0.18678616422100094}"
            ]
          },
          "metadata": {},
          "execution_count": 85
        }
      ],
      "source": [
        "svr_scores = show_scores_sklearn(svr_model)\n",
        "svr_scores"
      ]
    },
    {
      "cell_type": "code",
      "execution_count": 86,
      "metadata": {
        "colab": {
          "base_uri": "https://localhost:8080/"
        },
        "id": "tg_nJX3TQbYV",
        "outputId": "956c2fd2-9544-48df-b68c-b27965e76288"
      },
      "outputs": [
        {
          "output_type": "stream",
          "name": "stdout",
          "text": [
            "Fitting 5 folds for each of 5 candidates, totalling 25 fits\n"
          ]
        },
        {
          "output_type": "execute_result",
          "data": {
            "text/plain": [
              "RandomizedSearchCV(cv=5, estimator=SVR(), n_iter=5,\n",
              "                   param_distributions={'C': [1, 3, 5, 7, 9],\n",
              "                                        'degree': [1, 3, 5, 7, 9],\n",
              "                                        'epsilon': [0.1, 0.3, 0.5, 0.7, 0.9],\n",
              "                                        'gamma': ['scale', 'auto'],\n",
              "                                        'kernel': ['linear', 'poly', 'rbf',\n",
              "                                                   'sigmoid']},\n",
              "                   verbose=True)"
            ]
          },
          "metadata": {},
          "execution_count": 86
        }
      ],
      "source": [
        "rf_svr_params = {\n",
        "    'kernel': ['linear', 'poly', 'rbf', 'sigmoid'],\n",
        "    'gamma': ['scale', 'auto'],\n",
        "    'degree': [1, 3, 5, 7, 9],\n",
        "    'epsilon': [0.1, 0.3, 0.5, 0.7, 0.9],\n",
        "    'C': [1, 3, 5, 7, 9], \n",
        "}\n",
        "\n",
        "np.random.seed(42)\n",
        "rs_svr_model = RandomizedSearchCV(\n",
        "    SVR(),\n",
        "    param_distributions=rf_svr_params,\n",
        "    n_iter=5,\n",
        "    cv=5,\n",
        "    verbose=True\n",
        ")\n",
        "\n",
        "# X_train = np.asarray(X_train)\n",
        "# y_train = np.asarray(y_train)\n",
        "#Fit the randomized search cv model\n",
        "rs_svr_model.fit(X_train, y_train)"
      ]
    },
    {
      "cell_type": "code",
      "execution_count": 87,
      "metadata": {
        "colab": {
          "base_uri": "https://localhost:8080/"
        },
        "id": "TfX7YWArTwFW",
        "outputId": "3c5a97b6-2fe9-495b-ec6f-8e5ed7cf86b0"
      },
      "outputs": [
        {
          "output_type": "stream",
          "name": "stderr",
          "text": [
            "/usr/local/lib/python3.7/dist-packages/sklearn/base.py:444: UserWarning: X has feature names, but SVR was fitted without feature names\n",
            "  f\"X has feature names, but {self.__class__.__name__} was fitted without\"\n"
          ]
        },
        {
          "output_type": "execute_result",
          "data": {
            "text/plain": [
              "(-1.316024155371554, -130.87463643573753)"
            ]
          },
          "metadata": {},
          "execution_count": 87
        }
      ],
      "source": [
        "rs_svr_model.score(X_train, y_train), rs_svr_model.score(X_test, y_test)"
      ]
    },
    {
      "cell_type": "code",
      "execution_count": 88,
      "metadata": {
        "colab": {
          "base_uri": "https://localhost:8080/"
        },
        "id": "LyRPXhMuUSvM",
        "outputId": "148c8d42-bb40-472e-c0b8-4cd2bffdede1"
      },
      "outputs": [
        {
          "output_type": "stream",
          "name": "stderr",
          "text": [
            "/usr/local/lib/python3.7/dist-packages/sklearn/base.py:444: UserWarning: X has feature names, but SVR was fitted without feature names\n",
            "  f\"X has feature names, but {self.__class__.__name__} was fitted without\"\n"
          ]
        },
        {
          "output_type": "execute_result",
          "data": {
            "text/plain": [
              "{'mae': 0.3370340790473201,\n",
              " 'mape': 404985832198621.1,\n",
              " 'mse': 0.12360212347743511,\n",
              " 'rmse': 0.3515709366222343,\n",
              " 'train_mae': 0.2526624478864663,\n",
              " 'train_mape': 489888471264007.3,\n",
              " 'train_mse': 0.0812481172895302,\n",
              " 'train_rmse': 0.28504055376302195}"
            ]
          },
          "metadata": {},
          "execution_count": 88
        }
      ],
      "source": [
        "rs_svr_scores = show_scores_sklearn(rs_svr_model)\n",
        "rs_svr_scores"
      ]
    },
    {
      "cell_type": "code",
      "execution_count": 89,
      "metadata": {
        "colab": {
          "base_uri": "https://localhost:8080/",
          "height": 420
        },
        "id": "eI666yozUWpo",
        "outputId": "3f4e5107-fba7-4346-fd23-39c9dfc34127"
      },
      "outputs": [
        {
          "output_type": "execute_result",
          "data": {
            "text/html": [
              "\n",
              "  <div id=\"df-e112f554-7ea2-4384-9274-954714649dd4\">\n",
              "    <div class=\"colab-df-container\">\n",
              "      <div>\n",
              "<style scoped>\n",
              "    .dataframe tbody tr th:only-of-type {\n",
              "        vertical-align: middle;\n",
              "    }\n",
              "\n",
              "    .dataframe tbody tr th {\n",
              "        vertical-align: top;\n",
              "    }\n",
              "\n",
              "    .dataframe thead th {\n",
              "        text-align: right;\n",
              "    }\n",
              "</style>\n",
              "<table border=\"1\" class=\"dataframe\">\n",
              "  <thead>\n",
              "    <tr style=\"text-align: right;\">\n",
              "      <th></th>\n",
              "      <th>models</th>\n",
              "      <th>mae</th>\n",
              "      <th>mape</th>\n",
              "      <th>mse</th>\n",
              "      <th>rmse</th>\n",
              "    </tr>\n",
              "  </thead>\n",
              "  <tbody>\n",
              "    <tr>\n",
              "      <th>0</th>\n",
              "      <td>Naive</td>\n",
              "      <td>0.005769</td>\n",
              "      <td>6.731002e+05</td>\n",
              "      <td>0.000092</td>\n",
              "      <td>0.009608</td>\n",
              "    </tr>\n",
              "    <tr>\n",
              "      <th>1</th>\n",
              "      <td>Random Forest</td>\n",
              "      <td>0.013312</td>\n",
              "      <td>1.272589e+13</td>\n",
              "      <td>0.000281</td>\n",
              "      <td>0.016776</td>\n",
              "    </tr>\n",
              "    <tr>\n",
              "      <th>2</th>\n",
              "      <td>Random Forest Randomized Search</td>\n",
              "      <td>0.015331</td>\n",
              "      <td>8.694699e+12</td>\n",
              "      <td>0.000470</td>\n",
              "      <td>0.021679</td>\n",
              "    </tr>\n",
              "    <tr>\n",
              "      <th>3</th>\n",
              "      <td>KNeighboursRegressor</td>\n",
              "      <td>0.101333</td>\n",
              "      <td>1.086869e+14</td>\n",
              "      <td>0.032103</td>\n",
              "      <td>0.179172</td>\n",
              "    </tr>\n",
              "    <tr>\n",
              "      <th>4</th>\n",
              "      <td>KNeighboursRegressor Randomized Search</td>\n",
              "      <td>0.092571</td>\n",
              "      <td>1.003659e+14</td>\n",
              "      <td>0.032438</td>\n",
              "      <td>0.180106</td>\n",
              "    </tr>\n",
              "    <tr>\n",
              "      <th>5</th>\n",
              "      <td>Support Vector Regression</td>\n",
              "      <td>0.076839</td>\n",
              "      <td>1.129977e+14</td>\n",
              "      <td>0.006786</td>\n",
              "      <td>0.082377</td>\n",
              "    </tr>\n",
              "    <tr>\n",
              "      <th>6</th>\n",
              "      <td>Support Vector Regression Randomized Search</td>\n",
              "      <td>0.337034</td>\n",
              "      <td>4.049858e+14</td>\n",
              "      <td>0.123602</td>\n",
              "      <td>0.351571</td>\n",
              "    </tr>\n",
              "  </tbody>\n",
              "</table>\n",
              "</div>\n",
              "      <button class=\"colab-df-convert\" onclick=\"convertToInteractive('df-e112f554-7ea2-4384-9274-954714649dd4')\"\n",
              "              title=\"Convert this dataframe to an interactive table.\"\n",
              "              style=\"display:none;\">\n",
              "        \n",
              "  <svg xmlns=\"http://www.w3.org/2000/svg\" height=\"24px\"viewBox=\"0 0 24 24\"\n",
              "       width=\"24px\">\n",
              "    <path d=\"M0 0h24v24H0V0z\" fill=\"none\"/>\n",
              "    <path d=\"M18.56 5.44l.94 2.06.94-2.06 2.06-.94-2.06-.94-.94-2.06-.94 2.06-2.06.94zm-11 1L8.5 8.5l.94-2.06 2.06-.94-2.06-.94L8.5 2.5l-.94 2.06-2.06.94zm10 10l.94 2.06.94-2.06 2.06-.94-2.06-.94-.94-2.06-.94 2.06-2.06.94z\"/><path d=\"M17.41 7.96l-1.37-1.37c-.4-.4-.92-.59-1.43-.59-.52 0-1.04.2-1.43.59L10.3 9.45l-7.72 7.72c-.78.78-.78 2.05 0 2.83L4 21.41c.39.39.9.59 1.41.59.51 0 1.02-.2 1.41-.59l7.78-7.78 2.81-2.81c.8-.78.8-2.07 0-2.86zM5.41 20L4 18.59l7.72-7.72 1.47 1.35L5.41 20z\"/>\n",
              "  </svg>\n",
              "      </button>\n",
              "      \n",
              "  <style>\n",
              "    .colab-df-container {\n",
              "      display:flex;\n",
              "      flex-wrap:wrap;\n",
              "      gap: 12px;\n",
              "    }\n",
              "\n",
              "    .colab-df-convert {\n",
              "      background-color: #E8F0FE;\n",
              "      border: none;\n",
              "      border-radius: 50%;\n",
              "      cursor: pointer;\n",
              "      display: none;\n",
              "      fill: #1967D2;\n",
              "      height: 32px;\n",
              "      padding: 0 0 0 0;\n",
              "      width: 32px;\n",
              "    }\n",
              "\n",
              "    .colab-df-convert:hover {\n",
              "      background-color: #E2EBFA;\n",
              "      box-shadow: 0px 1px 2px rgba(60, 64, 67, 0.3), 0px 1px 3px 1px rgba(60, 64, 67, 0.15);\n",
              "      fill: #174EA6;\n",
              "    }\n",
              "\n",
              "    [theme=dark] .colab-df-convert {\n",
              "      background-color: #3B4455;\n",
              "      fill: #D2E3FC;\n",
              "    }\n",
              "\n",
              "    [theme=dark] .colab-df-convert:hover {\n",
              "      background-color: #434B5C;\n",
              "      box-shadow: 0px 1px 3px 1px rgba(0, 0, 0, 0.15);\n",
              "      filter: drop-shadow(0px 1px 2px rgba(0, 0, 0, 0.3));\n",
              "      fill: #FFFFFF;\n",
              "    }\n",
              "  </style>\n",
              "\n",
              "      <script>\n",
              "        const buttonEl =\n",
              "          document.querySelector('#df-e112f554-7ea2-4384-9274-954714649dd4 button.colab-df-convert');\n",
              "        buttonEl.style.display =\n",
              "          google.colab.kernel.accessAllowed ? 'block' : 'none';\n",
              "\n",
              "        async function convertToInteractive(key) {\n",
              "          const element = document.querySelector('#df-e112f554-7ea2-4384-9274-954714649dd4');\n",
              "          const dataTable =\n",
              "            await google.colab.kernel.invokeFunction('convertToInteractive',\n",
              "                                                     [key], {});\n",
              "          if (!dataTable) return;\n",
              "\n",
              "          const docLinkHtml = 'Like what you see? Visit the ' +\n",
              "            '<a target=\"_blank\" href=https://colab.research.google.com/notebooks/data_table.ipynb>data table notebook</a>'\n",
              "            + ' to learn more about interactive tables.';\n",
              "          element.innerHTML = '';\n",
              "          dataTable['output_type'] = 'display_data';\n",
              "          await google.colab.output.renderOutput(dataTable, element);\n",
              "          const docLink = document.createElement('div');\n",
              "          docLink.innerHTML = docLinkHtml;\n",
              "          element.appendChild(docLink);\n",
              "        }\n",
              "      </script>\n",
              "    </div>\n",
              "  </div>\n",
              "  "
            ],
            "text/plain": [
              "                                        models       mae  ...       mse      rmse\n",
              "0                                        Naive  0.005769  ...  0.000092  0.009608\n",
              "1                                Random Forest  0.013312  ...  0.000281  0.016776\n",
              "2              Random Forest Randomized Search  0.015331  ...  0.000470  0.021679\n",
              "3                         KNeighboursRegressor  0.101333  ...  0.032103  0.179172\n",
              "4       KNeighboursRegressor Randomized Search  0.092571  ...  0.032438  0.180106\n",
              "5                    Support Vector Regression  0.076839  ...  0.006786  0.082377\n",
              "6  Support Vector Regression Randomized Search  0.337034  ...  0.123602  0.351571\n",
              "\n",
              "[7 rows x 5 columns]"
            ]
          },
          "metadata": {},
          "execution_count": 89
        }
      ],
      "source": [
        "models.append('Support Vector Regression')\n",
        "models.append('Support Vector Regression Randomized Search')\n",
        "\n",
        "mae.append(svr_scores['mae'])\n",
        "mape.append(svr_scores['mape'])\n",
        "mse.append(svr_scores['mse']) \n",
        "rmse.append(svr_scores['rmse'])\n",
        "\n",
        "mae.append(rs_svr_scores['mae'])\n",
        "mape.append(rs_svr_scores['mape'])\n",
        "mse.append(rs_svr_scores['mse']) \n",
        "rmse.append(rs_svr_scores['rmse']) \n",
        "\n",
        "scores = pd.DataFrame(\n",
        "    data={\n",
        "        'models': models,\n",
        "        'mae': mae,\n",
        "        'mape': mape,\n",
        "        'mse': mse,\n",
        "        'rmse': rmse,\n",
        "    }    \n",
        ")\n",
        "\n",
        "scores"
      ]
    },
    {
      "cell_type": "markdown",
      "metadata": {
        "id": "NLwiiLiLngVq"
      },
      "source": [
        "### Ensemble Methods"
      ]
    },
    {
      "cell_type": "markdown",
      "metadata": {
        "id": "d1MPTF1no7VC"
      },
      "source": [
        "#### Combining RFR, KNR, and SVR"
      ]
    },
    {
      "cell_type": "code",
      "execution_count": 90,
      "metadata": {
        "id": "kUcSa3i2siXW"
      },
      "outputs": [],
      "source": [
        "from sklearn.ensemble import VotingRegressor"
      ]
    },
    {
      "cell_type": "code",
      "execution_count": 91,
      "metadata": {
        "id": "pnbKjenfskGI",
        "colab": {
          "base_uri": "https://localhost:8080/"
        },
        "outputId": "0fa91625-7b48-4099-9bda-de248621a32b"
      },
      "outputs": [
        {
          "output_type": "stream",
          "name": "stdout",
          "text": [
            "Fitting 5 folds for each of 5 candidates, totalling 25 fits\n",
            "Fitting 5 folds for each of 5 candidates, totalling 25 fits\n",
            "Fitting 5 folds for each of 5 candidates, totalling 25 fits\n"
          ]
        },
        {
          "output_type": "execute_result",
          "data": {
            "text/plain": [
              "VotingRegressor(estimators=[('rfr',\n",
              "                             RandomizedSearchCV(cv=5,\n",
              "                                                estimator=RandomForestRegressor(n_jobs=-1),\n",
              "                                                n_iter=5,\n",
              "                                                param_distributions={'max_depth': [None,\n",
              "                                                                                   3,\n",
              "                                                                                   5,\n",
              "                                                                                   10],\n",
              "                                                                     'max_features': [0.5,\n",
              "                                                                                      1,\n",
              "                                                                                      'sqrt',\n",
              "                                                                                      'auto'],\n",
              "                                                                     'max_samples': [332],\n",
              "                                                                     'min_samples_leaf': array([ 1,  3,  5,  7,  9, 11, 13, 15, 17, 19]),\n",
              "                                                                     'min_samples_split': array([ 2,  4,  6,  8, 10, 12, 14, 16, 18]),\n",
              "                                                                     'n_estimators': array([10, 20, 30...\n",
              "                                                param_distributions={'algorithm': ['auto',\n",
              "                                                                                   'ball_tree',\n",
              "                                                                                   'kd_tree',\n",
              "                                                                                   'brute'],\n",
              "                                                                     'leaf_size': [20,\n",
              "                                                                                   30,\n",
              "                                                                                   40,\n",
              "                                                                                   50,\n",
              "                                                                                   60],\n",
              "                                                                     'n_neighbors': [1,\n",
              "                                                                                     3,\n",
              "                                                                                     5,\n",
              "                                                                                     10,\n",
              "                                                                                     20]},\n",
              "                                                verbose=True)),\n",
              "                            ('svr',\n",
              "                             RandomizedSearchCV(cv=5, estimator=SVR(), n_iter=5,\n",
              "                                                param_distributions={'C': [1, 3,\n",
              "                                                                           5, 7,\n",
              "                                                                           9],\n",
              "                                                                     'degree': [1,\n",
              "                                                                                3,\n",
              "                                                                                5,\n",
              "                                                                                7,\n",
              "                                                                                9],\n",
              "                                                                     'epsilon': [0.1,\n",
              "                                                                                 0.3,\n",
              "                                                                                 0.5,\n",
              "                                                                                 0.7,\n",
              "                                                                                 0.9],\n",
              "                                                                     'gamma': ['scale',\n",
              "                                                                               'auto'],\n",
              "                                                                     'kernel': ['linear',\n",
              "                                                                                'poly',\n",
              "                                                                                'rbf',\n",
              "                                                                                'sigmoid']},\n",
              "                                                verbose=True))])"
            ]
          },
          "metadata": {},
          "execution_count": 91
        }
      ],
      "source": [
        "vr_model = VotingRegressor(\n",
        "    estimators=[\n",
        "        ('rfr', rs_model),\n",
        "        ('knr', rs_k_model),\n",
        "        ('svr', rs_svr_model),\n",
        "    ]\n",
        ")\n",
        "\n",
        "np.random.seed(42)\n",
        "# X_train_dot = np.dot(X_train, X_train.T)\n",
        "# X_test_dot = np.dot(X_test, X_train.T)\n",
        "vr_model.fit(X_train, y_train)"
      ]
    },
    {
      "cell_type": "code",
      "source": [
        "vr_model.score(X_train, y_train), vr_model.score(X_test, y_test)"
      ],
      "metadata": {
        "id": "VAQLbxGquGcq",
        "colab": {
          "base_uri": "https://localhost:8080/"
        },
        "outputId": "db618354-18a6-4790-b2b6-7c367bb6ff2f"
      },
      "execution_count": 92,
      "outputs": [
        {
          "output_type": "stream",
          "name": "stderr",
          "text": [
            "/usr/local/lib/python3.7/dist-packages/sklearn/base.py:444: UserWarning: X has feature names, but RandomForestRegressor was fitted without feature names\n",
            "  f\"X has feature names, but {self.__class__.__name__} was fitted without\"\n",
            "/usr/local/lib/python3.7/dist-packages/sklearn/base.py:444: UserWarning: X has feature names, but KNeighborsRegressor was fitted without feature names\n",
            "  f\"X has feature names, but {self.__class__.__name__} was fitted without\"\n",
            "/usr/local/lib/python3.7/dist-packages/sklearn/base.py:444: UserWarning: X has feature names, but SVR was fitted without feature names\n",
            "  f\"X has feature names, but {self.__class__.__name__} was fitted without\"\n"
          ]
        },
        {
          "output_type": "execute_result",
          "data": {
            "text/plain": [
              "(0.7005574827891567, -5.915626681476128)"
            ]
          },
          "metadata": {},
          "execution_count": 92
        }
      ]
    },
    {
      "cell_type": "code",
      "source": [
        "vr_scores = show_scores_sklearn(vr_model)\n",
        "vr_scores"
      ],
      "metadata": {
        "id": "GjoQAHzww1LQ",
        "colab": {
          "base_uri": "https://localhost:8080/"
        },
        "outputId": "2ab5c8cb-3246-49cc-be81-ec79cdc208e5"
      },
      "execution_count": 93,
      "outputs": [
        {
          "output_type": "stream",
          "name": "stderr",
          "text": [
            "/usr/local/lib/python3.7/dist-packages/sklearn/base.py:444: UserWarning: X has feature names, but RandomForestRegressor was fitted without feature names\n",
            "  f\"X has feature names, but {self.__class__.__name__} was fitted without\"\n",
            "/usr/local/lib/python3.7/dist-packages/sklearn/base.py:444: UserWarning: X has feature names, but KNeighborsRegressor was fitted without feature names\n",
            "  f\"X has feature names, but {self.__class__.__name__} was fitted without\"\n",
            "/usr/local/lib/python3.7/dist-packages/sklearn/base.py:444: UserWarning: X has feature names, but SVR was fitted without feature names\n",
            "  f\"X has feature names, but {self.__class__.__name__} was fitted without\"\n"
          ]
        },
        {
          "output_type": "execute_result",
          "data": {
            "text/plain": [
              "{'mae': 0.05970004291449988,\n",
              " 'mape': 75828548752944.97,\n",
              " 'mse': 0.006481808527481281,\n",
              " 'rmse': 0.08050967971294683,\n",
              " 'train_mae': 0.05957360375578798,\n",
              " 'train_mape': 75190414062705.14,\n",
              " 'train_mse': 0.010504700783621876,\n",
              " 'train_rmse': 0.10249244256832733}"
            ]
          },
          "metadata": {},
          "execution_count": 93
        }
      ]
    },
    {
      "cell_type": "code",
      "source": [
        "models.append('VotingRegressor')\n",
        "\n",
        "mae.append(vr_scores['mae'])\n",
        "mape.append(vr_scores['mape'])\n",
        "mse.append(vr_scores['mse']) \n",
        "rmse.append(vr_scores['rmse'])\n",
        "\n",
        "scores = pd.DataFrame(\n",
        "    data={\n",
        "        'models': models,\n",
        "        'mae': mae,\n",
        "        'mape': mape,\n",
        "        'mse': mse,\n",
        "        'rmse': rmse,\n",
        "    }    \n",
        ")\n",
        "\n",
        "scores"
      ],
      "metadata": {
        "id": "370ediEKw65u",
        "colab": {
          "base_uri": "https://localhost:8080/",
          "height": 451
        },
        "outputId": "50bdecff-f5c4-4b6f-97dd-480d257e88ce"
      },
      "execution_count": 94,
      "outputs": [
        {
          "output_type": "execute_result",
          "data": {
            "text/html": [
              "\n",
              "  <div id=\"df-40aceb70-0d81-4255-8823-5837d2d1ff75\">\n",
              "    <div class=\"colab-df-container\">\n",
              "      <div>\n",
              "<style scoped>\n",
              "    .dataframe tbody tr th:only-of-type {\n",
              "        vertical-align: middle;\n",
              "    }\n",
              "\n",
              "    .dataframe tbody tr th {\n",
              "        vertical-align: top;\n",
              "    }\n",
              "\n",
              "    .dataframe thead th {\n",
              "        text-align: right;\n",
              "    }\n",
              "</style>\n",
              "<table border=\"1\" class=\"dataframe\">\n",
              "  <thead>\n",
              "    <tr style=\"text-align: right;\">\n",
              "      <th></th>\n",
              "      <th>models</th>\n",
              "      <th>mae</th>\n",
              "      <th>mape</th>\n",
              "      <th>mse</th>\n",
              "      <th>rmse</th>\n",
              "    </tr>\n",
              "  </thead>\n",
              "  <tbody>\n",
              "    <tr>\n",
              "      <th>0</th>\n",
              "      <td>Naive</td>\n",
              "      <td>0.005769</td>\n",
              "      <td>6.731002e+05</td>\n",
              "      <td>0.000092</td>\n",
              "      <td>0.009608</td>\n",
              "    </tr>\n",
              "    <tr>\n",
              "      <th>1</th>\n",
              "      <td>Random Forest</td>\n",
              "      <td>0.013312</td>\n",
              "      <td>1.272589e+13</td>\n",
              "      <td>0.000281</td>\n",
              "      <td>0.016776</td>\n",
              "    </tr>\n",
              "    <tr>\n",
              "      <th>2</th>\n",
              "      <td>Random Forest Randomized Search</td>\n",
              "      <td>0.015331</td>\n",
              "      <td>8.694699e+12</td>\n",
              "      <td>0.000470</td>\n",
              "      <td>0.021679</td>\n",
              "    </tr>\n",
              "    <tr>\n",
              "      <th>3</th>\n",
              "      <td>KNeighboursRegressor</td>\n",
              "      <td>0.101333</td>\n",
              "      <td>1.086869e+14</td>\n",
              "      <td>0.032103</td>\n",
              "      <td>0.179172</td>\n",
              "    </tr>\n",
              "    <tr>\n",
              "      <th>4</th>\n",
              "      <td>KNeighboursRegressor Randomized Search</td>\n",
              "      <td>0.092571</td>\n",
              "      <td>1.003659e+14</td>\n",
              "      <td>0.032438</td>\n",
              "      <td>0.180106</td>\n",
              "    </tr>\n",
              "    <tr>\n",
              "      <th>5</th>\n",
              "      <td>Support Vector Regression</td>\n",
              "      <td>0.076839</td>\n",
              "      <td>1.129977e+14</td>\n",
              "      <td>0.006786</td>\n",
              "      <td>0.082377</td>\n",
              "    </tr>\n",
              "    <tr>\n",
              "      <th>6</th>\n",
              "      <td>Support Vector Regression Randomized Search</td>\n",
              "      <td>0.337034</td>\n",
              "      <td>4.049858e+14</td>\n",
              "      <td>0.123602</td>\n",
              "      <td>0.351571</td>\n",
              "    </tr>\n",
              "    <tr>\n",
              "      <th>7</th>\n",
              "      <td>VotingRegressor</td>\n",
              "      <td>0.059700</td>\n",
              "      <td>7.582855e+13</td>\n",
              "      <td>0.006482</td>\n",
              "      <td>0.080510</td>\n",
              "    </tr>\n",
              "  </tbody>\n",
              "</table>\n",
              "</div>\n",
              "      <button class=\"colab-df-convert\" onclick=\"convertToInteractive('df-40aceb70-0d81-4255-8823-5837d2d1ff75')\"\n",
              "              title=\"Convert this dataframe to an interactive table.\"\n",
              "              style=\"display:none;\">\n",
              "        \n",
              "  <svg xmlns=\"http://www.w3.org/2000/svg\" height=\"24px\"viewBox=\"0 0 24 24\"\n",
              "       width=\"24px\">\n",
              "    <path d=\"M0 0h24v24H0V0z\" fill=\"none\"/>\n",
              "    <path d=\"M18.56 5.44l.94 2.06.94-2.06 2.06-.94-2.06-.94-.94-2.06-.94 2.06-2.06.94zm-11 1L8.5 8.5l.94-2.06 2.06-.94-2.06-.94L8.5 2.5l-.94 2.06-2.06.94zm10 10l.94 2.06.94-2.06 2.06-.94-2.06-.94-.94-2.06-.94 2.06-2.06.94z\"/><path d=\"M17.41 7.96l-1.37-1.37c-.4-.4-.92-.59-1.43-.59-.52 0-1.04.2-1.43.59L10.3 9.45l-7.72 7.72c-.78.78-.78 2.05 0 2.83L4 21.41c.39.39.9.59 1.41.59.51 0 1.02-.2 1.41-.59l7.78-7.78 2.81-2.81c.8-.78.8-2.07 0-2.86zM5.41 20L4 18.59l7.72-7.72 1.47 1.35L5.41 20z\"/>\n",
              "  </svg>\n",
              "      </button>\n",
              "      \n",
              "  <style>\n",
              "    .colab-df-container {\n",
              "      display:flex;\n",
              "      flex-wrap:wrap;\n",
              "      gap: 12px;\n",
              "    }\n",
              "\n",
              "    .colab-df-convert {\n",
              "      background-color: #E8F0FE;\n",
              "      border: none;\n",
              "      border-radius: 50%;\n",
              "      cursor: pointer;\n",
              "      display: none;\n",
              "      fill: #1967D2;\n",
              "      height: 32px;\n",
              "      padding: 0 0 0 0;\n",
              "      width: 32px;\n",
              "    }\n",
              "\n",
              "    .colab-df-convert:hover {\n",
              "      background-color: #E2EBFA;\n",
              "      box-shadow: 0px 1px 2px rgba(60, 64, 67, 0.3), 0px 1px 3px 1px rgba(60, 64, 67, 0.15);\n",
              "      fill: #174EA6;\n",
              "    }\n",
              "\n",
              "    [theme=dark] .colab-df-convert {\n",
              "      background-color: #3B4455;\n",
              "      fill: #D2E3FC;\n",
              "    }\n",
              "\n",
              "    [theme=dark] .colab-df-convert:hover {\n",
              "      background-color: #434B5C;\n",
              "      box-shadow: 0px 1px 3px 1px rgba(0, 0, 0, 0.15);\n",
              "      filter: drop-shadow(0px 1px 2px rgba(0, 0, 0, 0.3));\n",
              "      fill: #FFFFFF;\n",
              "    }\n",
              "  </style>\n",
              "\n",
              "      <script>\n",
              "        const buttonEl =\n",
              "          document.querySelector('#df-40aceb70-0d81-4255-8823-5837d2d1ff75 button.colab-df-convert');\n",
              "        buttonEl.style.display =\n",
              "          google.colab.kernel.accessAllowed ? 'block' : 'none';\n",
              "\n",
              "        async function convertToInteractive(key) {\n",
              "          const element = document.querySelector('#df-40aceb70-0d81-4255-8823-5837d2d1ff75');\n",
              "          const dataTable =\n",
              "            await google.colab.kernel.invokeFunction('convertToInteractive',\n",
              "                                                     [key], {});\n",
              "          if (!dataTable) return;\n",
              "\n",
              "          const docLinkHtml = 'Like what you see? Visit the ' +\n",
              "            '<a target=\"_blank\" href=https://colab.research.google.com/notebooks/data_table.ipynb>data table notebook</a>'\n",
              "            + ' to learn more about interactive tables.';\n",
              "          element.innerHTML = '';\n",
              "          dataTable['output_type'] = 'display_data';\n",
              "          await google.colab.output.renderOutput(dataTable, element);\n",
              "          const docLink = document.createElement('div');\n",
              "          docLink.innerHTML = docLinkHtml;\n",
              "          element.appendChild(docLink);\n",
              "        }\n",
              "      </script>\n",
              "    </div>\n",
              "  </div>\n",
              "  "
            ],
            "text/plain": [
              "                                        models       mae  ...       mse      rmse\n",
              "0                                        Naive  0.005769  ...  0.000092  0.009608\n",
              "1                                Random Forest  0.013312  ...  0.000281  0.016776\n",
              "2              Random Forest Randomized Search  0.015331  ...  0.000470  0.021679\n",
              "3                         KNeighboursRegressor  0.101333  ...  0.032103  0.179172\n",
              "4       KNeighboursRegressor Randomized Search  0.092571  ...  0.032438  0.180106\n",
              "5                    Support Vector Regression  0.076839  ...  0.006786  0.082377\n",
              "6  Support Vector Regression Randomized Search  0.337034  ...  0.123602  0.351571\n",
              "7                              VotingRegressor  0.059700  ...  0.006482  0.080510\n",
              "\n",
              "[8 rows x 5 columns]"
            ]
          },
          "metadata": {},
          "execution_count": 94
        }
      ]
    },
    {
      "cell_type": "markdown",
      "source": [
        "#### GradientTreeBoosting Regressor"
      ],
      "metadata": {
        "id": "gWyQsnRkxKCG"
      }
    },
    {
      "cell_type": "code",
      "source": [
        "from sklearn.ensemble import GradientBoostingRegressor\n",
        "from sklearn.ensemble import StackingRegressor"
      ],
      "metadata": {
        "id": "Uoi3CXxtxfKC"
      },
      "execution_count": 95,
      "outputs": []
    },
    {
      "cell_type": "code",
      "source": [
        "np.random.seed(42)\n",
        "gbr_model = GradientBoostingRegressor()\n",
        "\n",
        "gbr_model.fit(X_train, y_train)"
      ],
      "metadata": {
        "id": "4ImrZjcHzgYV",
        "colab": {
          "base_uri": "https://localhost:8080/"
        },
        "outputId": "936a0de1-6288-4b69-deb1-143ec3e5555a"
      },
      "execution_count": 96,
      "outputs": [
        {
          "output_type": "execute_result",
          "data": {
            "text/plain": [
              "GradientBoostingRegressor()"
            ]
          },
          "metadata": {},
          "execution_count": 96
        }
      ]
    },
    {
      "cell_type": "code",
      "source": [
        "gbr_scores = show_scores_sklearn(gbr_model)\n",
        "gbr_scores"
      ],
      "metadata": {
        "id": "bwqZjpwVzzs4",
        "colab": {
          "base_uri": "https://localhost:8080/"
        },
        "outputId": "d6a7ec06-7249-4c2e-eff7-711e0379d778"
      },
      "execution_count": 97,
      "outputs": [
        {
          "output_type": "stream",
          "name": "stderr",
          "text": [
            "/usr/local/lib/python3.7/dist-packages/sklearn/base.py:444: UserWarning: X has feature names, but GradientBoostingRegressor was fitted without feature names\n",
            "  f\"X has feature names, but {self.__class__.__name__} was fitted without\"\n"
          ]
        },
        {
          "output_type": "execute_result",
          "data": {
            "text/plain": [
              "{'mae': 0.011150165356852912,\n",
              " 'mape': 8590427387098.071,\n",
              " 'mse': 0.0002031715338628958,\n",
              " 'rmse': 0.014253825236156637,\n",
              " 'train_mae': 0.007980873665494336,\n",
              " 'train_mape': 6261824194836.439,\n",
              " 'train_mse': 0.0001580161521175065,\n",
              " 'train_rmse': 0.012570447570293847}"
            ]
          },
          "metadata": {},
          "execution_count": 97
        }
      ]
    },
    {
      "cell_type": "code",
      "source": [
        "models.append('GradientTreeBoosting Regressor')\n",
        "\n",
        "mae.append(gbr_scores['mae'])\n",
        "mape.append(gbr_scores['mape'])\n",
        "mse.append(gbr_scores['mse']) \n",
        "rmse.append(gbr_scores['rmse'])\n",
        "\n",
        "scores = pd.DataFrame(\n",
        "    data={\n",
        "        'models': models,\n",
        "        'mae': mae,\n",
        "        'mape': mape,\n",
        "        'mse': mse,\n",
        "        'rmse': rmse,\n",
        "    }    \n",
        ")\n",
        "\n",
        "scores"
      ],
      "metadata": {
        "id": "GRfQqQOAz5kf",
        "colab": {
          "base_uri": "https://localhost:8080/",
          "height": 500
        },
        "outputId": "1c49ce60-7cd2-4aaf-ea63-0788a61e14cc"
      },
      "execution_count": 98,
      "outputs": [
        {
          "output_type": "execute_result",
          "data": {
            "text/html": [
              "\n",
              "  <div id=\"df-8a1f6747-d877-4464-9ce7-3bd972041cf3\">\n",
              "    <div class=\"colab-df-container\">\n",
              "      <div>\n",
              "<style scoped>\n",
              "    .dataframe tbody tr th:only-of-type {\n",
              "        vertical-align: middle;\n",
              "    }\n",
              "\n",
              "    .dataframe tbody tr th {\n",
              "        vertical-align: top;\n",
              "    }\n",
              "\n",
              "    .dataframe thead th {\n",
              "        text-align: right;\n",
              "    }\n",
              "</style>\n",
              "<table border=\"1\" class=\"dataframe\">\n",
              "  <thead>\n",
              "    <tr style=\"text-align: right;\">\n",
              "      <th></th>\n",
              "      <th>models</th>\n",
              "      <th>mae</th>\n",
              "      <th>mape</th>\n",
              "      <th>mse</th>\n",
              "      <th>rmse</th>\n",
              "    </tr>\n",
              "  </thead>\n",
              "  <tbody>\n",
              "    <tr>\n",
              "      <th>0</th>\n",
              "      <td>Naive</td>\n",
              "      <td>0.005769</td>\n",
              "      <td>6.731002e+05</td>\n",
              "      <td>0.000092</td>\n",
              "      <td>0.009608</td>\n",
              "    </tr>\n",
              "    <tr>\n",
              "      <th>1</th>\n",
              "      <td>Random Forest</td>\n",
              "      <td>0.013312</td>\n",
              "      <td>1.272589e+13</td>\n",
              "      <td>0.000281</td>\n",
              "      <td>0.016776</td>\n",
              "    </tr>\n",
              "    <tr>\n",
              "      <th>2</th>\n",
              "      <td>Random Forest Randomized Search</td>\n",
              "      <td>0.015331</td>\n",
              "      <td>8.694699e+12</td>\n",
              "      <td>0.000470</td>\n",
              "      <td>0.021679</td>\n",
              "    </tr>\n",
              "    <tr>\n",
              "      <th>3</th>\n",
              "      <td>KNeighboursRegressor</td>\n",
              "      <td>0.101333</td>\n",
              "      <td>1.086869e+14</td>\n",
              "      <td>0.032103</td>\n",
              "      <td>0.179172</td>\n",
              "    </tr>\n",
              "    <tr>\n",
              "      <th>4</th>\n",
              "      <td>KNeighboursRegressor Randomized Search</td>\n",
              "      <td>0.092571</td>\n",
              "      <td>1.003659e+14</td>\n",
              "      <td>0.032438</td>\n",
              "      <td>0.180106</td>\n",
              "    </tr>\n",
              "    <tr>\n",
              "      <th>5</th>\n",
              "      <td>Support Vector Regression</td>\n",
              "      <td>0.076839</td>\n",
              "      <td>1.129977e+14</td>\n",
              "      <td>0.006786</td>\n",
              "      <td>0.082377</td>\n",
              "    </tr>\n",
              "    <tr>\n",
              "      <th>6</th>\n",
              "      <td>Support Vector Regression Randomized Search</td>\n",
              "      <td>0.337034</td>\n",
              "      <td>4.049858e+14</td>\n",
              "      <td>0.123602</td>\n",
              "      <td>0.351571</td>\n",
              "    </tr>\n",
              "    <tr>\n",
              "      <th>7</th>\n",
              "      <td>VotingRegressor</td>\n",
              "      <td>0.059700</td>\n",
              "      <td>7.582855e+13</td>\n",
              "      <td>0.006482</td>\n",
              "      <td>0.080510</td>\n",
              "    </tr>\n",
              "    <tr>\n",
              "      <th>8</th>\n",
              "      <td>GradientTreeBoosting Regressor</td>\n",
              "      <td>0.011150</td>\n",
              "      <td>8.590427e+12</td>\n",
              "      <td>0.000203</td>\n",
              "      <td>0.014254</td>\n",
              "    </tr>\n",
              "  </tbody>\n",
              "</table>\n",
              "</div>\n",
              "      <button class=\"colab-df-convert\" onclick=\"convertToInteractive('df-8a1f6747-d877-4464-9ce7-3bd972041cf3')\"\n",
              "              title=\"Convert this dataframe to an interactive table.\"\n",
              "              style=\"display:none;\">\n",
              "        \n",
              "  <svg xmlns=\"http://www.w3.org/2000/svg\" height=\"24px\"viewBox=\"0 0 24 24\"\n",
              "       width=\"24px\">\n",
              "    <path d=\"M0 0h24v24H0V0z\" fill=\"none\"/>\n",
              "    <path d=\"M18.56 5.44l.94 2.06.94-2.06 2.06-.94-2.06-.94-.94-2.06-.94 2.06-2.06.94zm-11 1L8.5 8.5l.94-2.06 2.06-.94-2.06-.94L8.5 2.5l-.94 2.06-2.06.94zm10 10l.94 2.06.94-2.06 2.06-.94-2.06-.94-.94-2.06-.94 2.06-2.06.94z\"/><path d=\"M17.41 7.96l-1.37-1.37c-.4-.4-.92-.59-1.43-.59-.52 0-1.04.2-1.43.59L10.3 9.45l-7.72 7.72c-.78.78-.78 2.05 0 2.83L4 21.41c.39.39.9.59 1.41.59.51 0 1.02-.2 1.41-.59l7.78-7.78 2.81-2.81c.8-.78.8-2.07 0-2.86zM5.41 20L4 18.59l7.72-7.72 1.47 1.35L5.41 20z\"/>\n",
              "  </svg>\n",
              "      </button>\n",
              "      \n",
              "  <style>\n",
              "    .colab-df-container {\n",
              "      display:flex;\n",
              "      flex-wrap:wrap;\n",
              "      gap: 12px;\n",
              "    }\n",
              "\n",
              "    .colab-df-convert {\n",
              "      background-color: #E8F0FE;\n",
              "      border: none;\n",
              "      border-radius: 50%;\n",
              "      cursor: pointer;\n",
              "      display: none;\n",
              "      fill: #1967D2;\n",
              "      height: 32px;\n",
              "      padding: 0 0 0 0;\n",
              "      width: 32px;\n",
              "    }\n",
              "\n",
              "    .colab-df-convert:hover {\n",
              "      background-color: #E2EBFA;\n",
              "      box-shadow: 0px 1px 2px rgba(60, 64, 67, 0.3), 0px 1px 3px 1px rgba(60, 64, 67, 0.15);\n",
              "      fill: #174EA6;\n",
              "    }\n",
              "\n",
              "    [theme=dark] .colab-df-convert {\n",
              "      background-color: #3B4455;\n",
              "      fill: #D2E3FC;\n",
              "    }\n",
              "\n",
              "    [theme=dark] .colab-df-convert:hover {\n",
              "      background-color: #434B5C;\n",
              "      box-shadow: 0px 1px 3px 1px rgba(0, 0, 0, 0.15);\n",
              "      filter: drop-shadow(0px 1px 2px rgba(0, 0, 0, 0.3));\n",
              "      fill: #FFFFFF;\n",
              "    }\n",
              "  </style>\n",
              "\n",
              "      <script>\n",
              "        const buttonEl =\n",
              "          document.querySelector('#df-8a1f6747-d877-4464-9ce7-3bd972041cf3 button.colab-df-convert');\n",
              "        buttonEl.style.display =\n",
              "          google.colab.kernel.accessAllowed ? 'block' : 'none';\n",
              "\n",
              "        async function convertToInteractive(key) {\n",
              "          const element = document.querySelector('#df-8a1f6747-d877-4464-9ce7-3bd972041cf3');\n",
              "          const dataTable =\n",
              "            await google.colab.kernel.invokeFunction('convertToInteractive',\n",
              "                                                     [key], {});\n",
              "          if (!dataTable) return;\n",
              "\n",
              "          const docLinkHtml = 'Like what you see? Visit the ' +\n",
              "            '<a target=\"_blank\" href=https://colab.research.google.com/notebooks/data_table.ipynb>data table notebook</a>'\n",
              "            + ' to learn more about interactive tables.';\n",
              "          element.innerHTML = '';\n",
              "          dataTable['output_type'] = 'display_data';\n",
              "          await google.colab.output.renderOutput(dataTable, element);\n",
              "          const docLink = document.createElement('div');\n",
              "          docLink.innerHTML = docLinkHtml;\n",
              "          element.appendChild(docLink);\n",
              "        }\n",
              "      </script>\n",
              "    </div>\n",
              "  </div>\n",
              "  "
            ],
            "text/plain": [
              "                                        models       mae  ...       mse      rmse\n",
              "0                                        Naive  0.005769  ...  0.000092  0.009608\n",
              "1                                Random Forest  0.013312  ...  0.000281  0.016776\n",
              "2              Random Forest Randomized Search  0.015331  ...  0.000470  0.021679\n",
              "3                         KNeighboursRegressor  0.101333  ...  0.032103  0.179172\n",
              "4       KNeighboursRegressor Randomized Search  0.092571  ...  0.032438  0.180106\n",
              "5                    Support Vector Regression  0.076839  ...  0.006786  0.082377\n",
              "6  Support Vector Regression Randomized Search  0.337034  ...  0.123602  0.351571\n",
              "7                              VotingRegressor  0.059700  ...  0.006482  0.080510\n",
              "8               GradientTreeBoosting Regressor  0.011150  ...  0.000203  0.014254\n",
              "\n",
              "[9 rows x 5 columns]"
            ]
          },
          "metadata": {},
          "execution_count": 98
        }
      ]
    },
    {
      "cell_type": "code",
      "source": [
        "np.random.seed(42)\n",
        "rf_gbr_params = {\n",
        "    'loss' : ['squared_error', 'absolute_error', 'huber', 'quantile'],\n",
        "    'n_estimators': [100, 200, 400, 800, 1000, 1600],\n",
        "    'criterion': ['friedman_mse', 'squared_error', 'absolute_error'],\n",
        "    'max_features': ['auto', 'sqrt', 'log2'],\n",
        "    'max_depth': [1, 3, 5, 10, 20, 50],\n",
        "    'min_samples_leaf': [1, 5, 10, 20],\n",
        "    'learning_rate': [0.1, 0.001, 0.005, 0.0001]\n",
        "}\n",
        "\n",
        "rs_gbr_model = RandomizedSearchCV(\n",
        "    GradientBoostingRegressor(),\n",
        "    param_distributions=rf_gbr_params,\n",
        "    n_iter=5,\n",
        "    cv=5,\n",
        "    verbose=True\n",
        ")\n",
        "\n",
        "#Fit the randomized search cv model\n",
        "rs_gbr_model.fit(X_train, y_train)"
      ],
      "metadata": {
        "id": "hLuqkhXY0Fxp",
        "colab": {
          "base_uri": "https://localhost:8080/"
        },
        "outputId": "1720a233-1ae0-408e-8585-c17f1d4daede"
      },
      "execution_count": 99,
      "outputs": [
        {
          "output_type": "stream",
          "name": "stderr",
          "text": [
            "/usr/local/lib/python3.7/dist-packages/sklearn/ensemble/_gb.py:1859: FutureWarning: criterion='mae' was deprecated in version 0.24 and will be removed in version 1.1 (renaming of 0.26). The correct way of minimizing the absolute error is to use  loss='absolute_error' instead.\n",
            "  FutureWarning,\n"
          ]
        },
        {
          "output_type": "stream",
          "name": "stdout",
          "text": [
            "Fitting 5 folds for each of 5 candidates, totalling 25 fits\n"
          ]
        },
        {
          "output_type": "stream",
          "name": "stderr",
          "text": [
            "/usr/local/lib/python3.7/dist-packages/sklearn/ensemble/_gb.py:1859: FutureWarning: criterion='mae' was deprecated in version 0.24 and will be removed in version 1.1 (renaming of 0.26). The correct way of minimizing the absolute error is to use  loss='absolute_error' instead.\n",
            "  FutureWarning,\n",
            "/usr/local/lib/python3.7/dist-packages/sklearn/ensemble/_gb.py:1859: FutureWarning: criterion='mae' was deprecated in version 0.24 and will be removed in version 1.1 (renaming of 0.26). The correct way of minimizing the absolute error is to use  loss='absolute_error' instead.\n",
            "  FutureWarning,\n",
            "/usr/local/lib/python3.7/dist-packages/sklearn/ensemble/_gb.py:1859: FutureWarning: criterion='mae' was deprecated in version 0.24 and will be removed in version 1.1 (renaming of 0.26). The correct way of minimizing the absolute error is to use  loss='absolute_error' instead.\n",
            "  FutureWarning,\n",
            "/usr/local/lib/python3.7/dist-packages/sklearn/ensemble/_gb.py:1859: FutureWarning: criterion='mae' was deprecated in version 0.24 and will be removed in version 1.1 (renaming of 0.26). The correct way of minimizing the absolute error is to use  loss='absolute_error' instead.\n",
            "  FutureWarning,\n"
          ]
        },
        {
          "output_type": "execute_result",
          "data": {
            "text/plain": [
              "RandomizedSearchCV(cv=5, estimator=GradientBoostingRegressor(), n_iter=5,\n",
              "                   param_distributions={'criterion': ['friedman_mse',\n",
              "                                                      'squared_error',\n",
              "                                                      'absolute_error'],\n",
              "                                        'learning_rate': [0.1, 0.001, 0.005,\n",
              "                                                          0.0001],\n",
              "                                        'loss': ['squared_error',\n",
              "                                                 'absolute_error', 'huber',\n",
              "                                                 'quantile'],\n",
              "                                        'max_depth': [1, 3, 5, 10, 20, 50],\n",
              "                                        'max_features': ['auto', 'sqrt',\n",
              "                                                         'log2'],\n",
              "                                        'min_samples_leaf': [1, 5, 10, 20],\n",
              "                                        'n_estimators': [100, 200, 400, 800,\n",
              "                                                         1000, 1600]},\n",
              "                   verbose=True)"
            ]
          },
          "metadata": {},
          "execution_count": 99
        }
      ]
    },
    {
      "cell_type": "code",
      "source": [
        "rs_gbr_scores = show_scores_sklearn(rs_gbr_model)\n",
        "rs_gbr_scores"
      ],
      "metadata": {
        "id": "ehNDJGJI1P8j",
        "colab": {
          "base_uri": "https://localhost:8080/"
        },
        "outputId": "23969b7c-d120-4a39-ea9b-bdfb80643c6b"
      },
      "execution_count": 100,
      "outputs": [
        {
          "output_type": "stream",
          "name": "stderr",
          "text": [
            "/usr/local/lib/python3.7/dist-packages/sklearn/base.py:444: UserWarning: X has feature names, but GradientBoostingRegressor was fitted without feature names\n",
            "  f\"X has feature names, but {self.__class__.__name__} was fitted without\"\n"
          ]
        },
        {
          "output_type": "execute_result",
          "data": {
            "text/plain": [
              "{'mae': 0.03748164556776014,\n",
              " 'mape': 43462017046243.875,\n",
              " 'mse': 0.001768300048340665,\n",
              " 'rmse': 0.04205115989292882,\n",
              " 'train_mae': 0.018121074312188557,\n",
              " 'train_mape': 2249370700562.6855,\n",
              " 'train_mse': 0.0035944270140010654,\n",
              " 'train_rmse': 0.059953540462603754}"
            ]
          },
          "metadata": {},
          "execution_count": 100
        }
      ]
    },
    {
      "cell_type": "code",
      "source": [
        "models.append('GradientTreeBoosting Regressor Randomized Search')\n",
        "\n",
        "mae.append(rs_gbr_scores['mae'])\n",
        "mape.append(rs_gbr_scores['mape'])\n",
        "mse.append(rs_gbr_scores['mse']) \n",
        "rmse.append(rs_gbr_scores['rmse'])\n",
        "\n",
        "scores = pd.DataFrame(\n",
        "    data={\n",
        "        'models': models,\n",
        "        'mae': mae,\n",
        "        'mape': mape,\n",
        "        'mse': mse,\n",
        "        'rmse': rmse,\n",
        "    }    \n",
        ")\n",
        "\n",
        "scores"
      ],
      "metadata": {
        "id": "Zcoe3BXm1oXt",
        "colab": {
          "base_uri": "https://localhost:8080/",
          "height": 566
        },
        "outputId": "4d8a445a-ab93-4c6f-ca75-c89eebb2861d"
      },
      "execution_count": 101,
      "outputs": [
        {
          "output_type": "execute_result",
          "data": {
            "text/html": [
              "\n",
              "  <div id=\"df-448ef7aa-9cae-4758-b6cb-6806db650196\">\n",
              "    <div class=\"colab-df-container\">\n",
              "      <div>\n",
              "<style scoped>\n",
              "    .dataframe tbody tr th:only-of-type {\n",
              "        vertical-align: middle;\n",
              "    }\n",
              "\n",
              "    .dataframe tbody tr th {\n",
              "        vertical-align: top;\n",
              "    }\n",
              "\n",
              "    .dataframe thead th {\n",
              "        text-align: right;\n",
              "    }\n",
              "</style>\n",
              "<table border=\"1\" class=\"dataframe\">\n",
              "  <thead>\n",
              "    <tr style=\"text-align: right;\">\n",
              "      <th></th>\n",
              "      <th>models</th>\n",
              "      <th>mae</th>\n",
              "      <th>mape</th>\n",
              "      <th>mse</th>\n",
              "      <th>rmse</th>\n",
              "    </tr>\n",
              "  </thead>\n",
              "  <tbody>\n",
              "    <tr>\n",
              "      <th>0</th>\n",
              "      <td>Naive</td>\n",
              "      <td>0.005769</td>\n",
              "      <td>6.731002e+05</td>\n",
              "      <td>0.000092</td>\n",
              "      <td>0.009608</td>\n",
              "    </tr>\n",
              "    <tr>\n",
              "      <th>1</th>\n",
              "      <td>Random Forest</td>\n",
              "      <td>0.013312</td>\n",
              "      <td>1.272589e+13</td>\n",
              "      <td>0.000281</td>\n",
              "      <td>0.016776</td>\n",
              "    </tr>\n",
              "    <tr>\n",
              "      <th>2</th>\n",
              "      <td>Random Forest Randomized Search</td>\n",
              "      <td>0.015331</td>\n",
              "      <td>8.694699e+12</td>\n",
              "      <td>0.000470</td>\n",
              "      <td>0.021679</td>\n",
              "    </tr>\n",
              "    <tr>\n",
              "      <th>3</th>\n",
              "      <td>KNeighboursRegressor</td>\n",
              "      <td>0.101333</td>\n",
              "      <td>1.086869e+14</td>\n",
              "      <td>0.032103</td>\n",
              "      <td>0.179172</td>\n",
              "    </tr>\n",
              "    <tr>\n",
              "      <th>4</th>\n",
              "      <td>KNeighboursRegressor Randomized Search</td>\n",
              "      <td>0.092571</td>\n",
              "      <td>1.003659e+14</td>\n",
              "      <td>0.032438</td>\n",
              "      <td>0.180106</td>\n",
              "    </tr>\n",
              "    <tr>\n",
              "      <th>5</th>\n",
              "      <td>Support Vector Regression</td>\n",
              "      <td>0.076839</td>\n",
              "      <td>1.129977e+14</td>\n",
              "      <td>0.006786</td>\n",
              "      <td>0.082377</td>\n",
              "    </tr>\n",
              "    <tr>\n",
              "      <th>6</th>\n",
              "      <td>Support Vector Regression Randomized Search</td>\n",
              "      <td>0.337034</td>\n",
              "      <td>4.049858e+14</td>\n",
              "      <td>0.123602</td>\n",
              "      <td>0.351571</td>\n",
              "    </tr>\n",
              "    <tr>\n",
              "      <th>7</th>\n",
              "      <td>VotingRegressor</td>\n",
              "      <td>0.059700</td>\n",
              "      <td>7.582855e+13</td>\n",
              "      <td>0.006482</td>\n",
              "      <td>0.080510</td>\n",
              "    </tr>\n",
              "    <tr>\n",
              "      <th>8</th>\n",
              "      <td>GradientTreeBoosting Regressor</td>\n",
              "      <td>0.011150</td>\n",
              "      <td>8.590427e+12</td>\n",
              "      <td>0.000203</td>\n",
              "      <td>0.014254</td>\n",
              "    </tr>\n",
              "    <tr>\n",
              "      <th>9</th>\n",
              "      <td>GradientTreeBoosting Regressor Randomized Search</td>\n",
              "      <td>0.037482</td>\n",
              "      <td>4.346202e+13</td>\n",
              "      <td>0.001768</td>\n",
              "      <td>0.042051</td>\n",
              "    </tr>\n",
              "  </tbody>\n",
              "</table>\n",
              "</div>\n",
              "      <button class=\"colab-df-convert\" onclick=\"convertToInteractive('df-448ef7aa-9cae-4758-b6cb-6806db650196')\"\n",
              "              title=\"Convert this dataframe to an interactive table.\"\n",
              "              style=\"display:none;\">\n",
              "        \n",
              "  <svg xmlns=\"http://www.w3.org/2000/svg\" height=\"24px\"viewBox=\"0 0 24 24\"\n",
              "       width=\"24px\">\n",
              "    <path d=\"M0 0h24v24H0V0z\" fill=\"none\"/>\n",
              "    <path d=\"M18.56 5.44l.94 2.06.94-2.06 2.06-.94-2.06-.94-.94-2.06-.94 2.06-2.06.94zm-11 1L8.5 8.5l.94-2.06 2.06-.94-2.06-.94L8.5 2.5l-.94 2.06-2.06.94zm10 10l.94 2.06.94-2.06 2.06-.94-2.06-.94-.94-2.06-.94 2.06-2.06.94z\"/><path d=\"M17.41 7.96l-1.37-1.37c-.4-.4-.92-.59-1.43-.59-.52 0-1.04.2-1.43.59L10.3 9.45l-7.72 7.72c-.78.78-.78 2.05 0 2.83L4 21.41c.39.39.9.59 1.41.59.51 0 1.02-.2 1.41-.59l7.78-7.78 2.81-2.81c.8-.78.8-2.07 0-2.86zM5.41 20L4 18.59l7.72-7.72 1.47 1.35L5.41 20z\"/>\n",
              "  </svg>\n",
              "      </button>\n",
              "      \n",
              "  <style>\n",
              "    .colab-df-container {\n",
              "      display:flex;\n",
              "      flex-wrap:wrap;\n",
              "      gap: 12px;\n",
              "    }\n",
              "\n",
              "    .colab-df-convert {\n",
              "      background-color: #E8F0FE;\n",
              "      border: none;\n",
              "      border-radius: 50%;\n",
              "      cursor: pointer;\n",
              "      display: none;\n",
              "      fill: #1967D2;\n",
              "      height: 32px;\n",
              "      padding: 0 0 0 0;\n",
              "      width: 32px;\n",
              "    }\n",
              "\n",
              "    .colab-df-convert:hover {\n",
              "      background-color: #E2EBFA;\n",
              "      box-shadow: 0px 1px 2px rgba(60, 64, 67, 0.3), 0px 1px 3px 1px rgba(60, 64, 67, 0.15);\n",
              "      fill: #174EA6;\n",
              "    }\n",
              "\n",
              "    [theme=dark] .colab-df-convert {\n",
              "      background-color: #3B4455;\n",
              "      fill: #D2E3FC;\n",
              "    }\n",
              "\n",
              "    [theme=dark] .colab-df-convert:hover {\n",
              "      background-color: #434B5C;\n",
              "      box-shadow: 0px 1px 3px 1px rgba(0, 0, 0, 0.15);\n",
              "      filter: drop-shadow(0px 1px 2px rgba(0, 0, 0, 0.3));\n",
              "      fill: #FFFFFF;\n",
              "    }\n",
              "  </style>\n",
              "\n",
              "      <script>\n",
              "        const buttonEl =\n",
              "          document.querySelector('#df-448ef7aa-9cae-4758-b6cb-6806db650196 button.colab-df-convert');\n",
              "        buttonEl.style.display =\n",
              "          google.colab.kernel.accessAllowed ? 'block' : 'none';\n",
              "\n",
              "        async function convertToInteractive(key) {\n",
              "          const element = document.querySelector('#df-448ef7aa-9cae-4758-b6cb-6806db650196');\n",
              "          const dataTable =\n",
              "            await google.colab.kernel.invokeFunction('convertToInteractive',\n",
              "                                                     [key], {});\n",
              "          if (!dataTable) return;\n",
              "\n",
              "          const docLinkHtml = 'Like what you see? Visit the ' +\n",
              "            '<a target=\"_blank\" href=https://colab.research.google.com/notebooks/data_table.ipynb>data table notebook</a>'\n",
              "            + ' to learn more about interactive tables.';\n",
              "          element.innerHTML = '';\n",
              "          dataTable['output_type'] = 'display_data';\n",
              "          await google.colab.output.renderOutput(dataTable, element);\n",
              "          const docLink = document.createElement('div');\n",
              "          docLink.innerHTML = docLinkHtml;\n",
              "          element.appendChild(docLink);\n",
              "        }\n",
              "      </script>\n",
              "    </div>\n",
              "  </div>\n",
              "  "
            ],
            "text/plain": [
              "                                             models  ...      rmse\n",
              "0                                             Naive  ...  0.009608\n",
              "1                                     Random Forest  ...  0.016776\n",
              "2                   Random Forest Randomized Search  ...  0.021679\n",
              "3                              KNeighboursRegressor  ...  0.179172\n",
              "4            KNeighboursRegressor Randomized Search  ...  0.180106\n",
              "5                         Support Vector Regression  ...  0.082377\n",
              "6       Support Vector Regression Randomized Search  ...  0.351571\n",
              "7                                   VotingRegressor  ...  0.080510\n",
              "8                    GradientTreeBoosting Regressor  ...  0.014254\n",
              "9  GradientTreeBoosting Regressor Randomized Search  ...  0.042051\n",
              "\n",
              "[10 rows x 5 columns]"
            ]
          },
          "metadata": {},
          "execution_count": 101
        }
      ]
    },
    {
      "cell_type": "markdown",
      "source": [
        "### Plotting best model evaluations"
      ],
      "metadata": {
        "id": "pANNgLrORnOS"
      }
    },
    {
      "cell_type": "code",
      "source": [
        "# Plot forecasts\n",
        "rs_forecast = model.predict(X_test)\n",
        "rs_ideal_forecast = rs_model.predict(X_test)\n",
        "k_forecast = k_model.predict(X_test)\n",
        "rs_k_forecast = rs_k_model.predict(X_test)\n",
        "svr_forecast = svr_model.predict(X_test)\n",
        "rs_svr_forecast = rs_svr_model.predict(X_test) \n",
        "vr_forecast = vr_model.predict(X_test)\n",
        "gbr_forecast = gbr_model.predict(X_test)\n",
        "rs_gbr_forecast = rs_gbr_model.predict(X_test)"
      ],
      "metadata": {
        "colab": {
          "base_uri": "https://localhost:8080/"
        },
        "id": "SPyZblZPT9md",
        "outputId": "c79bcc75-a32c-4039-f43d-64c4e9a3c6ec"
      },
      "execution_count": 102,
      "outputs": [
        {
          "output_type": "stream",
          "name": "stderr",
          "text": [
            "/usr/local/lib/python3.7/dist-packages/sklearn/base.py:444: UserWarning: X has feature names, but RandomForestRegressor was fitted without feature names\n",
            "  f\"X has feature names, but {self.__class__.__name__} was fitted without\"\n",
            "/usr/local/lib/python3.7/dist-packages/sklearn/base.py:444: UserWarning: X has feature names, but RandomForestRegressor was fitted without feature names\n",
            "  f\"X has feature names, but {self.__class__.__name__} was fitted without\"\n",
            "/usr/local/lib/python3.7/dist-packages/sklearn/base.py:444: UserWarning: X has feature names, but KNeighborsRegressor was fitted without feature names\n",
            "  f\"X has feature names, but {self.__class__.__name__} was fitted without\"\n",
            "/usr/local/lib/python3.7/dist-packages/sklearn/base.py:444: UserWarning: X has feature names, but KNeighborsRegressor was fitted without feature names\n",
            "  f\"X has feature names, but {self.__class__.__name__} was fitted without\"\n",
            "/usr/local/lib/python3.7/dist-packages/sklearn/base.py:444: UserWarning: X has feature names, but SVR was fitted without feature names\n",
            "  f\"X has feature names, but {self.__class__.__name__} was fitted without\"\n",
            "/usr/local/lib/python3.7/dist-packages/sklearn/base.py:444: UserWarning: X has feature names, but SVR was fitted without feature names\n",
            "  f\"X has feature names, but {self.__class__.__name__} was fitted without\"\n",
            "/usr/local/lib/python3.7/dist-packages/sklearn/base.py:444: UserWarning: X has feature names, but RandomForestRegressor was fitted without feature names\n",
            "  f\"X has feature names, but {self.__class__.__name__} was fitted without\"\n",
            "/usr/local/lib/python3.7/dist-packages/sklearn/base.py:444: UserWarning: X has feature names, but KNeighborsRegressor was fitted without feature names\n",
            "  f\"X has feature names, but {self.__class__.__name__} was fitted without\"\n",
            "/usr/local/lib/python3.7/dist-packages/sklearn/base.py:444: UserWarning: X has feature names, but SVR was fitted without feature names\n",
            "  f\"X has feature names, but {self.__class__.__name__} was fitted without\"\n",
            "/usr/local/lib/python3.7/dist-packages/sklearn/base.py:444: UserWarning: X has feature names, but GradientBoostingRegressor was fitted without feature names\n",
            "  f\"X has feature names, but {self.__class__.__name__} was fitted without\"\n",
            "/usr/local/lib/python3.7/dist-packages/sklearn/base.py:444: UserWarning: X has feature names, but GradientBoostingRegressor was fitted without feature names\n",
            "  f\"X has feature names, but {self.__class__.__name__} was fitted without\"\n"
          ]
        }
      ]
    },
    {
      "cell_type": "code",
      "source": [
        "plt.figure(figsize=(18, 7))\n",
        "offset = 10 # offset the values by 300 timesteps \n",
        "plot_time_series(timesteps=X_time_test,  values=y_test, label=\"Test data\")\n",
        "plot_time_series(timesteps=X_time_test[1:], values=naive_forecast, format=\"-\",  label=\"Naive forecast\")\n",
        "plot_time_series(timesteps=X_time_test, start=offset, values=rs_forecast, label='RandomForest forecast')\n",
        "plot_time_series(timesteps=X_time_test,  values=rs_ideal_forecast, label='Randomized Search RandomForest forecast')\n",
        "# plot_time_series(timesteps=X_time_test, start=offset, values=k_forecast, label='KNR forecast')\n",
        "# plot_time_series(timesteps=X_time_test, start=offset, values=rs_k_forecast, label='Ideal KNR forecast')\n",
        "# plot_time_series(timesteps=X_time_test, start=offset, values=svr_forecast, label='SVR forecast')\n",
        "# plot_time_series(timesteps=X_time_test, start=offset, values=rs_svr_forecast, label='Ideal SVR forecast')\n",
        "# plot_time_series(timesteps=X_time_test, start=offset, values=vr_forecast, label='VotingRegressor forecast')\n",
        "plot_time_series(timesteps=X_time_test, start=offset, values=gbr_forecast, label='GradientTree forecast')\n",
        "plot_time_series(timesteps=X_time_test, values=rs_gbr_forecast, label='Randomized Search GradientTree forecast')\n",
        "plt.title('Best Model Predictions for Makati', fontsize=18, fontweight='bold')\n",
        "\n",
        "plt.show();"
      ],
      "metadata": {
        "colab": {
          "base_uri": "https://localhost:8080/",
          "height": 54
        },
        "id": "voq3SajUW68E",
        "outputId": "00318b96-98d6-4d07-fa34-dd532c6b19b3"
      },
      "execution_count": 103,
      "outputs": [
        {
          "output_type": "display_data",
          "data": {
            "image/png": "[encoded data removed]",
            "text/plain": [
              "<Figure size 1296x504 with 1 Axes>"
            ]
          },
          "metadata": {
            "needs_background": "light"
          }
        }
      ]
    },
    {
      "cell_type": "markdown",
      "source": [
        " ### Feature importance"
      ],
      "metadata": {
        "id": "tB_TlVhgf3Qa"
      }
    },
    {
      "cell_type": "code",
      "source": [
        "rs_gbr_model.best_params_"
      ],
      "metadata": {
        "colab": {
          "base_uri": "https://localhost:8080/"
        },
        "id": "I4MtLukZhhfw",
        "outputId": "ba1f3b66-0a5e-4a9a-b701-0c795da037bc"
      },
      "execution_count": 104,
      "outputs": [
        {
          "output_type": "execute_result",
          "data": {
            "text/plain": [
              "{'criterion': 'friedman_mse',\n",
              " 'learning_rate': 0.1,\n",
              " 'loss': 'absolute_error',\n",
              " 'max_depth': 50,\n",
              " 'max_features': 'log2',\n",
              " 'min_samples_leaf': 20,\n",
              " 'n_estimators': 400}"
            ]
          },
          "metadata": {},
          "execution_count": 104
        }
      ]
    },
    {
      "cell_type": "code",
      "source": [
        "np.random.seed(42)\n",
        "best_gbr_model = GradientBoostingRegressor(\n",
        "    criterion='friedman_mse',\n",
        "    learning_rate=0.1,\n",
        "    loss='absolute_error',\n",
        "    max_depth=50,\n",
        "    max_features='auto',\n",
        "    min_samples_leaf=20,\n",
        "    n_estimators=1800,\n",
        ")\n",
        "\n",
        "best_gbr_model.fit(X_train, y_train)"
      ],
      "metadata": {
        "colab": {
          "base_uri": "https://localhost:8080/"
        },
        "id": "d1v2Mh7KhweY",
        "outputId": "f3adef18-4698-452d-85ba-951329008207"
      },
      "execution_count": 105,
      "outputs": [
        {
          "output_type": "execute_result",
          "data": {
            "text/plain": [
              "GradientBoostingRegressor(loss='absolute_error', max_depth=50,\n",
              "                          max_features='auto', min_samples_leaf=20,\n",
              "                          n_estimators=1800)"
            ]
          },
          "metadata": {},
          "execution_count": 105
        }
      ]
    },
    {
      "cell_type": "code",
      "source": [
        "best_gbr_scores = show_scores_sklearn(best_gbr_model)\n",
        "best_gbr_scores"
      ],
      "metadata": {
        "colab": {
          "base_uri": "https://localhost:8080/"
        },
        "id": "Zpe3xzZKiF18",
        "outputId": "4e9141d5-8216-4975-dcf1-e80550b3052f"
      },
      "execution_count": 106,
      "outputs": [
        {
          "output_type": "stream",
          "name": "stderr",
          "text": [
            "/usr/local/lib/python3.7/dist-packages/sklearn/base.py:444: UserWarning: X has feature names, but GradientBoostingRegressor was fitted without feature names\n",
            "  f\"X has feature names, but {self.__class__.__name__} was fitted without\"\n"
          ]
        },
        {
          "output_type": "execute_result",
          "data": {
            "text/plain": [
              "{'mae': 0.007795243486115662,\n",
              " 'mape': 3525184257359.402,\n",
              " 'mse': 0.00013318160352518568,\n",
              " 'rmse': 0.011540433420161726,\n",
              " 'train_mae': 0.013601949049220203,\n",
              " 'train_mape': 373527320702.1322,\n",
              " 'train_mse': 0.002587928595041562,\n",
              " 'train_rmse': 0.050871687558420566}"
            ]
          },
          "metadata": {},
          "execution_count": 106
        }
      ]
    },
    {
      "cell_type": "code",
      "source": [
        "models.append('GradientTreeBoosting Regressor Manually Tuned')\n",
        "\n",
        "mae.append(best_gbr_scores['mae'])\n",
        "mape.append(best_gbr_scores['mape'])\n",
        "mse.append(best_gbr_scores['mse']) \n",
        "rmse.append(best_gbr_scores['rmse'])\n",
        "\n",
        "scores = pd.DataFrame(\n",
        "    data={\n",
        "        'models': models,\n",
        "        'mae': mae,\n",
        "        'mape': mape,\n",
        "        'mse': mse,\n",
        "        'rmse': rmse,\n",
        "    }    \n",
        ")\n",
        "\n",
        "scores"
      ],
      "metadata": {
        "colab": {
          "base_uri": "https://localhost:8080/",
          "height": 508
        },
        "id": "_wqdH43xvys0",
        "outputId": "54c81a76-a1c9-43f1-f45b-078081971c38"
      },
      "execution_count": 107,
      "outputs": [
        {
          "output_type": "execute_result",
          "data": {
            "text/html": [
              "\n",
              "  <div id=\"df-f0befa53-e1a8-4a9f-bca4-9140b71c570f\">\n",
              "    <div class=\"colab-df-container\">\n",
              "      <div>\n",
              "<style scoped>\n",
              "    .dataframe tbody tr th:only-of-type {\n",
              "        vertical-align: middle;\n",
              "    }\n",
              "\n",
              "    .dataframe tbody tr th {\n",
              "        vertical-align: top;\n",
              "    }\n",
              "\n",
              "    .dataframe thead th {\n",
              "        text-align: right;\n",
              "    }\n",
              "</style>\n",
              "<table border=\"1\" class=\"dataframe\">\n",
              "  <thead>\n",
              "    <tr style=\"text-align: right;\">\n",
              "      <th></th>\n",
              "      <th>models</th>\n",
              "      <th>mae</th>\n",
              "      <th>mape</th>\n",
              "      <th>mse</th>\n",
              "      <th>rmse</th>\n",
              "    </tr>\n",
              "  </thead>\n",
              "  <tbody>\n",
              "    <tr>\n",
              "      <th>0</th>\n",
              "      <td>Naive</td>\n",
              "      <td>0.005769</td>\n",
              "      <td>6.731002e+05</td>\n",
              "      <td>0.000092</td>\n",
              "      <td>0.009608</td>\n",
              "    </tr>\n",
              "    <tr>\n",
              "      <th>1</th>\n",
              "      <td>Random Forest</td>\n",
              "      <td>0.013312</td>\n",
              "      <td>1.272589e+13</td>\n",
              "      <td>0.000281</td>\n",
              "      <td>0.016776</td>\n",
              "    </tr>\n",
              "    <tr>\n",
              "      <th>2</th>\n",
              "      <td>Random Forest Randomized Search</td>\n",
              "      <td>0.015331</td>\n",
              "      <td>8.694699e+12</td>\n",
              "      <td>0.000470</td>\n",
              "      <td>0.021679</td>\n",
              "    </tr>\n",
              "    <tr>\n",
              "      <th>3</th>\n",
              "      <td>KNeighboursRegressor</td>\n",
              "      <td>0.101333</td>\n",
              "      <td>1.086869e+14</td>\n",
              "      <td>0.032103</td>\n",
              "      <td>0.179172</td>\n",
              "    </tr>\n",
              "    <tr>\n",
              "      <th>4</th>\n",
              "      <td>KNeighboursRegressor Randomized Search</td>\n",
              "      <td>0.092571</td>\n",
              "      <td>1.003659e+14</td>\n",
              "      <td>0.032438</td>\n",
              "      <td>0.180106</td>\n",
              "    </tr>\n",
              "    <tr>\n",
              "      <th>5</th>\n",
              "      <td>Support Vector Regression</td>\n",
              "      <td>0.076839</td>\n",
              "      <td>1.129977e+14</td>\n",
              "      <td>0.006786</td>\n",
              "      <td>0.082377</td>\n",
              "    </tr>\n",
              "    <tr>\n",
              "      <th>6</th>\n",
              "      <td>Support Vector Regression Randomized Search</td>\n",
              "      <td>0.337034</td>\n",
              "      <td>4.049858e+14</td>\n",
              "      <td>0.123602</td>\n",
              "      <td>0.351571</td>\n",
              "    </tr>\n",
              "    <tr>\n",
              "      <th>7</th>\n",
              "      <td>VotingRegressor</td>\n",
              "      <td>0.059700</td>\n",
              "      <td>7.582855e+13</td>\n",
              "      <td>0.006482</td>\n",
              "      <td>0.080510</td>\n",
              "    </tr>\n",
              "    <tr>\n",
              "      <th>8</th>\n",
              "      <td>GradientTreeBoosting Regressor</td>\n",
              "      <td>0.011150</td>\n",
              "      <td>8.590427e+12</td>\n",
              "      <td>0.000203</td>\n",
              "      <td>0.014254</td>\n",
              "    </tr>\n",
              "    <tr>\n",
              "      <th>9</th>\n",
              "      <td>GradientTreeBoosting Regressor Randomized Search</td>\n",
              "      <td>0.037482</td>\n",
              "      <td>4.346202e+13</td>\n",
              "      <td>0.001768</td>\n",
              "      <td>0.042051</td>\n",
              "    </tr>\n",
              "    <tr>\n",
              "      <th>10</th>\n",
              "      <td>GradientTreeBoosting Regressor Manually Tuned</td>\n",
              "      <td>0.007795</td>\n",
              "      <td>3.525184e+12</td>\n",
              "      <td>0.000133</td>\n",
              "      <td>0.011540</td>\n",
              "    </tr>\n",
              "  </tbody>\n",
              "</table>\n",
              "</div>\n",
              "      <button class=\"colab-df-convert\" onclick=\"convertToInteractive('df-f0befa53-e1a8-4a9f-bca4-9140b71c570f')\"\n",
              "              title=\"Convert this dataframe to an interactive table.\"\n",
              "              style=\"display:none;\">\n",
              "        \n",
              "  <svg xmlns=\"http://www.w3.org/2000/svg\" height=\"24px\"viewBox=\"0 0 24 24\"\n",
              "       width=\"24px\">\n",
              "    <path d=\"M0 0h24v24H0V0z\" fill=\"none\"/>\n",
              "    <path d=\"M18.56 5.44l.94 2.06.94-2.06 2.06-.94-2.06-.94-.94-2.06-.94 2.06-2.06.94zm-11 1L8.5 8.5l.94-2.06 2.06-.94-2.06-.94L8.5 2.5l-.94 2.06-2.06.94zm10 10l.94 2.06.94-2.06 2.06-.94-2.06-.94-.94-2.06-.94 2.06-2.06.94z\"/><path d=\"M17.41 7.96l-1.37-1.37c-.4-.4-.92-.59-1.43-.59-.52 0-1.04.2-1.43.59L10.3 9.45l-7.72 7.72c-.78.78-.78 2.05 0 2.83L4 21.41c.39.39.9.59 1.41.59.51 0 1.02-.2 1.41-.59l7.78-7.78 2.81-2.81c.8-.78.8-2.07 0-2.86zM5.41 20L4 18.59l7.72-7.72 1.47 1.35L5.41 20z\"/>\n",
              "  </svg>\n",
              "      </button>\n",
              "      \n",
              "  <style>\n",
              "    .colab-df-container {\n",
              "      display:flex;\n",
              "      flex-wrap:wrap;\n",
              "      gap: 12px;\n",
              "    }\n",
              "\n",
              "    .colab-df-convert {\n",
              "      background-color: #E8F0FE;\n",
              "      border: none;\n",
              "      border-radius: 50%;\n",
              "      cursor: pointer;\n",
              "      display: none;\n",
              "      fill: #1967D2;\n",
              "      height: 32px;\n",
              "      padding: 0 0 0 0;\n",
              "      width: 32px;\n",
              "    }\n",
              "\n",
              "    .colab-df-convert:hover {\n",
              "      background-color: #E2EBFA;\n",
              "      box-shadow: 0px 1px 2px rgba(60, 64, 67, 0.3), 0px 1px 3px 1px rgba(60, 64, 67, 0.15);\n",
              "      fill: #174EA6;\n",
              "    }\n",
              "\n",
              "    [theme=dark] .colab-df-convert {\n",
              "      background-color: #3B4455;\n",
              "      fill: #D2E3FC;\n",
              "    }\n",
              "\n",
              "    [theme=dark] .colab-df-convert:hover {\n",
              "      background-color: #434B5C;\n",
              "      box-shadow: 0px 1px 3px 1px rgba(0, 0, 0, 0.15);\n",
              "      filter: drop-shadow(0px 1px 2px rgba(0, 0, 0, 0.3));\n",
              "      fill: #FFFFFF;\n",
              "    }\n",
              "  </style>\n",
              "\n",
              "      <script>\n",
              "        const buttonEl =\n",
              "          document.querySelector('#df-f0befa53-e1a8-4a9f-bca4-9140b71c570f button.colab-df-convert');\n",
              "        buttonEl.style.display =\n",
              "          google.colab.kernel.accessAllowed ? 'block' : 'none';\n",
              "\n",
              "        async function convertToInteractive(key) {\n",
              "          const element = document.querySelector('#df-f0befa53-e1a8-4a9f-bca4-9140b71c570f');\n",
              "          const dataTable =\n",
              "            await google.colab.kernel.invokeFunction('convertToInteractive',\n",
              "                                                     [key], {});\n",
              "          if (!dataTable) return;\n",
              "\n",
              "          const docLinkHtml = 'Like what you see? Visit the ' +\n",
              "            '<a target=\"_blank\" href=https://colab.research.google.com/notebooks/data_table.ipynb>data table notebook</a>'\n",
              "            + ' to learn more about interactive tables.';\n",
              "          element.innerHTML = '';\n",
              "          dataTable['output_type'] = 'display_data';\n",
              "          await google.colab.output.renderOutput(dataTable, element);\n",
              "          const docLink = document.createElement('div');\n",
              "          docLink.innerHTML = docLinkHtml;\n",
              "          element.appendChild(docLink);\n",
              "        }\n",
              "      </script>\n",
              "    </div>\n",
              "  </div>\n",
              "  "
            ],
            "text/plain": [
              "                                              models  ...      rmse\n",
              "0                                              Naive  ...  0.009608\n",
              "1                                      Random Forest  ...  0.016776\n",
              "2                    Random Forest Randomized Search  ...  0.021679\n",
              "3                               KNeighboursRegressor  ...  0.179172\n",
              "4             KNeighboursRegressor Randomized Search  ...  0.180106\n",
              "5                          Support Vector Regression  ...  0.082377\n",
              "6        Support Vector Regression Randomized Search  ...  0.351571\n",
              "7                                    VotingRegressor  ...  0.080510\n",
              "8                     GradientTreeBoosting Regressor  ...  0.014254\n",
              "9   GradientTreeBoosting Regressor Randomized Search  ...  0.042051\n",
              "10     GradientTreeBoosting Regressor Manually Tuned  ...  0.011540\n",
              "\n",
              "[11 rows x 5 columns]"
            ]
          },
          "metadata": {},
          "execution_count": 107
        }
      ]
    },
    {
      "cell_type": "code",
      "source": [
        "best_gbr_forecast = best_gbr_model.predict(X_test)"
      ],
      "metadata": {
        "colab": {
          "base_uri": "https://localhost:8080/"
        },
        "id": "QWMaEYYBiIze",
        "outputId": "a30a7977-477b-463f-f136-afa8ad69fd58"
      },
      "execution_count": 108,
      "outputs": [
        {
          "output_type": "stream",
          "name": "stderr",
          "text": [
            "/usr/local/lib/python3.7/dist-packages/sklearn/base.py:444: UserWarning: X has feature names, but GradientBoostingRegressor was fitted without feature names\n",
            "  f\"X has feature names, but {self.__class__.__name__} was fitted without\"\n"
          ]
        }
      ]
    },
    {
      "cell_type": "code",
      "source": [
        "plt.figure(figsize=(10, 7))\n",
        "offset = 10 # offset the values by 300 timesteps \n",
        "plot_time_series(timesteps=X_time_test,  values=y_test, label=\"Test data\")\n",
        "plot_time_series(timesteps=X_time_test[1:], values=naive_forecast, format=\"-\",  label=\"Naive forecast\")\n",
        "# plot_time_series(timesteps=X_time_test, values=rs_forecast, label='RandomForest forecast')\n",
        "# plot_time_series(timesteps=X_time_test,   values=rs_ideal_forecast, label='Randomized Search RandomForest forecast')\n",
        "# plot_time_series(timesteps=X_time_test, start=offset, values=k_forecast, label='KNR forecast')\n",
        "# plot_time_series(timesteps=X_time_test, start=offset, values=rs_k_forecast, label='Ideal KNR forecast')\n",
        "# plot_time_series(timesteps=X_time_test, start=offset, values=svr_forecast, label='SVR forecast')\n",
        "# plot_time_series(timesteps=X_time_test, start=offset, values=rs_svr_forecast, label='Ideal SVR forecast')\n",
        "# plot_time_series(timesteps=X_time_test, start=offset, values=vr_forecast, label='VotingRegressor forecast')\n",
        "plot_time_series(timesteps=X_time_test, values=gbr_forecast, label='Base GradientTree forecast')\n",
        "# plot_time_series(timesteps=X_time_test,  values=rs_gbr_forecast, label='Randomized Search GradientTree forecast')\n",
        "# plot_time_series(timesteps=X_time_test,  values=best_gbr_forecast, label='Best GradientTree forecast')\n",
        "plt.title('Base Gradient Tree Model vs Base Model in Makati', fontsize=18, fontweight='bold')\n",
        "\n",
        "plt.show();"
      ],
      "metadata": {
        "colab": {
          "base_uri": "https://localhost:8080/",
          "height": 462
        },
        "id": "2bWGfa12iauK",
        "outputId": "4447350a-ec78-4190-b7ed-8bbdc8c7f135"
      },
      "execution_count": 128,
      "outputs": [
        {
          "output_type": "display_data",
          "data": {
            "image/png": "[encoded data removed]",
            "text/plain": [
              "<Figure size 720x504 with 1 Axes>"
            ]
          },
          "metadata": {
            "needs_background": "light"
          }
        }
      ]
    },
    {
      "cell_type": "code",
      "source": [
        "plt.figure(figsize=(10, 7))\n",
        "offset = 10 # offset the values by 300 timesteps \n",
        "plot_time_series(timesteps=X_time_test,  values=y_test, label=\"Test data\")\n",
        "plot_time_series(timesteps=X_time_test[1:], values=naive_forecast, format=\"-\", label=\"Naive forecast\");\n",
        "plot_time_series(timesteps=X_time_test,  values=gbr_forecast, label='Base GradientTree forecast')\n",
        "plot_time_series(timesteps=X_time_test,  values=best_gbr_forecast, label='Manually Tuned GradientTree forecast')\n",
        "plt.title('Manually Tuned Gradient Tree Model vs Base \\nGradient Tree Model vs Base Model in Makati', fontsize=16, fontweight='bold')"
      ],
      "metadata": {
        "colab": {
          "base_uri": "https://localhost:8080/",
          "height": 496
        },
        "id": "H6cMUgVio0JM",
        "outputId": "09d376a2-370d-4360-a05f-a0729cdb6a02"
      },
      "execution_count": 132,
      "outputs": [
        {
          "output_type": "execute_result",
          "data": {
            "text/plain": [
              "Text(0.5, 1.0, 'Manually Tuned Gradient Tree Model vs Base \\nGradient Tree Model vs Base Model in Makati')"
            ]
          },
          "metadata": {},
          "execution_count": 132
        },
        {
          "output_type": "display_data",
          "data": {
            "image/png": "[encoded data removed]",
            "text/plain": [
              "<Figure size 720x504 with 1 Axes>"
            ]
          },
          "metadata": {
            "needs_background": "light"
          }
        }
      ]
    },
    {
      "cell_type": "code",
      "source": [
        "best_gbr_model.feature_importances_"
      ],
      "metadata": {
        "colab": {
          "base_uri": "https://localhost:8080/"
        },
        "id": "0oaL23KPieCm",
        "outputId": "4eae316d-869c-4bb5-ae23-0f3f75a5fbf5"
      },
      "execution_count": null,
      "outputs": [
        {
          "output_type": "execute_result",
          "data": {
            "text/plain": [
              "array([0.        , 0.        , 0.        , 0.        , 0.01291869,\n",
              "       0.00181248, 0.00528008, 0.02170705, 0.01989679, 0.00225814,\n",
              "       0.05316822, 0.02849532, 0.0253533 , 0.01746418, 0.        ,\n",
              "       0.00690872, 0.        , 0.        , 0.00795176, 0.03766903,\n",
              "       0.00368655, 0.66167107, 0.01068674, 0.01199776, 0.01067595,\n",
              "       0.0130246 , 0.03652388, 0.0108497 ])"
            ]
          },
          "metadata": {},
          "execution_count": 687
        }
      ]
    },
    {
      "cell_type": "code",
      "source": [
        "def plot_features(columns, importances, n=20):\n",
        "    df = (pd.DataFrame({\n",
        "        'features': columns,\n",
        "        'feature_importances': importances\n",
        "    }).sort_values('feature_importances', ascending=False).reset_index(drop=True))\n",
        "\n",
        "    #plot df\n",
        "    fig, ax = plt.subplots()\n",
        "    ax.barh(df['features'][:n], df['feature_importances'][:n])\n",
        "    ax.set_ylabel('Features')\n",
        "    ax.set_xlabel('Feature Importance')\n",
        "    ax.invert_yaxis()\n",
        "    plt.title('Feature Importance in Makati', fontweight='bold', fontsize=14)"
      ],
      "metadata": {
        "id": "nGmdiARHjDNZ"
      },
      "execution_count": null,
      "outputs": []
    },
    {
      "cell_type": "code",
      "source": [
        "plot_features(X_columns, best_gbr_model.feature_importances_)"
      ],
      "metadata": {
        "colab": {
          "base_uri": "https://localhost:8080/",
          "height": 296
        },
        "id": "5tqXm-lfjN8w",
        "outputId": "c7913394-854f-416b-9908-8d7d33026422"
      },
      "execution_count": null,
      "outputs": [
        {
          "output_type": "display_data",
          "data": {
            "image/png": "[encoded data removed]",
            "text/plain": [
              "<Figure size 432x288 with 1 Axes>"
            ]
          },
          "metadata": {
            "needs_background": "light"
          }
        }
      ]
    },
    {
      "cell_type": "code",
      "source": [
        "scores"
      ],
      "metadata": {
        "colab": {
          "base_uri": "https://localhost:8080/",
          "height": 394
        },
        "id": "tuWH11-vm28W",
        "outputId": "a6e1aedf-19d6-435b-bc2a-92d8689bdcbb"
      },
      "execution_count": null,
      "outputs": [
        {
          "output_type": "execute_result",
          "data": {
            "text/html": [
              "\n",
              "  <div id=\"df-75c78b5b-8090-41f5-bbca-79489298c38d\">\n",
              "    <div class=\"colab-df-container\">\n",
              "      <div>\n",
              "<style scoped>\n",
              "    .dataframe tbody tr th:only-of-type {\n",
              "        vertical-align: middle;\n",
              "    }\n",
              "\n",
              "    .dataframe tbody tr th {\n",
              "        vertical-align: top;\n",
              "    }\n",
              "\n",
              "    .dataframe thead th {\n",
              "        text-align: right;\n",
              "    }\n",
              "</style>\n",
              "<table border=\"1\" class=\"dataframe\">\n",
              "  <thead>\n",
              "    <tr style=\"text-align: right;\">\n",
              "      <th></th>\n",
              "      <th>models</th>\n",
              "      <th>mae</th>\n",
              "      <th>mape</th>\n",
              "      <th>mse</th>\n",
              "      <th>rmse</th>\n",
              "    </tr>\n",
              "  </thead>\n",
              "  <tbody>\n",
              "    <tr>\n",
              "      <th>0</th>\n",
              "      <td>Naive</td>\n",
              "      <td>0.005769</td>\n",
              "      <td>6.731002e+05</td>\n",
              "      <td>0.000092</td>\n",
              "      <td>0.009608</td>\n",
              "    </tr>\n",
              "    <tr>\n",
              "      <th>1</th>\n",
              "      <td>Random Forest</td>\n",
              "      <td>0.013312</td>\n",
              "      <td>1.272589e+13</td>\n",
              "      <td>0.000281</td>\n",
              "      <td>0.016776</td>\n",
              "    </tr>\n",
              "    <tr>\n",
              "      <th>2</th>\n",
              "      <td>Random Forest Randomized Search</td>\n",
              "      <td>0.015331</td>\n",
              "      <td>8.694699e+12</td>\n",
              "      <td>0.000470</td>\n",
              "      <td>0.021679</td>\n",
              "    </tr>\n",
              "    <tr>\n",
              "      <th>3</th>\n",
              "      <td>KNeighboursRegressor</td>\n",
              "      <td>0.101333</td>\n",
              "      <td>1.086869e+14</td>\n",
              "      <td>0.032103</td>\n",
              "      <td>0.179172</td>\n",
              "    </tr>\n",
              "    <tr>\n",
              "      <th>4</th>\n",
              "      <td>KNeighboursRegressor Randomized Search</td>\n",
              "      <td>0.092571</td>\n",
              "      <td>1.003659e+14</td>\n",
              "      <td>0.032438</td>\n",
              "      <td>0.180106</td>\n",
              "    </tr>\n",
              "    <tr>\n",
              "      <th>5</th>\n",
              "      <td>Support Vector Regression</td>\n",
              "      <td>0.076839</td>\n",
              "      <td>1.129977e+14</td>\n",
              "      <td>0.006786</td>\n",
              "      <td>0.082377</td>\n",
              "    </tr>\n",
              "    <tr>\n",
              "      <th>6</th>\n",
              "      <td>Support Vector Regression Randomized Search</td>\n",
              "      <td>0.337034</td>\n",
              "      <td>4.049858e+14</td>\n",
              "      <td>0.123602</td>\n",
              "      <td>0.351571</td>\n",
              "    </tr>\n",
              "    <tr>\n",
              "      <th>7</th>\n",
              "      <td>VotingRegressor</td>\n",
              "      <td>0.059700</td>\n",
              "      <td>7.582855e+13</td>\n",
              "      <td>0.006482</td>\n",
              "      <td>0.080510</td>\n",
              "    </tr>\n",
              "    <tr>\n",
              "      <th>8</th>\n",
              "      <td>GradientTreeBoosting Regressor</td>\n",
              "      <td>0.011150</td>\n",
              "      <td>8.590427e+12</td>\n",
              "      <td>0.000203</td>\n",
              "      <td>0.014254</td>\n",
              "    </tr>\n",
              "    <tr>\n",
              "      <th>9</th>\n",
              "      <td>GradientTreeBoosting Regressor Randomized Search</td>\n",
              "      <td>0.037482</td>\n",
              "      <td>4.346202e+13</td>\n",
              "      <td>0.001768</td>\n",
              "      <td>0.042051</td>\n",
              "    </tr>\n",
              "    <tr>\n",
              "      <th>10</th>\n",
              "      <td>GradientTreeBoosting Regressor Manually Tuned</td>\n",
              "      <td>0.007795</td>\n",
              "      <td>3.525184e+12</td>\n",
              "      <td>0.000133</td>\n",
              "      <td>0.011540</td>\n",
              "    </tr>\n",
              "  </tbody>\n",
              "</table>\n",
              "</div>\n",
              "      <button class=\"colab-df-convert\" onclick=\"convertToInteractive('df-75c78b5b-8090-41f5-bbca-79489298c38d')\"\n",
              "              title=\"Convert this dataframe to an interactive table.\"\n",
              "              style=\"display:none;\">\n",
              "        \n",
              "  <svg xmlns=\"http://www.w3.org/2000/svg\" height=\"24px\"viewBox=\"0 0 24 24\"\n",
              "       width=\"24px\">\n",
              "    <path d=\"M0 0h24v24H0V0z\" fill=\"none\"/>\n",
              "    <path d=\"M18.56 5.44l.94 2.06.94-2.06 2.06-.94-2.06-.94-.94-2.06-.94 2.06-2.06.94zm-11 1L8.5 8.5l.94-2.06 2.06-.94-2.06-.94L8.5 2.5l-.94 2.06-2.06.94zm10 10l.94 2.06.94-2.06 2.06-.94-2.06-.94-.94-2.06-.94 2.06-2.06.94z\"/><path d=\"M17.41 7.96l-1.37-1.37c-.4-.4-.92-.59-1.43-.59-.52 0-1.04.2-1.43.59L10.3 9.45l-7.72 7.72c-.78.78-.78 2.05 0 2.83L4 21.41c.39.39.9.59 1.41.59.51 0 1.02-.2 1.41-.59l7.78-7.78 2.81-2.81c.8-.78.8-2.07 0-2.86zM5.41 20L4 18.59l7.72-7.72 1.47 1.35L5.41 20z\"/>\n",
              "  </svg>\n",
              "      </button>\n",
              "      \n",
              "  <style>\n",
              "    .colab-df-container {\n",
              "      display:flex;\n",
              "      flex-wrap:wrap;\n",
              "      gap: 12px;\n",
              "    }\n",
              "\n",
              "    .colab-df-convert {\n",
              "      background-color: #E8F0FE;\n",
              "      border: none;\n",
              "      border-radius: 50%;\n",
              "      cursor: pointer;\n",
              "      display: none;\n",
              "      fill: #1967D2;\n",
              "      height: 32px;\n",
              "      padding: 0 0 0 0;\n",
              "      width: 32px;\n",
              "    }\n",
              "\n",
              "    .colab-df-convert:hover {\n",
              "      background-color: #E2EBFA;\n",
              "      box-shadow: 0px 1px 2px rgba(60, 64, 67, 0.3), 0px 1px 3px 1px rgba(60, 64, 67, 0.15);\n",
              "      fill: #174EA6;\n",
              "    }\n",
              "\n",
              "    [theme=dark] .colab-df-convert {\n",
              "      background-color: #3B4455;\n",
              "      fill: #D2E3FC;\n",
              "    }\n",
              "\n",
              "    [theme=dark] .colab-df-convert:hover {\n",
              "      background-color: #434B5C;\n",
              "      box-shadow: 0px 1px 3px 1px rgba(0, 0, 0, 0.15);\n",
              "      filter: drop-shadow(0px 1px 2px rgba(0, 0, 0, 0.3));\n",
              "      fill: #FFFFFF;\n",
              "    }\n",
              "  </style>\n",
              "\n",
              "      <script>\n",
              "        const buttonEl =\n",
              "          document.querySelector('#df-75c78b5b-8090-41f5-bbca-79489298c38d button.colab-df-convert');\n",
              "        buttonEl.style.display =\n",
              "          google.colab.kernel.accessAllowed ? 'block' : 'none';\n",
              "\n",
              "        async function convertToInteractive(key) {\n",
              "          const element = document.querySelector('#df-75c78b5b-8090-41f5-bbca-79489298c38d');\n",
              "          const dataTable =\n",
              "            await google.colab.kernel.invokeFunction('convertToInteractive',\n",
              "                                                     [key], {});\n",
              "          if (!dataTable) return;\n",
              "\n",
              "          const docLinkHtml = 'Like what you see? Visit the ' +\n",
              "            '<a target=\"_blank\" href=https://colab.research.google.com/notebooks/data_table.ipynb>data table notebook</a>'\n",
              "            + ' to learn more about interactive tables.';\n",
              "          element.innerHTML = '';\n",
              "          dataTable['output_type'] = 'display_data';\n",
              "          await google.colab.output.renderOutput(dataTable, element);\n",
              "          const docLink = document.createElement('div');\n",
              "          docLink.innerHTML = docLinkHtml;\n",
              "          element.appendChild(docLink);\n",
              "        }\n",
              "      </script>\n",
              "    </div>\n",
              "  </div>\n",
              "  "
            ],
            "text/plain": [
              "                                              models  ...      rmse\n",
              "0                                              Naive  ...  0.009608\n",
              "1                                      Random Forest  ...  0.016776\n",
              "2                    Random Forest Randomized Search  ...  0.021679\n",
              "3                               KNeighboursRegressor  ...  0.179172\n",
              "4             KNeighboursRegressor Randomized Search  ...  0.180106\n",
              "5                          Support Vector Regression  ...  0.082377\n",
              "6        Support Vector Regression Randomized Search  ...  0.351571\n",
              "7                                    VotingRegressor  ...  0.080510\n",
              "8                     GradientTreeBoosting Regressor  ...  0.014254\n",
              "9   GradientTreeBoosting Regressor Randomized Search  ...  0.042051\n",
              "10     GradientTreeBoosting Regressor Manually Tuned  ...  0.011540\n",
              "\n",
              "[11 rows x 5 columns]"
            ]
          },
          "metadata": {},
          "execution_count": 690
        }
      ]
    },
    {
      "cell_type": "code",
      "source": [
        " !jupyter nbconvert --to html /content/drive/MyDrive/prac-research/actual/RandomForrestRegressor/Makati.ipynb"
      ],
      "metadata": {
        "colab": {
          "base_uri": "https://localhost:8080/"
        },
        "id": "IinlNW0dtJh8",
        "outputId": "bc20b3cc-e2f1-4540-ccad-abe9c51cf9aa"
      },
      "execution_count": null,
      "outputs": [
        {
          "output_type": "stream",
          "name": "stdout",
          "text": [
            "[NbConvertApp] Converting notebook /content/drive/MyDrive/prac-research/actual/RandomForrestRegressor/Makati.ipynb to html\n",
            "[NbConvertApp] Writing 842296 bytes to /content/drive/MyDrive/prac-research/actual/RandomForrestRegressor/Makati.html\n"
          ]
        }
      ]
    },
    {
      "cell_type": "code",
      "source": [
        ""
      ],
      "metadata": {
        "id": "zkHpSoqKwfRm"
      },
      "execution_count": null,
      "outputs": []
    }
  ],
  "metadata": {
    "accelerator": "GPU",
    "colab": {
      "name": "Makati",
      "provenance": [],
      "mount_file_id": "1a2iJZC9eEDhkD4CTqzJnkUp_kS8c8XHq",
      "authorship_tag": "ABX9TyPNwpOsqNalpuGKWkYJSOf/",
      "include_colab_link": true
    },
    "kernelspec": {
      "display_name": "Python 3",
      "name": "python3"
    },
    "language_info": {
      "name": "python"
    }
  },
  "nbformat": 4,
  "nbformat_minor": 0
}