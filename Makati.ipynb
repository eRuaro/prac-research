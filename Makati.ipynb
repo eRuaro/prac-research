{
  "cells": [
    {
      "cell_type": "markdown",
      "metadata": {
        "id": "view-in-github",
        "colab_type": "text"
      },
      "source": [
        "<a href=\"https://colab.research.google.com/github/eRuaro/prac-research/blob/main/Makati.ipynb\" target=\"_parent\"><img src=\"https://colab.research.google.com/assets/colab-badge.svg\" alt=\"Open In Colab\"/></a>"
      ]
    },
    {
      "cell_type": "code",
      "execution_count": 3,
      "metadata": {
        "id": "RYOLABWb1Q1j"
      },
      "outputs": [],
      "source": [
        "path = '/content/drive/MyDrive/prac-research/actual/data/research-data-makati.csv'\n",
        "\n",
        "import numpy as np\n",
        "import pandas as pd\n",
        "%matplotlib inline \n",
        "import matplotlib.pyplot as plt \n",
        "import sklearn"
      ]
    },
    {
      "cell_type": "code",
      "execution_count": 4,
      "metadata": {
        "colab": {
          "base_uri": "https://localhost:8080/",
          "height": 357
        },
        "id": "hcv8HmpN3qX9",
        "outputId": "c014bb7e-7f71-4e2f-9f13-84c8b24931a4"
      },
      "outputs": [
        {
          "output_type": "execute_result",
          "data": {
            "text/plain": [
              "        name       region      country  longitude  latitude  \\\n",
              "2227  Makati  Makati City  Philippines     121.03     14.57   \n",
              "2228  Makati  Makati City  Philippines     121.03     14.57   \n",
              "2229  Makati  Makati City  Philippines     121.03     14.57   \n",
              "2230  Makati  Makati City  Philippines     121.03     14.57   \n",
              "2231  Makati  Makati City  Philippines     121.03     14.57   \n",
              "\n",
              "                    time  temp_c  is_day      condition  wind_kph  \\\n",
              "2227 2022-03-12 19:00:00    28.3       0  Partly cloudy      15.4   \n",
              "2228 2022-03-12 20:00:00    27.8       0          Clear      13.4   \n",
              "2229 2022-03-12 21:00:00    27.3       0          Clear      11.5   \n",
              "2230 2022-03-12 22:00:00    27.1       0          Clear      10.8   \n",
              "2231 2022-03-12 23:00:00    26.8       0  Partly cloudy      10.1   \n",
              "\n",
              "      wind_degree wind_dir  air_pressure  precipitation  relative_humidity  \\\n",
              "2227           85        E       1008.35           0.01               73.2   \n",
              "2228           85        E       1008.31           0.01               73.4   \n",
              "2229           85        E       1008.26           0.01               73.6   \n",
              "2230           83        E       1008.87           0.01               73.1   \n",
              "2231           80        E       1009.48           0.01               72.6   \n",
              "\n",
              "      cloud  feelslike_c  will_it_rain  chance_of_rain  \n",
              "2227     37         31.1             0               1  \n",
              "2228     29         30.5             0               0  \n",
              "2229     22         29.9             0               0  \n",
              "2230     29         29.6             0               0  \n",
              "2231     37         29.3             0               1  "
            ],
            "text/html": [
              "\n",
              "  <div id=\"df-fc774ed7-b7b8-48d7-9cc6-b49733c6e347\">\n",
              "    <div class=\"colab-df-container\">\n",
              "      <div>\n",
              "<style scoped>\n",
              "    .dataframe tbody tr th:only-of-type {\n",
              "        vertical-align: middle;\n",
              "    }\n",
              "\n",
              "    .dataframe tbody tr th {\n",
              "        vertical-align: top;\n",
              "    }\n",
              "\n",
              "    .dataframe thead th {\n",
              "        text-align: right;\n",
              "    }\n",
              "</style>\n",
              "<table border=\"1\" class=\"dataframe\">\n",
              "  <thead>\n",
              "    <tr style=\"text-align: right;\">\n",
              "      <th></th>\n",
              "      <th>name</th>\n",
              "      <th>region</th>\n",
              "      <th>country</th>\n",
              "      <th>longitude</th>\n",
              "      <th>latitude</th>\n",
              "      <th>time</th>\n",
              "      <th>temp_c</th>\n",
              "      <th>is_day</th>\n",
              "      <th>condition</th>\n",
              "      <th>wind_kph</th>\n",
              "      <th>wind_degree</th>\n",
              "      <th>wind_dir</th>\n",
              "      <th>air_pressure</th>\n",
              "      <th>precipitation</th>\n",
              "      <th>relative_humidity</th>\n",
              "      <th>cloud</th>\n",
              "      <th>feelslike_c</th>\n",
              "      <th>will_it_rain</th>\n",
              "      <th>chance_of_rain</th>\n",
              "    </tr>\n",
              "  </thead>\n",
              "  <tbody>\n",
              "    <tr>\n",
              "      <th>2227</th>\n",
              "      <td>Makati</td>\n",
              "      <td>Makati City</td>\n",
              "      <td>Philippines</td>\n",
              "      <td>121.03</td>\n",
              "      <td>14.57</td>\n",
              "      <td>2022-03-12 19:00:00</td>\n",
              "      <td>28.3</td>\n",
              "      <td>0</td>\n",
              "      <td>Partly cloudy</td>\n",
              "      <td>15.4</td>\n",
              "      <td>85</td>\n",
              "      <td>E</td>\n",
              "      <td>1008.35</td>\n",
              "      <td>0.01</td>\n",
              "      <td>73.2</td>\n",
              "      <td>37</td>\n",
              "      <td>31.1</td>\n",
              "      <td>0</td>\n",
              "      <td>1</td>\n",
              "    </tr>\n",
              "    <tr>\n",
              "      <th>2228</th>\n",
              "      <td>Makati</td>\n",
              "      <td>Makati City</td>\n",
              "      <td>Philippines</td>\n",
              "      <td>121.03</td>\n",
              "      <td>14.57</td>\n",
              "      <td>2022-03-12 20:00:00</td>\n",
              "      <td>27.8</td>\n",
              "      <td>0</td>\n",
              "      <td>Clear</td>\n",
              "      <td>13.4</td>\n",
              "      <td>85</td>\n",
              "      <td>E</td>\n",
              "      <td>1008.31</td>\n",
              "      <td>0.01</td>\n",
              "      <td>73.4</td>\n",
              "      <td>29</td>\n",
              "      <td>30.5</td>\n",
              "      <td>0</td>\n",
              "      <td>0</td>\n",
              "    </tr>\n",
              "    <tr>\n",
              "      <th>2229</th>\n",
              "      <td>Makati</td>\n",
              "      <td>Makati City</td>\n",
              "      <td>Philippines</td>\n",
              "      <td>121.03</td>\n",
              "      <td>14.57</td>\n",
              "      <td>2022-03-12 21:00:00</td>\n",
              "      <td>27.3</td>\n",
              "      <td>0</td>\n",
              "      <td>Clear</td>\n",
              "      <td>11.5</td>\n",
              "      <td>85</td>\n",
              "      <td>E</td>\n",
              "      <td>1008.26</td>\n",
              "      <td>0.01</td>\n",
              "      <td>73.6</td>\n",
              "      <td>22</td>\n",
              "      <td>29.9</td>\n",
              "      <td>0</td>\n",
              "      <td>0</td>\n",
              "    </tr>\n",
              "    <tr>\n",
              "      <th>2230</th>\n",
              "      <td>Makati</td>\n",
              "      <td>Makati City</td>\n",
              "      <td>Philippines</td>\n",
              "      <td>121.03</td>\n",
              "      <td>14.57</td>\n",
              "      <td>2022-03-12 22:00:00</td>\n",
              "      <td>27.1</td>\n",
              "      <td>0</td>\n",
              "      <td>Clear</td>\n",
              "      <td>10.8</td>\n",
              "      <td>83</td>\n",
              "      <td>E</td>\n",
              "      <td>1008.87</td>\n",
              "      <td>0.01</td>\n",
              "      <td>73.1</td>\n",
              "      <td>29</td>\n",
              "      <td>29.6</td>\n",
              "      <td>0</td>\n",
              "      <td>0</td>\n",
              "    </tr>\n",
              "    <tr>\n",
              "      <th>2231</th>\n",
              "      <td>Makati</td>\n",
              "      <td>Makati City</td>\n",
              "      <td>Philippines</td>\n",
              "      <td>121.03</td>\n",
              "      <td>14.57</td>\n",
              "      <td>2022-03-12 23:00:00</td>\n",
              "      <td>26.8</td>\n",
              "      <td>0</td>\n",
              "      <td>Partly cloudy</td>\n",
              "      <td>10.1</td>\n",
              "      <td>80</td>\n",
              "      <td>E</td>\n",
              "      <td>1009.48</td>\n",
              "      <td>0.01</td>\n",
              "      <td>72.6</td>\n",
              "      <td>37</td>\n",
              "      <td>29.3</td>\n",
              "      <td>0</td>\n",
              "      <td>1</td>\n",
              "    </tr>\n",
              "  </tbody>\n",
              "</table>\n",
              "</div>\n",
              "      <button class=\"colab-df-convert\" onclick=\"convertToInteractive('df-fc774ed7-b7b8-48d7-9cc6-b49733c6e347')\"\n",
              "              title=\"Convert this dataframe to an interactive table.\"\n",
              "              style=\"display:none;\">\n",
              "        \n",
              "  <svg xmlns=\"http://www.w3.org/2000/svg\" height=\"24px\"viewBox=\"0 0 24 24\"\n",
              "       width=\"24px\">\n",
              "    <path d=\"M0 0h24v24H0V0z\" fill=\"none\"/>\n",
              "    <path d=\"M18.56 5.44l.94 2.06.94-2.06 2.06-.94-2.06-.94-.94-2.06-.94 2.06-2.06.94zm-11 1L8.5 8.5l.94-2.06 2.06-.94-2.06-.94L8.5 2.5l-.94 2.06-2.06.94zm10 10l.94 2.06.94-2.06 2.06-.94-2.06-.94-.94-2.06-.94 2.06-2.06.94z\"/><path d=\"M17.41 7.96l-1.37-1.37c-.4-.4-.92-.59-1.43-.59-.52 0-1.04.2-1.43.59L10.3 9.45l-7.72 7.72c-.78.78-.78 2.05 0 2.83L4 21.41c.39.39.9.59 1.41.59.51 0 1.02-.2 1.41-.59l7.78-7.78 2.81-2.81c.8-.78.8-2.07 0-2.86zM5.41 20L4 18.59l7.72-7.72 1.47 1.35L5.41 20z\"/>\n",
              "  </svg>\n",
              "      </button>\n",
              "      \n",
              "  <style>\n",
              "    .colab-df-container {\n",
              "      display:flex;\n",
              "      flex-wrap:wrap;\n",
              "      gap: 12px;\n",
              "    }\n",
              "\n",
              "    .colab-df-convert {\n",
              "      background-color: #E8F0FE;\n",
              "      border: none;\n",
              "      border-radius: 50%;\n",
              "      cursor: pointer;\n",
              "      display: none;\n",
              "      fill: #1967D2;\n",
              "      height: 32px;\n",
              "      padding: 0 0 0 0;\n",
              "      width: 32px;\n",
              "    }\n",
              "\n",
              "    .colab-df-convert:hover {\n",
              "      background-color: #E2EBFA;\n",
              "      box-shadow: 0px 1px 2px rgba(60, 64, 67, 0.3), 0px 1px 3px 1px rgba(60, 64, 67, 0.15);\n",
              "      fill: #174EA6;\n",
              "    }\n",
              "\n",
              "    [theme=dark] .colab-df-convert {\n",
              "      background-color: #3B4455;\n",
              "      fill: #D2E3FC;\n",
              "    }\n",
              "\n",
              "    [theme=dark] .colab-df-convert:hover {\n",
              "      background-color: #434B5C;\n",
              "      box-shadow: 0px 1px 3px 1px rgba(0, 0, 0, 0.15);\n",
              "      filter: drop-shadow(0px 1px 2px rgba(0, 0, 0, 0.3));\n",
              "      fill: #FFFFFF;\n",
              "    }\n",
              "  </style>\n",
              "\n",
              "      <script>\n",
              "        const buttonEl =\n",
              "          document.querySelector('#df-fc774ed7-b7b8-48d7-9cc6-b49733c6e347 button.colab-df-convert');\n",
              "        buttonEl.style.display =\n",
              "          google.colab.kernel.accessAllowed ? 'block' : 'none';\n",
              "\n",
              "        async function convertToInteractive(key) {\n",
              "          const element = document.querySelector('#df-fc774ed7-b7b8-48d7-9cc6-b49733c6e347');\n",
              "          const dataTable =\n",
              "            await google.colab.kernel.invokeFunction('convertToInteractive',\n",
              "                                                     [key], {});\n",
              "          if (!dataTable) return;\n",
              "\n",
              "          const docLinkHtml = 'Like what you see? Visit the ' +\n",
              "            '<a target=\"_blank\" href=https://colab.research.google.com/notebooks/data_table.ipynb>data table notebook</a>'\n",
              "            + ' to learn more about interactive tables.';\n",
              "          element.innerHTML = '';\n",
              "          dataTable['output_type'] = 'display_data';\n",
              "          await google.colab.output.renderOutput(dataTable, element);\n",
              "          const docLink = document.createElement('div');\n",
              "          docLink.innerHTML = docLinkHtml;\n",
              "          element.appendChild(docLink);\n",
              "        }\n",
              "      </script>\n",
              "    </div>\n",
              "  </div>\n",
              "  "
            ]
          },
          "metadata": {},
          "execution_count": 4
        }
      ],
      "source": [
        "df = pd.read_csv(\n",
        "    path, \n",
        "    low_memory=False,\n",
        "    parse_dates=['time']\n",
        ")\n",
        "\n",
        "df.tail()"
      ]
    },
    {
      "cell_type": "code",
      "execution_count": 5,
      "metadata": {
        "colab": {
          "base_uri": "https://localhost:8080/"
        },
        "id": "icDVCO4n3v1S",
        "outputId": "800a495b-14d8-4cd9-dfee-c57378d784b5"
      },
      "outputs": [
        {
          "output_type": "stream",
          "name": "stdout",
          "text": [
            "<class 'pandas.core.frame.DataFrame'>\n",
            "RangeIndex: 2232 entries, 0 to 2231\n",
            "Data columns (total 19 columns):\n",
            " #   Column             Non-Null Count  Dtype         \n",
            "---  ------             --------------  -----         \n",
            " 0   name               2232 non-null   object        \n",
            " 1   region             2232 non-null   object        \n",
            " 2   country            2232 non-null   object        \n",
            " 3   longitude          2232 non-null   float64       \n",
            " 4   latitude           2232 non-null   float64       \n",
            " 5   time               2232 non-null   datetime64[ns]\n",
            " 6   temp_c             2232 non-null   float64       \n",
            " 7   is_day             2232 non-null   int64         \n",
            " 8   condition          2232 non-null   object        \n",
            " 9   wind_kph           2232 non-null   float64       \n",
            " 10  wind_degree        2232 non-null   int64         \n",
            " 11  wind_dir           2232 non-null   object        \n",
            " 12  air_pressure       2232 non-null   float64       \n",
            " 13  precipitation      2232 non-null   float64       \n",
            " 14  relative_humidity  2232 non-null   float64       \n",
            " 15  cloud              2232 non-null   int64         \n",
            " 16  feelslike_c        2232 non-null   float64       \n",
            " 17  will_it_rain       2232 non-null   int64         \n",
            " 18  chance_of_rain     2232 non-null   int64         \n",
            "dtypes: datetime64[ns](1), float64(8), int64(5), object(5)\n",
            "memory usage: 331.4+ KB\n"
          ]
        }
      ],
      "source": [
        "df.info()"
      ]
    },
    {
      "cell_type": "code",
      "execution_count": 6,
      "metadata": {
        "colab": {
          "base_uri": "https://localhost:8080/"
        },
        "id": "062LMb2B31en",
        "outputId": "7df13ad7-2b3d-4a13-8a85-d0613ab74646"
      },
      "outputs": [
        {
          "output_type": "execute_result",
          "data": {
            "text/plain": [
              "0   2021-12-10 00:00:00\n",
              "1   2021-12-10 01:00:00\n",
              "2   2021-12-10 02:00:00\n",
              "3   2021-12-10 03:00:00\n",
              "4   2021-12-10 04:00:00\n",
              "Name: time, dtype: datetime64[ns]"
            ]
          },
          "metadata": {},
          "execution_count": 6
        }
      ],
      "source": [
        "df.time.head()"
      ]
    },
    {
      "cell_type": "code",
      "execution_count": 7,
      "metadata": {
        "colab": {
          "base_uri": "https://localhost:8080/"
        },
        "id": "7n28bMA94p3H",
        "outputId": "5d7cfd78-60de-48df-fd78-debc0e97b087"
      },
      "outputs": [
        {
          "output_type": "execute_result",
          "data": {
            "text/plain": [
              "0   2021-12-10 00:00:00\n",
              "1   2021-12-10 01:00:00\n",
              "2   2021-12-10 02:00:00\n",
              "3   2021-12-10 03:00:00\n",
              "4   2021-12-10 04:00:00\n",
              "Name: time, dtype: datetime64[ns]"
            ]
          },
          "metadata": {},
          "execution_count": 7
        }
      ],
      "source": [
        "df.sort_values(by=['time'], ascending=True)\n",
        "\n",
        "df.time.head()"
      ]
    },
    {
      "cell_type": "markdown",
      "metadata": {
        "id": "mu1y8jlT43Hp"
      },
      "source": [
        "## Feature Engineering"
      ]
    },
    {
      "cell_type": "code",
      "execution_count": 8,
      "metadata": {
        "colab": {
          "base_uri": "https://localhost:8080/",
          "height": 802
        },
        "id": "7k4xMbeJ5UMk",
        "outputId": "30872cdc-c2b5-4358-b72f-31668220276c"
      },
      "outputs": [
        {
          "output_type": "execute_result",
          "data": {
            "text/plain": [
              "                                     0                    1  \\\n",
              "name                            Makati               Makati   \n",
              "region                          Manila               Manila   \n",
              "country                    Philippines          Philippines   \n",
              "longitude                       121.03               121.03   \n",
              "latitude                         14.57                14.57   \n",
              "time               2021-12-10 00:00:00  2021-12-10 01:00:00   \n",
              "temp_c                            24.8                 24.6   \n",
              "is_day                               0                    0   \n",
              "condition                        Clear                Clear   \n",
              "wind_kph                          12.2                 10.9   \n",
              "wind_degree                         78                   75   \n",
              "wind_dir                           ENE                  ENE   \n",
              "air_pressure                   1013.88              1013.73   \n",
              "precipitation                      0.0                  0.0   \n",
              "relative_humidity                 67.3                63.67   \n",
              "cloud                               10                   14   \n",
              "feelslike_c                       26.3                 26.1   \n",
              "will_it_rain                         0                    0   \n",
              "chance_of_rain                       0                    0   \n",
              "year                              2021                 2021   \n",
              "month                               12                   12   \n",
              "day                                 10                   10   \n",
              "hour                                 0                    1   \n",
              "dayOfWeek                            4                    4   \n",
              "\n",
              "                                     2                    3  \\\n",
              "name                            Makati               Makati   \n",
              "region                          Manila               Manila   \n",
              "country                    Philippines          Philippines   \n",
              "longitude                       121.03               121.03   \n",
              "latitude                         14.57                14.57   \n",
              "time               2021-12-10 02:00:00  2021-12-10 03:00:00   \n",
              "temp_c                            24.3                 24.1   \n",
              "is_day                               0                    0   \n",
              "condition                        Clear                Clear   \n",
              "wind_kph                           9.6                  8.3   \n",
              "wind_degree                         71                   68   \n",
              "wind_dir                           ENE                  ENE   \n",
              "air_pressure                   1013.58              1013.42   \n",
              "precipitation                      0.0                  0.0   \n",
              "relative_humidity                60.03                 56.4   \n",
              "cloud                               18                   22   \n",
              "feelslike_c                       26.0                 25.8   \n",
              "will_it_rain                         0                    0   \n",
              "chance_of_rain                       0                    0   \n",
              "year                              2021                 2021   \n",
              "month                               12                   12   \n",
              "day                                 10                   10   \n",
              "hour                                 2                    3   \n",
              "dayOfWeek                            4                    4   \n",
              "\n",
              "                                     4  \n",
              "name                            Makati  \n",
              "region                          Manila  \n",
              "country                    Philippines  \n",
              "longitude                       121.03  \n",
              "latitude                         14.57  \n",
              "time               2021-12-10 04:00:00  \n",
              "temp_c                            24.0  \n",
              "is_day                               0  \n",
              "condition                        Clear  \n",
              "wind_kph                           8.2  \n",
              "wind_degree                         59  \n",
              "wind_dir                           ENE  \n",
              "air_pressure                   1012.62  \n",
              "precipitation                      0.0  \n",
              "relative_humidity                 55.9  \n",
              "cloud                               30  \n",
              "feelslike_c                       25.7  \n",
              "will_it_rain                         0  \n",
              "chance_of_rain                       0  \n",
              "year                              2021  \n",
              "month                               12  \n",
              "day                                 10  \n",
              "hour                                 4  \n",
              "dayOfWeek                            4  "
            ],
            "text/html": [
              "\n",
              "  <div id=\"df-d462eb32-4660-4689-a492-338cec7f155c\">\n",
              "    <div class=\"colab-df-container\">\n",
              "      <div>\n",
              "<style scoped>\n",
              "    .dataframe tbody tr th:only-of-type {\n",
              "        vertical-align: middle;\n",
              "    }\n",
              "\n",
              "    .dataframe tbody tr th {\n",
              "        vertical-align: top;\n",
              "    }\n",
              "\n",
              "    .dataframe thead th {\n",
              "        text-align: right;\n",
              "    }\n",
              "</style>\n",
              "<table border=\"1\" class=\"dataframe\">\n",
              "  <thead>\n",
              "    <tr style=\"text-align: right;\">\n",
              "      <th></th>\n",
              "      <th>0</th>\n",
              "      <th>1</th>\n",
              "      <th>2</th>\n",
              "      <th>3</th>\n",
              "      <th>4</th>\n",
              "    </tr>\n",
              "  </thead>\n",
              "  <tbody>\n",
              "    <tr>\n",
              "      <th>name</th>\n",
              "      <td>Makati</td>\n",
              "      <td>Makati</td>\n",
              "      <td>Makati</td>\n",
              "      <td>Makati</td>\n",
              "      <td>Makati</td>\n",
              "    </tr>\n",
              "    <tr>\n",
              "      <th>region</th>\n",
              "      <td>Manila</td>\n",
              "      <td>Manila</td>\n",
              "      <td>Manila</td>\n",
              "      <td>Manila</td>\n",
              "      <td>Manila</td>\n",
              "    </tr>\n",
              "    <tr>\n",
              "      <th>country</th>\n",
              "      <td>Philippines</td>\n",
              "      <td>Philippines</td>\n",
              "      <td>Philippines</td>\n",
              "      <td>Philippines</td>\n",
              "      <td>Philippines</td>\n",
              "    </tr>\n",
              "    <tr>\n",
              "      <th>longitude</th>\n",
              "      <td>121.03</td>\n",
              "      <td>121.03</td>\n",
              "      <td>121.03</td>\n",
              "      <td>121.03</td>\n",
              "      <td>121.03</td>\n",
              "    </tr>\n",
              "    <tr>\n",
              "      <th>latitude</th>\n",
              "      <td>14.57</td>\n",
              "      <td>14.57</td>\n",
              "      <td>14.57</td>\n",
              "      <td>14.57</td>\n",
              "      <td>14.57</td>\n",
              "    </tr>\n",
              "    <tr>\n",
              "      <th>time</th>\n",
              "      <td>2021-12-10 00:00:00</td>\n",
              "      <td>2021-12-10 01:00:00</td>\n",
              "      <td>2021-12-10 02:00:00</td>\n",
              "      <td>2021-12-10 03:00:00</td>\n",
              "      <td>2021-12-10 04:00:00</td>\n",
              "    </tr>\n",
              "    <tr>\n",
              "      <th>temp_c</th>\n",
              "      <td>24.8</td>\n",
              "      <td>24.6</td>\n",
              "      <td>24.3</td>\n",
              "      <td>24.1</td>\n",
              "      <td>24.0</td>\n",
              "    </tr>\n",
              "    <tr>\n",
              "      <th>is_day</th>\n",
              "      <td>0</td>\n",
              "      <td>0</td>\n",
              "      <td>0</td>\n",
              "      <td>0</td>\n",
              "      <td>0</td>\n",
              "    </tr>\n",
              "    <tr>\n",
              "      <th>condition</th>\n",
              "      <td>Clear</td>\n",
              "      <td>Clear</td>\n",
              "      <td>Clear</td>\n",
              "      <td>Clear</td>\n",
              "      <td>Clear</td>\n",
              "    </tr>\n",
              "    <tr>\n",
              "      <th>wind_kph</th>\n",
              "      <td>12.2</td>\n",
              "      <td>10.9</td>\n",
              "      <td>9.6</td>\n",
              "      <td>8.3</td>\n",
              "      <td>8.2</td>\n",
              "    </tr>\n",
              "    <tr>\n",
              "      <th>wind_degree</th>\n",
              "      <td>78</td>\n",
              "      <td>75</td>\n",
              "      <td>71</td>\n",
              "      <td>68</td>\n",
              "      <td>59</td>\n",
              "    </tr>\n",
              "    <tr>\n",
              "      <th>wind_dir</th>\n",
              "      <td>ENE</td>\n",
              "      <td>ENE</td>\n",
              "      <td>ENE</td>\n",
              "      <td>ENE</td>\n",
              "      <td>ENE</td>\n",
              "    </tr>\n",
              "    <tr>\n",
              "      <th>air_pressure</th>\n",
              "      <td>1013.88</td>\n",
              "      <td>1013.73</td>\n",
              "      <td>1013.58</td>\n",
              "      <td>1013.42</td>\n",
              "      <td>1012.62</td>\n",
              "    </tr>\n",
              "    <tr>\n",
              "      <th>precipitation</th>\n",
              "      <td>0.0</td>\n",
              "      <td>0.0</td>\n",
              "      <td>0.0</td>\n",
              "      <td>0.0</td>\n",
              "      <td>0.0</td>\n",
              "    </tr>\n",
              "    <tr>\n",
              "      <th>relative_humidity</th>\n",
              "      <td>67.3</td>\n",
              "      <td>63.67</td>\n",
              "      <td>60.03</td>\n",
              "      <td>56.4</td>\n",
              "      <td>55.9</td>\n",
              "    </tr>\n",
              "    <tr>\n",
              "      <th>cloud</th>\n",
              "      <td>10</td>\n",
              "      <td>14</td>\n",
              "      <td>18</td>\n",
              "      <td>22</td>\n",
              "      <td>30</td>\n",
              "    </tr>\n",
              "    <tr>\n",
              "      <th>feelslike_c</th>\n",
              "      <td>26.3</td>\n",
              "      <td>26.1</td>\n",
              "      <td>26.0</td>\n",
              "      <td>25.8</td>\n",
              "      <td>25.7</td>\n",
              "    </tr>\n",
              "    <tr>\n",
              "      <th>will_it_rain</th>\n",
              "      <td>0</td>\n",
              "      <td>0</td>\n",
              "      <td>0</td>\n",
              "      <td>0</td>\n",
              "      <td>0</td>\n",
              "    </tr>\n",
              "    <tr>\n",
              "      <th>chance_of_rain</th>\n",
              "      <td>0</td>\n",
              "      <td>0</td>\n",
              "      <td>0</td>\n",
              "      <td>0</td>\n",
              "      <td>0</td>\n",
              "    </tr>\n",
              "    <tr>\n",
              "      <th>year</th>\n",
              "      <td>2021</td>\n",
              "      <td>2021</td>\n",
              "      <td>2021</td>\n",
              "      <td>2021</td>\n",
              "      <td>2021</td>\n",
              "    </tr>\n",
              "    <tr>\n",
              "      <th>month</th>\n",
              "      <td>12</td>\n",
              "      <td>12</td>\n",
              "      <td>12</td>\n",
              "      <td>12</td>\n",
              "      <td>12</td>\n",
              "    </tr>\n",
              "    <tr>\n",
              "      <th>day</th>\n",
              "      <td>10</td>\n",
              "      <td>10</td>\n",
              "      <td>10</td>\n",
              "      <td>10</td>\n",
              "      <td>10</td>\n",
              "    </tr>\n",
              "    <tr>\n",
              "      <th>hour</th>\n",
              "      <td>0</td>\n",
              "      <td>1</td>\n",
              "      <td>2</td>\n",
              "      <td>3</td>\n",
              "      <td>4</td>\n",
              "    </tr>\n",
              "    <tr>\n",
              "      <th>dayOfWeek</th>\n",
              "      <td>4</td>\n",
              "      <td>4</td>\n",
              "      <td>4</td>\n",
              "      <td>4</td>\n",
              "      <td>4</td>\n",
              "    </tr>\n",
              "  </tbody>\n",
              "</table>\n",
              "</div>\n",
              "      <button class=\"colab-df-convert\" onclick=\"convertToInteractive('df-d462eb32-4660-4689-a492-338cec7f155c')\"\n",
              "              title=\"Convert this dataframe to an interactive table.\"\n",
              "              style=\"display:none;\">\n",
              "        \n",
              "  <svg xmlns=\"http://www.w3.org/2000/svg\" height=\"24px\"viewBox=\"0 0 24 24\"\n",
              "       width=\"24px\">\n",
              "    <path d=\"M0 0h24v24H0V0z\" fill=\"none\"/>\n",
              "    <path d=\"M18.56 5.44l.94 2.06.94-2.06 2.06-.94-2.06-.94-.94-2.06-.94 2.06-2.06.94zm-11 1L8.5 8.5l.94-2.06 2.06-.94-2.06-.94L8.5 2.5l-.94 2.06-2.06.94zm10 10l.94 2.06.94-2.06 2.06-.94-2.06-.94-.94-2.06-.94 2.06-2.06.94z\"/><path d=\"M17.41 7.96l-1.37-1.37c-.4-.4-.92-.59-1.43-.59-.52 0-1.04.2-1.43.59L10.3 9.45l-7.72 7.72c-.78.78-.78 2.05 0 2.83L4 21.41c.39.39.9.59 1.41.59.51 0 1.02-.2 1.41-.59l7.78-7.78 2.81-2.81c.8-.78.8-2.07 0-2.86zM5.41 20L4 18.59l7.72-7.72 1.47 1.35L5.41 20z\"/>\n",
              "  </svg>\n",
              "      </button>\n",
              "      \n",
              "  <style>\n",
              "    .colab-df-container {\n",
              "      display:flex;\n",
              "      flex-wrap:wrap;\n",
              "      gap: 12px;\n",
              "    }\n",
              "\n",
              "    .colab-df-convert {\n",
              "      background-color: #E8F0FE;\n",
              "      border: none;\n",
              "      border-radius: 50%;\n",
              "      cursor: pointer;\n",
              "      display: none;\n",
              "      fill: #1967D2;\n",
              "      height: 32px;\n",
              "      padding: 0 0 0 0;\n",
              "      width: 32px;\n",
              "    }\n",
              "\n",
              "    .colab-df-convert:hover {\n",
              "      background-color: #E2EBFA;\n",
              "      box-shadow: 0px 1px 2px rgba(60, 64, 67, 0.3), 0px 1px 3px 1px rgba(60, 64, 67, 0.15);\n",
              "      fill: #174EA6;\n",
              "    }\n",
              "\n",
              "    [theme=dark] .colab-df-convert {\n",
              "      background-color: #3B4455;\n",
              "      fill: #D2E3FC;\n",
              "    }\n",
              "\n",
              "    [theme=dark] .colab-df-convert:hover {\n",
              "      background-color: #434B5C;\n",
              "      box-shadow: 0px 1px 3px 1px rgba(0, 0, 0, 0.15);\n",
              "      filter: drop-shadow(0px 1px 2px rgba(0, 0, 0, 0.3));\n",
              "      fill: #FFFFFF;\n",
              "    }\n",
              "  </style>\n",
              "\n",
              "      <script>\n",
              "        const buttonEl =\n",
              "          document.querySelector('#df-d462eb32-4660-4689-a492-338cec7f155c button.colab-df-convert');\n",
              "        buttonEl.style.display =\n",
              "          google.colab.kernel.accessAllowed ? 'block' : 'none';\n",
              "\n",
              "        async function convertToInteractive(key) {\n",
              "          const element = document.querySelector('#df-d462eb32-4660-4689-a492-338cec7f155c');\n",
              "          const dataTable =\n",
              "            await google.colab.kernel.invokeFunction('convertToInteractive',\n",
              "                                                     [key], {});\n",
              "          if (!dataTable) return;\n",
              "\n",
              "          const docLinkHtml = 'Like what you see? Visit the ' +\n",
              "            '<a target=\"_blank\" href=https://colab.research.google.com/notebooks/data_table.ipynb>data table notebook</a>'\n",
              "            + ' to learn more about interactive tables.';\n",
              "          element.innerHTML = '';\n",
              "          dataTable['output_type'] = 'display_data';\n",
              "          await google.colab.output.renderOutput(dataTable, element);\n",
              "          const docLink = document.createElement('div');\n",
              "          docLink.innerHTML = docLinkHtml;\n",
              "          element.appendChild(docLink);\n",
              "        }\n",
              "      </script>\n",
              "    </div>\n",
              "  </div>\n",
              "  "
            ]
          },
          "metadata": {},
          "execution_count": 8
        }
      ],
      "source": [
        "df['year'] = df.time.dt.year\n",
        "df['month'] = df.time.dt.month\n",
        "df['day'] = df.time.dt.day\n",
        "df['hour'] = df.time.dt.hour\n",
        "df['dayOfWeek'] = df.time.dt.dayofweek\n",
        "\n",
        "df.head().T"
      ]
    },
    {
      "cell_type": "code",
      "execution_count": 9,
      "metadata": {
        "colab": {
          "base_uri": "https://localhost:8080/",
          "height": 802
        },
        "id": "EtZgSuVh5uR0",
        "outputId": "589894d9-4e4c-4754-e27d-896d46da8154"
      },
      "outputs": [
        {
          "output_type": "execute_result",
          "data": {
            "text/plain": [
              "                                  2227                 2228  \\\n",
              "name                            Makati               Makati   \n",
              "region                     Makati City          Makati City   \n",
              "country                    Philippines          Philippines   \n",
              "longitude                       121.03               121.03   \n",
              "latitude                         14.57                14.57   \n",
              "time               2022-03-12 19:00:00  2022-03-12 20:00:00   \n",
              "temp_c                            28.3                 27.8   \n",
              "is_day                               0                    0   \n",
              "condition                Partly cloudy                Clear   \n",
              "wind_kph                          15.4                 13.4   \n",
              "wind_degree                         85                   85   \n",
              "wind_dir                             E                    E   \n",
              "air_pressure                   1008.35              1008.31   \n",
              "precipitation                     0.01                 0.01   \n",
              "relative_humidity                 73.2                 73.4   \n",
              "cloud                               37                   29   \n",
              "feelslike_c                       31.1                 30.5   \n",
              "will_it_rain                         0                    0   \n",
              "chance_of_rain                       1                    0   \n",
              "year                              2022                 2022   \n",
              "month                                3                    3   \n",
              "day                                 12                   12   \n",
              "hour                                19                   20   \n",
              "dayOfWeek                            5                    5   \n",
              "\n",
              "                                  2229                 2230  \\\n",
              "name                            Makati               Makati   \n",
              "region                     Makati City          Makati City   \n",
              "country                    Philippines          Philippines   \n",
              "longitude                       121.03               121.03   \n",
              "latitude                         14.57                14.57   \n",
              "time               2022-03-12 21:00:00  2022-03-12 22:00:00   \n",
              "temp_c                            27.3                 27.1   \n",
              "is_day                               0                    0   \n",
              "condition                        Clear                Clear   \n",
              "wind_kph                          11.5                 10.8   \n",
              "wind_degree                         85                   83   \n",
              "wind_dir                             E                    E   \n",
              "air_pressure                   1008.26              1008.87   \n",
              "precipitation                     0.01                 0.01   \n",
              "relative_humidity                 73.6                 73.1   \n",
              "cloud                               22                   29   \n",
              "feelslike_c                       29.9                 29.6   \n",
              "will_it_rain                         0                    0   \n",
              "chance_of_rain                       0                    0   \n",
              "year                              2022                 2022   \n",
              "month                                3                    3   \n",
              "day                                 12                   12   \n",
              "hour                                21                   22   \n",
              "dayOfWeek                            5                    5   \n",
              "\n",
              "                                  2231  \n",
              "name                            Makati  \n",
              "region                     Makati City  \n",
              "country                    Philippines  \n",
              "longitude                       121.03  \n",
              "latitude                         14.57  \n",
              "time               2022-03-12 23:00:00  \n",
              "temp_c                            26.8  \n",
              "is_day                               0  \n",
              "condition                Partly cloudy  \n",
              "wind_kph                          10.1  \n",
              "wind_degree                         80  \n",
              "wind_dir                             E  \n",
              "air_pressure                   1009.48  \n",
              "precipitation                     0.01  \n",
              "relative_humidity                 72.6  \n",
              "cloud                               37  \n",
              "feelslike_c                       29.3  \n",
              "will_it_rain                         0  \n",
              "chance_of_rain                       1  \n",
              "year                              2022  \n",
              "month                                3  \n",
              "day                                 12  \n",
              "hour                                23  \n",
              "dayOfWeek                            5  "
            ],
            "text/html": [
              "\n",
              "  <div id=\"df-c8752754-824d-49de-ba36-8c1548192fc3\">\n",
              "    <div class=\"colab-df-container\">\n",
              "      <div>\n",
              "<style scoped>\n",
              "    .dataframe tbody tr th:only-of-type {\n",
              "        vertical-align: middle;\n",
              "    }\n",
              "\n",
              "    .dataframe tbody tr th {\n",
              "        vertical-align: top;\n",
              "    }\n",
              "\n",
              "    .dataframe thead th {\n",
              "        text-align: right;\n",
              "    }\n",
              "</style>\n",
              "<table border=\"1\" class=\"dataframe\">\n",
              "  <thead>\n",
              "    <tr style=\"text-align: right;\">\n",
              "      <th></th>\n",
              "      <th>2227</th>\n",
              "      <th>2228</th>\n",
              "      <th>2229</th>\n",
              "      <th>2230</th>\n",
              "      <th>2231</th>\n",
              "    </tr>\n",
              "  </thead>\n",
              "  <tbody>\n",
              "    <tr>\n",
              "      <th>name</th>\n",
              "      <td>Makati</td>\n",
              "      <td>Makati</td>\n",
              "      <td>Makati</td>\n",
              "      <td>Makati</td>\n",
              "      <td>Makati</td>\n",
              "    </tr>\n",
              "    <tr>\n",
              "      <th>region</th>\n",
              "      <td>Makati City</td>\n",
              "      <td>Makati City</td>\n",
              "      <td>Makati City</td>\n",
              "      <td>Makati City</td>\n",
              "      <td>Makati City</td>\n",
              "    </tr>\n",
              "    <tr>\n",
              "      <th>country</th>\n",
              "      <td>Philippines</td>\n",
              "      <td>Philippines</td>\n",
              "      <td>Philippines</td>\n",
              "      <td>Philippines</td>\n",
              "      <td>Philippines</td>\n",
              "    </tr>\n",
              "    <tr>\n",
              "      <th>longitude</th>\n",
              "      <td>121.03</td>\n",
              "      <td>121.03</td>\n",
              "      <td>121.03</td>\n",
              "      <td>121.03</td>\n",
              "      <td>121.03</td>\n",
              "    </tr>\n",
              "    <tr>\n",
              "      <th>latitude</th>\n",
              "      <td>14.57</td>\n",
              "      <td>14.57</td>\n",
              "      <td>14.57</td>\n",
              "      <td>14.57</td>\n",
              "      <td>14.57</td>\n",
              "    </tr>\n",
              "    <tr>\n",
              "      <th>time</th>\n",
              "      <td>2022-03-12 19:00:00</td>\n",
              "      <td>2022-03-12 20:00:00</td>\n",
              "      <td>2022-03-12 21:00:00</td>\n",
              "      <td>2022-03-12 22:00:00</td>\n",
              "      <td>2022-03-12 23:00:00</td>\n",
              "    </tr>\n",
              "    <tr>\n",
              "      <th>temp_c</th>\n",
              "      <td>28.3</td>\n",
              "      <td>27.8</td>\n",
              "      <td>27.3</td>\n",
              "      <td>27.1</td>\n",
              "      <td>26.8</td>\n",
              "    </tr>\n",
              "    <tr>\n",
              "      <th>is_day</th>\n",
              "      <td>0</td>\n",
              "      <td>0</td>\n",
              "      <td>0</td>\n",
              "      <td>0</td>\n",
              "      <td>0</td>\n",
              "    </tr>\n",
              "    <tr>\n",
              "      <th>condition</th>\n",
              "      <td>Partly cloudy</td>\n",
              "      <td>Clear</td>\n",
              "      <td>Clear</td>\n",
              "      <td>Clear</td>\n",
              "      <td>Partly cloudy</td>\n",
              "    </tr>\n",
              "    <tr>\n",
              "      <th>wind_kph</th>\n",
              "      <td>15.4</td>\n",
              "      <td>13.4</td>\n",
              "      <td>11.5</td>\n",
              "      <td>10.8</td>\n",
              "      <td>10.1</td>\n",
              "    </tr>\n",
              "    <tr>\n",
              "      <th>wind_degree</th>\n",
              "      <td>85</td>\n",
              "      <td>85</td>\n",
              "      <td>85</td>\n",
              "      <td>83</td>\n",
              "      <td>80</td>\n",
              "    </tr>\n",
              "    <tr>\n",
              "      <th>wind_dir</th>\n",
              "      <td>E</td>\n",
              "      <td>E</td>\n",
              "      <td>E</td>\n",
              "      <td>E</td>\n",
              "      <td>E</td>\n",
              "    </tr>\n",
              "    <tr>\n",
              "      <th>air_pressure</th>\n",
              "      <td>1008.35</td>\n",
              "      <td>1008.31</td>\n",
              "      <td>1008.26</td>\n",
              "      <td>1008.87</td>\n",
              "      <td>1009.48</td>\n",
              "    </tr>\n",
              "    <tr>\n",
              "      <th>precipitation</th>\n",
              "      <td>0.01</td>\n",
              "      <td>0.01</td>\n",
              "      <td>0.01</td>\n",
              "      <td>0.01</td>\n",
              "      <td>0.01</td>\n",
              "    </tr>\n",
              "    <tr>\n",
              "      <th>relative_humidity</th>\n",
              "      <td>73.2</td>\n",
              "      <td>73.4</td>\n",
              "      <td>73.6</td>\n",
              "      <td>73.1</td>\n",
              "      <td>72.6</td>\n",
              "    </tr>\n",
              "    <tr>\n",
              "      <th>cloud</th>\n",
              "      <td>37</td>\n",
              "      <td>29</td>\n",
              "      <td>22</td>\n",
              "      <td>29</td>\n",
              "      <td>37</td>\n",
              "    </tr>\n",
              "    <tr>\n",
              "      <th>feelslike_c</th>\n",
              "      <td>31.1</td>\n",
              "      <td>30.5</td>\n",
              "      <td>29.9</td>\n",
              "      <td>29.6</td>\n",
              "      <td>29.3</td>\n",
              "    </tr>\n",
              "    <tr>\n",
              "      <th>will_it_rain</th>\n",
              "      <td>0</td>\n",
              "      <td>0</td>\n",
              "      <td>0</td>\n",
              "      <td>0</td>\n",
              "      <td>0</td>\n",
              "    </tr>\n",
              "    <tr>\n",
              "      <th>chance_of_rain</th>\n",
              "      <td>1</td>\n",
              "      <td>0</td>\n",
              "      <td>0</td>\n",
              "      <td>0</td>\n",
              "      <td>1</td>\n",
              "    </tr>\n",
              "    <tr>\n",
              "      <th>year</th>\n",
              "      <td>2022</td>\n",
              "      <td>2022</td>\n",
              "      <td>2022</td>\n",
              "      <td>2022</td>\n",
              "      <td>2022</td>\n",
              "    </tr>\n",
              "    <tr>\n",
              "      <th>month</th>\n",
              "      <td>3</td>\n",
              "      <td>3</td>\n",
              "      <td>3</td>\n",
              "      <td>3</td>\n",
              "      <td>3</td>\n",
              "    </tr>\n",
              "    <tr>\n",
              "      <th>day</th>\n",
              "      <td>12</td>\n",
              "      <td>12</td>\n",
              "      <td>12</td>\n",
              "      <td>12</td>\n",
              "      <td>12</td>\n",
              "    </tr>\n",
              "    <tr>\n",
              "      <th>hour</th>\n",
              "      <td>19</td>\n",
              "      <td>20</td>\n",
              "      <td>21</td>\n",
              "      <td>22</td>\n",
              "      <td>23</td>\n",
              "    </tr>\n",
              "    <tr>\n",
              "      <th>dayOfWeek</th>\n",
              "      <td>5</td>\n",
              "      <td>5</td>\n",
              "      <td>5</td>\n",
              "      <td>5</td>\n",
              "      <td>5</td>\n",
              "    </tr>\n",
              "  </tbody>\n",
              "</table>\n",
              "</div>\n",
              "      <button class=\"colab-df-convert\" onclick=\"convertToInteractive('df-c8752754-824d-49de-ba36-8c1548192fc3')\"\n",
              "              title=\"Convert this dataframe to an interactive table.\"\n",
              "              style=\"display:none;\">\n",
              "        \n",
              "  <svg xmlns=\"http://www.w3.org/2000/svg\" height=\"24px\"viewBox=\"0 0 24 24\"\n",
              "       width=\"24px\">\n",
              "    <path d=\"M0 0h24v24H0V0z\" fill=\"none\"/>\n",
              "    <path d=\"M18.56 5.44l.94 2.06.94-2.06 2.06-.94-2.06-.94-.94-2.06-.94 2.06-2.06.94zm-11 1L8.5 8.5l.94-2.06 2.06-.94-2.06-.94L8.5 2.5l-.94 2.06-2.06.94zm10 10l.94 2.06.94-2.06 2.06-.94-2.06-.94-.94-2.06-.94 2.06-2.06.94z\"/><path d=\"M17.41 7.96l-1.37-1.37c-.4-.4-.92-.59-1.43-.59-.52 0-1.04.2-1.43.59L10.3 9.45l-7.72 7.72c-.78.78-.78 2.05 0 2.83L4 21.41c.39.39.9.59 1.41.59.51 0 1.02-.2 1.41-.59l7.78-7.78 2.81-2.81c.8-.78.8-2.07 0-2.86zM5.41 20L4 18.59l7.72-7.72 1.47 1.35L5.41 20z\"/>\n",
              "  </svg>\n",
              "      </button>\n",
              "      \n",
              "  <style>\n",
              "    .colab-df-container {\n",
              "      display:flex;\n",
              "      flex-wrap:wrap;\n",
              "      gap: 12px;\n",
              "    }\n",
              "\n",
              "    .colab-df-convert {\n",
              "      background-color: #E8F0FE;\n",
              "      border: none;\n",
              "      border-radius: 50%;\n",
              "      cursor: pointer;\n",
              "      display: none;\n",
              "      fill: #1967D2;\n",
              "      height: 32px;\n",
              "      padding: 0 0 0 0;\n",
              "      width: 32px;\n",
              "    }\n",
              "\n",
              "    .colab-df-convert:hover {\n",
              "      background-color: #E2EBFA;\n",
              "      box-shadow: 0px 1px 2px rgba(60, 64, 67, 0.3), 0px 1px 3px 1px rgba(60, 64, 67, 0.15);\n",
              "      fill: #174EA6;\n",
              "    }\n",
              "\n",
              "    [theme=dark] .colab-df-convert {\n",
              "      background-color: #3B4455;\n",
              "      fill: #D2E3FC;\n",
              "    }\n",
              "\n",
              "    [theme=dark] .colab-df-convert:hover {\n",
              "      background-color: #434B5C;\n",
              "      box-shadow: 0px 1px 3px 1px rgba(0, 0, 0, 0.15);\n",
              "      filter: drop-shadow(0px 1px 2px rgba(0, 0, 0, 0.3));\n",
              "      fill: #FFFFFF;\n",
              "    }\n",
              "  </style>\n",
              "\n",
              "      <script>\n",
              "        const buttonEl =\n",
              "          document.querySelector('#df-c8752754-824d-49de-ba36-8c1548192fc3 button.colab-df-convert');\n",
              "        buttonEl.style.display =\n",
              "          google.colab.kernel.accessAllowed ? 'block' : 'none';\n",
              "\n",
              "        async function convertToInteractive(key) {\n",
              "          const element = document.querySelector('#df-c8752754-824d-49de-ba36-8c1548192fc3');\n",
              "          const dataTable =\n",
              "            await google.colab.kernel.invokeFunction('convertToInteractive',\n",
              "                                                     [key], {});\n",
              "          if (!dataTable) return;\n",
              "\n",
              "          const docLinkHtml = 'Like what you see? Visit the ' +\n",
              "            '<a target=\"_blank\" href=https://colab.research.google.com/notebooks/data_table.ipynb>data table notebook</a>'\n",
              "            + ' to learn more about interactive tables.';\n",
              "          element.innerHTML = '';\n",
              "          dataTable['output_type'] = 'display_data';\n",
              "          await google.colab.output.renderOutput(dataTable, element);\n",
              "          const docLink = document.createElement('div');\n",
              "          docLink.innerHTML = docLinkHtml;\n",
              "          element.appendChild(docLink);\n",
              "        }\n",
              "      </script>\n",
              "    </div>\n",
              "  </div>\n",
              "  "
            ]
          },
          "metadata": {},
          "execution_count": 9
        }
      ],
      "source": [
        "df.tail().T"
      ]
    },
    {
      "cell_type": "code",
      "execution_count": 10,
      "metadata": {
        "colab": {
          "base_uri": "https://localhost:8080/",
          "height": 771
        },
        "id": "oDYUWdkW9Gyo",
        "outputId": "5962383f-9f4d-4800-d4a9-d6d6139dbbf5"
      },
      "outputs": [
        {
          "output_type": "execute_result",
          "data": {
            "text/plain": [
              "                             0            1            2            3  \\\n",
              "name                    Makati       Makati       Makati       Makati   \n",
              "region                  Manila       Manila       Manila       Manila   \n",
              "country            Philippines  Philippines  Philippines  Philippines   \n",
              "longitude               121.03       121.03       121.03       121.03   \n",
              "latitude                 14.57        14.57        14.57        14.57   \n",
              "temp_c                    24.8         24.6         24.3         24.1   \n",
              "is_day                       0            0            0            0   \n",
              "condition                Clear        Clear        Clear        Clear   \n",
              "wind_kph                  12.2         10.9          9.6          8.3   \n",
              "wind_degree                 78           75           71           68   \n",
              "wind_dir                   ENE          ENE          ENE          ENE   \n",
              "air_pressure           1013.88      1013.73      1013.58      1013.42   \n",
              "precipitation              0.0          0.0          0.0          0.0   \n",
              "relative_humidity         67.3        63.67        60.03         56.4   \n",
              "cloud                       10           14           18           22   \n",
              "feelslike_c               26.3         26.1         26.0         25.8   \n",
              "will_it_rain                 0            0            0            0   \n",
              "chance_of_rain               0            0            0            0   \n",
              "year                      2021         2021         2021         2021   \n",
              "month                       12           12           12           12   \n",
              "day                         10           10           10           10   \n",
              "hour                         0            1            2            3   \n",
              "dayOfWeek                    4            4            4            4   \n",
              "\n",
              "                             4  \n",
              "name                    Makati  \n",
              "region                  Manila  \n",
              "country            Philippines  \n",
              "longitude               121.03  \n",
              "latitude                 14.57  \n",
              "temp_c                    24.0  \n",
              "is_day                       0  \n",
              "condition                Clear  \n",
              "wind_kph                   8.2  \n",
              "wind_degree                 59  \n",
              "wind_dir                   ENE  \n",
              "air_pressure           1012.62  \n",
              "precipitation              0.0  \n",
              "relative_humidity         55.9  \n",
              "cloud                       30  \n",
              "feelslike_c               25.7  \n",
              "will_it_rain                 0  \n",
              "chance_of_rain               0  \n",
              "year                      2021  \n",
              "month                       12  \n",
              "day                         10  \n",
              "hour                         4  \n",
              "dayOfWeek                    4  "
            ],
            "text/html": [
              "\n",
              "  <div id=\"df-92196c54-0123-4375-a03a-ea76e78f550f\">\n",
              "    <div class=\"colab-df-container\">\n",
              "      <div>\n",
              "<style scoped>\n",
              "    .dataframe tbody tr th:only-of-type {\n",
              "        vertical-align: middle;\n",
              "    }\n",
              "\n",
              "    .dataframe tbody tr th {\n",
              "        vertical-align: top;\n",
              "    }\n",
              "\n",
              "    .dataframe thead th {\n",
              "        text-align: right;\n",
              "    }\n",
              "</style>\n",
              "<table border=\"1\" class=\"dataframe\">\n",
              "  <thead>\n",
              "    <tr style=\"text-align: right;\">\n",
              "      <th></th>\n",
              "      <th>0</th>\n",
              "      <th>1</th>\n",
              "      <th>2</th>\n",
              "      <th>3</th>\n",
              "      <th>4</th>\n",
              "    </tr>\n",
              "  </thead>\n",
              "  <tbody>\n",
              "    <tr>\n",
              "      <th>name</th>\n",
              "      <td>Makati</td>\n",
              "      <td>Makati</td>\n",
              "      <td>Makati</td>\n",
              "      <td>Makati</td>\n",
              "      <td>Makati</td>\n",
              "    </tr>\n",
              "    <tr>\n",
              "      <th>region</th>\n",
              "      <td>Manila</td>\n",
              "      <td>Manila</td>\n",
              "      <td>Manila</td>\n",
              "      <td>Manila</td>\n",
              "      <td>Manila</td>\n",
              "    </tr>\n",
              "    <tr>\n",
              "      <th>country</th>\n",
              "      <td>Philippines</td>\n",
              "      <td>Philippines</td>\n",
              "      <td>Philippines</td>\n",
              "      <td>Philippines</td>\n",
              "      <td>Philippines</td>\n",
              "    </tr>\n",
              "    <tr>\n",
              "      <th>longitude</th>\n",
              "      <td>121.03</td>\n",
              "      <td>121.03</td>\n",
              "      <td>121.03</td>\n",
              "      <td>121.03</td>\n",
              "      <td>121.03</td>\n",
              "    </tr>\n",
              "    <tr>\n",
              "      <th>latitude</th>\n",
              "      <td>14.57</td>\n",
              "      <td>14.57</td>\n",
              "      <td>14.57</td>\n",
              "      <td>14.57</td>\n",
              "      <td>14.57</td>\n",
              "    </tr>\n",
              "    <tr>\n",
              "      <th>temp_c</th>\n",
              "      <td>24.8</td>\n",
              "      <td>24.6</td>\n",
              "      <td>24.3</td>\n",
              "      <td>24.1</td>\n",
              "      <td>24.0</td>\n",
              "    </tr>\n",
              "    <tr>\n",
              "      <th>is_day</th>\n",
              "      <td>0</td>\n",
              "      <td>0</td>\n",
              "      <td>0</td>\n",
              "      <td>0</td>\n",
              "      <td>0</td>\n",
              "    </tr>\n",
              "    <tr>\n",
              "      <th>condition</th>\n",
              "      <td>Clear</td>\n",
              "      <td>Clear</td>\n",
              "      <td>Clear</td>\n",
              "      <td>Clear</td>\n",
              "      <td>Clear</td>\n",
              "    </tr>\n",
              "    <tr>\n",
              "      <th>wind_kph</th>\n",
              "      <td>12.2</td>\n",
              "      <td>10.9</td>\n",
              "      <td>9.6</td>\n",
              "      <td>8.3</td>\n",
              "      <td>8.2</td>\n",
              "    </tr>\n",
              "    <tr>\n",
              "      <th>wind_degree</th>\n",
              "      <td>78</td>\n",
              "      <td>75</td>\n",
              "      <td>71</td>\n",
              "      <td>68</td>\n",
              "      <td>59</td>\n",
              "    </tr>\n",
              "    <tr>\n",
              "      <th>wind_dir</th>\n",
              "      <td>ENE</td>\n",
              "      <td>ENE</td>\n",
              "      <td>ENE</td>\n",
              "      <td>ENE</td>\n",
              "      <td>ENE</td>\n",
              "    </tr>\n",
              "    <tr>\n",
              "      <th>air_pressure</th>\n",
              "      <td>1013.88</td>\n",
              "      <td>1013.73</td>\n",
              "      <td>1013.58</td>\n",
              "      <td>1013.42</td>\n",
              "      <td>1012.62</td>\n",
              "    </tr>\n",
              "    <tr>\n",
              "      <th>precipitation</th>\n",
              "      <td>0.0</td>\n",
              "      <td>0.0</td>\n",
              "      <td>0.0</td>\n",
              "      <td>0.0</td>\n",
              "      <td>0.0</td>\n",
              "    </tr>\n",
              "    <tr>\n",
              "      <th>relative_humidity</th>\n",
              "      <td>67.3</td>\n",
              "      <td>63.67</td>\n",
              "      <td>60.03</td>\n",
              "      <td>56.4</td>\n",
              "      <td>55.9</td>\n",
              "    </tr>\n",
              "    <tr>\n",
              "      <th>cloud</th>\n",
              "      <td>10</td>\n",
              "      <td>14</td>\n",
              "      <td>18</td>\n",
              "      <td>22</td>\n",
              "      <td>30</td>\n",
              "    </tr>\n",
              "    <tr>\n",
              "      <th>feelslike_c</th>\n",
              "      <td>26.3</td>\n",
              "      <td>26.1</td>\n",
              "      <td>26.0</td>\n",
              "      <td>25.8</td>\n",
              "      <td>25.7</td>\n",
              "    </tr>\n",
              "    <tr>\n",
              "      <th>will_it_rain</th>\n",
              "      <td>0</td>\n",
              "      <td>0</td>\n",
              "      <td>0</td>\n",
              "      <td>0</td>\n",
              "      <td>0</td>\n",
              "    </tr>\n",
              "    <tr>\n",
              "      <th>chance_of_rain</th>\n",
              "      <td>0</td>\n",
              "      <td>0</td>\n",
              "      <td>0</td>\n",
              "      <td>0</td>\n",
              "      <td>0</td>\n",
              "    </tr>\n",
              "    <tr>\n",
              "      <th>year</th>\n",
              "      <td>2021</td>\n",
              "      <td>2021</td>\n",
              "      <td>2021</td>\n",
              "      <td>2021</td>\n",
              "      <td>2021</td>\n",
              "    </tr>\n",
              "    <tr>\n",
              "      <th>month</th>\n",
              "      <td>12</td>\n",
              "      <td>12</td>\n",
              "      <td>12</td>\n",
              "      <td>12</td>\n",
              "      <td>12</td>\n",
              "    </tr>\n",
              "    <tr>\n",
              "      <th>day</th>\n",
              "      <td>10</td>\n",
              "      <td>10</td>\n",
              "      <td>10</td>\n",
              "      <td>10</td>\n",
              "      <td>10</td>\n",
              "    </tr>\n",
              "    <tr>\n",
              "      <th>hour</th>\n",
              "      <td>0</td>\n",
              "      <td>1</td>\n",
              "      <td>2</td>\n",
              "      <td>3</td>\n",
              "      <td>4</td>\n",
              "    </tr>\n",
              "    <tr>\n",
              "      <th>dayOfWeek</th>\n",
              "      <td>4</td>\n",
              "      <td>4</td>\n",
              "      <td>4</td>\n",
              "      <td>4</td>\n",
              "      <td>4</td>\n",
              "    </tr>\n",
              "  </tbody>\n",
              "</table>\n",
              "</div>\n",
              "      <button class=\"colab-df-convert\" onclick=\"convertToInteractive('df-92196c54-0123-4375-a03a-ea76e78f550f')\"\n",
              "              title=\"Convert this dataframe to an interactive table.\"\n",
              "              style=\"display:none;\">\n",
              "        \n",
              "  <svg xmlns=\"http://www.w3.org/2000/svg\" height=\"24px\"viewBox=\"0 0 24 24\"\n",
              "       width=\"24px\">\n",
              "    <path d=\"M0 0h24v24H0V0z\" fill=\"none\"/>\n",
              "    <path d=\"M18.56 5.44l.94 2.06.94-2.06 2.06-.94-2.06-.94-.94-2.06-.94 2.06-2.06.94zm-11 1L8.5 8.5l.94-2.06 2.06-.94-2.06-.94L8.5 2.5l-.94 2.06-2.06.94zm10 10l.94 2.06.94-2.06 2.06-.94-2.06-.94-.94-2.06-.94 2.06-2.06.94z\"/><path d=\"M17.41 7.96l-1.37-1.37c-.4-.4-.92-.59-1.43-.59-.52 0-1.04.2-1.43.59L10.3 9.45l-7.72 7.72c-.78.78-.78 2.05 0 2.83L4 21.41c.39.39.9.59 1.41.59.51 0 1.02-.2 1.41-.59l7.78-7.78 2.81-2.81c.8-.78.8-2.07 0-2.86zM5.41 20L4 18.59l7.72-7.72 1.47 1.35L5.41 20z\"/>\n",
              "  </svg>\n",
              "      </button>\n",
              "      \n",
              "  <style>\n",
              "    .colab-df-container {\n",
              "      display:flex;\n",
              "      flex-wrap:wrap;\n",
              "      gap: 12px;\n",
              "    }\n",
              "\n",
              "    .colab-df-convert {\n",
              "      background-color: #E8F0FE;\n",
              "      border: none;\n",
              "      border-radius: 50%;\n",
              "      cursor: pointer;\n",
              "      display: none;\n",
              "      fill: #1967D2;\n",
              "      height: 32px;\n",
              "      padding: 0 0 0 0;\n",
              "      width: 32px;\n",
              "    }\n",
              "\n",
              "    .colab-df-convert:hover {\n",
              "      background-color: #E2EBFA;\n",
              "      box-shadow: 0px 1px 2px rgba(60, 64, 67, 0.3), 0px 1px 3px 1px rgba(60, 64, 67, 0.15);\n",
              "      fill: #174EA6;\n",
              "    }\n",
              "\n",
              "    [theme=dark] .colab-df-convert {\n",
              "      background-color: #3B4455;\n",
              "      fill: #D2E3FC;\n",
              "    }\n",
              "\n",
              "    [theme=dark] .colab-df-convert:hover {\n",
              "      background-color: #434B5C;\n",
              "      box-shadow: 0px 1px 3px 1px rgba(0, 0, 0, 0.15);\n",
              "      filter: drop-shadow(0px 1px 2px rgba(0, 0, 0, 0.3));\n",
              "      fill: #FFFFFF;\n",
              "    }\n",
              "  </style>\n",
              "\n",
              "      <script>\n",
              "        const buttonEl =\n",
              "          document.querySelector('#df-92196c54-0123-4375-a03a-ea76e78f550f button.colab-df-convert');\n",
              "        buttonEl.style.display =\n",
              "          google.colab.kernel.accessAllowed ? 'block' : 'none';\n",
              "\n",
              "        async function convertToInteractive(key) {\n",
              "          const element = document.querySelector('#df-92196c54-0123-4375-a03a-ea76e78f550f');\n",
              "          const dataTable =\n",
              "            await google.colab.kernel.invokeFunction('convertToInteractive',\n",
              "                                                     [key], {});\n",
              "          if (!dataTable) return;\n",
              "\n",
              "          const docLinkHtml = 'Like what you see? Visit the ' +\n",
              "            '<a target=\"_blank\" href=https://colab.research.google.com/notebooks/data_table.ipynb>data table notebook</a>'\n",
              "            + ' to learn more about interactive tables.';\n",
              "          element.innerHTML = '';\n",
              "          dataTable['output_type'] = 'display_data';\n",
              "          await google.colab.output.renderOutput(dataTable, element);\n",
              "          const docLink = document.createElement('div');\n",
              "          docLink.innerHTML = docLinkHtml;\n",
              "          element.appendChild(docLink);\n",
              "        }\n",
              "      </script>\n",
              "    </div>\n",
              "  </div>\n",
              "  "
            ]
          },
          "metadata": {},
          "execution_count": 10
        }
      ],
      "source": [
        "x_time = df['time']\n",
        "df.drop(columns=['time'], inplace=True, axis=1)\n",
        "df.drop(columns=['will_it_rain', 'chance_of_rain'])\n",
        "df.head().T"
      ]
    },
    {
      "cell_type": "markdown",
      "metadata": {
        "id": "IlFOLPQO9VPy"
      },
      "source": [
        "## Model driven EDA"
      ]
    },
    {
      "cell_type": "code",
      "execution_count": 11,
      "metadata": {
        "id": "zOLWBiVEBHgX"
      },
      "outputs": [],
      "source": [
        "from sklearn.ensemble import RandomForestRegressor \n",
        "\n",
        "model = RandomForestRegressor(\n",
        "    n_jobs=1,\n",
        "    random_state=42\n",
        ")"
      ]
    },
    {
      "cell_type": "markdown",
      "metadata": {
        "id": "gtvKG3HZBcjc"
      },
      "source": [
        "### Turning data into pandas categories"
      ]
    },
    {
      "cell_type": "code",
      "execution_count": 12,
      "metadata": {
        "colab": {
          "base_uri": "https://localhost:8080/"
        },
        "id": "Nz_ZFSvmBfDt",
        "outputId": "ddb4fd15-24d3-4de3-b0ab-8ca8cc0bb3f2"
      },
      "outputs": [
        {
          "output_type": "stream",
          "name": "stdout",
          "text": [
            "name\n",
            "region\n",
            "country\n",
            "condition\n",
            "wind_dir\n"
          ]
        }
      ],
      "source": [
        "for label, content in df.items():\n",
        "    if pd.api.types.is_string_dtype(content):\n",
        "        print(label)"
      ]
    },
    {
      "cell_type": "code",
      "execution_count": 13,
      "metadata": {
        "id": "5By1HkPEBnBO"
      },
      "outputs": [],
      "source": [
        "for label, content in df.items(): \n",
        "    if pd.api.types.is_string_dtype(content):\n",
        "        df[label] = content.astype('category').cat.as_ordered()"
      ]
    },
    {
      "cell_type": "code",
      "execution_count": 14,
      "metadata": {
        "colab": {
          "base_uri": "https://localhost:8080/"
        },
        "id": "jn63oXi5B5x8",
        "outputId": "13884ec5-31ae-47a0-cf1a-2c4f972fc8e1"
      },
      "outputs": [
        {
          "output_type": "stream",
          "name": "stdout",
          "text": [
            "<class 'pandas.core.frame.DataFrame'>\n",
            "RangeIndex: 2232 entries, 0 to 2231\n",
            "Data columns (total 23 columns):\n",
            " #   Column             Non-Null Count  Dtype   \n",
            "---  ------             --------------  -----   \n",
            " 0   name               2232 non-null   category\n",
            " 1   region             2232 non-null   category\n",
            " 2   country            2232 non-null   category\n",
            " 3   longitude          2232 non-null   float64 \n",
            " 4   latitude           2232 non-null   float64 \n",
            " 5   temp_c             2232 non-null   float64 \n",
            " 6   is_day             2232 non-null   int64   \n",
            " 7   condition          2232 non-null   category\n",
            " 8   wind_kph           2232 non-null   float64 \n",
            " 9   wind_degree        2232 non-null   int64   \n",
            " 10  wind_dir           2232 non-null   category\n",
            " 11  air_pressure       2232 non-null   float64 \n",
            " 12  precipitation      2232 non-null   float64 \n",
            " 13  relative_humidity  2232 non-null   float64 \n",
            " 14  cloud              2232 non-null   int64   \n",
            " 15  feelslike_c        2232 non-null   float64 \n",
            " 16  will_it_rain       2232 non-null   int64   \n",
            " 17  chance_of_rain     2232 non-null   int64   \n",
            " 18  year               2232 non-null   int64   \n",
            " 19  month              2232 non-null   int64   \n",
            " 20  day                2232 non-null   int64   \n",
            " 21  hour               2232 non-null   int64   \n",
            " 22  dayOfWeek          2232 non-null   int64   \n",
            "dtypes: category(5), float64(8), int64(10)\n",
            "memory usage: 326.3 KB\n"
          ]
        }
      ],
      "source": [
        "df.info()"
      ]
    },
    {
      "cell_type": "code",
      "execution_count": 15,
      "metadata": {
        "colab": {
          "base_uri": "https://localhost:8080/"
        },
        "id": "_Y5LVTlUB7Di",
        "outputId": "69af1e43-c8db-4b58-f493-b490030949b6"
      },
      "outputs": [
        {
          "output_type": "stream",
          "name": "stdout",
          "text": [
            "name                 0.0\n",
            "region               0.0\n",
            "country              0.0\n",
            "longitude            0.0\n",
            "latitude             0.0\n",
            "temp_c               0.0\n",
            "is_day               0.0\n",
            "condition            0.0\n",
            "wind_kph             0.0\n",
            "wind_degree          0.0\n",
            "wind_dir             0.0\n",
            "air_pressure         0.0\n",
            "precipitation        0.0\n",
            "relative_humidity    0.0\n",
            "cloud                0.0\n",
            "feelslike_c          0.0\n",
            "will_it_rain         0.0\n",
            "chance_of_rain       0.0\n",
            "year                 0.0\n",
            "month                0.0\n",
            "day                  0.0\n",
            "hour                 0.0\n",
            "dayOfWeek            0.0\n",
            "dtype: float64%\n"
          ]
        }
      ],
      "source": [
        "print(f'{df.isnull().sum() / len(df) * 100}%')"
      ]
    },
    {
      "cell_type": "code",
      "execution_count": 16,
      "metadata": {
        "id": "DZwoN6N0CGoT"
      },
      "outputs": [],
      "source": [
        "\n",
        "\n",
        "# Check if there is any null numeric values\n",
        "for label, content in df.items():\n",
        "    if pd.api.types.is_numeric_dtype(content):\n",
        "        if pd.isnull(content).sum():\n",
        "            print(label)"
      ]
    },
    {
      "cell_type": "code",
      "execution_count": 17,
      "metadata": {
        "colab": {
          "base_uri": "https://localhost:8080/"
        },
        "id": "bXRzy5BvCgsD",
        "outputId": "18a9cb7e-64f8-49a6-dd43-8fd37abf3694"
      },
      "outputs": [
        {
          "output_type": "stream",
          "name": "stdout",
          "text": [
            "name\n",
            "region\n",
            "country\n",
            "condition\n",
            "wind_dir\n"
          ]
        }
      ],
      "source": [
        "\n",
        "\n",
        "# Check for columns which aren't numeric\n",
        "for label, content in df.items():\n",
        "    if not pd.api.types.is_numeric_dtype(content):\n",
        "        print(label)\n",
        "\n"
      ]
    },
    {
      "cell_type": "code",
      "execution_count": 18,
      "metadata": {
        "id": "1hrMRPtOCk1d"
      },
      "outputs": [],
      "source": [
        "# Turns categorical variables into numbers and fills missing\n",
        "for label, content in df.items():\n",
        "    if not pd.api.types.is_numeric_dtype(content):\n",
        "        #add binary column to indicate whether sample has missing value\n",
        "        df[label+'_is_missing'] = pd.isnull(content)\n",
        "        #turns categories into numbers and add + 1\n",
        "        # Add 1 to avoid having -1 values in the data (ie, missing values)\n",
        "        df[label] = pd.Categorical(content).codes + 1\n"
      ]
    },
    {
      "cell_type": "code",
      "execution_count": 19,
      "metadata": {
        "colab": {
          "base_uri": "https://localhost:8080/"
        },
        "id": "lHcw0vufCy8_",
        "outputId": "186db267-484d-4d01-823b-6373619ed370"
      },
      "outputs": [
        {
          "output_type": "execute_result",
          "data": {
            "text/plain": [
              "name                    0\n",
              "region                  0\n",
              "country                 0\n",
              "longitude               0\n",
              "latitude                0\n",
              "temp_c                  0\n",
              "is_day                  0\n",
              "condition               0\n",
              "wind_kph                0\n",
              "wind_degree             0\n",
              "wind_dir                0\n",
              "air_pressure            0\n",
              "precipitation           0\n",
              "relative_humidity       0\n",
              "cloud                   0\n",
              "feelslike_c             0\n",
              "will_it_rain            0\n",
              "chance_of_rain          0\n",
              "year                    0\n",
              "month                   0\n",
              "day                     0\n",
              "hour                    0\n",
              "dayOfWeek               0\n",
              "name_is_missing         0\n",
              "region_is_missing       0\n",
              "country_is_missing      0\n",
              "condition_is_missing    0\n",
              "wind_dir_is_missing     0\n",
              "dtype: int64"
            ]
          },
          "metadata": {},
          "execution_count": 19
        }
      ],
      "source": [
        "df.isna().sum()"
      ]
    },
    {
      "cell_type": "code",
      "execution_count": 20,
      "metadata": {
        "colab": {
          "base_uri": "https://localhost:8080/",
          "height": 299
        },
        "id": "cjU77Eo-C03i",
        "outputId": "9f5c5761-14c9-4b58-e623-d73060f14e5f"
      },
      "outputs": [
        {
          "output_type": "execute_result",
          "data": {
            "text/plain": [
              "   name  region  country  longitude  latitude  temp_c  is_day  condition  \\\n",
              "0     1       2        1     121.03     14.57    24.8       0          1   \n",
              "1     1       2        1     121.03     14.57    24.6       0          1   \n",
              "2     1       2        1     121.03     14.57    24.3       0          1   \n",
              "3     1       2        1     121.03     14.57    24.1       0          1   \n",
              "4     1       2        1     121.03     14.57    24.0       0          1   \n",
              "\n",
              "   wind_kph  wind_degree  ...  year  month  day  hour  dayOfWeek  \\\n",
              "0      12.2           78  ...  2021     12   10     0          4   \n",
              "1      10.9           75  ...  2021     12   10     1          4   \n",
              "2       9.6           71  ...  2021     12   10     2          4   \n",
              "3       8.3           68  ...  2021     12   10     3          4   \n",
              "4       8.2           59  ...  2021     12   10     4          4   \n",
              "\n",
              "   name_is_missing  region_is_missing  country_is_missing  \\\n",
              "0            False              False               False   \n",
              "1            False              False               False   \n",
              "2            False              False               False   \n",
              "3            False              False               False   \n",
              "4            False              False               False   \n",
              "\n",
              "   condition_is_missing  wind_dir_is_missing  \n",
              "0                 False                False  \n",
              "1                 False                False  \n",
              "2                 False                False  \n",
              "3                 False                False  \n",
              "4                 False                False  \n",
              "\n",
              "[5 rows x 28 columns]"
            ],
            "text/html": [
              "\n",
              "  <div id=\"df-127ad4d8-90e0-4484-8a47-565379c6befb\">\n",
              "    <div class=\"colab-df-container\">\n",
              "      <div>\n",
              "<style scoped>\n",
              "    .dataframe tbody tr th:only-of-type {\n",
              "        vertical-align: middle;\n",
              "    }\n",
              "\n",
              "    .dataframe tbody tr th {\n",
              "        vertical-align: top;\n",
              "    }\n",
              "\n",
              "    .dataframe thead th {\n",
              "        text-align: right;\n",
              "    }\n",
              "</style>\n",
              "<table border=\"1\" class=\"dataframe\">\n",
              "  <thead>\n",
              "    <tr style=\"text-align: right;\">\n",
              "      <th></th>\n",
              "      <th>name</th>\n",
              "      <th>region</th>\n",
              "      <th>country</th>\n",
              "      <th>longitude</th>\n",
              "      <th>latitude</th>\n",
              "      <th>temp_c</th>\n",
              "      <th>is_day</th>\n",
              "      <th>condition</th>\n",
              "      <th>wind_kph</th>\n",
              "      <th>wind_degree</th>\n",
              "      <th>...</th>\n",
              "      <th>year</th>\n",
              "      <th>month</th>\n",
              "      <th>day</th>\n",
              "      <th>hour</th>\n",
              "      <th>dayOfWeek</th>\n",
              "      <th>name_is_missing</th>\n",
              "      <th>region_is_missing</th>\n",
              "      <th>country_is_missing</th>\n",
              "      <th>condition_is_missing</th>\n",
              "      <th>wind_dir_is_missing</th>\n",
              "    </tr>\n",
              "  </thead>\n",
              "  <tbody>\n",
              "    <tr>\n",
              "      <th>0</th>\n",
              "      <td>1</td>\n",
              "      <td>2</td>\n",
              "      <td>1</td>\n",
              "      <td>121.03</td>\n",
              "      <td>14.57</td>\n",
              "      <td>24.8</td>\n",
              "      <td>0</td>\n",
              "      <td>1</td>\n",
              "      <td>12.2</td>\n",
              "      <td>78</td>\n",
              "      <td>...</td>\n",
              "      <td>2021</td>\n",
              "      <td>12</td>\n",
              "      <td>10</td>\n",
              "      <td>0</td>\n",
              "      <td>4</td>\n",
              "      <td>False</td>\n",
              "      <td>False</td>\n",
              "      <td>False</td>\n",
              "      <td>False</td>\n",
              "      <td>False</td>\n",
              "    </tr>\n",
              "    <tr>\n",
              "      <th>1</th>\n",
              "      <td>1</td>\n",
              "      <td>2</td>\n",
              "      <td>1</td>\n",
              "      <td>121.03</td>\n",
              "      <td>14.57</td>\n",
              "      <td>24.6</td>\n",
              "      <td>0</td>\n",
              "      <td>1</td>\n",
              "      <td>10.9</td>\n",
              "      <td>75</td>\n",
              "      <td>...</td>\n",
              "      <td>2021</td>\n",
              "      <td>12</td>\n",
              "      <td>10</td>\n",
              "      <td>1</td>\n",
              "      <td>4</td>\n",
              "      <td>False</td>\n",
              "      <td>False</td>\n",
              "      <td>False</td>\n",
              "      <td>False</td>\n",
              "      <td>False</td>\n",
              "    </tr>\n",
              "    <tr>\n",
              "      <th>2</th>\n",
              "      <td>1</td>\n",
              "      <td>2</td>\n",
              "      <td>1</td>\n",
              "      <td>121.03</td>\n",
              "      <td>14.57</td>\n",
              "      <td>24.3</td>\n",
              "      <td>0</td>\n",
              "      <td>1</td>\n",
              "      <td>9.6</td>\n",
              "      <td>71</td>\n",
              "      <td>...</td>\n",
              "      <td>2021</td>\n",
              "      <td>12</td>\n",
              "      <td>10</td>\n",
              "      <td>2</td>\n",
              "      <td>4</td>\n",
              "      <td>False</td>\n",
              "      <td>False</td>\n",
              "      <td>False</td>\n",
              "      <td>False</td>\n",
              "      <td>False</td>\n",
              "    </tr>\n",
              "    <tr>\n",
              "      <th>3</th>\n",
              "      <td>1</td>\n",
              "      <td>2</td>\n",
              "      <td>1</td>\n",
              "      <td>121.03</td>\n",
              "      <td>14.57</td>\n",
              "      <td>24.1</td>\n",
              "      <td>0</td>\n",
              "      <td>1</td>\n",
              "      <td>8.3</td>\n",
              "      <td>68</td>\n",
              "      <td>...</td>\n",
              "      <td>2021</td>\n",
              "      <td>12</td>\n",
              "      <td>10</td>\n",
              "      <td>3</td>\n",
              "      <td>4</td>\n",
              "      <td>False</td>\n",
              "      <td>False</td>\n",
              "      <td>False</td>\n",
              "      <td>False</td>\n",
              "      <td>False</td>\n",
              "    </tr>\n",
              "    <tr>\n",
              "      <th>4</th>\n",
              "      <td>1</td>\n",
              "      <td>2</td>\n",
              "      <td>1</td>\n",
              "      <td>121.03</td>\n",
              "      <td>14.57</td>\n",
              "      <td>24.0</td>\n",
              "      <td>0</td>\n",
              "      <td>1</td>\n",
              "      <td>8.2</td>\n",
              "      <td>59</td>\n",
              "      <td>...</td>\n",
              "      <td>2021</td>\n",
              "      <td>12</td>\n",
              "      <td>10</td>\n",
              "      <td>4</td>\n",
              "      <td>4</td>\n",
              "      <td>False</td>\n",
              "      <td>False</td>\n",
              "      <td>False</td>\n",
              "      <td>False</td>\n",
              "      <td>False</td>\n",
              "    </tr>\n",
              "  </tbody>\n",
              "</table>\n",
              "<p>5 rows × 28 columns</p>\n",
              "</div>\n",
              "      <button class=\"colab-df-convert\" onclick=\"convertToInteractive('df-127ad4d8-90e0-4484-8a47-565379c6befb')\"\n",
              "              title=\"Convert this dataframe to an interactive table.\"\n",
              "              style=\"display:none;\">\n",
              "        \n",
              "  <svg xmlns=\"http://www.w3.org/2000/svg\" height=\"24px\"viewBox=\"0 0 24 24\"\n",
              "       width=\"24px\">\n",
              "    <path d=\"M0 0h24v24H0V0z\" fill=\"none\"/>\n",
              "    <path d=\"M18.56 5.44l.94 2.06.94-2.06 2.06-.94-2.06-.94-.94-2.06-.94 2.06-2.06.94zm-11 1L8.5 8.5l.94-2.06 2.06-.94-2.06-.94L8.5 2.5l-.94 2.06-2.06.94zm10 10l.94 2.06.94-2.06 2.06-.94-2.06-.94-.94-2.06-.94 2.06-2.06.94z\"/><path d=\"M17.41 7.96l-1.37-1.37c-.4-.4-.92-.59-1.43-.59-.52 0-1.04.2-1.43.59L10.3 9.45l-7.72 7.72c-.78.78-.78 2.05 0 2.83L4 21.41c.39.39.9.59 1.41.59.51 0 1.02-.2 1.41-.59l7.78-7.78 2.81-2.81c.8-.78.8-2.07 0-2.86zM5.41 20L4 18.59l7.72-7.72 1.47 1.35L5.41 20z\"/>\n",
              "  </svg>\n",
              "      </button>\n",
              "      \n",
              "  <style>\n",
              "    .colab-df-container {\n",
              "      display:flex;\n",
              "      flex-wrap:wrap;\n",
              "      gap: 12px;\n",
              "    }\n",
              "\n",
              "    .colab-df-convert {\n",
              "      background-color: #E8F0FE;\n",
              "      border: none;\n",
              "      border-radius: 50%;\n",
              "      cursor: pointer;\n",
              "      display: none;\n",
              "      fill: #1967D2;\n",
              "      height: 32px;\n",
              "      padding: 0 0 0 0;\n",
              "      width: 32px;\n",
              "    }\n",
              "\n",
              "    .colab-df-convert:hover {\n",
              "      background-color: #E2EBFA;\n",
              "      box-shadow: 0px 1px 2px rgba(60, 64, 67, 0.3), 0px 1px 3px 1px rgba(60, 64, 67, 0.15);\n",
              "      fill: #174EA6;\n",
              "    }\n",
              "\n",
              "    [theme=dark] .colab-df-convert {\n",
              "      background-color: #3B4455;\n",
              "      fill: #D2E3FC;\n",
              "    }\n",
              "\n",
              "    [theme=dark] .colab-df-convert:hover {\n",
              "      background-color: #434B5C;\n",
              "      box-shadow: 0px 1px 3px 1px rgba(0, 0, 0, 0.15);\n",
              "      filter: drop-shadow(0px 1px 2px rgba(0, 0, 0, 0.3));\n",
              "      fill: #FFFFFF;\n",
              "    }\n",
              "  </style>\n",
              "\n",
              "      <script>\n",
              "        const buttonEl =\n",
              "          document.querySelector('#df-127ad4d8-90e0-4484-8a47-565379c6befb button.colab-df-convert');\n",
              "        buttonEl.style.display =\n",
              "          google.colab.kernel.accessAllowed ? 'block' : 'none';\n",
              "\n",
              "        async function convertToInteractive(key) {\n",
              "          const element = document.querySelector('#df-127ad4d8-90e0-4484-8a47-565379c6befb');\n",
              "          const dataTable =\n",
              "            await google.colab.kernel.invokeFunction('convertToInteractive',\n",
              "                                                     [key], {});\n",
              "          if (!dataTable) return;\n",
              "\n",
              "          const docLinkHtml = 'Like what you see? Visit the ' +\n",
              "            '<a target=\"_blank\" href=https://colab.research.google.com/notebooks/data_table.ipynb>data table notebook</a>'\n",
              "            + ' to learn more about interactive tables.';\n",
              "          element.innerHTML = '';\n",
              "          dataTable['output_type'] = 'display_data';\n",
              "          await google.colab.output.renderOutput(dataTable, element);\n",
              "          const docLink = document.createElement('div');\n",
              "          docLink.innerHTML = docLinkHtml;\n",
              "          element.appendChild(docLink);\n",
              "        }\n",
              "      </script>\n",
              "    </div>\n",
              "  </div>\n",
              "  "
            ]
          },
          "metadata": {},
          "execution_count": 20
        }
      ],
      "source": [
        "df.head()"
      ]
    },
    {
      "cell_type": "code",
      "execution_count": 21,
      "metadata": {
        "colab": {
          "base_uri": "https://localhost:8080/",
          "height": 299
        },
        "id": "58jPozbqC2Op",
        "outputId": "16131491-72e2-4a7b-cda3-d8e99bbbb096"
      },
      "outputs": [
        {
          "output_type": "execute_result",
          "data": {
            "text/plain": [
              "   name  country  longitude  latitude  temp_c  is_day  condition  wind_kph  \\\n",
              "0     1        1     121.03     14.57    24.8       0          1      12.2   \n",
              "1     1        1     121.03     14.57    24.6       0          1      10.9   \n",
              "2     1        1     121.03     14.57    24.3       0          1       9.6   \n",
              "3     1        1     121.03     14.57    24.1       0          1       8.3   \n",
              "4     1        1     121.03     14.57    24.0       0          1       8.2   \n",
              "\n",
              "   wind_degree  wind_dir  ...  relative_humidity  cloud  feelslike_c  \\\n",
              "0           78         2  ...              67.30     10         26.3   \n",
              "1           75         2  ...              63.67     14         26.1   \n",
              "2           71         2  ...              60.03     18         26.0   \n",
              "3           68         2  ...              56.40     22         25.8   \n",
              "4           59         2  ...              55.90     30         25.7   \n",
              "\n",
              "   will_it_rain  chance_of_rain  year  month  day  hour  dayOfWeek  \n",
              "0             0               0  2021     12   10     0          4  \n",
              "1             0               0  2021     12   10     1          4  \n",
              "2             0               0  2021     12   10     2          4  \n",
              "3             0               0  2021     12   10     3          4  \n",
              "4             0               0  2021     12   10     4          4  \n",
              "\n",
              "[5 rows x 22 columns]"
            ],
            "text/html": [
              "\n",
              "  <div id=\"df-53fd01ca-28d4-42a3-8647-896489de0342\">\n",
              "    <div class=\"colab-df-container\">\n",
              "      <div>\n",
              "<style scoped>\n",
              "    .dataframe tbody tr th:only-of-type {\n",
              "        vertical-align: middle;\n",
              "    }\n",
              "\n",
              "    .dataframe tbody tr th {\n",
              "        vertical-align: top;\n",
              "    }\n",
              "\n",
              "    .dataframe thead th {\n",
              "        text-align: right;\n",
              "    }\n",
              "</style>\n",
              "<table border=\"1\" class=\"dataframe\">\n",
              "  <thead>\n",
              "    <tr style=\"text-align: right;\">\n",
              "      <th></th>\n",
              "      <th>name</th>\n",
              "      <th>country</th>\n",
              "      <th>longitude</th>\n",
              "      <th>latitude</th>\n",
              "      <th>temp_c</th>\n",
              "      <th>is_day</th>\n",
              "      <th>condition</th>\n",
              "      <th>wind_kph</th>\n",
              "      <th>wind_degree</th>\n",
              "      <th>wind_dir</th>\n",
              "      <th>...</th>\n",
              "      <th>relative_humidity</th>\n",
              "      <th>cloud</th>\n",
              "      <th>feelslike_c</th>\n",
              "      <th>will_it_rain</th>\n",
              "      <th>chance_of_rain</th>\n",
              "      <th>year</th>\n",
              "      <th>month</th>\n",
              "      <th>day</th>\n",
              "      <th>hour</th>\n",
              "      <th>dayOfWeek</th>\n",
              "    </tr>\n",
              "  </thead>\n",
              "  <tbody>\n",
              "    <tr>\n",
              "      <th>0</th>\n",
              "      <td>1</td>\n",
              "      <td>1</td>\n",
              "      <td>121.03</td>\n",
              "      <td>14.57</td>\n",
              "      <td>24.8</td>\n",
              "      <td>0</td>\n",
              "      <td>1</td>\n",
              "      <td>12.2</td>\n",
              "      <td>78</td>\n",
              "      <td>2</td>\n",
              "      <td>...</td>\n",
              "      <td>67.30</td>\n",
              "      <td>10</td>\n",
              "      <td>26.3</td>\n",
              "      <td>0</td>\n",
              "      <td>0</td>\n",
              "      <td>2021</td>\n",
              "      <td>12</td>\n",
              "      <td>10</td>\n",
              "      <td>0</td>\n",
              "      <td>4</td>\n",
              "    </tr>\n",
              "    <tr>\n",
              "      <th>1</th>\n",
              "      <td>1</td>\n",
              "      <td>1</td>\n",
              "      <td>121.03</td>\n",
              "      <td>14.57</td>\n",
              "      <td>24.6</td>\n",
              "      <td>0</td>\n",
              "      <td>1</td>\n",
              "      <td>10.9</td>\n",
              "      <td>75</td>\n",
              "      <td>2</td>\n",
              "      <td>...</td>\n",
              "      <td>63.67</td>\n",
              "      <td>14</td>\n",
              "      <td>26.1</td>\n",
              "      <td>0</td>\n",
              "      <td>0</td>\n",
              "      <td>2021</td>\n",
              "      <td>12</td>\n",
              "      <td>10</td>\n",
              "      <td>1</td>\n",
              "      <td>4</td>\n",
              "    </tr>\n",
              "    <tr>\n",
              "      <th>2</th>\n",
              "      <td>1</td>\n",
              "      <td>1</td>\n",
              "      <td>121.03</td>\n",
              "      <td>14.57</td>\n",
              "      <td>24.3</td>\n",
              "      <td>0</td>\n",
              "      <td>1</td>\n",
              "      <td>9.6</td>\n",
              "      <td>71</td>\n",
              "      <td>2</td>\n",
              "      <td>...</td>\n",
              "      <td>60.03</td>\n",
              "      <td>18</td>\n",
              "      <td>26.0</td>\n",
              "      <td>0</td>\n",
              "      <td>0</td>\n",
              "      <td>2021</td>\n",
              "      <td>12</td>\n",
              "      <td>10</td>\n",
              "      <td>2</td>\n",
              "      <td>4</td>\n",
              "    </tr>\n",
              "    <tr>\n",
              "      <th>3</th>\n",
              "      <td>1</td>\n",
              "      <td>1</td>\n",
              "      <td>121.03</td>\n",
              "      <td>14.57</td>\n",
              "      <td>24.1</td>\n",
              "      <td>0</td>\n",
              "      <td>1</td>\n",
              "      <td>8.3</td>\n",
              "      <td>68</td>\n",
              "      <td>2</td>\n",
              "      <td>...</td>\n",
              "      <td>56.40</td>\n",
              "      <td>22</td>\n",
              "      <td>25.8</td>\n",
              "      <td>0</td>\n",
              "      <td>0</td>\n",
              "      <td>2021</td>\n",
              "      <td>12</td>\n",
              "      <td>10</td>\n",
              "      <td>3</td>\n",
              "      <td>4</td>\n",
              "    </tr>\n",
              "    <tr>\n",
              "      <th>4</th>\n",
              "      <td>1</td>\n",
              "      <td>1</td>\n",
              "      <td>121.03</td>\n",
              "      <td>14.57</td>\n",
              "      <td>24.0</td>\n",
              "      <td>0</td>\n",
              "      <td>1</td>\n",
              "      <td>8.2</td>\n",
              "      <td>59</td>\n",
              "      <td>2</td>\n",
              "      <td>...</td>\n",
              "      <td>55.90</td>\n",
              "      <td>30</td>\n",
              "      <td>25.7</td>\n",
              "      <td>0</td>\n",
              "      <td>0</td>\n",
              "      <td>2021</td>\n",
              "      <td>12</td>\n",
              "      <td>10</td>\n",
              "      <td>4</td>\n",
              "      <td>4</td>\n",
              "    </tr>\n",
              "  </tbody>\n",
              "</table>\n",
              "<p>5 rows × 22 columns</p>\n",
              "</div>\n",
              "      <button class=\"colab-df-convert\" onclick=\"convertToInteractive('df-53fd01ca-28d4-42a3-8647-896489de0342')\"\n",
              "              title=\"Convert this dataframe to an interactive table.\"\n",
              "              style=\"display:none;\">\n",
              "        \n",
              "  <svg xmlns=\"http://www.w3.org/2000/svg\" height=\"24px\"viewBox=\"0 0 24 24\"\n",
              "       width=\"24px\">\n",
              "    <path d=\"M0 0h24v24H0V0z\" fill=\"none\"/>\n",
              "    <path d=\"M18.56 5.44l.94 2.06.94-2.06 2.06-.94-2.06-.94-.94-2.06-.94 2.06-2.06.94zm-11 1L8.5 8.5l.94-2.06 2.06-.94-2.06-.94L8.5 2.5l-.94 2.06-2.06.94zm10 10l.94 2.06.94-2.06 2.06-.94-2.06-.94-.94-2.06-.94 2.06-2.06.94z\"/><path d=\"M17.41 7.96l-1.37-1.37c-.4-.4-.92-.59-1.43-.59-.52 0-1.04.2-1.43.59L10.3 9.45l-7.72 7.72c-.78.78-.78 2.05 0 2.83L4 21.41c.39.39.9.59 1.41.59.51 0 1.02-.2 1.41-.59l7.78-7.78 2.81-2.81c.8-.78.8-2.07 0-2.86zM5.41 20L4 18.59l7.72-7.72 1.47 1.35L5.41 20z\"/>\n",
              "  </svg>\n",
              "      </button>\n",
              "      \n",
              "  <style>\n",
              "    .colab-df-container {\n",
              "      display:flex;\n",
              "      flex-wrap:wrap;\n",
              "      gap: 12px;\n",
              "    }\n",
              "\n",
              "    .colab-df-convert {\n",
              "      background-color: #E8F0FE;\n",
              "      border: none;\n",
              "      border-radius: 50%;\n",
              "      cursor: pointer;\n",
              "      display: none;\n",
              "      fill: #1967D2;\n",
              "      height: 32px;\n",
              "      padding: 0 0 0 0;\n",
              "      width: 32px;\n",
              "    }\n",
              "\n",
              "    .colab-df-convert:hover {\n",
              "      background-color: #E2EBFA;\n",
              "      box-shadow: 0px 1px 2px rgba(60, 64, 67, 0.3), 0px 1px 3px 1px rgba(60, 64, 67, 0.15);\n",
              "      fill: #174EA6;\n",
              "    }\n",
              "\n",
              "    [theme=dark] .colab-df-convert {\n",
              "      background-color: #3B4455;\n",
              "      fill: #D2E3FC;\n",
              "    }\n",
              "\n",
              "    [theme=dark] .colab-df-convert:hover {\n",
              "      background-color: #434B5C;\n",
              "      box-shadow: 0px 1px 3px 1px rgba(0, 0, 0, 0.15);\n",
              "      filter: drop-shadow(0px 1px 2px rgba(0, 0, 0, 0.3));\n",
              "      fill: #FFFFFF;\n",
              "    }\n",
              "  </style>\n",
              "\n",
              "      <script>\n",
              "        const buttonEl =\n",
              "          document.querySelector('#df-53fd01ca-28d4-42a3-8647-896489de0342 button.colab-df-convert');\n",
              "        buttonEl.style.display =\n",
              "          google.colab.kernel.accessAllowed ? 'block' : 'none';\n",
              "\n",
              "        async function convertToInteractive(key) {\n",
              "          const element = document.querySelector('#df-53fd01ca-28d4-42a3-8647-896489de0342');\n",
              "          const dataTable =\n",
              "            await google.colab.kernel.invokeFunction('convertToInteractive',\n",
              "                                                     [key], {});\n",
              "          if (!dataTable) return;\n",
              "\n",
              "          const docLinkHtml = 'Like what you see? Visit the ' +\n",
              "            '<a target=\"_blank\" href=https://colab.research.google.com/notebooks/data_table.ipynb>data table notebook</a>'\n",
              "            + ' to learn more about interactive tables.';\n",
              "          element.innerHTML = '';\n",
              "          dataTable['output_type'] = 'display_data';\n",
              "          await google.colab.output.renderOutput(dataTable, element);\n",
              "          const docLink = document.createElement('div');\n",
              "          docLink.innerHTML = docLinkHtml;\n",
              "          element.appendChild(docLink);\n",
              "        }\n",
              "      </script>\n",
              "    </div>\n",
              "  </div>\n",
              "  "
            ]
          },
          "metadata": {},
          "execution_count": 21
        }
      ],
      "source": [
        "df.drop(columns=['region', 'region_is_missing', 'name_is_missing', 'country_is_missing', 'condition_is_missing', 'wind_dir_is_missing'], inplace=True, axis=1)\n",
        "\n",
        "df.head()"
      ]
    },
    {
      "cell_type": "code",
      "source": [
        "a = 2 \n",
        "b = a  \n",
        "\n",
        "a += 2\n",
        "a, b"
      ],
      "metadata": {
        "colab": {
          "base_uri": "https://localhost:8080/"
        },
        "id": "kKDmFrNYVF50",
        "outputId": "6715d918-877e-4149-fb29-802c0b1616d6"
      },
      "execution_count": null,
      "outputs": [
        {
          "output_type": "execute_result",
          "data": {
            "text/plain": [
              "(4, 2)"
            ]
          },
          "metadata": {},
          "execution_count": 112
        }
      ]
    },
    {
      "cell_type": "markdown",
      "metadata": {
        "id": "0jashT4ADXIM"
      },
      "source": [
        "### Train and Test Sets"
      ]
    },
    {
      "cell_type": "code",
      "source": [
        "HORIZON = 1\n",
        "WINDOW = 7\n",
        "\n",
        "for i in range(WINDOW): # Shift values for each step in WINDOW_SIZE\n",
        "    df[f\"precipitation+{i+1}\"] = df[\"precipitation\"].shift(periods=i+1)\n",
        "df.head()"
      ],
      "metadata": {
        "colab": {
          "base_uri": "https://localhost:8080/",
          "height": 299
        },
        "id": "0Bq7n882rZvO",
        "outputId": "fbf5e0a8-cabb-4bc1-afc9-94207251a04a"
      },
      "execution_count": 22,
      "outputs": [
        {
          "output_type": "execute_result",
          "data": {
            "text/plain": [
              "   name  country  longitude  latitude  temp_c  is_day  condition  wind_kph  \\\n",
              "0     1        1     121.03     14.57    24.8       0          1      12.2   \n",
              "1     1        1     121.03     14.57    24.6       0          1      10.9   \n",
              "2     1        1     121.03     14.57    24.3       0          1       9.6   \n",
              "3     1        1     121.03     14.57    24.1       0          1       8.3   \n",
              "4     1        1     121.03     14.57    24.0       0          1       8.2   \n",
              "\n",
              "   wind_degree  wind_dir  ...  day  hour  dayOfWeek  precipitation+1  \\\n",
              "0           78         2  ...   10     0          4              NaN   \n",
              "1           75         2  ...   10     1          4              0.0   \n",
              "2           71         2  ...   10     2          4              0.0   \n",
              "3           68         2  ...   10     3          4              0.0   \n",
              "4           59         2  ...   10     4          4              0.0   \n",
              "\n",
              "   precipitation+2  precipitation+3  precipitation+4  precipitation+5  \\\n",
              "0              NaN              NaN              NaN              NaN   \n",
              "1              NaN              NaN              NaN              NaN   \n",
              "2              0.0              NaN              NaN              NaN   \n",
              "3              0.0              0.0              NaN              NaN   \n",
              "4              0.0              0.0              0.0              NaN   \n",
              "\n",
              "   precipitation+6  precipitation+7  \n",
              "0              NaN              NaN  \n",
              "1              NaN              NaN  \n",
              "2              NaN              NaN  \n",
              "3              NaN              NaN  \n",
              "4              NaN              NaN  \n",
              "\n",
              "[5 rows x 29 columns]"
            ],
            "text/html": [
              "\n",
              "  <div id=\"df-53ae37ad-7888-4b92-b02a-4cfc6e8c1bca\">\n",
              "    <div class=\"colab-df-container\">\n",
              "      <div>\n",
              "<style scoped>\n",
              "    .dataframe tbody tr th:only-of-type {\n",
              "        vertical-align: middle;\n",
              "    }\n",
              "\n",
              "    .dataframe tbody tr th {\n",
              "        vertical-align: top;\n",
              "    }\n",
              "\n",
              "    .dataframe thead th {\n",
              "        text-align: right;\n",
              "    }\n",
              "</style>\n",
              "<table border=\"1\" class=\"dataframe\">\n",
              "  <thead>\n",
              "    <tr style=\"text-align: right;\">\n",
              "      <th></th>\n",
              "      <th>name</th>\n",
              "      <th>country</th>\n",
              "      <th>longitude</th>\n",
              "      <th>latitude</th>\n",
              "      <th>temp_c</th>\n",
              "      <th>is_day</th>\n",
              "      <th>condition</th>\n",
              "      <th>wind_kph</th>\n",
              "      <th>wind_degree</th>\n",
              "      <th>wind_dir</th>\n",
              "      <th>...</th>\n",
              "      <th>day</th>\n",
              "      <th>hour</th>\n",
              "      <th>dayOfWeek</th>\n",
              "      <th>precipitation+1</th>\n",
              "      <th>precipitation+2</th>\n",
              "      <th>precipitation+3</th>\n",
              "      <th>precipitation+4</th>\n",
              "      <th>precipitation+5</th>\n",
              "      <th>precipitation+6</th>\n",
              "      <th>precipitation+7</th>\n",
              "    </tr>\n",
              "  </thead>\n",
              "  <tbody>\n",
              "    <tr>\n",
              "      <th>0</th>\n",
              "      <td>1</td>\n",
              "      <td>1</td>\n",
              "      <td>121.03</td>\n",
              "      <td>14.57</td>\n",
              "      <td>24.8</td>\n",
              "      <td>0</td>\n",
              "      <td>1</td>\n",
              "      <td>12.2</td>\n",
              "      <td>78</td>\n",
              "      <td>2</td>\n",
              "      <td>...</td>\n",
              "      <td>10</td>\n",
              "      <td>0</td>\n",
              "      <td>4</td>\n",
              "      <td>NaN</td>\n",
              "      <td>NaN</td>\n",
              "      <td>NaN</td>\n",
              "      <td>NaN</td>\n",
              "      <td>NaN</td>\n",
              "      <td>NaN</td>\n",
              "      <td>NaN</td>\n",
              "    </tr>\n",
              "    <tr>\n",
              "      <th>1</th>\n",
              "      <td>1</td>\n",
              "      <td>1</td>\n",
              "      <td>121.03</td>\n",
              "      <td>14.57</td>\n",
              "      <td>24.6</td>\n",
              "      <td>0</td>\n",
              "      <td>1</td>\n",
              "      <td>10.9</td>\n",
              "      <td>75</td>\n",
              "      <td>2</td>\n",
              "      <td>...</td>\n",
              "      <td>10</td>\n",
              "      <td>1</td>\n",
              "      <td>4</td>\n",
              "      <td>0.0</td>\n",
              "      <td>NaN</td>\n",
              "      <td>NaN</td>\n",
              "      <td>NaN</td>\n",
              "      <td>NaN</td>\n",
              "      <td>NaN</td>\n",
              "      <td>NaN</td>\n",
              "    </tr>\n",
              "    <tr>\n",
              "      <th>2</th>\n",
              "      <td>1</td>\n",
              "      <td>1</td>\n",
              "      <td>121.03</td>\n",
              "      <td>14.57</td>\n",
              "      <td>24.3</td>\n",
              "      <td>0</td>\n",
              "      <td>1</td>\n",
              "      <td>9.6</td>\n",
              "      <td>71</td>\n",
              "      <td>2</td>\n",
              "      <td>...</td>\n",
              "      <td>10</td>\n",
              "      <td>2</td>\n",
              "      <td>4</td>\n",
              "      <td>0.0</td>\n",
              "      <td>0.0</td>\n",
              "      <td>NaN</td>\n",
              "      <td>NaN</td>\n",
              "      <td>NaN</td>\n",
              "      <td>NaN</td>\n",
              "      <td>NaN</td>\n",
              "    </tr>\n",
              "    <tr>\n",
              "      <th>3</th>\n",
              "      <td>1</td>\n",
              "      <td>1</td>\n",
              "      <td>121.03</td>\n",
              "      <td>14.57</td>\n",
              "      <td>24.1</td>\n",
              "      <td>0</td>\n",
              "      <td>1</td>\n",
              "      <td>8.3</td>\n",
              "      <td>68</td>\n",
              "      <td>2</td>\n",
              "      <td>...</td>\n",
              "      <td>10</td>\n",
              "      <td>3</td>\n",
              "      <td>4</td>\n",
              "      <td>0.0</td>\n",
              "      <td>0.0</td>\n",
              "      <td>0.0</td>\n",
              "      <td>NaN</td>\n",
              "      <td>NaN</td>\n",
              "      <td>NaN</td>\n",
              "      <td>NaN</td>\n",
              "    </tr>\n",
              "    <tr>\n",
              "      <th>4</th>\n",
              "      <td>1</td>\n",
              "      <td>1</td>\n",
              "      <td>121.03</td>\n",
              "      <td>14.57</td>\n",
              "      <td>24.0</td>\n",
              "      <td>0</td>\n",
              "      <td>1</td>\n",
              "      <td>8.2</td>\n",
              "      <td>59</td>\n",
              "      <td>2</td>\n",
              "      <td>...</td>\n",
              "      <td>10</td>\n",
              "      <td>4</td>\n",
              "      <td>4</td>\n",
              "      <td>0.0</td>\n",
              "      <td>0.0</td>\n",
              "      <td>0.0</td>\n",
              "      <td>0.0</td>\n",
              "      <td>NaN</td>\n",
              "      <td>NaN</td>\n",
              "      <td>NaN</td>\n",
              "    </tr>\n",
              "  </tbody>\n",
              "</table>\n",
              "<p>5 rows × 29 columns</p>\n",
              "</div>\n",
              "      <button class=\"colab-df-convert\" onclick=\"convertToInteractive('df-53ae37ad-7888-4b92-b02a-4cfc6e8c1bca')\"\n",
              "              title=\"Convert this dataframe to an interactive table.\"\n",
              "              style=\"display:none;\">\n",
              "        \n",
              "  <svg xmlns=\"http://www.w3.org/2000/svg\" height=\"24px\"viewBox=\"0 0 24 24\"\n",
              "       width=\"24px\">\n",
              "    <path d=\"M0 0h24v24H0V0z\" fill=\"none\"/>\n",
              "    <path d=\"M18.56 5.44l.94 2.06.94-2.06 2.06-.94-2.06-.94-.94-2.06-.94 2.06-2.06.94zm-11 1L8.5 8.5l.94-2.06 2.06-.94-2.06-.94L8.5 2.5l-.94 2.06-2.06.94zm10 10l.94 2.06.94-2.06 2.06-.94-2.06-.94-.94-2.06-.94 2.06-2.06.94z\"/><path d=\"M17.41 7.96l-1.37-1.37c-.4-.4-.92-.59-1.43-.59-.52 0-1.04.2-1.43.59L10.3 9.45l-7.72 7.72c-.78.78-.78 2.05 0 2.83L4 21.41c.39.39.9.59 1.41.59.51 0 1.02-.2 1.41-.59l7.78-7.78 2.81-2.81c.8-.78.8-2.07 0-2.86zM5.41 20L4 18.59l7.72-7.72 1.47 1.35L5.41 20z\"/>\n",
              "  </svg>\n",
              "      </button>\n",
              "      \n",
              "  <style>\n",
              "    .colab-df-container {\n",
              "      display:flex;\n",
              "      flex-wrap:wrap;\n",
              "      gap: 12px;\n",
              "    }\n",
              "\n",
              "    .colab-df-convert {\n",
              "      background-color: #E8F0FE;\n",
              "      border: none;\n",
              "      border-radius: 50%;\n",
              "      cursor: pointer;\n",
              "      display: none;\n",
              "      fill: #1967D2;\n",
              "      height: 32px;\n",
              "      padding: 0 0 0 0;\n",
              "      width: 32px;\n",
              "    }\n",
              "\n",
              "    .colab-df-convert:hover {\n",
              "      background-color: #E2EBFA;\n",
              "      box-shadow: 0px 1px 2px rgba(60, 64, 67, 0.3), 0px 1px 3px 1px rgba(60, 64, 67, 0.15);\n",
              "      fill: #174EA6;\n",
              "    }\n",
              "\n",
              "    [theme=dark] .colab-df-convert {\n",
              "      background-color: #3B4455;\n",
              "      fill: #D2E3FC;\n",
              "    }\n",
              "\n",
              "    [theme=dark] .colab-df-convert:hover {\n",
              "      background-color: #434B5C;\n",
              "      box-shadow: 0px 1px 3px 1px rgba(0, 0, 0, 0.15);\n",
              "      filter: drop-shadow(0px 1px 2px rgba(0, 0, 0, 0.3));\n",
              "      fill: #FFFFFF;\n",
              "    }\n",
              "  </style>\n",
              "\n",
              "      <script>\n",
              "        const buttonEl =\n",
              "          document.querySelector('#df-53ae37ad-7888-4b92-b02a-4cfc6e8c1bca button.colab-df-convert');\n",
              "        buttonEl.style.display =\n",
              "          google.colab.kernel.accessAllowed ? 'block' : 'none';\n",
              "\n",
              "        async function convertToInteractive(key) {\n",
              "          const element = document.querySelector('#df-53ae37ad-7888-4b92-b02a-4cfc6e8c1bca');\n",
              "          const dataTable =\n",
              "            await google.colab.kernel.invokeFunction('convertToInteractive',\n",
              "                                                     [key], {});\n",
              "          if (!dataTable) return;\n",
              "\n",
              "          const docLinkHtml = 'Like what you see? Visit the ' +\n",
              "            '<a target=\"_blank\" href=https://colab.research.google.com/notebooks/data_table.ipynb>data table notebook</a>'\n",
              "            + ' to learn more about interactive tables.';\n",
              "          element.innerHTML = '';\n",
              "          dataTable['output_type'] = 'display_data';\n",
              "          await google.colab.output.renderOutput(dataTable, element);\n",
              "          const docLink = document.createElement('div');\n",
              "          docLink.innerHTML = docLinkHtml;\n",
              "          element.appendChild(docLink);\n",
              "        }\n",
              "      </script>\n",
              "    </div>\n",
              "  </div>\n",
              "  "
            ]
          },
          "metadata": {},
          "execution_count": 22
        }
      ]
    },
    {
      "cell_type": "code",
      "execution_count": 23,
      "metadata": {
        "colab": {
          "base_uri": "https://localhost:8080/",
          "height": 299
        },
        "id": "z531RQt9HafZ",
        "outputId": "a7aa5d71-3073-4652-d1bd-dd420a2ca43e"
      },
      "outputs": [
        {
          "output_type": "execute_result",
          "data": {
            "text/plain": [
              "    name  country   longitude  latitude     temp_c  is_day  condition  \\\n",
              "7    1.0      1.0  121.029999     14.57  24.500000     1.0        6.0   \n",
              "8    1.0      1.0  121.029999     14.57  25.400000     1.0        6.0   \n",
              "9    1.0      1.0  121.029999     14.57  26.200001     1.0        6.0   \n",
              "10   1.0      1.0  121.029999     14.57  27.400000     1.0        6.0   \n",
              "11   1.0      1.0  121.029999     14.57  28.700001     1.0        6.0   \n",
              "\n",
              "    wind_kph  wind_degree  wind_dir  ...   day  hour  dayOfWeek  \\\n",
              "7        9.6         47.0       5.0  ...  10.0   7.0        4.0   \n",
              "8       11.3         52.0       5.0  ...  10.0   8.0        4.0   \n",
              "9       13.0         57.0       2.0  ...  10.0   9.0        4.0   \n",
              "10      15.0         58.0       2.0  ...  10.0  10.0        4.0   \n",
              "11      17.0         59.0       2.0  ...  10.0  11.0        4.0   \n",
              "\n",
              "    precipitation+1  precipitation+2  precipitation+3  precipitation+4  \\\n",
              "7               0.0              0.0              0.0              0.0   \n",
              "8               0.0              0.0              0.0              0.0   \n",
              "9               0.0              0.0              0.0              0.0   \n",
              "10              0.0              0.0              0.0              0.0   \n",
              "11              0.0              0.0              0.0              0.0   \n",
              "\n",
              "    precipitation+5  precipitation+6  precipitation+7  \n",
              "7               0.0              0.0              0.0  \n",
              "8               0.0              0.0              0.0  \n",
              "9               0.0              0.0              0.0  \n",
              "10              0.0              0.0              0.0  \n",
              "11              0.0              0.0              0.0  \n",
              "\n",
              "[5 rows x 28 columns]"
            ],
            "text/html": [
              "\n",
              "  <div id=\"df-6624da03-a192-48b5-bf74-244338bc6968\">\n",
              "    <div class=\"colab-df-container\">\n",
              "      <div>\n",
              "<style scoped>\n",
              "    .dataframe tbody tr th:only-of-type {\n",
              "        vertical-align: middle;\n",
              "    }\n",
              "\n",
              "    .dataframe tbody tr th {\n",
              "        vertical-align: top;\n",
              "    }\n",
              "\n",
              "    .dataframe thead th {\n",
              "        text-align: right;\n",
              "    }\n",
              "</style>\n",
              "<table border=\"1\" class=\"dataframe\">\n",
              "  <thead>\n",
              "    <tr style=\"text-align: right;\">\n",
              "      <th></th>\n",
              "      <th>name</th>\n",
              "      <th>country</th>\n",
              "      <th>longitude</th>\n",
              "      <th>latitude</th>\n",
              "      <th>temp_c</th>\n",
              "      <th>is_day</th>\n",
              "      <th>condition</th>\n",
              "      <th>wind_kph</th>\n",
              "      <th>wind_degree</th>\n",
              "      <th>wind_dir</th>\n",
              "      <th>...</th>\n",
              "      <th>day</th>\n",
              "      <th>hour</th>\n",
              "      <th>dayOfWeek</th>\n",
              "      <th>precipitation+1</th>\n",
              "      <th>precipitation+2</th>\n",
              "      <th>precipitation+3</th>\n",
              "      <th>precipitation+4</th>\n",
              "      <th>precipitation+5</th>\n",
              "      <th>precipitation+6</th>\n",
              "      <th>precipitation+7</th>\n",
              "    </tr>\n",
              "  </thead>\n",
              "  <tbody>\n",
              "    <tr>\n",
              "      <th>7</th>\n",
              "      <td>1.0</td>\n",
              "      <td>1.0</td>\n",
              "      <td>121.029999</td>\n",
              "      <td>14.57</td>\n",
              "      <td>24.500000</td>\n",
              "      <td>1.0</td>\n",
              "      <td>6.0</td>\n",
              "      <td>9.6</td>\n",
              "      <td>47.0</td>\n",
              "      <td>5.0</td>\n",
              "      <td>...</td>\n",
              "      <td>10.0</td>\n",
              "      <td>7.0</td>\n",
              "      <td>4.0</td>\n",
              "      <td>0.0</td>\n",
              "      <td>0.0</td>\n",
              "      <td>0.0</td>\n",
              "      <td>0.0</td>\n",
              "      <td>0.0</td>\n",
              "      <td>0.0</td>\n",
              "      <td>0.0</td>\n",
              "    </tr>\n",
              "    <tr>\n",
              "      <th>8</th>\n",
              "      <td>1.0</td>\n",
              "      <td>1.0</td>\n",
              "      <td>121.029999</td>\n",
              "      <td>14.57</td>\n",
              "      <td>25.400000</td>\n",
              "      <td>1.0</td>\n",
              "      <td>6.0</td>\n",
              "      <td>11.3</td>\n",
              "      <td>52.0</td>\n",
              "      <td>5.0</td>\n",
              "      <td>...</td>\n",
              "      <td>10.0</td>\n",
              "      <td>8.0</td>\n",
              "      <td>4.0</td>\n",
              "      <td>0.0</td>\n",
              "      <td>0.0</td>\n",
              "      <td>0.0</td>\n",
              "      <td>0.0</td>\n",
              "      <td>0.0</td>\n",
              "      <td>0.0</td>\n",
              "      <td>0.0</td>\n",
              "    </tr>\n",
              "    <tr>\n",
              "      <th>9</th>\n",
              "      <td>1.0</td>\n",
              "      <td>1.0</td>\n",
              "      <td>121.029999</td>\n",
              "      <td>14.57</td>\n",
              "      <td>26.200001</td>\n",
              "      <td>1.0</td>\n",
              "      <td>6.0</td>\n",
              "      <td>13.0</td>\n",
              "      <td>57.0</td>\n",
              "      <td>2.0</td>\n",
              "      <td>...</td>\n",
              "      <td>10.0</td>\n",
              "      <td>9.0</td>\n",
              "      <td>4.0</td>\n",
              "      <td>0.0</td>\n",
              "      <td>0.0</td>\n",
              "      <td>0.0</td>\n",
              "      <td>0.0</td>\n",
              "      <td>0.0</td>\n",
              "      <td>0.0</td>\n",
              "      <td>0.0</td>\n",
              "    </tr>\n",
              "    <tr>\n",
              "      <th>10</th>\n",
              "      <td>1.0</td>\n",
              "      <td>1.0</td>\n",
              "      <td>121.029999</td>\n",
              "      <td>14.57</td>\n",
              "      <td>27.400000</td>\n",
              "      <td>1.0</td>\n",
              "      <td>6.0</td>\n",
              "      <td>15.0</td>\n",
              "      <td>58.0</td>\n",
              "      <td>2.0</td>\n",
              "      <td>...</td>\n",
              "      <td>10.0</td>\n",
              "      <td>10.0</td>\n",
              "      <td>4.0</td>\n",
              "      <td>0.0</td>\n",
              "      <td>0.0</td>\n",
              "      <td>0.0</td>\n",
              "      <td>0.0</td>\n",
              "      <td>0.0</td>\n",
              "      <td>0.0</td>\n",
              "      <td>0.0</td>\n",
              "    </tr>\n",
              "    <tr>\n",
              "      <th>11</th>\n",
              "      <td>1.0</td>\n",
              "      <td>1.0</td>\n",
              "      <td>121.029999</td>\n",
              "      <td>14.57</td>\n",
              "      <td>28.700001</td>\n",
              "      <td>1.0</td>\n",
              "      <td>6.0</td>\n",
              "      <td>17.0</td>\n",
              "      <td>59.0</td>\n",
              "      <td>2.0</td>\n",
              "      <td>...</td>\n",
              "      <td>10.0</td>\n",
              "      <td>11.0</td>\n",
              "      <td>4.0</td>\n",
              "      <td>0.0</td>\n",
              "      <td>0.0</td>\n",
              "      <td>0.0</td>\n",
              "      <td>0.0</td>\n",
              "      <td>0.0</td>\n",
              "      <td>0.0</td>\n",
              "      <td>0.0</td>\n",
              "    </tr>\n",
              "  </tbody>\n",
              "</table>\n",
              "<p>5 rows × 28 columns</p>\n",
              "</div>\n",
              "      <button class=\"colab-df-convert\" onclick=\"convertToInteractive('df-6624da03-a192-48b5-bf74-244338bc6968')\"\n",
              "              title=\"Convert this dataframe to an interactive table.\"\n",
              "              style=\"display:none;\">\n",
              "        \n",
              "  <svg xmlns=\"http://www.w3.org/2000/svg\" height=\"24px\"viewBox=\"0 0 24 24\"\n",
              "       width=\"24px\">\n",
              "    <path d=\"M0 0h24v24H0V0z\" fill=\"none\"/>\n",
              "    <path d=\"M18.56 5.44l.94 2.06.94-2.06 2.06-.94-2.06-.94-.94-2.06-.94 2.06-2.06.94zm-11 1L8.5 8.5l.94-2.06 2.06-.94-2.06-.94L8.5 2.5l-.94 2.06-2.06.94zm10 10l.94 2.06.94-2.06 2.06-.94-2.06-.94-.94-2.06-.94 2.06-2.06.94z\"/><path d=\"M17.41 7.96l-1.37-1.37c-.4-.4-.92-.59-1.43-.59-.52 0-1.04.2-1.43.59L10.3 9.45l-7.72 7.72c-.78.78-.78 2.05 0 2.83L4 21.41c.39.39.9.59 1.41.59.51 0 1.02-.2 1.41-.59l7.78-7.78 2.81-2.81c.8-.78.8-2.07 0-2.86zM5.41 20L4 18.59l7.72-7.72 1.47 1.35L5.41 20z\"/>\n",
              "  </svg>\n",
              "      </button>\n",
              "      \n",
              "  <style>\n",
              "    .colab-df-container {\n",
              "      display:flex;\n",
              "      flex-wrap:wrap;\n",
              "      gap: 12px;\n",
              "    }\n",
              "\n",
              "    .colab-df-convert {\n",
              "      background-color: #E8F0FE;\n",
              "      border: none;\n",
              "      border-radius: 50%;\n",
              "      cursor: pointer;\n",
              "      display: none;\n",
              "      fill: #1967D2;\n",
              "      height: 32px;\n",
              "      padding: 0 0 0 0;\n",
              "      width: 32px;\n",
              "    }\n",
              "\n",
              "    .colab-df-convert:hover {\n",
              "      background-color: #E2EBFA;\n",
              "      box-shadow: 0px 1px 2px rgba(60, 64, 67, 0.3), 0px 1px 3px 1px rgba(60, 64, 67, 0.15);\n",
              "      fill: #174EA6;\n",
              "    }\n",
              "\n",
              "    [theme=dark] .colab-df-convert {\n",
              "      background-color: #3B4455;\n",
              "      fill: #D2E3FC;\n",
              "    }\n",
              "\n",
              "    [theme=dark] .colab-df-convert:hover {\n",
              "      background-color: #434B5C;\n",
              "      box-shadow: 0px 1px 3px 1px rgba(0, 0, 0, 0.15);\n",
              "      filter: drop-shadow(0px 1px 2px rgba(0, 0, 0, 0.3));\n",
              "      fill: #FFFFFF;\n",
              "    }\n",
              "  </style>\n",
              "\n",
              "      <script>\n",
              "        const buttonEl =\n",
              "          document.querySelector('#df-6624da03-a192-48b5-bf74-244338bc6968 button.colab-df-convert');\n",
              "        buttonEl.style.display =\n",
              "          google.colab.kernel.accessAllowed ? 'block' : 'none';\n",
              "\n",
              "        async function convertToInteractive(key) {\n",
              "          const element = document.querySelector('#df-6624da03-a192-48b5-bf74-244338bc6968');\n",
              "          const dataTable =\n",
              "            await google.colab.kernel.invokeFunction('convertToInteractive',\n",
              "                                                     [key], {});\n",
              "          if (!dataTable) return;\n",
              "\n",
              "          const docLinkHtml = 'Like what you see? Visit the ' +\n",
              "            '<a target=\"_blank\" href=https://colab.research.google.com/notebooks/data_table.ipynb>data table notebook</a>'\n",
              "            + ' to learn more about interactive tables.';\n",
              "          element.innerHTML = '';\n",
              "          dataTable['output_type'] = 'display_data';\n",
              "          await google.colab.output.renderOutput(dataTable, element);\n",
              "          const docLink = document.createElement('div');\n",
              "          docLink.innerHTML = docLinkHtml;\n",
              "          element.appendChild(docLink);\n",
              "        }\n",
              "      </script>\n",
              "    </div>\n",
              "  </div>\n",
              "  "
            ]
          },
          "metadata": {},
          "execution_count": 23
        }
      ],
      "source": [
        "X = df.dropna().drop(\"precipitation\", axis=1).astype(np.float32) \n",
        "y = df.dropna()[\"precipitation\"].astype(np.float32)\n",
        "X.head()"
      ]
    },
    {
      "cell_type": "code",
      "execution_count": 24,
      "metadata": {
        "colab": {
          "base_uri": "https://localhost:8080/"
        },
        "id": "AFirdVtpHsb-",
        "outputId": "b652f7c5-2480-468c-a668-1b151e96608a"
      },
      "outputs": [
        {
          "output_type": "execute_result",
          "data": {
            "text/plain": [
              "7     0.0\n",
              "8     0.0\n",
              "9     0.0\n",
              "10    0.0\n",
              "11    0.0\n",
              "Name: precipitation, dtype: float32"
            ]
          },
          "metadata": {},
          "execution_count": 24
        }
      ],
      "source": [
        "y.head()"
      ]
    },
    {
      "cell_type": "code",
      "execution_count": 25,
      "metadata": {
        "colab": {
          "base_uri": "https://localhost:8080/"
        },
        "id": "AxuiCiy0H3yQ",
        "outputId": "3cad5b22-2d29-4e06-9dfd-15c989822f96"
      },
      "outputs": [
        {
          "output_type": "execute_result",
          "data": {
            "text/plain": [
              "(1780, 1780, 445, 445, 1780, 445)"
            ]
          },
          "metadata": {},
          "execution_count": 25
        }
      ],
      "source": [
        "# Make train and test sets\n",
        "split_size = int(len(X) * 0.8)\n",
        "X_train, y_train = X[:split_size], y[:split_size]\n",
        "X_columns = X.columns\n",
        "X_time_train, X_time_test = x_time[:split_size], x_time[split_size:]\n",
        "X_time_test = X_time_test[7:]\n",
        "X_test, y_test = X[split_size:], y[split_size:]\n",
        "len(X_train), len(y_train), len(X_test), len(y_test), len(X_time_train), len(X_time_test)"
      ]
    },
    {
      "cell_type": "markdown",
      "metadata": {
        "id": "PTsSLqVTH-Qm"
      },
      "source": [
        "### Baseline model"
      ]
    },
    {
      "cell_type": "code",
      "execution_count": 26,
      "metadata": {
        "colab": {
          "base_uri": "https://localhost:8080/"
        },
        "id": "NZp1oNuYIx5A",
        "outputId": "aca796a0-ebd9-4b78-a1ff-b4bcb9e1b570"
      },
      "outputs": [
        {
          "output_type": "execute_result",
          "data": {
            "text/plain": [
              "(1787    0.0\n",
              " 1788    0.0\n",
              " 1789    0.0\n",
              " 1790    0.0\n",
              " 1791    0.0\n",
              " 1792    0.0\n",
              " 1793    0.0\n",
              " 1794    0.0\n",
              " 1795    0.0\n",
              " 1796    0.0\n",
              " Name: precipitation, dtype: float32, 2221    0.16\n",
              " 2222    0.08\n",
              " 2223    0.00\n",
              " 2224    0.01\n",
              " 2225    0.01\n",
              " 2226    0.02\n",
              " 2227    0.01\n",
              " 2228    0.01\n",
              " 2229    0.01\n",
              " 2230    0.01\n",
              " Name: precipitation, dtype: float32)"
            ]
          },
          "metadata": {},
          "execution_count": 26
        }
      ],
      "source": [
        "# Create a naïve forecast\n",
        "naive_forecast = y_test[:-1] # Naïve forecast equals every value excluding the last value\n",
        "naive_forecast[:10], naive_forecast[-10:] # View frist 10 and last 10 "
      ]
    },
    {
      "cell_type": "code",
      "execution_count": 27,
      "metadata": {
        "id": "xuimtq0qJWkN"
      },
      "outputs": [],
      "source": [
        "def plot_time_series(timesteps, values, format='.', start=0, end=None, label=None):\n",
        "  \"\"\"\n",
        "  Plots a timesteps (a series of points in time) against values (a series of values across timesteps).\n",
        "  \n",
        "  Parameters\n",
        "  ---------\n",
        "  timesteps : array of timesteps\n",
        "  values : array of values across time\n",
        "  format : style of plot, default \".\"\n",
        "  start : where to start the plot (setting a value will index from start of timesteps & values)\n",
        "  end : where to end the plot (setting a value will index from end of timesteps & values)\n",
        "  label : label to show on plot of values\n",
        "  \"\"\"\n",
        "  # Plot the series\n",
        "  plt.plot(timesteps[start:end], values[start:end], format, label=label)\n",
        "  plt.xlabel(\"Time\")\n",
        "  plt.ylabel(\"Hourly Rain Precipitation\")\n",
        "  if label:\n",
        "    plt.legend(fontsize=14) # make label bigger\n",
        "  plt.grid(True)"
      ]
    },
    {
      "cell_type": "code",
      "execution_count": 28,
      "metadata": {
        "colab": {
          "base_uri": "https://localhost:8080/",
          "height": 442
        },
        "id": "m-upRvqnJgdE",
        "outputId": "e267a8f8-b600-4dc1-f206-17c41d768f5a"
      },
      "outputs": [
        {
          "output_type": "display_data",
          "data": {
            "text/plain": [
              "<Figure size 720x504 with 1 Axes>"
            ],
            "image/png": "[encoded data removed]"
          },
          "metadata": {
            "needs_background": "light"
          }
        }
      ],
      "source": [
        "# Try out our plotting function\n",
        "plt.figure(figsize=(10, 7))\n",
        "plot_time_series(timesteps=X_time_train, values=y_train, label=\"Train data\")\n",
        "plot_time_series(timesteps=X_time_test, values=y_test, label=\"Test data\")"
      ]
    },
    {
      "cell_type": "code",
      "execution_count": 29,
      "metadata": {
        "colab": {
          "base_uri": "https://localhost:8080/",
          "height": 442
        },
        "id": "pm3P1lSQJkWQ",
        "outputId": "63d31716-99e1-4d4c-ccc3-7ff2009158bc"
      },
      "outputs": [
        {
          "output_type": "display_data",
          "data": {
            "text/plain": [
              "<Figure size 720x504 with 1 Axes>"
            ],
            "image/png": "[encoded data removed]"
          },
          "metadata": {
            "needs_background": "light"
          }
        }
      ],
      "source": [
        "# Plot naive forecast\n",
        "plt.figure(figsize=(10, 7))\n",
        "plot_time_series(timesteps=X_time_train, values=y_train, label=\"Train data\")\n",
        "plot_time_series(timesteps=X_time_test, values=y_test, label=\"Test data\")\n",
        "plot_time_series(timesteps=X_time_test[1:], values=naive_forecast, format=\"-\", label=\"Naive forecast\");"
      ]
    },
    {
      "cell_type": "code",
      "execution_count": 30,
      "metadata": {
        "colab": {
          "base_uri": "https://localhost:8080/",
          "height": 442
        },
        "id": "m4ErFloxLSqN",
        "outputId": "65dc8cdb-a14e-471b-eefe-644f39efdddc"
      },
      "outputs": [
        {
          "output_type": "display_data",
          "data": {
            "text/plain": [
              "<Figure size 720x504 with 1 Axes>"
            ],
            "image/png": "[encoded data removed]"
          },
          "metadata": {
            "needs_background": "light"
          }
        }
      ],
      "source": [
        "plt.figure(figsize=(10, 7))\n",
        "offset = 10 # offset the values by 300 timesteps \n",
        "plot_time_series(timesteps=X_time_test, values=y_test, label=\"Test data\")\n",
        "plot_time_series(timesteps=X_time_test[1:], values=naive_forecast, format=\"-\", label=\"Naive forecast\");"
      ]
    },
    {
      "cell_type": "code",
      "execution_count": 31,
      "metadata": {
        "id": "jw7q9e1cNmLt"
      },
      "outputs": [],
      "source": [
        "import tensorflow as tf\n",
        "# MASE implemented courtesy of sktime - https://github.com/alan-turing-institute/sktime/blob/ee7a06843a44f4aaec7582d847e36073a9ab0566/sktime/performance_metrics/forecasting/_functions.py#L16\n",
        "def mean_absolute_scaled_error(y_true, y_pred):\n",
        "  \"\"\"\n",
        "  Implement MASE (assuming no seasonality of data).\n",
        "  \"\"\"\n",
        "  mae = tf.reduce_mean(tf.abs(y_true - y_pred))\n",
        "\n",
        "  # Find MAE of naive forecast (no seasonality)\n",
        "  mae_naive_no_season = tf.reduce_mean(tf.abs(y_true[1:] - y_true[:-1])) # our seasonality is 1 day (hence the shifting of 1 day)\n",
        "\n",
        "  return mae / mae_naive_no_season\n",
        "def evaluate_preds(y_true, y_pred):\n",
        "  # Make sure float32 (for metric calculations)\n",
        "  y_true = tf.cast(y_true, dtype=tf.float32)\n",
        "  y_pred = tf.cast(y_pred, dtype=tf.float32)\n",
        "\n",
        "  # Calculate various metrics\n",
        "  # train_mae = tf.keras.metrics.mean_absolute_error(y_train, )\n",
        "  mae = tf.keras.metrics.mean_absolute_error(y_true, y_pred)\n",
        "  mse = tf.keras.metrics.mean_squared_error(y_true, y_pred) # puts and emphasis on outliers (all errors get squared)\n",
        "  rmse = tf.sqrt(mse)\n",
        "  mape = tf.keras.metrics.mean_absolute_percentage_error(y_true, y_pred)\n",
        "  \n",
        "  return {\"mae\": mae.numpy(),\n",
        "          \"mse\": mse.numpy(),\n",
        "          \"rmse\": rmse.numpy(),\n",
        "          \"mape\": mape.numpy(),}"
      ]
    },
    {
      "cell_type": "code",
      "execution_count": 32,
      "metadata": {
        "colab": {
          "base_uri": "https://localhost:8080/"
        },
        "id": "OmmtERoXNzs-",
        "outputId": "468c6e29-7bd5-4c40-acce-80b1d3722f80"
      },
      "outputs": [
        {
          "output_type": "execute_result",
          "data": {
            "text/plain": [
              "{'mae': 0.005472973,\n",
              " 'mape': 495504.5,\n",
              " 'mse': 0.00033896396,\n",
              " 'rmse': 0.018410975}"
            ]
          },
          "metadata": {},
          "execution_count": 32
        }
      ],
      "source": [
        "naive_results = evaluate_preds(y_true=y_test[1:],\n",
        "                               y_pred=naive_forecast)\n",
        "naive_results"
      ]
    },
    {
      "cell_type": "markdown",
      "metadata": {
        "id": "NkcXa6IcM3s3"
      },
      "source": [
        "### RandomForestRegressor"
      ]
    },
    {
      "cell_type": "code",
      "execution_count": 33,
      "metadata": {
        "colab": {
          "base_uri": "https://localhost:8080/"
        },
        "id": "deZjFqD0Ljmg",
        "outputId": "af85e6f1-db60-4912-9280-80144a9f2db7"
      },
      "outputs": [
        {
          "output_type": "execute_result",
          "data": {
            "text/plain": [
              "RandomForestRegressor(n_jobs=-1)"
            ]
          },
          "metadata": {},
          "execution_count": 33
        }
      ],
      "source": [
        "# Reducing data using max_samples\n",
        "from sklearn.ensemble import RandomForestRegressor\n",
        "\n",
        "np.random.seed(42)\n",
        "model = RandomForestRegressor(\n",
        "    n_jobs=-1,\n",
        "    # random_state=42,\n",
        "    # max_samples=10000, #minimizes the data\n",
        ")\n",
        "\n",
        "X_train_series = X_train\n",
        "y_train_series = y_train\n",
        "\n",
        "X_train = np.asarray(X_train)\n",
        "y_train = np.asarray(y_train)\n",
        "model.fit(X_train, y_train)"
      ]
    },
    {
      "cell_type": "code",
      "execution_count": 34,
      "metadata": {
        "colab": {
          "base_uri": "https://localhost:8080/"
        },
        "id": "p-3Whi83T5iY",
        "outputId": "b48efccb-5a07-4e97-9313-d5da0e1e2ea4"
      },
      "outputs": [
        {
          "output_type": "execute_result",
          "data": {
            "text/plain": [
              "((1780, 28), (1780,), (445, 28), (445,))"
            ]
          },
          "metadata": {},
          "execution_count": 34
        }
      ],
      "source": [
        "X_train.shape, y_train.shape, X_test.shape, y_test.shape"
      ]
    },
    {
      "cell_type": "code",
      "execution_count": 35,
      "metadata": {
        "colab": {
          "base_uri": "https://localhost:8080/"
        },
        "id": "KnKFRVj2M7zk",
        "outputId": "1a2653f5-d783-4149-a631-eefd8442ce7e"
      },
      "outputs": [
        {
          "output_type": "stream",
          "name": "stderr",
          "text": [
            "/usr/local/lib/python3.7/dist-packages/sklearn/base.py:444: UserWarning: X has feature names, but RandomForestRegressor was fitted without feature names\n",
            "  f\"X has feature names, but {self.__class__.__name__} was fitted without\"\n"
          ]
        },
        {
          "output_type": "execute_result",
          "data": {
            "text/plain": [
              "{'mae': 0.006617752791581195,\n",
              " 'mape': 10062761858851.367,\n",
              " 'mse': 0.00033723387316475614,\n",
              " 'rmse': 0.01836392858744436,\n",
              " 'train_mae': 0.004819550544347908,\n",
              " 'train_mape': 1980065747681.5405,\n",
              " 'train_mse': 0.0002135612363012062,\n",
              " 'train_rmse': 0.014613734509057095}"
            ]
          },
          "metadata": {},
          "execution_count": 35
        }
      ],
      "source": [
        "from tensorflow.python.ops.gen_math_ops import sqrt\n",
        "from sklearn.metrics import mean_absolute_error, mean_squared_error, mean_absolute_percentage_error\n",
        "\n",
        "def show_scores_sklearn(model):\n",
        "    train_preds = model.predict(X_train)\n",
        "    val_preds = model.predict(X_test) \n",
        "\n",
        "    train_mae =  mean_absolute_error(y_train, train_preds)\n",
        "    mae = mean_absolute_error(y_test, val_preds)\n",
        "    train_mse = mean_squared_error(y_train, train_preds)\n",
        "    mse = mean_squared_error(y_test, val_preds)\n",
        "    train_rmse = sqrt(train_mse)\n",
        "    rmse = sqrt(mse)\n",
        "    train_mape = mean_absolute_percentage_error(y_train, train_preds)\n",
        "    mape = mean_absolute_percentage_error(y_test, val_preds)\n",
        "    return {\"mae\": mae,\n",
        "            \"train_mae\": train_mae,\n",
        "          \"mse\": mse,\n",
        "          \"train_mse\": train_mse,\n",
        "          \"rmse\": rmse.numpy(),\n",
        "          \"train_rmse\": train_rmse.numpy(),\n",
        "          \"mape\": mape,\n",
        "          \"train_mape\": train_mape\n",
        "          }\n",
        "\n",
        "# Score model\n",
        "random_forest = show_scores_sklearn(model)\n",
        "random_forest"
      ]
    },
    {
      "cell_type": "code",
      "execution_count": 36,
      "metadata": {
        "colab": {
          "base_uri": "https://localhost:8080/"
        },
        "id": "SIaSfLx0sQtj",
        "outputId": "9df412ce-77a0-4fed-c5d9-bc3e74d67cd3"
      },
      "outputs": [
        {
          "output_type": "stream",
          "name": "stderr",
          "text": [
            "/usr/local/lib/python3.7/dist-packages/sklearn/base.py:444: UserWarning: X has feature names, but RandomForestRegressor was fitted without feature names\n",
            "  f\"X has feature names, but {self.__class__.__name__} was fitted without\"\n"
          ]
        },
        {
          "output_type": "execute_result",
          "data": {
            "text/plain": [
              "(0.9848173259256212, 0.8571058147961991)"
            ]
          },
          "metadata": {},
          "execution_count": 36
        }
      ],
      "source": [
        "model.score(X_train, y_train), model.score(X_test, y_test)"
      ]
    },
    {
      "cell_type": "code",
      "execution_count": 37,
      "metadata": {
        "colab": {
          "base_uri": "https://localhost:8080/"
        },
        "id": "BxF3iX_jk_aX",
        "outputId": "4bcd8ab0-628b-4770-a6a2-ecf7a1ccae72"
      },
      "outputs": [
        {
          "output_type": "stream",
          "name": "stderr",
          "text": [
            "/usr/local/lib/python3.7/dist-packages/sklearn/base.py:444: UserWarning: X has feature names, but RandomForestRegressor was fitted without feature names\n",
            "  f\"X has feature names, but {self.__class__.__name__} was fitted without\"\n"
          ]
        },
        {
          "output_type": "execute_result",
          "data": {
            "text/plain": [
              "0.006617752791581195"
            ]
          },
          "metadata": {},
          "execution_count": 37
        }
      ],
      "source": [
        "train_preds = model.predict(X_train)\n",
        "val_preds = model.predict(X_test) \n",
        "\n",
        "mean_absolute_error(y_test, val_preds)"
      ]
    },
    {
      "cell_type": "code",
      "execution_count": 38,
      "metadata": {
        "colab": {
          "base_uri": "https://localhost:8080/"
        },
        "id": "Rq7h01fyNEr3",
        "outputId": "cd1caad6-7954-4038-e665-3d8e6fdbabb6"
      },
      "outputs": [
        {
          "output_type": "execute_result",
          "data": {
            "text/plain": [
              "{'mae': 0.005472973,\n",
              " 'mape': 495504.5,\n",
              " 'mse': 0.00033896396,\n",
              " 'rmse': 0.018410975}"
            ]
          },
          "metadata": {},
          "execution_count": 38
        }
      ],
      "source": [
        "naive_results"
      ]
    },
    {
      "cell_type": "markdown",
      "metadata": {
        "id": "3zfFYdKLsEzr"
      },
      "source": [
        "#### Parameter Tuning"
      ]
    },
    {
      "cell_type": "code",
      "execution_count": 39,
      "metadata": {
        "colab": {
          "base_uri": "https://localhost:8080/"
        },
        "id": "WmZQBQeDsHw-",
        "outputId": "722de8ee-f453-4ffc-a23d-9b6e8b2eecba"
      },
      "outputs": [
        {
          "output_type": "stream",
          "name": "stdout",
          "text": [
            "Fitting 5 folds for each of 5 candidates, totalling 25 fits\n"
          ]
        },
        {
          "output_type": "execute_result",
          "data": {
            "text/plain": [
              "RandomizedSearchCV(cv=5, estimator=RandomForestRegressor(n_jobs=-1), n_iter=5,\n",
              "                   param_distributions={'max_depth': [None, 3, 5, 10],\n",
              "                                        'max_features': [0.5, 1, 'sqrt',\n",
              "                                                         'auto'],\n",
              "                                        'max_samples': [332],\n",
              "                                        'min_samples_leaf': array([ 1,  3,  5,  7,  9, 11, 13, 15, 17, 19]),\n",
              "                                        'min_samples_split': array([ 2,  4,  6,  8, 10, 12, 14, 16, 18]),\n",
              "                                        'n_estimators': array([10, 20, 30, 40, 50, 60, 70, 80, 90])},\n",
              "                   verbose=True)"
            ]
          },
          "metadata": {},
          "execution_count": 39
        }
      ],
      "source": [
        "\n",
        "\n",
        "from sklearn.model_selection import RandomizedSearchCV\n",
        "\n",
        "rf_grid = {\n",
        "    'n_estimators': np.arange(10, 100, 10),\n",
        "    'max_depth': [None, 3, 5, 10],\n",
        "    'min_samples_split': np.arange(2, 20, 2),\n",
        "    'min_samples_leaf': np.arange(1, 20, 2),\n",
        "    'max_features': [0.5, 1, 'sqrt', 'auto'],\n",
        "    'max_samples': [332]\n",
        "}\n",
        "\n",
        "np.random.seed(42)\n",
        "#instantiate ranomdized search cv model\n",
        "rs_model = RandomizedSearchCV(\n",
        "    RandomForestRegressor(\n",
        "        n_jobs=-1,\n",
        "    ),\n",
        "    param_distributions=rf_grid,\n",
        "    n_iter=5,\n",
        "    cv=5,\n",
        "    verbose=True\n",
        ")\n",
        "\n",
        "#Fit the randomized search cv model\n",
        "rs_model.fit(X_train, y_train)"
      ]
    },
    {
      "cell_type": "code",
      "execution_count": 40,
      "metadata": {
        "colab": {
          "base_uri": "https://localhost:8080/"
        },
        "id": "GnupHk8-tGtn",
        "outputId": "ff31c762-b953-4ab0-bfd7-e384efe5bfe6"
      },
      "outputs": [
        {
          "output_type": "stream",
          "name": "stderr",
          "text": [
            "/usr/local/lib/python3.7/dist-packages/sklearn/base.py:444: UserWarning: X has feature names, but RandomForestRegressor was fitted without feature names\n",
            "  f\"X has feature names, but {self.__class__.__name__} was fitted without\"\n"
          ]
        },
        {
          "output_type": "execute_result",
          "data": {
            "text/plain": [
              "(0.6439718681129158, 0.6924282553031755)"
            ]
          },
          "metadata": {},
          "execution_count": 40
        }
      ],
      "source": [
        "rs_model.score(X_train, y_train), rs_model.score(X_test, y_test)"
      ]
    },
    {
      "cell_type": "code",
      "execution_count": 41,
      "metadata": {
        "colab": {
          "base_uri": "https://localhost:8080/"
        },
        "id": "lKQ6cr-5t1km",
        "outputId": "1a09e33c-6758-4a38-a0be-6585a8370526"
      },
      "outputs": [
        {
          "output_type": "stream",
          "name": "stderr",
          "text": [
            "/usr/local/lib/python3.7/dist-packages/sklearn/base.py:444: UserWarning: X has feature names, but RandomForestRegressor was fitted without feature names\n",
            "  f\"X has feature names, but {self.__class__.__name__} was fitted without\"\n"
          ]
        },
        {
          "output_type": "execute_result",
          "data": {
            "text/plain": [
              "{'mae': 0.009627832832272847,\n",
              " 'mape': 13121993526728.621,\n",
              " 'mse': 0.0007258770578538044,\n",
              " 'rmse': 0.026942105668521985,\n",
              " 'train_mae': 0.02420671422446871,\n",
              " 'train_mape': 15752118213290.068,\n",
              " 'train_mse': 0.005007932570463567,\n",
              " 'train_rmse': 0.07076674763237015}"
            ]
          },
          "metadata": {},
          "execution_count": 41
        }
      ],
      "source": [
        "random_forest_ideal = show_scores_sklearn(rs_model)\n",
        "random_forest_ideal"
      ]
    },
    {
      "cell_type": "code",
      "execution_count": 42,
      "metadata": {
        "id": "YdOeW9pIuCNf"
      },
      "outputs": [],
      "source": [
        "mae = []\n",
        "mape = []\n",
        "mse = []\n",
        "rmse = []"
      ]
    },
    {
      "cell_type": "code",
      "execution_count": 43,
      "metadata": {
        "id": "q4jpobFLuSvA"
      },
      "outputs": [],
      "source": [
        "mae.append(naive_results['mae'])\n",
        "mae.append(random_forest['mae'])\n",
        "mae.append(random_forest_ideal['mae'])\n",
        "\n",
        "mape.append(naive_results['mape'])\n",
        "mape.append(random_forest['mape'])\n",
        "mape.append(random_forest_ideal['mape'])\n",
        "\n",
        "mse.append(naive_results['mse'])\n",
        "mse.append(random_forest['mse'])\n",
        "mse.append(random_forest_ideal['mse'])\n",
        "\n",
        "rmse.append(naive_results['rmse'])\n",
        "rmse.append(random_forest['rmse'])\n",
        "rmse.append(random_forest_ideal['rmse'])"
      ]
    },
    {
      "cell_type": "code",
      "execution_count": 44,
      "metadata": {
        "id": "jZ8iBpjcvdzn"
      },
      "outputs": [],
      "source": [
        "models = []"
      ]
    },
    {
      "cell_type": "code",
      "execution_count": 45,
      "metadata": {
        "id": "Aa2X-OnkvfId"
      },
      "outputs": [],
      "source": [
        "models.append('Naive')\n",
        "models.append('Random Forest')\n",
        "models.append('Random Forest Randomized Search')"
      ]
    },
    {
      "cell_type": "code",
      "execution_count": 46,
      "metadata": {
        "colab": {
          "base_uri": "https://localhost:8080/",
          "height": 143
        },
        "id": "dvZy0y6ruoxR",
        "outputId": "94c60b37-eebf-4c40-b5d5-4a317dade4b2"
      },
      "outputs": [
        {
          "output_type": "execute_result",
          "data": {
            "text/plain": [
              "                            models       mae          mape       mse      rmse\n",
              "0                            Naive  0.005473  4.955045e+05  0.000339  0.018411\n",
              "1                    Random Forest  0.006618  1.006276e+13  0.000337  0.018364\n",
              "2  Random Forest Randomized Search  0.009628  1.312199e+13  0.000726  0.026942"
            ],
            "text/html": [
              "\n",
              "  <div id=\"df-2d1517cc-fb6b-45e6-9b5c-19f2140b075a\">\n",
              "    <div class=\"colab-df-container\">\n",
              "      <div>\n",
              "<style scoped>\n",
              "    .dataframe tbody tr th:only-of-type {\n",
              "        vertical-align: middle;\n",
              "    }\n",
              "\n",
              "    .dataframe tbody tr th {\n",
              "        vertical-align: top;\n",
              "    }\n",
              "\n",
              "    .dataframe thead th {\n",
              "        text-align: right;\n",
              "    }\n",
              "</style>\n",
              "<table border=\"1\" class=\"dataframe\">\n",
              "  <thead>\n",
              "    <tr style=\"text-align: right;\">\n",
              "      <th></th>\n",
              "      <th>models</th>\n",
              "      <th>mae</th>\n",
              "      <th>mape</th>\n",
              "      <th>mse</th>\n",
              "      <th>rmse</th>\n",
              "    </tr>\n",
              "  </thead>\n",
              "  <tbody>\n",
              "    <tr>\n",
              "      <th>0</th>\n",
              "      <td>Naive</td>\n",
              "      <td>0.005473</td>\n",
              "      <td>4.955045e+05</td>\n",
              "      <td>0.000339</td>\n",
              "      <td>0.018411</td>\n",
              "    </tr>\n",
              "    <tr>\n",
              "      <th>1</th>\n",
              "      <td>Random Forest</td>\n",
              "      <td>0.006618</td>\n",
              "      <td>1.006276e+13</td>\n",
              "      <td>0.000337</td>\n",
              "      <td>0.018364</td>\n",
              "    </tr>\n",
              "    <tr>\n",
              "      <th>2</th>\n",
              "      <td>Random Forest Randomized Search</td>\n",
              "      <td>0.009628</td>\n",
              "      <td>1.312199e+13</td>\n",
              "      <td>0.000726</td>\n",
              "      <td>0.026942</td>\n",
              "    </tr>\n",
              "  </tbody>\n",
              "</table>\n",
              "</div>\n",
              "      <button class=\"colab-df-convert\" onclick=\"convertToInteractive('df-2d1517cc-fb6b-45e6-9b5c-19f2140b075a')\"\n",
              "              title=\"Convert this dataframe to an interactive table.\"\n",
              "              style=\"display:none;\">\n",
              "        \n",
              "  <svg xmlns=\"http://www.w3.org/2000/svg\" height=\"24px\"viewBox=\"0 0 24 24\"\n",
              "       width=\"24px\">\n",
              "    <path d=\"M0 0h24v24H0V0z\" fill=\"none\"/>\n",
              "    <path d=\"M18.56 5.44l.94 2.06.94-2.06 2.06-.94-2.06-.94-.94-2.06-.94 2.06-2.06.94zm-11 1L8.5 8.5l.94-2.06 2.06-.94-2.06-.94L8.5 2.5l-.94 2.06-2.06.94zm10 10l.94 2.06.94-2.06 2.06-.94-2.06-.94-.94-2.06-.94 2.06-2.06.94z\"/><path d=\"M17.41 7.96l-1.37-1.37c-.4-.4-.92-.59-1.43-.59-.52 0-1.04.2-1.43.59L10.3 9.45l-7.72 7.72c-.78.78-.78 2.05 0 2.83L4 21.41c.39.39.9.59 1.41.59.51 0 1.02-.2 1.41-.59l7.78-7.78 2.81-2.81c.8-.78.8-2.07 0-2.86zM5.41 20L4 18.59l7.72-7.72 1.47 1.35L5.41 20z\"/>\n",
              "  </svg>\n",
              "      </button>\n",
              "      \n",
              "  <style>\n",
              "    .colab-df-container {\n",
              "      display:flex;\n",
              "      flex-wrap:wrap;\n",
              "      gap: 12px;\n",
              "    }\n",
              "\n",
              "    .colab-df-convert {\n",
              "      background-color: #E8F0FE;\n",
              "      border: none;\n",
              "      border-radius: 50%;\n",
              "      cursor: pointer;\n",
              "      display: none;\n",
              "      fill: #1967D2;\n",
              "      height: 32px;\n",
              "      padding: 0 0 0 0;\n",
              "      width: 32px;\n",
              "    }\n",
              "\n",
              "    .colab-df-convert:hover {\n",
              "      background-color: #E2EBFA;\n",
              "      box-shadow: 0px 1px 2px rgba(60, 64, 67, 0.3), 0px 1px 3px 1px rgba(60, 64, 67, 0.15);\n",
              "      fill: #174EA6;\n",
              "    }\n",
              "\n",
              "    [theme=dark] .colab-df-convert {\n",
              "      background-color: #3B4455;\n",
              "      fill: #D2E3FC;\n",
              "    }\n",
              "\n",
              "    [theme=dark] .colab-df-convert:hover {\n",
              "      background-color: #434B5C;\n",
              "      box-shadow: 0px 1px 3px 1px rgba(0, 0, 0, 0.15);\n",
              "      filter: drop-shadow(0px 1px 2px rgba(0, 0, 0, 0.3));\n",
              "      fill: #FFFFFF;\n",
              "    }\n",
              "  </style>\n",
              "\n",
              "      <script>\n",
              "        const buttonEl =\n",
              "          document.querySelector('#df-2d1517cc-fb6b-45e6-9b5c-19f2140b075a button.colab-df-convert');\n",
              "        buttonEl.style.display =\n",
              "          google.colab.kernel.accessAllowed ? 'block' : 'none';\n",
              "\n",
              "        async function convertToInteractive(key) {\n",
              "          const element = document.querySelector('#df-2d1517cc-fb6b-45e6-9b5c-19f2140b075a');\n",
              "          const dataTable =\n",
              "            await google.colab.kernel.invokeFunction('convertToInteractive',\n",
              "                                                     [key], {});\n",
              "          if (!dataTable) return;\n",
              "\n",
              "          const docLinkHtml = 'Like what you see? Visit the ' +\n",
              "            '<a target=\"_blank\" href=https://colab.research.google.com/notebooks/data_table.ipynb>data table notebook</a>'\n",
              "            + ' to learn more about interactive tables.';\n",
              "          element.innerHTML = '';\n",
              "          dataTable['output_type'] = 'display_data';\n",
              "          await google.colab.output.renderOutput(dataTable, element);\n",
              "          const docLink = document.createElement('div');\n",
              "          docLink.innerHTML = docLinkHtml;\n",
              "          element.appendChild(docLink);\n",
              "        }\n",
              "      </script>\n",
              "    </div>\n",
              "  </div>\n",
              "  "
            ]
          },
          "metadata": {},
          "execution_count": 46
        }
      ],
      "source": [
        "scores = pd.DataFrame(\n",
        "    data={\n",
        "        'models': models,\n",
        "        'mae': mae,\n",
        "        'mape': mape,\n",
        "        'mse': mse,\n",
        "        'rmse': rmse,\n",
        "    }    \n",
        ")\n",
        "\n",
        "scores"
      ]
    },
    {
      "cell_type": "markdown",
      "metadata": {
        "id": "joBn_h1TVcx-"
      },
      "source": [
        "### KNeighboursRegressor\n"
      ]
    },
    {
      "cell_type": "code",
      "execution_count": null,
      "metadata": {
        "id": "5HMOfId8I0H9"
      },
      "outputs": [],
      "source": [
        "from sklearn.neighbors import KNeighborsRegressor"
      ]
    },
    {
      "cell_type": "code",
      "execution_count": null,
      "metadata": {
        "colab": {
          "base_uri": "https://localhost:8080/"
        },
        "id": "oq4JtPOe1lMh",
        "outputId": "b5698c89-f737-4289-fed2-49c7fb4c6e3a"
      },
      "outputs": [
        {
          "output_type": "execute_result",
          "data": {
            "text/plain": [
              "KNeighborsRegressor(n_jobs=-1)"
            ]
          },
          "metadata": {},
          "execution_count": 139
        }
      ],
      "source": [
        "np.random.seed(42)\n",
        "k_model = KNeighborsRegressor(\n",
        "    n_jobs=-1,\n",
        "    #n_neighbors=2,\n",
        "    # random_state=42,\n",
        "    # max_samples=10000, #minimizes the data\n",
        ")\n",
        "\n",
        "# X_train = np.asarray(X_train)\n",
        "# y_train = np.asarray(y_train)\n",
        "k_model.fit(X_train, y_train)"
      ]
    },
    {
      "cell_type": "code",
      "execution_count": null,
      "metadata": {
        "colab": {
          "base_uri": "https://localhost:8080/"
        },
        "id": "D7pJgpvzJBBp",
        "outputId": "632f344a-2a32-496e-87dc-1e783e2c676a"
      },
      "outputs": [
        {
          "output_type": "stream",
          "name": "stderr",
          "text": [
            "/usr/local/lib/python3.7/dist-packages/sklearn/base.py:444: UserWarning: X has feature names, but KNeighborsRegressor was fitted without feature names\n",
            "  f\"X has feature names, but {self.__class__.__name__} was fitted without\"\n"
          ]
        },
        {
          "output_type": "execute_result",
          "data": {
            "text/plain": [
              "(0.7023217680609357, -33.25121207579849)"
            ]
          },
          "metadata": {},
          "execution_count": 140
        }
      ],
      "source": [
        "k_model.score(X_train, y_train), k_model.score(X_test, y_test)"
      ]
    },
    {
      "cell_type": "code",
      "execution_count": null,
      "metadata": {
        "colab": {
          "base_uri": "https://localhost:8080/"
        },
        "id": "bAUcD5KOLVOm",
        "outputId": "cb63c5e2-c5f1-444b-de1d-40586ff30e01"
      },
      "outputs": [
        {
          "output_type": "stream",
          "name": "stderr",
          "text": [
            "/usr/local/lib/python3.7/dist-packages/sklearn/base.py:444: UserWarning: X has feature names, but KNeighborsRegressor was fitted without feature names\n",
            "  f\"X has feature names, but {self.__class__.__name__} was fitted without\"\n"
          ]
        },
        {
          "output_type": "execute_result",
          "data": {
            "text/plain": [
              "{'mae': 0.101333335,\n",
              " 'mape': 108686865000000.0,\n",
              " 'mse': 0.03210263,\n",
              " 'rmse': 0.17917207,\n",
              " 'train_mae': 0.049615383,\n",
              " 'train_mape': 40987090000000.0,\n",
              " 'train_mse': 0.010442808,\n",
              " 'train_rmse': 0.102190055}"
            ]
          },
          "metadata": {},
          "execution_count": 141
        }
      ],
      "source": [
        "k_scores = show_scores_sklearn(k_model)\n",
        "k_scores"
      ]
    },
    {
      "cell_type": "code",
      "execution_count": null,
      "metadata": {
        "colab": {
          "base_uri": "https://localhost:8080/"
        },
        "id": "S_OyGb0xLYUu",
        "outputId": "90cd6c7c-8ebc-480c-f472-f0b7e0a7767a"
      },
      "outputs": [
        {
          "output_type": "stream",
          "name": "stdout",
          "text": [
            "Fitting 5 folds for each of 5 candidates, totalling 25 fits\n"
          ]
        },
        {
          "output_type": "execute_result",
          "data": {
            "text/plain": [
              "RandomizedSearchCV(cv=5, estimator=KNeighborsRegressor(n_jobs=-1), n_iter=5,\n",
              "                   param_distributions={'algorithm': ['auto', 'ball_tree',\n",
              "                                                      'kd_tree', 'brute'],\n",
              "                                        'leaf_size': [20, 30, 40, 50, 60],\n",
              "                                        'n_neighbors': [1, 3, 5, 10, 20]},\n",
              "                   verbose=True)"
            ]
          },
          "metadata": {},
          "execution_count": 142
        }
      ],
      "source": [
        "rf_k_params = {\n",
        "    'n_neighbors': [1, 3, 5, 10, 20],\n",
        "    'algorithm': ['auto', 'ball_tree', 'kd_tree', 'brute'],\n",
        "    'leaf_size': [20, 30, 40, 50, 60]\n",
        "}\n",
        "\n",
        "np.random.seed(42)\n",
        "rs_k_model = RandomizedSearchCV(\n",
        "    KNeighborsRegressor(\n",
        "        n_jobs=-1,\n",
        "        #random_state=42,\n",
        "    ),\n",
        "    param_distributions=rf_k_params,\n",
        "    n_iter=5,\n",
        "    cv=5,\n",
        "    verbose=True\n",
        ")\n",
        "\n",
        "#Fit the randomized search cv model\n",
        "rs_k_model.fit(X_train, y_train)"
      ]
    },
    {
      "cell_type": "code",
      "execution_count": null,
      "metadata": {
        "colab": {
          "base_uri": "https://localhost:8080/"
        },
        "id": "fnoiIMAKMxS5",
        "outputId": "1a8fafb3-24cb-4704-8686-6a1a960c2483"
      },
      "outputs": [
        {
          "output_type": "stream",
          "name": "stderr",
          "text": [
            "/usr/local/lib/python3.7/dist-packages/sklearn/base.py:444: UserWarning: X has feature names, but KNeighborsRegressor was fitted without feature names\n",
            "  f\"X has feature names, but {self.__class__.__name__} was fitted without\"\n"
          ]
        },
        {
          "output_type": "execute_result",
          "data": {
            "text/plain": [
              "(1.0, -33.60913300207516)"
            ]
          },
          "metadata": {},
          "execution_count": 143
        }
      ],
      "source": [
        "rs_k_model.score(X_train, y_train), rs_k_model.score(X_test, y_test)"
      ]
    },
    {
      "cell_type": "code",
      "execution_count": null,
      "metadata": {
        "colab": {
          "base_uri": "https://localhost:8080/"
        },
        "id": "M4Ka8jPzM3bA",
        "outputId": "0e268f7d-f986-4d0f-baca-5d37a2b19fe9"
      },
      "outputs": [
        {
          "output_type": "stream",
          "name": "stderr",
          "text": [
            "/usr/local/lib/python3.7/dist-packages/sklearn/base.py:444: UserWarning: X has feature names, but KNeighborsRegressor was fitted without feature names\n",
            "  f\"X has feature names, but {self.__class__.__name__} was fitted without\"\n"
          ]
        },
        {
          "output_type": "execute_result",
          "data": {
            "text/plain": [
              "{'mae': 0.09257143,\n",
              " 'mape': 100365945000000.0,\n",
              " 'mse': 0.0324381,\n",
              " 'rmse': 0.1801058,\n",
              " 'train_mae': 0.0,\n",
              " 'train_mape': 0.0,\n",
              " 'train_mse': 0.0,\n",
              " 'train_rmse': 0.0}"
            ]
          },
          "metadata": {},
          "execution_count": 144
        }
      ],
      "source": [
        "knr_ideal = show_scores_sklearn(rs_k_model)\n",
        "knr_ideal"
      ]
    },
    {
      "cell_type": "code",
      "execution_count": null,
      "metadata": {
        "colab": {
          "base_uri": "https://localhost:8080/",
          "height": 305
        },
        "id": "V4VasUrjNBm9",
        "outputId": "2fa5ff49-02ee-4d37-b6d6-7a4d0d60f7ef"
      },
      "outputs": [
        {
          "output_type": "execute_result",
          "data": {
            "text/plain": [
              "                                   models       mae          mape       mse  \\\n",
              "0                                   Naive  0.005769  6.731002e+05  0.000092   \n",
              "1                           Random Forest  0.013312  1.272589e+13  0.000281   \n",
              "2         Random Forest Randomized Search  0.015331  8.694699e+12  0.000470   \n",
              "3                    KNeighboursRegressor  0.101333  1.086869e+14  0.032103   \n",
              "4  KNeighboursRegressor Randomized Search  0.092571  1.003659e+14  0.032438   \n",
              "\n",
              "       rmse  \n",
              "0  0.009608  \n",
              "1  0.016776  \n",
              "2  0.021679  \n",
              "3  0.179172  \n",
              "4  0.180106  "
            ],
            "text/html": [
              "\n",
              "  <div id=\"df-57ca65ee-112b-4ba2-9dd8-83ae792fa8a0\">\n",
              "    <div class=\"colab-df-container\">\n",
              "      <div>\n",
              "<style scoped>\n",
              "    .dataframe tbody tr th:only-of-type {\n",
              "        vertical-align: middle;\n",
              "    }\n",
              "\n",
              "    .dataframe tbody tr th {\n",
              "        vertical-align: top;\n",
              "    }\n",
              "\n",
              "    .dataframe thead th {\n",
              "        text-align: right;\n",
              "    }\n",
              "</style>\n",
              "<table border=\"1\" class=\"dataframe\">\n",
              "  <thead>\n",
              "    <tr style=\"text-align: right;\">\n",
              "      <th></th>\n",
              "      <th>models</th>\n",
              "      <th>mae</th>\n",
              "      <th>mape</th>\n",
              "      <th>mse</th>\n",
              "      <th>rmse</th>\n",
              "    </tr>\n",
              "  </thead>\n",
              "  <tbody>\n",
              "    <tr>\n",
              "      <th>0</th>\n",
              "      <td>Naive</td>\n",
              "      <td>0.005769</td>\n",
              "      <td>6.731002e+05</td>\n",
              "      <td>0.000092</td>\n",
              "      <td>0.009608</td>\n",
              "    </tr>\n",
              "    <tr>\n",
              "      <th>1</th>\n",
              "      <td>Random Forest</td>\n",
              "      <td>0.013312</td>\n",
              "      <td>1.272589e+13</td>\n",
              "      <td>0.000281</td>\n",
              "      <td>0.016776</td>\n",
              "    </tr>\n",
              "    <tr>\n",
              "      <th>2</th>\n",
              "      <td>Random Forest Randomized Search</td>\n",
              "      <td>0.015331</td>\n",
              "      <td>8.694699e+12</td>\n",
              "      <td>0.000470</td>\n",
              "      <td>0.021679</td>\n",
              "    </tr>\n",
              "    <tr>\n",
              "      <th>3</th>\n",
              "      <td>KNeighboursRegressor</td>\n",
              "      <td>0.101333</td>\n",
              "      <td>1.086869e+14</td>\n",
              "      <td>0.032103</td>\n",
              "      <td>0.179172</td>\n",
              "    </tr>\n",
              "    <tr>\n",
              "      <th>4</th>\n",
              "      <td>KNeighboursRegressor Randomized Search</td>\n",
              "      <td>0.092571</td>\n",
              "      <td>1.003659e+14</td>\n",
              "      <td>0.032438</td>\n",
              "      <td>0.180106</td>\n",
              "    </tr>\n",
              "  </tbody>\n",
              "</table>\n",
              "</div>\n",
              "      <button class=\"colab-df-convert\" onclick=\"convertToInteractive('df-57ca65ee-112b-4ba2-9dd8-83ae792fa8a0')\"\n",
              "              title=\"Convert this dataframe to an interactive table.\"\n",
              "              style=\"display:none;\">\n",
              "        \n",
              "  <svg xmlns=\"http://www.w3.org/2000/svg\" height=\"24px\"viewBox=\"0 0 24 24\"\n",
              "       width=\"24px\">\n",
              "    <path d=\"M0 0h24v24H0V0z\" fill=\"none\"/>\n",
              "    <path d=\"M18.56 5.44l.94 2.06.94-2.06 2.06-.94-2.06-.94-.94-2.06-.94 2.06-2.06.94zm-11 1L8.5 8.5l.94-2.06 2.06-.94-2.06-.94L8.5 2.5l-.94 2.06-2.06.94zm10 10l.94 2.06.94-2.06 2.06-.94-2.06-.94-.94-2.06-.94 2.06-2.06.94z\"/><path d=\"M17.41 7.96l-1.37-1.37c-.4-.4-.92-.59-1.43-.59-.52 0-1.04.2-1.43.59L10.3 9.45l-7.72 7.72c-.78.78-.78 2.05 0 2.83L4 21.41c.39.39.9.59 1.41.59.51 0 1.02-.2 1.41-.59l7.78-7.78 2.81-2.81c.8-.78.8-2.07 0-2.86zM5.41 20L4 18.59l7.72-7.72 1.47 1.35L5.41 20z\"/>\n",
              "  </svg>\n",
              "      </button>\n",
              "      \n",
              "  <style>\n",
              "    .colab-df-container {\n",
              "      display:flex;\n",
              "      flex-wrap:wrap;\n",
              "      gap: 12px;\n",
              "    }\n",
              "\n",
              "    .colab-df-convert {\n",
              "      background-color: #E8F0FE;\n",
              "      border: none;\n",
              "      border-radius: 50%;\n",
              "      cursor: pointer;\n",
              "      display: none;\n",
              "      fill: #1967D2;\n",
              "      height: 32px;\n",
              "      padding: 0 0 0 0;\n",
              "      width: 32px;\n",
              "    }\n",
              "\n",
              "    .colab-df-convert:hover {\n",
              "      background-color: #E2EBFA;\n",
              "      box-shadow: 0px 1px 2px rgba(60, 64, 67, 0.3), 0px 1px 3px 1px rgba(60, 64, 67, 0.15);\n",
              "      fill: #174EA6;\n",
              "    }\n",
              "\n",
              "    [theme=dark] .colab-df-convert {\n",
              "      background-color: #3B4455;\n",
              "      fill: #D2E3FC;\n",
              "    }\n",
              "\n",
              "    [theme=dark] .colab-df-convert:hover {\n",
              "      background-color: #434B5C;\n",
              "      box-shadow: 0px 1px 3px 1px rgba(0, 0, 0, 0.15);\n",
              "      filter: drop-shadow(0px 1px 2px rgba(0, 0, 0, 0.3));\n",
              "      fill: #FFFFFF;\n",
              "    }\n",
              "  </style>\n",
              "\n",
              "      <script>\n",
              "        const buttonEl =\n",
              "          document.querySelector('#df-57ca65ee-112b-4ba2-9dd8-83ae792fa8a0 button.colab-df-convert');\n",
              "        buttonEl.style.display =\n",
              "          google.colab.kernel.accessAllowed ? 'block' : 'none';\n",
              "\n",
              "        async function convertToInteractive(key) {\n",
              "          const element = document.querySelector('#df-57ca65ee-112b-4ba2-9dd8-83ae792fa8a0');\n",
              "          const dataTable =\n",
              "            await google.colab.kernel.invokeFunction('convertToInteractive',\n",
              "                                                     [key], {});\n",
              "          if (!dataTable) return;\n",
              "\n",
              "          const docLinkHtml = 'Like what you see? Visit the ' +\n",
              "            '<a target=\"_blank\" href=https://colab.research.google.com/notebooks/data_table.ipynb>data table notebook</a>'\n",
              "            + ' to learn more about interactive tables.';\n",
              "          element.innerHTML = '';\n",
              "          dataTable['output_type'] = 'display_data';\n",
              "          await google.colab.output.renderOutput(dataTable, element);\n",
              "          const docLink = document.createElement('div');\n",
              "          docLink.innerHTML = docLinkHtml;\n",
              "          element.appendChild(docLink);\n",
              "        }\n",
              "      </script>\n",
              "    </div>\n",
              "  </div>\n",
              "  "
            ]
          },
          "metadata": {},
          "execution_count": 145
        }
      ],
      "source": [
        "models.append('KNeighboursRegressor')\n",
        "models.append('KNeighboursRegressor Randomized Search')\n",
        "\n",
        "mae.append(k_scores['mae'])\n",
        "mape.append(k_scores['mape'])\n",
        "mse.append(k_scores['mse']) \n",
        "rmse.append(k_scores['rmse'])\n",
        "\n",
        "mae.append(knr_ideal['mae'])\n",
        "mape.append(knr_ideal['mape'])\n",
        "mse.append(knr_ideal['mse']) \n",
        "rmse.append(knr_ideal['rmse']) \n",
        "\n",
        "scores = pd.DataFrame(\n",
        "    data={\n",
        "        'models': models,\n",
        "        'mae': mae,\n",
        "        'mape': mape,\n",
        "        'mse': mse,\n",
        "        'rmse': rmse,\n",
        "    }    \n",
        ")\n",
        "\n",
        "scores"
      ]
    },
    {
      "cell_type": "markdown",
      "metadata": {
        "id": "GJfKLypvO-_t"
      },
      "source": [
        "### Support Vector Regressor"
      ]
    },
    {
      "cell_type": "code",
      "execution_count": null,
      "metadata": {
        "id": "RL2jeGfUPCgq"
      },
      "outputs": [],
      "source": [
        "from sklearn.svm import SVR"
      ]
    },
    {
      "cell_type": "code",
      "execution_count": null,
      "metadata": {
        "colab": {
          "base_uri": "https://localhost:8080/"
        },
        "id": "jSJbLIBvPggp",
        "outputId": "644f8c65-34ea-44bc-9dac-5669bcb5140d"
      },
      "outputs": [
        {
          "output_type": "execute_result",
          "data": {
            "text/plain": [
              "SVR()"
            ]
          },
          "metadata": {},
          "execution_count": 147
        }
      ],
      "source": [
        "np.random.seed(42)\n",
        "svr_model = SVR()\n",
        "\n",
        "# X_train = np.asarray(X_train)|\n",
        "# y_train = np.asarray(y_train)\n",
        "svr_model.fit(X_train, y_train)"
      ]
    },
    {
      "cell_type": "code",
      "execution_count": null,
      "metadata": {
        "colab": {
          "base_uri": "https://localhost:8080/"
        },
        "id": "So6s8Q1RQRkc",
        "outputId": "8bb573e5-0152-4915-d924-3dff4ce6678b"
      },
      "outputs": [
        {
          "output_type": "stream",
          "name": "stderr",
          "text": [
            "/usr/local/lib/python3.7/dist-packages/sklearn/base.py:444: UserWarning: X has feature names, but SVR was fitted without feature names\n",
            "  f\"X has feature names, but {self.__class__.__name__} was fitted without\"\n"
          ]
        },
        {
          "output_type": "execute_result",
          "data": {
            "text/plain": [
              "(0.005467028350361058, -6.240230461894922)"
            ]
          },
          "metadata": {},
          "execution_count": 148
        }
      ],
      "source": [
        "svr_model.score(X_train, y_train), svr_model.score(X_test, y_test)"
      ]
    },
    {
      "cell_type": "code",
      "execution_count": null,
      "metadata": {
        "colab": {
          "base_uri": "https://localhost:8080/"
        },
        "id": "UkUxqJy1QVwy",
        "outputId": "b562b896-9efa-40ad-a017-4a8c2dac0215"
      },
      "outputs": [
        {
          "output_type": "stream",
          "name": "stderr",
          "text": [
            "/usr/local/lib/python3.7/dist-packages/sklearn/base.py:444: UserWarning: X has feature names, but SVR was fitted without feature names\n",
            "  f\"X has feature names, but {self.__class__.__name__} was fitted without\"\n"
          ]
        },
        {
          "output_type": "execute_result",
          "data": {
            "text/plain": [
              "{'mae': 0.07683887398657722,\n",
              " 'mape': 112997695445044.89,\n",
              " 'mse': 0.0067860498708734755,\n",
              " 'rmse': 0.08237748400426828,\n",
              " 'train_mae': 0.12794034859660497,\n",
              " 'train_mape': 180700673123132.06,\n",
              " 'train_mse': 0.03488907114439473,\n",
              " 'train_rmse': 0.18678616422100094}"
            ]
          },
          "metadata": {},
          "execution_count": 149
        }
      ],
      "source": [
        "svr_scores = show_scores_sklearn(svr_model)\n",
        "svr_scores"
      ]
    },
    {
      "cell_type": "code",
      "execution_count": null,
      "metadata": {
        "colab": {
          "base_uri": "https://localhost:8080/"
        },
        "id": "tg_nJX3TQbYV",
        "outputId": "2fd58b82-3458-48b8-b49d-b5f153fb9973"
      },
      "outputs": [
        {
          "output_type": "stream",
          "name": "stdout",
          "text": [
            "Fitting 5 folds for each of 5 candidates, totalling 25 fits\n"
          ]
        },
        {
          "output_type": "execute_result",
          "data": {
            "text/plain": [
              "RandomizedSearchCV(cv=5, estimator=SVR(), n_iter=5,\n",
              "                   param_distributions={'C': [1, 3, 5, 7, 9],\n",
              "                                        'degree': [1, 3, 5, 7, 9],\n",
              "                                        'epsilon': [0.1, 0.3, 0.5, 0.7, 0.9],\n",
              "                                        'gamma': ['scale', 'auto'],\n",
              "                                        'kernel': ['linear', 'poly', 'rbf',\n",
              "                                                   'sigmoid']},\n",
              "                   verbose=True)"
            ]
          },
          "metadata": {},
          "execution_count": 150
        }
      ],
      "source": [
        "rf_svr_params = {\n",
        "    'kernel': ['linear', 'poly', 'rbf', 'sigmoid'],\n",
        "    'gamma': ['scale', 'auto'],\n",
        "    'degree': [1, 3, 5, 7, 9],\n",
        "    'epsilon': [0.1, 0.3, 0.5, 0.7, 0.9],\n",
        "    'C': [1, 3, 5, 7, 9], \n",
        "}\n",
        "\n",
        "np.random.seed(42)\n",
        "rs_svr_model = RandomizedSearchCV(\n",
        "    SVR(),\n",
        "    param_distributions=rf_svr_params,\n",
        "    n_iter=5,\n",
        "    cv=5,\n",
        "    verbose=True\n",
        ")\n",
        "\n",
        "# X_train = np.asarray(X_train)\n",
        "# y_train = np.asarray(y_train)\n",
        "#Fit the randomized search cv model\n",
        "rs_svr_model.fit(X_train, y_train)"
      ]
    },
    {
      "cell_type": "code",
      "execution_count": null,
      "metadata": {
        "colab": {
          "base_uri": "https://localhost:8080/"
        },
        "id": "TfX7YWArTwFW",
        "outputId": "dbaf4a21-81c9-4687-8420-08fb2e556c7a"
      },
      "outputs": [
        {
          "output_type": "stream",
          "name": "stderr",
          "text": [
            "/usr/local/lib/python3.7/dist-packages/sklearn/base.py:444: UserWarning: X has feature names, but SVR was fitted without feature names\n",
            "  f\"X has feature names, but {self.__class__.__name__} was fitted without\"\n"
          ]
        },
        {
          "output_type": "execute_result",
          "data": {
            "text/plain": [
              "(-1.316024155371554, -130.87463643573753)"
            ]
          },
          "metadata": {},
          "execution_count": 151
        }
      ],
      "source": [
        "rs_svr_model.score(X_train, y_train), rs_svr_model.score(X_test, y_test)"
      ]
    },
    {
      "cell_type": "code",
      "execution_count": null,
      "metadata": {
        "colab": {
          "base_uri": "https://localhost:8080/"
        },
        "id": "LyRPXhMuUSvM",
        "outputId": "b50a6253-8071-4aee-c531-cf2400f0aa29"
      },
      "outputs": [
        {
          "output_type": "stream",
          "name": "stderr",
          "text": [
            "/usr/local/lib/python3.7/dist-packages/sklearn/base.py:444: UserWarning: X has feature names, but SVR was fitted without feature names\n",
            "  f\"X has feature names, but {self.__class__.__name__} was fitted without\"\n"
          ]
        },
        {
          "output_type": "execute_result",
          "data": {
            "text/plain": [
              "{'mae': 0.3370340790473201,\n",
              " 'mape': 404985832198621.1,\n",
              " 'mse': 0.12360212347743511,\n",
              " 'rmse': 0.3515709366222343,\n",
              " 'train_mae': 0.2526624478864663,\n",
              " 'train_mape': 489888471264007.3,\n",
              " 'train_mse': 0.0812481172895302,\n",
              " 'train_rmse': 0.28504055376302195}"
            ]
          },
          "metadata": {},
          "execution_count": 152
        }
      ],
      "source": [
        "rs_svr_scores = show_scores_sklearn(rs_svr_model)\n",
        "rs_svr_scores"
      ]
    },
    {
      "cell_type": "code",
      "execution_count": null,
      "metadata": {
        "colab": {
          "base_uri": "https://localhost:8080/",
          "height": 420
        },
        "id": "eI666yozUWpo",
        "outputId": "26004320-1d9b-403b-f2f4-5d56e2872907"
      },
      "outputs": [
        {
          "output_type": "execute_result",
          "data": {
            "text/plain": [
              "                                        models       mae          mape  \\\n",
              "0                                        Naive  0.005769  6.731002e+05   \n",
              "1                                Random Forest  0.013312  1.272589e+13   \n",
              "2              Random Forest Randomized Search  0.015331  8.694699e+12   \n",
              "3                         KNeighboursRegressor  0.101333  1.086869e+14   \n",
              "4       KNeighboursRegressor Randomized Search  0.092571  1.003659e+14   \n",
              "5                    Support Vector Regression  0.076839  1.129977e+14   \n",
              "6  Support Vector Regression Randomized Search  0.337034  4.049858e+14   \n",
              "\n",
              "        mse      rmse  \n",
              "0  0.000092  0.009608  \n",
              "1  0.000281  0.016776  \n",
              "2  0.000470  0.021679  \n",
              "3  0.032103  0.179172  \n",
              "4  0.032438  0.180106  \n",
              "5  0.006786  0.082377  \n",
              "6  0.123602  0.351571  "
            ],
            "text/html": [
              "\n",
              "  <div id=\"df-9bedc47e-1505-4890-bbd5-44d6279e20e4\">\n",
              "    <div class=\"colab-df-container\">\n",
              "      <div>\n",
              "<style scoped>\n",
              "    .dataframe tbody tr th:only-of-type {\n",
              "        vertical-align: middle;\n",
              "    }\n",
              "\n",
              "    .dataframe tbody tr th {\n",
              "        vertical-align: top;\n",
              "    }\n",
              "\n",
              "    .dataframe thead th {\n",
              "        text-align: right;\n",
              "    }\n",
              "</style>\n",
              "<table border=\"1\" class=\"dataframe\">\n",
              "  <thead>\n",
              "    <tr style=\"text-align: right;\">\n",
              "      <th></th>\n",
              "      <th>models</th>\n",
              "      <th>mae</th>\n",
              "      <th>mape</th>\n",
              "      <th>mse</th>\n",
              "      <th>rmse</th>\n",
              "    </tr>\n",
              "  </thead>\n",
              "  <tbody>\n",
              "    <tr>\n",
              "      <th>0</th>\n",
              "      <td>Naive</td>\n",
              "      <td>0.005769</td>\n",
              "      <td>6.731002e+05</td>\n",
              "      <td>0.000092</td>\n",
              "      <td>0.009608</td>\n",
              "    </tr>\n",
              "    <tr>\n",
              "      <th>1</th>\n",
              "      <td>Random Forest</td>\n",
              "      <td>0.013312</td>\n",
              "      <td>1.272589e+13</td>\n",
              "      <td>0.000281</td>\n",
              "      <td>0.016776</td>\n",
              "    </tr>\n",
              "    <tr>\n",
              "      <th>2</th>\n",
              "      <td>Random Forest Randomized Search</td>\n",
              "      <td>0.015331</td>\n",
              "      <td>8.694699e+12</td>\n",
              "      <td>0.000470</td>\n",
              "      <td>0.021679</td>\n",
              "    </tr>\n",
              "    <tr>\n",
              "      <th>3</th>\n",
              "      <td>KNeighboursRegressor</td>\n",
              "      <td>0.101333</td>\n",
              "      <td>1.086869e+14</td>\n",
              "      <td>0.032103</td>\n",
              "      <td>0.179172</td>\n",
              "    </tr>\n",
              "    <tr>\n",
              "      <th>4</th>\n",
              "      <td>KNeighboursRegressor Randomized Search</td>\n",
              "      <td>0.092571</td>\n",
              "      <td>1.003659e+14</td>\n",
              "      <td>0.032438</td>\n",
              "      <td>0.180106</td>\n",
              "    </tr>\n",
              "    <tr>\n",
              "      <th>5</th>\n",
              "      <td>Support Vector Regression</td>\n",
              "      <td>0.076839</td>\n",
              "      <td>1.129977e+14</td>\n",
              "      <td>0.006786</td>\n",
              "      <td>0.082377</td>\n",
              "    </tr>\n",
              "    <tr>\n",
              "      <th>6</th>\n",
              "      <td>Support Vector Regression Randomized Search</td>\n",
              "      <td>0.337034</td>\n",
              "      <td>4.049858e+14</td>\n",
              "      <td>0.123602</td>\n",
              "      <td>0.351571</td>\n",
              "    </tr>\n",
              "  </tbody>\n",
              "</table>\n",
              "</div>\n",
              "      <button class=\"colab-df-convert\" onclick=\"convertToInteractive('df-9bedc47e-1505-4890-bbd5-44d6279e20e4')\"\n",
              "              title=\"Convert this dataframe to an interactive table.\"\n",
              "              style=\"display:none;\">\n",
              "        \n",
              "  <svg xmlns=\"http://www.w3.org/2000/svg\" height=\"24px\"viewBox=\"0 0 24 24\"\n",
              "       width=\"24px\">\n",
              "    <path d=\"M0 0h24v24H0V0z\" fill=\"none\"/>\n",
              "    <path d=\"M18.56 5.44l.94 2.06.94-2.06 2.06-.94-2.06-.94-.94-2.06-.94 2.06-2.06.94zm-11 1L8.5 8.5l.94-2.06 2.06-.94-2.06-.94L8.5 2.5l-.94 2.06-2.06.94zm10 10l.94 2.06.94-2.06 2.06-.94-2.06-.94-.94-2.06-.94 2.06-2.06.94z\"/><path d=\"M17.41 7.96l-1.37-1.37c-.4-.4-.92-.59-1.43-.59-.52 0-1.04.2-1.43.59L10.3 9.45l-7.72 7.72c-.78.78-.78 2.05 0 2.83L4 21.41c.39.39.9.59 1.41.59.51 0 1.02-.2 1.41-.59l7.78-7.78 2.81-2.81c.8-.78.8-2.07 0-2.86zM5.41 20L4 18.59l7.72-7.72 1.47 1.35L5.41 20z\"/>\n",
              "  </svg>\n",
              "      </button>\n",
              "      \n",
              "  <style>\n",
              "    .colab-df-container {\n",
              "      display:flex;\n",
              "      flex-wrap:wrap;\n",
              "      gap: 12px;\n",
              "    }\n",
              "\n",
              "    .colab-df-convert {\n",
              "      background-color: #E8F0FE;\n",
              "      border: none;\n",
              "      border-radius: 50%;\n",
              "      cursor: pointer;\n",
              "      display: none;\n",
              "      fill: #1967D2;\n",
              "      height: 32px;\n",
              "      padding: 0 0 0 0;\n",
              "      width: 32px;\n",
              "    }\n",
              "\n",
              "    .colab-df-convert:hover {\n",
              "      background-color: #E2EBFA;\n",
              "      box-shadow: 0px 1px 2px rgba(60, 64, 67, 0.3), 0px 1px 3px 1px rgba(60, 64, 67, 0.15);\n",
              "      fill: #174EA6;\n",
              "    }\n",
              "\n",
              "    [theme=dark] .colab-df-convert {\n",
              "      background-color: #3B4455;\n",
              "      fill: #D2E3FC;\n",
              "    }\n",
              "\n",
              "    [theme=dark] .colab-df-convert:hover {\n",
              "      background-color: #434B5C;\n",
              "      box-shadow: 0px 1px 3px 1px rgba(0, 0, 0, 0.15);\n",
              "      filter: drop-shadow(0px 1px 2px rgba(0, 0, 0, 0.3));\n",
              "      fill: #FFFFFF;\n",
              "    }\n",
              "  </style>\n",
              "\n",
              "      <script>\n",
              "        const buttonEl =\n",
              "          document.querySelector('#df-9bedc47e-1505-4890-bbd5-44d6279e20e4 button.colab-df-convert');\n",
              "        buttonEl.style.display =\n",
              "          google.colab.kernel.accessAllowed ? 'block' : 'none';\n",
              "\n",
              "        async function convertToInteractive(key) {\n",
              "          const element = document.querySelector('#df-9bedc47e-1505-4890-bbd5-44d6279e20e4');\n",
              "          const dataTable =\n",
              "            await google.colab.kernel.invokeFunction('convertToInteractive',\n",
              "                                                     [key], {});\n",
              "          if (!dataTable) return;\n",
              "\n",
              "          const docLinkHtml = 'Like what you see? Visit the ' +\n",
              "            '<a target=\"_blank\" href=https://colab.research.google.com/notebooks/data_table.ipynb>data table notebook</a>'\n",
              "            + ' to learn more about interactive tables.';\n",
              "          element.innerHTML = '';\n",
              "          dataTable['output_type'] = 'display_data';\n",
              "          await google.colab.output.renderOutput(dataTable, element);\n",
              "          const docLink = document.createElement('div');\n",
              "          docLink.innerHTML = docLinkHtml;\n",
              "          element.appendChild(docLink);\n",
              "        }\n",
              "      </script>\n",
              "    </div>\n",
              "  </div>\n",
              "  "
            ]
          },
          "metadata": {},
          "execution_count": 153
        }
      ],
      "source": [
        "models.append('Support Vector Regression')\n",
        "models.append('Support Vector Regression Randomized Search')\n",
        "\n",
        "mae.append(svr_scores['mae'])\n",
        "mape.append(svr_scores['mape'])\n",
        "mse.append(svr_scores['mse']) \n",
        "rmse.append(svr_scores['rmse'])\n",
        "\n",
        "mae.append(rs_svr_scores['mae'])\n",
        "mape.append(rs_svr_scores['mape'])\n",
        "mse.append(rs_svr_scores['mse']) \n",
        "rmse.append(rs_svr_scores['rmse']) \n",
        "\n",
        "scores = pd.DataFrame(\n",
        "    data={\n",
        "        'models': models,\n",
        "        'mae': mae,\n",
        "        'mape': mape,\n",
        "        'mse': mse,\n",
        "        'rmse': rmse,\n",
        "    }    \n",
        ")\n",
        "\n",
        "scores"
      ]
    },
    {
      "cell_type": "markdown",
      "metadata": {
        "id": "NLwiiLiLngVq"
      },
      "source": [
        "### Ensemble Methods"
      ]
    },
    {
      "cell_type": "markdown",
      "metadata": {
        "id": "d1MPTF1no7VC"
      },
      "source": [
        "#### Combining RFR, KNR, and SVR"
      ]
    },
    {
      "cell_type": "code",
      "execution_count": null,
      "metadata": {
        "id": "kUcSa3i2siXW"
      },
      "outputs": [],
      "source": [
        "from sklearn.ensemble import VotingRegressor"
      ]
    },
    {
      "cell_type": "code",
      "execution_count": null,
      "metadata": {
        "id": "pnbKjenfskGI",
        "colab": {
          "base_uri": "https://localhost:8080/"
        },
        "outputId": "f250f587-5768-4db0-fbac-de04c91bd661"
      },
      "outputs": [
        {
          "output_type": "stream",
          "name": "stdout",
          "text": [
            "Fitting 5 folds for each of 5 candidates, totalling 25 fits\n",
            "Fitting 5 folds for each of 5 candidates, totalling 25 fits\n",
            "Fitting 5 folds for each of 5 candidates, totalling 25 fits\n"
          ]
        },
        {
          "output_type": "execute_result",
          "data": {
            "text/plain": [
              "VotingRegressor(estimators=[('rfr',\n",
              "                             RandomizedSearchCV(cv=5,\n",
              "                                                estimator=RandomForestRegressor(n_jobs=-1),\n",
              "                                                n_iter=5,\n",
              "                                                param_distributions={'max_depth': [None,\n",
              "                                                                                   3,\n",
              "                                                                                   5,\n",
              "                                                                                   10],\n",
              "                                                                     'max_features': [0.5,\n",
              "                                                                                      1,\n",
              "                                                                                      'sqrt',\n",
              "                                                                                      'auto'],\n",
              "                                                                     'max_samples': [332],\n",
              "                                                                     'min_samples_leaf': array([ 1,  3,  5,  7,  9, 11, 13, 15, 17, 19]),\n",
              "                                                                     'min_samples_split': array([ 2,  4,  6,  8, 10, 12, 14, 16, 18]),\n",
              "                                                                     'n_estimators': array([10, 20, 30...\n",
              "                                                param_distributions={'algorithm': ['auto',\n",
              "                                                                                   'ball_tree',\n",
              "                                                                                   'kd_tree',\n",
              "                                                                                   'brute'],\n",
              "                                                                     'leaf_size': [20,\n",
              "                                                                                   30,\n",
              "                                                                                   40,\n",
              "                                                                                   50,\n",
              "                                                                                   60],\n",
              "                                                                     'n_neighbors': [1,\n",
              "                                                                                     3,\n",
              "                                                                                     5,\n",
              "                                                                                     10,\n",
              "                                                                                     20]},\n",
              "                                                verbose=True)),\n",
              "                            ('svr',\n",
              "                             RandomizedSearchCV(cv=5, estimator=SVR(), n_iter=5,\n",
              "                                                param_distributions={'C': [1, 3,\n",
              "                                                                           5, 7,\n",
              "                                                                           9],\n",
              "                                                                     'degree': [1,\n",
              "                                                                                3,\n",
              "                                                                                5,\n",
              "                                                                                7,\n",
              "                                                                                9],\n",
              "                                                                     'epsilon': [0.1,\n",
              "                                                                                 0.3,\n",
              "                                                                                 0.5,\n",
              "                                                                                 0.7,\n",
              "                                                                                 0.9],\n",
              "                                                                     'gamma': ['scale',\n",
              "                                                                               'auto'],\n",
              "                                                                     'kernel': ['linear',\n",
              "                                                                                'poly',\n",
              "                                                                                'rbf',\n",
              "                                                                                'sigmoid']},\n",
              "                                                verbose=True))])"
            ]
          },
          "metadata": {},
          "execution_count": 155
        }
      ],
      "source": [
        "vr_model = VotingRegressor(\n",
        "    estimators=[\n",
        "        ('rfr', rs_model),\n",
        "        ('knr', rs_k_model),\n",
        "        ('svr', rs_svr_model),\n",
        "    ]\n",
        ")\n",
        "\n",
        "np.random.seed(42)\n",
        "# X_train_dot = np.dot(X_train, X_train.T)\n",
        "# X_test_dot = np.dot(X_test, X_train.T)\n",
        "vr_model.fit(X_train, y_train)"
      ]
    },
    {
      "cell_type": "code",
      "source": [
        "vr_model.score(X_train, y_train), vr_model.score(X_test, y_test)"
      ],
      "metadata": {
        "id": "VAQLbxGquGcq",
        "colab": {
          "base_uri": "https://localhost:8080/"
        },
        "outputId": "3eab6146-5ae8-4e39-e1b9-b0c9c9a133e8"
      },
      "execution_count": null,
      "outputs": [
        {
          "output_type": "stream",
          "name": "stderr",
          "text": [
            "/usr/local/lib/python3.7/dist-packages/sklearn/base.py:444: UserWarning: X has feature names, but RandomForestRegressor was fitted without feature names\n",
            "  f\"X has feature names, but {self.__class__.__name__} was fitted without\"\n",
            "/usr/local/lib/python3.7/dist-packages/sklearn/base.py:444: UserWarning: X has feature names, but KNeighborsRegressor was fitted without feature names\n",
            "  f\"X has feature names, but {self.__class__.__name__} was fitted without\"\n",
            "/usr/local/lib/python3.7/dist-packages/sklearn/base.py:444: UserWarning: X has feature names, but SVR was fitted without feature names\n",
            "  f\"X has feature names, but {self.__class__.__name__} was fitted without\"\n"
          ]
        },
        {
          "output_type": "execute_result",
          "data": {
            "text/plain": [
              "(0.7005574827891567, -5.915626681476128)"
            ]
          },
          "metadata": {},
          "execution_count": 156
        }
      ]
    },
    {
      "cell_type": "code",
      "source": [
        "vr_scores = show_scores_sklearn(vr_model)\n",
        "vr_scores"
      ],
      "metadata": {
        "id": "GjoQAHzww1LQ",
        "colab": {
          "base_uri": "https://localhost:8080/"
        },
        "outputId": "9ef960e9-126d-40d4-8265-b000915a6878"
      },
      "execution_count": null,
      "outputs": [
        {
          "output_type": "stream",
          "name": "stderr",
          "text": [
            "/usr/local/lib/python3.7/dist-packages/sklearn/base.py:444: UserWarning: X has feature names, but RandomForestRegressor was fitted without feature names\n",
            "  f\"X has feature names, but {self.__class__.__name__} was fitted without\"\n",
            "/usr/local/lib/python3.7/dist-packages/sklearn/base.py:444: UserWarning: X has feature names, but KNeighborsRegressor was fitted without feature names\n",
            "  f\"X has feature names, but {self.__class__.__name__} was fitted without\"\n",
            "/usr/local/lib/python3.7/dist-packages/sklearn/base.py:444: UserWarning: X has feature names, but SVR was fitted without feature names\n",
            "  f\"X has feature names, but {self.__class__.__name__} was fitted without\"\n"
          ]
        },
        {
          "output_type": "execute_result",
          "data": {
            "text/plain": [
              "{'mae': 0.05970004291449988,\n",
              " 'mape': 75828548752944.97,\n",
              " 'mse': 0.006481808527481281,\n",
              " 'rmse': 0.08050967971294683,\n",
              " 'train_mae': 0.05957360375578798,\n",
              " 'train_mape': 75190414062705.14,\n",
              " 'train_mse': 0.010504700783621874,\n",
              " 'train_rmse': 0.10249244256832732}"
            ]
          },
          "metadata": {},
          "execution_count": 157
        }
      ]
    },
    {
      "cell_type": "code",
      "source": [
        "models.append('VotingRegressor')\n",
        "\n",
        "mae.append(vr_scores['mae'])\n",
        "mape.append(vr_scores['mape'])\n",
        "mse.append(vr_scores['mse']) \n",
        "rmse.append(vr_scores['rmse'])\n",
        "\n",
        "scores = pd.DataFrame(\n",
        "    data={\n",
        "        'models': models,\n",
        "        'mae': mae,\n",
        "        'mape': mape,\n",
        "        'mse': mse,\n",
        "        'rmse': rmse,\n",
        "    }    \n",
        ")\n",
        "\n",
        "scores"
      ],
      "metadata": {
        "id": "370ediEKw65u",
        "colab": {
          "base_uri": "https://localhost:8080/",
          "height": 451
        },
        "outputId": "297c2871-e95b-4090-8843-6c0de4af5369"
      },
      "execution_count": null,
      "outputs": [
        {
          "output_type": "execute_result",
          "data": {
            "text/plain": [
              "                                        models       mae          mape  \\\n",
              "0                                        Naive  0.005769  6.731002e+05   \n",
              "1                                Random Forest  0.013312  1.272589e+13   \n",
              "2              Random Forest Randomized Search  0.015331  8.694699e+12   \n",
              "3                         KNeighboursRegressor  0.101333  1.086869e+14   \n",
              "4       KNeighboursRegressor Randomized Search  0.092571  1.003659e+14   \n",
              "5                    Support Vector Regression  0.076839  1.129977e+14   \n",
              "6  Support Vector Regression Randomized Search  0.337034  4.049858e+14   \n",
              "7                              VotingRegressor  0.059700  7.582855e+13   \n",
              "\n",
              "        mse      rmse  \n",
              "0  0.000092  0.009608  \n",
              "1  0.000281  0.016776  \n",
              "2  0.000470  0.021679  \n",
              "3  0.032103  0.179172  \n",
              "4  0.032438  0.180106  \n",
              "5  0.006786  0.082377  \n",
              "6  0.123602  0.351571  \n",
              "7  0.006482  0.080510  "
            ],
            "text/html": [
              "\n",
              "  <div id=\"df-79b0d151-f8e1-4250-8a30-667e133922f5\">\n",
              "    <div class=\"colab-df-container\">\n",
              "      <div>\n",
              "<style scoped>\n",
              "    .dataframe tbody tr th:only-of-type {\n",
              "        vertical-align: middle;\n",
              "    }\n",
              "\n",
              "    .dataframe tbody tr th {\n",
              "        vertical-align: top;\n",
              "    }\n",
              "\n",
              "    .dataframe thead th {\n",
              "        text-align: right;\n",
              "    }\n",
              "</style>\n",
              "<table border=\"1\" class=\"dataframe\">\n",
              "  <thead>\n",
              "    <tr style=\"text-align: right;\">\n",
              "      <th></th>\n",
              "      <th>models</th>\n",
              "      <th>mae</th>\n",
              "      <th>mape</th>\n",
              "      <th>mse</th>\n",
              "      <th>rmse</th>\n",
              "    </tr>\n",
              "  </thead>\n",
              "  <tbody>\n",
              "    <tr>\n",
              "      <th>0</th>\n",
              "      <td>Naive</td>\n",
              "      <td>0.005769</td>\n",
              "      <td>6.731002e+05</td>\n",
              "      <td>0.000092</td>\n",
              "      <td>0.009608</td>\n",
              "    </tr>\n",
              "    <tr>\n",
              "      <th>1</th>\n",
              "      <td>Random Forest</td>\n",
              "      <td>0.013312</td>\n",
              "      <td>1.272589e+13</td>\n",
              "      <td>0.000281</td>\n",
              "      <td>0.016776</td>\n",
              "    </tr>\n",
              "    <tr>\n",
              "      <th>2</th>\n",
              "      <td>Random Forest Randomized Search</td>\n",
              "      <td>0.015331</td>\n",
              "      <td>8.694699e+12</td>\n",
              "      <td>0.000470</td>\n",
              "      <td>0.021679</td>\n",
              "    </tr>\n",
              "    <tr>\n",
              "      <th>3</th>\n",
              "      <td>KNeighboursRegressor</td>\n",
              "      <td>0.101333</td>\n",
              "      <td>1.086869e+14</td>\n",
              "      <td>0.032103</td>\n",
              "      <td>0.179172</td>\n",
              "    </tr>\n",
              "    <tr>\n",
              "      <th>4</th>\n",
              "      <td>KNeighboursRegressor Randomized Search</td>\n",
              "      <td>0.092571</td>\n",
              "      <td>1.003659e+14</td>\n",
              "      <td>0.032438</td>\n",
              "      <td>0.180106</td>\n",
              "    </tr>\n",
              "    <tr>\n",
              "      <th>5</th>\n",
              "      <td>Support Vector Regression</td>\n",
              "      <td>0.076839</td>\n",
              "      <td>1.129977e+14</td>\n",
              "      <td>0.006786</td>\n",
              "      <td>0.082377</td>\n",
              "    </tr>\n",
              "    <tr>\n",
              "      <th>6</th>\n",
              "      <td>Support Vector Regression Randomized Search</td>\n",
              "      <td>0.337034</td>\n",
              "      <td>4.049858e+14</td>\n",
              "      <td>0.123602</td>\n",
              "      <td>0.351571</td>\n",
              "    </tr>\n",
              "    <tr>\n",
              "      <th>7</th>\n",
              "      <td>VotingRegressor</td>\n",
              "      <td>0.059700</td>\n",
              "      <td>7.582855e+13</td>\n",
              "      <td>0.006482</td>\n",
              "      <td>0.080510</td>\n",
              "    </tr>\n",
              "  </tbody>\n",
              "</table>\n",
              "</div>\n",
              "      <button class=\"colab-df-convert\" onclick=\"convertToInteractive('df-79b0d151-f8e1-4250-8a30-667e133922f5')\"\n",
              "              title=\"Convert this dataframe to an interactive table.\"\n",
              "              style=\"display:none;\">\n",
              "        \n",
              "  <svg xmlns=\"http://www.w3.org/2000/svg\" height=\"24px\"viewBox=\"0 0 24 24\"\n",
              "       width=\"24px\">\n",
              "    <path d=\"M0 0h24v24H0V0z\" fill=\"none\"/>\n",
              "    <path d=\"M18.56 5.44l.94 2.06.94-2.06 2.06-.94-2.06-.94-.94-2.06-.94 2.06-2.06.94zm-11 1L8.5 8.5l.94-2.06 2.06-.94-2.06-.94L8.5 2.5l-.94 2.06-2.06.94zm10 10l.94 2.06.94-2.06 2.06-.94-2.06-.94-.94-2.06-.94 2.06-2.06.94z\"/><path d=\"M17.41 7.96l-1.37-1.37c-.4-.4-.92-.59-1.43-.59-.52 0-1.04.2-1.43.59L10.3 9.45l-7.72 7.72c-.78.78-.78 2.05 0 2.83L4 21.41c.39.39.9.59 1.41.59.51 0 1.02-.2 1.41-.59l7.78-7.78 2.81-2.81c.8-.78.8-2.07 0-2.86zM5.41 20L4 18.59l7.72-7.72 1.47 1.35L5.41 20z\"/>\n",
              "  </svg>\n",
              "      </button>\n",
              "      \n",
              "  <style>\n",
              "    .colab-df-container {\n",
              "      display:flex;\n",
              "      flex-wrap:wrap;\n",
              "      gap: 12px;\n",
              "    }\n",
              "\n",
              "    .colab-df-convert {\n",
              "      background-color: #E8F0FE;\n",
              "      border: none;\n",
              "      border-radius: 50%;\n",
              "      cursor: pointer;\n",
              "      display: none;\n",
              "      fill: #1967D2;\n",
              "      height: 32px;\n",
              "      padding: 0 0 0 0;\n",
              "      width: 32px;\n",
              "    }\n",
              "\n",
              "    .colab-df-convert:hover {\n",
              "      background-color: #E2EBFA;\n",
              "      box-shadow: 0px 1px 2px rgba(60, 64, 67, 0.3), 0px 1px 3px 1px rgba(60, 64, 67, 0.15);\n",
              "      fill: #174EA6;\n",
              "    }\n",
              "\n",
              "    [theme=dark] .colab-df-convert {\n",
              "      background-color: #3B4455;\n",
              "      fill: #D2E3FC;\n",
              "    }\n",
              "\n",
              "    [theme=dark] .colab-df-convert:hover {\n",
              "      background-color: #434B5C;\n",
              "      box-shadow: 0px 1px 3px 1px rgba(0, 0, 0, 0.15);\n",
              "      filter: drop-shadow(0px 1px 2px rgba(0, 0, 0, 0.3));\n",
              "      fill: #FFFFFF;\n",
              "    }\n",
              "  </style>\n",
              "\n",
              "      <script>\n",
              "        const buttonEl =\n",
              "          document.querySelector('#df-79b0d151-f8e1-4250-8a30-667e133922f5 button.colab-df-convert');\n",
              "        buttonEl.style.display =\n",
              "          google.colab.kernel.accessAllowed ? 'block' : 'none';\n",
              "\n",
              "        async function convertToInteractive(key) {\n",
              "          const element = document.querySelector('#df-79b0d151-f8e1-4250-8a30-667e133922f5');\n",
              "          const dataTable =\n",
              "            await google.colab.kernel.invokeFunction('convertToInteractive',\n",
              "                                                     [key], {});\n",
              "          if (!dataTable) return;\n",
              "\n",
              "          const docLinkHtml = 'Like what you see? Visit the ' +\n",
              "            '<a target=\"_blank\" href=https://colab.research.google.com/notebooks/data_table.ipynb>data table notebook</a>'\n",
              "            + ' to learn more about interactive tables.';\n",
              "          element.innerHTML = '';\n",
              "          dataTable['output_type'] = 'display_data';\n",
              "          await google.colab.output.renderOutput(dataTable, element);\n",
              "          const docLink = document.createElement('div');\n",
              "          docLink.innerHTML = docLinkHtml;\n",
              "          element.appendChild(docLink);\n",
              "        }\n",
              "      </script>\n",
              "    </div>\n",
              "  </div>\n",
              "  "
            ]
          },
          "metadata": {},
          "execution_count": 158
        }
      ]
    },
    {
      "cell_type": "markdown",
      "source": [
        "#### GradientTreeBoosting Regressor"
      ],
      "metadata": {
        "id": "gWyQsnRkxKCG"
      }
    },
    {
      "cell_type": "code",
      "source": [
        "from sklearn.ensemble import GradientBoostingRegressor\n",
        "from sklearn.ensemble import StackingRegressor"
      ],
      "metadata": {
        "id": "Uoi3CXxtxfKC"
      },
      "execution_count": 47,
      "outputs": []
    },
    {
      "cell_type": "code",
      "source": [
        "np.random.seed(42)\n",
        "gbr_model = GradientBoostingRegressor()\n",
        "\n",
        "gbr_model.fit(X_train, y_train)"
      ],
      "metadata": {
        "id": "4ImrZjcHzgYV",
        "colab": {
          "base_uri": "https://localhost:8080/"
        },
        "outputId": "4ec8aac6-18e8-4ba9-ba81-7b3084cbf902"
      },
      "execution_count": 48,
      "outputs": [
        {
          "output_type": "execute_result",
          "data": {
            "text/plain": [
              "GradientBoostingRegressor()"
            ]
          },
          "metadata": {},
          "execution_count": 48
        }
      ]
    },
    {
      "cell_type": "code",
      "source": [
        "gbr_scores = show_scores_sklearn(gbr_model)\n",
        "gbr_scores"
      ],
      "metadata": {
        "id": "bwqZjpwVzzs4",
        "colab": {
          "base_uri": "https://localhost:8080/"
        },
        "outputId": "6bdb5ef0-45e5-4c13-c840-3c4140218282"
      },
      "execution_count": 49,
      "outputs": [
        {
          "output_type": "stream",
          "name": "stderr",
          "text": [
            "/usr/local/lib/python3.7/dist-packages/sklearn/base.py:444: UserWarning: X has feature names, but GradientBoostingRegressor was fitted without feature names\n",
            "  f\"X has feature names, but {self.__class__.__name__} was fitted without\"\n"
          ]
        },
        {
          "output_type": "execute_result",
          "data": {
            "text/plain": [
              "{'mae': 0.006231222306610101,\n",
              " 'mape': 8402950589098.503,\n",
              " 'mse': 0.0003677404460778879,\n",
              " 'rmse': 0.019176559808210855,\n",
              " 'train_mae': 0.007239244887220384,\n",
              " 'train_mape': 6332659129550.225,\n",
              " 'train_mse': 0.00027699002576313,\n",
              " 'train_rmse': 0.016643017327489927}"
            ]
          },
          "metadata": {},
          "execution_count": 49
        }
      ]
    },
    {
      "cell_type": "code",
      "source": [
        "models.append('GradientTreeBoosting Regressor')\n",
        "\n",
        "mae.append(gbr_scores['mae'])\n",
        "mape.append(gbr_scores['mape'])\n",
        "mse.append(gbr_scores['mse']) \n",
        "rmse.append(gbr_scores['rmse'])\n",
        "\n",
        "scores = pd.DataFrame(\n",
        "    data={\n",
        "        'models': models,\n",
        "        'mae': mae,\n",
        "        'mape': mape,\n",
        "        'mse': mse,\n",
        "        'rmse': rmse,\n",
        "    }    \n",
        ")\n",
        "\n",
        "scores"
      ],
      "metadata": {
        "id": "GRfQqQOAz5kf",
        "colab": {
          "base_uri": "https://localhost:8080/",
          "height": 175
        },
        "outputId": "1d54b2f4-0cc0-451b-d7ee-73aab4e37e0c"
      },
      "execution_count": 50,
      "outputs": [
        {
          "output_type": "execute_result",
          "data": {
            "text/plain": [
              "                            models       mae          mape       mse      rmse\n",
              "0                            Naive  0.005473  4.955045e+05  0.000339  0.018411\n",
              "1                    Random Forest  0.006618  1.006276e+13  0.000337  0.018364\n",
              "2  Random Forest Randomized Search  0.009628  1.312199e+13  0.000726  0.026942\n",
              "3   GradientTreeBoosting Regressor  0.006231  8.402951e+12  0.000368  0.019177"
            ],
            "text/html": [
              "\n",
              "  <div id=\"df-59536ffd-0023-4c11-8f9c-3911457de0f6\">\n",
              "    <div class=\"colab-df-container\">\n",
              "      <div>\n",
              "<style scoped>\n",
              "    .dataframe tbody tr th:only-of-type {\n",
              "        vertical-align: middle;\n",
              "    }\n",
              "\n",
              "    .dataframe tbody tr th {\n",
              "        vertical-align: top;\n",
              "    }\n",
              "\n",
              "    .dataframe thead th {\n",
              "        text-align: right;\n",
              "    }\n",
              "</style>\n",
              "<table border=\"1\" class=\"dataframe\">\n",
              "  <thead>\n",
              "    <tr style=\"text-align: right;\">\n",
              "      <th></th>\n",
              "      <th>models</th>\n",
              "      <th>mae</th>\n",
              "      <th>mape</th>\n",
              "      <th>mse</th>\n",
              "      <th>rmse</th>\n",
              "    </tr>\n",
              "  </thead>\n",
              "  <tbody>\n",
              "    <tr>\n",
              "      <th>0</th>\n",
              "      <td>Naive</td>\n",
              "      <td>0.005473</td>\n",
              "      <td>4.955045e+05</td>\n",
              "      <td>0.000339</td>\n",
              "      <td>0.018411</td>\n",
              "    </tr>\n",
              "    <tr>\n",
              "      <th>1</th>\n",
              "      <td>Random Forest</td>\n",
              "      <td>0.006618</td>\n",
              "      <td>1.006276e+13</td>\n",
              "      <td>0.000337</td>\n",
              "      <td>0.018364</td>\n",
              "    </tr>\n",
              "    <tr>\n",
              "      <th>2</th>\n",
              "      <td>Random Forest Randomized Search</td>\n",
              "      <td>0.009628</td>\n",
              "      <td>1.312199e+13</td>\n",
              "      <td>0.000726</td>\n",
              "      <td>0.026942</td>\n",
              "    </tr>\n",
              "    <tr>\n",
              "      <th>3</th>\n",
              "      <td>GradientTreeBoosting Regressor</td>\n",
              "      <td>0.006231</td>\n",
              "      <td>8.402951e+12</td>\n",
              "      <td>0.000368</td>\n",
              "      <td>0.019177</td>\n",
              "    </tr>\n",
              "  </tbody>\n",
              "</table>\n",
              "</div>\n",
              "      <button class=\"colab-df-convert\" onclick=\"convertToInteractive('df-59536ffd-0023-4c11-8f9c-3911457de0f6')\"\n",
              "              title=\"Convert this dataframe to an interactive table.\"\n",
              "              style=\"display:none;\">\n",
              "        \n",
              "  <svg xmlns=\"http://www.w3.org/2000/svg\" height=\"24px\"viewBox=\"0 0 24 24\"\n",
              "       width=\"24px\">\n",
              "    <path d=\"M0 0h24v24H0V0z\" fill=\"none\"/>\n",
              "    <path d=\"M18.56 5.44l.94 2.06.94-2.06 2.06-.94-2.06-.94-.94-2.06-.94 2.06-2.06.94zm-11 1L8.5 8.5l.94-2.06 2.06-.94-2.06-.94L8.5 2.5l-.94 2.06-2.06.94zm10 10l.94 2.06.94-2.06 2.06-.94-2.06-.94-.94-2.06-.94 2.06-2.06.94z\"/><path d=\"M17.41 7.96l-1.37-1.37c-.4-.4-.92-.59-1.43-.59-.52 0-1.04.2-1.43.59L10.3 9.45l-7.72 7.72c-.78.78-.78 2.05 0 2.83L4 21.41c.39.39.9.59 1.41.59.51 0 1.02-.2 1.41-.59l7.78-7.78 2.81-2.81c.8-.78.8-2.07 0-2.86zM5.41 20L4 18.59l7.72-7.72 1.47 1.35L5.41 20z\"/>\n",
              "  </svg>\n",
              "      </button>\n",
              "      \n",
              "  <style>\n",
              "    .colab-df-container {\n",
              "      display:flex;\n",
              "      flex-wrap:wrap;\n",
              "      gap: 12px;\n",
              "    }\n",
              "\n",
              "    .colab-df-convert {\n",
              "      background-color: #E8F0FE;\n",
              "      border: none;\n",
              "      border-radius: 50%;\n",
              "      cursor: pointer;\n",
              "      display: none;\n",
              "      fill: #1967D2;\n",
              "      height: 32px;\n",
              "      padding: 0 0 0 0;\n",
              "      width: 32px;\n",
              "    }\n",
              "\n",
              "    .colab-df-convert:hover {\n",
              "      background-color: #E2EBFA;\n",
              "      box-shadow: 0px 1px 2px rgba(60, 64, 67, 0.3), 0px 1px 3px 1px rgba(60, 64, 67, 0.15);\n",
              "      fill: #174EA6;\n",
              "    }\n",
              "\n",
              "    [theme=dark] .colab-df-convert {\n",
              "      background-color: #3B4455;\n",
              "      fill: #D2E3FC;\n",
              "    }\n",
              "\n",
              "    [theme=dark] .colab-df-convert:hover {\n",
              "      background-color: #434B5C;\n",
              "      box-shadow: 0px 1px 3px 1px rgba(0, 0, 0, 0.15);\n",
              "      filter: drop-shadow(0px 1px 2px rgba(0, 0, 0, 0.3));\n",
              "      fill: #FFFFFF;\n",
              "    }\n",
              "  </style>\n",
              "\n",
              "      <script>\n",
              "        const buttonEl =\n",
              "          document.querySelector('#df-59536ffd-0023-4c11-8f9c-3911457de0f6 button.colab-df-convert');\n",
              "        buttonEl.style.display =\n",
              "          google.colab.kernel.accessAllowed ? 'block' : 'none';\n",
              "\n",
              "        async function convertToInteractive(key) {\n",
              "          const element = document.querySelector('#df-59536ffd-0023-4c11-8f9c-3911457de0f6');\n",
              "          const dataTable =\n",
              "            await google.colab.kernel.invokeFunction('convertToInteractive',\n",
              "                                                     [key], {});\n",
              "          if (!dataTable) return;\n",
              "\n",
              "          const docLinkHtml = 'Like what you see? Visit the ' +\n",
              "            '<a target=\"_blank\" href=https://colab.research.google.com/notebooks/data_table.ipynb>data table notebook</a>'\n",
              "            + ' to learn more about interactive tables.';\n",
              "          element.innerHTML = '';\n",
              "          dataTable['output_type'] = 'display_data';\n",
              "          await google.colab.output.renderOutput(dataTable, element);\n",
              "          const docLink = document.createElement('div');\n",
              "          docLink.innerHTML = docLinkHtml;\n",
              "          element.appendChild(docLink);\n",
              "        }\n",
              "      </script>\n",
              "    </div>\n",
              "  </div>\n",
              "  "
            ]
          },
          "metadata": {},
          "execution_count": 50
        }
      ]
    },
    {
      "cell_type": "code",
      "source": [
        "np.random.seed(42)\n",
        "rf_gbr_params = {\n",
        "    'loss' : ['squared_error', 'absolute_error', 'huber', 'quantile'],\n",
        "    'n_estimators': [100, 200, 400, 800, 1000, 1600],\n",
        "    'criterion': ['friedman_mse', 'squared_error', 'absolute_error'],\n",
        "    'max_features': ['auto', 'sqrt', 'log2'],\n",
        "    'max_depth': [1, 3, 5, 10, 20, 50],\n",
        "    'min_samples_leaf': [1, 5, 10, 20],\n",
        "    'learning_rate': [0.1, 0.001, 0.005, 0.0001]\n",
        "}\n",
        "\n",
        "rs_gbr_model = RandomizedSearchCV(\n",
        "    GradientBoostingRegressor(),\n",
        "    param_distributions=rf_gbr_params,\n",
        "    n_iter=5,\n",
        "    cv=5,\n",
        "    verbose=True\n",
        ")\n",
        "\n",
        "#Fit the randomized search cv model\n",
        "rs_gbr_model.fit(X_train, y_train)"
      ],
      "metadata": {
        "id": "hLuqkhXY0Fxp",
        "colab": {
          "base_uri": "https://localhost:8080/"
        },
        "outputId": "3c310e90-be3d-4b9a-8bd7-1bfe1848a9d5"
      },
      "execution_count": 51,
      "outputs": [
        {
          "output_type": "stream",
          "name": "stdout",
          "text": [
            "Fitting 5 folds for each of 5 candidates, totalling 25 fits\n"
          ]
        },
        {
          "output_type": "stream",
          "name": "stderr",
          "text": [
            "/usr/local/lib/python3.7/dist-packages/sklearn/ensemble/_gb.py:1859: FutureWarning: criterion='mae' was deprecated in version 0.24 and will be removed in version 1.1 (renaming of 0.26). The correct way of minimizing the absolute error is to use  loss='absolute_error' instead.\n",
            "  FutureWarning,\n",
            "/usr/local/lib/python3.7/dist-packages/sklearn/ensemble/_gb.py:1859: FutureWarning: criterion='mae' was deprecated in version 0.24 and will be removed in version 1.1 (renaming of 0.26). The correct way of minimizing the absolute error is to use  loss='absolute_error' instead.\n",
            "  FutureWarning,\n",
            "/usr/local/lib/python3.7/dist-packages/sklearn/ensemble/_gb.py:1859: FutureWarning: criterion='mae' was deprecated in version 0.24 and will be removed in version 1.1 (renaming of 0.26). The correct way of minimizing the absolute error is to use  loss='absolute_error' instead.\n",
            "  FutureWarning,\n",
            "/usr/local/lib/python3.7/dist-packages/sklearn/ensemble/_gb.py:1859: FutureWarning: criterion='mae' was deprecated in version 0.24 and will be removed in version 1.1 (renaming of 0.26). The correct way of minimizing the absolute error is to use  loss='absolute_error' instead.\n",
            "  FutureWarning,\n",
            "/usr/local/lib/python3.7/dist-packages/sklearn/ensemble/_gb.py:1859: FutureWarning: criterion='mae' was deprecated in version 0.24 and will be removed in version 1.1 (renaming of 0.26). The correct way of minimizing the absolute error is to use  loss='absolute_error' instead.\n",
            "  FutureWarning,\n"
          ]
        },
        {
          "output_type": "execute_result",
          "data": {
            "text/plain": [
              "RandomizedSearchCV(cv=5, estimator=GradientBoostingRegressor(), n_iter=5,\n",
              "                   param_distributions={'criterion': ['friedman_mse',\n",
              "                                                      'squared_error',\n",
              "                                                      'absolute_error'],\n",
              "                                        'learning_rate': [0.1, 0.001, 0.005,\n",
              "                                                          0.0001],\n",
              "                                        'loss': ['squared_error',\n",
              "                                                 'absolute_error', 'huber',\n",
              "                                                 'quantile'],\n",
              "                                        'max_depth': [1, 3, 5, 10, 20, 50],\n",
              "                                        'max_features': ['auto', 'sqrt',\n",
              "                                                         'log2'],\n",
              "                                        'min_samples_leaf': [1, 5, 10, 20],\n",
              "                                        'n_estimators': [100, 200, 400, 800,\n",
              "                                                         1000, 1600]},\n",
              "                   verbose=True)"
            ]
          },
          "metadata": {},
          "execution_count": 51
        }
      ]
    },
    {
      "cell_type": "code",
      "source": [
        "rs_gbr_scores = show_scores_sklearn(rs_gbr_model)\n",
        "rs_gbr_scores"
      ],
      "metadata": {
        "id": "ehNDJGJI1P8j",
        "colab": {
          "base_uri": "https://localhost:8080/"
        },
        "outputId": "04df11b3-4d48-4092-c272-4f3fa8aa8187"
      },
      "execution_count": 52,
      "outputs": [
        {
          "output_type": "stream",
          "name": "stderr",
          "text": [
            "/usr/local/lib/python3.7/dist-packages/sklearn/base.py:444: UserWarning: X has feature names, but GradientBoostingRegressor was fitted without feature names\n",
            "  f\"X has feature names, but {self.__class__.__name__} was fitted without\"\n"
          ]
        },
        {
          "output_type": "execute_result",
          "data": {
            "text/plain": [
              "{'mae': 0.006417101213314074,\n",
              " 'mape': 4164372610038.176,\n",
              " 'mse': 0.00046632048739566836,\n",
              " 'rmse': 0.02159445501501875,\n",
              " 'train_mae': 0.007188692693463149,\n",
              " 'train_mape': 1573861355780.9097,\n",
              " 'train_mse': 0.0009925293549766028,\n",
              " 'train_rmse': 0.031504433893923614}"
            ]
          },
          "metadata": {},
          "execution_count": 52
        }
      ]
    },
    {
      "cell_type": "code",
      "source": [
        "models.append('GradientTreeBoosting Regressor Randomized Search')\n",
        "\n",
        "mae.append(rs_gbr_scores['mae'])\n",
        "mape.append(rs_gbr_scores['mape'])\n",
        "mse.append(rs_gbr_scores['mse']) \n",
        "rmse.append(rs_gbr_scores['rmse'])\n",
        "\n",
        "scores = pd.DataFrame(\n",
        "    data={\n",
        "        'models': models,\n",
        "        'mae': mae,\n",
        "        'mape': mape,\n",
        "        'mse': mse,\n",
        "        'rmse': rmse,\n",
        "    }    \n",
        ")\n",
        "\n",
        "scores"
      ],
      "metadata": {
        "id": "Zcoe3BXm1oXt",
        "colab": {
          "base_uri": "https://localhost:8080/",
          "height": 206
        },
        "outputId": "a8d8fa73-c590-41b4-efa2-90e3d3578aed"
      },
      "execution_count": 53,
      "outputs": [
        {
          "output_type": "execute_result",
          "data": {
            "text/plain": [
              "                                             models       mae          mape  \\\n",
              "0                                             Naive  0.005473  4.955045e+05   \n",
              "1                                     Random Forest  0.006618  1.006276e+13   \n",
              "2                   Random Forest Randomized Search  0.009628  1.312199e+13   \n",
              "3                    GradientTreeBoosting Regressor  0.006231  8.402951e+12   \n",
              "4  GradientTreeBoosting Regressor Randomized Search  0.006417  4.164373e+12   \n",
              "\n",
              "        mse      rmse  \n",
              "0  0.000339  0.018411  \n",
              "1  0.000337  0.018364  \n",
              "2  0.000726  0.026942  \n",
              "3  0.000368  0.019177  \n",
              "4  0.000466  0.021594  "
            ],
            "text/html": [
              "\n",
              "  <div id=\"df-3b91b1ae-7424-4805-91d2-8c1bcc7abca3\">\n",
              "    <div class=\"colab-df-container\">\n",
              "      <div>\n",
              "<style scoped>\n",
              "    .dataframe tbody tr th:only-of-type {\n",
              "        vertical-align: middle;\n",
              "    }\n",
              "\n",
              "    .dataframe tbody tr th {\n",
              "        vertical-align: top;\n",
              "    }\n",
              "\n",
              "    .dataframe thead th {\n",
              "        text-align: right;\n",
              "    }\n",
              "</style>\n",
              "<table border=\"1\" class=\"dataframe\">\n",
              "  <thead>\n",
              "    <tr style=\"text-align: right;\">\n",
              "      <th></th>\n",
              "      <th>models</th>\n",
              "      <th>mae</th>\n",
              "      <th>mape</th>\n",
              "      <th>mse</th>\n",
              "      <th>rmse</th>\n",
              "    </tr>\n",
              "  </thead>\n",
              "  <tbody>\n",
              "    <tr>\n",
              "      <th>0</th>\n",
              "      <td>Naive</td>\n",
              "      <td>0.005473</td>\n",
              "      <td>4.955045e+05</td>\n",
              "      <td>0.000339</td>\n",
              "      <td>0.018411</td>\n",
              "    </tr>\n",
              "    <tr>\n",
              "      <th>1</th>\n",
              "      <td>Random Forest</td>\n",
              "      <td>0.006618</td>\n",
              "      <td>1.006276e+13</td>\n",
              "      <td>0.000337</td>\n",
              "      <td>0.018364</td>\n",
              "    </tr>\n",
              "    <tr>\n",
              "      <th>2</th>\n",
              "      <td>Random Forest Randomized Search</td>\n",
              "      <td>0.009628</td>\n",
              "      <td>1.312199e+13</td>\n",
              "      <td>0.000726</td>\n",
              "      <td>0.026942</td>\n",
              "    </tr>\n",
              "    <tr>\n",
              "      <th>3</th>\n",
              "      <td>GradientTreeBoosting Regressor</td>\n",
              "      <td>0.006231</td>\n",
              "      <td>8.402951e+12</td>\n",
              "      <td>0.000368</td>\n",
              "      <td>0.019177</td>\n",
              "    </tr>\n",
              "    <tr>\n",
              "      <th>4</th>\n",
              "      <td>GradientTreeBoosting Regressor Randomized Search</td>\n",
              "      <td>0.006417</td>\n",
              "      <td>4.164373e+12</td>\n",
              "      <td>0.000466</td>\n",
              "      <td>0.021594</td>\n",
              "    </tr>\n",
              "  </tbody>\n",
              "</table>\n",
              "</div>\n",
              "      <button class=\"colab-df-convert\" onclick=\"convertToInteractive('df-3b91b1ae-7424-4805-91d2-8c1bcc7abca3')\"\n",
              "              title=\"Convert this dataframe to an interactive table.\"\n",
              "              style=\"display:none;\">\n",
              "        \n",
              "  <svg xmlns=\"http://www.w3.org/2000/svg\" height=\"24px\"viewBox=\"0 0 24 24\"\n",
              "       width=\"24px\">\n",
              "    <path d=\"M0 0h24v24H0V0z\" fill=\"none\"/>\n",
              "    <path d=\"M18.56 5.44l.94 2.06.94-2.06 2.06-.94-2.06-.94-.94-2.06-.94 2.06-2.06.94zm-11 1L8.5 8.5l.94-2.06 2.06-.94-2.06-.94L8.5 2.5l-.94 2.06-2.06.94zm10 10l.94 2.06.94-2.06 2.06-.94-2.06-.94-.94-2.06-.94 2.06-2.06.94z\"/><path d=\"M17.41 7.96l-1.37-1.37c-.4-.4-.92-.59-1.43-.59-.52 0-1.04.2-1.43.59L10.3 9.45l-7.72 7.72c-.78.78-.78 2.05 0 2.83L4 21.41c.39.39.9.59 1.41.59.51 0 1.02-.2 1.41-.59l7.78-7.78 2.81-2.81c.8-.78.8-2.07 0-2.86zM5.41 20L4 18.59l7.72-7.72 1.47 1.35L5.41 20z\"/>\n",
              "  </svg>\n",
              "      </button>\n",
              "      \n",
              "  <style>\n",
              "    .colab-df-container {\n",
              "      display:flex;\n",
              "      flex-wrap:wrap;\n",
              "      gap: 12px;\n",
              "    }\n",
              "\n",
              "    .colab-df-convert {\n",
              "      background-color: #E8F0FE;\n",
              "      border: none;\n",
              "      border-radius: 50%;\n",
              "      cursor: pointer;\n",
              "      display: none;\n",
              "      fill: #1967D2;\n",
              "      height: 32px;\n",
              "      padding: 0 0 0 0;\n",
              "      width: 32px;\n",
              "    }\n",
              "\n",
              "    .colab-df-convert:hover {\n",
              "      background-color: #E2EBFA;\n",
              "      box-shadow: 0px 1px 2px rgba(60, 64, 67, 0.3), 0px 1px 3px 1px rgba(60, 64, 67, 0.15);\n",
              "      fill: #174EA6;\n",
              "    }\n",
              "\n",
              "    [theme=dark] .colab-df-convert {\n",
              "      background-color: #3B4455;\n",
              "      fill: #D2E3FC;\n",
              "    }\n",
              "\n",
              "    [theme=dark] .colab-df-convert:hover {\n",
              "      background-color: #434B5C;\n",
              "      box-shadow: 0px 1px 3px 1px rgba(0, 0, 0, 0.15);\n",
              "      filter: drop-shadow(0px 1px 2px rgba(0, 0, 0, 0.3));\n",
              "      fill: #FFFFFF;\n",
              "    }\n",
              "  </style>\n",
              "\n",
              "      <script>\n",
              "        const buttonEl =\n",
              "          document.querySelector('#df-3b91b1ae-7424-4805-91d2-8c1bcc7abca3 button.colab-df-convert');\n",
              "        buttonEl.style.display =\n",
              "          google.colab.kernel.accessAllowed ? 'block' : 'none';\n",
              "\n",
              "        async function convertToInteractive(key) {\n",
              "          const element = document.querySelector('#df-3b91b1ae-7424-4805-91d2-8c1bcc7abca3');\n",
              "          const dataTable =\n",
              "            await google.colab.kernel.invokeFunction('convertToInteractive',\n",
              "                                                     [key], {});\n",
              "          if (!dataTable) return;\n",
              "\n",
              "          const docLinkHtml = 'Like what you see? Visit the ' +\n",
              "            '<a target=\"_blank\" href=https://colab.research.google.com/notebooks/data_table.ipynb>data table notebook</a>'\n",
              "            + ' to learn more about interactive tables.';\n",
              "          element.innerHTML = '';\n",
              "          dataTable['output_type'] = 'display_data';\n",
              "          await google.colab.output.renderOutput(dataTable, element);\n",
              "          const docLink = document.createElement('div');\n",
              "          docLink.innerHTML = docLinkHtml;\n",
              "          element.appendChild(docLink);\n",
              "        }\n",
              "      </script>\n",
              "    </div>\n",
              "  </div>\n",
              "  "
            ]
          },
          "metadata": {},
          "execution_count": 53
        }
      ]
    },
    {
      "cell_type": "markdown",
      "source": [
        "### Plotting best model evaluations"
      ],
      "metadata": {
        "id": "pANNgLrORnOS"
      }
    },
    {
      "cell_type": "code",
      "source": [
        "# Plot forecasts\n",
        "rs_forecast = model.predict(X_test)\n",
        "rs_ideal_forecast = rs_model.predict(X_test)\n",
        "# k_forecast = k_model.predict(X_test)\n",
        "# rs_k_forecast = rs_k_model.predict(X_test)\n",
        "# svr_forecast = svr_model.predict(X_test)\n",
        "# rs_svr_forecast = rs_svr_model.predict(X_test) \n",
        "# vr_forecast = vr_model.predict(X_test)\n",
        "gbr_forecast = gbr_model.predict(X_test)\n",
        "rs_gbr_forecast = rs_gbr_model.predict(X_test)"
      ],
      "metadata": {
        "colab": {
          "base_uri": "https://localhost:8080/"
        },
        "id": "SPyZblZPT9md",
        "outputId": "7b904f50-9b0c-44f5-bf79-49e84d0a3a2f"
      },
      "execution_count": 54,
      "outputs": [
        {
          "output_type": "stream",
          "name": "stderr",
          "text": [
            "/usr/local/lib/python3.7/dist-packages/sklearn/base.py:444: UserWarning: X has feature names, but RandomForestRegressor was fitted without feature names\n",
            "  f\"X has feature names, but {self.__class__.__name__} was fitted without\"\n",
            "/usr/local/lib/python3.7/dist-packages/sklearn/base.py:444: UserWarning: X has feature names, but RandomForestRegressor was fitted without feature names\n",
            "  f\"X has feature names, but {self.__class__.__name__} was fitted without\"\n",
            "/usr/local/lib/python3.7/dist-packages/sklearn/base.py:444: UserWarning: X has feature names, but GradientBoostingRegressor was fitted without feature names\n",
            "  f\"X has feature names, but {self.__class__.__name__} was fitted without\"\n",
            "/usr/local/lib/python3.7/dist-packages/sklearn/base.py:444: UserWarning: X has feature names, but GradientBoostingRegressor was fitted without feature names\n",
            "  f\"X has feature names, but {self.__class__.__name__} was fitted without\"\n"
          ]
        }
      ]
    },
    {
      "cell_type": "code",
      "source": [
        "plt.figure(figsize=(18, 7))\n",
        "offset = 10 # offset the values by 300 timesteps \n",
        "plot_time_series(timesteps=X_time_test,  values=y_test, label=\"Test data\")\n",
        "plot_time_series(timesteps=X_time_test[1:], values=naive_forecast, format=\"-\",  label=\"Naive forecast\")\n",
        "plot_time_series(timesteps=X_time_test, start=offset, values=rs_forecast, label='RandomForest forecast')\n",
        "plot_time_series(timesteps=X_time_test,  values=rs_ideal_forecast, label='Randomized Search RandomForest forecast')\n",
        "# plot_time_series(timesteps=X_time_test, start=offset, values=k_forecast, label='KNR forecast')\n",
        "# plot_time_series(timesteps=X_time_test, start=offset, values=rs_k_forecast, label='Ideal KNR forecast')\n",
        "# plot_time_series(timesteps=X_time_test, start=offset, values=svr_forecast, label='SVR forecast')\n",
        "# plot_time_series(timesteps=X_time_test, start=offset, values=rs_svr_forecast, label='Ideal SVR forecast')\n",
        "# plot_time_series(timesteps=X_time_test, start=offset, values=vr_forecast, label='VotingRegressor forecast')\n",
        "plot_time_series(timesteps=X_time_test, start=offset, values=gbr_forecast, label='GradientTree forecast')\n",
        "plot_time_series(timesteps=X_time_test, values=rs_gbr_forecast, label='Randomized Search GradientTree forecast')\n",
        "plt.title('Model Predictions for Makati', fontsize=18, fontweight='bold')\n",
        "\n",
        "plt.show();"
      ],
      "metadata": {
        "colab": {
          "base_uri": "https://localhost:8080/",
          "height": 462
        },
        "id": "voq3SajUW68E",
        "outputId": "eef906fb-1bc3-4569-ed43-ef91ad400f29"
      },
      "execution_count": 55,
      "outputs": [
        {
          "output_type": "display_data",
          "data": {
            "text/plain": [
              "<Figure size 1296x504 with 1 Axes>"
            ],
            "image/png": "[encoded data removed]"
          },
          "metadata": {
            "needs_background": "light"
          }
        }
      ]
    },
    {
      "cell_type": "markdown",
      "source": [
        " ### Feature importance"
      ],
      "metadata": {
        "id": "tB_TlVhgf3Qa"
      }
    },
    {
      "cell_type": "code",
      "source": [
        "rs_gbr_model.best_params_"
      ],
      "metadata": {
        "colab": {
          "base_uri": "https://localhost:8080/"
        },
        "id": "I4MtLukZhhfw",
        "outputId": "3bb20a32-6537-481c-e3bc-f2a807cd5c59"
      },
      "execution_count": 56,
      "outputs": [
        {
          "output_type": "execute_result",
          "data": {
            "text/plain": [
              "{'criterion': 'friedman_mse',\n",
              " 'learning_rate': 0.1,\n",
              " 'loss': 'absolute_error',\n",
              " 'max_depth': 50,\n",
              " 'max_features': 'log2',\n",
              " 'min_samples_leaf': 20,\n",
              " 'n_estimators': 400}"
            ]
          },
          "metadata": {},
          "execution_count": 56
        }
      ]
    },
    {
      "cell_type": "code",
      "source": [
        "np.random.seed(42)\n",
        "best_gbr_model = GradientBoostingRegressor(\n",
        "    criterion='friedman_mse',\n",
        "    learning_rate=0.1,\n",
        "    loss='absolute_error',\n",
        "    max_depth=50,\n",
        "    max_features='auto',\n",
        "    min_samples_leaf=20,\n",
        "    n_estimators=1800,\n",
        ")\n",
        "\n",
        "best_gbr_model.fit(X_train, y_train)"
      ],
      "metadata": {
        "colab": {
          "base_uri": "https://localhost:8080/"
        },
        "id": "d1v2Mh7KhweY",
        "outputId": "d3090040-cd80-4373-f72f-2793ccf2ef3c"
      },
      "execution_count": 57,
      "outputs": [
        {
          "output_type": "execute_result",
          "data": {
            "text/plain": [
              "GradientBoostingRegressor(loss='absolute_error', max_depth=50,\n",
              "                          max_features='auto', min_samples_leaf=20,\n",
              "                          n_estimators=1800)"
            ]
          },
          "metadata": {},
          "execution_count": 57
        }
      ]
    },
    {
      "cell_type": "code",
      "source": [
        "best_gbr_scores = show_scores_sklearn(best_gbr_model)\n",
        "best_gbr_scores"
      ],
      "metadata": {
        "colab": {
          "base_uri": "https://localhost:8080/"
        },
        "id": "Zpe3xzZKiF18",
        "outputId": "8d9ac467-c65a-4596-9b3b-a9dd94159cb9"
      },
      "execution_count": 58,
      "outputs": [
        {
          "output_type": "stream",
          "name": "stderr",
          "text": [
            "/usr/local/lib/python3.7/dist-packages/sklearn/base.py:444: UserWarning: X has feature names, but GradientBoostingRegressor was fitted without feature names\n",
            "  f\"X has feature names, but {self.__class__.__name__} was fitted without\"\n"
          ]
        },
        {
          "output_type": "execute_result",
          "data": {
            "text/plain": [
              "{'mae': 0.005216220244589643,\n",
              " 'mape': 1871301620617.56,\n",
              " 'mse': 0.00033018526622466946,\n",
              " 'rmse': 0.01817100069409138,\n",
              " 'train_mae': 0.005149260359646775,\n",
              " 'train_mape': 536601772507.11163,\n",
              " 'train_mse': 0.0006907490186387493,\n",
              " 'train_rmse': 0.026282104532147903}"
            ]
          },
          "metadata": {},
          "execution_count": 58
        }
      ]
    },
    {
      "cell_type": "code",
      "source": [
        "models.append('GradientTreeBoosting Regressor Manually Tuned')\n",
        "\n",
        "mae.append(best_gbr_scores['mae'])\n",
        "mape.append(best_gbr_scores['mape'])\n",
        "mse.append(best_gbr_scores['mse']) \n",
        "rmse.append(best_gbr_scores['rmse'])\n",
        "\n",
        "scores = pd.DataFrame(\n",
        "    data={\n",
        "        'models': models,\n",
        "        'mae': mae,\n",
        "        'mape': mape,\n",
        "        'mse': mse,\n",
        "        'rmse': rmse,\n",
        "    }    \n",
        ")\n",
        "\n",
        "scores"
      ],
      "metadata": {
        "colab": {
          "base_uri": "https://localhost:8080/",
          "height": 237
        },
        "id": "_wqdH43xvys0",
        "outputId": "6ad0936e-0136-46a0-d924-f2fe88245c8f"
      },
      "execution_count": 59,
      "outputs": [
        {
          "output_type": "execute_result",
          "data": {
            "text/plain": [
              "                                             models       mae          mape  \\\n",
              "0                                             Naive  0.005473  4.955045e+05   \n",
              "1                                     Random Forest  0.006618  1.006276e+13   \n",
              "2                   Random Forest Randomized Search  0.009628  1.312199e+13   \n",
              "3                    GradientTreeBoosting Regressor  0.006231  8.402951e+12   \n",
              "4  GradientTreeBoosting Regressor Randomized Search  0.006417  4.164373e+12   \n",
              "5     GradientTreeBoosting Regressor Manually Tuned  0.005216  1.871302e+12   \n",
              "\n",
              "        mse      rmse  \n",
              "0  0.000339  0.018411  \n",
              "1  0.000337  0.018364  \n",
              "2  0.000726  0.026942  \n",
              "3  0.000368  0.019177  \n",
              "4  0.000466  0.021594  \n",
              "5  0.000330  0.018171  "
            ],
            "text/html": [
              "\n",
              "  <div id=\"df-7ae2b1b7-35ac-4814-920b-9b96789c189c\">\n",
              "    <div class=\"colab-df-container\">\n",
              "      <div>\n",
              "<style scoped>\n",
              "    .dataframe tbody tr th:only-of-type {\n",
              "        vertical-align: middle;\n",
              "    }\n",
              "\n",
              "    .dataframe tbody tr th {\n",
              "        vertical-align: top;\n",
              "    }\n",
              "\n",
              "    .dataframe thead th {\n",
              "        text-align: right;\n",
              "    }\n",
              "</style>\n",
              "<table border=\"1\" class=\"dataframe\">\n",
              "  <thead>\n",
              "    <tr style=\"text-align: right;\">\n",
              "      <th></th>\n",
              "      <th>models</th>\n",
              "      <th>mae</th>\n",
              "      <th>mape</th>\n",
              "      <th>mse</th>\n",
              "      <th>rmse</th>\n",
              "    </tr>\n",
              "  </thead>\n",
              "  <tbody>\n",
              "    <tr>\n",
              "      <th>0</th>\n",
              "      <td>Naive</td>\n",
              "      <td>0.005473</td>\n",
              "      <td>4.955045e+05</td>\n",
              "      <td>0.000339</td>\n",
              "      <td>0.018411</td>\n",
              "    </tr>\n",
              "    <tr>\n",
              "      <th>1</th>\n",
              "      <td>Random Forest</td>\n",
              "      <td>0.006618</td>\n",
              "      <td>1.006276e+13</td>\n",
              "      <td>0.000337</td>\n",
              "      <td>0.018364</td>\n",
              "    </tr>\n",
              "    <tr>\n",
              "      <th>2</th>\n",
              "      <td>Random Forest Randomized Search</td>\n",
              "      <td>0.009628</td>\n",
              "      <td>1.312199e+13</td>\n",
              "      <td>0.000726</td>\n",
              "      <td>0.026942</td>\n",
              "    </tr>\n",
              "    <tr>\n",
              "      <th>3</th>\n",
              "      <td>GradientTreeBoosting Regressor</td>\n",
              "      <td>0.006231</td>\n",
              "      <td>8.402951e+12</td>\n",
              "      <td>0.000368</td>\n",
              "      <td>0.019177</td>\n",
              "    </tr>\n",
              "    <tr>\n",
              "      <th>4</th>\n",
              "      <td>GradientTreeBoosting Regressor Randomized Search</td>\n",
              "      <td>0.006417</td>\n",
              "      <td>4.164373e+12</td>\n",
              "      <td>0.000466</td>\n",
              "      <td>0.021594</td>\n",
              "    </tr>\n",
              "    <tr>\n",
              "      <th>5</th>\n",
              "      <td>GradientTreeBoosting Regressor Manually Tuned</td>\n",
              "      <td>0.005216</td>\n",
              "      <td>1.871302e+12</td>\n",
              "      <td>0.000330</td>\n",
              "      <td>0.018171</td>\n",
              "    </tr>\n",
              "  </tbody>\n",
              "</table>\n",
              "</div>\n",
              "      <button class=\"colab-df-convert\" onclick=\"convertToInteractive('df-7ae2b1b7-35ac-4814-920b-9b96789c189c')\"\n",
              "              title=\"Convert this dataframe to an interactive table.\"\n",
              "              style=\"display:none;\">\n",
              "        \n",
              "  <svg xmlns=\"http://www.w3.org/2000/svg\" height=\"24px\"viewBox=\"0 0 24 24\"\n",
              "       width=\"24px\">\n",
              "    <path d=\"M0 0h24v24H0V0z\" fill=\"none\"/>\n",
              "    <path d=\"M18.56 5.44l.94 2.06.94-2.06 2.06-.94-2.06-.94-.94-2.06-.94 2.06-2.06.94zm-11 1L8.5 8.5l.94-2.06 2.06-.94-2.06-.94L8.5 2.5l-.94 2.06-2.06.94zm10 10l.94 2.06.94-2.06 2.06-.94-2.06-.94-.94-2.06-.94 2.06-2.06.94z\"/><path d=\"M17.41 7.96l-1.37-1.37c-.4-.4-.92-.59-1.43-.59-.52 0-1.04.2-1.43.59L10.3 9.45l-7.72 7.72c-.78.78-.78 2.05 0 2.83L4 21.41c.39.39.9.59 1.41.59.51 0 1.02-.2 1.41-.59l7.78-7.78 2.81-2.81c.8-.78.8-2.07 0-2.86zM5.41 20L4 18.59l7.72-7.72 1.47 1.35L5.41 20z\"/>\n",
              "  </svg>\n",
              "      </button>\n",
              "      \n",
              "  <style>\n",
              "    .colab-df-container {\n",
              "      display:flex;\n",
              "      flex-wrap:wrap;\n",
              "      gap: 12px;\n",
              "    }\n",
              "\n",
              "    .colab-df-convert {\n",
              "      background-color: #E8F0FE;\n",
              "      border: none;\n",
              "      border-radius: 50%;\n",
              "      cursor: pointer;\n",
              "      display: none;\n",
              "      fill: #1967D2;\n",
              "      height: 32px;\n",
              "      padding: 0 0 0 0;\n",
              "      width: 32px;\n",
              "    }\n",
              "\n",
              "    .colab-df-convert:hover {\n",
              "      background-color: #E2EBFA;\n",
              "      box-shadow: 0px 1px 2px rgba(60, 64, 67, 0.3), 0px 1px 3px 1px rgba(60, 64, 67, 0.15);\n",
              "      fill: #174EA6;\n",
              "    }\n",
              "\n",
              "    [theme=dark] .colab-df-convert {\n",
              "      background-color: #3B4455;\n",
              "      fill: #D2E3FC;\n",
              "    }\n",
              "\n",
              "    [theme=dark] .colab-df-convert:hover {\n",
              "      background-color: #434B5C;\n",
              "      box-shadow: 0px 1px 3px 1px rgba(0, 0, 0, 0.15);\n",
              "      filter: drop-shadow(0px 1px 2px rgba(0, 0, 0, 0.3));\n",
              "      fill: #FFFFFF;\n",
              "    }\n",
              "  </style>\n",
              "\n",
              "      <script>\n",
              "        const buttonEl =\n",
              "          document.querySelector('#df-7ae2b1b7-35ac-4814-920b-9b96789c189c button.colab-df-convert');\n",
              "        buttonEl.style.display =\n",
              "          google.colab.kernel.accessAllowed ? 'block' : 'none';\n",
              "\n",
              "        async function convertToInteractive(key) {\n",
              "          const element = document.querySelector('#df-7ae2b1b7-35ac-4814-920b-9b96789c189c');\n",
              "          const dataTable =\n",
              "            await google.colab.kernel.invokeFunction('convertToInteractive',\n",
              "                                                     [key], {});\n",
              "          if (!dataTable) return;\n",
              "\n",
              "          const docLinkHtml = 'Like what you see? Visit the ' +\n",
              "            '<a target=\"_blank\" href=https://colab.research.google.com/notebooks/data_table.ipynb>data table notebook</a>'\n",
              "            + ' to learn more about interactive tables.';\n",
              "          element.innerHTML = '';\n",
              "          dataTable['output_type'] = 'display_data';\n",
              "          await google.colab.output.renderOutput(dataTable, element);\n",
              "          const docLink = document.createElement('div');\n",
              "          docLink.innerHTML = docLinkHtml;\n",
              "          element.appendChild(docLink);\n",
              "        }\n",
              "      </script>\n",
              "    </div>\n",
              "  </div>\n",
              "  "
            ]
          },
          "metadata": {},
          "execution_count": 59
        }
      ]
    },
    {
      "cell_type": "code",
      "source": [
        "best_gbr_forecast = best_gbr_model.predict(X_test)"
      ],
      "metadata": {
        "colab": {
          "base_uri": "https://localhost:8080/"
        },
        "id": "QWMaEYYBiIze",
        "outputId": "338faf4f-3d62-4099-aa73-d45a367c1409"
      },
      "execution_count": 60,
      "outputs": [
        {
          "output_type": "stream",
          "name": "stderr",
          "text": [
            "/usr/local/lib/python3.7/dist-packages/sklearn/base.py:444: UserWarning: X has feature names, but GradientBoostingRegressor was fitted without feature names\n",
            "  f\"X has feature names, but {self.__class__.__name__} was fitted without\"\n"
          ]
        }
      ]
    },
    {
      "cell_type": "code",
      "source": [
        "plt.figure(figsize=(10, 7))\n",
        "offset = 10 # offset the values by 300 timesteps \n",
        "plot_time_series(timesteps=X_time_test,  values=y_test, label=\"Test data\")\n",
        "plot_time_series(timesteps=X_time_test[1:], values=naive_forecast, format=\"-\",  label=\"Naive forecast\")\n",
        "# plot_time_series(timesteps=X_time_test, values=rs_forecast, label='RandomForest forecast')\n",
        "# plot_time_series(timesteps=X_time_test,   values=rs_ideal_forecast, label='Randomized Search RandomForest forecast')\n",
        "# plot_time_series(timesteps=X_time_test, start=offset, values=k_forecast, label='KNR forecast')\n",
        "# plot_time_series(timesteps=X_time_test, start=offset, values=rs_k_forecast, label='Ideal KNR forecast')\n",
        "# plot_time_series(timesteps=X_time_test, start=offset, values=svr_forecast, label='SVR forecast')\n",
        "# plot_time_series(timesteps=X_time_test, start=offset, values=rs_svr_forecast, label='Ideal SVR forecast')\n",
        "# plot_time_series(timesteps=X_time_test, start=offset, values=vr_forecast, label='VotingRegressor forecast')\n",
        "plot_time_series(timesteps=X_time_test, values=gbr_forecast, label='Base GradientTree forecast')\n",
        "# plot_time_series(timesteps=X_time_test,  values=rs_gbr_forecast, label='Randomized Search GradientTree forecast')\n",
        "# plot_time_series(timesteps=X_time_test,  values=best_gbr_forecast, label='Best GradientTree forecast')\n",
        "plt.title('Base Gradient Tree Model vs Base Model in Makati', fontsize=18, fontweight='bold')\n",
        "\n",
        "plt.show();"
      ],
      "metadata": {
        "colab": {
          "base_uri": "https://localhost:8080/",
          "height": 462
        },
        "id": "2bWGfa12iauK",
        "outputId": "b4789e22-1b2c-4dbc-d103-1dc52c48a19e"
      },
      "execution_count": 61,
      "outputs": [
        {
          "output_type": "display_data",
          "data": {
            "text/plain": [
              "<Figure size 720x504 with 1 Axes>"
            ],
            "image/png": "[encoded data removed]"
          },
          "metadata": {
            "needs_background": "light"
          }
        }
      ]
    },
    {
      "cell_type": "code",
      "source": [
        "plt.figure(figsize=(10, 7))\n",
        "offset = 10 # offset the values by 300 timesteps \n",
        "plot_time_series(timesteps=X_time_test,  values=y_test, label=\"Test data\")\n",
        "plot_time_series(timesteps=X_time_test[1:], values=naive_forecast, format=\"-\", label=\"Naive forecast\");\n",
        "plot_time_series(timesteps=X_time_test,  values=gbr_forecast, label='Base GradientTree forecast')\n",
        "plot_time_series(timesteps=X_time_test,  values=best_gbr_forecast, label='Manually Tuned GradientTree forecast')\n",
        "plt.title('Manually Tuned Gradient Tree Model vs Base \\nGradient Tree Model vs Base Model in Makati', fontsize=16, fontweight='bold')"
      ],
      "metadata": {
        "colab": {
          "base_uri": "https://localhost:8080/",
          "height": 495
        },
        "id": "H6cMUgVio0JM",
        "outputId": "4b3570e2-c74f-45ec-8cec-5c099668dba0"
      },
      "execution_count": 62,
      "outputs": [
        {
          "output_type": "execute_result",
          "data": {
            "text/plain": [
              "Text(0.5, 1.0, 'Manually Tuned Gradient Tree Model vs Base \\nGradient Tree Model vs Base Model in Makati')"
            ]
          },
          "metadata": {},
          "execution_count": 62
        },
        {
          "output_type": "display_data",
          "data": {
            "text/plain": [
              "<Figure size 720x504 with 1 Axes>"
            ],
            "image/png": "[encoded data removed]"
          },
          "metadata": {
            "needs_background": "light"
          }
        }
      ]
    },
    {
      "cell_type": "code",
      "source": [
        "best_gbr_model.feature_importances_"
      ],
      "metadata": {
        "colab": {
          "base_uri": "https://localhost:8080/"
        },
        "id": "0oaL23KPieCm",
        "outputId": "e801af64-02b6-413c-da20-3b5dd352420e"
      },
      "execution_count": 63,
      "outputs": [
        {
          "output_type": "execute_result",
          "data": {
            "text/plain": [
              "array([0.        , 0.        , 0.        , 0.        , 0.01264442,\n",
              "       0.00091185, 0.0034438 , 0.0226654 , 0.0205088 , 0.00439554,\n",
              "       0.0468011 , 0.03282649, 0.02071563, 0.01185269, 0.        ,\n",
              "       0.00567996, 0.00197188, 0.00318232, 0.01277925, 0.01486193,\n",
              "       0.01288623, 0.72216301, 0.00790788, 0.00869322, 0.00737477,\n",
              "       0.00681975, 0.01150238, 0.00741171])"
            ]
          },
          "metadata": {},
          "execution_count": 63
        }
      ]
    },
    {
      "cell_type": "code",
      "source": [
        "def plot_features(columns, importances, n=20):\n",
        "    df = (pd.DataFrame({\n",
        "        'features': columns,\n",
        "        'feature_importances': importances\n",
        "    }).sort_values('feature_importances', ascending=False).reset_index(drop=True))\n",
        "\n",
        "    #plot df\n",
        "    fig, ax = plt.subplots()\n",
        "    ax.barh(df['features'][:n], df['feature_importances'][:n])\n",
        "    ax.set_ylabel('Features')\n",
        "    ax.set_xlabel('Feature Importance')\n",
        "    ax.invert_yaxis()\n",
        "    plt.title('Feature Importance in Makati', fontweight='bold', fontsize=14)"
      ],
      "metadata": {
        "id": "nGmdiARHjDNZ"
      },
      "execution_count": 64,
      "outputs": []
    },
    {
      "cell_type": "code",
      "source": [
        "plot_features(X_columns, best_gbr_model.feature_importances_)"
      ],
      "metadata": {
        "colab": {
          "base_uri": "https://localhost:8080/",
          "height": 296
        },
        "id": "5tqXm-lfjN8w",
        "outputId": "b8bfe83a-8a55-4683-981f-53f70e4c2b22"
      },
      "execution_count": 65,
      "outputs": [
        {
          "output_type": "display_data",
          "data": {
            "text/plain": [
              "<Figure size 432x288 with 1 Axes>"
            ],
            "image/png": "[encoded data removed]"
          },
          "metadata": {
            "needs_background": "light"
          }
        }
      ]
    },
    {
      "cell_type": "code",
      "source": [
        "scores"
      ],
      "metadata": {
        "colab": {
          "base_uri": "https://localhost:8080/",
          "height": 237
        },
        "id": "tuWH11-vm28W",
        "outputId": "d22d5796-4407-4fe7-c65a-0fb575bab919"
      },
      "execution_count": 66,
      "outputs": [
        {
          "output_type": "execute_result",
          "data": {
            "text/plain": [
              "                                             models       mae          mape  \\\n",
              "0                                             Naive  0.005473  4.955045e+05   \n",
              "1                                     Random Forest  0.006618  1.006276e+13   \n",
              "2                   Random Forest Randomized Search  0.009628  1.312199e+13   \n",
              "3                    GradientTreeBoosting Regressor  0.006231  8.402951e+12   \n",
              "4  GradientTreeBoosting Regressor Randomized Search  0.006417  4.164373e+12   \n",
              "5     GradientTreeBoosting Regressor Manually Tuned  0.005216  1.871302e+12   \n",
              "\n",
              "        mse      rmse  \n",
              "0  0.000339  0.018411  \n",
              "1  0.000337  0.018364  \n",
              "2  0.000726  0.026942  \n",
              "3  0.000368  0.019177  \n",
              "4  0.000466  0.021594  \n",
              "5  0.000330  0.018171  "
            ],
            "text/html": [
              "\n",
              "  <div id=\"df-8c795cf6-6bae-44bf-9c73-c4cf8d355375\">\n",
              "    <div class=\"colab-df-container\">\n",
              "      <div>\n",
              "<style scoped>\n",
              "    .dataframe tbody tr th:only-of-type {\n",
              "        vertical-align: middle;\n",
              "    }\n",
              "\n",
              "    .dataframe tbody tr th {\n",
              "        vertical-align: top;\n",
              "    }\n",
              "\n",
              "    .dataframe thead th {\n",
              "        text-align: right;\n",
              "    }\n",
              "</style>\n",
              "<table border=\"1\" class=\"dataframe\">\n",
              "  <thead>\n",
              "    <tr style=\"text-align: right;\">\n",
              "      <th></th>\n",
              "      <th>models</th>\n",
              "      <th>mae</th>\n",
              "      <th>mape</th>\n",
              "      <th>mse</th>\n",
              "      <th>rmse</th>\n",
              "    </tr>\n",
              "  </thead>\n",
              "  <tbody>\n",
              "    <tr>\n",
              "      <th>0</th>\n",
              "      <td>Naive</td>\n",
              "      <td>0.005473</td>\n",
              "      <td>4.955045e+05</td>\n",
              "      <td>0.000339</td>\n",
              "      <td>0.018411</td>\n",
              "    </tr>\n",
              "    <tr>\n",
              "      <th>1</th>\n",
              "      <td>Random Forest</td>\n",
              "      <td>0.006618</td>\n",
              "      <td>1.006276e+13</td>\n",
              "      <td>0.000337</td>\n",
              "      <td>0.018364</td>\n",
              "    </tr>\n",
              "    <tr>\n",
              "      <th>2</th>\n",
              "      <td>Random Forest Randomized Search</td>\n",
              "      <td>0.009628</td>\n",
              "      <td>1.312199e+13</td>\n",
              "      <td>0.000726</td>\n",
              "      <td>0.026942</td>\n",
              "    </tr>\n",
              "    <tr>\n",
              "      <th>3</th>\n",
              "      <td>GradientTreeBoosting Regressor</td>\n",
              "      <td>0.006231</td>\n",
              "      <td>8.402951e+12</td>\n",
              "      <td>0.000368</td>\n",
              "      <td>0.019177</td>\n",
              "    </tr>\n",
              "    <tr>\n",
              "      <th>4</th>\n",
              "      <td>GradientTreeBoosting Regressor Randomized Search</td>\n",
              "      <td>0.006417</td>\n",
              "      <td>4.164373e+12</td>\n",
              "      <td>0.000466</td>\n",
              "      <td>0.021594</td>\n",
              "    </tr>\n",
              "    <tr>\n",
              "      <th>5</th>\n",
              "      <td>GradientTreeBoosting Regressor Manually Tuned</td>\n",
              "      <td>0.005216</td>\n",
              "      <td>1.871302e+12</td>\n",
              "      <td>0.000330</td>\n",
              "      <td>0.018171</td>\n",
              "    </tr>\n",
              "  </tbody>\n",
              "</table>\n",
              "</div>\n",
              "      <button class=\"colab-df-convert\" onclick=\"convertToInteractive('df-8c795cf6-6bae-44bf-9c73-c4cf8d355375')\"\n",
              "              title=\"Convert this dataframe to an interactive table.\"\n",
              "              style=\"display:none;\">\n",
              "        \n",
              "  <svg xmlns=\"http://www.w3.org/2000/svg\" height=\"24px\"viewBox=\"0 0 24 24\"\n",
              "       width=\"24px\">\n",
              "    <path d=\"M0 0h24v24H0V0z\" fill=\"none\"/>\n",
              "    <path d=\"M18.56 5.44l.94 2.06.94-2.06 2.06-.94-2.06-.94-.94-2.06-.94 2.06-2.06.94zm-11 1L8.5 8.5l.94-2.06 2.06-.94-2.06-.94L8.5 2.5l-.94 2.06-2.06.94zm10 10l.94 2.06.94-2.06 2.06-.94-2.06-.94-.94-2.06-.94 2.06-2.06.94z\"/><path d=\"M17.41 7.96l-1.37-1.37c-.4-.4-.92-.59-1.43-.59-.52 0-1.04.2-1.43.59L10.3 9.45l-7.72 7.72c-.78.78-.78 2.05 0 2.83L4 21.41c.39.39.9.59 1.41.59.51 0 1.02-.2 1.41-.59l7.78-7.78 2.81-2.81c.8-.78.8-2.07 0-2.86zM5.41 20L4 18.59l7.72-7.72 1.47 1.35L5.41 20z\"/>\n",
              "  </svg>\n",
              "      </button>\n",
              "      \n",
              "  <style>\n",
              "    .colab-df-container {\n",
              "      display:flex;\n",
              "      flex-wrap:wrap;\n",
              "      gap: 12px;\n",
              "    }\n",
              "\n",
              "    .colab-df-convert {\n",
              "      background-color: #E8F0FE;\n",
              "      border: none;\n",
              "      border-radius: 50%;\n",
              "      cursor: pointer;\n",
              "      display: none;\n",
              "      fill: #1967D2;\n",
              "      height: 32px;\n",
              "      padding: 0 0 0 0;\n",
              "      width: 32px;\n",
              "    }\n",
              "\n",
              "    .colab-df-convert:hover {\n",
              "      background-color: #E2EBFA;\n",
              "      box-shadow: 0px 1px 2px rgba(60, 64, 67, 0.3), 0px 1px 3px 1px rgba(60, 64, 67, 0.15);\n",
              "      fill: #174EA6;\n",
              "    }\n",
              "\n",
              "    [theme=dark] .colab-df-convert {\n",
              "      background-color: #3B4455;\n",
              "      fill: #D2E3FC;\n",
              "    }\n",
              "\n",
              "    [theme=dark] .colab-df-convert:hover {\n",
              "      background-color: #434B5C;\n",
              "      box-shadow: 0px 1px 3px 1px rgba(0, 0, 0, 0.15);\n",
              "      filter: drop-shadow(0px 1px 2px rgba(0, 0, 0, 0.3));\n",
              "      fill: #FFFFFF;\n",
              "    }\n",
              "  </style>\n",
              "\n",
              "      <script>\n",
              "        const buttonEl =\n",
              "          document.querySelector('#df-8c795cf6-6bae-44bf-9c73-c4cf8d355375 button.colab-df-convert');\n",
              "        buttonEl.style.display =\n",
              "          google.colab.kernel.accessAllowed ? 'block' : 'none';\n",
              "\n",
              "        async function convertToInteractive(key) {\n",
              "          const element = document.querySelector('#df-8c795cf6-6bae-44bf-9c73-c4cf8d355375');\n",
              "          const dataTable =\n",
              "            await google.colab.kernel.invokeFunction('convertToInteractive',\n",
              "                                                     [key], {});\n",
              "          if (!dataTable) return;\n",
              "\n",
              "          const docLinkHtml = 'Like what you see? Visit the ' +\n",
              "            '<a target=\"_blank\" href=https://colab.research.google.com/notebooks/data_table.ipynb>data table notebook</a>'\n",
              "            + ' to learn more about interactive tables.';\n",
              "          element.innerHTML = '';\n",
              "          dataTable['output_type'] = 'display_data';\n",
              "          await google.colab.output.renderOutput(dataTable, element);\n",
              "          const docLink = document.createElement('div');\n",
              "          docLink.innerHTML = docLinkHtml;\n",
              "          element.appendChild(docLink);\n",
              "        }\n",
              "      </script>\n",
              "    </div>\n",
              "  </div>\n",
              "  "
            ]
          },
          "metadata": {},
          "execution_count": 66
        }
      ]
    },
    {
      "cell_type": "code",
      "source": [
        ""
      ],
      "metadata": {
        "id": "egGjveTdIIZR"
      },
      "execution_count": null,
      "outputs": []
    }
  ],
  "metadata": {
    "accelerator": "GPU",
    "colab": {
      "name": "Makati",
      "provenance": [],
      "mount_file_id": "1a2iJZC9eEDhkD4CTqzJnkUp_kS8c8XHq",
      "authorship_tag": "ABX9TyOElriRvmPAGvBycMt8oXcH",
      "include_colab_link": true
    },
    "kernelspec": {
      "display_name": "Python 3",
      "name": "python3"
    },
    "language_info": {
      "name": "python"
    }
  },
  "nbformat": 4,
  "nbformat_minor": 0
}