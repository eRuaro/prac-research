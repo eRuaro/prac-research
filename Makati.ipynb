{
  "cells": [
    {
      "cell_type": "markdown",
      "metadata": {
        "id": "view-in-github",
        "colab_type": "text"
      },
      "source": [
        "<a href=\"https://colab.research.google.com/github/eRuaro/prac-research/blob/main/Makati.ipynb\" target=\"_parent\"><img src=\"https://colab.research.google.com/assets/colab-badge.svg\" alt=\"Open In Colab\"/></a>"
      ]
    },
    {
      "cell_type": "code",
      "execution_count": 40,
      "metadata": {
        "id": "RYOLABWb1Q1j"
      },
      "outputs": [],
      "source": [
        "path = '/content/drive/MyDrive/prac-research/actual/data/research-data-makati.csv'\n",
        "\n",
        "import numpy as np\n",
        "import pandas as pd\n",
        "%matplotlib inline \n",
        "import matplotlib.pyplot as plt \n",
        "import sklearn"
      ]
    },
    {
      "cell_type": "code",
      "execution_count": 41,
      "metadata": {
        "colab": {
          "base_uri": "https://localhost:8080/",
          "height": 357
        },
        "id": "hcv8HmpN3qX9",
        "outputId": "304bdaaa-9876-43c7-e4cc-fe6a2947d081"
      },
      "outputs": [
        {
          "output_type": "execute_result",
          "data": {
            "text/plain": [
              "        name       region      country  longitude  latitude  \\\n",
              "2227  Makati  Makati City  Philippines     121.03     14.57   \n",
              "2228  Makati  Makati City  Philippines     121.03     14.57   \n",
              "2229  Makati  Makati City  Philippines     121.03     14.57   \n",
              "2230  Makati  Makati City  Philippines     121.03     14.57   \n",
              "2231  Makati  Makati City  Philippines     121.03     14.57   \n",
              "\n",
              "                    time  temp_c  is_day      condition  wind_kph  \\\n",
              "2227 2022-03-12 19:00:00    28.3       0  Partly cloudy      15.4   \n",
              "2228 2022-03-12 20:00:00    27.8       0          Clear      13.4   \n",
              "2229 2022-03-12 21:00:00    27.3       0          Clear      11.5   \n",
              "2230 2022-03-12 22:00:00    27.1       0          Clear      10.8   \n",
              "2231 2022-03-12 23:00:00    26.8       0  Partly cloudy      10.1   \n",
              "\n",
              "      wind_degree wind_dir  air_pressure  precipitation  relative_humidity  \\\n",
              "2227           85        E       1008.35           0.01               73.2   \n",
              "2228           85        E       1008.31           0.01               73.4   \n",
              "2229           85        E       1008.26           0.01               73.6   \n",
              "2230           83        E       1008.87           0.01               73.1   \n",
              "2231           80        E       1009.48           0.01               72.6   \n",
              "\n",
              "      cloud  feelslike_c  will_it_rain  chance_of_rain  \n",
              "2227     37         31.1             0               1  \n",
              "2228     29         30.5             0               0  \n",
              "2229     22         29.9             0               0  \n",
              "2230     29         29.6             0               0  \n",
              "2231     37         29.3             0               1  "
            ],
            "text/html": [
              "\n",
              "  <div id=\"df-e3035fd7-ca54-43e2-b154-79a1dac150a4\">\n",
              "    <div class=\"colab-df-container\">\n",
              "      <div>\n",
              "<style scoped>\n",
              "    .dataframe tbody tr th:only-of-type {\n",
              "        vertical-align: middle;\n",
              "    }\n",
              "\n",
              "    .dataframe tbody tr th {\n",
              "        vertical-align: top;\n",
              "    }\n",
              "\n",
              "    .dataframe thead th {\n",
              "        text-align: right;\n",
              "    }\n",
              "</style>\n",
              "<table border=\"1\" class=\"dataframe\">\n",
              "  <thead>\n",
              "    <tr style=\"text-align: right;\">\n",
              "      <th></th>\n",
              "      <th>name</th>\n",
              "      <th>region</th>\n",
              "      <th>country</th>\n",
              "      <th>longitude</th>\n",
              "      <th>latitude</th>\n",
              "      <th>time</th>\n",
              "      <th>temp_c</th>\n",
              "      <th>is_day</th>\n",
              "      <th>condition</th>\n",
              "      <th>wind_kph</th>\n",
              "      <th>wind_degree</th>\n",
              "      <th>wind_dir</th>\n",
              "      <th>air_pressure</th>\n",
              "      <th>precipitation</th>\n",
              "      <th>relative_humidity</th>\n",
              "      <th>cloud</th>\n",
              "      <th>feelslike_c</th>\n",
              "      <th>will_it_rain</th>\n",
              "      <th>chance_of_rain</th>\n",
              "    </tr>\n",
              "  </thead>\n",
              "  <tbody>\n",
              "    <tr>\n",
              "      <th>2227</th>\n",
              "      <td>Makati</td>\n",
              "      <td>Makati City</td>\n",
              "      <td>Philippines</td>\n",
              "      <td>121.03</td>\n",
              "      <td>14.57</td>\n",
              "      <td>2022-03-12 19:00:00</td>\n",
              "      <td>28.3</td>\n",
              "      <td>0</td>\n",
              "      <td>Partly cloudy</td>\n",
              "      <td>15.4</td>\n",
              "      <td>85</td>\n",
              "      <td>E</td>\n",
              "      <td>1008.35</td>\n",
              "      <td>0.01</td>\n",
              "      <td>73.2</td>\n",
              "      <td>37</td>\n",
              "      <td>31.1</td>\n",
              "      <td>0</td>\n",
              "      <td>1</td>\n",
              "    </tr>\n",
              "    <tr>\n",
              "      <th>2228</th>\n",
              "      <td>Makati</td>\n",
              "      <td>Makati City</td>\n",
              "      <td>Philippines</td>\n",
              "      <td>121.03</td>\n",
              "      <td>14.57</td>\n",
              "      <td>2022-03-12 20:00:00</td>\n",
              "      <td>27.8</td>\n",
              "      <td>0</td>\n",
              "      <td>Clear</td>\n",
              "      <td>13.4</td>\n",
              "      <td>85</td>\n",
              "      <td>E</td>\n",
              "      <td>1008.31</td>\n",
              "      <td>0.01</td>\n",
              "      <td>73.4</td>\n",
              "      <td>29</td>\n",
              "      <td>30.5</td>\n",
              "      <td>0</td>\n",
              "      <td>0</td>\n",
              "    </tr>\n",
              "    <tr>\n",
              "      <th>2229</th>\n",
              "      <td>Makati</td>\n",
              "      <td>Makati City</td>\n",
              "      <td>Philippines</td>\n",
              "      <td>121.03</td>\n",
              "      <td>14.57</td>\n",
              "      <td>2022-03-12 21:00:00</td>\n",
              "      <td>27.3</td>\n",
              "      <td>0</td>\n",
              "      <td>Clear</td>\n",
              "      <td>11.5</td>\n",
              "      <td>85</td>\n",
              "      <td>E</td>\n",
              "      <td>1008.26</td>\n",
              "      <td>0.01</td>\n",
              "      <td>73.6</td>\n",
              "      <td>22</td>\n",
              "      <td>29.9</td>\n",
              "      <td>0</td>\n",
              "      <td>0</td>\n",
              "    </tr>\n",
              "    <tr>\n",
              "      <th>2230</th>\n",
              "      <td>Makati</td>\n",
              "      <td>Makati City</td>\n",
              "      <td>Philippines</td>\n",
              "      <td>121.03</td>\n",
              "      <td>14.57</td>\n",
              "      <td>2022-03-12 22:00:00</td>\n",
              "      <td>27.1</td>\n",
              "      <td>0</td>\n",
              "      <td>Clear</td>\n",
              "      <td>10.8</td>\n",
              "      <td>83</td>\n",
              "      <td>E</td>\n",
              "      <td>1008.87</td>\n",
              "      <td>0.01</td>\n",
              "      <td>73.1</td>\n",
              "      <td>29</td>\n",
              "      <td>29.6</td>\n",
              "      <td>0</td>\n",
              "      <td>0</td>\n",
              "    </tr>\n",
              "    <tr>\n",
              "      <th>2231</th>\n",
              "      <td>Makati</td>\n",
              "      <td>Makati City</td>\n",
              "      <td>Philippines</td>\n",
              "      <td>121.03</td>\n",
              "      <td>14.57</td>\n",
              "      <td>2022-03-12 23:00:00</td>\n",
              "      <td>26.8</td>\n",
              "      <td>0</td>\n",
              "      <td>Partly cloudy</td>\n",
              "      <td>10.1</td>\n",
              "      <td>80</td>\n",
              "      <td>E</td>\n",
              "      <td>1009.48</td>\n",
              "      <td>0.01</td>\n",
              "      <td>72.6</td>\n",
              "      <td>37</td>\n",
              "      <td>29.3</td>\n",
              "      <td>0</td>\n",
              "      <td>1</td>\n",
              "    </tr>\n",
              "  </tbody>\n",
              "</table>\n",
              "</div>\n",
              "      <button class=\"colab-df-convert\" onclick=\"convertToInteractive('df-e3035fd7-ca54-43e2-b154-79a1dac150a4')\"\n",
              "              title=\"Convert this dataframe to an interactive table.\"\n",
              "              style=\"display:none;\">\n",
              "        \n",
              "  <svg xmlns=\"http://www.w3.org/2000/svg\" height=\"24px\"viewBox=\"0 0 24 24\"\n",
              "       width=\"24px\">\n",
              "    <path d=\"M0 0h24v24H0V0z\" fill=\"none\"/>\n",
              "    <path d=\"M18.56 5.44l.94 2.06.94-2.06 2.06-.94-2.06-.94-.94-2.06-.94 2.06-2.06.94zm-11 1L8.5 8.5l.94-2.06 2.06-.94-2.06-.94L8.5 2.5l-.94 2.06-2.06.94zm10 10l.94 2.06.94-2.06 2.06-.94-2.06-.94-.94-2.06-.94 2.06-2.06.94z\"/><path d=\"M17.41 7.96l-1.37-1.37c-.4-.4-.92-.59-1.43-.59-.52 0-1.04.2-1.43.59L10.3 9.45l-7.72 7.72c-.78.78-.78 2.05 0 2.83L4 21.41c.39.39.9.59 1.41.59.51 0 1.02-.2 1.41-.59l7.78-7.78 2.81-2.81c.8-.78.8-2.07 0-2.86zM5.41 20L4 18.59l7.72-7.72 1.47 1.35L5.41 20z\"/>\n",
              "  </svg>\n",
              "      </button>\n",
              "      \n",
              "  <style>\n",
              "    .colab-df-container {\n",
              "      display:flex;\n",
              "      flex-wrap:wrap;\n",
              "      gap: 12px;\n",
              "    }\n",
              "\n",
              "    .colab-df-convert {\n",
              "      background-color: #E8F0FE;\n",
              "      border: none;\n",
              "      border-radius: 50%;\n",
              "      cursor: pointer;\n",
              "      display: none;\n",
              "      fill: #1967D2;\n",
              "      height: 32px;\n",
              "      padding: 0 0 0 0;\n",
              "      width: 32px;\n",
              "    }\n",
              "\n",
              "    .colab-df-convert:hover {\n",
              "      background-color: #E2EBFA;\n",
              "      box-shadow: 0px 1px 2px rgba(60, 64, 67, 0.3), 0px 1px 3px 1px rgba(60, 64, 67, 0.15);\n",
              "      fill: #174EA6;\n",
              "    }\n",
              "\n",
              "    [theme=dark] .colab-df-convert {\n",
              "      background-color: #3B4455;\n",
              "      fill: #D2E3FC;\n",
              "    }\n",
              "\n",
              "    [theme=dark] .colab-df-convert:hover {\n",
              "      background-color: #434B5C;\n",
              "      box-shadow: 0px 1px 3px 1px rgba(0, 0, 0, 0.15);\n",
              "      filter: drop-shadow(0px 1px 2px rgba(0, 0, 0, 0.3));\n",
              "      fill: #FFFFFF;\n",
              "    }\n",
              "  </style>\n",
              "\n",
              "      <script>\n",
              "        const buttonEl =\n",
              "          document.querySelector('#df-e3035fd7-ca54-43e2-b154-79a1dac150a4 button.colab-df-convert');\n",
              "        buttonEl.style.display =\n",
              "          google.colab.kernel.accessAllowed ? 'block' : 'none';\n",
              "\n",
              "        async function convertToInteractive(key) {\n",
              "          const element = document.querySelector('#df-e3035fd7-ca54-43e2-b154-79a1dac150a4');\n",
              "          const dataTable =\n",
              "            await google.colab.kernel.invokeFunction('convertToInteractive',\n",
              "                                                     [key], {});\n",
              "          if (!dataTable) return;\n",
              "\n",
              "          const docLinkHtml = 'Like what you see? Visit the ' +\n",
              "            '<a target=\"_blank\" href=https://colab.research.google.com/notebooks/data_table.ipynb>data table notebook</a>'\n",
              "            + ' to learn more about interactive tables.';\n",
              "          element.innerHTML = '';\n",
              "          dataTable['output_type'] = 'display_data';\n",
              "          await google.colab.output.renderOutput(dataTable, element);\n",
              "          const docLink = document.createElement('div');\n",
              "          docLink.innerHTML = docLinkHtml;\n",
              "          element.appendChild(docLink);\n",
              "        }\n",
              "      </script>\n",
              "    </div>\n",
              "  </div>\n",
              "  "
            ]
          },
          "metadata": {},
          "execution_count": 41
        }
      ],
      "source": [
        "df = pd.read_csv(\n",
        "    path, \n",
        "    low_memory=False,\n",
        "    parse_dates=['time']\n",
        ")\n",
        "\n",
        "df.tail()"
      ]
    },
    {
      "cell_type": "code",
      "execution_count": 42,
      "metadata": {
        "colab": {
          "base_uri": "https://localhost:8080/"
        },
        "id": "icDVCO4n3v1S",
        "outputId": "a716e91f-8b81-4f80-c667-4638e58faebb"
      },
      "outputs": [
        {
          "output_type": "stream",
          "name": "stdout",
          "text": [
            "<class 'pandas.core.frame.DataFrame'>\n",
            "RangeIndex: 2232 entries, 0 to 2231\n",
            "Data columns (total 19 columns):\n",
            " #   Column             Non-Null Count  Dtype         \n",
            "---  ------             --------------  -----         \n",
            " 0   name               2232 non-null   object        \n",
            " 1   region             2232 non-null   object        \n",
            " 2   country            2232 non-null   object        \n",
            " 3   longitude          2232 non-null   float64       \n",
            " 4   latitude           2232 non-null   float64       \n",
            " 5   time               2232 non-null   datetime64[ns]\n",
            " 6   temp_c             2232 non-null   float64       \n",
            " 7   is_day             2232 non-null   int64         \n",
            " 8   condition          2232 non-null   object        \n",
            " 9   wind_kph           2232 non-null   float64       \n",
            " 10  wind_degree        2232 non-null   int64         \n",
            " 11  wind_dir           2232 non-null   object        \n",
            " 12  air_pressure       2232 non-null   float64       \n",
            " 13  precipitation      2232 non-null   float64       \n",
            " 14  relative_humidity  2232 non-null   float64       \n",
            " 15  cloud              2232 non-null   int64         \n",
            " 16  feelslike_c        2232 non-null   float64       \n",
            " 17  will_it_rain       2232 non-null   int64         \n",
            " 18  chance_of_rain     2232 non-null   int64         \n",
            "dtypes: datetime64[ns](1), float64(8), int64(5), object(5)\n",
            "memory usage: 331.4+ KB\n"
          ]
        }
      ],
      "source": [
        "df.info()"
      ]
    },
    {
      "cell_type": "code",
      "execution_count": 43,
      "metadata": {
        "colab": {
          "base_uri": "https://localhost:8080/"
        },
        "id": "062LMb2B31en",
        "outputId": "b94ba558-a4f5-4c1e-9a59-5894a05e5db3"
      },
      "outputs": [
        {
          "output_type": "execute_result",
          "data": {
            "text/plain": [
              "0   2021-12-10 00:00:00\n",
              "1   2021-12-10 01:00:00\n",
              "2   2021-12-10 02:00:00\n",
              "3   2021-12-10 03:00:00\n",
              "4   2021-12-10 04:00:00\n",
              "Name: time, dtype: datetime64[ns]"
            ]
          },
          "metadata": {},
          "execution_count": 43
        }
      ],
      "source": [
        "df.time.head()"
      ]
    },
    {
      "cell_type": "code",
      "execution_count": 44,
      "metadata": {
        "colab": {
          "base_uri": "https://localhost:8080/"
        },
        "id": "7n28bMA94p3H",
        "outputId": "d4a11e73-47e5-43cb-8887-36750d6b9ec7"
      },
      "outputs": [
        {
          "output_type": "execute_result",
          "data": {
            "text/plain": [
              "0   2021-12-10 00:00:00\n",
              "1   2021-12-10 01:00:00\n",
              "2   2021-12-10 02:00:00\n",
              "3   2021-12-10 03:00:00\n",
              "4   2021-12-10 04:00:00\n",
              "Name: time, dtype: datetime64[ns]"
            ]
          },
          "metadata": {},
          "execution_count": 44
        }
      ],
      "source": [
        "df.sort_values(by=['time'], ascending=True)\n",
        "\n",
        "df.time.head()"
      ]
    },
    {
      "cell_type": "markdown",
      "metadata": {
        "id": "mu1y8jlT43Hp"
      },
      "source": [
        "## Feature Engineering"
      ]
    },
    {
      "cell_type": "code",
      "execution_count": 45,
      "metadata": {
        "colab": {
          "base_uri": "https://localhost:8080/",
          "height": 863
        },
        "id": "7k4xMbeJ5UMk",
        "outputId": "5fde45bc-84fe-4ae3-f78a-4aae38c0721e"
      },
      "outputs": [
        {
          "output_type": "execute_result",
          "data": {
            "text/plain": [
              "                                     0                    1  \\\n",
              "name                            Makati               Makati   \n",
              "region                          Manila               Manila   \n",
              "country                    Philippines          Philippines   \n",
              "longitude                       121.03               121.03   \n",
              "latitude                         14.57                14.57   \n",
              "time               2021-12-10 00:00:00  2021-12-10 01:00:00   \n",
              "temp_c                            24.8                 24.6   \n",
              "is_day                               0                    0   \n",
              "condition                        Clear                Clear   \n",
              "wind_kph                          12.2                 10.9   \n",
              "wind_degree                         78                   75   \n",
              "wind_dir                           ENE                  ENE   \n",
              "air_pressure                   1013.88              1013.73   \n",
              "precipitation                      0.0                  0.0   \n",
              "relative_humidity                 67.3                63.67   \n",
              "cloud                               10                   14   \n",
              "feelslike_c                       26.3                 26.1   \n",
              "will_it_rain                         0                    0   \n",
              "chance_of_rain                       0                    0   \n",
              "year                              2021                 2021   \n",
              "month                               12                   12   \n",
              "day                                 10                   10   \n",
              "hour                                 0                    1   \n",
              "dayOfWeek                            4                    4   \n",
              "\n",
              "                                     2                    3  \\\n",
              "name                            Makati               Makati   \n",
              "region                          Manila               Manila   \n",
              "country                    Philippines          Philippines   \n",
              "longitude                       121.03               121.03   \n",
              "latitude                         14.57                14.57   \n",
              "time               2021-12-10 02:00:00  2021-12-10 03:00:00   \n",
              "temp_c                            24.3                 24.1   \n",
              "is_day                               0                    0   \n",
              "condition                        Clear                Clear   \n",
              "wind_kph                           9.6                  8.3   \n",
              "wind_degree                         71                   68   \n",
              "wind_dir                           ENE                  ENE   \n",
              "air_pressure                   1013.58              1013.42   \n",
              "precipitation                      0.0                  0.0   \n",
              "relative_humidity                60.03                 56.4   \n",
              "cloud                               18                   22   \n",
              "feelslike_c                       26.0                 25.8   \n",
              "will_it_rain                         0                    0   \n",
              "chance_of_rain                       0                    0   \n",
              "year                              2021                 2021   \n",
              "month                               12                   12   \n",
              "day                                 10                   10   \n",
              "hour                                 2                    3   \n",
              "dayOfWeek                            4                    4   \n",
              "\n",
              "                                     4  \n",
              "name                            Makati  \n",
              "region                          Manila  \n",
              "country                    Philippines  \n",
              "longitude                       121.03  \n",
              "latitude                         14.57  \n",
              "time               2021-12-10 04:00:00  \n",
              "temp_c                            24.0  \n",
              "is_day                               0  \n",
              "condition                        Clear  \n",
              "wind_kph                           8.2  \n",
              "wind_degree                         59  \n",
              "wind_dir                           ENE  \n",
              "air_pressure                   1012.62  \n",
              "precipitation                      0.0  \n",
              "relative_humidity                 55.9  \n",
              "cloud                               30  \n",
              "feelslike_c                       25.7  \n",
              "will_it_rain                         0  \n",
              "chance_of_rain                       0  \n",
              "year                              2021  \n",
              "month                               12  \n",
              "day                                 10  \n",
              "hour                                 4  \n",
              "dayOfWeek                            4  "
            ],
            "text/html": [
              "\n",
              "  <div id=\"df-3339f3e0-5e49-4056-86c3-9c89a4d36736\">\n",
              "    <div class=\"colab-df-container\">\n",
              "      <div>\n",
              "<style scoped>\n",
              "    .dataframe tbody tr th:only-of-type {\n",
              "        vertical-align: middle;\n",
              "    }\n",
              "\n",
              "    .dataframe tbody tr th {\n",
              "        vertical-align: top;\n",
              "    }\n",
              "\n",
              "    .dataframe thead th {\n",
              "        text-align: right;\n",
              "    }\n",
              "</style>\n",
              "<table border=\"1\" class=\"dataframe\">\n",
              "  <thead>\n",
              "    <tr style=\"text-align: right;\">\n",
              "      <th></th>\n",
              "      <th>0</th>\n",
              "      <th>1</th>\n",
              "      <th>2</th>\n",
              "      <th>3</th>\n",
              "      <th>4</th>\n",
              "    </tr>\n",
              "  </thead>\n",
              "  <tbody>\n",
              "    <tr>\n",
              "      <th>name</th>\n",
              "      <td>Makati</td>\n",
              "      <td>Makati</td>\n",
              "      <td>Makati</td>\n",
              "      <td>Makati</td>\n",
              "      <td>Makati</td>\n",
              "    </tr>\n",
              "    <tr>\n",
              "      <th>region</th>\n",
              "      <td>Manila</td>\n",
              "      <td>Manila</td>\n",
              "      <td>Manila</td>\n",
              "      <td>Manila</td>\n",
              "      <td>Manila</td>\n",
              "    </tr>\n",
              "    <tr>\n",
              "      <th>country</th>\n",
              "      <td>Philippines</td>\n",
              "      <td>Philippines</td>\n",
              "      <td>Philippines</td>\n",
              "      <td>Philippines</td>\n",
              "      <td>Philippines</td>\n",
              "    </tr>\n",
              "    <tr>\n",
              "      <th>longitude</th>\n",
              "      <td>121.03</td>\n",
              "      <td>121.03</td>\n",
              "      <td>121.03</td>\n",
              "      <td>121.03</td>\n",
              "      <td>121.03</td>\n",
              "    </tr>\n",
              "    <tr>\n",
              "      <th>latitude</th>\n",
              "      <td>14.57</td>\n",
              "      <td>14.57</td>\n",
              "      <td>14.57</td>\n",
              "      <td>14.57</td>\n",
              "      <td>14.57</td>\n",
              "    </tr>\n",
              "    <tr>\n",
              "      <th>time</th>\n",
              "      <td>2021-12-10 00:00:00</td>\n",
              "      <td>2021-12-10 01:00:00</td>\n",
              "      <td>2021-12-10 02:00:00</td>\n",
              "      <td>2021-12-10 03:00:00</td>\n",
              "      <td>2021-12-10 04:00:00</td>\n",
              "    </tr>\n",
              "    <tr>\n",
              "      <th>temp_c</th>\n",
              "      <td>24.8</td>\n",
              "      <td>24.6</td>\n",
              "      <td>24.3</td>\n",
              "      <td>24.1</td>\n",
              "      <td>24.0</td>\n",
              "    </tr>\n",
              "    <tr>\n",
              "      <th>is_day</th>\n",
              "      <td>0</td>\n",
              "      <td>0</td>\n",
              "      <td>0</td>\n",
              "      <td>0</td>\n",
              "      <td>0</td>\n",
              "    </tr>\n",
              "    <tr>\n",
              "      <th>condition</th>\n",
              "      <td>Clear</td>\n",
              "      <td>Clear</td>\n",
              "      <td>Clear</td>\n",
              "      <td>Clear</td>\n",
              "      <td>Clear</td>\n",
              "    </tr>\n",
              "    <tr>\n",
              "      <th>wind_kph</th>\n",
              "      <td>12.2</td>\n",
              "      <td>10.9</td>\n",
              "      <td>9.6</td>\n",
              "      <td>8.3</td>\n",
              "      <td>8.2</td>\n",
              "    </tr>\n",
              "    <tr>\n",
              "      <th>wind_degree</th>\n",
              "      <td>78</td>\n",
              "      <td>75</td>\n",
              "      <td>71</td>\n",
              "      <td>68</td>\n",
              "      <td>59</td>\n",
              "    </tr>\n",
              "    <tr>\n",
              "      <th>wind_dir</th>\n",
              "      <td>ENE</td>\n",
              "      <td>ENE</td>\n",
              "      <td>ENE</td>\n",
              "      <td>ENE</td>\n",
              "      <td>ENE</td>\n",
              "    </tr>\n",
              "    <tr>\n",
              "      <th>air_pressure</th>\n",
              "      <td>1013.88</td>\n",
              "      <td>1013.73</td>\n",
              "      <td>1013.58</td>\n",
              "      <td>1013.42</td>\n",
              "      <td>1012.62</td>\n",
              "    </tr>\n",
              "    <tr>\n",
              "      <th>precipitation</th>\n",
              "      <td>0.0</td>\n",
              "      <td>0.0</td>\n",
              "      <td>0.0</td>\n",
              "      <td>0.0</td>\n",
              "      <td>0.0</td>\n",
              "    </tr>\n",
              "    <tr>\n",
              "      <th>relative_humidity</th>\n",
              "      <td>67.3</td>\n",
              "      <td>63.67</td>\n",
              "      <td>60.03</td>\n",
              "      <td>56.4</td>\n",
              "      <td>55.9</td>\n",
              "    </tr>\n",
              "    <tr>\n",
              "      <th>cloud</th>\n",
              "      <td>10</td>\n",
              "      <td>14</td>\n",
              "      <td>18</td>\n",
              "      <td>22</td>\n",
              "      <td>30</td>\n",
              "    </tr>\n",
              "    <tr>\n",
              "      <th>feelslike_c</th>\n",
              "      <td>26.3</td>\n",
              "      <td>26.1</td>\n",
              "      <td>26.0</td>\n",
              "      <td>25.8</td>\n",
              "      <td>25.7</td>\n",
              "    </tr>\n",
              "    <tr>\n",
              "      <th>will_it_rain</th>\n",
              "      <td>0</td>\n",
              "      <td>0</td>\n",
              "      <td>0</td>\n",
              "      <td>0</td>\n",
              "      <td>0</td>\n",
              "    </tr>\n",
              "    <tr>\n",
              "      <th>chance_of_rain</th>\n",
              "      <td>0</td>\n",
              "      <td>0</td>\n",
              "      <td>0</td>\n",
              "      <td>0</td>\n",
              "      <td>0</td>\n",
              "    </tr>\n",
              "    <tr>\n",
              "      <th>year</th>\n",
              "      <td>2021</td>\n",
              "      <td>2021</td>\n",
              "      <td>2021</td>\n",
              "      <td>2021</td>\n",
              "      <td>2021</td>\n",
              "    </tr>\n",
              "    <tr>\n",
              "      <th>month</th>\n",
              "      <td>12</td>\n",
              "      <td>12</td>\n",
              "      <td>12</td>\n",
              "      <td>12</td>\n",
              "      <td>12</td>\n",
              "    </tr>\n",
              "    <tr>\n",
              "      <th>day</th>\n",
              "      <td>10</td>\n",
              "      <td>10</td>\n",
              "      <td>10</td>\n",
              "      <td>10</td>\n",
              "      <td>10</td>\n",
              "    </tr>\n",
              "    <tr>\n",
              "      <th>hour</th>\n",
              "      <td>0</td>\n",
              "      <td>1</td>\n",
              "      <td>2</td>\n",
              "      <td>3</td>\n",
              "      <td>4</td>\n",
              "    </tr>\n",
              "    <tr>\n",
              "      <th>dayOfWeek</th>\n",
              "      <td>4</td>\n",
              "      <td>4</td>\n",
              "      <td>4</td>\n",
              "      <td>4</td>\n",
              "      <td>4</td>\n",
              "    </tr>\n",
              "  </tbody>\n",
              "</table>\n",
              "</div>\n",
              "      <button class=\"colab-df-convert\" onclick=\"convertToInteractive('df-3339f3e0-5e49-4056-86c3-9c89a4d36736')\"\n",
              "              title=\"Convert this dataframe to an interactive table.\"\n",
              "              style=\"display:none;\">\n",
              "        \n",
              "  <svg xmlns=\"http://www.w3.org/2000/svg\" height=\"24px\"viewBox=\"0 0 24 24\"\n",
              "       width=\"24px\">\n",
              "    <path d=\"M0 0h24v24H0V0z\" fill=\"none\"/>\n",
              "    <path d=\"M18.56 5.44l.94 2.06.94-2.06 2.06-.94-2.06-.94-.94-2.06-.94 2.06-2.06.94zm-11 1L8.5 8.5l.94-2.06 2.06-.94-2.06-.94L8.5 2.5l-.94 2.06-2.06.94zm10 10l.94 2.06.94-2.06 2.06-.94-2.06-.94-.94-2.06-.94 2.06-2.06.94z\"/><path d=\"M17.41 7.96l-1.37-1.37c-.4-.4-.92-.59-1.43-.59-.52 0-1.04.2-1.43.59L10.3 9.45l-7.72 7.72c-.78.78-.78 2.05 0 2.83L4 21.41c.39.39.9.59 1.41.59.51 0 1.02-.2 1.41-.59l7.78-7.78 2.81-2.81c.8-.78.8-2.07 0-2.86zM5.41 20L4 18.59l7.72-7.72 1.47 1.35L5.41 20z\"/>\n",
              "  </svg>\n",
              "      </button>\n",
              "      \n",
              "  <style>\n",
              "    .colab-df-container {\n",
              "      display:flex;\n",
              "      flex-wrap:wrap;\n",
              "      gap: 12px;\n",
              "    }\n",
              "\n",
              "    .colab-df-convert {\n",
              "      background-color: #E8F0FE;\n",
              "      border: none;\n",
              "      border-radius: 50%;\n",
              "      cursor: pointer;\n",
              "      display: none;\n",
              "      fill: #1967D2;\n",
              "      height: 32px;\n",
              "      padding: 0 0 0 0;\n",
              "      width: 32px;\n",
              "    }\n",
              "\n",
              "    .colab-df-convert:hover {\n",
              "      background-color: #E2EBFA;\n",
              "      box-shadow: 0px 1px 2px rgba(60, 64, 67, 0.3), 0px 1px 3px 1px rgba(60, 64, 67, 0.15);\n",
              "      fill: #174EA6;\n",
              "    }\n",
              "\n",
              "    [theme=dark] .colab-df-convert {\n",
              "      background-color: #3B4455;\n",
              "      fill: #D2E3FC;\n",
              "    }\n",
              "\n",
              "    [theme=dark] .colab-df-convert:hover {\n",
              "      background-color: #434B5C;\n",
              "      box-shadow: 0px 1px 3px 1px rgba(0, 0, 0, 0.15);\n",
              "      filter: drop-shadow(0px 1px 2px rgba(0, 0, 0, 0.3));\n",
              "      fill: #FFFFFF;\n",
              "    }\n",
              "  </style>\n",
              "\n",
              "      <script>\n",
              "        const buttonEl =\n",
              "          document.querySelector('#df-3339f3e0-5e49-4056-86c3-9c89a4d36736 button.colab-df-convert');\n",
              "        buttonEl.style.display =\n",
              "          google.colab.kernel.accessAllowed ? 'block' : 'none';\n",
              "\n",
              "        async function convertToInteractive(key) {\n",
              "          const element = document.querySelector('#df-3339f3e0-5e49-4056-86c3-9c89a4d36736');\n",
              "          const dataTable =\n",
              "            await google.colab.kernel.invokeFunction('convertToInteractive',\n",
              "                                                     [key], {});\n",
              "          if (!dataTable) return;\n",
              "\n",
              "          const docLinkHtml = 'Like what you see? Visit the ' +\n",
              "            '<a target=\"_blank\" href=https://colab.research.google.com/notebooks/data_table.ipynb>data table notebook</a>'\n",
              "            + ' to learn more about interactive tables.';\n",
              "          element.innerHTML = '';\n",
              "          dataTable['output_type'] = 'display_data';\n",
              "          await google.colab.output.renderOutput(dataTable, element);\n",
              "          const docLink = document.createElement('div');\n",
              "          docLink.innerHTML = docLinkHtml;\n",
              "          element.appendChild(docLink);\n",
              "        }\n",
              "      </script>\n",
              "    </div>\n",
              "  </div>\n",
              "  "
            ]
          },
          "metadata": {},
          "execution_count": 45
        }
      ],
      "source": [
        "df['year'] = df.time.dt.year\n",
        "df['month'] = df.time.dt.month\n",
        "df['day'] = df.time.dt.day\n",
        "df['hour'] = df.time.dt.hour\n",
        "df['dayOfWeek'] = df.time.dt.dayofweek\n",
        "\n",
        "df.head().T"
      ]
    },
    {
      "cell_type": "code",
      "execution_count": 46,
      "metadata": {
        "colab": {
          "base_uri": "https://localhost:8080/",
          "height": 863
        },
        "id": "EtZgSuVh5uR0",
        "outputId": "c225e7c5-fab2-4a5d-fb4c-2131903035bd"
      },
      "outputs": [
        {
          "output_type": "execute_result",
          "data": {
            "text/plain": [
              "                                  2227                 2228  \\\n",
              "name                            Makati               Makati   \n",
              "region                     Makati City          Makati City   \n",
              "country                    Philippines          Philippines   \n",
              "longitude                       121.03               121.03   \n",
              "latitude                         14.57                14.57   \n",
              "time               2022-03-12 19:00:00  2022-03-12 20:00:00   \n",
              "temp_c                            28.3                 27.8   \n",
              "is_day                               0                    0   \n",
              "condition                Partly cloudy                Clear   \n",
              "wind_kph                          15.4                 13.4   \n",
              "wind_degree                         85                   85   \n",
              "wind_dir                             E                    E   \n",
              "air_pressure                   1008.35              1008.31   \n",
              "precipitation                     0.01                 0.01   \n",
              "relative_humidity                 73.2                 73.4   \n",
              "cloud                               37                   29   \n",
              "feelslike_c                       31.1                 30.5   \n",
              "will_it_rain                         0                    0   \n",
              "chance_of_rain                       1                    0   \n",
              "year                              2022                 2022   \n",
              "month                                3                    3   \n",
              "day                                 12                   12   \n",
              "hour                                19                   20   \n",
              "dayOfWeek                            5                    5   \n",
              "\n",
              "                                  2229                 2230  \\\n",
              "name                            Makati               Makati   \n",
              "region                     Makati City          Makati City   \n",
              "country                    Philippines          Philippines   \n",
              "longitude                       121.03               121.03   \n",
              "latitude                         14.57                14.57   \n",
              "time               2022-03-12 21:00:00  2022-03-12 22:00:00   \n",
              "temp_c                            27.3                 27.1   \n",
              "is_day                               0                    0   \n",
              "condition                        Clear                Clear   \n",
              "wind_kph                          11.5                 10.8   \n",
              "wind_degree                         85                   83   \n",
              "wind_dir                             E                    E   \n",
              "air_pressure                   1008.26              1008.87   \n",
              "precipitation                     0.01                 0.01   \n",
              "relative_humidity                 73.6                 73.1   \n",
              "cloud                               22                   29   \n",
              "feelslike_c                       29.9                 29.6   \n",
              "will_it_rain                         0                    0   \n",
              "chance_of_rain                       0                    0   \n",
              "year                              2022                 2022   \n",
              "month                                3                    3   \n",
              "day                                 12                   12   \n",
              "hour                                21                   22   \n",
              "dayOfWeek                            5                    5   \n",
              "\n",
              "                                  2231  \n",
              "name                            Makati  \n",
              "region                     Makati City  \n",
              "country                    Philippines  \n",
              "longitude                       121.03  \n",
              "latitude                         14.57  \n",
              "time               2022-03-12 23:00:00  \n",
              "temp_c                            26.8  \n",
              "is_day                               0  \n",
              "condition                Partly cloudy  \n",
              "wind_kph                          10.1  \n",
              "wind_degree                         80  \n",
              "wind_dir                             E  \n",
              "air_pressure                   1009.48  \n",
              "precipitation                     0.01  \n",
              "relative_humidity                 72.6  \n",
              "cloud                               37  \n",
              "feelslike_c                       29.3  \n",
              "will_it_rain                         0  \n",
              "chance_of_rain                       1  \n",
              "year                              2022  \n",
              "month                                3  \n",
              "day                                 12  \n",
              "hour                                23  \n",
              "dayOfWeek                            5  "
            ],
            "text/html": [
              "\n",
              "  <div id=\"df-21e342a0-59d8-4d7b-bb49-c185c4163b36\">\n",
              "    <div class=\"colab-df-container\">\n",
              "      <div>\n",
              "<style scoped>\n",
              "    .dataframe tbody tr th:only-of-type {\n",
              "        vertical-align: middle;\n",
              "    }\n",
              "\n",
              "    .dataframe tbody tr th {\n",
              "        vertical-align: top;\n",
              "    }\n",
              "\n",
              "    .dataframe thead th {\n",
              "        text-align: right;\n",
              "    }\n",
              "</style>\n",
              "<table border=\"1\" class=\"dataframe\">\n",
              "  <thead>\n",
              "    <tr style=\"text-align: right;\">\n",
              "      <th></th>\n",
              "      <th>2227</th>\n",
              "      <th>2228</th>\n",
              "      <th>2229</th>\n",
              "      <th>2230</th>\n",
              "      <th>2231</th>\n",
              "    </tr>\n",
              "  </thead>\n",
              "  <tbody>\n",
              "    <tr>\n",
              "      <th>name</th>\n",
              "      <td>Makati</td>\n",
              "      <td>Makati</td>\n",
              "      <td>Makati</td>\n",
              "      <td>Makati</td>\n",
              "      <td>Makati</td>\n",
              "    </tr>\n",
              "    <tr>\n",
              "      <th>region</th>\n",
              "      <td>Makati City</td>\n",
              "      <td>Makati City</td>\n",
              "      <td>Makati City</td>\n",
              "      <td>Makati City</td>\n",
              "      <td>Makati City</td>\n",
              "    </tr>\n",
              "    <tr>\n",
              "      <th>country</th>\n",
              "      <td>Philippines</td>\n",
              "      <td>Philippines</td>\n",
              "      <td>Philippines</td>\n",
              "      <td>Philippines</td>\n",
              "      <td>Philippines</td>\n",
              "    </tr>\n",
              "    <tr>\n",
              "      <th>longitude</th>\n",
              "      <td>121.03</td>\n",
              "      <td>121.03</td>\n",
              "      <td>121.03</td>\n",
              "      <td>121.03</td>\n",
              "      <td>121.03</td>\n",
              "    </tr>\n",
              "    <tr>\n",
              "      <th>latitude</th>\n",
              "      <td>14.57</td>\n",
              "      <td>14.57</td>\n",
              "      <td>14.57</td>\n",
              "      <td>14.57</td>\n",
              "      <td>14.57</td>\n",
              "    </tr>\n",
              "    <tr>\n",
              "      <th>time</th>\n",
              "      <td>2022-03-12 19:00:00</td>\n",
              "      <td>2022-03-12 20:00:00</td>\n",
              "      <td>2022-03-12 21:00:00</td>\n",
              "      <td>2022-03-12 22:00:00</td>\n",
              "      <td>2022-03-12 23:00:00</td>\n",
              "    </tr>\n",
              "    <tr>\n",
              "      <th>temp_c</th>\n",
              "      <td>28.3</td>\n",
              "      <td>27.8</td>\n",
              "      <td>27.3</td>\n",
              "      <td>27.1</td>\n",
              "      <td>26.8</td>\n",
              "    </tr>\n",
              "    <tr>\n",
              "      <th>is_day</th>\n",
              "      <td>0</td>\n",
              "      <td>0</td>\n",
              "      <td>0</td>\n",
              "      <td>0</td>\n",
              "      <td>0</td>\n",
              "    </tr>\n",
              "    <tr>\n",
              "      <th>condition</th>\n",
              "      <td>Partly cloudy</td>\n",
              "      <td>Clear</td>\n",
              "      <td>Clear</td>\n",
              "      <td>Clear</td>\n",
              "      <td>Partly cloudy</td>\n",
              "    </tr>\n",
              "    <tr>\n",
              "      <th>wind_kph</th>\n",
              "      <td>15.4</td>\n",
              "      <td>13.4</td>\n",
              "      <td>11.5</td>\n",
              "      <td>10.8</td>\n",
              "      <td>10.1</td>\n",
              "    </tr>\n",
              "    <tr>\n",
              "      <th>wind_degree</th>\n",
              "      <td>85</td>\n",
              "      <td>85</td>\n",
              "      <td>85</td>\n",
              "      <td>83</td>\n",
              "      <td>80</td>\n",
              "    </tr>\n",
              "    <tr>\n",
              "      <th>wind_dir</th>\n",
              "      <td>E</td>\n",
              "      <td>E</td>\n",
              "      <td>E</td>\n",
              "      <td>E</td>\n",
              "      <td>E</td>\n",
              "    </tr>\n",
              "    <tr>\n",
              "      <th>air_pressure</th>\n",
              "      <td>1008.35</td>\n",
              "      <td>1008.31</td>\n",
              "      <td>1008.26</td>\n",
              "      <td>1008.87</td>\n",
              "      <td>1009.48</td>\n",
              "    </tr>\n",
              "    <tr>\n",
              "      <th>precipitation</th>\n",
              "      <td>0.01</td>\n",
              "      <td>0.01</td>\n",
              "      <td>0.01</td>\n",
              "      <td>0.01</td>\n",
              "      <td>0.01</td>\n",
              "    </tr>\n",
              "    <tr>\n",
              "      <th>relative_humidity</th>\n",
              "      <td>73.2</td>\n",
              "      <td>73.4</td>\n",
              "      <td>73.6</td>\n",
              "      <td>73.1</td>\n",
              "      <td>72.6</td>\n",
              "    </tr>\n",
              "    <tr>\n",
              "      <th>cloud</th>\n",
              "      <td>37</td>\n",
              "      <td>29</td>\n",
              "      <td>22</td>\n",
              "      <td>29</td>\n",
              "      <td>37</td>\n",
              "    </tr>\n",
              "    <tr>\n",
              "      <th>feelslike_c</th>\n",
              "      <td>31.1</td>\n",
              "      <td>30.5</td>\n",
              "      <td>29.9</td>\n",
              "      <td>29.6</td>\n",
              "      <td>29.3</td>\n",
              "    </tr>\n",
              "    <tr>\n",
              "      <th>will_it_rain</th>\n",
              "      <td>0</td>\n",
              "      <td>0</td>\n",
              "      <td>0</td>\n",
              "      <td>0</td>\n",
              "      <td>0</td>\n",
              "    </tr>\n",
              "    <tr>\n",
              "      <th>chance_of_rain</th>\n",
              "      <td>1</td>\n",
              "      <td>0</td>\n",
              "      <td>0</td>\n",
              "      <td>0</td>\n",
              "      <td>1</td>\n",
              "    </tr>\n",
              "    <tr>\n",
              "      <th>year</th>\n",
              "      <td>2022</td>\n",
              "      <td>2022</td>\n",
              "      <td>2022</td>\n",
              "      <td>2022</td>\n",
              "      <td>2022</td>\n",
              "    </tr>\n",
              "    <tr>\n",
              "      <th>month</th>\n",
              "      <td>3</td>\n",
              "      <td>3</td>\n",
              "      <td>3</td>\n",
              "      <td>3</td>\n",
              "      <td>3</td>\n",
              "    </tr>\n",
              "    <tr>\n",
              "      <th>day</th>\n",
              "      <td>12</td>\n",
              "      <td>12</td>\n",
              "      <td>12</td>\n",
              "      <td>12</td>\n",
              "      <td>12</td>\n",
              "    </tr>\n",
              "    <tr>\n",
              "      <th>hour</th>\n",
              "      <td>19</td>\n",
              "      <td>20</td>\n",
              "      <td>21</td>\n",
              "      <td>22</td>\n",
              "      <td>23</td>\n",
              "    </tr>\n",
              "    <tr>\n",
              "      <th>dayOfWeek</th>\n",
              "      <td>5</td>\n",
              "      <td>5</td>\n",
              "      <td>5</td>\n",
              "      <td>5</td>\n",
              "      <td>5</td>\n",
              "    </tr>\n",
              "  </tbody>\n",
              "</table>\n",
              "</div>\n",
              "      <button class=\"colab-df-convert\" onclick=\"convertToInteractive('df-21e342a0-59d8-4d7b-bb49-c185c4163b36')\"\n",
              "              title=\"Convert this dataframe to an interactive table.\"\n",
              "              style=\"display:none;\">\n",
              "        \n",
              "  <svg xmlns=\"http://www.w3.org/2000/svg\" height=\"24px\"viewBox=\"0 0 24 24\"\n",
              "       width=\"24px\">\n",
              "    <path d=\"M0 0h24v24H0V0z\" fill=\"none\"/>\n",
              "    <path d=\"M18.56 5.44l.94 2.06.94-2.06 2.06-.94-2.06-.94-.94-2.06-.94 2.06-2.06.94zm-11 1L8.5 8.5l.94-2.06 2.06-.94-2.06-.94L8.5 2.5l-.94 2.06-2.06.94zm10 10l.94 2.06.94-2.06 2.06-.94-2.06-.94-.94-2.06-.94 2.06-2.06.94z\"/><path d=\"M17.41 7.96l-1.37-1.37c-.4-.4-.92-.59-1.43-.59-.52 0-1.04.2-1.43.59L10.3 9.45l-7.72 7.72c-.78.78-.78 2.05 0 2.83L4 21.41c.39.39.9.59 1.41.59.51 0 1.02-.2 1.41-.59l7.78-7.78 2.81-2.81c.8-.78.8-2.07 0-2.86zM5.41 20L4 18.59l7.72-7.72 1.47 1.35L5.41 20z\"/>\n",
              "  </svg>\n",
              "      </button>\n",
              "      \n",
              "  <style>\n",
              "    .colab-df-container {\n",
              "      display:flex;\n",
              "      flex-wrap:wrap;\n",
              "      gap: 12px;\n",
              "    }\n",
              "\n",
              "    .colab-df-convert {\n",
              "      background-color: #E8F0FE;\n",
              "      border: none;\n",
              "      border-radius: 50%;\n",
              "      cursor: pointer;\n",
              "      display: none;\n",
              "      fill: #1967D2;\n",
              "      height: 32px;\n",
              "      padding: 0 0 0 0;\n",
              "      width: 32px;\n",
              "    }\n",
              "\n",
              "    .colab-df-convert:hover {\n",
              "      background-color: #E2EBFA;\n",
              "      box-shadow: 0px 1px 2px rgba(60, 64, 67, 0.3), 0px 1px 3px 1px rgba(60, 64, 67, 0.15);\n",
              "      fill: #174EA6;\n",
              "    }\n",
              "\n",
              "    [theme=dark] .colab-df-convert {\n",
              "      background-color: #3B4455;\n",
              "      fill: #D2E3FC;\n",
              "    }\n",
              "\n",
              "    [theme=dark] .colab-df-convert:hover {\n",
              "      background-color: #434B5C;\n",
              "      box-shadow: 0px 1px 3px 1px rgba(0, 0, 0, 0.15);\n",
              "      filter: drop-shadow(0px 1px 2px rgba(0, 0, 0, 0.3));\n",
              "      fill: #FFFFFF;\n",
              "    }\n",
              "  </style>\n",
              "\n",
              "      <script>\n",
              "        const buttonEl =\n",
              "          document.querySelector('#df-21e342a0-59d8-4d7b-bb49-c185c4163b36 button.colab-df-convert');\n",
              "        buttonEl.style.display =\n",
              "          google.colab.kernel.accessAllowed ? 'block' : 'none';\n",
              "\n",
              "        async function convertToInteractive(key) {\n",
              "          const element = document.querySelector('#df-21e342a0-59d8-4d7b-bb49-c185c4163b36');\n",
              "          const dataTable =\n",
              "            await google.colab.kernel.invokeFunction('convertToInteractive',\n",
              "                                                     [key], {});\n",
              "          if (!dataTable) return;\n",
              "\n",
              "          const docLinkHtml = 'Like what you see? Visit the ' +\n",
              "            '<a target=\"_blank\" href=https://colab.research.google.com/notebooks/data_table.ipynb>data table notebook</a>'\n",
              "            + ' to learn more about interactive tables.';\n",
              "          element.innerHTML = '';\n",
              "          dataTable['output_type'] = 'display_data';\n",
              "          await google.colab.output.renderOutput(dataTable, element);\n",
              "          const docLink = document.createElement('div');\n",
              "          docLink.innerHTML = docLinkHtml;\n",
              "          element.appendChild(docLink);\n",
              "        }\n",
              "      </script>\n",
              "    </div>\n",
              "  </div>\n",
              "  "
            ]
          },
          "metadata": {},
          "execution_count": 46
        }
      ],
      "source": [
        "df.tail().T"
      ]
    },
    {
      "cell_type": "code",
      "execution_count": 47,
      "metadata": {
        "colab": {
          "base_uri": "https://localhost:8080/",
          "height": 708
        },
        "id": "oDYUWdkW9Gyo",
        "outputId": "90213eac-9216-475e-9583-1e6494e99bc4"
      },
      "outputs": [
        {
          "output_type": "execute_result",
          "data": {
            "text/plain": [
              "                             0            1            2            3  \\\n",
              "name                    Makati       Makati       Makati       Makati   \n",
              "region                  Manila       Manila       Manila       Manila   \n",
              "country            Philippines  Philippines  Philippines  Philippines   \n",
              "longitude               121.03       121.03       121.03       121.03   \n",
              "latitude                 14.57        14.57        14.57        14.57   \n",
              "temp_c                    24.8         24.6         24.3         24.1   \n",
              "is_day                       0            0            0            0   \n",
              "condition                Clear        Clear        Clear        Clear   \n",
              "wind_kph                  12.2         10.9          9.6          8.3   \n",
              "wind_degree                 78           75           71           68   \n",
              "wind_dir                   ENE          ENE          ENE          ENE   \n",
              "air_pressure           1013.88      1013.73      1013.58      1013.42   \n",
              "precipitation              0.0          0.0          0.0          0.0   \n",
              "relative_humidity         67.3        63.67        60.03         56.4   \n",
              "cloud                       10           14           18           22   \n",
              "feelslike_c               26.3         26.1         26.0         25.8   \n",
              "year                      2021         2021         2021         2021   \n",
              "month                       12           12           12           12   \n",
              "day                         10           10           10           10   \n",
              "hour                         0            1            2            3   \n",
              "dayOfWeek                    4            4            4            4   \n",
              "\n",
              "                             4  \n",
              "name                    Makati  \n",
              "region                  Manila  \n",
              "country            Philippines  \n",
              "longitude               121.03  \n",
              "latitude                 14.57  \n",
              "temp_c                    24.0  \n",
              "is_day                       0  \n",
              "condition                Clear  \n",
              "wind_kph                   8.2  \n",
              "wind_degree                 59  \n",
              "wind_dir                   ENE  \n",
              "air_pressure           1012.62  \n",
              "precipitation              0.0  \n",
              "relative_humidity         55.9  \n",
              "cloud                       30  \n",
              "feelslike_c               25.7  \n",
              "year                      2021  \n",
              "month                       12  \n",
              "day                         10  \n",
              "hour                         4  \n",
              "dayOfWeek                    4  "
            ],
            "text/html": [
              "\n",
              "  <div id=\"df-04069e2c-a5a2-4ebe-bd25-3b102b7318f2\">\n",
              "    <div class=\"colab-df-container\">\n",
              "      <div>\n",
              "<style scoped>\n",
              "    .dataframe tbody tr th:only-of-type {\n",
              "        vertical-align: middle;\n",
              "    }\n",
              "\n",
              "    .dataframe tbody tr th {\n",
              "        vertical-align: top;\n",
              "    }\n",
              "\n",
              "    .dataframe thead th {\n",
              "        text-align: right;\n",
              "    }\n",
              "</style>\n",
              "<table border=\"1\" class=\"dataframe\">\n",
              "  <thead>\n",
              "    <tr style=\"text-align: right;\">\n",
              "      <th></th>\n",
              "      <th>0</th>\n",
              "      <th>1</th>\n",
              "      <th>2</th>\n",
              "      <th>3</th>\n",
              "      <th>4</th>\n",
              "    </tr>\n",
              "  </thead>\n",
              "  <tbody>\n",
              "    <tr>\n",
              "      <th>name</th>\n",
              "      <td>Makati</td>\n",
              "      <td>Makati</td>\n",
              "      <td>Makati</td>\n",
              "      <td>Makati</td>\n",
              "      <td>Makati</td>\n",
              "    </tr>\n",
              "    <tr>\n",
              "      <th>region</th>\n",
              "      <td>Manila</td>\n",
              "      <td>Manila</td>\n",
              "      <td>Manila</td>\n",
              "      <td>Manila</td>\n",
              "      <td>Manila</td>\n",
              "    </tr>\n",
              "    <tr>\n",
              "      <th>country</th>\n",
              "      <td>Philippines</td>\n",
              "      <td>Philippines</td>\n",
              "      <td>Philippines</td>\n",
              "      <td>Philippines</td>\n",
              "      <td>Philippines</td>\n",
              "    </tr>\n",
              "    <tr>\n",
              "      <th>longitude</th>\n",
              "      <td>121.03</td>\n",
              "      <td>121.03</td>\n",
              "      <td>121.03</td>\n",
              "      <td>121.03</td>\n",
              "      <td>121.03</td>\n",
              "    </tr>\n",
              "    <tr>\n",
              "      <th>latitude</th>\n",
              "      <td>14.57</td>\n",
              "      <td>14.57</td>\n",
              "      <td>14.57</td>\n",
              "      <td>14.57</td>\n",
              "      <td>14.57</td>\n",
              "    </tr>\n",
              "    <tr>\n",
              "      <th>temp_c</th>\n",
              "      <td>24.8</td>\n",
              "      <td>24.6</td>\n",
              "      <td>24.3</td>\n",
              "      <td>24.1</td>\n",
              "      <td>24.0</td>\n",
              "    </tr>\n",
              "    <tr>\n",
              "      <th>is_day</th>\n",
              "      <td>0</td>\n",
              "      <td>0</td>\n",
              "      <td>0</td>\n",
              "      <td>0</td>\n",
              "      <td>0</td>\n",
              "    </tr>\n",
              "    <tr>\n",
              "      <th>condition</th>\n",
              "      <td>Clear</td>\n",
              "      <td>Clear</td>\n",
              "      <td>Clear</td>\n",
              "      <td>Clear</td>\n",
              "      <td>Clear</td>\n",
              "    </tr>\n",
              "    <tr>\n",
              "      <th>wind_kph</th>\n",
              "      <td>12.2</td>\n",
              "      <td>10.9</td>\n",
              "      <td>9.6</td>\n",
              "      <td>8.3</td>\n",
              "      <td>8.2</td>\n",
              "    </tr>\n",
              "    <tr>\n",
              "      <th>wind_degree</th>\n",
              "      <td>78</td>\n",
              "      <td>75</td>\n",
              "      <td>71</td>\n",
              "      <td>68</td>\n",
              "      <td>59</td>\n",
              "    </tr>\n",
              "    <tr>\n",
              "      <th>wind_dir</th>\n",
              "      <td>ENE</td>\n",
              "      <td>ENE</td>\n",
              "      <td>ENE</td>\n",
              "      <td>ENE</td>\n",
              "      <td>ENE</td>\n",
              "    </tr>\n",
              "    <tr>\n",
              "      <th>air_pressure</th>\n",
              "      <td>1013.88</td>\n",
              "      <td>1013.73</td>\n",
              "      <td>1013.58</td>\n",
              "      <td>1013.42</td>\n",
              "      <td>1012.62</td>\n",
              "    </tr>\n",
              "    <tr>\n",
              "      <th>precipitation</th>\n",
              "      <td>0.0</td>\n",
              "      <td>0.0</td>\n",
              "      <td>0.0</td>\n",
              "      <td>0.0</td>\n",
              "      <td>0.0</td>\n",
              "    </tr>\n",
              "    <tr>\n",
              "      <th>relative_humidity</th>\n",
              "      <td>67.3</td>\n",
              "      <td>63.67</td>\n",
              "      <td>60.03</td>\n",
              "      <td>56.4</td>\n",
              "      <td>55.9</td>\n",
              "    </tr>\n",
              "    <tr>\n",
              "      <th>cloud</th>\n",
              "      <td>10</td>\n",
              "      <td>14</td>\n",
              "      <td>18</td>\n",
              "      <td>22</td>\n",
              "      <td>30</td>\n",
              "    </tr>\n",
              "    <tr>\n",
              "      <th>feelslike_c</th>\n",
              "      <td>26.3</td>\n",
              "      <td>26.1</td>\n",
              "      <td>26.0</td>\n",
              "      <td>25.8</td>\n",
              "      <td>25.7</td>\n",
              "    </tr>\n",
              "    <tr>\n",
              "      <th>year</th>\n",
              "      <td>2021</td>\n",
              "      <td>2021</td>\n",
              "      <td>2021</td>\n",
              "      <td>2021</td>\n",
              "      <td>2021</td>\n",
              "    </tr>\n",
              "    <tr>\n",
              "      <th>month</th>\n",
              "      <td>12</td>\n",
              "      <td>12</td>\n",
              "      <td>12</td>\n",
              "      <td>12</td>\n",
              "      <td>12</td>\n",
              "    </tr>\n",
              "    <tr>\n",
              "      <th>day</th>\n",
              "      <td>10</td>\n",
              "      <td>10</td>\n",
              "      <td>10</td>\n",
              "      <td>10</td>\n",
              "      <td>10</td>\n",
              "    </tr>\n",
              "    <tr>\n",
              "      <th>hour</th>\n",
              "      <td>0</td>\n",
              "      <td>1</td>\n",
              "      <td>2</td>\n",
              "      <td>3</td>\n",
              "      <td>4</td>\n",
              "    </tr>\n",
              "    <tr>\n",
              "      <th>dayOfWeek</th>\n",
              "      <td>4</td>\n",
              "      <td>4</td>\n",
              "      <td>4</td>\n",
              "      <td>4</td>\n",
              "      <td>4</td>\n",
              "    </tr>\n",
              "  </tbody>\n",
              "</table>\n",
              "</div>\n",
              "      <button class=\"colab-df-convert\" onclick=\"convertToInteractive('df-04069e2c-a5a2-4ebe-bd25-3b102b7318f2')\"\n",
              "              title=\"Convert this dataframe to an interactive table.\"\n",
              "              style=\"display:none;\">\n",
              "        \n",
              "  <svg xmlns=\"http://www.w3.org/2000/svg\" height=\"24px\"viewBox=\"0 0 24 24\"\n",
              "       width=\"24px\">\n",
              "    <path d=\"M0 0h24v24H0V0z\" fill=\"none\"/>\n",
              "    <path d=\"M18.56 5.44l.94 2.06.94-2.06 2.06-.94-2.06-.94-.94-2.06-.94 2.06-2.06.94zm-11 1L8.5 8.5l.94-2.06 2.06-.94-2.06-.94L8.5 2.5l-.94 2.06-2.06.94zm10 10l.94 2.06.94-2.06 2.06-.94-2.06-.94-.94-2.06-.94 2.06-2.06.94z\"/><path d=\"M17.41 7.96l-1.37-1.37c-.4-.4-.92-.59-1.43-.59-.52 0-1.04.2-1.43.59L10.3 9.45l-7.72 7.72c-.78.78-.78 2.05 0 2.83L4 21.41c.39.39.9.59 1.41.59.51 0 1.02-.2 1.41-.59l7.78-7.78 2.81-2.81c.8-.78.8-2.07 0-2.86zM5.41 20L4 18.59l7.72-7.72 1.47 1.35L5.41 20z\"/>\n",
              "  </svg>\n",
              "      </button>\n",
              "      \n",
              "  <style>\n",
              "    .colab-df-container {\n",
              "      display:flex;\n",
              "      flex-wrap:wrap;\n",
              "      gap: 12px;\n",
              "    }\n",
              "\n",
              "    .colab-df-convert {\n",
              "      background-color: #E8F0FE;\n",
              "      border: none;\n",
              "      border-radius: 50%;\n",
              "      cursor: pointer;\n",
              "      display: none;\n",
              "      fill: #1967D2;\n",
              "      height: 32px;\n",
              "      padding: 0 0 0 0;\n",
              "      width: 32px;\n",
              "    }\n",
              "\n",
              "    .colab-df-convert:hover {\n",
              "      background-color: #E2EBFA;\n",
              "      box-shadow: 0px 1px 2px rgba(60, 64, 67, 0.3), 0px 1px 3px 1px rgba(60, 64, 67, 0.15);\n",
              "      fill: #174EA6;\n",
              "    }\n",
              "\n",
              "    [theme=dark] .colab-df-convert {\n",
              "      background-color: #3B4455;\n",
              "      fill: #D2E3FC;\n",
              "    }\n",
              "\n",
              "    [theme=dark] .colab-df-convert:hover {\n",
              "      background-color: #434B5C;\n",
              "      box-shadow: 0px 1px 3px 1px rgba(0, 0, 0, 0.15);\n",
              "      filter: drop-shadow(0px 1px 2px rgba(0, 0, 0, 0.3));\n",
              "      fill: #FFFFFF;\n",
              "    }\n",
              "  </style>\n",
              "\n",
              "      <script>\n",
              "        const buttonEl =\n",
              "          document.querySelector('#df-04069e2c-a5a2-4ebe-bd25-3b102b7318f2 button.colab-df-convert');\n",
              "        buttonEl.style.display =\n",
              "          google.colab.kernel.accessAllowed ? 'block' : 'none';\n",
              "\n",
              "        async function convertToInteractive(key) {\n",
              "          const element = document.querySelector('#df-04069e2c-a5a2-4ebe-bd25-3b102b7318f2');\n",
              "          const dataTable =\n",
              "            await google.colab.kernel.invokeFunction('convertToInteractive',\n",
              "                                                     [key], {});\n",
              "          if (!dataTable) return;\n",
              "\n",
              "          const docLinkHtml = 'Like what you see? Visit the ' +\n",
              "            '<a target=\"_blank\" href=https://colab.research.google.com/notebooks/data_table.ipynb>data table notebook</a>'\n",
              "            + ' to learn more about interactive tables.';\n",
              "          element.innerHTML = '';\n",
              "          dataTable['output_type'] = 'display_data';\n",
              "          await google.colab.output.renderOutput(dataTable, element);\n",
              "          const docLink = document.createElement('div');\n",
              "          docLink.innerHTML = docLinkHtml;\n",
              "          element.appendChild(docLink);\n",
              "        }\n",
              "      </script>\n",
              "    </div>\n",
              "  </div>\n",
              "  "
            ]
          },
          "metadata": {},
          "execution_count": 47
        }
      ],
      "source": [
        "x_time = df['time']\n",
        "df.drop(columns=['time'], inplace=True, axis=1)\n",
        "df.drop(columns=['will_it_rain', 'chance_of_rain'], inplace=True, axis=1)\n",
        "df.head().T"
      ]
    },
    {
      "cell_type": "markdown",
      "metadata": {
        "id": "IlFOLPQO9VPy"
      },
      "source": [
        "## Model driven EDA"
      ]
    },
    {
      "cell_type": "code",
      "execution_count": 48,
      "metadata": {
        "id": "zOLWBiVEBHgX"
      },
      "outputs": [],
      "source": [
        "from sklearn.ensemble import RandomForestRegressor \n",
        "\n",
        "model = RandomForestRegressor(\n",
        "    n_jobs=1,\n",
        "    random_state=42\n",
        ")"
      ]
    },
    {
      "cell_type": "markdown",
      "metadata": {
        "id": "gtvKG3HZBcjc"
      },
      "source": [
        "### Turning data into pandas categories"
      ]
    },
    {
      "cell_type": "code",
      "execution_count": 49,
      "metadata": {
        "colab": {
          "base_uri": "https://localhost:8080/"
        },
        "id": "Nz_ZFSvmBfDt",
        "outputId": "ba876632-8737-4ad5-9e7a-a79766cf158d"
      },
      "outputs": [
        {
          "output_type": "stream",
          "name": "stdout",
          "text": [
            "name\n",
            "region\n",
            "country\n",
            "condition\n",
            "wind_dir\n"
          ]
        }
      ],
      "source": [
        "for label, content in df.items():\n",
        "    if pd.api.types.is_string_dtype(content):\n",
        "        print(label)"
      ]
    },
    {
      "cell_type": "code",
      "execution_count": 50,
      "metadata": {
        "id": "5By1HkPEBnBO"
      },
      "outputs": [],
      "source": [
        "for label, content in df.items(): \n",
        "    if pd.api.types.is_string_dtype(content):\n",
        "        df[label] = content.astype('category').cat.as_ordered()"
      ]
    },
    {
      "cell_type": "code",
      "execution_count": 51,
      "metadata": {
        "colab": {
          "base_uri": "https://localhost:8080/"
        },
        "id": "jn63oXi5B5x8",
        "outputId": "2d42cd29-906e-4b20-b398-1d9a2fa40b78"
      },
      "outputs": [
        {
          "output_type": "stream",
          "name": "stdout",
          "text": [
            "<class 'pandas.core.frame.DataFrame'>\n",
            "RangeIndex: 2232 entries, 0 to 2231\n",
            "Data columns (total 21 columns):\n",
            " #   Column             Non-Null Count  Dtype   \n",
            "---  ------             --------------  -----   \n",
            " 0   name               2232 non-null   category\n",
            " 1   region             2232 non-null   category\n",
            " 2   country            2232 non-null   category\n",
            " 3   longitude          2232 non-null   float64 \n",
            " 4   latitude           2232 non-null   float64 \n",
            " 5   temp_c             2232 non-null   float64 \n",
            " 6   is_day             2232 non-null   int64   \n",
            " 7   condition          2232 non-null   category\n",
            " 8   wind_kph           2232 non-null   float64 \n",
            " 9   wind_degree        2232 non-null   int64   \n",
            " 10  wind_dir           2232 non-null   category\n",
            " 11  air_pressure       2232 non-null   float64 \n",
            " 12  precipitation      2232 non-null   float64 \n",
            " 13  relative_humidity  2232 non-null   float64 \n",
            " 14  cloud              2232 non-null   int64   \n",
            " 15  feelslike_c        2232 non-null   float64 \n",
            " 16  year               2232 non-null   int64   \n",
            " 17  month              2232 non-null   int64   \n",
            " 18  day                2232 non-null   int64   \n",
            " 19  hour               2232 non-null   int64   \n",
            " 20  dayOfWeek          2232 non-null   int64   \n",
            "dtypes: category(5), float64(8), int64(8)\n",
            "memory usage: 291.4 KB\n"
          ]
        }
      ],
      "source": [
        "df.info()"
      ]
    },
    {
      "cell_type": "code",
      "execution_count": 52,
      "metadata": {
        "colab": {
          "base_uri": "https://localhost:8080/"
        },
        "id": "_Y5LVTlUB7Di",
        "outputId": "6b4c9080-5c2f-48c3-a895-65fd633c7255"
      },
      "outputs": [
        {
          "output_type": "stream",
          "name": "stdout",
          "text": [
            "name                 0.0\n",
            "region               0.0\n",
            "country              0.0\n",
            "longitude            0.0\n",
            "latitude             0.0\n",
            "temp_c               0.0\n",
            "is_day               0.0\n",
            "condition            0.0\n",
            "wind_kph             0.0\n",
            "wind_degree          0.0\n",
            "wind_dir             0.0\n",
            "air_pressure         0.0\n",
            "precipitation        0.0\n",
            "relative_humidity    0.0\n",
            "cloud                0.0\n",
            "feelslike_c          0.0\n",
            "year                 0.0\n",
            "month                0.0\n",
            "day                  0.0\n",
            "hour                 0.0\n",
            "dayOfWeek            0.0\n",
            "dtype: float64%\n"
          ]
        }
      ],
      "source": [
        "print(f'{df.isnull().sum() / len(df) * 100}%')"
      ]
    },
    {
      "cell_type": "code",
      "execution_count": 53,
      "metadata": {
        "id": "DZwoN6N0CGoT"
      },
      "outputs": [],
      "source": [
        "\n",
        "\n",
        "# Check if there is any null numeric values\n",
        "for label, content in df.items():\n",
        "    if pd.api.types.is_numeric_dtype(content):\n",
        "        if pd.isnull(content).sum():\n",
        "            print(label)"
      ]
    },
    {
      "cell_type": "code",
      "execution_count": 54,
      "metadata": {
        "colab": {
          "base_uri": "https://localhost:8080/"
        },
        "id": "bXRzy5BvCgsD",
        "outputId": "48aba393-7d5a-44ef-bf6f-1775f5192668"
      },
      "outputs": [
        {
          "output_type": "stream",
          "name": "stdout",
          "text": [
            "name\n",
            "region\n",
            "country\n",
            "condition\n",
            "wind_dir\n"
          ]
        }
      ],
      "source": [
        "\n",
        "\n",
        "# Check for columns which aren't numeric\n",
        "for label, content in df.items():\n",
        "    if not pd.api.types.is_numeric_dtype(content):\n",
        "        print(label)\n",
        "\n"
      ]
    },
    {
      "cell_type": "code",
      "execution_count": 55,
      "metadata": {
        "id": "1hrMRPtOCk1d"
      },
      "outputs": [],
      "source": [
        "# Turns categorical variables into numbers and fills missing\n",
        "for label, content in df.items():\n",
        "    if not pd.api.types.is_numeric_dtype(content):\n",
        "        #add binary column to indicate whether sample has missing value\n",
        "        df[label+'_is_missing'] = pd.isnull(content)\n",
        "        #turns categories into numbers and add + 1\n",
        "        # Add 1 to avoid having -1 values in the data (ie, missing values)\n",
        "        df[label] = pd.Categorical(content).codes + 1\n"
      ]
    },
    {
      "cell_type": "code",
      "execution_count": 56,
      "metadata": {
        "colab": {
          "base_uri": "https://localhost:8080/"
        },
        "id": "lHcw0vufCy8_",
        "outputId": "8f4d7004-f43f-431c-e4b0-17aa44f5f923"
      },
      "outputs": [
        {
          "output_type": "execute_result",
          "data": {
            "text/plain": [
              "name                    0\n",
              "region                  0\n",
              "country                 0\n",
              "longitude               0\n",
              "latitude                0\n",
              "temp_c                  0\n",
              "is_day                  0\n",
              "condition               0\n",
              "wind_kph                0\n",
              "wind_degree             0\n",
              "wind_dir                0\n",
              "air_pressure            0\n",
              "precipitation           0\n",
              "relative_humidity       0\n",
              "cloud                   0\n",
              "feelslike_c             0\n",
              "year                    0\n",
              "month                   0\n",
              "day                     0\n",
              "hour                    0\n",
              "dayOfWeek               0\n",
              "name_is_missing         0\n",
              "region_is_missing       0\n",
              "country_is_missing      0\n",
              "condition_is_missing    0\n",
              "wind_dir_is_missing     0\n",
              "dtype: int64"
            ]
          },
          "metadata": {},
          "execution_count": 56
        }
      ],
      "source": [
        "df.isna().sum()"
      ]
    },
    {
      "cell_type": "code",
      "execution_count": 57,
      "metadata": {
        "colab": {
          "base_uri": "https://localhost:8080/",
          "height": 299
        },
        "id": "cjU77Eo-C03i",
        "outputId": "051c5d79-b30f-4299-e1dc-66c50a25a058"
      },
      "outputs": [
        {
          "output_type": "execute_result",
          "data": {
            "text/plain": [
              "   name  region  country  longitude  latitude  temp_c  is_day  condition  \\\n",
              "0     1       2        1     121.03     14.57    24.8       0          1   \n",
              "1     1       2        1     121.03     14.57    24.6       0          1   \n",
              "2     1       2        1     121.03     14.57    24.3       0          1   \n",
              "3     1       2        1     121.03     14.57    24.1       0          1   \n",
              "4     1       2        1     121.03     14.57    24.0       0          1   \n",
              "\n",
              "   wind_kph  wind_degree  ...  year  month  day  hour  dayOfWeek  \\\n",
              "0      12.2           78  ...  2021     12   10     0          4   \n",
              "1      10.9           75  ...  2021     12   10     1          4   \n",
              "2       9.6           71  ...  2021     12   10     2          4   \n",
              "3       8.3           68  ...  2021     12   10     3          4   \n",
              "4       8.2           59  ...  2021     12   10     4          4   \n",
              "\n",
              "   name_is_missing  region_is_missing  country_is_missing  \\\n",
              "0            False              False               False   \n",
              "1            False              False               False   \n",
              "2            False              False               False   \n",
              "3            False              False               False   \n",
              "4            False              False               False   \n",
              "\n",
              "   condition_is_missing  wind_dir_is_missing  \n",
              "0                 False                False  \n",
              "1                 False                False  \n",
              "2                 False                False  \n",
              "3                 False                False  \n",
              "4                 False                False  \n",
              "\n",
              "[5 rows x 26 columns]"
            ],
            "text/html": [
              "\n",
              "  <div id=\"df-09bad888-cdce-4b5b-a151-90d12ee3367c\">\n",
              "    <div class=\"colab-df-container\">\n",
              "      <div>\n",
              "<style scoped>\n",
              "    .dataframe tbody tr th:only-of-type {\n",
              "        vertical-align: middle;\n",
              "    }\n",
              "\n",
              "    .dataframe tbody tr th {\n",
              "        vertical-align: top;\n",
              "    }\n",
              "\n",
              "    .dataframe thead th {\n",
              "        text-align: right;\n",
              "    }\n",
              "</style>\n",
              "<table border=\"1\" class=\"dataframe\">\n",
              "  <thead>\n",
              "    <tr style=\"text-align: right;\">\n",
              "      <th></th>\n",
              "      <th>name</th>\n",
              "      <th>region</th>\n",
              "      <th>country</th>\n",
              "      <th>longitude</th>\n",
              "      <th>latitude</th>\n",
              "      <th>temp_c</th>\n",
              "      <th>is_day</th>\n",
              "      <th>condition</th>\n",
              "      <th>wind_kph</th>\n",
              "      <th>wind_degree</th>\n",
              "      <th>...</th>\n",
              "      <th>year</th>\n",
              "      <th>month</th>\n",
              "      <th>day</th>\n",
              "      <th>hour</th>\n",
              "      <th>dayOfWeek</th>\n",
              "      <th>name_is_missing</th>\n",
              "      <th>region_is_missing</th>\n",
              "      <th>country_is_missing</th>\n",
              "      <th>condition_is_missing</th>\n",
              "      <th>wind_dir_is_missing</th>\n",
              "    </tr>\n",
              "  </thead>\n",
              "  <tbody>\n",
              "    <tr>\n",
              "      <th>0</th>\n",
              "      <td>1</td>\n",
              "      <td>2</td>\n",
              "      <td>1</td>\n",
              "      <td>121.03</td>\n",
              "      <td>14.57</td>\n",
              "      <td>24.8</td>\n",
              "      <td>0</td>\n",
              "      <td>1</td>\n",
              "      <td>12.2</td>\n",
              "      <td>78</td>\n",
              "      <td>...</td>\n",
              "      <td>2021</td>\n",
              "      <td>12</td>\n",
              "      <td>10</td>\n",
              "      <td>0</td>\n",
              "      <td>4</td>\n",
              "      <td>False</td>\n",
              "      <td>False</td>\n",
              "      <td>False</td>\n",
              "      <td>False</td>\n",
              "      <td>False</td>\n",
              "    </tr>\n",
              "    <tr>\n",
              "      <th>1</th>\n",
              "      <td>1</td>\n",
              "      <td>2</td>\n",
              "      <td>1</td>\n",
              "      <td>121.03</td>\n",
              "      <td>14.57</td>\n",
              "      <td>24.6</td>\n",
              "      <td>0</td>\n",
              "      <td>1</td>\n",
              "      <td>10.9</td>\n",
              "      <td>75</td>\n",
              "      <td>...</td>\n",
              "      <td>2021</td>\n",
              "      <td>12</td>\n",
              "      <td>10</td>\n",
              "      <td>1</td>\n",
              "      <td>4</td>\n",
              "      <td>False</td>\n",
              "      <td>False</td>\n",
              "      <td>False</td>\n",
              "      <td>False</td>\n",
              "      <td>False</td>\n",
              "    </tr>\n",
              "    <tr>\n",
              "      <th>2</th>\n",
              "      <td>1</td>\n",
              "      <td>2</td>\n",
              "      <td>1</td>\n",
              "      <td>121.03</td>\n",
              "      <td>14.57</td>\n",
              "      <td>24.3</td>\n",
              "      <td>0</td>\n",
              "      <td>1</td>\n",
              "      <td>9.6</td>\n",
              "      <td>71</td>\n",
              "      <td>...</td>\n",
              "      <td>2021</td>\n",
              "      <td>12</td>\n",
              "      <td>10</td>\n",
              "      <td>2</td>\n",
              "      <td>4</td>\n",
              "      <td>False</td>\n",
              "      <td>False</td>\n",
              "      <td>False</td>\n",
              "      <td>False</td>\n",
              "      <td>False</td>\n",
              "    </tr>\n",
              "    <tr>\n",
              "      <th>3</th>\n",
              "      <td>1</td>\n",
              "      <td>2</td>\n",
              "      <td>1</td>\n",
              "      <td>121.03</td>\n",
              "      <td>14.57</td>\n",
              "      <td>24.1</td>\n",
              "      <td>0</td>\n",
              "      <td>1</td>\n",
              "      <td>8.3</td>\n",
              "      <td>68</td>\n",
              "      <td>...</td>\n",
              "      <td>2021</td>\n",
              "      <td>12</td>\n",
              "      <td>10</td>\n",
              "      <td>3</td>\n",
              "      <td>4</td>\n",
              "      <td>False</td>\n",
              "      <td>False</td>\n",
              "      <td>False</td>\n",
              "      <td>False</td>\n",
              "      <td>False</td>\n",
              "    </tr>\n",
              "    <tr>\n",
              "      <th>4</th>\n",
              "      <td>1</td>\n",
              "      <td>2</td>\n",
              "      <td>1</td>\n",
              "      <td>121.03</td>\n",
              "      <td>14.57</td>\n",
              "      <td>24.0</td>\n",
              "      <td>0</td>\n",
              "      <td>1</td>\n",
              "      <td>8.2</td>\n",
              "      <td>59</td>\n",
              "      <td>...</td>\n",
              "      <td>2021</td>\n",
              "      <td>12</td>\n",
              "      <td>10</td>\n",
              "      <td>4</td>\n",
              "      <td>4</td>\n",
              "      <td>False</td>\n",
              "      <td>False</td>\n",
              "      <td>False</td>\n",
              "      <td>False</td>\n",
              "      <td>False</td>\n",
              "    </tr>\n",
              "  </tbody>\n",
              "</table>\n",
              "<p>5 rows × 26 columns</p>\n",
              "</div>\n",
              "      <button class=\"colab-df-convert\" onclick=\"convertToInteractive('df-09bad888-cdce-4b5b-a151-90d12ee3367c')\"\n",
              "              title=\"Convert this dataframe to an interactive table.\"\n",
              "              style=\"display:none;\">\n",
              "        \n",
              "  <svg xmlns=\"http://www.w3.org/2000/svg\" height=\"24px\"viewBox=\"0 0 24 24\"\n",
              "       width=\"24px\">\n",
              "    <path d=\"M0 0h24v24H0V0z\" fill=\"none\"/>\n",
              "    <path d=\"M18.56 5.44l.94 2.06.94-2.06 2.06-.94-2.06-.94-.94-2.06-.94 2.06-2.06.94zm-11 1L8.5 8.5l.94-2.06 2.06-.94-2.06-.94L8.5 2.5l-.94 2.06-2.06.94zm10 10l.94 2.06.94-2.06 2.06-.94-2.06-.94-.94-2.06-.94 2.06-2.06.94z\"/><path d=\"M17.41 7.96l-1.37-1.37c-.4-.4-.92-.59-1.43-.59-.52 0-1.04.2-1.43.59L10.3 9.45l-7.72 7.72c-.78.78-.78 2.05 0 2.83L4 21.41c.39.39.9.59 1.41.59.51 0 1.02-.2 1.41-.59l7.78-7.78 2.81-2.81c.8-.78.8-2.07 0-2.86zM5.41 20L4 18.59l7.72-7.72 1.47 1.35L5.41 20z\"/>\n",
              "  </svg>\n",
              "      </button>\n",
              "      \n",
              "  <style>\n",
              "    .colab-df-container {\n",
              "      display:flex;\n",
              "      flex-wrap:wrap;\n",
              "      gap: 12px;\n",
              "    }\n",
              "\n",
              "    .colab-df-convert {\n",
              "      background-color: #E8F0FE;\n",
              "      border: none;\n",
              "      border-radius: 50%;\n",
              "      cursor: pointer;\n",
              "      display: none;\n",
              "      fill: #1967D2;\n",
              "      height: 32px;\n",
              "      padding: 0 0 0 0;\n",
              "      width: 32px;\n",
              "    }\n",
              "\n",
              "    .colab-df-convert:hover {\n",
              "      background-color: #E2EBFA;\n",
              "      box-shadow: 0px 1px 2px rgba(60, 64, 67, 0.3), 0px 1px 3px 1px rgba(60, 64, 67, 0.15);\n",
              "      fill: #174EA6;\n",
              "    }\n",
              "\n",
              "    [theme=dark] .colab-df-convert {\n",
              "      background-color: #3B4455;\n",
              "      fill: #D2E3FC;\n",
              "    }\n",
              "\n",
              "    [theme=dark] .colab-df-convert:hover {\n",
              "      background-color: #434B5C;\n",
              "      box-shadow: 0px 1px 3px 1px rgba(0, 0, 0, 0.15);\n",
              "      filter: drop-shadow(0px 1px 2px rgba(0, 0, 0, 0.3));\n",
              "      fill: #FFFFFF;\n",
              "    }\n",
              "  </style>\n",
              "\n",
              "      <script>\n",
              "        const buttonEl =\n",
              "          document.querySelector('#df-09bad888-cdce-4b5b-a151-90d12ee3367c button.colab-df-convert');\n",
              "        buttonEl.style.display =\n",
              "          google.colab.kernel.accessAllowed ? 'block' : 'none';\n",
              "\n",
              "        async function convertToInteractive(key) {\n",
              "          const element = document.querySelector('#df-09bad888-cdce-4b5b-a151-90d12ee3367c');\n",
              "          const dataTable =\n",
              "            await google.colab.kernel.invokeFunction('convertToInteractive',\n",
              "                                                     [key], {});\n",
              "          if (!dataTable) return;\n",
              "\n",
              "          const docLinkHtml = 'Like what you see? Visit the ' +\n",
              "            '<a target=\"_blank\" href=https://colab.research.google.com/notebooks/data_table.ipynb>data table notebook</a>'\n",
              "            + ' to learn more about interactive tables.';\n",
              "          element.innerHTML = '';\n",
              "          dataTable['output_type'] = 'display_data';\n",
              "          await google.colab.output.renderOutput(dataTable, element);\n",
              "          const docLink = document.createElement('div');\n",
              "          docLink.innerHTML = docLinkHtml;\n",
              "          element.appendChild(docLink);\n",
              "        }\n",
              "      </script>\n",
              "    </div>\n",
              "  </div>\n",
              "  "
            ]
          },
          "metadata": {},
          "execution_count": 57
        }
      ],
      "source": [
        "df.head()"
      ]
    },
    {
      "cell_type": "code",
      "execution_count": 58,
      "metadata": {
        "colab": {
          "base_uri": "https://localhost:8080/",
          "height": 270
        },
        "id": "58jPozbqC2Op",
        "outputId": "5c6d2d0d-997e-45a4-d8f7-76d99ae8a392"
      },
      "outputs": [
        {
          "output_type": "execute_result",
          "data": {
            "text/plain": [
              "   name  country  longitude  latitude  temp_c  is_day  condition  wind_kph  \\\n",
              "0     1        1     121.03     14.57    24.8       0          1      12.2   \n",
              "1     1        1     121.03     14.57    24.6       0          1      10.9   \n",
              "2     1        1     121.03     14.57    24.3       0          1       9.6   \n",
              "3     1        1     121.03     14.57    24.1       0          1       8.3   \n",
              "4     1        1     121.03     14.57    24.0       0          1       8.2   \n",
              "\n",
              "   wind_degree  wind_dir  air_pressure  precipitation  relative_humidity  \\\n",
              "0           78         2       1013.88            0.0              67.30   \n",
              "1           75         2       1013.73            0.0              63.67   \n",
              "2           71         2       1013.58            0.0              60.03   \n",
              "3           68         2       1013.42            0.0              56.40   \n",
              "4           59         2       1012.62            0.0              55.90   \n",
              "\n",
              "   cloud  feelslike_c  year  month  day  hour  dayOfWeek  \n",
              "0     10         26.3  2021     12   10     0          4  \n",
              "1     14         26.1  2021     12   10     1          4  \n",
              "2     18         26.0  2021     12   10     2          4  \n",
              "3     22         25.8  2021     12   10     3          4  \n",
              "4     30         25.7  2021     12   10     4          4  "
            ],
            "text/html": [
              "\n",
              "  <div id=\"df-d227f909-46d2-400d-bbaf-87dc1c32e7f3\">\n",
              "    <div class=\"colab-df-container\">\n",
              "      <div>\n",
              "<style scoped>\n",
              "    .dataframe tbody tr th:only-of-type {\n",
              "        vertical-align: middle;\n",
              "    }\n",
              "\n",
              "    .dataframe tbody tr th {\n",
              "        vertical-align: top;\n",
              "    }\n",
              "\n",
              "    .dataframe thead th {\n",
              "        text-align: right;\n",
              "    }\n",
              "</style>\n",
              "<table border=\"1\" class=\"dataframe\">\n",
              "  <thead>\n",
              "    <tr style=\"text-align: right;\">\n",
              "      <th></th>\n",
              "      <th>name</th>\n",
              "      <th>country</th>\n",
              "      <th>longitude</th>\n",
              "      <th>latitude</th>\n",
              "      <th>temp_c</th>\n",
              "      <th>is_day</th>\n",
              "      <th>condition</th>\n",
              "      <th>wind_kph</th>\n",
              "      <th>wind_degree</th>\n",
              "      <th>wind_dir</th>\n",
              "      <th>air_pressure</th>\n",
              "      <th>precipitation</th>\n",
              "      <th>relative_humidity</th>\n",
              "      <th>cloud</th>\n",
              "      <th>feelslike_c</th>\n",
              "      <th>year</th>\n",
              "      <th>month</th>\n",
              "      <th>day</th>\n",
              "      <th>hour</th>\n",
              "      <th>dayOfWeek</th>\n",
              "    </tr>\n",
              "  </thead>\n",
              "  <tbody>\n",
              "    <tr>\n",
              "      <th>0</th>\n",
              "      <td>1</td>\n",
              "      <td>1</td>\n",
              "      <td>121.03</td>\n",
              "      <td>14.57</td>\n",
              "      <td>24.8</td>\n",
              "      <td>0</td>\n",
              "      <td>1</td>\n",
              "      <td>12.2</td>\n",
              "      <td>78</td>\n",
              "      <td>2</td>\n",
              "      <td>1013.88</td>\n",
              "      <td>0.0</td>\n",
              "      <td>67.30</td>\n",
              "      <td>10</td>\n",
              "      <td>26.3</td>\n",
              "      <td>2021</td>\n",
              "      <td>12</td>\n",
              "      <td>10</td>\n",
              "      <td>0</td>\n",
              "      <td>4</td>\n",
              "    </tr>\n",
              "    <tr>\n",
              "      <th>1</th>\n",
              "      <td>1</td>\n",
              "      <td>1</td>\n",
              "      <td>121.03</td>\n",
              "      <td>14.57</td>\n",
              "      <td>24.6</td>\n",
              "      <td>0</td>\n",
              "      <td>1</td>\n",
              "      <td>10.9</td>\n",
              "      <td>75</td>\n",
              "      <td>2</td>\n",
              "      <td>1013.73</td>\n",
              "      <td>0.0</td>\n",
              "      <td>63.67</td>\n",
              "      <td>14</td>\n",
              "      <td>26.1</td>\n",
              "      <td>2021</td>\n",
              "      <td>12</td>\n",
              "      <td>10</td>\n",
              "      <td>1</td>\n",
              "      <td>4</td>\n",
              "    </tr>\n",
              "    <tr>\n",
              "      <th>2</th>\n",
              "      <td>1</td>\n",
              "      <td>1</td>\n",
              "      <td>121.03</td>\n",
              "      <td>14.57</td>\n",
              "      <td>24.3</td>\n",
              "      <td>0</td>\n",
              "      <td>1</td>\n",
              "      <td>9.6</td>\n",
              "      <td>71</td>\n",
              "      <td>2</td>\n",
              "      <td>1013.58</td>\n",
              "      <td>0.0</td>\n",
              "      <td>60.03</td>\n",
              "      <td>18</td>\n",
              "      <td>26.0</td>\n",
              "      <td>2021</td>\n",
              "      <td>12</td>\n",
              "      <td>10</td>\n",
              "      <td>2</td>\n",
              "      <td>4</td>\n",
              "    </tr>\n",
              "    <tr>\n",
              "      <th>3</th>\n",
              "      <td>1</td>\n",
              "      <td>1</td>\n",
              "      <td>121.03</td>\n",
              "      <td>14.57</td>\n",
              "      <td>24.1</td>\n",
              "      <td>0</td>\n",
              "      <td>1</td>\n",
              "      <td>8.3</td>\n",
              "      <td>68</td>\n",
              "      <td>2</td>\n",
              "      <td>1013.42</td>\n",
              "      <td>0.0</td>\n",
              "      <td>56.40</td>\n",
              "      <td>22</td>\n",
              "      <td>25.8</td>\n",
              "      <td>2021</td>\n",
              "      <td>12</td>\n",
              "      <td>10</td>\n",
              "      <td>3</td>\n",
              "      <td>4</td>\n",
              "    </tr>\n",
              "    <tr>\n",
              "      <th>4</th>\n",
              "      <td>1</td>\n",
              "      <td>1</td>\n",
              "      <td>121.03</td>\n",
              "      <td>14.57</td>\n",
              "      <td>24.0</td>\n",
              "      <td>0</td>\n",
              "      <td>1</td>\n",
              "      <td>8.2</td>\n",
              "      <td>59</td>\n",
              "      <td>2</td>\n",
              "      <td>1012.62</td>\n",
              "      <td>0.0</td>\n",
              "      <td>55.90</td>\n",
              "      <td>30</td>\n",
              "      <td>25.7</td>\n",
              "      <td>2021</td>\n",
              "      <td>12</td>\n",
              "      <td>10</td>\n",
              "      <td>4</td>\n",
              "      <td>4</td>\n",
              "    </tr>\n",
              "  </tbody>\n",
              "</table>\n",
              "</div>\n",
              "      <button class=\"colab-df-convert\" onclick=\"convertToInteractive('df-d227f909-46d2-400d-bbaf-87dc1c32e7f3')\"\n",
              "              title=\"Convert this dataframe to an interactive table.\"\n",
              "              style=\"display:none;\">\n",
              "        \n",
              "  <svg xmlns=\"http://www.w3.org/2000/svg\" height=\"24px\"viewBox=\"0 0 24 24\"\n",
              "       width=\"24px\">\n",
              "    <path d=\"M0 0h24v24H0V0z\" fill=\"none\"/>\n",
              "    <path d=\"M18.56 5.44l.94 2.06.94-2.06 2.06-.94-2.06-.94-.94-2.06-.94 2.06-2.06.94zm-11 1L8.5 8.5l.94-2.06 2.06-.94-2.06-.94L8.5 2.5l-.94 2.06-2.06.94zm10 10l.94 2.06.94-2.06 2.06-.94-2.06-.94-.94-2.06-.94 2.06-2.06.94z\"/><path d=\"M17.41 7.96l-1.37-1.37c-.4-.4-.92-.59-1.43-.59-.52 0-1.04.2-1.43.59L10.3 9.45l-7.72 7.72c-.78.78-.78 2.05 0 2.83L4 21.41c.39.39.9.59 1.41.59.51 0 1.02-.2 1.41-.59l7.78-7.78 2.81-2.81c.8-.78.8-2.07 0-2.86zM5.41 20L4 18.59l7.72-7.72 1.47 1.35L5.41 20z\"/>\n",
              "  </svg>\n",
              "      </button>\n",
              "      \n",
              "  <style>\n",
              "    .colab-df-container {\n",
              "      display:flex;\n",
              "      flex-wrap:wrap;\n",
              "      gap: 12px;\n",
              "    }\n",
              "\n",
              "    .colab-df-convert {\n",
              "      background-color: #E8F0FE;\n",
              "      border: none;\n",
              "      border-radius: 50%;\n",
              "      cursor: pointer;\n",
              "      display: none;\n",
              "      fill: #1967D2;\n",
              "      height: 32px;\n",
              "      padding: 0 0 0 0;\n",
              "      width: 32px;\n",
              "    }\n",
              "\n",
              "    .colab-df-convert:hover {\n",
              "      background-color: #E2EBFA;\n",
              "      box-shadow: 0px 1px 2px rgba(60, 64, 67, 0.3), 0px 1px 3px 1px rgba(60, 64, 67, 0.15);\n",
              "      fill: #174EA6;\n",
              "    }\n",
              "\n",
              "    [theme=dark] .colab-df-convert {\n",
              "      background-color: #3B4455;\n",
              "      fill: #D2E3FC;\n",
              "    }\n",
              "\n",
              "    [theme=dark] .colab-df-convert:hover {\n",
              "      background-color: #434B5C;\n",
              "      box-shadow: 0px 1px 3px 1px rgba(0, 0, 0, 0.15);\n",
              "      filter: drop-shadow(0px 1px 2px rgba(0, 0, 0, 0.3));\n",
              "      fill: #FFFFFF;\n",
              "    }\n",
              "  </style>\n",
              "\n",
              "      <script>\n",
              "        const buttonEl =\n",
              "          document.querySelector('#df-d227f909-46d2-400d-bbaf-87dc1c32e7f3 button.colab-df-convert');\n",
              "        buttonEl.style.display =\n",
              "          google.colab.kernel.accessAllowed ? 'block' : 'none';\n",
              "\n",
              "        async function convertToInteractive(key) {\n",
              "          const element = document.querySelector('#df-d227f909-46d2-400d-bbaf-87dc1c32e7f3');\n",
              "          const dataTable =\n",
              "            await google.colab.kernel.invokeFunction('convertToInteractive',\n",
              "                                                     [key], {});\n",
              "          if (!dataTable) return;\n",
              "\n",
              "          const docLinkHtml = 'Like what you see? Visit the ' +\n",
              "            '<a target=\"_blank\" href=https://colab.research.google.com/notebooks/data_table.ipynb>data table notebook</a>'\n",
              "            + ' to learn more about interactive tables.';\n",
              "          element.innerHTML = '';\n",
              "          dataTable['output_type'] = 'display_data';\n",
              "          await google.colab.output.renderOutput(dataTable, element);\n",
              "          const docLink = document.createElement('div');\n",
              "          docLink.innerHTML = docLinkHtml;\n",
              "          element.appendChild(docLink);\n",
              "        }\n",
              "      </script>\n",
              "    </div>\n",
              "  </div>\n",
              "  "
            ]
          },
          "metadata": {},
          "execution_count": 58
        }
      ],
      "source": [
        "df.drop(columns=['region', 'region_is_missing', 'name_is_missing', 'country_is_missing', 'condition_is_missing', 'wind_dir_is_missing'], inplace=True, axis=1)\n",
        "\n",
        "df.head()"
      ]
    },
    {
      "cell_type": "code",
      "source": [
        "df.tail()"
      ],
      "metadata": {
        "colab": {
          "base_uri": "https://localhost:8080/",
          "height": 270
        },
        "id": "FexecMpJX8cE",
        "outputId": "0ba846de-7dc8-42c3-a2a2-765c9beeb08f"
      },
      "execution_count": 59,
      "outputs": [
        {
          "output_type": "execute_result",
          "data": {
            "text/plain": [
              "      name  country  longitude  latitude  temp_c  is_day  condition  wind_kph  \\\n",
              "2227     1        1     121.03     14.57    28.3       0          6      15.4   \n",
              "2228     1        1     121.03     14.57    27.8       0          1      13.4   \n",
              "2229     1        1     121.03     14.57    27.3       0          1      11.5   \n",
              "2230     1        1     121.03     14.57    27.1       0          1      10.8   \n",
              "2231     1        1     121.03     14.57    26.8       0          6      10.1   \n",
              "\n",
              "      wind_degree  wind_dir  air_pressure  precipitation  relative_humidity  \\\n",
              "2227           85         1       1008.35           0.01               73.2   \n",
              "2228           85         1       1008.31           0.01               73.4   \n",
              "2229           85         1       1008.26           0.01               73.6   \n",
              "2230           83         1       1008.87           0.01               73.1   \n",
              "2231           80         1       1009.48           0.01               72.6   \n",
              "\n",
              "      cloud  feelslike_c  year  month  day  hour  dayOfWeek  \n",
              "2227     37         31.1  2022      3   12    19          5  \n",
              "2228     29         30.5  2022      3   12    20          5  \n",
              "2229     22         29.9  2022      3   12    21          5  \n",
              "2230     29         29.6  2022      3   12    22          5  \n",
              "2231     37         29.3  2022      3   12    23          5  "
            ],
            "text/html": [
              "\n",
              "  <div id=\"df-817e3498-5b04-4f5d-b5c8-d0a82a155289\">\n",
              "    <div class=\"colab-df-container\">\n",
              "      <div>\n",
              "<style scoped>\n",
              "    .dataframe tbody tr th:only-of-type {\n",
              "        vertical-align: middle;\n",
              "    }\n",
              "\n",
              "    .dataframe tbody tr th {\n",
              "        vertical-align: top;\n",
              "    }\n",
              "\n",
              "    .dataframe thead th {\n",
              "        text-align: right;\n",
              "    }\n",
              "</style>\n",
              "<table border=\"1\" class=\"dataframe\">\n",
              "  <thead>\n",
              "    <tr style=\"text-align: right;\">\n",
              "      <th></th>\n",
              "      <th>name</th>\n",
              "      <th>country</th>\n",
              "      <th>longitude</th>\n",
              "      <th>latitude</th>\n",
              "      <th>temp_c</th>\n",
              "      <th>is_day</th>\n",
              "      <th>condition</th>\n",
              "      <th>wind_kph</th>\n",
              "      <th>wind_degree</th>\n",
              "      <th>wind_dir</th>\n",
              "      <th>air_pressure</th>\n",
              "      <th>precipitation</th>\n",
              "      <th>relative_humidity</th>\n",
              "      <th>cloud</th>\n",
              "      <th>feelslike_c</th>\n",
              "      <th>year</th>\n",
              "      <th>month</th>\n",
              "      <th>day</th>\n",
              "      <th>hour</th>\n",
              "      <th>dayOfWeek</th>\n",
              "    </tr>\n",
              "  </thead>\n",
              "  <tbody>\n",
              "    <tr>\n",
              "      <th>2227</th>\n",
              "      <td>1</td>\n",
              "      <td>1</td>\n",
              "      <td>121.03</td>\n",
              "      <td>14.57</td>\n",
              "      <td>28.3</td>\n",
              "      <td>0</td>\n",
              "      <td>6</td>\n",
              "      <td>15.4</td>\n",
              "      <td>85</td>\n",
              "      <td>1</td>\n",
              "      <td>1008.35</td>\n",
              "      <td>0.01</td>\n",
              "      <td>73.2</td>\n",
              "      <td>37</td>\n",
              "      <td>31.1</td>\n",
              "      <td>2022</td>\n",
              "      <td>3</td>\n",
              "      <td>12</td>\n",
              "      <td>19</td>\n",
              "      <td>5</td>\n",
              "    </tr>\n",
              "    <tr>\n",
              "      <th>2228</th>\n",
              "      <td>1</td>\n",
              "      <td>1</td>\n",
              "      <td>121.03</td>\n",
              "      <td>14.57</td>\n",
              "      <td>27.8</td>\n",
              "      <td>0</td>\n",
              "      <td>1</td>\n",
              "      <td>13.4</td>\n",
              "      <td>85</td>\n",
              "      <td>1</td>\n",
              "      <td>1008.31</td>\n",
              "      <td>0.01</td>\n",
              "      <td>73.4</td>\n",
              "      <td>29</td>\n",
              "      <td>30.5</td>\n",
              "      <td>2022</td>\n",
              "      <td>3</td>\n",
              "      <td>12</td>\n",
              "      <td>20</td>\n",
              "      <td>5</td>\n",
              "    </tr>\n",
              "    <tr>\n",
              "      <th>2229</th>\n",
              "      <td>1</td>\n",
              "      <td>1</td>\n",
              "      <td>121.03</td>\n",
              "      <td>14.57</td>\n",
              "      <td>27.3</td>\n",
              "      <td>0</td>\n",
              "      <td>1</td>\n",
              "      <td>11.5</td>\n",
              "      <td>85</td>\n",
              "      <td>1</td>\n",
              "      <td>1008.26</td>\n",
              "      <td>0.01</td>\n",
              "      <td>73.6</td>\n",
              "      <td>22</td>\n",
              "      <td>29.9</td>\n",
              "      <td>2022</td>\n",
              "      <td>3</td>\n",
              "      <td>12</td>\n",
              "      <td>21</td>\n",
              "      <td>5</td>\n",
              "    </tr>\n",
              "    <tr>\n",
              "      <th>2230</th>\n",
              "      <td>1</td>\n",
              "      <td>1</td>\n",
              "      <td>121.03</td>\n",
              "      <td>14.57</td>\n",
              "      <td>27.1</td>\n",
              "      <td>0</td>\n",
              "      <td>1</td>\n",
              "      <td>10.8</td>\n",
              "      <td>83</td>\n",
              "      <td>1</td>\n",
              "      <td>1008.87</td>\n",
              "      <td>0.01</td>\n",
              "      <td>73.1</td>\n",
              "      <td>29</td>\n",
              "      <td>29.6</td>\n",
              "      <td>2022</td>\n",
              "      <td>3</td>\n",
              "      <td>12</td>\n",
              "      <td>22</td>\n",
              "      <td>5</td>\n",
              "    </tr>\n",
              "    <tr>\n",
              "      <th>2231</th>\n",
              "      <td>1</td>\n",
              "      <td>1</td>\n",
              "      <td>121.03</td>\n",
              "      <td>14.57</td>\n",
              "      <td>26.8</td>\n",
              "      <td>0</td>\n",
              "      <td>6</td>\n",
              "      <td>10.1</td>\n",
              "      <td>80</td>\n",
              "      <td>1</td>\n",
              "      <td>1009.48</td>\n",
              "      <td>0.01</td>\n",
              "      <td>72.6</td>\n",
              "      <td>37</td>\n",
              "      <td>29.3</td>\n",
              "      <td>2022</td>\n",
              "      <td>3</td>\n",
              "      <td>12</td>\n",
              "      <td>23</td>\n",
              "      <td>5</td>\n",
              "    </tr>\n",
              "  </tbody>\n",
              "</table>\n",
              "</div>\n",
              "      <button class=\"colab-df-convert\" onclick=\"convertToInteractive('df-817e3498-5b04-4f5d-b5c8-d0a82a155289')\"\n",
              "              title=\"Convert this dataframe to an interactive table.\"\n",
              "              style=\"display:none;\">\n",
              "        \n",
              "  <svg xmlns=\"http://www.w3.org/2000/svg\" height=\"24px\"viewBox=\"0 0 24 24\"\n",
              "       width=\"24px\">\n",
              "    <path d=\"M0 0h24v24H0V0z\" fill=\"none\"/>\n",
              "    <path d=\"M18.56 5.44l.94 2.06.94-2.06 2.06-.94-2.06-.94-.94-2.06-.94 2.06-2.06.94zm-11 1L8.5 8.5l.94-2.06 2.06-.94-2.06-.94L8.5 2.5l-.94 2.06-2.06.94zm10 10l.94 2.06.94-2.06 2.06-.94-2.06-.94-.94-2.06-.94 2.06-2.06.94z\"/><path d=\"M17.41 7.96l-1.37-1.37c-.4-.4-.92-.59-1.43-.59-.52 0-1.04.2-1.43.59L10.3 9.45l-7.72 7.72c-.78.78-.78 2.05 0 2.83L4 21.41c.39.39.9.59 1.41.59.51 0 1.02-.2 1.41-.59l7.78-7.78 2.81-2.81c.8-.78.8-2.07 0-2.86zM5.41 20L4 18.59l7.72-7.72 1.47 1.35L5.41 20z\"/>\n",
              "  </svg>\n",
              "      </button>\n",
              "      \n",
              "  <style>\n",
              "    .colab-df-container {\n",
              "      display:flex;\n",
              "      flex-wrap:wrap;\n",
              "      gap: 12px;\n",
              "    }\n",
              "\n",
              "    .colab-df-convert {\n",
              "      background-color: #E8F0FE;\n",
              "      border: none;\n",
              "      border-radius: 50%;\n",
              "      cursor: pointer;\n",
              "      display: none;\n",
              "      fill: #1967D2;\n",
              "      height: 32px;\n",
              "      padding: 0 0 0 0;\n",
              "      width: 32px;\n",
              "    }\n",
              "\n",
              "    .colab-df-convert:hover {\n",
              "      background-color: #E2EBFA;\n",
              "      box-shadow: 0px 1px 2px rgba(60, 64, 67, 0.3), 0px 1px 3px 1px rgba(60, 64, 67, 0.15);\n",
              "      fill: #174EA6;\n",
              "    }\n",
              "\n",
              "    [theme=dark] .colab-df-convert {\n",
              "      background-color: #3B4455;\n",
              "      fill: #D2E3FC;\n",
              "    }\n",
              "\n",
              "    [theme=dark] .colab-df-convert:hover {\n",
              "      background-color: #434B5C;\n",
              "      box-shadow: 0px 1px 3px 1px rgba(0, 0, 0, 0.15);\n",
              "      filter: drop-shadow(0px 1px 2px rgba(0, 0, 0, 0.3));\n",
              "      fill: #FFFFFF;\n",
              "    }\n",
              "  </style>\n",
              "\n",
              "      <script>\n",
              "        const buttonEl =\n",
              "          document.querySelector('#df-817e3498-5b04-4f5d-b5c8-d0a82a155289 button.colab-df-convert');\n",
              "        buttonEl.style.display =\n",
              "          google.colab.kernel.accessAllowed ? 'block' : 'none';\n",
              "\n",
              "        async function convertToInteractive(key) {\n",
              "          const element = document.querySelector('#df-817e3498-5b04-4f5d-b5c8-d0a82a155289');\n",
              "          const dataTable =\n",
              "            await google.colab.kernel.invokeFunction('convertToInteractive',\n",
              "                                                     [key], {});\n",
              "          if (!dataTable) return;\n",
              "\n",
              "          const docLinkHtml = 'Like what you see? Visit the ' +\n",
              "            '<a target=\"_blank\" href=https://colab.research.google.com/notebooks/data_table.ipynb>data table notebook</a>'\n",
              "            + ' to learn more about interactive tables.';\n",
              "          element.innerHTML = '';\n",
              "          dataTable['output_type'] = 'display_data';\n",
              "          await google.colab.output.renderOutput(dataTable, element);\n",
              "          const docLink = document.createElement('div');\n",
              "          docLink.innerHTML = docLinkHtml;\n",
              "          element.appendChild(docLink);\n",
              "        }\n",
              "      </script>\n",
              "    </div>\n",
              "  </div>\n",
              "  "
            ]
          },
          "metadata": {},
          "execution_count": 59
        }
      ]
    },
    {
      "cell_type": "code",
      "source": [
        "a = 2 \n",
        "b = a  \n",
        "\n",
        "a += 2\n",
        "a, b"
      ],
      "metadata": {
        "colab": {
          "base_uri": "https://localhost:8080/"
        },
        "id": "kKDmFrNYVF50",
        "outputId": "0fe54012-8afe-4865-8be5-0834a458b1df"
      },
      "execution_count": 60,
      "outputs": [
        {
          "output_type": "execute_result",
          "data": {
            "text/plain": [
              "(4, 2)"
            ]
          },
          "metadata": {},
          "execution_count": 60
        }
      ]
    },
    {
      "cell_type": "markdown",
      "metadata": {
        "id": "0jashT4ADXIM"
      },
      "source": [
        "### Train and Test Sets"
      ]
    },
    {
      "cell_type": "code",
      "source": [
        "HORIZON = 1\n",
        "WINDOW = 7\n",
        "\n",
        "for i in range(WINDOW): # Shift values for each step in WINDOW_SIZE\n",
        "    df[f\"precipitation+{i+1}\"] = df[\"precipitation\"].shift(periods=i+1)\n",
        "df.head()"
      ],
      "metadata": {
        "colab": {
          "base_uri": "https://localhost:8080/",
          "height": 299
        },
        "id": "0Bq7n882rZvO",
        "outputId": "954895c5-d3bb-4565-e1a4-14ba555d2fa2"
      },
      "execution_count": 61,
      "outputs": [
        {
          "output_type": "execute_result",
          "data": {
            "text/plain": [
              "   name  country  longitude  latitude  temp_c  is_day  condition  wind_kph  \\\n",
              "0     1        1     121.03     14.57    24.8       0          1      12.2   \n",
              "1     1        1     121.03     14.57    24.6       0          1      10.9   \n",
              "2     1        1     121.03     14.57    24.3       0          1       9.6   \n",
              "3     1        1     121.03     14.57    24.1       0          1       8.3   \n",
              "4     1        1     121.03     14.57    24.0       0          1       8.2   \n",
              "\n",
              "   wind_degree  wind_dir  ...  day  hour  dayOfWeek  precipitation+1  \\\n",
              "0           78         2  ...   10     0          4              NaN   \n",
              "1           75         2  ...   10     1          4              0.0   \n",
              "2           71         2  ...   10     2          4              0.0   \n",
              "3           68         2  ...   10     3          4              0.0   \n",
              "4           59         2  ...   10     4          4              0.0   \n",
              "\n",
              "   precipitation+2  precipitation+3  precipitation+4  precipitation+5  \\\n",
              "0              NaN              NaN              NaN              NaN   \n",
              "1              NaN              NaN              NaN              NaN   \n",
              "2              0.0              NaN              NaN              NaN   \n",
              "3              0.0              0.0              NaN              NaN   \n",
              "4              0.0              0.0              0.0              NaN   \n",
              "\n",
              "   precipitation+6  precipitation+7  \n",
              "0              NaN              NaN  \n",
              "1              NaN              NaN  \n",
              "2              NaN              NaN  \n",
              "3              NaN              NaN  \n",
              "4              NaN              NaN  \n",
              "\n",
              "[5 rows x 27 columns]"
            ],
            "text/html": [
              "\n",
              "  <div id=\"df-e929dbd8-f813-4128-948a-fe0bf97d5839\">\n",
              "    <div class=\"colab-df-container\">\n",
              "      <div>\n",
              "<style scoped>\n",
              "    .dataframe tbody tr th:only-of-type {\n",
              "        vertical-align: middle;\n",
              "    }\n",
              "\n",
              "    .dataframe tbody tr th {\n",
              "        vertical-align: top;\n",
              "    }\n",
              "\n",
              "    .dataframe thead th {\n",
              "        text-align: right;\n",
              "    }\n",
              "</style>\n",
              "<table border=\"1\" class=\"dataframe\">\n",
              "  <thead>\n",
              "    <tr style=\"text-align: right;\">\n",
              "      <th></th>\n",
              "      <th>name</th>\n",
              "      <th>country</th>\n",
              "      <th>longitude</th>\n",
              "      <th>latitude</th>\n",
              "      <th>temp_c</th>\n",
              "      <th>is_day</th>\n",
              "      <th>condition</th>\n",
              "      <th>wind_kph</th>\n",
              "      <th>wind_degree</th>\n",
              "      <th>wind_dir</th>\n",
              "      <th>...</th>\n",
              "      <th>day</th>\n",
              "      <th>hour</th>\n",
              "      <th>dayOfWeek</th>\n",
              "      <th>precipitation+1</th>\n",
              "      <th>precipitation+2</th>\n",
              "      <th>precipitation+3</th>\n",
              "      <th>precipitation+4</th>\n",
              "      <th>precipitation+5</th>\n",
              "      <th>precipitation+6</th>\n",
              "      <th>precipitation+7</th>\n",
              "    </tr>\n",
              "  </thead>\n",
              "  <tbody>\n",
              "    <tr>\n",
              "      <th>0</th>\n",
              "      <td>1</td>\n",
              "      <td>1</td>\n",
              "      <td>121.03</td>\n",
              "      <td>14.57</td>\n",
              "      <td>24.8</td>\n",
              "      <td>0</td>\n",
              "      <td>1</td>\n",
              "      <td>12.2</td>\n",
              "      <td>78</td>\n",
              "      <td>2</td>\n",
              "      <td>...</td>\n",
              "      <td>10</td>\n",
              "      <td>0</td>\n",
              "      <td>4</td>\n",
              "      <td>NaN</td>\n",
              "      <td>NaN</td>\n",
              "      <td>NaN</td>\n",
              "      <td>NaN</td>\n",
              "      <td>NaN</td>\n",
              "      <td>NaN</td>\n",
              "      <td>NaN</td>\n",
              "    </tr>\n",
              "    <tr>\n",
              "      <th>1</th>\n",
              "      <td>1</td>\n",
              "      <td>1</td>\n",
              "      <td>121.03</td>\n",
              "      <td>14.57</td>\n",
              "      <td>24.6</td>\n",
              "      <td>0</td>\n",
              "      <td>1</td>\n",
              "      <td>10.9</td>\n",
              "      <td>75</td>\n",
              "      <td>2</td>\n",
              "      <td>...</td>\n",
              "      <td>10</td>\n",
              "      <td>1</td>\n",
              "      <td>4</td>\n",
              "      <td>0.0</td>\n",
              "      <td>NaN</td>\n",
              "      <td>NaN</td>\n",
              "      <td>NaN</td>\n",
              "      <td>NaN</td>\n",
              "      <td>NaN</td>\n",
              "      <td>NaN</td>\n",
              "    </tr>\n",
              "    <tr>\n",
              "      <th>2</th>\n",
              "      <td>1</td>\n",
              "      <td>1</td>\n",
              "      <td>121.03</td>\n",
              "      <td>14.57</td>\n",
              "      <td>24.3</td>\n",
              "      <td>0</td>\n",
              "      <td>1</td>\n",
              "      <td>9.6</td>\n",
              "      <td>71</td>\n",
              "      <td>2</td>\n",
              "      <td>...</td>\n",
              "      <td>10</td>\n",
              "      <td>2</td>\n",
              "      <td>4</td>\n",
              "      <td>0.0</td>\n",
              "      <td>0.0</td>\n",
              "      <td>NaN</td>\n",
              "      <td>NaN</td>\n",
              "      <td>NaN</td>\n",
              "      <td>NaN</td>\n",
              "      <td>NaN</td>\n",
              "    </tr>\n",
              "    <tr>\n",
              "      <th>3</th>\n",
              "      <td>1</td>\n",
              "      <td>1</td>\n",
              "      <td>121.03</td>\n",
              "      <td>14.57</td>\n",
              "      <td>24.1</td>\n",
              "      <td>0</td>\n",
              "      <td>1</td>\n",
              "      <td>8.3</td>\n",
              "      <td>68</td>\n",
              "      <td>2</td>\n",
              "      <td>...</td>\n",
              "      <td>10</td>\n",
              "      <td>3</td>\n",
              "      <td>4</td>\n",
              "      <td>0.0</td>\n",
              "      <td>0.0</td>\n",
              "      <td>0.0</td>\n",
              "      <td>NaN</td>\n",
              "      <td>NaN</td>\n",
              "      <td>NaN</td>\n",
              "      <td>NaN</td>\n",
              "    </tr>\n",
              "    <tr>\n",
              "      <th>4</th>\n",
              "      <td>1</td>\n",
              "      <td>1</td>\n",
              "      <td>121.03</td>\n",
              "      <td>14.57</td>\n",
              "      <td>24.0</td>\n",
              "      <td>0</td>\n",
              "      <td>1</td>\n",
              "      <td>8.2</td>\n",
              "      <td>59</td>\n",
              "      <td>2</td>\n",
              "      <td>...</td>\n",
              "      <td>10</td>\n",
              "      <td>4</td>\n",
              "      <td>4</td>\n",
              "      <td>0.0</td>\n",
              "      <td>0.0</td>\n",
              "      <td>0.0</td>\n",
              "      <td>0.0</td>\n",
              "      <td>NaN</td>\n",
              "      <td>NaN</td>\n",
              "      <td>NaN</td>\n",
              "    </tr>\n",
              "  </tbody>\n",
              "</table>\n",
              "<p>5 rows × 27 columns</p>\n",
              "</div>\n",
              "      <button class=\"colab-df-convert\" onclick=\"convertToInteractive('df-e929dbd8-f813-4128-948a-fe0bf97d5839')\"\n",
              "              title=\"Convert this dataframe to an interactive table.\"\n",
              "              style=\"display:none;\">\n",
              "        \n",
              "  <svg xmlns=\"http://www.w3.org/2000/svg\" height=\"24px\"viewBox=\"0 0 24 24\"\n",
              "       width=\"24px\">\n",
              "    <path d=\"M0 0h24v24H0V0z\" fill=\"none\"/>\n",
              "    <path d=\"M18.56 5.44l.94 2.06.94-2.06 2.06-.94-2.06-.94-.94-2.06-.94 2.06-2.06.94zm-11 1L8.5 8.5l.94-2.06 2.06-.94-2.06-.94L8.5 2.5l-.94 2.06-2.06.94zm10 10l.94 2.06.94-2.06 2.06-.94-2.06-.94-.94-2.06-.94 2.06-2.06.94z\"/><path d=\"M17.41 7.96l-1.37-1.37c-.4-.4-.92-.59-1.43-.59-.52 0-1.04.2-1.43.59L10.3 9.45l-7.72 7.72c-.78.78-.78 2.05 0 2.83L4 21.41c.39.39.9.59 1.41.59.51 0 1.02-.2 1.41-.59l7.78-7.78 2.81-2.81c.8-.78.8-2.07 0-2.86zM5.41 20L4 18.59l7.72-7.72 1.47 1.35L5.41 20z\"/>\n",
              "  </svg>\n",
              "      </button>\n",
              "      \n",
              "  <style>\n",
              "    .colab-df-container {\n",
              "      display:flex;\n",
              "      flex-wrap:wrap;\n",
              "      gap: 12px;\n",
              "    }\n",
              "\n",
              "    .colab-df-convert {\n",
              "      background-color: #E8F0FE;\n",
              "      border: none;\n",
              "      border-radius: 50%;\n",
              "      cursor: pointer;\n",
              "      display: none;\n",
              "      fill: #1967D2;\n",
              "      height: 32px;\n",
              "      padding: 0 0 0 0;\n",
              "      width: 32px;\n",
              "    }\n",
              "\n",
              "    .colab-df-convert:hover {\n",
              "      background-color: #E2EBFA;\n",
              "      box-shadow: 0px 1px 2px rgba(60, 64, 67, 0.3), 0px 1px 3px 1px rgba(60, 64, 67, 0.15);\n",
              "      fill: #174EA6;\n",
              "    }\n",
              "\n",
              "    [theme=dark] .colab-df-convert {\n",
              "      background-color: #3B4455;\n",
              "      fill: #D2E3FC;\n",
              "    }\n",
              "\n",
              "    [theme=dark] .colab-df-convert:hover {\n",
              "      background-color: #434B5C;\n",
              "      box-shadow: 0px 1px 3px 1px rgba(0, 0, 0, 0.15);\n",
              "      filter: drop-shadow(0px 1px 2px rgba(0, 0, 0, 0.3));\n",
              "      fill: #FFFFFF;\n",
              "    }\n",
              "  </style>\n",
              "\n",
              "      <script>\n",
              "        const buttonEl =\n",
              "          document.querySelector('#df-e929dbd8-f813-4128-948a-fe0bf97d5839 button.colab-df-convert');\n",
              "        buttonEl.style.display =\n",
              "          google.colab.kernel.accessAllowed ? 'block' : 'none';\n",
              "\n",
              "        async function convertToInteractive(key) {\n",
              "          const element = document.querySelector('#df-e929dbd8-f813-4128-948a-fe0bf97d5839');\n",
              "          const dataTable =\n",
              "            await google.colab.kernel.invokeFunction('convertToInteractive',\n",
              "                                                     [key], {});\n",
              "          if (!dataTable) return;\n",
              "\n",
              "          const docLinkHtml = 'Like what you see? Visit the ' +\n",
              "            '<a target=\"_blank\" href=https://colab.research.google.com/notebooks/data_table.ipynb>data table notebook</a>'\n",
              "            + ' to learn more about interactive tables.';\n",
              "          element.innerHTML = '';\n",
              "          dataTable['output_type'] = 'display_data';\n",
              "          await google.colab.output.renderOutput(dataTable, element);\n",
              "          const docLink = document.createElement('div');\n",
              "          docLink.innerHTML = docLinkHtml;\n",
              "          element.appendChild(docLink);\n",
              "        }\n",
              "      </script>\n",
              "    </div>\n",
              "  </div>\n",
              "  "
            ]
          },
          "metadata": {},
          "execution_count": 61
        }
      ]
    },
    {
      "cell_type": "code",
      "execution_count": 62,
      "metadata": {
        "colab": {
          "base_uri": "https://localhost:8080/",
          "height": 299
        },
        "id": "z531RQt9HafZ",
        "outputId": "bf74dea4-2122-45d5-fd08-4e7764f52f21"
      },
      "outputs": [
        {
          "output_type": "execute_result",
          "data": {
            "text/plain": [
              "    name  country   longitude  latitude     temp_c  is_day  condition  \\\n",
              "7    1.0      1.0  121.029999     14.57  24.500000     1.0        6.0   \n",
              "8    1.0      1.0  121.029999     14.57  25.400000     1.0        6.0   \n",
              "9    1.0      1.0  121.029999     14.57  26.200001     1.0        6.0   \n",
              "10   1.0      1.0  121.029999     14.57  27.400000     1.0        6.0   \n",
              "11   1.0      1.0  121.029999     14.57  28.700001     1.0        6.0   \n",
              "\n",
              "    wind_kph  wind_degree  wind_dir  ...   day  hour  dayOfWeek  \\\n",
              "7        9.6         47.0       5.0  ...  10.0   7.0        4.0   \n",
              "8       11.3         52.0       5.0  ...  10.0   8.0        4.0   \n",
              "9       13.0         57.0       2.0  ...  10.0   9.0        4.0   \n",
              "10      15.0         58.0       2.0  ...  10.0  10.0        4.0   \n",
              "11      17.0         59.0       2.0  ...  10.0  11.0        4.0   \n",
              "\n",
              "    precipitation+1  precipitation+2  precipitation+3  precipitation+4  \\\n",
              "7               0.0              0.0              0.0              0.0   \n",
              "8               0.0              0.0              0.0              0.0   \n",
              "9               0.0              0.0              0.0              0.0   \n",
              "10              0.0              0.0              0.0              0.0   \n",
              "11              0.0              0.0              0.0              0.0   \n",
              "\n",
              "    precipitation+5  precipitation+6  precipitation+7  \n",
              "7               0.0              0.0              0.0  \n",
              "8               0.0              0.0              0.0  \n",
              "9               0.0              0.0              0.0  \n",
              "10              0.0              0.0              0.0  \n",
              "11              0.0              0.0              0.0  \n",
              "\n",
              "[5 rows x 26 columns]"
            ],
            "text/html": [
              "\n",
              "  <div id=\"df-64594d13-ae18-4223-bebb-83d0e59446cf\">\n",
              "    <div class=\"colab-df-container\">\n",
              "      <div>\n",
              "<style scoped>\n",
              "    .dataframe tbody tr th:only-of-type {\n",
              "        vertical-align: middle;\n",
              "    }\n",
              "\n",
              "    .dataframe tbody tr th {\n",
              "        vertical-align: top;\n",
              "    }\n",
              "\n",
              "    .dataframe thead th {\n",
              "        text-align: right;\n",
              "    }\n",
              "</style>\n",
              "<table border=\"1\" class=\"dataframe\">\n",
              "  <thead>\n",
              "    <tr style=\"text-align: right;\">\n",
              "      <th></th>\n",
              "      <th>name</th>\n",
              "      <th>country</th>\n",
              "      <th>longitude</th>\n",
              "      <th>latitude</th>\n",
              "      <th>temp_c</th>\n",
              "      <th>is_day</th>\n",
              "      <th>condition</th>\n",
              "      <th>wind_kph</th>\n",
              "      <th>wind_degree</th>\n",
              "      <th>wind_dir</th>\n",
              "      <th>...</th>\n",
              "      <th>day</th>\n",
              "      <th>hour</th>\n",
              "      <th>dayOfWeek</th>\n",
              "      <th>precipitation+1</th>\n",
              "      <th>precipitation+2</th>\n",
              "      <th>precipitation+3</th>\n",
              "      <th>precipitation+4</th>\n",
              "      <th>precipitation+5</th>\n",
              "      <th>precipitation+6</th>\n",
              "      <th>precipitation+7</th>\n",
              "    </tr>\n",
              "  </thead>\n",
              "  <tbody>\n",
              "    <tr>\n",
              "      <th>7</th>\n",
              "      <td>1.0</td>\n",
              "      <td>1.0</td>\n",
              "      <td>121.029999</td>\n",
              "      <td>14.57</td>\n",
              "      <td>24.500000</td>\n",
              "      <td>1.0</td>\n",
              "      <td>6.0</td>\n",
              "      <td>9.6</td>\n",
              "      <td>47.0</td>\n",
              "      <td>5.0</td>\n",
              "      <td>...</td>\n",
              "      <td>10.0</td>\n",
              "      <td>7.0</td>\n",
              "      <td>4.0</td>\n",
              "      <td>0.0</td>\n",
              "      <td>0.0</td>\n",
              "      <td>0.0</td>\n",
              "      <td>0.0</td>\n",
              "      <td>0.0</td>\n",
              "      <td>0.0</td>\n",
              "      <td>0.0</td>\n",
              "    </tr>\n",
              "    <tr>\n",
              "      <th>8</th>\n",
              "      <td>1.0</td>\n",
              "      <td>1.0</td>\n",
              "      <td>121.029999</td>\n",
              "      <td>14.57</td>\n",
              "      <td>25.400000</td>\n",
              "      <td>1.0</td>\n",
              "      <td>6.0</td>\n",
              "      <td>11.3</td>\n",
              "      <td>52.0</td>\n",
              "      <td>5.0</td>\n",
              "      <td>...</td>\n",
              "      <td>10.0</td>\n",
              "      <td>8.0</td>\n",
              "      <td>4.0</td>\n",
              "      <td>0.0</td>\n",
              "      <td>0.0</td>\n",
              "      <td>0.0</td>\n",
              "      <td>0.0</td>\n",
              "      <td>0.0</td>\n",
              "      <td>0.0</td>\n",
              "      <td>0.0</td>\n",
              "    </tr>\n",
              "    <tr>\n",
              "      <th>9</th>\n",
              "      <td>1.0</td>\n",
              "      <td>1.0</td>\n",
              "      <td>121.029999</td>\n",
              "      <td>14.57</td>\n",
              "      <td>26.200001</td>\n",
              "      <td>1.0</td>\n",
              "      <td>6.0</td>\n",
              "      <td>13.0</td>\n",
              "      <td>57.0</td>\n",
              "      <td>2.0</td>\n",
              "      <td>...</td>\n",
              "      <td>10.0</td>\n",
              "      <td>9.0</td>\n",
              "      <td>4.0</td>\n",
              "      <td>0.0</td>\n",
              "      <td>0.0</td>\n",
              "      <td>0.0</td>\n",
              "      <td>0.0</td>\n",
              "      <td>0.0</td>\n",
              "      <td>0.0</td>\n",
              "      <td>0.0</td>\n",
              "    </tr>\n",
              "    <tr>\n",
              "      <th>10</th>\n",
              "      <td>1.0</td>\n",
              "      <td>1.0</td>\n",
              "      <td>121.029999</td>\n",
              "      <td>14.57</td>\n",
              "      <td>27.400000</td>\n",
              "      <td>1.0</td>\n",
              "      <td>6.0</td>\n",
              "      <td>15.0</td>\n",
              "      <td>58.0</td>\n",
              "      <td>2.0</td>\n",
              "      <td>...</td>\n",
              "      <td>10.0</td>\n",
              "      <td>10.0</td>\n",
              "      <td>4.0</td>\n",
              "      <td>0.0</td>\n",
              "      <td>0.0</td>\n",
              "      <td>0.0</td>\n",
              "      <td>0.0</td>\n",
              "      <td>0.0</td>\n",
              "      <td>0.0</td>\n",
              "      <td>0.0</td>\n",
              "    </tr>\n",
              "    <tr>\n",
              "      <th>11</th>\n",
              "      <td>1.0</td>\n",
              "      <td>1.0</td>\n",
              "      <td>121.029999</td>\n",
              "      <td>14.57</td>\n",
              "      <td>28.700001</td>\n",
              "      <td>1.0</td>\n",
              "      <td>6.0</td>\n",
              "      <td>17.0</td>\n",
              "      <td>59.0</td>\n",
              "      <td>2.0</td>\n",
              "      <td>...</td>\n",
              "      <td>10.0</td>\n",
              "      <td>11.0</td>\n",
              "      <td>4.0</td>\n",
              "      <td>0.0</td>\n",
              "      <td>0.0</td>\n",
              "      <td>0.0</td>\n",
              "      <td>0.0</td>\n",
              "      <td>0.0</td>\n",
              "      <td>0.0</td>\n",
              "      <td>0.0</td>\n",
              "    </tr>\n",
              "  </tbody>\n",
              "</table>\n",
              "<p>5 rows × 26 columns</p>\n",
              "</div>\n",
              "      <button class=\"colab-df-convert\" onclick=\"convertToInteractive('df-64594d13-ae18-4223-bebb-83d0e59446cf')\"\n",
              "              title=\"Convert this dataframe to an interactive table.\"\n",
              "              style=\"display:none;\">\n",
              "        \n",
              "  <svg xmlns=\"http://www.w3.org/2000/svg\" height=\"24px\"viewBox=\"0 0 24 24\"\n",
              "       width=\"24px\">\n",
              "    <path d=\"M0 0h24v24H0V0z\" fill=\"none\"/>\n",
              "    <path d=\"M18.56 5.44l.94 2.06.94-2.06 2.06-.94-2.06-.94-.94-2.06-.94 2.06-2.06.94zm-11 1L8.5 8.5l.94-2.06 2.06-.94-2.06-.94L8.5 2.5l-.94 2.06-2.06.94zm10 10l.94 2.06.94-2.06 2.06-.94-2.06-.94-.94-2.06-.94 2.06-2.06.94z\"/><path d=\"M17.41 7.96l-1.37-1.37c-.4-.4-.92-.59-1.43-.59-.52 0-1.04.2-1.43.59L10.3 9.45l-7.72 7.72c-.78.78-.78 2.05 0 2.83L4 21.41c.39.39.9.59 1.41.59.51 0 1.02-.2 1.41-.59l7.78-7.78 2.81-2.81c.8-.78.8-2.07 0-2.86zM5.41 20L4 18.59l7.72-7.72 1.47 1.35L5.41 20z\"/>\n",
              "  </svg>\n",
              "      </button>\n",
              "      \n",
              "  <style>\n",
              "    .colab-df-container {\n",
              "      display:flex;\n",
              "      flex-wrap:wrap;\n",
              "      gap: 12px;\n",
              "    }\n",
              "\n",
              "    .colab-df-convert {\n",
              "      background-color: #E8F0FE;\n",
              "      border: none;\n",
              "      border-radius: 50%;\n",
              "      cursor: pointer;\n",
              "      display: none;\n",
              "      fill: #1967D2;\n",
              "      height: 32px;\n",
              "      padding: 0 0 0 0;\n",
              "      width: 32px;\n",
              "    }\n",
              "\n",
              "    .colab-df-convert:hover {\n",
              "      background-color: #E2EBFA;\n",
              "      box-shadow: 0px 1px 2px rgba(60, 64, 67, 0.3), 0px 1px 3px 1px rgba(60, 64, 67, 0.15);\n",
              "      fill: #174EA6;\n",
              "    }\n",
              "\n",
              "    [theme=dark] .colab-df-convert {\n",
              "      background-color: #3B4455;\n",
              "      fill: #D2E3FC;\n",
              "    }\n",
              "\n",
              "    [theme=dark] .colab-df-convert:hover {\n",
              "      background-color: #434B5C;\n",
              "      box-shadow: 0px 1px 3px 1px rgba(0, 0, 0, 0.15);\n",
              "      filter: drop-shadow(0px 1px 2px rgba(0, 0, 0, 0.3));\n",
              "      fill: #FFFFFF;\n",
              "    }\n",
              "  </style>\n",
              "\n",
              "      <script>\n",
              "        const buttonEl =\n",
              "          document.querySelector('#df-64594d13-ae18-4223-bebb-83d0e59446cf button.colab-df-convert');\n",
              "        buttonEl.style.display =\n",
              "          google.colab.kernel.accessAllowed ? 'block' : 'none';\n",
              "\n",
              "        async function convertToInteractive(key) {\n",
              "          const element = document.querySelector('#df-64594d13-ae18-4223-bebb-83d0e59446cf');\n",
              "          const dataTable =\n",
              "            await google.colab.kernel.invokeFunction('convertToInteractive',\n",
              "                                                     [key], {});\n",
              "          if (!dataTable) return;\n",
              "\n",
              "          const docLinkHtml = 'Like what you see? Visit the ' +\n",
              "            '<a target=\"_blank\" href=https://colab.research.google.com/notebooks/data_table.ipynb>data table notebook</a>'\n",
              "            + ' to learn more about interactive tables.';\n",
              "          element.innerHTML = '';\n",
              "          dataTable['output_type'] = 'display_data';\n",
              "          await google.colab.output.renderOutput(dataTable, element);\n",
              "          const docLink = document.createElement('div');\n",
              "          docLink.innerHTML = docLinkHtml;\n",
              "          element.appendChild(docLink);\n",
              "        }\n",
              "      </script>\n",
              "    </div>\n",
              "  </div>\n",
              "  "
            ]
          },
          "metadata": {},
          "execution_count": 62
        }
      ],
      "source": [
        "X = df.dropna().drop(\"precipitation\", axis=1).astype(np.float32) \n",
        "y = df.dropna()[\"precipitation\"].astype(np.float32)\n",
        "X.head()"
      ]
    },
    {
      "cell_type": "code",
      "execution_count": 63,
      "metadata": {
        "colab": {
          "base_uri": "https://localhost:8080/"
        },
        "id": "AFirdVtpHsb-",
        "outputId": "6c85e2a0-2ab6-454f-e8da-cc1be1484c01"
      },
      "outputs": [
        {
          "output_type": "execute_result",
          "data": {
            "text/plain": [
              "7     0.0\n",
              "8     0.0\n",
              "9     0.0\n",
              "10    0.0\n",
              "11    0.0\n",
              "Name: precipitation, dtype: float32"
            ]
          },
          "metadata": {},
          "execution_count": 63
        }
      ],
      "source": [
        "y.head()"
      ]
    },
    {
      "cell_type": "code",
      "execution_count": 64,
      "metadata": {
        "colab": {
          "base_uri": "https://localhost:8080/"
        },
        "id": "AxuiCiy0H3yQ",
        "outputId": "e398b51c-4323-4b91-8b81-6c40d8a0ff25"
      },
      "outputs": [
        {
          "output_type": "execute_result",
          "data": {
            "text/plain": [
              "(1780, 1780, 445, 445, 1780, 445)"
            ]
          },
          "metadata": {},
          "execution_count": 64
        }
      ],
      "source": [
        "# Make train and test sets\n",
        "split_size = int(len(X) * 0.8)\n",
        "X_train, y_train = X[:split_size], y[:split_size]\n",
        "X_columns = X.columns\n",
        "X_time_train, X_time_test = x_time[:split_size], x_time[split_size:]\n",
        "X_time_test = X_time_test[7:]\n",
        "X_test, y_test = X[split_size:], y[split_size:]\n",
        "len(X_train), len(y_train), len(X_test), len(y_test), len(X_time_train), len(X_time_test)"
      ]
    },
    {
      "cell_type": "markdown",
      "metadata": {
        "id": "PTsSLqVTH-Qm"
      },
      "source": [
        "### Baseline model"
      ]
    },
    {
      "cell_type": "code",
      "execution_count": 65,
      "metadata": {
        "colab": {
          "base_uri": "https://localhost:8080/"
        },
        "id": "NZp1oNuYIx5A",
        "outputId": "44cdc2ed-1c4a-40e7-a137-b2aaf712f29c"
      },
      "outputs": [
        {
          "output_type": "execute_result",
          "data": {
            "text/plain": [
              "(1787    0.0\n",
              " 1788    0.0\n",
              " 1789    0.0\n",
              " 1790    0.0\n",
              " 1791    0.0\n",
              " 1792    0.0\n",
              " 1793    0.0\n",
              " 1794    0.0\n",
              " 1795    0.0\n",
              " 1796    0.0\n",
              " Name: precipitation, dtype: float32, 2221    0.16\n",
              " 2222    0.08\n",
              " 2223    0.00\n",
              " 2224    0.01\n",
              " 2225    0.01\n",
              " 2226    0.02\n",
              " 2227    0.01\n",
              " 2228    0.01\n",
              " 2229    0.01\n",
              " 2230    0.01\n",
              " Name: precipitation, dtype: float32)"
            ]
          },
          "metadata": {},
          "execution_count": 65
        }
      ],
      "source": [
        "# Create a naïve forecast\n",
        "naive_forecast = y_test[:-1] # Naïve forecast equals every value excluding the last value\n",
        "naive_forecast[:10], naive_forecast[-10:] # View frist 10 and last 10 "
      ]
    },
    {
      "cell_type": "code",
      "execution_count": 66,
      "metadata": {
        "id": "xuimtq0qJWkN"
      },
      "outputs": [],
      "source": [
        "def plot_time_series(timesteps, values, format='.', start=0, end=None, label=None):\n",
        "  \"\"\"\n",
        "  Plots a timesteps (a series of points in time) against values (a series of values across timesteps).\n",
        "  \n",
        "  Parameters\n",
        "  ---------\n",
        "  timesteps : array of timesteps\n",
        "  values : array of values across time\n",
        "  format : style of plot, default \".\"\n",
        "  start : where to start the plot (setting a value will index from start of timesteps & values)\n",
        "  end : where to end the plot (setting a value will index from end of timesteps & values)\n",
        "  label : label to show on plot of values\n",
        "  \"\"\"\n",
        "  # Plot the series\n",
        "  plt.plot(timesteps[start:end], values[start:end], format, label=label)\n",
        "  plt.xlabel(\"Time\")\n",
        "  plt.ylabel(\"Hourly Rain Precipitation\")\n",
        "  if label:\n",
        "    plt.legend(fontsize=14) # make label bigger\n",
        "  plt.grid(True)"
      ]
    },
    {
      "cell_type": "code",
      "execution_count": 67,
      "metadata": {
        "colab": {
          "base_uri": "https://localhost:8080/",
          "height": 442
        },
        "id": "m-upRvqnJgdE",
        "outputId": "8a619fa9-675b-4ae9-950f-9ee33bc8ccab"
      },
      "outputs": [
        {
          "output_type": "display_data",
          "data": {
            "text/plain": [
              "<Figure size 720x504 with 1 Axes>"
            ],
            "image/png": "[encoded data removed]"
          },
          "metadata": {
            "needs_background": "light"
          }
        }
      ],
      "source": [
        "# Try out our plotting function\n",
        "plt.figure(figsize=(10, 7))\n",
        "plot_time_series(timesteps=X_time_train, values=y_train, label=\"Train data\")\n",
        "plot_time_series(timesteps=X_time_test, values=y_test, label=\"Test data\")"
      ]
    },
    {
      "cell_type": "code",
      "execution_count": 68,
      "metadata": {
        "colab": {
          "base_uri": "https://localhost:8080/",
          "height": 442
        },
        "id": "pm3P1lSQJkWQ",
        "outputId": "e8811956-b499-4518-cbe2-629b20602f99"
      },
      "outputs": [
        {
          "output_type": "display_data",
          "data": {
            "text/plain": [
              "<Figure size 720x504 with 1 Axes>"
            ],
            "image/png": "[encoded data removed]"
          },
          "metadata": {
            "needs_background": "light"
          }
        }
      ],
      "source": [
        "# Plot naive forecast\n",
        "plt.figure(figsize=(10, 7))\n",
        "plot_time_series(timesteps=X_time_train, values=y_train, label=\"Train data\")\n",
        "plot_time_series(timesteps=X_time_test, values=y_test, label=\"Test data\")\n",
        "plot_time_series(timesteps=X_time_test[1:], values=naive_forecast, format=\"-\", label=\"Naive forecast\");"
      ]
    },
    {
      "cell_type": "code",
      "execution_count": 69,
      "metadata": {
        "colab": {
          "base_uri": "https://localhost:8080/",
          "height": 442
        },
        "id": "m4ErFloxLSqN",
        "outputId": "1fa3258b-dd44-4440-8ef3-e5af2ee1cec8"
      },
      "outputs": [
        {
          "output_type": "display_data",
          "data": {
            "text/plain": [
              "<Figure size 720x504 with 1 Axes>"
            ],
            "image/png": "[encoded data removed]"
          },
          "metadata": {
            "needs_background": "light"
          }
        }
      ],
      "source": [
        "import matplotlib.dates as mdates\n",
        "\n",
        "plt.figure(figsize=(10, 7))\n",
        "offset =20 # offset the values by 300 timesteps \n",
        "plot_time_series(timesteps=X_time_test, values=y_test, label=\"Test data\")\n",
        "plot_time_series(timesteps=X_time_test[1:], values=naive_forecast, format=\"-\", label=\"Naive forecast\")\n",
        "plt.gca().xaxis.set_major_locator(mdates.DayLocator(interval=3));"
      ]
    },
    {
      "cell_type": "code",
      "execution_count": 70,
      "metadata": {
        "id": "jw7q9e1cNmLt"
      },
      "outputs": [],
      "source": [
        "import tensorflow as tf\n",
        "# MASE implemented courtesy of sktime - https://github.com/alan-turing-institute/sktime/blob/ee7a06843a44f4aaec7582d847e36073a9ab0566/sktime/performance_metrics/forecasting/_functions.py#L16\n",
        "def mean_absolute_scaled_error(y_true, y_pred):\n",
        "  \"\"\"\n",
        "  Implement MASE (assuming no seasonality of data).\n",
        "  \"\"\"\n",
        "  mae = tf.reduce_mean(tf.abs(y_true - y_pred))\n",
        "\n",
        "  # Find MAE of naive forecast (no seasonality)\n",
        "  mae_naive_no_season = tf.reduce_mean(tf.abs(y_true[1:] - y_true[:-1])) # our seasonality is 1 day (hence the shifting of 1 day)\n",
        "\n",
        "  return mae / mae_naive_no_season\n",
        "def evaluate_preds(y_true, y_pred):\n",
        "  # Make sure float32 (for metric calculations)\n",
        "  y_true = tf.cast(y_true, dtype=tf.float32)\n",
        "  y_pred = tf.cast(y_pred, dtype=tf.float32)\n",
        "\n",
        "  # Calculate various metrics\n",
        "  # train_mae = tf.keras.metrics.mean_absolute_error(y_train, )\n",
        "  mae = tf.keras.metrics.mean_absolute_error(y_true, y_pred)\n",
        "  mse = tf.keras.metrics.mean_squared_error(y_true, y_pred) # puts and emphasis on outliers (all errors get squared)\n",
        "  rmse = tf.sqrt(mse)\n",
        "  mape = tf.keras.metrics.mean_absolute_percentage_error(y_true, y_pred)\n",
        "  \n",
        "  return {\"mae\": mae.numpy(),\n",
        "          \"mse\": mse.numpy(),\n",
        "          \"rmse\": rmse.numpy(),\n",
        "          \"mape\": mape.numpy(),}"
      ]
    },
    {
      "cell_type": "code",
      "execution_count": 71,
      "metadata": {
        "colab": {
          "base_uri": "https://localhost:8080/"
        },
        "id": "OmmtERoXNzs-",
        "outputId": "0f937f88-c3b4-488e-b743-ee84f4c8d354"
      },
      "outputs": [
        {
          "output_type": "execute_result",
          "data": {
            "text/plain": [
              "{'mae': 0.005472973,\n",
              " 'mape': 495504.5,\n",
              " 'mse': 0.00033896396,\n",
              " 'rmse': 0.018410975}"
            ]
          },
          "metadata": {},
          "execution_count": 71
        }
      ],
      "source": [
        "naive_results = evaluate_preds(y_true=y_test[1:],\n",
        "                               y_pred=naive_forecast)\n",
        "naive_results"
      ]
    },
    {
      "cell_type": "markdown",
      "metadata": {
        "id": "NkcXa6IcM3s3"
      },
      "source": [
        "### RandomForestRegressor"
      ]
    },
    {
      "cell_type": "code",
      "execution_count": 72,
      "metadata": {
        "colab": {
          "base_uri": "https://localhost:8080/"
        },
        "id": "deZjFqD0Ljmg",
        "outputId": "325f4ed2-8466-4e88-fd61-4c867e6596b0"
      },
      "outputs": [
        {
          "output_type": "execute_result",
          "data": {
            "text/plain": [
              "RandomForestRegressor(n_jobs=-1)"
            ]
          },
          "metadata": {},
          "execution_count": 72
        }
      ],
      "source": [
        "# Reducing data using max_samples\n",
        "from sklearn.ensemble import RandomForestRegressor\n",
        "\n",
        "np.random.seed(42)\n",
        "model = RandomForestRegressor(\n",
        "    n_jobs=-1,\n",
        "    # random_state=42,\n",
        "    # max_samples=10000, #minimizes the data\n",
        ")\n",
        "\n",
        "X_train_series = X_train\n",
        "y_train_series = y_train\n",
        "\n",
        "X_train = np.asarray(X_train)\n",
        "y_train = np.asarray(y_train)\n",
        "model.fit(X_train, y_train)"
      ]
    },
    {
      "cell_type": "code",
      "execution_count": 73,
      "metadata": {
        "colab": {
          "base_uri": "https://localhost:8080/"
        },
        "id": "p-3Whi83T5iY",
        "outputId": "9a276468-8910-4746-c65f-bebda659e0ae"
      },
      "outputs": [
        {
          "output_type": "execute_result",
          "data": {
            "text/plain": [
              "((1780, 26), (1780,), (445, 26), (445,))"
            ]
          },
          "metadata": {},
          "execution_count": 73
        }
      ],
      "source": [
        "X_train.shape, y_train.shape, X_test.shape, y_test.shape"
      ]
    },
    {
      "cell_type": "code",
      "execution_count": 74,
      "metadata": {
        "colab": {
          "base_uri": "https://localhost:8080/"
        },
        "id": "KnKFRVj2M7zk",
        "outputId": "29a493cc-bcb8-49ec-f978-6eaa18ea7046"
      },
      "outputs": [
        {
          "output_type": "stream",
          "name": "stderr",
          "text": [
            "/usr/local/lib/python3.7/dist-packages/sklearn/base.py:444: UserWarning: X has feature names, but RandomForestRegressor was fitted without feature names\n",
            "  f\"X has feature names, but {self.__class__.__name__} was fitted without\"\n"
          ]
        },
        {
          "output_type": "execute_result",
          "data": {
            "text/plain": [
              "{'mae': 0.006813707865356061,\n",
              " 'mape': 10297556263027.705,\n",
              " 'mse': 0.0003566708614169253,\n",
              " 'rmse': 0.018885731688683002,\n",
              " 'train_mae': 0.0048749999899542745,\n",
              " 'train_mape': 1985631994004.8225,\n",
              " 'train_mse': 0.00022279075836203975,\n",
              " 'train_rmse': 0.014926176950647468}"
            ]
          },
          "metadata": {},
          "execution_count": 74
        }
      ],
      "source": [
        "from tensorflow.python.ops.gen_math_ops import sqrt\n",
        "from sklearn.metrics import mean_absolute_error, mean_squared_error, mean_absolute_percentage_error\n",
        "\n",
        "def show_scores_sklearn(model):\n",
        "    train_preds = model.predict(X_train)\n",
        "    val_preds = model.predict(X_test) \n",
        "\n",
        "    train_mae =  mean_absolute_error(y_train, train_preds)\n",
        "    mae = mean_absolute_error(y_test, val_preds)\n",
        "    train_mse = mean_squared_error(y_train, train_preds)\n",
        "    mse = mean_squared_error(y_test, val_preds)\n",
        "    train_rmse = sqrt(train_mse)\n",
        "    rmse = sqrt(mse)\n",
        "    train_mape = mean_absolute_percentage_error(y_train, train_preds)\n",
        "    mape = mean_absolute_percentage_error(y_test, val_preds)\n",
        "    return {\"mae\": mae,\n",
        "            \"train_mae\": train_mae,\n",
        "          \"mse\": mse,\n",
        "          \"train_mse\": train_mse,\n",
        "          \"rmse\": rmse.numpy(),\n",
        "          \"train_rmse\": train_rmse.numpy(),\n",
        "          \"mape\": mape,\n",
        "          \"train_mape\": train_mape\n",
        "          }\n",
        "\n",
        "# Score model\n",
        "random_forest = show_scores_sklearn(model)\n",
        "random_forest"
      ]
    },
    {
      "cell_type": "code",
      "execution_count": 75,
      "metadata": {
        "colab": {
          "base_uri": "https://localhost:8080/"
        },
        "id": "SIaSfLx0sQtj",
        "outputId": "8171717a-1da8-4390-c3cb-1f23edb33958"
      },
      "outputs": [
        {
          "output_type": "stream",
          "name": "stderr",
          "text": [
            "/usr/local/lib/python3.7/dist-packages/sklearn/base.py:444: UserWarning: X has feature names, but RandomForestRegressor was fitted without feature names\n",
            "  f\"X has feature names, but {self.__class__.__name__} was fitted without\"\n"
          ]
        },
        {
          "output_type": "execute_result",
          "data": {
            "text/plain": [
              "(0.984161173021944, 0.8488698906494196)"
            ]
          },
          "metadata": {},
          "execution_count": 75
        }
      ],
      "source": [
        "model.score(X_train, y_train), model.score(X_test, y_test)"
      ]
    },
    {
      "cell_type": "code",
      "execution_count": 76,
      "metadata": {
        "colab": {
          "base_uri": "https://localhost:8080/"
        },
        "id": "BxF3iX_jk_aX",
        "outputId": "fb861455-cc03-4e27-818f-1cfb16123c92"
      },
      "outputs": [
        {
          "output_type": "stream",
          "name": "stderr",
          "text": [
            "/usr/local/lib/python3.7/dist-packages/sklearn/base.py:444: UserWarning: X has feature names, but RandomForestRegressor was fitted without feature names\n",
            "  f\"X has feature names, but {self.__class__.__name__} was fitted without\"\n"
          ]
        },
        {
          "output_type": "execute_result",
          "data": {
            "text/plain": [
              "0.006813707865356061"
            ]
          },
          "metadata": {},
          "execution_count": 76
        }
      ],
      "source": [
        "train_preds = model.predict(X_train)\n",
        "val_preds = model.predict(X_test) \n",
        "\n",
        "mean_absolute_error(y_test, val_preds)"
      ]
    },
    {
      "cell_type": "code",
      "execution_count": 77,
      "metadata": {
        "colab": {
          "base_uri": "https://localhost:8080/"
        },
        "id": "Rq7h01fyNEr3",
        "outputId": "0f92e5a1-734e-459d-a755-ee3c59bcf577"
      },
      "outputs": [
        {
          "output_type": "execute_result",
          "data": {
            "text/plain": [
              "{'mae': 0.005472973,\n",
              " 'mape': 495504.5,\n",
              " 'mse': 0.00033896396,\n",
              " 'rmse': 0.018410975}"
            ]
          },
          "metadata": {},
          "execution_count": 77
        }
      ],
      "source": [
        "naive_results"
      ]
    },
    {
      "cell_type": "markdown",
      "metadata": {
        "id": "3zfFYdKLsEzr"
      },
      "source": [
        "#### Parameter Tuning"
      ]
    },
    {
      "cell_type": "code",
      "execution_count": 78,
      "metadata": {
        "colab": {
          "base_uri": "https://localhost:8080/"
        },
        "id": "WmZQBQeDsHw-",
        "outputId": "fdd81240-6452-49f0-e277-57fe88a93f4f"
      },
      "outputs": [
        {
          "output_type": "stream",
          "name": "stdout",
          "text": [
            "Fitting 5 folds for each of 5 candidates, totalling 25 fits\n"
          ]
        },
        {
          "output_type": "execute_result",
          "data": {
            "text/plain": [
              "RandomizedSearchCV(cv=5, estimator=RandomForestRegressor(n_jobs=-1), n_iter=5,\n",
              "                   param_distributions={'max_depth': [None, 3, 5, 10],\n",
              "                                        'max_features': [0.5, 1, 'sqrt',\n",
              "                                                         'auto'],\n",
              "                                        'max_samples': [332],\n",
              "                                        'min_samples_leaf': array([ 1,  3,  5,  7,  9, 11, 13, 15, 17, 19]),\n",
              "                                        'min_samples_split': array([ 2,  4,  6,  8, 10, 12, 14, 16, 18]),\n",
              "                                        'n_estimators': array([10, 20, 30, 40, 50, 60, 70, 80, 90])},\n",
              "                   verbose=True)"
            ]
          },
          "metadata": {},
          "execution_count": 78
        }
      ],
      "source": [
        "\n",
        "\n",
        "from sklearn.model_selection import RandomizedSearchCV\n",
        "\n",
        "rf_grid = {\n",
        "    'n_estimators': np.arange(10, 100, 10),\n",
        "    'max_depth': [None, 3, 5, 10],\n",
        "    'min_samples_split': np.arange(2, 20, 2),\n",
        "    'min_samples_leaf': np.arange(1, 20, 2),\n",
        "    'max_features': [0.5, 1, 'sqrt', 'auto'],\n",
        "    'max_samples': [332]\n",
        "}\n",
        "\n",
        "np.random.seed(42)\n",
        "#instantiate ranomdized search cv model\n",
        "rs_model = RandomizedSearchCV(\n",
        "    RandomForestRegressor(\n",
        "        n_jobs=-1,\n",
        "    ),\n",
        "    param_distributions=rf_grid,\n",
        "    n_iter=5,\n",
        "    cv=5,\n",
        "    verbose=True\n",
        ")\n",
        "\n",
        "#Fit the randomized search cv model\n",
        "rs_model.fit(X_train, y_train)"
      ]
    },
    {
      "cell_type": "code",
      "execution_count": 79,
      "metadata": {
        "colab": {
          "base_uri": "https://localhost:8080/"
        },
        "id": "GnupHk8-tGtn",
        "outputId": "b5381b42-0936-40c5-f1e5-84a1aa21ed05"
      },
      "outputs": [
        {
          "output_type": "stream",
          "name": "stderr",
          "text": [
            "/usr/local/lib/python3.7/dist-packages/sklearn/base.py:444: UserWarning: X has feature names, but RandomForestRegressor was fitted without feature names\n",
            "  f\"X has feature names, but {self.__class__.__name__} was fitted without\"\n"
          ]
        },
        {
          "output_type": "execute_result",
          "data": {
            "text/plain": [
              "(0.6679638569978471, 0.7198341428701898)"
            ]
          },
          "metadata": {},
          "execution_count": 79
        }
      ],
      "source": [
        "rs_model.score(X_train, y_train), rs_model.score(X_test, y_test)"
      ]
    },
    {
      "cell_type": "code",
      "execution_count": 80,
      "metadata": {
        "colab": {
          "base_uri": "https://localhost:8080/"
        },
        "id": "lKQ6cr-5t1km",
        "outputId": "c31122dc-cfd5-4e6e-b6db-8d9a95e3008b"
      },
      "outputs": [
        {
          "output_type": "stream",
          "name": "stderr",
          "text": [
            "/usr/local/lib/python3.7/dist-packages/sklearn/base.py:444: UserWarning: X has feature names, but RandomForestRegressor was fitted without feature names\n",
            "  f\"X has feature names, but {self.__class__.__name__} was fitted without\"\n"
          ]
        },
        {
          "output_type": "execute_result",
          "data": {
            "text/plain": [
              "{'mae': 0.008770899942424241,\n",
              " 'mape': 10764764573176.92,\n",
              " 'mse': 0.0006611984734974118,\n",
              " 'rmse': 0.025713779836838688,\n",
              " 'train_mae': 0.022906321662630194,\n",
              " 'train_mape': 13822538335397.312,\n",
              " 'train_mse': 0.004670458500843828,\n",
              " 'train_rmse': 0.06834075285540706}"
            ]
          },
          "metadata": {},
          "execution_count": 80
        }
      ],
      "source": [
        "random_forest_ideal = show_scores_sklearn(rs_model)\n",
        "random_forest_ideal"
      ]
    },
    {
      "cell_type": "code",
      "execution_count": 81,
      "metadata": {
        "id": "YdOeW9pIuCNf"
      },
      "outputs": [],
      "source": [
        "mae = []\n",
        "mape = []\n",
        "mse = []\n",
        "rmse = []"
      ]
    },
    {
      "cell_type": "code",
      "execution_count": 82,
      "metadata": {
        "id": "q4jpobFLuSvA"
      },
      "outputs": [],
      "source": [
        "mae.append(naive_results['mae'])\n",
        "mae.append(random_forest['mae'])\n",
        "mae.append(random_forest_ideal['mae'])\n",
        "\n",
        "mape.append(naive_results['mape'])\n",
        "mape.append(random_forest['mape'])\n",
        "mape.append(random_forest_ideal['mape'])\n",
        "\n",
        "mse.append(naive_results['mse'])\n",
        "mse.append(random_forest['mse'])\n",
        "mse.append(random_forest_ideal['mse'])\n",
        "\n",
        "rmse.append(naive_results['rmse'])\n",
        "rmse.append(random_forest['rmse'])\n",
        "rmse.append(random_forest_ideal['rmse'])"
      ]
    },
    {
      "cell_type": "code",
      "execution_count": 83,
      "metadata": {
        "id": "jZ8iBpjcvdzn"
      },
      "outputs": [],
      "source": [
        "models = []"
      ]
    },
    {
      "cell_type": "code",
      "execution_count": 84,
      "metadata": {
        "id": "Aa2X-OnkvfId"
      },
      "outputs": [],
      "source": [
        "models.append('Naive')\n",
        "models.append('Random Forest')\n",
        "models.append('Random Forest Randomized Search')"
      ]
    },
    {
      "cell_type": "code",
      "execution_count": 85,
      "metadata": {
        "colab": {
          "base_uri": "https://localhost:8080/",
          "height": 143
        },
        "id": "dvZy0y6ruoxR",
        "outputId": "f8edd1ad-9cb6-4e8a-fdd2-4f3eb2f26796"
      },
      "outputs": [
        {
          "output_type": "execute_result",
          "data": {
            "text/plain": [
              "                            models       mae          mape       mse      rmse\n",
              "0                            Naive  0.005473  4.955045e+05  0.000339  0.018411\n",
              "1                    Random Forest  0.006814  1.029756e+13  0.000357  0.018886\n",
              "2  Random Forest Randomized Search  0.008771  1.076476e+13  0.000661  0.025714"
            ],
            "text/html": [
              "\n",
              "  <div id=\"df-1f8f99fb-5b22-4b46-b889-4f9c8e577fff\">\n",
              "    <div class=\"colab-df-container\">\n",
              "      <div>\n",
              "<style scoped>\n",
              "    .dataframe tbody tr th:only-of-type {\n",
              "        vertical-align: middle;\n",
              "    }\n",
              "\n",
              "    .dataframe tbody tr th {\n",
              "        vertical-align: top;\n",
              "    }\n",
              "\n",
              "    .dataframe thead th {\n",
              "        text-align: right;\n",
              "    }\n",
              "</style>\n",
              "<table border=\"1\" class=\"dataframe\">\n",
              "  <thead>\n",
              "    <tr style=\"text-align: right;\">\n",
              "      <th></th>\n",
              "      <th>models</th>\n",
              "      <th>mae</th>\n",
              "      <th>mape</th>\n",
              "      <th>mse</th>\n",
              "      <th>rmse</th>\n",
              "    </tr>\n",
              "  </thead>\n",
              "  <tbody>\n",
              "    <tr>\n",
              "      <th>0</th>\n",
              "      <td>Naive</td>\n",
              "      <td>0.005473</td>\n",
              "      <td>4.955045e+05</td>\n",
              "      <td>0.000339</td>\n",
              "      <td>0.018411</td>\n",
              "    </tr>\n",
              "    <tr>\n",
              "      <th>1</th>\n",
              "      <td>Random Forest</td>\n",
              "      <td>0.006814</td>\n",
              "      <td>1.029756e+13</td>\n",
              "      <td>0.000357</td>\n",
              "      <td>0.018886</td>\n",
              "    </tr>\n",
              "    <tr>\n",
              "      <th>2</th>\n",
              "      <td>Random Forest Randomized Search</td>\n",
              "      <td>0.008771</td>\n",
              "      <td>1.076476e+13</td>\n",
              "      <td>0.000661</td>\n",
              "      <td>0.025714</td>\n",
              "    </tr>\n",
              "  </tbody>\n",
              "</table>\n",
              "</div>\n",
              "      <button class=\"colab-df-convert\" onclick=\"convertToInteractive('df-1f8f99fb-5b22-4b46-b889-4f9c8e577fff')\"\n",
              "              title=\"Convert this dataframe to an interactive table.\"\n",
              "              style=\"display:none;\">\n",
              "        \n",
              "  <svg xmlns=\"http://www.w3.org/2000/svg\" height=\"24px\"viewBox=\"0 0 24 24\"\n",
              "       width=\"24px\">\n",
              "    <path d=\"M0 0h24v24H0V0z\" fill=\"none\"/>\n",
              "    <path d=\"M18.56 5.44l.94 2.06.94-2.06 2.06-.94-2.06-.94-.94-2.06-.94 2.06-2.06.94zm-11 1L8.5 8.5l.94-2.06 2.06-.94-2.06-.94L8.5 2.5l-.94 2.06-2.06.94zm10 10l.94 2.06.94-2.06 2.06-.94-2.06-.94-.94-2.06-.94 2.06-2.06.94z\"/><path d=\"M17.41 7.96l-1.37-1.37c-.4-.4-.92-.59-1.43-.59-.52 0-1.04.2-1.43.59L10.3 9.45l-7.72 7.72c-.78.78-.78 2.05 0 2.83L4 21.41c.39.39.9.59 1.41.59.51 0 1.02-.2 1.41-.59l7.78-7.78 2.81-2.81c.8-.78.8-2.07 0-2.86zM5.41 20L4 18.59l7.72-7.72 1.47 1.35L5.41 20z\"/>\n",
              "  </svg>\n",
              "      </button>\n",
              "      \n",
              "  <style>\n",
              "    .colab-df-container {\n",
              "      display:flex;\n",
              "      flex-wrap:wrap;\n",
              "      gap: 12px;\n",
              "    }\n",
              "\n",
              "    .colab-df-convert {\n",
              "      background-color: #E8F0FE;\n",
              "      border: none;\n",
              "      border-radius: 50%;\n",
              "      cursor: pointer;\n",
              "      display: none;\n",
              "      fill: #1967D2;\n",
              "      height: 32px;\n",
              "      padding: 0 0 0 0;\n",
              "      width: 32px;\n",
              "    }\n",
              "\n",
              "    .colab-df-convert:hover {\n",
              "      background-color: #E2EBFA;\n",
              "      box-shadow: 0px 1px 2px rgba(60, 64, 67, 0.3), 0px 1px 3px 1px rgba(60, 64, 67, 0.15);\n",
              "      fill: #174EA6;\n",
              "    }\n",
              "\n",
              "    [theme=dark] .colab-df-convert {\n",
              "      background-color: #3B4455;\n",
              "      fill: #D2E3FC;\n",
              "    }\n",
              "\n",
              "    [theme=dark] .colab-df-convert:hover {\n",
              "      background-color: #434B5C;\n",
              "      box-shadow: 0px 1px 3px 1px rgba(0, 0, 0, 0.15);\n",
              "      filter: drop-shadow(0px 1px 2px rgba(0, 0, 0, 0.3));\n",
              "      fill: #FFFFFF;\n",
              "    }\n",
              "  </style>\n",
              "\n",
              "      <script>\n",
              "        const buttonEl =\n",
              "          document.querySelector('#df-1f8f99fb-5b22-4b46-b889-4f9c8e577fff button.colab-df-convert');\n",
              "        buttonEl.style.display =\n",
              "          google.colab.kernel.accessAllowed ? 'block' : 'none';\n",
              "\n",
              "        async function convertToInteractive(key) {\n",
              "          const element = document.querySelector('#df-1f8f99fb-5b22-4b46-b889-4f9c8e577fff');\n",
              "          const dataTable =\n",
              "            await google.colab.kernel.invokeFunction('convertToInteractive',\n",
              "                                                     [key], {});\n",
              "          if (!dataTable) return;\n",
              "\n",
              "          const docLinkHtml = 'Like what you see? Visit the ' +\n",
              "            '<a target=\"_blank\" href=https://colab.research.google.com/notebooks/data_table.ipynb>data table notebook</a>'\n",
              "            + ' to learn more about interactive tables.';\n",
              "          element.innerHTML = '';\n",
              "          dataTable['output_type'] = 'display_data';\n",
              "          await google.colab.output.renderOutput(dataTable, element);\n",
              "          const docLink = document.createElement('div');\n",
              "          docLink.innerHTML = docLinkHtml;\n",
              "          element.appendChild(docLink);\n",
              "        }\n",
              "      </script>\n",
              "    </div>\n",
              "  </div>\n",
              "  "
            ]
          },
          "metadata": {},
          "execution_count": 85
        }
      ],
      "source": [
        "scores = pd.DataFrame(\n",
        "    data={\n",
        "        'models': models,\n",
        "        'mae': mae,\n",
        "        'mape': mape,\n",
        "        'mse': mse,\n",
        "        'rmse': rmse,\n",
        "    }    \n",
        ")\n",
        "\n",
        "scores"
      ]
    },
    {
      "cell_type": "markdown",
      "source": [
        "### KNN"
      ],
      "metadata": {
        "id": "6sXtyNQfYnlI"
      }
    },
    {
      "cell_type": "code",
      "execution_count": null,
      "metadata": {
        "id": "5HMOfId8I0H9"
      },
      "outputs": [],
      "source": [
        "from sklearn.neighbors import KNeighborsRegressor"
      ]
    },
    {
      "cell_type": "code",
      "execution_count": null,
      "metadata": {
        "colab": {
          "base_uri": "https://localhost:8080/"
        },
        "id": "oq4JtPOe1lMh",
        "outputId": "b5698c89-f737-4289-fed2-49c7fb4c6e3a"
      },
      "outputs": [
        {
          "output_type": "execute_result",
          "data": {
            "text/plain": [
              "KNeighborsRegressor(n_jobs=-1)"
            ]
          },
          "metadata": {},
          "execution_count": 139
        }
      ],
      "source": [
        "np.random.seed(42)\n",
        "k_model = KNeighborsRegressor(\n",
        "    n_jobs=-1,\n",
        "    #n_neighbors=2,\n",
        "    # random_state=42,\n",
        "    # max_samples=10000, #minimizes the data\n",
        ")\n",
        "\n",
        "# X_train = np.asarray(X_train)\n",
        "# y_train = np.asarray(y_train)\n",
        "k_model.fit(X_train, y_train)"
      ]
    },
    {
      "cell_type": "code",
      "execution_count": null,
      "metadata": {
        "colab": {
          "base_uri": "https://localhost:8080/"
        },
        "id": "D7pJgpvzJBBp",
        "outputId": "632f344a-2a32-496e-87dc-1e783e2c676a"
      },
      "outputs": [
        {
          "output_type": "stream",
          "name": "stderr",
          "text": [
            "/usr/local/lib/python3.7/dist-packages/sklearn/base.py:444: UserWarning: X has feature names, but KNeighborsRegressor was fitted without feature names\n",
            "  f\"X has feature names, but {self.__class__.__name__} was fitted without\"\n"
          ]
        },
        {
          "output_type": "execute_result",
          "data": {
            "text/plain": [
              "(0.7023217680609357, -33.25121207579849)"
            ]
          },
          "metadata": {},
          "execution_count": 140
        }
      ],
      "source": [
        "k_model.score(X_train, y_train), k_model.score(X_test, y_test)"
      ]
    },
    {
      "cell_type": "code",
      "execution_count": null,
      "metadata": {
        "colab": {
          "base_uri": "https://localhost:8080/"
        },
        "id": "bAUcD5KOLVOm",
        "outputId": "cb63c5e2-c5f1-444b-de1d-40586ff30e01"
      },
      "outputs": [
        {
          "output_type": "stream",
          "name": "stderr",
          "text": [
            "/usr/local/lib/python3.7/dist-packages/sklearn/base.py:444: UserWarning: X has feature names, but KNeighborsRegressor was fitted without feature names\n",
            "  f\"X has feature names, but {self.__class__.__name__} was fitted without\"\n"
          ]
        },
        {
          "output_type": "execute_result",
          "data": {
            "text/plain": [
              "{'mae': 0.101333335,\n",
              " 'mape': 108686865000000.0,\n",
              " 'mse': 0.03210263,\n",
              " 'rmse': 0.17917207,\n",
              " 'train_mae': 0.049615383,\n",
              " 'train_mape': 40987090000000.0,\n",
              " 'train_mse': 0.010442808,\n",
              " 'train_rmse': 0.102190055}"
            ]
          },
          "metadata": {},
          "execution_count": 141
        }
      ],
      "source": [
        "k_scores = show_scores_sklearn(k_model)\n",
        "k_scores"
      ]
    },
    {
      "cell_type": "code",
      "execution_count": null,
      "metadata": {
        "colab": {
          "base_uri": "https://localhost:8080/"
        },
        "id": "S_OyGb0xLYUu",
        "outputId": "90cd6c7c-8ebc-480c-f472-f0b7e0a7767a"
      },
      "outputs": [
        {
          "output_type": "stream",
          "name": "stdout",
          "text": [
            "Fitting 5 folds for each of 5 candidates, totalling 25 fits\n"
          ]
        },
        {
          "output_type": "execute_result",
          "data": {
            "text/plain": [
              "RandomizedSearchCV(cv=5, estimator=KNeighborsRegressor(n_jobs=-1), n_iter=5,\n",
              "                   param_distributions={'algorithm': ['auto', 'ball_tree',\n",
              "                                                      'kd_tree', 'brute'],\n",
              "                                        'leaf_size': [20, 30, 40, 50, 60],\n",
              "                                        'n_neighbors': [1, 3, 5, 10, 20]},\n",
              "                   verbose=True)"
            ]
          },
          "metadata": {},
          "execution_count": 142
        }
      ],
      "source": [
        "rf_k_params = {\n",
        "    'n_neighbors': [1, 3, 5, 10, 20],\n",
        "    'algorithm': ['auto', 'ball_tree', 'kd_tree', 'brute'],\n",
        "    'leaf_size': [20, 30, 40, 50, 60]\n",
        "}\n",
        "\n",
        "np.random.seed(42)\n",
        "rs_k_model = RandomizedSearchCV(\n",
        "    KNeighborsRegressor(\n",
        "        n_jobs=-1,\n",
        "        #random_state=42,\n",
        "    ),\n",
        "    param_distributions=rf_k_params,\n",
        "    n_iter=5,\n",
        "    cv=5,\n",
        "    verbose=True\n",
        ")\n",
        "\n",
        "#Fit the randomized search cv model\n",
        "rs_k_model.fit(X_train, y_train)"
      ]
    },
    {
      "cell_type": "code",
      "execution_count": null,
      "metadata": {
        "colab": {
          "base_uri": "https://localhost:8080/"
        },
        "id": "fnoiIMAKMxS5",
        "outputId": "1a8fafb3-24cb-4704-8686-6a1a960c2483"
      },
      "outputs": [
        {
          "output_type": "stream",
          "name": "stderr",
          "text": [
            "/usr/local/lib/python3.7/dist-packages/sklearn/base.py:444: UserWarning: X has feature names, but KNeighborsRegressor was fitted without feature names\n",
            "  f\"X has feature names, but {self.__class__.__name__} was fitted without\"\n"
          ]
        },
        {
          "output_type": "execute_result",
          "data": {
            "text/plain": [
              "(1.0, -33.60913300207516)"
            ]
          },
          "metadata": {},
          "execution_count": 143
        }
      ],
      "source": [
        "rs_k_model.score(X_train, y_train), rs_k_model.score(X_test, y_test)"
      ]
    },
    {
      "cell_type": "code",
      "execution_count": null,
      "metadata": {
        "colab": {
          "base_uri": "https://localhost:8080/"
        },
        "id": "M4Ka8jPzM3bA",
        "outputId": "0e268f7d-f986-4d0f-baca-5d37a2b19fe9"
      },
      "outputs": [
        {
          "output_type": "stream",
          "name": "stderr",
          "text": [
            "/usr/local/lib/python3.7/dist-packages/sklearn/base.py:444: UserWarning: X has feature names, but KNeighborsRegressor was fitted without feature names\n",
            "  f\"X has feature names, but {self.__class__.__name__} was fitted without\"\n"
          ]
        },
        {
          "output_type": "execute_result",
          "data": {
            "text/plain": [
              "{'mae': 0.09257143,\n",
              " 'mape': 100365945000000.0,\n",
              " 'mse': 0.0324381,\n",
              " 'rmse': 0.1801058,\n",
              " 'train_mae': 0.0,\n",
              " 'train_mape': 0.0,\n",
              " 'train_mse': 0.0,\n",
              " 'train_rmse': 0.0}"
            ]
          },
          "metadata": {},
          "execution_count": 144
        }
      ],
      "source": [
        "knr_ideal = show_scores_sklearn(rs_k_model)\n",
        "knr_ideal"
      ]
    },
    {
      "cell_type": "code",
      "execution_count": null,
      "metadata": {
        "colab": {
          "base_uri": "https://localhost:8080/",
          "height": 305
        },
        "id": "V4VasUrjNBm9",
        "outputId": "2fa5ff49-02ee-4d37-b6d6-7a4d0d60f7ef"
      },
      "outputs": [
        {
          "output_type": "execute_result",
          "data": {
            "text/plain": [
              "                                   models       mae          mape       mse  \\\n",
              "0                                   Naive  0.005769  6.731002e+05  0.000092   \n",
              "1                           Random Forest  0.013312  1.272589e+13  0.000281   \n",
              "2         Random Forest Randomized Search  0.015331  8.694699e+12  0.000470   \n",
              "3                    KNeighboursRegressor  0.101333  1.086869e+14  0.032103   \n",
              "4  KNeighboursRegressor Randomized Search  0.092571  1.003659e+14  0.032438   \n",
              "\n",
              "       rmse  \n",
              "0  0.009608  \n",
              "1  0.016776  \n",
              "2  0.021679  \n",
              "3  0.179172  \n",
              "4  0.180106  "
            ],
            "text/html": [
              "\n",
              "  <div id=\"df-57ca65ee-112b-4ba2-9dd8-83ae792fa8a0\">\n",
              "    <div class=\"colab-df-container\">\n",
              "      <div>\n",
              "<style scoped>\n",
              "    .dataframe tbody tr th:only-of-type {\n",
              "        vertical-align: middle;\n",
              "    }\n",
              "\n",
              "    .dataframe tbody tr th {\n",
              "        vertical-align: top;\n",
              "    }\n",
              "\n",
              "    .dataframe thead th {\n",
              "        text-align: right;\n",
              "    }\n",
              "</style>\n",
              "<table border=\"1\" class=\"dataframe\">\n",
              "  <thead>\n",
              "    <tr style=\"text-align: right;\">\n",
              "      <th></th>\n",
              "      <th>models</th>\n",
              "      <th>mae</th>\n",
              "      <th>mape</th>\n",
              "      <th>mse</th>\n",
              "      <th>rmse</th>\n",
              "    </tr>\n",
              "  </thead>\n",
              "  <tbody>\n",
              "    <tr>\n",
              "      <th>0</th>\n",
              "      <td>Naive</td>\n",
              "      <td>0.005769</td>\n",
              "      <td>6.731002e+05</td>\n",
              "      <td>0.000092</td>\n",
              "      <td>0.009608</td>\n",
              "    </tr>\n",
              "    <tr>\n",
              "      <th>1</th>\n",
              "      <td>Random Forest</td>\n",
              "      <td>0.013312</td>\n",
              "      <td>1.272589e+13</td>\n",
              "      <td>0.000281</td>\n",
              "      <td>0.016776</td>\n",
              "    </tr>\n",
              "    <tr>\n",
              "      <th>2</th>\n",
              "      <td>Random Forest Randomized Search</td>\n",
              "      <td>0.015331</td>\n",
              "      <td>8.694699e+12</td>\n",
              "      <td>0.000470</td>\n",
              "      <td>0.021679</td>\n",
              "    </tr>\n",
              "    <tr>\n",
              "      <th>3</th>\n",
              "      <td>KNeighboursRegressor</td>\n",
              "      <td>0.101333</td>\n",
              "      <td>1.086869e+14</td>\n",
              "      <td>0.032103</td>\n",
              "      <td>0.179172</td>\n",
              "    </tr>\n",
              "    <tr>\n",
              "      <th>4</th>\n",
              "      <td>KNeighboursRegressor Randomized Search</td>\n",
              "      <td>0.092571</td>\n",
              "      <td>1.003659e+14</td>\n",
              "      <td>0.032438</td>\n",
              "      <td>0.180106</td>\n",
              "    </tr>\n",
              "  </tbody>\n",
              "</table>\n",
              "</div>\n",
              "      <button class=\"colab-df-convert\" onclick=\"convertToInteractive('df-57ca65ee-112b-4ba2-9dd8-83ae792fa8a0')\"\n",
              "              title=\"Convert this dataframe to an interactive table.\"\n",
              "              style=\"display:none;\">\n",
              "        \n",
              "  <svg xmlns=\"http://www.w3.org/2000/svg\" height=\"24px\"viewBox=\"0 0 24 24\"\n",
              "       width=\"24px\">\n",
              "    <path d=\"M0 0h24v24H0V0z\" fill=\"none\"/>\n",
              "    <path d=\"M18.56 5.44l.94 2.06.94-2.06 2.06-.94-2.06-.94-.94-2.06-.94 2.06-2.06.94zm-11 1L8.5 8.5l.94-2.06 2.06-.94-2.06-.94L8.5 2.5l-.94 2.06-2.06.94zm10 10l.94 2.06.94-2.06 2.06-.94-2.06-.94-.94-2.06-.94 2.06-2.06.94z\"/><path d=\"M17.41 7.96l-1.37-1.37c-.4-.4-.92-.59-1.43-.59-.52 0-1.04.2-1.43.59L10.3 9.45l-7.72 7.72c-.78.78-.78 2.05 0 2.83L4 21.41c.39.39.9.59 1.41.59.51 0 1.02-.2 1.41-.59l7.78-7.78 2.81-2.81c.8-.78.8-2.07 0-2.86zM5.41 20L4 18.59l7.72-7.72 1.47 1.35L5.41 20z\"/>\n",
              "  </svg>\n",
              "      </button>\n",
              "      \n",
              "  <style>\n",
              "    .colab-df-container {\n",
              "      display:flex;\n",
              "      flex-wrap:wrap;\n",
              "      gap: 12px;\n",
              "    }\n",
              "\n",
              "    .colab-df-convert {\n",
              "      background-color: #E8F0FE;\n",
              "      border: none;\n",
              "      border-radius: 50%;\n",
              "      cursor: pointer;\n",
              "      display: none;\n",
              "      fill: #1967D2;\n",
              "      height: 32px;\n",
              "      padding: 0 0 0 0;\n",
              "      width: 32px;\n",
              "    }\n",
              "\n",
              "    .colab-df-convert:hover {\n",
              "      background-color: #E2EBFA;\n",
              "      box-shadow: 0px 1px 2px rgba(60, 64, 67, 0.3), 0px 1px 3px 1px rgba(60, 64, 67, 0.15);\n",
              "      fill: #174EA6;\n",
              "    }\n",
              "\n",
              "    [theme=dark] .colab-df-convert {\n",
              "      background-color: #3B4455;\n",
              "      fill: #D2E3FC;\n",
              "    }\n",
              "\n",
              "    [theme=dark] .colab-df-convert:hover {\n",
              "      background-color: #434B5C;\n",
              "      box-shadow: 0px 1px 3px 1px rgba(0, 0, 0, 0.15);\n",
              "      filter: drop-shadow(0px 1px 2px rgba(0, 0, 0, 0.3));\n",
              "      fill: #FFFFFF;\n",
              "    }\n",
              "  </style>\n",
              "\n",
              "      <script>\n",
              "        const buttonEl =\n",
              "          document.querySelector('#df-57ca65ee-112b-4ba2-9dd8-83ae792fa8a0 button.colab-df-convert');\n",
              "        buttonEl.style.display =\n",
              "          google.colab.kernel.accessAllowed ? 'block' : 'none';\n",
              "\n",
              "        async function convertToInteractive(key) {\n",
              "          const element = document.querySelector('#df-57ca65ee-112b-4ba2-9dd8-83ae792fa8a0');\n",
              "          const dataTable =\n",
              "            await google.colab.kernel.invokeFunction('convertToInteractive',\n",
              "                                                     [key], {});\n",
              "          if (!dataTable) return;\n",
              "\n",
              "          const docLinkHtml = 'Like what you see? Visit the ' +\n",
              "            '<a target=\"_blank\" href=https://colab.research.google.com/notebooks/data_table.ipynb>data table notebook</a>'\n",
              "            + ' to learn more about interactive tables.';\n",
              "          element.innerHTML = '';\n",
              "          dataTable['output_type'] = 'display_data';\n",
              "          await google.colab.output.renderOutput(dataTable, element);\n",
              "          const docLink = document.createElement('div');\n",
              "          docLink.innerHTML = docLinkHtml;\n",
              "          element.appendChild(docLink);\n",
              "        }\n",
              "      </script>\n",
              "    </div>\n",
              "  </div>\n",
              "  "
            ]
          },
          "metadata": {},
          "execution_count": 145
        }
      ],
      "source": [
        "models.append('KNeighboursRegressor')\n",
        "models.append('KNeighboursRegressor Randomized Search')\n",
        "\n",
        "mae.append(k_scores['mae'])\n",
        "mape.append(k_scores['mape'])\n",
        "mse.append(k_scores['mse']) \n",
        "rmse.append(k_scores['rmse'])\n",
        "\n",
        "mae.append(knr_ideal['mae'])\n",
        "mape.append(knr_ideal['mape'])\n",
        "mse.append(knr_ideal['mse']) \n",
        "rmse.append(knr_ideal['rmse']) \n",
        "\n",
        "scores = pd.DataFrame(\n",
        "    data={\n",
        "        'models': models,\n",
        "        'mae': mae,\n",
        "        'mape': mape,\n",
        "        'mse': mse,\n",
        "        'rmse': rmse,\n",
        "    }    \n",
        ")\n",
        "\n",
        "scores"
      ]
    },
    {
      "cell_type": "markdown",
      "metadata": {
        "id": "GJfKLypvO-_t"
      },
      "source": [
        "### Support Vector Regressor"
      ]
    },
    {
      "cell_type": "code",
      "execution_count": null,
      "metadata": {
        "id": "RL2jeGfUPCgq"
      },
      "outputs": [],
      "source": [
        "from sklearn.svm import SVR"
      ]
    },
    {
      "cell_type": "code",
      "execution_count": null,
      "metadata": {
        "colab": {
          "base_uri": "https://localhost:8080/"
        },
        "id": "jSJbLIBvPggp",
        "outputId": "644f8c65-34ea-44bc-9dac-5669bcb5140d"
      },
      "outputs": [
        {
          "output_type": "execute_result",
          "data": {
            "text/plain": [
              "SVR()"
            ]
          },
          "metadata": {},
          "execution_count": 147
        }
      ],
      "source": [
        "np.random.seed(42)\n",
        "svr_model = SVR()\n",
        "\n",
        "# X_train = np.asarray(X_train)|\n",
        "# y_train = np.asarray(y_train)\n",
        "svr_model.fit(X_train, y_train)"
      ]
    },
    {
      "cell_type": "code",
      "execution_count": null,
      "metadata": {
        "colab": {
          "base_uri": "https://localhost:8080/"
        },
        "id": "So6s8Q1RQRkc",
        "outputId": "8bb573e5-0152-4915-d924-3dff4ce6678b"
      },
      "outputs": [
        {
          "output_type": "stream",
          "name": "stderr",
          "text": [
            "/usr/local/lib/python3.7/dist-packages/sklearn/base.py:444: UserWarning: X has feature names, but SVR was fitted without feature names\n",
            "  f\"X has feature names, but {self.__class__.__name__} was fitted without\"\n"
          ]
        },
        {
          "output_type": "execute_result",
          "data": {
            "text/plain": [
              "(0.005467028350361058, -6.240230461894922)"
            ]
          },
          "metadata": {},
          "execution_count": 148
        }
      ],
      "source": [
        "svr_model.score(X_train, y_train), svr_model.score(X_test, y_test)"
      ]
    },
    {
      "cell_type": "code",
      "execution_count": null,
      "metadata": {
        "colab": {
          "base_uri": "https://localhost:8080/"
        },
        "id": "UkUxqJy1QVwy",
        "outputId": "b562b896-9efa-40ad-a017-4a8c2dac0215"
      },
      "outputs": [
        {
          "output_type": "stream",
          "name": "stderr",
          "text": [
            "/usr/local/lib/python3.7/dist-packages/sklearn/base.py:444: UserWarning: X has feature names, but SVR was fitted without feature names\n",
            "  f\"X has feature names, but {self.__class__.__name__} was fitted without\"\n"
          ]
        },
        {
          "output_type": "execute_result",
          "data": {
            "text/plain": [
              "{'mae': 0.07683887398657722,\n",
              " 'mape': 112997695445044.89,\n",
              " 'mse': 0.0067860498708734755,\n",
              " 'rmse': 0.08237748400426828,\n",
              " 'train_mae': 0.12794034859660497,\n",
              " 'train_mape': 180700673123132.06,\n",
              " 'train_mse': 0.03488907114439473,\n",
              " 'train_rmse': 0.18678616422100094}"
            ]
          },
          "metadata": {},
          "execution_count": 149
        }
      ],
      "source": [
        "svr_scores = show_scores_sklearn(svr_model)\n",
        "svr_scores"
      ]
    },
    {
      "cell_type": "code",
      "execution_count": null,
      "metadata": {
        "colab": {
          "base_uri": "https://localhost:8080/"
        },
        "id": "tg_nJX3TQbYV",
        "outputId": "2fd58b82-3458-48b8-b49d-b5f153fb9973"
      },
      "outputs": [
        {
          "output_type": "stream",
          "name": "stdout",
          "text": [
            "Fitting 5 folds for each of 5 candidates, totalling 25 fits\n"
          ]
        },
        {
          "output_type": "execute_result",
          "data": {
            "text/plain": [
              "RandomizedSearchCV(cv=5, estimator=SVR(), n_iter=5,\n",
              "                   param_distributions={'C': [1, 3, 5, 7, 9],\n",
              "                                        'degree': [1, 3, 5, 7, 9],\n",
              "                                        'epsilon': [0.1, 0.3, 0.5, 0.7, 0.9],\n",
              "                                        'gamma': ['scale', 'auto'],\n",
              "                                        'kernel': ['linear', 'poly', 'rbf',\n",
              "                                                   'sigmoid']},\n",
              "                   verbose=True)"
            ]
          },
          "metadata": {},
          "execution_count": 150
        }
      ],
      "source": [
        "rf_svr_params = {\n",
        "    'kernel': ['linear', 'poly', 'rbf', 'sigmoid'],\n",
        "    'gamma': ['scale', 'auto'],\n",
        "    'degree': [1, 3, 5, 7, 9],\n",
        "    'epsilon': [0.1, 0.3, 0.5, 0.7, 0.9],\n",
        "    'C': [1, 3, 5, 7, 9], \n",
        "}\n",
        "\n",
        "np.random.seed(42)\n",
        "rs_svr_model = RandomizedSearchCV(\n",
        "    SVR(),\n",
        "    param_distributions=rf_svr_params,\n",
        "    n_iter=5,\n",
        "    cv=5,\n",
        "    verbose=True\n",
        ")\n",
        "\n",
        "# X_train = np.asarray(X_train)\n",
        "# y_train = np.asarray(y_train)\n",
        "#Fit the randomized search cv model\n",
        "rs_svr_model.fit(X_train, y_train)"
      ]
    },
    {
      "cell_type": "code",
      "execution_count": null,
      "metadata": {
        "colab": {
          "base_uri": "https://localhost:8080/"
        },
        "id": "TfX7YWArTwFW",
        "outputId": "dbaf4a21-81c9-4687-8420-08fb2e556c7a"
      },
      "outputs": [
        {
          "output_type": "stream",
          "name": "stderr",
          "text": [
            "/usr/local/lib/python3.7/dist-packages/sklearn/base.py:444: UserWarning: X has feature names, but SVR was fitted without feature names\n",
            "  f\"X has feature names, but {self.__class__.__name__} was fitted without\"\n"
          ]
        },
        {
          "output_type": "execute_result",
          "data": {
            "text/plain": [
              "(-1.316024155371554, -130.87463643573753)"
            ]
          },
          "metadata": {},
          "execution_count": 151
        }
      ],
      "source": [
        "rs_svr_model.score(X_train, y_train), rs_svr_model.score(X_test, y_test)"
      ]
    },
    {
      "cell_type": "code",
      "execution_count": null,
      "metadata": {
        "colab": {
          "base_uri": "https://localhost:8080/"
        },
        "id": "LyRPXhMuUSvM",
        "outputId": "b50a6253-8071-4aee-c531-cf2400f0aa29"
      },
      "outputs": [
        {
          "output_type": "stream",
          "name": "stderr",
          "text": [
            "/usr/local/lib/python3.7/dist-packages/sklearn/base.py:444: UserWarning: X has feature names, but SVR was fitted without feature names\n",
            "  f\"X has feature names, but {self.__class__.__name__} was fitted without\"\n"
          ]
        },
        {
          "output_type": "execute_result",
          "data": {
            "text/plain": [
              "{'mae': 0.3370340790473201,\n",
              " 'mape': 404985832198621.1,\n",
              " 'mse': 0.12360212347743511,\n",
              " 'rmse': 0.3515709366222343,\n",
              " 'train_mae': 0.2526624478864663,\n",
              " 'train_mape': 489888471264007.3,\n",
              " 'train_mse': 0.0812481172895302,\n",
              " 'train_rmse': 0.28504055376302195}"
            ]
          },
          "metadata": {},
          "execution_count": 152
        }
      ],
      "source": [
        "rs_svr_scores = show_scores_sklearn(rs_svr_model)\n",
        "rs_svr_scores"
      ]
    },
    {
      "cell_type": "code",
      "execution_count": null,
      "metadata": {
        "colab": {
          "base_uri": "https://localhost:8080/",
          "height": 420
        },
        "id": "eI666yozUWpo",
        "outputId": "26004320-1d9b-403b-f2f4-5d56e2872907"
      },
      "outputs": [
        {
          "output_type": "execute_result",
          "data": {
            "text/plain": [
              "                                        models       mae          mape  \\\n",
              "0                                        Naive  0.005769  6.731002e+05   \n",
              "1                                Random Forest  0.013312  1.272589e+13   \n",
              "2              Random Forest Randomized Search  0.015331  8.694699e+12   \n",
              "3                         KNeighboursRegressor  0.101333  1.086869e+14   \n",
              "4       KNeighboursRegressor Randomized Search  0.092571  1.003659e+14   \n",
              "5                    Support Vector Regression  0.076839  1.129977e+14   \n",
              "6  Support Vector Regression Randomized Search  0.337034  4.049858e+14   \n",
              "\n",
              "        mse      rmse  \n",
              "0  0.000092  0.009608  \n",
              "1  0.000281  0.016776  \n",
              "2  0.000470  0.021679  \n",
              "3  0.032103  0.179172  \n",
              "4  0.032438  0.180106  \n",
              "5  0.006786  0.082377  \n",
              "6  0.123602  0.351571  "
            ],
            "text/html": [
              "\n",
              "  <div id=\"df-9bedc47e-1505-4890-bbd5-44d6279e20e4\">\n",
              "    <div class=\"colab-df-container\">\n",
              "      <div>\n",
              "<style scoped>\n",
              "    .dataframe tbody tr th:only-of-type {\n",
              "        vertical-align: middle;\n",
              "    }\n",
              "\n",
              "    .dataframe tbody tr th {\n",
              "        vertical-align: top;\n",
              "    }\n",
              "\n",
              "    .dataframe thead th {\n",
              "        text-align: right;\n",
              "    }\n",
              "</style>\n",
              "<table border=\"1\" class=\"dataframe\">\n",
              "  <thead>\n",
              "    <tr style=\"text-align: right;\">\n",
              "      <th></th>\n",
              "      <th>models</th>\n",
              "      <th>mae</th>\n",
              "      <th>mape</th>\n",
              "      <th>mse</th>\n",
              "      <th>rmse</th>\n",
              "    </tr>\n",
              "  </thead>\n",
              "  <tbody>\n",
              "    <tr>\n",
              "      <th>0</th>\n",
              "      <td>Naive</td>\n",
              "      <td>0.005769</td>\n",
              "      <td>6.731002e+05</td>\n",
              "      <td>0.000092</td>\n",
              "      <td>0.009608</td>\n",
              "    </tr>\n",
              "    <tr>\n",
              "      <th>1</th>\n",
              "      <td>Random Forest</td>\n",
              "      <td>0.013312</td>\n",
              "      <td>1.272589e+13</td>\n",
              "      <td>0.000281</td>\n",
              "      <td>0.016776</td>\n",
              "    </tr>\n",
              "    <tr>\n",
              "      <th>2</th>\n",
              "      <td>Random Forest Randomized Search</td>\n",
              "      <td>0.015331</td>\n",
              "      <td>8.694699e+12</td>\n",
              "      <td>0.000470</td>\n",
              "      <td>0.021679</td>\n",
              "    </tr>\n",
              "    <tr>\n",
              "      <th>3</th>\n",
              "      <td>KNeighboursRegressor</td>\n",
              "      <td>0.101333</td>\n",
              "      <td>1.086869e+14</td>\n",
              "      <td>0.032103</td>\n",
              "      <td>0.179172</td>\n",
              "    </tr>\n",
              "    <tr>\n",
              "      <th>4</th>\n",
              "      <td>KNeighboursRegressor Randomized Search</td>\n",
              "      <td>0.092571</td>\n",
              "      <td>1.003659e+14</td>\n",
              "      <td>0.032438</td>\n",
              "      <td>0.180106</td>\n",
              "    </tr>\n",
              "    <tr>\n",
              "      <th>5</th>\n",
              "      <td>Support Vector Regression</td>\n",
              "      <td>0.076839</td>\n",
              "      <td>1.129977e+14</td>\n",
              "      <td>0.006786</td>\n",
              "      <td>0.082377</td>\n",
              "    </tr>\n",
              "    <tr>\n",
              "      <th>6</th>\n",
              "      <td>Support Vector Regression Randomized Search</td>\n",
              "      <td>0.337034</td>\n",
              "      <td>4.049858e+14</td>\n",
              "      <td>0.123602</td>\n",
              "      <td>0.351571</td>\n",
              "    </tr>\n",
              "  </tbody>\n",
              "</table>\n",
              "</div>\n",
              "      <button class=\"colab-df-convert\" onclick=\"convertToInteractive('df-9bedc47e-1505-4890-bbd5-44d6279e20e4')\"\n",
              "              title=\"Convert this dataframe to an interactive table.\"\n",
              "              style=\"display:none;\">\n",
              "        \n",
              "  <svg xmlns=\"http://www.w3.org/2000/svg\" height=\"24px\"viewBox=\"0 0 24 24\"\n",
              "       width=\"24px\">\n",
              "    <path d=\"M0 0h24v24H0V0z\" fill=\"none\"/>\n",
              "    <path d=\"M18.56 5.44l.94 2.06.94-2.06 2.06-.94-2.06-.94-.94-2.06-.94 2.06-2.06.94zm-11 1L8.5 8.5l.94-2.06 2.06-.94-2.06-.94L8.5 2.5l-.94 2.06-2.06.94zm10 10l.94 2.06.94-2.06 2.06-.94-2.06-.94-.94-2.06-.94 2.06-2.06.94z\"/><path d=\"M17.41 7.96l-1.37-1.37c-.4-.4-.92-.59-1.43-.59-.52 0-1.04.2-1.43.59L10.3 9.45l-7.72 7.72c-.78.78-.78 2.05 0 2.83L4 21.41c.39.39.9.59 1.41.59.51 0 1.02-.2 1.41-.59l7.78-7.78 2.81-2.81c.8-.78.8-2.07 0-2.86zM5.41 20L4 18.59l7.72-7.72 1.47 1.35L5.41 20z\"/>\n",
              "  </svg>\n",
              "      </button>\n",
              "      \n",
              "  <style>\n",
              "    .colab-df-container {\n",
              "      display:flex;\n",
              "      flex-wrap:wrap;\n",
              "      gap: 12px;\n",
              "    }\n",
              "\n",
              "    .colab-df-convert {\n",
              "      background-color: #E8F0FE;\n",
              "      border: none;\n",
              "      border-radius: 50%;\n",
              "      cursor: pointer;\n",
              "      display: none;\n",
              "      fill: #1967D2;\n",
              "      height: 32px;\n",
              "      padding: 0 0 0 0;\n",
              "      width: 32px;\n",
              "    }\n",
              "\n",
              "    .colab-df-convert:hover {\n",
              "      background-color: #E2EBFA;\n",
              "      box-shadow: 0px 1px 2px rgba(60, 64, 67, 0.3), 0px 1px 3px 1px rgba(60, 64, 67, 0.15);\n",
              "      fill: #174EA6;\n",
              "    }\n",
              "\n",
              "    [theme=dark] .colab-df-convert {\n",
              "      background-color: #3B4455;\n",
              "      fill: #D2E3FC;\n",
              "    }\n",
              "\n",
              "    [theme=dark] .colab-df-convert:hover {\n",
              "      background-color: #434B5C;\n",
              "      box-shadow: 0px 1px 3px 1px rgba(0, 0, 0, 0.15);\n",
              "      filter: drop-shadow(0px 1px 2px rgba(0, 0, 0, 0.3));\n",
              "      fill: #FFFFFF;\n",
              "    }\n",
              "  </style>\n",
              "\n",
              "      <script>\n",
              "        const buttonEl =\n",
              "          document.querySelector('#df-9bedc47e-1505-4890-bbd5-44d6279e20e4 button.colab-df-convert');\n",
              "        buttonEl.style.display =\n",
              "          google.colab.kernel.accessAllowed ? 'block' : 'none';\n",
              "\n",
              "        async function convertToInteractive(key) {\n",
              "          const element = document.querySelector('#df-9bedc47e-1505-4890-bbd5-44d6279e20e4');\n",
              "          const dataTable =\n",
              "            await google.colab.kernel.invokeFunction('convertToInteractive',\n",
              "                                                     [key], {});\n",
              "          if (!dataTable) return;\n",
              "\n",
              "          const docLinkHtml = 'Like what you see? Visit the ' +\n",
              "            '<a target=\"_blank\" href=https://colab.research.google.com/notebooks/data_table.ipynb>data table notebook</a>'\n",
              "            + ' to learn more about interactive tables.';\n",
              "          element.innerHTML = '';\n",
              "          dataTable['output_type'] = 'display_data';\n",
              "          await google.colab.output.renderOutput(dataTable, element);\n",
              "          const docLink = document.createElement('div');\n",
              "          docLink.innerHTML = docLinkHtml;\n",
              "          element.appendChild(docLink);\n",
              "        }\n",
              "      </script>\n",
              "    </div>\n",
              "  </div>\n",
              "  "
            ]
          },
          "metadata": {},
          "execution_count": 153
        }
      ],
      "source": [
        "models.append('Support Vector Regression')\n",
        "models.append('Support Vector Regression Randomized Search')\n",
        "\n",
        "mae.append(svr_scores['mae'])\n",
        "mape.append(svr_scores['mape'])\n",
        "mse.append(svr_scores['mse']) \n",
        "rmse.append(svr_scores['rmse'])\n",
        "\n",
        "mae.append(rs_svr_scores['mae'])\n",
        "mape.append(rs_svr_scores['mape'])\n",
        "mse.append(rs_svr_scores['mse']) \n",
        "rmse.append(rs_svr_scores['rmse']) \n",
        "\n",
        "scores = pd.DataFrame(\n",
        "    data={\n",
        "        'models': models,\n",
        "        'mae': mae,\n",
        "        'mape': mape,\n",
        "        'mse': mse,\n",
        "        'rmse': rmse,\n",
        "    }    \n",
        ")\n",
        "\n",
        "scores"
      ]
    },
    {
      "cell_type": "markdown",
      "metadata": {
        "id": "NLwiiLiLngVq"
      },
      "source": [
        "### Ensemble Methods"
      ]
    },
    {
      "cell_type": "markdown",
      "metadata": {
        "id": "d1MPTF1no7VC"
      },
      "source": [
        "#### Combining RFR, KNR, and SVR"
      ]
    },
    {
      "cell_type": "code",
      "execution_count": null,
      "metadata": {
        "id": "kUcSa3i2siXW"
      },
      "outputs": [],
      "source": [
        "from sklearn.ensemble import VotingRegressor"
      ]
    },
    {
      "cell_type": "code",
      "execution_count": null,
      "metadata": {
        "id": "pnbKjenfskGI",
        "colab": {
          "base_uri": "https://localhost:8080/"
        },
        "outputId": "f250f587-5768-4db0-fbac-de04c91bd661"
      },
      "outputs": [
        {
          "output_type": "stream",
          "name": "stdout",
          "text": [
            "Fitting 5 folds for each of 5 candidates, totalling 25 fits\n",
            "Fitting 5 folds for each of 5 candidates, totalling 25 fits\n",
            "Fitting 5 folds for each of 5 candidates, totalling 25 fits\n"
          ]
        },
        {
          "output_type": "execute_result",
          "data": {
            "text/plain": [
              "VotingRegressor(estimators=[('rfr',\n",
              "                             RandomizedSearchCV(cv=5,\n",
              "                                                estimator=RandomForestRegressor(n_jobs=-1),\n",
              "                                                n_iter=5,\n",
              "                                                param_distributions={'max_depth': [None,\n",
              "                                                                                   3,\n",
              "                                                                                   5,\n",
              "                                                                                   10],\n",
              "                                                                     'max_features': [0.5,\n",
              "                                                                                      1,\n",
              "                                                                                      'sqrt',\n",
              "                                                                                      'auto'],\n",
              "                                                                     'max_samples': [332],\n",
              "                                                                     'min_samples_leaf': array([ 1,  3,  5,  7,  9, 11, 13, 15, 17, 19]),\n",
              "                                                                     'min_samples_split': array([ 2,  4,  6,  8, 10, 12, 14, 16, 18]),\n",
              "                                                                     'n_estimators': array([10, 20, 30...\n",
              "                                                param_distributions={'algorithm': ['auto',\n",
              "                                                                                   'ball_tree',\n",
              "                                                                                   'kd_tree',\n",
              "                                                                                   'brute'],\n",
              "                                                                     'leaf_size': [20,\n",
              "                                                                                   30,\n",
              "                                                                                   40,\n",
              "                                                                                   50,\n",
              "                                                                                   60],\n",
              "                                                                     'n_neighbors': [1,\n",
              "                                                                                     3,\n",
              "                                                                                     5,\n",
              "                                                                                     10,\n",
              "                                                                                     20]},\n",
              "                                                verbose=True)),\n",
              "                            ('svr',\n",
              "                             RandomizedSearchCV(cv=5, estimator=SVR(), n_iter=5,\n",
              "                                                param_distributions={'C': [1, 3,\n",
              "                                                                           5, 7,\n",
              "                                                                           9],\n",
              "                                                                     'degree': [1,\n",
              "                                                                                3,\n",
              "                                                                                5,\n",
              "                                                                                7,\n",
              "                                                                                9],\n",
              "                                                                     'epsilon': [0.1,\n",
              "                                                                                 0.3,\n",
              "                                                                                 0.5,\n",
              "                                                                                 0.7,\n",
              "                                                                                 0.9],\n",
              "                                                                     'gamma': ['scale',\n",
              "                                                                               'auto'],\n",
              "                                                                     'kernel': ['linear',\n",
              "                                                                                'poly',\n",
              "                                                                                'rbf',\n",
              "                                                                                'sigmoid']},\n",
              "                                                verbose=True))])"
            ]
          },
          "metadata": {},
          "execution_count": 155
        }
      ],
      "source": [
        "vr_model = VotingRegressor(\n",
        "    estimators=[\n",
        "        ('rfr', rs_model),\n",
        "        ('knr', rs_k_model),\n",
        "        ('svr', rs_svr_model),\n",
        "    ]\n",
        ")\n",
        "\n",
        "np.random.seed(42)\n",
        "# X_train_dot = np.dot(X_train, X_train.T)\n",
        "# X_test_dot = np.dot(X_test, X_train.T)\n",
        "vr_model.fit(X_train, y_train)"
      ]
    },
    {
      "cell_type": "code",
      "source": [
        "vr_model.score(X_train, y_train), vr_model.score(X_test, y_test)"
      ],
      "metadata": {
        "id": "VAQLbxGquGcq",
        "colab": {
          "base_uri": "https://localhost:8080/"
        },
        "outputId": "3eab6146-5ae8-4e39-e1b9-b0c9c9a133e8"
      },
      "execution_count": null,
      "outputs": [
        {
          "output_type": "stream",
          "name": "stderr",
          "text": [
            "/usr/local/lib/python3.7/dist-packages/sklearn/base.py:444: UserWarning: X has feature names, but RandomForestRegressor was fitted without feature names\n",
            "  f\"X has feature names, but {self.__class__.__name__} was fitted without\"\n",
            "/usr/local/lib/python3.7/dist-packages/sklearn/base.py:444: UserWarning: X has feature names, but KNeighborsRegressor was fitted without feature names\n",
            "  f\"X has feature names, but {self.__class__.__name__} was fitted without\"\n",
            "/usr/local/lib/python3.7/dist-packages/sklearn/base.py:444: UserWarning: X has feature names, but SVR was fitted without feature names\n",
            "  f\"X has feature names, but {self.__class__.__name__} was fitted without\"\n"
          ]
        },
        {
          "output_type": "execute_result",
          "data": {
            "text/plain": [
              "(0.7005574827891567, -5.915626681476128)"
            ]
          },
          "metadata": {},
          "execution_count": 156
        }
      ]
    },
    {
      "cell_type": "code",
      "source": [
        "vr_scores = show_scores_sklearn(vr_model)\n",
        "vr_scores"
      ],
      "metadata": {
        "id": "GjoQAHzww1LQ",
        "colab": {
          "base_uri": "https://localhost:8080/"
        },
        "outputId": "9ef960e9-126d-40d4-8265-b000915a6878"
      },
      "execution_count": null,
      "outputs": [
        {
          "output_type": "stream",
          "name": "stderr",
          "text": [
            "/usr/local/lib/python3.7/dist-packages/sklearn/base.py:444: UserWarning: X has feature names, but RandomForestRegressor was fitted without feature names\n",
            "  f\"X has feature names, but {self.__class__.__name__} was fitted without\"\n",
            "/usr/local/lib/python3.7/dist-packages/sklearn/base.py:444: UserWarning: X has feature names, but KNeighborsRegressor was fitted without feature names\n",
            "  f\"X has feature names, but {self.__class__.__name__} was fitted without\"\n",
            "/usr/local/lib/python3.7/dist-packages/sklearn/base.py:444: UserWarning: X has feature names, but SVR was fitted without feature names\n",
            "  f\"X has feature names, but {self.__class__.__name__} was fitted without\"\n"
          ]
        },
        {
          "output_type": "execute_result",
          "data": {
            "text/plain": [
              "{'mae': 0.05970004291449988,\n",
              " 'mape': 75828548752944.97,\n",
              " 'mse': 0.006481808527481281,\n",
              " 'rmse': 0.08050967971294683,\n",
              " 'train_mae': 0.05957360375578798,\n",
              " 'train_mape': 75190414062705.14,\n",
              " 'train_mse': 0.010504700783621874,\n",
              " 'train_rmse': 0.10249244256832732}"
            ]
          },
          "metadata": {},
          "execution_count": 157
        }
      ]
    },
    {
      "cell_type": "code",
      "source": [
        "models.append('VotingRegressor')\n",
        "\n",
        "mae.append(vr_scores['mae'])\n",
        "mape.append(vr_scores['mape'])\n",
        "mse.append(vr_scores['mse']) \n",
        "rmse.append(vr_scores['rmse'])\n",
        "\n",
        "scores = pd.DataFrame(\n",
        "    data={\n",
        "        'models': models,\n",
        "        'mae': mae,\n",
        "        'mape': mape,\n",
        "        'mse': mse,\n",
        "        'rmse': rmse,\n",
        "    }    \n",
        ")\n",
        "\n",
        "scores"
      ],
      "metadata": {
        "id": "370ediEKw65u",
        "colab": {
          "base_uri": "https://localhost:8080/",
          "height": 451
        },
        "outputId": "297c2871-e95b-4090-8843-6c0de4af5369"
      },
      "execution_count": null,
      "outputs": [
        {
          "output_type": "execute_result",
          "data": {
            "text/plain": [
              "                                        models       mae          mape  \\\n",
              "0                                        Naive  0.005769  6.731002e+05   \n",
              "1                                Random Forest  0.013312  1.272589e+13   \n",
              "2              Random Forest Randomized Search  0.015331  8.694699e+12   \n",
              "3                         KNeighboursRegressor  0.101333  1.086869e+14   \n",
              "4       KNeighboursRegressor Randomized Search  0.092571  1.003659e+14   \n",
              "5                    Support Vector Regression  0.076839  1.129977e+14   \n",
              "6  Support Vector Regression Randomized Search  0.337034  4.049858e+14   \n",
              "7                              VotingRegressor  0.059700  7.582855e+13   \n",
              "\n",
              "        mse      rmse  \n",
              "0  0.000092  0.009608  \n",
              "1  0.000281  0.016776  \n",
              "2  0.000470  0.021679  \n",
              "3  0.032103  0.179172  \n",
              "4  0.032438  0.180106  \n",
              "5  0.006786  0.082377  \n",
              "6  0.123602  0.351571  \n",
              "7  0.006482  0.080510  "
            ],
            "text/html": [
              "\n",
              "  <div id=\"df-79b0d151-f8e1-4250-8a30-667e133922f5\">\n",
              "    <div class=\"colab-df-container\">\n",
              "      <div>\n",
              "<style scoped>\n",
              "    .dataframe tbody tr th:only-of-type {\n",
              "        vertical-align: middle;\n",
              "    }\n",
              "\n",
              "    .dataframe tbody tr th {\n",
              "        vertical-align: top;\n",
              "    }\n",
              "\n",
              "    .dataframe thead th {\n",
              "        text-align: right;\n",
              "    }\n",
              "</style>\n",
              "<table border=\"1\" class=\"dataframe\">\n",
              "  <thead>\n",
              "    <tr style=\"text-align: right;\">\n",
              "      <th></th>\n",
              "      <th>models</th>\n",
              "      <th>mae</th>\n",
              "      <th>mape</th>\n",
              "      <th>mse</th>\n",
              "      <th>rmse</th>\n",
              "    </tr>\n",
              "  </thead>\n",
              "  <tbody>\n",
              "    <tr>\n",
              "      <th>0</th>\n",
              "      <td>Naive</td>\n",
              "      <td>0.005769</td>\n",
              "      <td>6.731002e+05</td>\n",
              "      <td>0.000092</td>\n",
              "      <td>0.009608</td>\n",
              "    </tr>\n",
              "    <tr>\n",
              "      <th>1</th>\n",
              "      <td>Random Forest</td>\n",
              "      <td>0.013312</td>\n",
              "      <td>1.272589e+13</td>\n",
              "      <td>0.000281</td>\n",
              "      <td>0.016776</td>\n",
              "    </tr>\n",
              "    <tr>\n",
              "      <th>2</th>\n",
              "      <td>Random Forest Randomized Search</td>\n",
              "      <td>0.015331</td>\n",
              "      <td>8.694699e+12</td>\n",
              "      <td>0.000470</td>\n",
              "      <td>0.021679</td>\n",
              "    </tr>\n",
              "    <tr>\n",
              "      <th>3</th>\n",
              "      <td>KNeighboursRegressor</td>\n",
              "      <td>0.101333</td>\n",
              "      <td>1.086869e+14</td>\n",
              "      <td>0.032103</td>\n",
              "      <td>0.179172</td>\n",
              "    </tr>\n",
              "    <tr>\n",
              "      <th>4</th>\n",
              "      <td>KNeighboursRegressor Randomized Search</td>\n",
              "      <td>0.092571</td>\n",
              "      <td>1.003659e+14</td>\n",
              "      <td>0.032438</td>\n",
              "      <td>0.180106</td>\n",
              "    </tr>\n",
              "    <tr>\n",
              "      <th>5</th>\n",
              "      <td>Support Vector Regression</td>\n",
              "      <td>0.076839</td>\n",
              "      <td>1.129977e+14</td>\n",
              "      <td>0.006786</td>\n",
              "      <td>0.082377</td>\n",
              "    </tr>\n",
              "    <tr>\n",
              "      <th>6</th>\n",
              "      <td>Support Vector Regression Randomized Search</td>\n",
              "      <td>0.337034</td>\n",
              "      <td>4.049858e+14</td>\n",
              "      <td>0.123602</td>\n",
              "      <td>0.351571</td>\n",
              "    </tr>\n",
              "    <tr>\n",
              "      <th>7</th>\n",
              "      <td>VotingRegressor</td>\n",
              "      <td>0.059700</td>\n",
              "      <td>7.582855e+13</td>\n",
              "      <td>0.006482</td>\n",
              "      <td>0.080510</td>\n",
              "    </tr>\n",
              "  </tbody>\n",
              "</table>\n",
              "</div>\n",
              "      <button class=\"colab-df-convert\" onclick=\"convertToInteractive('df-79b0d151-f8e1-4250-8a30-667e133922f5')\"\n",
              "              title=\"Convert this dataframe to an interactive table.\"\n",
              "              style=\"display:none;\">\n",
              "        \n",
              "  <svg xmlns=\"http://www.w3.org/2000/svg\" height=\"24px\"viewBox=\"0 0 24 24\"\n",
              "       width=\"24px\">\n",
              "    <path d=\"M0 0h24v24H0V0z\" fill=\"none\"/>\n",
              "    <path d=\"M18.56 5.44l.94 2.06.94-2.06 2.06-.94-2.06-.94-.94-2.06-.94 2.06-2.06.94zm-11 1L8.5 8.5l.94-2.06 2.06-.94-2.06-.94L8.5 2.5l-.94 2.06-2.06.94zm10 10l.94 2.06.94-2.06 2.06-.94-2.06-.94-.94-2.06-.94 2.06-2.06.94z\"/><path d=\"M17.41 7.96l-1.37-1.37c-.4-.4-.92-.59-1.43-.59-.52 0-1.04.2-1.43.59L10.3 9.45l-7.72 7.72c-.78.78-.78 2.05 0 2.83L4 21.41c.39.39.9.59 1.41.59.51 0 1.02-.2 1.41-.59l7.78-7.78 2.81-2.81c.8-.78.8-2.07 0-2.86zM5.41 20L4 18.59l7.72-7.72 1.47 1.35L5.41 20z\"/>\n",
              "  </svg>\n",
              "      </button>\n",
              "      \n",
              "  <style>\n",
              "    .colab-df-container {\n",
              "      display:flex;\n",
              "      flex-wrap:wrap;\n",
              "      gap: 12px;\n",
              "    }\n",
              "\n",
              "    .colab-df-convert {\n",
              "      background-color: #E8F0FE;\n",
              "      border: none;\n",
              "      border-radius: 50%;\n",
              "      cursor: pointer;\n",
              "      display: none;\n",
              "      fill: #1967D2;\n",
              "      height: 32px;\n",
              "      padding: 0 0 0 0;\n",
              "      width: 32px;\n",
              "    }\n",
              "\n",
              "    .colab-df-convert:hover {\n",
              "      background-color: #E2EBFA;\n",
              "      box-shadow: 0px 1px 2px rgba(60, 64, 67, 0.3), 0px 1px 3px 1px rgba(60, 64, 67, 0.15);\n",
              "      fill: #174EA6;\n",
              "    }\n",
              "\n",
              "    [theme=dark] .colab-df-convert {\n",
              "      background-color: #3B4455;\n",
              "      fill: #D2E3FC;\n",
              "    }\n",
              "\n",
              "    [theme=dark] .colab-df-convert:hover {\n",
              "      background-color: #434B5C;\n",
              "      box-shadow: 0px 1px 3px 1px rgba(0, 0, 0, 0.15);\n",
              "      filter: drop-shadow(0px 1px 2px rgba(0, 0, 0, 0.3));\n",
              "      fill: #FFFFFF;\n",
              "    }\n",
              "  </style>\n",
              "\n",
              "      <script>\n",
              "        const buttonEl =\n",
              "          document.querySelector('#df-79b0d151-f8e1-4250-8a30-667e133922f5 button.colab-df-convert');\n",
              "        buttonEl.style.display =\n",
              "          google.colab.kernel.accessAllowed ? 'block' : 'none';\n",
              "\n",
              "        async function convertToInteractive(key) {\n",
              "          const element = document.querySelector('#df-79b0d151-f8e1-4250-8a30-667e133922f5');\n",
              "          const dataTable =\n",
              "            await google.colab.kernel.invokeFunction('convertToInteractive',\n",
              "                                                     [key], {});\n",
              "          if (!dataTable) return;\n",
              "\n",
              "          const docLinkHtml = 'Like what you see? Visit the ' +\n",
              "            '<a target=\"_blank\" href=https://colab.research.google.com/notebooks/data_table.ipynb>data table notebook</a>'\n",
              "            + ' to learn more about interactive tables.';\n",
              "          element.innerHTML = '';\n",
              "          dataTable['output_type'] = 'display_data';\n",
              "          await google.colab.output.renderOutput(dataTable, element);\n",
              "          const docLink = document.createElement('div');\n",
              "          docLink.innerHTML = docLinkHtml;\n",
              "          element.appendChild(docLink);\n",
              "        }\n",
              "      </script>\n",
              "    </div>\n",
              "  </div>\n",
              "  "
            ]
          },
          "metadata": {},
          "execution_count": 158
        }
      ]
    },
    {
      "cell_type": "markdown",
      "source": [
        "#### GradientTreeBoosting Regressor"
      ],
      "metadata": {
        "id": "gWyQsnRkxKCG"
      }
    },
    {
      "cell_type": "code",
      "source": [
        "from sklearn.ensemble import GradientBoostingRegressor\n",
        "from sklearn.ensemble import StackingRegressor"
      ],
      "metadata": {
        "id": "Uoi3CXxtxfKC"
      },
      "execution_count": 86,
      "outputs": []
    },
    {
      "cell_type": "code",
      "source": [
        "np.random.seed(42)\n",
        "gbr_model = GradientBoostingRegressor()\n",
        "\n",
        "gbr_model.fit(X_train, y_train)"
      ],
      "metadata": {
        "id": "4ImrZjcHzgYV",
        "colab": {
          "base_uri": "https://localhost:8080/"
        },
        "outputId": "4da775b7-d1c8-48ae-f74d-8b5945a90d6c"
      },
      "execution_count": 87,
      "outputs": [
        {
          "output_type": "execute_result",
          "data": {
            "text/plain": [
              "GradientBoostingRegressor()"
            ]
          },
          "metadata": {},
          "execution_count": 87
        }
      ]
    },
    {
      "cell_type": "code",
      "source": [
        "gbr_scores = show_scores_sklearn(gbr_model)\n",
        "gbr_scores"
      ],
      "metadata": {
        "id": "bwqZjpwVzzs4",
        "colab": {
          "base_uri": "https://localhost:8080/"
        },
        "outputId": "4790d158-6f78-44c0-9cf6-6fb7bae3f237"
      },
      "execution_count": 88,
      "outputs": [
        {
          "output_type": "stream",
          "name": "stderr",
          "text": [
            "/usr/local/lib/python3.7/dist-packages/sklearn/base.py:444: UserWarning: X has feature names, but GradientBoostingRegressor was fitted without feature names\n",
            "  f\"X has feature names, but {self.__class__.__name__} was fitted without\"\n"
          ]
        },
        {
          "output_type": "execute_result",
          "data": {
            "text/plain": [
              "{'mae': 0.00656678254409683,\n",
              " 'mape': 9478941963163.195,\n",
              " 'mse': 0.00039582140202228415,\n",
              " 'rmse': 0.019895260793020134,\n",
              " 'train_mae': 0.0071339941869214725,\n",
              " 'train_mape': 6328507865121.355,\n",
              " 'train_mse': 0.0002730349433417457,\n",
              " 'train_rmse': 0.01652376904164863}"
            ]
          },
          "metadata": {},
          "execution_count": 88
        }
      ]
    },
    {
      "cell_type": "code",
      "source": [
        "models.append('GradientTreeBoosting Regressor')\n",
        "\n",
        "mae.append(gbr_scores['mae'])\n",
        "mape.append(gbr_scores['mape'])\n",
        "mse.append(gbr_scores['mse']) \n",
        "rmse.append(gbr_scores['rmse'])\n",
        "\n",
        "scores = pd.DataFrame(\n",
        "    data={\n",
        "        'models': models,\n",
        "        'mae': mae,\n",
        "        'mape': mape,\n",
        "        'mse': mse,\n",
        "        'rmse': rmse,\n",
        "    }    \n",
        ")\n",
        "\n",
        "scores"
      ],
      "metadata": {
        "id": "GRfQqQOAz5kf",
        "colab": {
          "base_uri": "https://localhost:8080/",
          "height": 175
        },
        "outputId": "466b5f72-0bac-4872-87f6-393321a4ac60"
      },
      "execution_count": 89,
      "outputs": [
        {
          "output_type": "execute_result",
          "data": {
            "text/plain": [
              "                            models       mae          mape       mse      rmse\n",
              "0                            Naive  0.005473  4.955045e+05  0.000339  0.018411\n",
              "1                    Random Forest  0.006814  1.029756e+13  0.000357  0.018886\n",
              "2  Random Forest Randomized Search  0.008771  1.076476e+13  0.000661  0.025714\n",
              "3   GradientTreeBoosting Regressor  0.006567  9.478942e+12  0.000396  0.019895"
            ],
            "text/html": [
              "\n",
              "  <div id=\"df-d3f70b11-6733-47b9-b968-c4c294de1e8f\">\n",
              "    <div class=\"colab-df-container\">\n",
              "      <div>\n",
              "<style scoped>\n",
              "    .dataframe tbody tr th:only-of-type {\n",
              "        vertical-align: middle;\n",
              "    }\n",
              "\n",
              "    .dataframe tbody tr th {\n",
              "        vertical-align: top;\n",
              "    }\n",
              "\n",
              "    .dataframe thead th {\n",
              "        text-align: right;\n",
              "    }\n",
              "</style>\n",
              "<table border=\"1\" class=\"dataframe\">\n",
              "  <thead>\n",
              "    <tr style=\"text-align: right;\">\n",
              "      <th></th>\n",
              "      <th>models</th>\n",
              "      <th>mae</th>\n",
              "      <th>mape</th>\n",
              "      <th>mse</th>\n",
              "      <th>rmse</th>\n",
              "    </tr>\n",
              "  </thead>\n",
              "  <tbody>\n",
              "    <tr>\n",
              "      <th>0</th>\n",
              "      <td>Naive</td>\n",
              "      <td>0.005473</td>\n",
              "      <td>4.955045e+05</td>\n",
              "      <td>0.000339</td>\n",
              "      <td>0.018411</td>\n",
              "    </tr>\n",
              "    <tr>\n",
              "      <th>1</th>\n",
              "      <td>Random Forest</td>\n",
              "      <td>0.006814</td>\n",
              "      <td>1.029756e+13</td>\n",
              "      <td>0.000357</td>\n",
              "      <td>0.018886</td>\n",
              "    </tr>\n",
              "    <tr>\n",
              "      <th>2</th>\n",
              "      <td>Random Forest Randomized Search</td>\n",
              "      <td>0.008771</td>\n",
              "      <td>1.076476e+13</td>\n",
              "      <td>0.000661</td>\n",
              "      <td>0.025714</td>\n",
              "    </tr>\n",
              "    <tr>\n",
              "      <th>3</th>\n",
              "      <td>GradientTreeBoosting Regressor</td>\n",
              "      <td>0.006567</td>\n",
              "      <td>9.478942e+12</td>\n",
              "      <td>0.000396</td>\n",
              "      <td>0.019895</td>\n",
              "    </tr>\n",
              "  </tbody>\n",
              "</table>\n",
              "</div>\n",
              "      <button class=\"colab-df-convert\" onclick=\"convertToInteractive('df-d3f70b11-6733-47b9-b968-c4c294de1e8f')\"\n",
              "              title=\"Convert this dataframe to an interactive table.\"\n",
              "              style=\"display:none;\">\n",
              "        \n",
              "  <svg xmlns=\"http://www.w3.org/2000/svg\" height=\"24px\"viewBox=\"0 0 24 24\"\n",
              "       width=\"24px\">\n",
              "    <path d=\"M0 0h24v24H0V0z\" fill=\"none\"/>\n",
              "    <path d=\"M18.56 5.44l.94 2.06.94-2.06 2.06-.94-2.06-.94-.94-2.06-.94 2.06-2.06.94zm-11 1L8.5 8.5l.94-2.06 2.06-.94-2.06-.94L8.5 2.5l-.94 2.06-2.06.94zm10 10l.94 2.06.94-2.06 2.06-.94-2.06-.94-.94-2.06-.94 2.06-2.06.94z\"/><path d=\"M17.41 7.96l-1.37-1.37c-.4-.4-.92-.59-1.43-.59-.52 0-1.04.2-1.43.59L10.3 9.45l-7.72 7.72c-.78.78-.78 2.05 0 2.83L4 21.41c.39.39.9.59 1.41.59.51 0 1.02-.2 1.41-.59l7.78-7.78 2.81-2.81c.8-.78.8-2.07 0-2.86zM5.41 20L4 18.59l7.72-7.72 1.47 1.35L5.41 20z\"/>\n",
              "  </svg>\n",
              "      </button>\n",
              "      \n",
              "  <style>\n",
              "    .colab-df-container {\n",
              "      display:flex;\n",
              "      flex-wrap:wrap;\n",
              "      gap: 12px;\n",
              "    }\n",
              "\n",
              "    .colab-df-convert {\n",
              "      background-color: #E8F0FE;\n",
              "      border: none;\n",
              "      border-radius: 50%;\n",
              "      cursor: pointer;\n",
              "      display: none;\n",
              "      fill: #1967D2;\n",
              "      height: 32px;\n",
              "      padding: 0 0 0 0;\n",
              "      width: 32px;\n",
              "    }\n",
              "\n",
              "    .colab-df-convert:hover {\n",
              "      background-color: #E2EBFA;\n",
              "      box-shadow: 0px 1px 2px rgba(60, 64, 67, 0.3), 0px 1px 3px 1px rgba(60, 64, 67, 0.15);\n",
              "      fill: #174EA6;\n",
              "    }\n",
              "\n",
              "    [theme=dark] .colab-df-convert {\n",
              "      background-color: #3B4455;\n",
              "      fill: #D2E3FC;\n",
              "    }\n",
              "\n",
              "    [theme=dark] .colab-df-convert:hover {\n",
              "      background-color: #434B5C;\n",
              "      box-shadow: 0px 1px 3px 1px rgba(0, 0, 0, 0.15);\n",
              "      filter: drop-shadow(0px 1px 2px rgba(0, 0, 0, 0.3));\n",
              "      fill: #FFFFFF;\n",
              "    }\n",
              "  </style>\n",
              "\n",
              "      <script>\n",
              "        const buttonEl =\n",
              "          document.querySelector('#df-d3f70b11-6733-47b9-b968-c4c294de1e8f button.colab-df-convert');\n",
              "        buttonEl.style.display =\n",
              "          google.colab.kernel.accessAllowed ? 'block' : 'none';\n",
              "\n",
              "        async function convertToInteractive(key) {\n",
              "          const element = document.querySelector('#df-d3f70b11-6733-47b9-b968-c4c294de1e8f');\n",
              "          const dataTable =\n",
              "            await google.colab.kernel.invokeFunction('convertToInteractive',\n",
              "                                                     [key], {});\n",
              "          if (!dataTable) return;\n",
              "\n",
              "          const docLinkHtml = 'Like what you see? Visit the ' +\n",
              "            '<a target=\"_blank\" href=https://colab.research.google.com/notebooks/data_table.ipynb>data table notebook</a>'\n",
              "            + ' to learn more about interactive tables.';\n",
              "          element.innerHTML = '';\n",
              "          dataTable['output_type'] = 'display_data';\n",
              "          await google.colab.output.renderOutput(dataTable, element);\n",
              "          const docLink = document.createElement('div');\n",
              "          docLink.innerHTML = docLinkHtml;\n",
              "          element.appendChild(docLink);\n",
              "        }\n",
              "      </script>\n",
              "    </div>\n",
              "  </div>\n",
              "  "
            ]
          },
          "metadata": {},
          "execution_count": 89
        }
      ]
    },
    {
      "cell_type": "code",
      "source": [
        "np.random.seed(42)\n",
        "rf_gbr_params = {\n",
        "    'loss' : ['squared_error', 'absolute_error', 'huber', 'quantile'],\n",
        "    'n_estimators': [100, 200, 400, 800, 1000, 1600],\n",
        "    'criterion': ['friedman_mse', 'squared_error', 'absolute_error'],\n",
        "    'max_features': ['auto', 'sqrt', 'log2'],\n",
        "    'max_depth': [1, 3, 5, 10, 20, 50],\n",
        "    'min_samples_leaf': [1, 5, 10, 20],\n",
        "    'learning_rate': [0.1, 0.001, 0.005, 0.0001]\n",
        "}\n",
        "\n",
        "rs_gbr_model = RandomizedSearchCV(\n",
        "    GradientBoostingRegressor(),\n",
        "    param_distributions=rf_gbr_params,\n",
        "    n_iter=5,\n",
        "    cv=5,\n",
        "    verbose=True\n",
        ")\n",
        "\n",
        "#Fit the randomized search cv model\n",
        "rs_gbr_model.fit(X_train, y_train)"
      ],
      "metadata": {
        "id": "hLuqkhXY0Fxp",
        "colab": {
          "base_uri": "https://localhost:8080/"
        },
        "outputId": "4d038dcf-3782-4b11-89ba-f5409f48f1a2"
      },
      "execution_count": 90,
      "outputs": [
        {
          "output_type": "stream",
          "name": "stdout",
          "text": [
            "Fitting 5 folds for each of 5 candidates, totalling 25 fits\n"
          ]
        },
        {
          "output_type": "stream",
          "name": "stderr",
          "text": [
            "/usr/local/lib/python3.7/dist-packages/sklearn/ensemble/_gb.py:1859: FutureWarning: criterion='mae' was deprecated in version 0.24 and will be removed in version 1.1 (renaming of 0.26). The correct way of minimizing the absolute error is to use  loss='absolute_error' instead.\n",
            "  FutureWarning,\n",
            "/usr/local/lib/python3.7/dist-packages/sklearn/ensemble/_gb.py:1859: FutureWarning: criterion='mae' was deprecated in version 0.24 and will be removed in version 1.1 (renaming of 0.26). The correct way of minimizing the absolute error is to use  loss='absolute_error' instead.\n",
            "  FutureWarning,\n",
            "/usr/local/lib/python3.7/dist-packages/sklearn/ensemble/_gb.py:1859: FutureWarning: criterion='mae' was deprecated in version 0.24 and will be removed in version 1.1 (renaming of 0.26). The correct way of minimizing the absolute error is to use  loss='absolute_error' instead.\n",
            "  FutureWarning,\n",
            "/usr/local/lib/python3.7/dist-packages/sklearn/ensemble/_gb.py:1859: FutureWarning: criterion='mae' was deprecated in version 0.24 and will be removed in version 1.1 (renaming of 0.26). The correct way of minimizing the absolute error is to use  loss='absolute_error' instead.\n",
            "  FutureWarning,\n",
            "/usr/local/lib/python3.7/dist-packages/sklearn/ensemble/_gb.py:1859: FutureWarning: criterion='mae' was deprecated in version 0.24 and will be removed in version 1.1 (renaming of 0.26). The correct way of minimizing the absolute error is to use  loss='absolute_error' instead.\n",
            "  FutureWarning,\n"
          ]
        },
        {
          "output_type": "execute_result",
          "data": {
            "text/plain": [
              "RandomizedSearchCV(cv=5, estimator=GradientBoostingRegressor(), n_iter=5,\n",
              "                   param_distributions={'criterion': ['friedman_mse',\n",
              "                                                      'squared_error',\n",
              "                                                      'absolute_error'],\n",
              "                                        'learning_rate': [0.1, 0.001, 0.005,\n",
              "                                                          0.0001],\n",
              "                                        'loss': ['squared_error',\n",
              "                                                 'absolute_error', 'huber',\n",
              "                                                 'quantile'],\n",
              "                                        'max_depth': [1, 3, 5, 10, 20, 50],\n",
              "                                        'max_features': ['auto', 'sqrt',\n",
              "                                                         'log2'],\n",
              "                                        'min_samples_leaf': [1, 5, 10, 20],\n",
              "                                        'n_estimators': [100, 200, 400, 800,\n",
              "                                                         1000, 1600]},\n",
              "                   verbose=True)"
            ]
          },
          "metadata": {},
          "execution_count": 90
        }
      ]
    },
    {
      "cell_type": "code",
      "source": [
        "rs_gbr_scores = show_scores_sklearn(rs_gbr_model)\n",
        "rs_gbr_scores"
      ],
      "metadata": {
        "id": "ehNDJGJI1P8j",
        "colab": {
          "base_uri": "https://localhost:8080/"
        },
        "outputId": "9279bbf6-e6e7-492a-d860-c12913fcf888"
      },
      "execution_count": 91,
      "outputs": [
        {
          "output_type": "stream",
          "name": "stderr",
          "text": [
            "/usr/local/lib/python3.7/dist-packages/sklearn/base.py:444: UserWarning: X has feature names, but GradientBoostingRegressor was fitted without feature names\n",
            "  f\"X has feature names, but {self.__class__.__name__} was fitted without\"\n"
          ]
        },
        {
          "output_type": "execute_result",
          "data": {
            "text/plain": [
              "{'mae': 0.006529316408683387,\n",
              " 'mape': 4807955115590.4375,\n",
              " 'mse': 0.0004382302174964806,\n",
              " 'rmse': 0.020933948922658634,\n",
              " 'train_mae': 0.0070598017712512635,\n",
              " 'train_mape': 1370325480885.3857,\n",
              " 'train_mse': 0.0009984725381012073,\n",
              " 'train_rmse': 0.031598616078891924}"
            ]
          },
          "metadata": {},
          "execution_count": 91
        }
      ]
    },
    {
      "cell_type": "code",
      "source": [
        "models.append('GradientTreeBoosting Regressor Randomized Search')\n",
        "\n",
        "mae.append(rs_gbr_scores['mae'])\n",
        "mape.append(rs_gbr_scores['mape'])\n",
        "mse.append(rs_gbr_scores['mse']) \n",
        "rmse.append(rs_gbr_scores['rmse'])\n",
        "\n",
        "scores = pd.DataFrame(\n",
        "    data={\n",
        "        'models': models,\n",
        "        'mae': mae,\n",
        "        'mape': mape,\n",
        "        'mse': mse,\n",
        "        'rmse': rmse,\n",
        "    }    \n",
        ")\n",
        "\n",
        "scores"
      ],
      "metadata": {
        "id": "Zcoe3BXm1oXt",
        "colab": {
          "base_uri": "https://localhost:8080/",
          "height": 267
        },
        "outputId": "d4fe830b-f940-408e-ca3e-91a768fa7833"
      },
      "execution_count": 92,
      "outputs": [
        {
          "output_type": "execute_result",
          "data": {
            "text/plain": [
              "                                             models       mae          mape  \\\n",
              "0                                             Naive  0.005473  4.955045e+05   \n",
              "1                                     Random Forest  0.006814  1.029756e+13   \n",
              "2                   Random Forest Randomized Search  0.008771  1.076476e+13   \n",
              "3                    GradientTreeBoosting Regressor  0.006567  9.478942e+12   \n",
              "4  GradientTreeBoosting Regressor Randomized Search  0.006529  4.807955e+12   \n",
              "\n",
              "        mse      rmse  \n",
              "0  0.000339  0.018411  \n",
              "1  0.000357  0.018886  \n",
              "2  0.000661  0.025714  \n",
              "3  0.000396  0.019895  \n",
              "4  0.000438  0.020934  "
            ],
            "text/html": [
              "\n",
              "  <div id=\"df-1f0cea7a-e7d9-42eb-9248-5b2e7144e70f\">\n",
              "    <div class=\"colab-df-container\">\n",
              "      <div>\n",
              "<style scoped>\n",
              "    .dataframe tbody tr th:only-of-type {\n",
              "        vertical-align: middle;\n",
              "    }\n",
              "\n",
              "    .dataframe tbody tr th {\n",
              "        vertical-align: top;\n",
              "    }\n",
              "\n",
              "    .dataframe thead th {\n",
              "        text-align: right;\n",
              "    }\n",
              "</style>\n",
              "<table border=\"1\" class=\"dataframe\">\n",
              "  <thead>\n",
              "    <tr style=\"text-align: right;\">\n",
              "      <th></th>\n",
              "      <th>models</th>\n",
              "      <th>mae</th>\n",
              "      <th>mape</th>\n",
              "      <th>mse</th>\n",
              "      <th>rmse</th>\n",
              "    </tr>\n",
              "  </thead>\n",
              "  <tbody>\n",
              "    <tr>\n",
              "      <th>0</th>\n",
              "      <td>Naive</td>\n",
              "      <td>0.005473</td>\n",
              "      <td>4.955045e+05</td>\n",
              "      <td>0.000339</td>\n",
              "      <td>0.018411</td>\n",
              "    </tr>\n",
              "    <tr>\n",
              "      <th>1</th>\n",
              "      <td>Random Forest</td>\n",
              "      <td>0.006814</td>\n",
              "      <td>1.029756e+13</td>\n",
              "      <td>0.000357</td>\n",
              "      <td>0.018886</td>\n",
              "    </tr>\n",
              "    <tr>\n",
              "      <th>2</th>\n",
              "      <td>Random Forest Randomized Search</td>\n",
              "      <td>0.008771</td>\n",
              "      <td>1.076476e+13</td>\n",
              "      <td>0.000661</td>\n",
              "      <td>0.025714</td>\n",
              "    </tr>\n",
              "    <tr>\n",
              "      <th>3</th>\n",
              "      <td>GradientTreeBoosting Regressor</td>\n",
              "      <td>0.006567</td>\n",
              "      <td>9.478942e+12</td>\n",
              "      <td>0.000396</td>\n",
              "      <td>0.019895</td>\n",
              "    </tr>\n",
              "    <tr>\n",
              "      <th>4</th>\n",
              "      <td>GradientTreeBoosting Regressor Randomized Search</td>\n",
              "      <td>0.006529</td>\n",
              "      <td>4.807955e+12</td>\n",
              "      <td>0.000438</td>\n",
              "      <td>0.020934</td>\n",
              "    </tr>\n",
              "  </tbody>\n",
              "</table>\n",
              "</div>\n",
              "      <button class=\"colab-df-convert\" onclick=\"convertToInteractive('df-1f0cea7a-e7d9-42eb-9248-5b2e7144e70f')\"\n",
              "              title=\"Convert this dataframe to an interactive table.\"\n",
              "              style=\"display:none;\">\n",
              "        \n",
              "  <svg xmlns=\"http://www.w3.org/2000/svg\" height=\"24px\"viewBox=\"0 0 24 24\"\n",
              "       width=\"24px\">\n",
              "    <path d=\"M0 0h24v24H0V0z\" fill=\"none\"/>\n",
              "    <path d=\"M18.56 5.44l.94 2.06.94-2.06 2.06-.94-2.06-.94-.94-2.06-.94 2.06-2.06.94zm-11 1L8.5 8.5l.94-2.06 2.06-.94-2.06-.94L8.5 2.5l-.94 2.06-2.06.94zm10 10l.94 2.06.94-2.06 2.06-.94-2.06-.94-.94-2.06-.94 2.06-2.06.94z\"/><path d=\"M17.41 7.96l-1.37-1.37c-.4-.4-.92-.59-1.43-.59-.52 0-1.04.2-1.43.59L10.3 9.45l-7.72 7.72c-.78.78-.78 2.05 0 2.83L4 21.41c.39.39.9.59 1.41.59.51 0 1.02-.2 1.41-.59l7.78-7.78 2.81-2.81c.8-.78.8-2.07 0-2.86zM5.41 20L4 18.59l7.72-7.72 1.47 1.35L5.41 20z\"/>\n",
              "  </svg>\n",
              "      </button>\n",
              "      \n",
              "  <style>\n",
              "    .colab-df-container {\n",
              "      display:flex;\n",
              "      flex-wrap:wrap;\n",
              "      gap: 12px;\n",
              "    }\n",
              "\n",
              "    .colab-df-convert {\n",
              "      background-color: #E8F0FE;\n",
              "      border: none;\n",
              "      border-radius: 50%;\n",
              "      cursor: pointer;\n",
              "      display: none;\n",
              "      fill: #1967D2;\n",
              "      height: 32px;\n",
              "      padding: 0 0 0 0;\n",
              "      width: 32px;\n",
              "    }\n",
              "\n",
              "    .colab-df-convert:hover {\n",
              "      background-color: #E2EBFA;\n",
              "      box-shadow: 0px 1px 2px rgba(60, 64, 67, 0.3), 0px 1px 3px 1px rgba(60, 64, 67, 0.15);\n",
              "      fill: #174EA6;\n",
              "    }\n",
              "\n",
              "    [theme=dark] .colab-df-convert {\n",
              "      background-color: #3B4455;\n",
              "      fill: #D2E3FC;\n",
              "    }\n",
              "\n",
              "    [theme=dark] .colab-df-convert:hover {\n",
              "      background-color: #434B5C;\n",
              "      box-shadow: 0px 1px 3px 1px rgba(0, 0, 0, 0.15);\n",
              "      filter: drop-shadow(0px 1px 2px rgba(0, 0, 0, 0.3));\n",
              "      fill: #FFFFFF;\n",
              "    }\n",
              "  </style>\n",
              "\n",
              "      <script>\n",
              "        const buttonEl =\n",
              "          document.querySelector('#df-1f0cea7a-e7d9-42eb-9248-5b2e7144e70f button.colab-df-convert');\n",
              "        buttonEl.style.display =\n",
              "          google.colab.kernel.accessAllowed ? 'block' : 'none';\n",
              "\n",
              "        async function convertToInteractive(key) {\n",
              "          const element = document.querySelector('#df-1f0cea7a-e7d9-42eb-9248-5b2e7144e70f');\n",
              "          const dataTable =\n",
              "            await google.colab.kernel.invokeFunction('convertToInteractive',\n",
              "                                                     [key], {});\n",
              "          if (!dataTable) return;\n",
              "\n",
              "          const docLinkHtml = 'Like what you see? Visit the ' +\n",
              "            '<a target=\"_blank\" href=https://colab.research.google.com/notebooks/data_table.ipynb>data table notebook</a>'\n",
              "            + ' to learn more about interactive tables.';\n",
              "          element.innerHTML = '';\n",
              "          dataTable['output_type'] = 'display_data';\n",
              "          await google.colab.output.renderOutput(dataTable, element);\n",
              "          const docLink = document.createElement('div');\n",
              "          docLink.innerHTML = docLinkHtml;\n",
              "          element.appendChild(docLink);\n",
              "        }\n",
              "      </script>\n",
              "    </div>\n",
              "  </div>\n",
              "  "
            ]
          },
          "metadata": {},
          "execution_count": 92
        }
      ]
    },
    {
      "cell_type": "markdown",
      "source": [
        "### Plotting best model evaluations"
      ],
      "metadata": {
        "id": "pANNgLrORnOS"
      }
    },
    {
      "cell_type": "code",
      "source": [
        "# Plot forecasts\n",
        "rs_forecast = model.predict(X_test)\n",
        "rs_ideal_forecast = rs_model.predict(X_test)\n",
        "# k_forecast = k_model.predict(X_test)\n",
        "# rs_k_forecast = rs_k_model.predict(X_test)\n",
        "# svr_forecast = svr_model.predict(X_test)\n",
        "# rs_svr_forecast = rs_svr_model.predict(X_test) \n",
        "# vr_forecast = vr_model.predict(X_test)\n",
        "gbr_forecast = gbr_model.predict(X_test)\n",
        "rs_gbr_forecast = rs_gbr_model.predict(X_test)"
      ],
      "metadata": {
        "colab": {
          "base_uri": "https://localhost:8080/"
        },
        "id": "SPyZblZPT9md",
        "outputId": "84dff62a-4bbb-4240-ebe8-b889cd702bd0"
      },
      "execution_count": 93,
      "outputs": [
        {
          "output_type": "stream",
          "name": "stderr",
          "text": [
            "/usr/local/lib/python3.7/dist-packages/sklearn/base.py:444: UserWarning: X has feature names, but RandomForestRegressor was fitted without feature names\n",
            "  f\"X has feature names, but {self.__class__.__name__} was fitted without\"\n",
            "/usr/local/lib/python3.7/dist-packages/sklearn/base.py:444: UserWarning: X has feature names, but RandomForestRegressor was fitted without feature names\n",
            "  f\"X has feature names, but {self.__class__.__name__} was fitted without\"\n",
            "/usr/local/lib/python3.7/dist-packages/sklearn/base.py:444: UserWarning: X has feature names, but GradientBoostingRegressor was fitted without feature names\n",
            "  f\"X has feature names, but {self.__class__.__name__} was fitted without\"\n",
            "/usr/local/lib/python3.7/dist-packages/sklearn/base.py:444: UserWarning: X has feature names, but GradientBoostingRegressor was fitted without feature names\n",
            "  f\"X has feature names, but {self.__class__.__name__} was fitted without\"\n"
          ]
        }
      ]
    },
    {
      "cell_type": "code",
      "source": [
        "plt.figure(figsize=(18, 7))\n",
        "offset = 10 # offset the values by 300 timesteps \n",
        "plot_time_series(timesteps=X_time_test,  values=y_test, label=\"Test data\")\n",
        "plot_time_series(timesteps=X_time_test[1:], values=naive_forecast, format=\"-\",  label=\"Naive forecast\")\n",
        "plot_time_series(timesteps=X_time_test, start=offset, values=rs_forecast, label='RandomForest forecast')\n",
        "plot_time_series(timesteps=X_time_test,  values=rs_ideal_forecast, label='Randomized Search RandomForest forecast')\n",
        "# plot_time_series(timesteps=X_time_test, start=offset, values=k_forecast, label='KNR forecast')\n",
        "# plot_time_series(timesteps=X_time_test, start=offset, values=rs_k_forecast, label='Ideal KNR forecast')\n",
        "# plot_time_series(timesteps=X_time_test, start=offset, values=svr_forecast, label='SVR forecast')\n",
        "# plot_time_series(timesteps=X_time_test, start=offset, values=rs_svr_forecast, label='Ideal SVR forecast')\n",
        "# plot_time_series(timesteps=X_time_test, start=offset, values=vr_forecast, label='VotingRegressor forecast')\n",
        "plot_time_series(timesteps=X_time_test, start=offset, values=gbr_forecast, label='GradientTree forecast')\n",
        "plot_time_series(timesteps=X_time_test, values=rs_gbr_forecast, label='Randomized Search GradientTree forecast')\n",
        "plt.title('Model Predictions for Makati', fontsize=18, fontweight='bold')\n",
        "\n",
        "plt.show();"
      ],
      "metadata": {
        "colab": {
          "base_uri": "https://localhost:8080/",
          "height": 288
        },
        "id": "voq3SajUW68E",
        "outputId": "46339b15-a796-446d-c288-ea65f7d66d42"
      },
      "execution_count": 94,
      "outputs": [
        {
          "output_type": "display_data",
          "data": {
            "text/plain": [
              "<Figure size 1296x504 with 1 Axes>"
            ],
            "image/png": "[encoded data removed]"
          },
          "metadata": {
            "needs_background": "light"
          }
        }
      ]
    },
    {
      "cell_type": "markdown",
      "source": [
        " ### Feature importance"
      ],
      "metadata": {
        "id": "tB_TlVhgf3Qa"
      }
    },
    {
      "cell_type": "code",
      "source": [
        "rs_gbr_model.best_params_"
      ],
      "metadata": {
        "colab": {
          "base_uri": "https://localhost:8080/"
        },
        "id": "I4MtLukZhhfw",
        "outputId": "f3f754ab-56de-46c4-c813-9b3fb368e856"
      },
      "execution_count": 95,
      "outputs": [
        {
          "output_type": "execute_result",
          "data": {
            "text/plain": [
              "{'criterion': 'friedman_mse',\n",
              " 'learning_rate': 0.1,\n",
              " 'loss': 'absolute_error',\n",
              " 'max_depth': 50,\n",
              " 'max_features': 'log2',\n",
              " 'min_samples_leaf': 20,\n",
              " 'n_estimators': 400}"
            ]
          },
          "metadata": {},
          "execution_count": 95
        }
      ]
    },
    {
      "cell_type": "code",
      "source": [
        "np.random.seed(42)\n",
        "best_gbr_model = GradientBoostingRegressor(\n",
        "    criterion='friedman_mse',\n",
        "    learning_rate=0.1,\n",
        "    loss='absolute_error',\n",
        "    max_depth=50,\n",
        "    max_features='auto',\n",
        "    min_samples_leaf=20,\n",
        "    n_estimators=1800,\n",
        ")\n",
        "\n",
        "best_gbr_model.fit(X_train, y_train)"
      ],
      "metadata": {
        "colab": {
          "base_uri": "https://localhost:8080/"
        },
        "id": "d1v2Mh7KhweY",
        "outputId": "0a4a6876-8390-4b61-b8f0-852349eab057"
      },
      "execution_count": 96,
      "outputs": [
        {
          "output_type": "execute_result",
          "data": {
            "text/plain": [
              "GradientBoostingRegressor(loss='absolute_error', max_depth=50,\n",
              "                          max_features='auto', min_samples_leaf=20,\n",
              "                          n_estimators=1800)"
            ]
          },
          "metadata": {},
          "execution_count": 96
        }
      ]
    },
    {
      "cell_type": "code",
      "source": [
        "best_gbr_scores = show_scores_sklearn(best_gbr_model)\n",
        "best_gbr_scores"
      ],
      "metadata": {
        "colab": {
          "base_uri": "https://localhost:8080/"
        },
        "id": "Zpe3xzZKiF18",
        "outputId": "5c674206-9e7b-4193-b4a6-f3cfad748aa0"
      },
      "execution_count": 97,
      "outputs": [
        {
          "output_type": "stream",
          "name": "stderr",
          "text": [
            "/usr/local/lib/python3.7/dist-packages/sklearn/base.py:444: UserWarning: X has feature names, but GradientBoostingRegressor was fitted without feature names\n",
            "  f\"X has feature names, but {self.__class__.__name__} was fitted without\"\n"
          ]
        },
        {
          "output_type": "execute_result",
          "data": {
            "text/plain": [
              "{'mae': 0.005045446891542922,\n",
              " 'mape': 1506657173063.405,\n",
              " 'mse': 0.00036524154633991166,\n",
              " 'rmse': 0.01911129368566952,\n",
              " 'train_mae': 0.0051715514229826315,\n",
              " 'train_mape': 357328344144.5964,\n",
              " 'train_mse': 0.0006793459210883072,\n",
              " 'train_rmse': 0.02606426521289843}"
            ]
          },
          "metadata": {},
          "execution_count": 97
        }
      ]
    },
    {
      "cell_type": "code",
      "source": [
        "models.append('GradientTreeBoosting Regressor Manually Tuned')\n",
        "\n",
        "mae.append(best_gbr_scores['mae'])\n",
        "mape.append(best_gbr_scores['mape'])\n",
        "mse.append(best_gbr_scores['mse']) \n",
        "rmse.append(best_gbr_scores['rmse'])\n",
        "\n",
        "scores = pd.DataFrame(\n",
        "    data={\n",
        "        'models': models,\n",
        "        'mae': mae,\n",
        "        'mape': mape,\n",
        "        'mse': mse,\n",
        "        'rmse': rmse,\n",
        "    }    \n",
        ")\n",
        "\n",
        "scores"
      ],
      "metadata": {
        "colab": {
          "base_uri": "https://localhost:8080/",
          "height": 316
        },
        "id": "_wqdH43xvys0",
        "outputId": "b2789a2d-8826-425b-99a8-0e090c331f2b"
      },
      "execution_count": 98,
      "outputs": [
        {
          "output_type": "execute_result",
          "data": {
            "text/plain": [
              "                                             models       mae          mape  \\\n",
              "0                                             Naive  0.005473  4.955045e+05   \n",
              "1                                     Random Forest  0.006814  1.029756e+13   \n",
              "2                   Random Forest Randomized Search  0.008771  1.076476e+13   \n",
              "3                    GradientTreeBoosting Regressor  0.006567  9.478942e+12   \n",
              "4  GradientTreeBoosting Regressor Randomized Search  0.006529  4.807955e+12   \n",
              "5     GradientTreeBoosting Regressor Manually Tuned  0.005045  1.506657e+12   \n",
              "\n",
              "        mse      rmse  \n",
              "0  0.000339  0.018411  \n",
              "1  0.000357  0.018886  \n",
              "2  0.000661  0.025714  \n",
              "3  0.000396  0.019895  \n",
              "4  0.000438  0.020934  \n",
              "5  0.000365  0.019111  "
            ],
            "text/html": [
              "\n",
              "  <div id=\"df-86982f06-fd64-46bd-8405-c7dba7f6ac92\">\n",
              "    <div class=\"colab-df-container\">\n",
              "      <div>\n",
              "<style scoped>\n",
              "    .dataframe tbody tr th:only-of-type {\n",
              "        vertical-align: middle;\n",
              "    }\n",
              "\n",
              "    .dataframe tbody tr th {\n",
              "        vertical-align: top;\n",
              "    }\n",
              "\n",
              "    .dataframe thead th {\n",
              "        text-align: right;\n",
              "    }\n",
              "</style>\n",
              "<table border=\"1\" class=\"dataframe\">\n",
              "  <thead>\n",
              "    <tr style=\"text-align: right;\">\n",
              "      <th></th>\n",
              "      <th>models</th>\n",
              "      <th>mae</th>\n",
              "      <th>mape</th>\n",
              "      <th>mse</th>\n",
              "      <th>rmse</th>\n",
              "    </tr>\n",
              "  </thead>\n",
              "  <tbody>\n",
              "    <tr>\n",
              "      <th>0</th>\n",
              "      <td>Naive</td>\n",
              "      <td>0.005473</td>\n",
              "      <td>4.955045e+05</td>\n",
              "      <td>0.000339</td>\n",
              "      <td>0.018411</td>\n",
              "    </tr>\n",
              "    <tr>\n",
              "      <th>1</th>\n",
              "      <td>Random Forest</td>\n",
              "      <td>0.006814</td>\n",
              "      <td>1.029756e+13</td>\n",
              "      <td>0.000357</td>\n",
              "      <td>0.018886</td>\n",
              "    </tr>\n",
              "    <tr>\n",
              "      <th>2</th>\n",
              "      <td>Random Forest Randomized Search</td>\n",
              "      <td>0.008771</td>\n",
              "      <td>1.076476e+13</td>\n",
              "      <td>0.000661</td>\n",
              "      <td>0.025714</td>\n",
              "    </tr>\n",
              "    <tr>\n",
              "      <th>3</th>\n",
              "      <td>GradientTreeBoosting Regressor</td>\n",
              "      <td>0.006567</td>\n",
              "      <td>9.478942e+12</td>\n",
              "      <td>0.000396</td>\n",
              "      <td>0.019895</td>\n",
              "    </tr>\n",
              "    <tr>\n",
              "      <th>4</th>\n",
              "      <td>GradientTreeBoosting Regressor Randomized Search</td>\n",
              "      <td>0.006529</td>\n",
              "      <td>4.807955e+12</td>\n",
              "      <td>0.000438</td>\n",
              "      <td>0.020934</td>\n",
              "    </tr>\n",
              "    <tr>\n",
              "      <th>5</th>\n",
              "      <td>GradientTreeBoosting Regressor Manually Tuned</td>\n",
              "      <td>0.005045</td>\n",
              "      <td>1.506657e+12</td>\n",
              "      <td>0.000365</td>\n",
              "      <td>0.019111</td>\n",
              "    </tr>\n",
              "  </tbody>\n",
              "</table>\n",
              "</div>\n",
              "      <button class=\"colab-df-convert\" onclick=\"convertToInteractive('df-86982f06-fd64-46bd-8405-c7dba7f6ac92')\"\n",
              "              title=\"Convert this dataframe to an interactive table.\"\n",
              "              style=\"display:none;\">\n",
              "        \n",
              "  <svg xmlns=\"http://www.w3.org/2000/svg\" height=\"24px\"viewBox=\"0 0 24 24\"\n",
              "       width=\"24px\">\n",
              "    <path d=\"M0 0h24v24H0V0z\" fill=\"none\"/>\n",
              "    <path d=\"M18.56 5.44l.94 2.06.94-2.06 2.06-.94-2.06-.94-.94-2.06-.94 2.06-2.06.94zm-11 1L8.5 8.5l.94-2.06 2.06-.94-2.06-.94L8.5 2.5l-.94 2.06-2.06.94zm10 10l.94 2.06.94-2.06 2.06-.94-2.06-.94-.94-2.06-.94 2.06-2.06.94z\"/><path d=\"M17.41 7.96l-1.37-1.37c-.4-.4-.92-.59-1.43-.59-.52 0-1.04.2-1.43.59L10.3 9.45l-7.72 7.72c-.78.78-.78 2.05 0 2.83L4 21.41c.39.39.9.59 1.41.59.51 0 1.02-.2 1.41-.59l7.78-7.78 2.81-2.81c.8-.78.8-2.07 0-2.86zM5.41 20L4 18.59l7.72-7.72 1.47 1.35L5.41 20z\"/>\n",
              "  </svg>\n",
              "      </button>\n",
              "      \n",
              "  <style>\n",
              "    .colab-df-container {\n",
              "      display:flex;\n",
              "      flex-wrap:wrap;\n",
              "      gap: 12px;\n",
              "    }\n",
              "\n",
              "    .colab-df-convert {\n",
              "      background-color: #E8F0FE;\n",
              "      border: none;\n",
              "      border-radius: 50%;\n",
              "      cursor: pointer;\n",
              "      display: none;\n",
              "      fill: #1967D2;\n",
              "      height: 32px;\n",
              "      padding: 0 0 0 0;\n",
              "      width: 32px;\n",
              "    }\n",
              "\n",
              "    .colab-df-convert:hover {\n",
              "      background-color: #E2EBFA;\n",
              "      box-shadow: 0px 1px 2px rgba(60, 64, 67, 0.3), 0px 1px 3px 1px rgba(60, 64, 67, 0.15);\n",
              "      fill: #174EA6;\n",
              "    }\n",
              "\n",
              "    [theme=dark] .colab-df-convert {\n",
              "      background-color: #3B4455;\n",
              "      fill: #D2E3FC;\n",
              "    }\n",
              "\n",
              "    [theme=dark] .colab-df-convert:hover {\n",
              "      background-color: #434B5C;\n",
              "      box-shadow: 0px 1px 3px 1px rgba(0, 0, 0, 0.15);\n",
              "      filter: drop-shadow(0px 1px 2px rgba(0, 0, 0, 0.3));\n",
              "      fill: #FFFFFF;\n",
              "    }\n",
              "  </style>\n",
              "\n",
              "      <script>\n",
              "        const buttonEl =\n",
              "          document.querySelector('#df-86982f06-fd64-46bd-8405-c7dba7f6ac92 button.colab-df-convert');\n",
              "        buttonEl.style.display =\n",
              "          google.colab.kernel.accessAllowed ? 'block' : 'none';\n",
              "\n",
              "        async function convertToInteractive(key) {\n",
              "          const element = document.querySelector('#df-86982f06-fd64-46bd-8405-c7dba7f6ac92');\n",
              "          const dataTable =\n",
              "            await google.colab.kernel.invokeFunction('convertToInteractive',\n",
              "                                                     [key], {});\n",
              "          if (!dataTable) return;\n",
              "\n",
              "          const docLinkHtml = 'Like what you see? Visit the ' +\n",
              "            '<a target=\"_blank\" href=https://colab.research.google.com/notebooks/data_table.ipynb>data table notebook</a>'\n",
              "            + ' to learn more about interactive tables.';\n",
              "          element.innerHTML = '';\n",
              "          dataTable['output_type'] = 'display_data';\n",
              "          await google.colab.output.renderOutput(dataTable, element);\n",
              "          const docLink = document.createElement('div');\n",
              "          docLink.innerHTML = docLinkHtml;\n",
              "          element.appendChild(docLink);\n",
              "        }\n",
              "      </script>\n",
              "    </div>\n",
              "  </div>\n",
              "  "
            ]
          },
          "metadata": {},
          "execution_count": 98
        }
      ]
    },
    {
      "cell_type": "code",
      "source": [
        "best_gbr_forecast = best_gbr_model.predict(X_test)"
      ],
      "metadata": {
        "colab": {
          "base_uri": "https://localhost:8080/"
        },
        "id": "QWMaEYYBiIze",
        "outputId": "df31b0a4-2e2f-4454-bfd2-3bf808580604"
      },
      "execution_count": 99,
      "outputs": [
        {
          "output_type": "stream",
          "name": "stderr",
          "text": [
            "/usr/local/lib/python3.7/dist-packages/sklearn/base.py:444: UserWarning: X has feature names, but GradientBoostingRegressor was fitted without feature names\n",
            "  f\"X has feature names, but {self.__class__.__name__} was fitted without\"\n"
          ]
        }
      ]
    },
    {
      "cell_type": "code",
      "source": [
        "plt.figure(figsize=(10, 7))\n",
        "offset = 10 # offset the values by 300 timesteps \n",
        "plot_time_series(timesteps=X_time_test,  values=y_test, label=\"Test data\")\n",
        "plot_time_series(timesteps=X_time_test[1:], values=naive_forecast, format=\"-\",  label=\"Naive forecast\")\n",
        "# plot_time_series(timesteps=X_time_test, values=rs_forecast, label='RandomForest forecast')\n",
        "# plot_time_series(timesteps=X_time_test,   values=rs_ideal_forecast, label='Randomized Search RandomForest forecast')\n",
        "# plot_time_series(timesteps=X_time_test, start=offset, values=k_forecast, label='KNR forecast')\n",
        "# plot_time_series(timesteps=X_time_test, start=offset, values=rs_k_forecast, label='Ideal KNR forecast')\n",
        "# plot_time_series(timesteps=X_time_test, start=offset, values=svr_forecast, label='SVR forecast')\n",
        "# plot_time_series(timesteps=X_time_test, start=offset, values=rs_svr_forecast, label='Ideal SVR forecast')\n",
        "# plot_time_series(timesteps=X_time_test, start=offset, values=vr_forecast, label='VotingRegressor forecast')\n",
        "# plot_time_series(timesteps=X_time_test, values=gbr_forecast, label='Base GradientTree forecast')\n",
        "plot_time_series(timesteps=X_time_test,  values=rs_gbr_forecast, label='Randomized Search GradientTree forecast')\n",
        "# plot_time_series(timesteps=X_time_test,  values=best_gbr_forecast, label='Best GradientTree forecast')\n",
        "plt.title('RS Gradient Tree Model vs Base Model in Makati', fontsize=18, fontweight='bold')\n",
        "\n",
        "plt.gca().xaxis.set_major_locator(mdates.DayLocator(interval=3));\n",
        "plt.show();"
      ],
      "metadata": {
        "colab": {
          "base_uri": "https://localhost:8080/",
          "height": 462
        },
        "id": "2bWGfa12iauK",
        "outputId": "9ca24184-2afb-46ed-cb37-e4c6e5652ee2"
      },
      "execution_count": 106,
      "outputs": [
        {
          "output_type": "display_data",
          "data": {
            "text/plain": [
              "<Figure size 720x504 with 1 Axes>"
            ],
            "image/png": "[encoded data removed]"
          },
          "metadata": {
            "needs_background": "light"
          }
        }
      ]
    },
    {
      "cell_type": "code",
      "source": [
        "plt.figure(figsize=(10, 7))\n",
        "offset = 10 # offset the values by 300 timesteps \n",
        "plot_time_series(timesteps=X_time_test,  values=y_test, label=\"Test data\")\n",
        "plot_time_series(timesteps=X_time_test[1:], values=naive_forecast, format=\"-\", label=\"Naive forecast\");\n",
        "plot_time_series(timesteps=X_time_test,  values=rs_gbr_forecast, label='Randomized Search GradientTree forecast')\n",
        "plot_time_series(timesteps=X_time_test,  values=best_gbr_forecast, label='Manually Tuned GradientTree forecast')\n",
        "plt.gca().xaxis.set_major_locator(mdates.DayLocator(interval=3));\n",
        "plt.title('Manually Tuned Gradient Tree Model vs Randomized Search \\nGradient Tree Model vs Base Model in Makati', fontsize=16, fontweight='bold')"
      ],
      "metadata": {
        "colab": {
          "base_uri": "https://localhost:8080/",
          "height": 515
        },
        "id": "H6cMUgVio0JM",
        "outputId": "98dbb2f5-bc58-4fae-b9f3-f57947e24fa1"
      },
      "execution_count": 107,
      "outputs": [
        {
          "output_type": "execute_result",
          "data": {
            "text/plain": [
              "Text(0.5, 1.0, 'Manually Tuned Gradient Tree Model vs Randomized Search \\nGradient Tree Model vs Base Model in Makati')"
            ]
          },
          "metadata": {},
          "execution_count": 107
        },
        {
          "output_type": "display_data",
          "data": {
            "text/plain": [
              "<Figure size 720x504 with 1 Axes>"
            ],
            "image/png": "[encoded data removed]"
          },
          "metadata": {
            "needs_background": "light"
          }
        }
      ]
    },
    {
      "cell_type": "code",
      "source": [
        "best_gbr_model.feature_importances_"
      ],
      "metadata": {
        "colab": {
          "base_uri": "https://localhost:8080/"
        },
        "id": "0oaL23KPieCm",
        "outputId": "96d8e64a-325a-40e1-92eb-54ec85fe0c93"
      },
      "execution_count": 102,
      "outputs": [
        {
          "output_type": "execute_result",
          "data": {
            "text/plain": [
              "array([0.        , 0.        , 0.        , 0.        , 0.01151191,\n",
              "       0.00100372, 0.00360142, 0.0212371 , 0.02181836, 0.00409237,\n",
              "       0.04769391, 0.03226556, 0.02105029, 0.01193747, 0.00207131,\n",
              "       0.00299028, 0.01298634, 0.01489498, 0.01312843, 0.73007716,\n",
              "       0.00716211, 0.00790882, 0.00660541, 0.00694489, 0.01181962,\n",
              "       0.00719855])"
            ]
          },
          "metadata": {},
          "execution_count": 102
        }
      ]
    },
    {
      "cell_type": "code",
      "source": [
        "def plot_features(columns, importances, n=20):\n",
        "    df = (pd.DataFrame({\n",
        "        'features': columns,\n",
        "        'feature_importances': importances\n",
        "    }).sort_values('feature_importances', ascending=False).reset_index(drop=True))\n",
        "\n",
        "    #plot df\n",
        "    fig, ax = plt.subplots()\n",
        "    ax.barh(df['features'][:n], df['feature_importances'][:n])\n",
        "    ax.set_ylabel('Features')\n",
        "    ax.set_xlabel('Feature Importance')\n",
        "    ax.invert_yaxis()\n",
        "    plt.title('Feature Importance in Makati', fontweight='bold', fontsize=14)"
      ],
      "metadata": {
        "id": "nGmdiARHjDNZ"
      },
      "execution_count": 103,
      "outputs": []
    },
    {
      "cell_type": "code",
      "source": [
        "plot_features(X_columns, best_gbr_model.feature_importances_)"
      ],
      "metadata": {
        "colab": {
          "base_uri": "https://localhost:8080/",
          "height": 296
        },
        "id": "5tqXm-lfjN8w",
        "outputId": "fa77dedb-1738-4cb2-abb8-8af6754d3c7d"
      },
      "execution_count": 104,
      "outputs": [
        {
          "output_type": "display_data",
          "data": {
            "text/plain": [
              "<Figure size 432x288 with 1 Axes>"
            ],
            "image/png": "[encoded data removed]"
          },
          "metadata": {
            "needs_background": "light"
          }
        }
      ]
    },
    {
      "cell_type": "code",
      "source": [
        "scores"
      ],
      "metadata": {
        "colab": {
          "base_uri": "https://localhost:8080/",
          "height": 316
        },
        "id": "tuWH11-vm28W",
        "outputId": "0a9444e7-a172-4fcd-81b6-407c1876850c"
      },
      "execution_count": 105,
      "outputs": [
        {
          "output_type": "execute_result",
          "data": {
            "text/plain": [
              "                                             models       mae          mape  \\\n",
              "0                                             Naive  0.005473  4.955045e+05   \n",
              "1                                     Random Forest  0.006814  1.029756e+13   \n",
              "2                   Random Forest Randomized Search  0.008771  1.076476e+13   \n",
              "3                    GradientTreeBoosting Regressor  0.006567  9.478942e+12   \n",
              "4  GradientTreeBoosting Regressor Randomized Search  0.006529  4.807955e+12   \n",
              "5     GradientTreeBoosting Regressor Manually Tuned  0.005045  1.506657e+12   \n",
              "\n",
              "        mse      rmse  \n",
              "0  0.000339  0.018411  \n",
              "1  0.000357  0.018886  \n",
              "2  0.000661  0.025714  \n",
              "3  0.000396  0.019895  \n",
              "4  0.000438  0.020934  \n",
              "5  0.000365  0.019111  "
            ],
            "text/html": [
              "\n",
              "  <div id=\"df-5d89f4ab-2a82-4f9c-beb3-2118cf8fd841\">\n",
              "    <div class=\"colab-df-container\">\n",
              "      <div>\n",
              "<style scoped>\n",
              "    .dataframe tbody tr th:only-of-type {\n",
              "        vertical-align: middle;\n",
              "    }\n",
              "\n",
              "    .dataframe tbody tr th {\n",
              "        vertical-align: top;\n",
              "    }\n",
              "\n",
              "    .dataframe thead th {\n",
              "        text-align: right;\n",
              "    }\n",
              "</style>\n",
              "<table border=\"1\" class=\"dataframe\">\n",
              "  <thead>\n",
              "    <tr style=\"text-align: right;\">\n",
              "      <th></th>\n",
              "      <th>models</th>\n",
              "      <th>mae</th>\n",
              "      <th>mape</th>\n",
              "      <th>mse</th>\n",
              "      <th>rmse</th>\n",
              "    </tr>\n",
              "  </thead>\n",
              "  <tbody>\n",
              "    <tr>\n",
              "      <th>0</th>\n",
              "      <td>Naive</td>\n",
              "      <td>0.005473</td>\n",
              "      <td>4.955045e+05</td>\n",
              "      <td>0.000339</td>\n",
              "      <td>0.018411</td>\n",
              "    </tr>\n",
              "    <tr>\n",
              "      <th>1</th>\n",
              "      <td>Random Forest</td>\n",
              "      <td>0.006814</td>\n",
              "      <td>1.029756e+13</td>\n",
              "      <td>0.000357</td>\n",
              "      <td>0.018886</td>\n",
              "    </tr>\n",
              "    <tr>\n",
              "      <th>2</th>\n",
              "      <td>Random Forest Randomized Search</td>\n",
              "      <td>0.008771</td>\n",
              "      <td>1.076476e+13</td>\n",
              "      <td>0.000661</td>\n",
              "      <td>0.025714</td>\n",
              "    </tr>\n",
              "    <tr>\n",
              "      <th>3</th>\n",
              "      <td>GradientTreeBoosting Regressor</td>\n",
              "      <td>0.006567</td>\n",
              "      <td>9.478942e+12</td>\n",
              "      <td>0.000396</td>\n",
              "      <td>0.019895</td>\n",
              "    </tr>\n",
              "    <tr>\n",
              "      <th>4</th>\n",
              "      <td>GradientTreeBoosting Regressor Randomized Search</td>\n",
              "      <td>0.006529</td>\n",
              "      <td>4.807955e+12</td>\n",
              "      <td>0.000438</td>\n",
              "      <td>0.020934</td>\n",
              "    </tr>\n",
              "    <tr>\n",
              "      <th>5</th>\n",
              "      <td>GradientTreeBoosting Regressor Manually Tuned</td>\n",
              "      <td>0.005045</td>\n",
              "      <td>1.506657e+12</td>\n",
              "      <td>0.000365</td>\n",
              "      <td>0.019111</td>\n",
              "    </tr>\n",
              "  </tbody>\n",
              "</table>\n",
              "</div>\n",
              "      <button class=\"colab-df-convert\" onclick=\"convertToInteractive('df-5d89f4ab-2a82-4f9c-beb3-2118cf8fd841')\"\n",
              "              title=\"Convert this dataframe to an interactive table.\"\n",
              "              style=\"display:none;\">\n",
              "        \n",
              "  <svg xmlns=\"http://www.w3.org/2000/svg\" height=\"24px\"viewBox=\"0 0 24 24\"\n",
              "       width=\"24px\">\n",
              "    <path d=\"M0 0h24v24H0V0z\" fill=\"none\"/>\n",
              "    <path d=\"M18.56 5.44l.94 2.06.94-2.06 2.06-.94-2.06-.94-.94-2.06-.94 2.06-2.06.94zm-11 1L8.5 8.5l.94-2.06 2.06-.94-2.06-.94L8.5 2.5l-.94 2.06-2.06.94zm10 10l.94 2.06.94-2.06 2.06-.94-2.06-.94-.94-2.06-.94 2.06-2.06.94z\"/><path d=\"M17.41 7.96l-1.37-1.37c-.4-.4-.92-.59-1.43-.59-.52 0-1.04.2-1.43.59L10.3 9.45l-7.72 7.72c-.78.78-.78 2.05 0 2.83L4 21.41c.39.39.9.59 1.41.59.51 0 1.02-.2 1.41-.59l7.78-7.78 2.81-2.81c.8-.78.8-2.07 0-2.86zM5.41 20L4 18.59l7.72-7.72 1.47 1.35L5.41 20z\"/>\n",
              "  </svg>\n",
              "      </button>\n",
              "      \n",
              "  <style>\n",
              "    .colab-df-container {\n",
              "      display:flex;\n",
              "      flex-wrap:wrap;\n",
              "      gap: 12px;\n",
              "    }\n",
              "\n",
              "    .colab-df-convert {\n",
              "      background-color: #E8F0FE;\n",
              "      border: none;\n",
              "      border-radius: 50%;\n",
              "      cursor: pointer;\n",
              "      display: none;\n",
              "      fill: #1967D2;\n",
              "      height: 32px;\n",
              "      padding: 0 0 0 0;\n",
              "      width: 32px;\n",
              "    }\n",
              "\n",
              "    .colab-df-convert:hover {\n",
              "      background-color: #E2EBFA;\n",
              "      box-shadow: 0px 1px 2px rgba(60, 64, 67, 0.3), 0px 1px 3px 1px rgba(60, 64, 67, 0.15);\n",
              "      fill: #174EA6;\n",
              "    }\n",
              "\n",
              "    [theme=dark] .colab-df-convert {\n",
              "      background-color: #3B4455;\n",
              "      fill: #D2E3FC;\n",
              "    }\n",
              "\n",
              "    [theme=dark] .colab-df-convert:hover {\n",
              "      background-color: #434B5C;\n",
              "      box-shadow: 0px 1px 3px 1px rgba(0, 0, 0, 0.15);\n",
              "      filter: drop-shadow(0px 1px 2px rgba(0, 0, 0, 0.3));\n",
              "      fill: #FFFFFF;\n",
              "    }\n",
              "  </style>\n",
              "\n",
              "      <script>\n",
              "        const buttonEl =\n",
              "          document.querySelector('#df-5d89f4ab-2a82-4f9c-beb3-2118cf8fd841 button.colab-df-convert');\n",
              "        buttonEl.style.display =\n",
              "          google.colab.kernel.accessAllowed ? 'block' : 'none';\n",
              "\n",
              "        async function convertToInteractive(key) {\n",
              "          const element = document.querySelector('#df-5d89f4ab-2a82-4f9c-beb3-2118cf8fd841');\n",
              "          const dataTable =\n",
              "            await google.colab.kernel.invokeFunction('convertToInteractive',\n",
              "                                                     [key], {});\n",
              "          if (!dataTable) return;\n",
              "\n",
              "          const docLinkHtml = 'Like what you see? Visit the ' +\n",
              "            '<a target=\"_blank\" href=https://colab.research.google.com/notebooks/data_table.ipynb>data table notebook</a>'\n",
              "            + ' to learn more about interactive tables.';\n",
              "          element.innerHTML = '';\n",
              "          dataTable['output_type'] = 'display_data';\n",
              "          await google.colab.output.renderOutput(dataTable, element);\n",
              "          const docLink = document.createElement('div');\n",
              "          docLink.innerHTML = docLinkHtml;\n",
              "          element.appendChild(docLink);\n",
              "        }\n",
              "      </script>\n",
              "    </div>\n",
              "  </div>\n",
              "  "
            ]
          },
          "metadata": {},
          "execution_count": 105
        }
      ]
    },
    {
      "cell_type": "code",
      "source": [
        ""
      ],
      "metadata": {
        "id": "9Wx1rE5OZNeO"
      },
      "execution_count": null,
      "outputs": []
    }
  ],
  "metadata": {
    "accelerator": "GPU",
    "colab": {
      "name": "Makati",
      "provenance": [],
      "mount_file_id": "1a2iJZC9eEDhkD4CTqzJnkUp_kS8c8XHq",
      "authorship_tag": "ABX9TyNan0DHHFxBxNSJyHuOcw2Y",
      "include_colab_link": true
    },
    "kernelspec": {
      "display_name": "Python 3",
      "name": "python3"
    },
    "language_info": {
      "name": "python"
    }
  },
  "nbformat": 4,
  "nbformat_minor": 0
}