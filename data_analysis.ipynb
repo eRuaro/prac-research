{
  "nbformat": 4,
  "nbformat_minor": 0,
  "metadata": {
    "colab": {
      "name": "data-analysis",
      "provenance": [],
      "mount_file_id": "1gcQDXpVZ_bRSgugtJZJmvWDZNNEi9kwC",
      "authorship_tag": "ABX9TyMHLTFdBLah2HGVKhqkB5Wj",
      "include_colab_link": true
    },
    "kernelspec": {
      "name": "python3",
      "display_name": "Python 3"
    },
    "language_info": {
      "name": "python"
    }
  },
  "cells": [
    {
      "cell_type": "markdown",
      "metadata": {
        "id": "view-in-github",
        "colab_type": "text"
      },
      "source": [
        "<a href=\"https://colab.research.google.com/github/eRuaro/prac-research/blob/main/data_analysis.ipynb\" target=\"_parent\"><img src=\"https://colab.research.google.com/assets/colab-badge.svg\" alt=\"Open In Colab\"/></a>"
      ]
    },
    {
      "cell_type": "code",
      "source": [
        "path = '/content/drive/MyDrive/prac-research/actual/data/research-data-all.csv'"
      ],
      "metadata": {
        "id": "GO4NfSoaAT9h"
      },
      "execution_count": null,
      "outputs": []
    },
    {
      "cell_type": "code",
      "source": [
        "import numpy as np\n",
        "import pandas as pd\n",
        "%matplotlib inline\n",
        "import matplotlib.pyplot as plt\n",
        "import seaborn as sns"
      ],
      "metadata": {
        "id": "0wzKrYG2Ajnd"
      },
      "execution_count": null,
      "outputs": []
    },
    {
      "cell_type": "code",
      "source": [
        "df = pd.read_csv(\n",
        "    path,\n",
        "    low_memory=False,\n",
        "    parse_dates=['time']\n",
        ")\n",
        "\n",
        "df.head()"
      ],
      "metadata": {
        "colab": {
          "base_uri": "https://localhost:8080/",
          "height": 357
        },
        "id": "iilLVusBAt2X",
        "outputId": "d0406cbf-a8e7-45c1-e57d-496d5ca75b26"
      },
      "execution_count": null,
      "outputs": [
        {
          "output_type": "execute_result",
          "data": {
            "text/plain": [
              "     name       region      country  longitude  latitude                time  \\\n",
              "0    Cebu    Cebu City  Philippines     123.89     10.31 2021-12-10 00:00:00   \n",
              "1  Iloilo  Iloilo City  Philippines     122.56     10.70 2021-12-10 00:00:00   \n",
              "2  Makati       Manila  Philippines     121.03     14.57 2021-12-10 00:00:00   \n",
              "3    Cebu    Cebu City  Philippines     123.89     10.31 2021-12-10 01:00:00   \n",
              "4  Iloilo  Iloilo City  Philippines     122.56     10.70 2021-12-10 01:00:00   \n",
              "\n",
              "  temp_c is_day condition wind_kph wind_degree wind_dir air_pressure  \\\n",
              "0   24.9      0    Cloudy     15.5         358        N      1011.55   \n",
              "1   24.7      0    Cloudy     24.8          22      NNE      1010.96   \n",
              "2   24.8      0     Clear     12.2          78      ENE      1013.88   \n",
              "3   24.9      0    Cloudy     15.4         358        N      1011.27   \n",
              "4   24.7      0    Cloudy     24.7          22      NNE      1010.72   \n",
              "\n",
              "  precipitation relative_humidity cloud feelslike_c will_it_rain  \\\n",
              "0          0.92              88.9    65        27.6            0   \n",
              "1          0.02              79.7    63        27.2            0   \n",
              "2             0              67.3    10        26.3            0   \n",
              "3          0.96             88.23    58        27.6            0   \n",
              "4          0.02             76.93    64        27.2            0   \n",
              "\n",
              "  chance_of_rain  \n",
              "0              0  \n",
              "1              0  \n",
              "2              0  \n",
              "3              2  \n",
              "4              2  "
            ],
            "text/html": [
              "\n",
              "  <div id=\"df-cda20743-d41d-4969-8105-fbaa1cffc519\">\n",
              "    <div class=\"colab-df-container\">\n",
              "      <div>\n",
              "<style scoped>\n",
              "    .dataframe tbody tr th:only-of-type {\n",
              "        vertical-align: middle;\n",
              "    }\n",
              "\n",
              "    .dataframe tbody tr th {\n",
              "        vertical-align: top;\n",
              "    }\n",
              "\n",
              "    .dataframe thead th {\n",
              "        text-align: right;\n",
              "    }\n",
              "</style>\n",
              "<table border=\"1\" class=\"dataframe\">\n",
              "  <thead>\n",
              "    <tr style=\"text-align: right;\">\n",
              "      <th></th>\n",
              "      <th>name</th>\n",
              "      <th>region</th>\n",
              "      <th>country</th>\n",
              "      <th>longitude</th>\n",
              "      <th>latitude</th>\n",
              "      <th>time</th>\n",
              "      <th>temp_c</th>\n",
              "      <th>is_day</th>\n",
              "      <th>condition</th>\n",
              "      <th>wind_kph</th>\n",
              "      <th>wind_degree</th>\n",
              "      <th>wind_dir</th>\n",
              "      <th>air_pressure</th>\n",
              "      <th>precipitation</th>\n",
              "      <th>relative_humidity</th>\n",
              "      <th>cloud</th>\n",
              "      <th>feelslike_c</th>\n",
              "      <th>will_it_rain</th>\n",
              "      <th>chance_of_rain</th>\n",
              "    </tr>\n",
              "  </thead>\n",
              "  <tbody>\n",
              "    <tr>\n",
              "      <th>0</th>\n",
              "      <td>Cebu</td>\n",
              "      <td>Cebu City</td>\n",
              "      <td>Philippines</td>\n",
              "      <td>123.89</td>\n",
              "      <td>10.31</td>\n",
              "      <td>2021-12-10 00:00:00</td>\n",
              "      <td>24.9</td>\n",
              "      <td>0</td>\n",
              "      <td>Cloudy</td>\n",
              "      <td>15.5</td>\n",
              "      <td>358</td>\n",
              "      <td>N</td>\n",
              "      <td>1011.55</td>\n",
              "      <td>0.92</td>\n",
              "      <td>88.9</td>\n",
              "      <td>65</td>\n",
              "      <td>27.6</td>\n",
              "      <td>0</td>\n",
              "      <td>0</td>\n",
              "    </tr>\n",
              "    <tr>\n",
              "      <th>1</th>\n",
              "      <td>Iloilo</td>\n",
              "      <td>Iloilo City</td>\n",
              "      <td>Philippines</td>\n",
              "      <td>122.56</td>\n",
              "      <td>10.70</td>\n",
              "      <td>2021-12-10 00:00:00</td>\n",
              "      <td>24.7</td>\n",
              "      <td>0</td>\n",
              "      <td>Cloudy</td>\n",
              "      <td>24.8</td>\n",
              "      <td>22</td>\n",
              "      <td>NNE</td>\n",
              "      <td>1010.96</td>\n",
              "      <td>0.02</td>\n",
              "      <td>79.7</td>\n",
              "      <td>63</td>\n",
              "      <td>27.2</td>\n",
              "      <td>0</td>\n",
              "      <td>0</td>\n",
              "    </tr>\n",
              "    <tr>\n",
              "      <th>2</th>\n",
              "      <td>Makati</td>\n",
              "      <td>Manila</td>\n",
              "      <td>Philippines</td>\n",
              "      <td>121.03</td>\n",
              "      <td>14.57</td>\n",
              "      <td>2021-12-10 00:00:00</td>\n",
              "      <td>24.8</td>\n",
              "      <td>0</td>\n",
              "      <td>Clear</td>\n",
              "      <td>12.2</td>\n",
              "      <td>78</td>\n",
              "      <td>ENE</td>\n",
              "      <td>1013.88</td>\n",
              "      <td>0</td>\n",
              "      <td>67.3</td>\n",
              "      <td>10</td>\n",
              "      <td>26.3</td>\n",
              "      <td>0</td>\n",
              "      <td>0</td>\n",
              "    </tr>\n",
              "    <tr>\n",
              "      <th>3</th>\n",
              "      <td>Cebu</td>\n",
              "      <td>Cebu City</td>\n",
              "      <td>Philippines</td>\n",
              "      <td>123.89</td>\n",
              "      <td>10.31</td>\n",
              "      <td>2021-12-10 01:00:00</td>\n",
              "      <td>24.9</td>\n",
              "      <td>0</td>\n",
              "      <td>Cloudy</td>\n",
              "      <td>15.4</td>\n",
              "      <td>358</td>\n",
              "      <td>N</td>\n",
              "      <td>1011.27</td>\n",
              "      <td>0.96</td>\n",
              "      <td>88.23</td>\n",
              "      <td>58</td>\n",
              "      <td>27.6</td>\n",
              "      <td>0</td>\n",
              "      <td>2</td>\n",
              "    </tr>\n",
              "    <tr>\n",
              "      <th>4</th>\n",
              "      <td>Iloilo</td>\n",
              "      <td>Iloilo City</td>\n",
              "      <td>Philippines</td>\n",
              "      <td>122.56</td>\n",
              "      <td>10.70</td>\n",
              "      <td>2021-12-10 01:00:00</td>\n",
              "      <td>24.7</td>\n",
              "      <td>0</td>\n",
              "      <td>Cloudy</td>\n",
              "      <td>24.7</td>\n",
              "      <td>22</td>\n",
              "      <td>NNE</td>\n",
              "      <td>1010.72</td>\n",
              "      <td>0.02</td>\n",
              "      <td>76.93</td>\n",
              "      <td>64</td>\n",
              "      <td>27.2</td>\n",
              "      <td>0</td>\n",
              "      <td>2</td>\n",
              "    </tr>\n",
              "  </tbody>\n",
              "</table>\n",
              "</div>\n",
              "      <button class=\"colab-df-convert\" onclick=\"convertToInteractive('df-cda20743-d41d-4969-8105-fbaa1cffc519')\"\n",
              "              title=\"Convert this dataframe to an interactive table.\"\n",
              "              style=\"display:none;\">\n",
              "        \n",
              "  <svg xmlns=\"http://www.w3.org/2000/svg\" height=\"24px\"viewBox=\"0 0 24 24\"\n",
              "       width=\"24px\">\n",
              "    <path d=\"M0 0h24v24H0V0z\" fill=\"none\"/>\n",
              "    <path d=\"M18.56 5.44l.94 2.06.94-2.06 2.06-.94-2.06-.94-.94-2.06-.94 2.06-2.06.94zm-11 1L8.5 8.5l.94-2.06 2.06-.94-2.06-.94L8.5 2.5l-.94 2.06-2.06.94zm10 10l.94 2.06.94-2.06 2.06-.94-2.06-.94-.94-2.06-.94 2.06-2.06.94z\"/><path d=\"M17.41 7.96l-1.37-1.37c-.4-.4-.92-.59-1.43-.59-.52 0-1.04.2-1.43.59L10.3 9.45l-7.72 7.72c-.78.78-.78 2.05 0 2.83L4 21.41c.39.39.9.59 1.41.59.51 0 1.02-.2 1.41-.59l7.78-7.78 2.81-2.81c.8-.78.8-2.07 0-2.86zM5.41 20L4 18.59l7.72-7.72 1.47 1.35L5.41 20z\"/>\n",
              "  </svg>\n",
              "      </button>\n",
              "      \n",
              "  <style>\n",
              "    .colab-df-container {\n",
              "      display:flex;\n",
              "      flex-wrap:wrap;\n",
              "      gap: 12px;\n",
              "    }\n",
              "\n",
              "    .colab-df-convert {\n",
              "      background-color: #E8F0FE;\n",
              "      border: none;\n",
              "      border-radius: 50%;\n",
              "      cursor: pointer;\n",
              "      display: none;\n",
              "      fill: #1967D2;\n",
              "      height: 32px;\n",
              "      padding: 0 0 0 0;\n",
              "      width: 32px;\n",
              "    }\n",
              "\n",
              "    .colab-df-convert:hover {\n",
              "      background-color: #E2EBFA;\n",
              "      box-shadow: 0px 1px 2px rgba(60, 64, 67, 0.3), 0px 1px 3px 1px rgba(60, 64, 67, 0.15);\n",
              "      fill: #174EA6;\n",
              "    }\n",
              "\n",
              "    [theme=dark] .colab-df-convert {\n",
              "      background-color: #3B4455;\n",
              "      fill: #D2E3FC;\n",
              "    }\n",
              "\n",
              "    [theme=dark] .colab-df-convert:hover {\n",
              "      background-color: #434B5C;\n",
              "      box-shadow: 0px 1px 3px 1px rgba(0, 0, 0, 0.15);\n",
              "      filter: drop-shadow(0px 1px 2px rgba(0, 0, 0, 0.3));\n",
              "      fill: #FFFFFF;\n",
              "    }\n",
              "  </style>\n",
              "\n",
              "      <script>\n",
              "        const buttonEl =\n",
              "          document.querySelector('#df-cda20743-d41d-4969-8105-fbaa1cffc519 button.colab-df-convert');\n",
              "        buttonEl.style.display =\n",
              "          google.colab.kernel.accessAllowed ? 'block' : 'none';\n",
              "\n",
              "        async function convertToInteractive(key) {\n",
              "          const element = document.querySelector('#df-cda20743-d41d-4969-8105-fbaa1cffc519');\n",
              "          const dataTable =\n",
              "            await google.colab.kernel.invokeFunction('convertToInteractive',\n",
              "                                                     [key], {});\n",
              "          if (!dataTable) return;\n",
              "\n",
              "          const docLinkHtml = 'Like what you see? Visit the ' +\n",
              "            '<a target=\"_blank\" href=https://colab.research.google.com/notebooks/data_table.ipynb>data table notebook</a>'\n",
              "            + ' to learn more about interactive tables.';\n",
              "          element.innerHTML = '';\n",
              "          dataTable['output_type'] = 'display_data';\n",
              "          await google.colab.output.renderOutput(dataTable, element);\n",
              "          const docLink = document.createElement('div');\n",
              "          docLink.innerHTML = docLinkHtml;\n",
              "          element.appendChild(docLink);\n",
              "        }\n",
              "      </script>\n",
              "    </div>\n",
              "  </div>\n",
              "  "
            ]
          },
          "metadata": {},
          "execution_count": 19
        }
      ]
    },
    {
      "cell_type": "code",
      "source": [
        "df.describe()"
      ],
      "metadata": {
        "colab": {
          "base_uri": "https://localhost:8080/",
          "height": 300
        },
        "id": "LHl7yPlSA0im",
        "outputId": "ec7a1caa-ef5a-4f44-cf16-5f4febe64868"
      },
      "execution_count": null,
      "outputs": [
        {
          "output_type": "execute_result",
          "data": {
            "text/plain": [
              "         longitude     latitude\n",
              "count  6696.000000  6696.000000\n",
              "mean    122.493333    11.860000\n",
              "std       1.168629     1.923006\n",
              "min     121.030000    10.310000\n",
              "25%     121.030000    10.310000\n",
              "50%     122.560000    10.700000\n",
              "75%     123.890000    14.570000\n",
              "max     123.890000    14.570000"
            ],
            "text/html": [
              "\n",
              "  <div id=\"df-79e613eb-9e93-43ce-82a4-d60c318d50a2\">\n",
              "    <div class=\"colab-df-container\">\n",
              "      <div>\n",
              "<style scoped>\n",
              "    .dataframe tbody tr th:only-of-type {\n",
              "        vertical-align: middle;\n",
              "    }\n",
              "\n",
              "    .dataframe tbody tr th {\n",
              "        vertical-align: top;\n",
              "    }\n",
              "\n",
              "    .dataframe thead th {\n",
              "        text-align: right;\n",
              "    }\n",
              "</style>\n",
              "<table border=\"1\" class=\"dataframe\">\n",
              "  <thead>\n",
              "    <tr style=\"text-align: right;\">\n",
              "      <th></th>\n",
              "      <th>longitude</th>\n",
              "      <th>latitude</th>\n",
              "    </tr>\n",
              "  </thead>\n",
              "  <tbody>\n",
              "    <tr>\n",
              "      <th>count</th>\n",
              "      <td>6696.000000</td>\n",
              "      <td>6696.000000</td>\n",
              "    </tr>\n",
              "    <tr>\n",
              "      <th>mean</th>\n",
              "      <td>122.493333</td>\n",
              "      <td>11.860000</td>\n",
              "    </tr>\n",
              "    <tr>\n",
              "      <th>std</th>\n",
              "      <td>1.168629</td>\n",
              "      <td>1.923006</td>\n",
              "    </tr>\n",
              "    <tr>\n",
              "      <th>min</th>\n",
              "      <td>121.030000</td>\n",
              "      <td>10.310000</td>\n",
              "    </tr>\n",
              "    <tr>\n",
              "      <th>25%</th>\n",
              "      <td>121.030000</td>\n",
              "      <td>10.310000</td>\n",
              "    </tr>\n",
              "    <tr>\n",
              "      <th>50%</th>\n",
              "      <td>122.560000</td>\n",
              "      <td>10.700000</td>\n",
              "    </tr>\n",
              "    <tr>\n",
              "      <th>75%</th>\n",
              "      <td>123.890000</td>\n",
              "      <td>14.570000</td>\n",
              "    </tr>\n",
              "    <tr>\n",
              "      <th>max</th>\n",
              "      <td>123.890000</td>\n",
              "      <td>14.570000</td>\n",
              "    </tr>\n",
              "  </tbody>\n",
              "</table>\n",
              "</div>\n",
              "      <button class=\"colab-df-convert\" onclick=\"convertToInteractive('df-79e613eb-9e93-43ce-82a4-d60c318d50a2')\"\n",
              "              title=\"Convert this dataframe to an interactive table.\"\n",
              "              style=\"display:none;\">\n",
              "        \n",
              "  <svg xmlns=\"http://www.w3.org/2000/svg\" height=\"24px\"viewBox=\"0 0 24 24\"\n",
              "       width=\"24px\">\n",
              "    <path d=\"M0 0h24v24H0V0z\" fill=\"none\"/>\n",
              "    <path d=\"M18.56 5.44l.94 2.06.94-2.06 2.06-.94-2.06-.94-.94-2.06-.94 2.06-2.06.94zm-11 1L8.5 8.5l.94-2.06 2.06-.94-2.06-.94L8.5 2.5l-.94 2.06-2.06.94zm10 10l.94 2.06.94-2.06 2.06-.94-2.06-.94-.94-2.06-.94 2.06-2.06.94z\"/><path d=\"M17.41 7.96l-1.37-1.37c-.4-.4-.92-.59-1.43-.59-.52 0-1.04.2-1.43.59L10.3 9.45l-7.72 7.72c-.78.78-.78 2.05 0 2.83L4 21.41c.39.39.9.59 1.41.59.51 0 1.02-.2 1.41-.59l7.78-7.78 2.81-2.81c.8-.78.8-2.07 0-2.86zM5.41 20L4 18.59l7.72-7.72 1.47 1.35L5.41 20z\"/>\n",
              "  </svg>\n",
              "      </button>\n",
              "      \n",
              "  <style>\n",
              "    .colab-df-container {\n",
              "      display:flex;\n",
              "      flex-wrap:wrap;\n",
              "      gap: 12px;\n",
              "    }\n",
              "\n",
              "    .colab-df-convert {\n",
              "      background-color: #E8F0FE;\n",
              "      border: none;\n",
              "      border-radius: 50%;\n",
              "      cursor: pointer;\n",
              "      display: none;\n",
              "      fill: #1967D2;\n",
              "      height: 32px;\n",
              "      padding: 0 0 0 0;\n",
              "      width: 32px;\n",
              "    }\n",
              "\n",
              "    .colab-df-convert:hover {\n",
              "      background-color: #E2EBFA;\n",
              "      box-shadow: 0px 1px 2px rgba(60, 64, 67, 0.3), 0px 1px 3px 1px rgba(60, 64, 67, 0.15);\n",
              "      fill: #174EA6;\n",
              "    }\n",
              "\n",
              "    [theme=dark] .colab-df-convert {\n",
              "      background-color: #3B4455;\n",
              "      fill: #D2E3FC;\n",
              "    }\n",
              "\n",
              "    [theme=dark] .colab-df-convert:hover {\n",
              "      background-color: #434B5C;\n",
              "      box-shadow: 0px 1px 3px 1px rgba(0, 0, 0, 0.15);\n",
              "      filter: drop-shadow(0px 1px 2px rgba(0, 0, 0, 0.3));\n",
              "      fill: #FFFFFF;\n",
              "    }\n",
              "  </style>\n",
              "\n",
              "      <script>\n",
              "        const buttonEl =\n",
              "          document.querySelector('#df-79e613eb-9e93-43ce-82a4-d60c318d50a2 button.colab-df-convert');\n",
              "        buttonEl.style.display =\n",
              "          google.colab.kernel.accessAllowed ? 'block' : 'none';\n",
              "\n",
              "        async function convertToInteractive(key) {\n",
              "          const element = document.querySelector('#df-79e613eb-9e93-43ce-82a4-d60c318d50a2');\n",
              "          const dataTable =\n",
              "            await google.colab.kernel.invokeFunction('convertToInteractive',\n",
              "                                                     [key], {});\n",
              "          if (!dataTable) return;\n",
              "\n",
              "          const docLinkHtml = 'Like what you see? Visit the ' +\n",
              "            '<a target=\"_blank\" href=https://colab.research.google.com/notebooks/data_table.ipynb>data table notebook</a>'\n",
              "            + ' to learn more about interactive tables.';\n",
              "          element.innerHTML = '';\n",
              "          dataTable['output_type'] = 'display_data';\n",
              "          await google.colab.output.renderOutput(dataTable, element);\n",
              "          const docLink = document.createElement('div');\n",
              "          docLink.innerHTML = docLinkHtml;\n",
              "          element.appendChild(docLink);\n",
              "        }\n",
              "      </script>\n",
              "    </div>\n",
              "  </div>\n",
              "  "
            ]
          },
          "metadata": {},
          "execution_count": 4
        }
      ]
    },
    {
      "cell_type": "code",
      "source": [
        "precipitation = df.pop('precipitation')\n",
        "\n",
        "df.insert(0, 'precipitation', precipitation)\n",
        "\n",
        "df.head()"
      ],
      "metadata": {
        "colab": {
          "base_uri": "https://localhost:8080/",
          "height": 357
        },
        "id": "d2w6PPBCFs6t",
        "outputId": "4ff21aac-9bc0-4863-db62-e741cfc07cf6"
      },
      "execution_count": null,
      "outputs": [
        {
          "output_type": "execute_result",
          "data": {
            "text/plain": [
              "  precipitation    name       region      country  longitude  latitude  \\\n",
              "0          0.92    Cebu    Cebu City  Philippines     123.89     10.31   \n",
              "1          0.02  Iloilo  Iloilo City  Philippines     122.56     10.70   \n",
              "2             0  Makati       Manila  Philippines     121.03     14.57   \n",
              "3          0.96    Cebu    Cebu City  Philippines     123.89     10.31   \n",
              "4          0.02  Iloilo  Iloilo City  Philippines     122.56     10.70   \n",
              "\n",
              "                 time temp_c is_day condition wind_kph wind_degree wind_dir  \\\n",
              "0 2021-12-10 00:00:00   24.9      0    Cloudy     15.5         358        N   \n",
              "1 2021-12-10 00:00:00   24.7      0    Cloudy     24.8          22      NNE   \n",
              "2 2021-12-10 00:00:00   24.8      0     Clear     12.2          78      ENE   \n",
              "3 2021-12-10 01:00:00   24.9      0    Cloudy     15.4         358        N   \n",
              "4 2021-12-10 01:00:00   24.7      0    Cloudy     24.7          22      NNE   \n",
              "\n",
              "  air_pressure relative_humidity cloud feelslike_c will_it_rain chance_of_rain  \n",
              "0      1011.55              88.9    65        27.6            0              0  \n",
              "1      1010.96              79.7    63        27.2            0              0  \n",
              "2      1013.88              67.3    10        26.3            0              0  \n",
              "3      1011.27             88.23    58        27.6            0              2  \n",
              "4      1010.72             76.93    64        27.2            0              2  "
            ],
            "text/html": [
              "\n",
              "  <div id=\"df-61b1725f-3966-407c-8273-376a4af26ad8\">\n",
              "    <div class=\"colab-df-container\">\n",
              "      <div>\n",
              "<style scoped>\n",
              "    .dataframe tbody tr th:only-of-type {\n",
              "        vertical-align: middle;\n",
              "    }\n",
              "\n",
              "    .dataframe tbody tr th {\n",
              "        vertical-align: top;\n",
              "    }\n",
              "\n",
              "    .dataframe thead th {\n",
              "        text-align: right;\n",
              "    }\n",
              "</style>\n",
              "<table border=\"1\" class=\"dataframe\">\n",
              "  <thead>\n",
              "    <tr style=\"text-align: right;\">\n",
              "      <th></th>\n",
              "      <th>precipitation</th>\n",
              "      <th>name</th>\n",
              "      <th>region</th>\n",
              "      <th>country</th>\n",
              "      <th>longitude</th>\n",
              "      <th>latitude</th>\n",
              "      <th>time</th>\n",
              "      <th>temp_c</th>\n",
              "      <th>is_day</th>\n",
              "      <th>condition</th>\n",
              "      <th>wind_kph</th>\n",
              "      <th>wind_degree</th>\n",
              "      <th>wind_dir</th>\n",
              "      <th>air_pressure</th>\n",
              "      <th>relative_humidity</th>\n",
              "      <th>cloud</th>\n",
              "      <th>feelslike_c</th>\n",
              "      <th>will_it_rain</th>\n",
              "      <th>chance_of_rain</th>\n",
              "    </tr>\n",
              "  </thead>\n",
              "  <tbody>\n",
              "    <tr>\n",
              "      <th>0</th>\n",
              "      <td>0.92</td>\n",
              "      <td>Cebu</td>\n",
              "      <td>Cebu City</td>\n",
              "      <td>Philippines</td>\n",
              "      <td>123.89</td>\n",
              "      <td>10.31</td>\n",
              "      <td>2021-12-10 00:00:00</td>\n",
              "      <td>24.9</td>\n",
              "      <td>0</td>\n",
              "      <td>Cloudy</td>\n",
              "      <td>15.5</td>\n",
              "      <td>358</td>\n",
              "      <td>N</td>\n",
              "      <td>1011.55</td>\n",
              "      <td>88.9</td>\n",
              "      <td>65</td>\n",
              "      <td>27.6</td>\n",
              "      <td>0</td>\n",
              "      <td>0</td>\n",
              "    </tr>\n",
              "    <tr>\n",
              "      <th>1</th>\n",
              "      <td>0.02</td>\n",
              "      <td>Iloilo</td>\n",
              "      <td>Iloilo City</td>\n",
              "      <td>Philippines</td>\n",
              "      <td>122.56</td>\n",
              "      <td>10.70</td>\n",
              "      <td>2021-12-10 00:00:00</td>\n",
              "      <td>24.7</td>\n",
              "      <td>0</td>\n",
              "      <td>Cloudy</td>\n",
              "      <td>24.8</td>\n",
              "      <td>22</td>\n",
              "      <td>NNE</td>\n",
              "      <td>1010.96</td>\n",
              "      <td>79.7</td>\n",
              "      <td>63</td>\n",
              "      <td>27.2</td>\n",
              "      <td>0</td>\n",
              "      <td>0</td>\n",
              "    </tr>\n",
              "    <tr>\n",
              "      <th>2</th>\n",
              "      <td>0</td>\n",
              "      <td>Makati</td>\n",
              "      <td>Manila</td>\n",
              "      <td>Philippines</td>\n",
              "      <td>121.03</td>\n",
              "      <td>14.57</td>\n",
              "      <td>2021-12-10 00:00:00</td>\n",
              "      <td>24.8</td>\n",
              "      <td>0</td>\n",
              "      <td>Clear</td>\n",
              "      <td>12.2</td>\n",
              "      <td>78</td>\n",
              "      <td>ENE</td>\n",
              "      <td>1013.88</td>\n",
              "      <td>67.3</td>\n",
              "      <td>10</td>\n",
              "      <td>26.3</td>\n",
              "      <td>0</td>\n",
              "      <td>0</td>\n",
              "    </tr>\n",
              "    <tr>\n",
              "      <th>3</th>\n",
              "      <td>0.96</td>\n",
              "      <td>Cebu</td>\n",
              "      <td>Cebu City</td>\n",
              "      <td>Philippines</td>\n",
              "      <td>123.89</td>\n",
              "      <td>10.31</td>\n",
              "      <td>2021-12-10 01:00:00</td>\n",
              "      <td>24.9</td>\n",
              "      <td>0</td>\n",
              "      <td>Cloudy</td>\n",
              "      <td>15.4</td>\n",
              "      <td>358</td>\n",
              "      <td>N</td>\n",
              "      <td>1011.27</td>\n",
              "      <td>88.23</td>\n",
              "      <td>58</td>\n",
              "      <td>27.6</td>\n",
              "      <td>0</td>\n",
              "      <td>2</td>\n",
              "    </tr>\n",
              "    <tr>\n",
              "      <th>4</th>\n",
              "      <td>0.02</td>\n",
              "      <td>Iloilo</td>\n",
              "      <td>Iloilo City</td>\n",
              "      <td>Philippines</td>\n",
              "      <td>122.56</td>\n",
              "      <td>10.70</td>\n",
              "      <td>2021-12-10 01:00:00</td>\n",
              "      <td>24.7</td>\n",
              "      <td>0</td>\n",
              "      <td>Cloudy</td>\n",
              "      <td>24.7</td>\n",
              "      <td>22</td>\n",
              "      <td>NNE</td>\n",
              "      <td>1010.72</td>\n",
              "      <td>76.93</td>\n",
              "      <td>64</td>\n",
              "      <td>27.2</td>\n",
              "      <td>0</td>\n",
              "      <td>2</td>\n",
              "    </tr>\n",
              "  </tbody>\n",
              "</table>\n",
              "</div>\n",
              "      <button class=\"colab-df-convert\" onclick=\"convertToInteractive('df-61b1725f-3966-407c-8273-376a4af26ad8')\"\n",
              "              title=\"Convert this dataframe to an interactive table.\"\n",
              "              style=\"display:none;\">\n",
              "        \n",
              "  <svg xmlns=\"http://www.w3.org/2000/svg\" height=\"24px\"viewBox=\"0 0 24 24\"\n",
              "       width=\"24px\">\n",
              "    <path d=\"M0 0h24v24H0V0z\" fill=\"none\"/>\n",
              "    <path d=\"M18.56 5.44l.94 2.06.94-2.06 2.06-.94-2.06-.94-.94-2.06-.94 2.06-2.06.94zm-11 1L8.5 8.5l.94-2.06 2.06-.94-2.06-.94L8.5 2.5l-.94 2.06-2.06.94zm10 10l.94 2.06.94-2.06 2.06-.94-2.06-.94-.94-2.06-.94 2.06-2.06.94z\"/><path d=\"M17.41 7.96l-1.37-1.37c-.4-.4-.92-.59-1.43-.59-.52 0-1.04.2-1.43.59L10.3 9.45l-7.72 7.72c-.78.78-.78 2.05 0 2.83L4 21.41c.39.39.9.59 1.41.59.51 0 1.02-.2 1.41-.59l7.78-7.78 2.81-2.81c.8-.78.8-2.07 0-2.86zM5.41 20L4 18.59l7.72-7.72 1.47 1.35L5.41 20z\"/>\n",
              "  </svg>\n",
              "      </button>\n",
              "      \n",
              "  <style>\n",
              "    .colab-df-container {\n",
              "      display:flex;\n",
              "      flex-wrap:wrap;\n",
              "      gap: 12px;\n",
              "    }\n",
              "\n",
              "    .colab-df-convert {\n",
              "      background-color: #E8F0FE;\n",
              "      border: none;\n",
              "      border-radius: 50%;\n",
              "      cursor: pointer;\n",
              "      display: none;\n",
              "      fill: #1967D2;\n",
              "      height: 32px;\n",
              "      padding: 0 0 0 0;\n",
              "      width: 32px;\n",
              "    }\n",
              "\n",
              "    .colab-df-convert:hover {\n",
              "      background-color: #E2EBFA;\n",
              "      box-shadow: 0px 1px 2px rgba(60, 64, 67, 0.3), 0px 1px 3px 1px rgba(60, 64, 67, 0.15);\n",
              "      fill: #174EA6;\n",
              "    }\n",
              "\n",
              "    [theme=dark] .colab-df-convert {\n",
              "      background-color: #3B4455;\n",
              "      fill: #D2E3FC;\n",
              "    }\n",
              "\n",
              "    [theme=dark] .colab-df-convert:hover {\n",
              "      background-color: #434B5C;\n",
              "      box-shadow: 0px 1px 3px 1px rgba(0, 0, 0, 0.15);\n",
              "      filter: drop-shadow(0px 1px 2px rgba(0, 0, 0, 0.3));\n",
              "      fill: #FFFFFF;\n",
              "    }\n",
              "  </style>\n",
              "\n",
              "      <script>\n",
              "        const buttonEl =\n",
              "          document.querySelector('#df-61b1725f-3966-407c-8273-376a4af26ad8 button.colab-df-convert');\n",
              "        buttonEl.style.display =\n",
              "          google.colab.kernel.accessAllowed ? 'block' : 'none';\n",
              "\n",
              "        async function convertToInteractive(key) {\n",
              "          const element = document.querySelector('#df-61b1725f-3966-407c-8273-376a4af26ad8');\n",
              "          const dataTable =\n",
              "            await google.colab.kernel.invokeFunction('convertToInteractive',\n",
              "                                                     [key], {});\n",
              "          if (!dataTable) return;\n",
              "\n",
              "          const docLinkHtml = 'Like what you see? Visit the ' +\n",
              "            '<a target=\"_blank\" href=https://colab.research.google.com/notebooks/data_table.ipynb>data table notebook</a>'\n",
              "            + ' to learn more about interactive tables.';\n",
              "          element.innerHTML = '';\n",
              "          dataTable['output_type'] = 'display_data';\n",
              "          await google.colab.output.renderOutput(dataTable, element);\n",
              "          const docLink = document.createElement('div');\n",
              "          docLink.innerHTML = docLinkHtml;\n",
              "          element.appendChild(docLink);\n",
              "        }\n",
              "      </script>\n",
              "    </div>\n",
              "  </div>\n",
              "  "
            ]
          },
          "metadata": {},
          "execution_count": 20
        }
      ]
    },
    {
      "cell_type": "code",
      "source": [
        "def convert_to_float(x):\n",
        "    new_x = []\n",
        "    for i in x:\n",
        "        y = float(i)\n",
        "        new_x.append(y)\n",
        "    \n",
        "    return new_x"
      ],
      "metadata": {
        "id": "l03ZkLklRJry"
      },
      "execution_count": 35,
      "outputs": []
    },
    {
      "cell_type": "code",
      "source": [
        "type(df['precipitation'][0])"
      ],
      "metadata": {
        "colab": {
          "base_uri": "https://localhost:8080/"
        },
        "id": "ylu9NdGFSIfw",
        "outputId": "2b4c6954-741d-4bbc-8999-c4a6933ddb02"
      },
      "execution_count": 37,
      "outputs": [
        {
          "output_type": "execute_result",
          "data": {
            "text/plain": [
              "str"
            ]
          },
          "metadata": {},
          "execution_count": 37
        }
      ]
    },
    {
      "cell_type": "code",
      "source": [
        "df['precipitation'] = df['precipitation']._convert(numeric=True)\n",
        "type(df['precipitation'][0])"
      ],
      "metadata": {
        "colab": {
          "base_uri": "https://localhost:8080/"
        },
        "id": "N-Sfv81XSMpj",
        "outputId": "b7635aa9-5eca-484b-955d-0fd275beaef2"
      },
      "execution_count": 43,
      "outputs": [
        {
          "output_type": "execute_result",
          "data": {
            "text/plain": [
              "numpy.float64"
            ]
          },
          "metadata": {},
          "execution_count": 43
        }
      ]
    },
    {
      "cell_type": "code",
      "source": [
        "type(df['precipitation'][0])"
      ],
      "metadata": {
        "colab": {
          "base_uri": "https://localhost:8080/"
        },
        "id": "5HISSgmPTuAl",
        "outputId": "c2202f12-1a77-4ee5-c463-ed1873cf06af"
      },
      "execution_count": 45,
      "outputs": [
        {
          "output_type": "execute_result",
          "data": {
            "text/plain": [
              "numpy.float64"
            ]
          },
          "metadata": {},
          "execution_count": 45
        }
      ]
    },
    {
      "cell_type": "markdown",
      "source": [
        "## Correlation Matrix"
      ],
      "metadata": {
        "id": "v3HhJdffIB3p"
      }
    },
    {
      "cell_type": "code",
      "source": [
        "corr = df.corr().round(3)"
      ],
      "metadata": {
        "id": "HMLTrQ8rEAp2"
      },
      "execution_count": null,
      "outputs": []
    },
    {
      "cell_type": "code",
      "source": [
        "corr.style.background_gradient()"
      ],
      "metadata": {
        "colab": {
          "base_uri": "https://localhost:8080/",
          "height": 112
        },
        "id": "WWf2322OEvW0",
        "outputId": "10172a10-efae-42e6-cc20-54a5e1e35ca8"
      },
      "execution_count": null,
      "outputs": [
        {
          "output_type": "execute_result",
          "data": {
            "text/plain": [
              "<pandas.io.formats.style.Styler at 0x7feb7440b550>"
            ],
            "text/html": [
              "<style type=\"text/css\">\n",
              "#T_2e9dc_row0_col0, #T_2e9dc_row1_col1 {\n",
              "  background-color: #023858;\n",
              "  color: #f1f1f1;\n",
              "}\n",
              "#T_2e9dc_row0_col1, #T_2e9dc_row1_col0 {\n",
              "  background-color: #fff7fb;\n",
              "  color: #000000;\n",
              "}\n",
              "</style>\n",
              "<table id=\"T_2e9dc_\" class=\"dataframe\">\n",
              "  <thead>\n",
              "    <tr>\n",
              "      <th class=\"blank level0\" >&nbsp;</th>\n",
              "      <th class=\"col_heading level0 col0\" >longitude</th>\n",
              "      <th class=\"col_heading level0 col1\" >latitude</th>\n",
              "    </tr>\n",
              "  </thead>\n",
              "  <tbody>\n",
              "    <tr>\n",
              "      <th id=\"T_2e9dc_level0_row0\" class=\"row_heading level0 row0\" >longitude</th>\n",
              "      <td id=\"T_2e9dc_row0_col0\" class=\"data row0 col0\" >1.000000</td>\n",
              "      <td id=\"T_2e9dc_row0_col1\" class=\"data row0 col1\" >-0.921000</td>\n",
              "    </tr>\n",
              "    <tr>\n",
              "      <th id=\"T_2e9dc_level0_row1\" class=\"row_heading level0 row1\" >latitude</th>\n",
              "      <td id=\"T_2e9dc_row1_col0\" class=\"data row1 col0\" >-0.921000</td>\n",
              "      <td id=\"T_2e9dc_row1_col1\" class=\"data row1 col1\" >1.000000</td>\n",
              "    </tr>\n",
              "  </tbody>\n",
              "</table>\n"
            ]
          },
          "metadata": {},
          "execution_count": 7
        }
      ]
    },
    {
      "cell_type": "code",
      "source": [
        "f, ax = plt.subplots(figsize =(9, 8))\n",
        "sns.heatmap(corr, ax = ax, cmap =\"YlGnBu\", linewidths = 0.1)\n",
        "plt.title(\"Heatmap of Pearson Coefficient\", fontweight='bold', fontsize=18)\n",
        "plt.show();"
      ],
      "metadata": {
        "colab": {
          "base_uri": "https://localhost:8080/",
          "height": 503
        },
        "id": "X1ltW_6AVtlK",
        "outputId": "9dac2efe-ae1e-4aa5-e510-f716ec89204c"
      },
      "execution_count": null,
      "outputs": [
        {
          "output_type": "display_data",
          "data": {
            "text/plain": [
              "<Figure size 648x576 with 2 Axes>"
            ],
            "image/png": "[encoded data removed]"
          },
          "metadata": {
            "needs_background": "light"
          }
        }
      ]
    },
    {
      "cell_type": "markdown",
      "source": [
        "### Scatter Plotting"
      ],
      "metadata": {
        "id": "fKxhJq8mVSb7"
      }
    },
    {
      "cell_type": "markdown",
      "source": [
        "#### Precipitation and Longitude, Latitude"
      ],
      "metadata": {
        "id": "7MfcU28lbkmj"
      }
    },
    {
      "cell_type": "code",
      "source": [
        "fig, (ax1, ax2) = plt.subplots(2, 1, figsize=(10, 6))\n",
        "fig.suptitle('Scatter Plot of Hourly Precipitation with Longitude and Latitude', fontweight='bold', fontsize=14)\n",
        "\n",
        "precipitation = df['precipitation']._convert(numeric=True)\n",
        "longitude = df['longitude']._convert(numeric=True)\n",
        "latitude = df['latitude']._convert(numeric=True)\n",
        "\n",
        "ax1.scatter(precipitation, longitude)\n",
        "ax1.set_ylabel('Longitude')\n",
        "\n",
        "ax2.scatter(precipitation, latitude)\n",
        "ax2.set_xlabel('Hourly Precipitation')\n",
        "ax2.set_ylabel('Latitude')\n",
        "\n",
        "plt.show()"
      ],
      "metadata": {
        "colab": {
          "base_uri": "https://localhost:8080/",
          "height": 431
        },
        "id": "5ZfqErr-VV-M",
        "outputId": "0be3a4a6-3fcd-414f-9764-2ad2e072114c"
      },
      "execution_count": 50,
      "outputs": [
        {
          "output_type": "display_data",
          "data": {
            "text/plain": [
              "<Figure size 720x432 with 2 Axes>"
            ],
            "image/png": "[encoded data removed]"
          },
          "metadata": {
            "needs_background": "light"
          }
        }
      ]
    },
    {
      "cell_type": "markdown",
      "source": [
        "#### Precipitation and Temperatures"
      ],
      "metadata": {
        "id": "aVMRANsfcVfu"
      }
    },
    {
      "cell_type": "code",
      "source": [
        "fig, (ax1, ax2) = plt.subplots(2, 1, figsize=(10, 6))\n",
        "fig.suptitle('Scatter Plot of Hourly Precipitation with Temperature and \"Feels Like\" Temperature', fontweight='bold', fontsize=14)\n",
        "\n",
        "precipitation = df['precipitation']._convert(numeric=True)\n",
        "temp_c = df['temp_c']._convert(numeric=True)\n",
        "feelslike_c = df['feelslike_c']._convert(numeric=True)\n",
        "\n",
        "ax1.scatter(precipitation, temp_c)\n",
        "ax1.set_ylabel('Temperature')\n",
        "\n",
        "ax2.scatter(precipitation, feelslike_c)\n",
        "ax2.set_xlabel('Hourly Precipitation')\n",
        "ax2.set_ylabel('Feels Like Temperature')\n",
        "\n",
        "plt.show()"
      ],
      "metadata": {
        "colab": {
          "base_uri": "https://localhost:8080/",
          "height": 431
        },
        "id": "FthpdiNxdhvN",
        "outputId": "fc044aef-3517-47d0-c426-4ae43e29a2b6"
      },
      "execution_count": 48,
      "outputs": [
        {
          "output_type": "display_data",
          "data": {
            "text/plain": [
              "<Figure size 720x432 with 2 Axes>"
            ],
            "image/png": "[encoded data removed]"
          },
          "metadata": {
            "needs_background": "light"
          }
        }
      ]
    },
    {
      "cell_type": "markdown",
      "source": [
        "#### Precipitation and Air Pressure, Relative Humidity"
      ],
      "metadata": {
        "id": "Of3b_pj7cZH_"
      }
    },
    {
      "cell_type": "code",
      "source": [
        "fig, (ax1, ax2) = plt.subplots(2, 1, figsize=(10, 6))\n",
        "fig.suptitle('Scatter Plot of Hourly Precipitation with Air Pressure and Relative Humidity', fontweight='bold', fontsize=14)\n",
        "\n",
        "precipitation = df['precipitation']._convert(numeric=True)\n",
        "air_pressure = df['air_pressure']._convert(numeric=True)\n",
        "relative_humidity = df['relative_humidity']._convert(numeric=True)\n",
        "\n",
        "ax1.scatter(precipitation, air_pressure)\n",
        "ax1.set_ylabel('Air Pressure')\n",
        "\n",
        "ax2.scatter(precipitation, relative_humidity)\n",
        "ax2.set_xlabel('Hourly Precipitation')\n",
        "ax2.set_ylabel('Relative Humidity')\n",
        "\n",
        "plt.show()"
      ],
      "metadata": {
        "colab": {
          "base_uri": "https://localhost:8080/",
          "height": 431
        },
        "id": "1WWFJEl_d6Y0",
        "outputId": "8d8b3c80-8639-4601-e213-7214599179eb"
      },
      "execution_count": 51,
      "outputs": [
        {
          "output_type": "display_data",
          "data": {
            "text/plain": [
              "<Figure size 720x432 with 2 Axes>"
            ],
            "image/png": "[encoded data removed]"
          },
          "metadata": {
            "needs_background": "light"
          }
        }
      ]
    },
    {
      "cell_type": "markdown",
      "source": [
        "#### Precipitation and Wind Speed, Wind Direction"
      ],
      "metadata": {
        "id": "dIruQu7Pck6U"
      }
    },
    {
      "cell_type": "code",
      "source": [
        "fig, (ax1, ax2) = plt.subplots(2, 1, figsize=(10, 6))\n",
        "fig.suptitle('Scatter Plot of Hourly Precipitation with Wind Speed and Wind Direction', fontweight='bold', fontsize=14)\n",
        "\n",
        "precipitation = df['precipitation']._convert(numeric=True)\n",
        "wind_kph = df['wind_kph']._convert(numeric=True)\n",
        "# wind_dir = df['feelslike_c']._convert(numeric=True)\n",
        "\n",
        "ax1.scatter(precipitation, wind_kph)\n",
        "ax1.set_ylabel('Wind Speed (in kph)')\n",
        "\n",
        "ax2.scatter(precipitation, df['wind_dir'])\n",
        "ax2.set_xlabel('Hourly Precipitation')\n",
        "ax2.set_ylabel('Wind Direction')\n",
        "\n",
        "plt.show()"
      ],
      "metadata": {
        "colab": {
          "base_uri": "https://localhost:8080/",
          "height": 431
        },
        "id": "TaEm9zBSeeXF",
        "outputId": "1354e122-5db8-4844-d7d9-ec0ef0e232be"
      },
      "execution_count": 52,
      "outputs": [
        {
          "output_type": "display_data",
          "data": {
            "text/plain": [
              "<Figure size 720x432 with 2 Axes>"
            ],
            "image/png": "[encoded data removed]"
          },
          "metadata": {
            "needs_background": "light"
          }
        }
      ]
    },
    {
      "cell_type": "code",
      "source": [
        ""
      ],
      "metadata": {
        "id": "COI9QP7ydJKJ"
      },
      "execution_count": null,
      "outputs": []
    }
  ]
}