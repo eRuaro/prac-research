{
  "cells": [
    {
      "cell_type": "markdown",
      "metadata": {
        "id": "view-in-github",
        "colab_type": "text"
      },
      "source": [
        "<a href=\"https://colab.research.google.com/github/eRuaro/prac-research/blob/main/iloilo.ipynb\" target=\"_parent\"><img src=\"https://colab.research.google.com/assets/colab-badge.svg\" alt=\"Open In Colab\"/></a>"
      ]
    },
    {
      "cell_type": "code",
      "execution_count": 1,
      "metadata": {
        "id": "RYOLABWb1Q1j"
      },
      "outputs": [],
      "source": [
        "path = '/content/drive/MyDrive/prac-research/actual/data/research-data-iloilo.csv'\n",
        "\n",
        "import numpy as np\n",
        "import pandas as pd\n",
        "%matplotlib inline \n",
        "import matplotlib.pyplot as plt \n",
        "import sklearn"
      ]
    },
    {
      "cell_type": "code",
      "execution_count": 2,
      "metadata": {
        "colab": {
          "base_uri": "https://localhost:8080/",
          "height": 357
        },
        "id": "hcv8HmpN3qX9",
        "outputId": "d736ba69-b010-44e1-d193-c2cf64fbc29a"
      },
      "outputs": [
        {
          "output_type": "execute_result",
          "data": {
            "text/html": [
              "\n",
              "  <div id=\"df-cdae28c1-6743-44b5-93f6-d3c188f77801\">\n",
              "    <div class=\"colab-df-container\">\n",
              "      <div>\n",
              "<style scoped>\n",
              "    .dataframe tbody tr th:only-of-type {\n",
              "        vertical-align: middle;\n",
              "    }\n",
              "\n",
              "    .dataframe tbody tr th {\n",
              "        vertical-align: top;\n",
              "    }\n",
              "\n",
              "    .dataframe thead th {\n",
              "        text-align: right;\n",
              "    }\n",
              "</style>\n",
              "<table border=\"1\" class=\"dataframe\">\n",
              "  <thead>\n",
              "    <tr style=\"text-align: right;\">\n",
              "      <th></th>\n",
              "      <th>name</th>\n",
              "      <th>region</th>\n",
              "      <th>country</th>\n",
              "      <th>longitude</th>\n",
              "      <th>latitude</th>\n",
              "      <th>time</th>\n",
              "      <th>temp_c</th>\n",
              "      <th>is_day</th>\n",
              "      <th>condition</th>\n",
              "      <th>wind_kph</th>\n",
              "      <th>wind_degree</th>\n",
              "      <th>wind_dir</th>\n",
              "      <th>air_pressure</th>\n",
              "      <th>precipitation</th>\n",
              "      <th>relative_humidity</th>\n",
              "      <th>cloud</th>\n",
              "      <th>feelslike_c</th>\n",
              "      <th>will_it_rain</th>\n",
              "      <th>chance_of_rain</th>\n",
              "    </tr>\n",
              "  </thead>\n",
              "  <tbody>\n",
              "    <tr>\n",
              "      <th>523</th>\n",
              "      <td>Iloilo</td>\n",
              "      <td>Iloilo City</td>\n",
              "      <td>Philippines</td>\n",
              "      <td>122.56</td>\n",
              "      <td>10.7</td>\n",
              "      <td>2021-12-31 19:00:00</td>\n",
              "      <td>24.9</td>\n",
              "      <td>0</td>\n",
              "      <td>Cloudy</td>\n",
              "      <td>33.8</td>\n",
              "      <td>32</td>\n",
              "      <td>NNE</td>\n",
              "      <td>1011.92</td>\n",
              "      <td>0.36</td>\n",
              "      <td>89.2</td>\n",
              "      <td>88</td>\n",
              "      <td>27.3</td>\n",
              "      <td>0</td>\n",
              "      <td>2</td>\n",
              "    </tr>\n",
              "    <tr>\n",
              "      <th>524</th>\n",
              "      <td>Iloilo</td>\n",
              "      <td>Iloilo City</td>\n",
              "      <td>Philippines</td>\n",
              "      <td>122.56</td>\n",
              "      <td>10.7</td>\n",
              "      <td>2021-12-31 20:00:00</td>\n",
              "      <td>24.7</td>\n",
              "      <td>0</td>\n",
              "      <td>Light drizzle</td>\n",
              "      <td>33.8</td>\n",
              "      <td>33</td>\n",
              "      <td>NNE</td>\n",
              "      <td>1011.91</td>\n",
              "      <td>0.52</td>\n",
              "      <td>88.2</td>\n",
              "      <td>94</td>\n",
              "      <td>27.0</td>\n",
              "      <td>0</td>\n",
              "      <td>51</td>\n",
              "    </tr>\n",
              "    <tr>\n",
              "      <th>525</th>\n",
              "      <td>Iloilo</td>\n",
              "      <td>Iloilo City</td>\n",
              "      <td>Philippines</td>\n",
              "      <td>122.56</td>\n",
              "      <td>10.7</td>\n",
              "      <td>2021-12-31 21:00:00</td>\n",
              "      <td>24.5</td>\n",
              "      <td>0</td>\n",
              "      <td>Light drizzle</td>\n",
              "      <td>33.8</td>\n",
              "      <td>35</td>\n",
              "      <td>NE</td>\n",
              "      <td>1011.90</td>\n",
              "      <td>0.68</td>\n",
              "      <td>87.2</td>\n",
              "      <td>100</td>\n",
              "      <td>26.8</td>\n",
              "      <td>0</td>\n",
              "      <td>0</td>\n",
              "    </tr>\n",
              "    <tr>\n",
              "      <th>526</th>\n",
              "      <td>Iloilo</td>\n",
              "      <td>Iloilo City</td>\n",
              "      <td>Philippines</td>\n",
              "      <td>122.56</td>\n",
              "      <td>10.7</td>\n",
              "      <td>2021-12-31 22:00:00</td>\n",
              "      <td>24.4</td>\n",
              "      <td>0</td>\n",
              "      <td>Light drizzle</td>\n",
              "      <td>32.8</td>\n",
              "      <td>33</td>\n",
              "      <td>NNE</td>\n",
              "      <td>1012.59</td>\n",
              "      <td>0.50</td>\n",
              "      <td>87.6</td>\n",
              "      <td>100</td>\n",
              "      <td>26.7</td>\n",
              "      <td>0</td>\n",
              "      <td>51</td>\n",
              "    </tr>\n",
              "    <tr>\n",
              "      <th>527</th>\n",
              "      <td>Iloilo</td>\n",
              "      <td>Iloilo City</td>\n",
              "      <td>Philippines</td>\n",
              "      <td>122.56</td>\n",
              "      <td>10.7</td>\n",
              "      <td>2021-12-31 23:00:00</td>\n",
              "      <td>24.3</td>\n",
              "      <td>0</td>\n",
              "      <td>Overcast</td>\n",
              "      <td>31.7</td>\n",
              "      <td>32</td>\n",
              "      <td>NNE</td>\n",
              "      <td>1013.29</td>\n",
              "      <td>0.31</td>\n",
              "      <td>88.0</td>\n",
              "      <td>100</td>\n",
              "      <td>26.5</td>\n",
              "      <td>0</td>\n",
              "      <td>3</td>\n",
              "    </tr>\n",
              "  </tbody>\n",
              "</table>\n",
              "</div>\n",
              "      <button class=\"colab-df-convert\" onclick=\"convertToInteractive('df-cdae28c1-6743-44b5-93f6-d3c188f77801')\"\n",
              "              title=\"Convert this dataframe to an interactive table.\"\n",
              "              style=\"display:none;\">\n",
              "        \n",
              "  <svg xmlns=\"http://www.w3.org/2000/svg\" height=\"24px\"viewBox=\"0 0 24 24\"\n",
              "       width=\"24px\">\n",
              "    <path d=\"M0 0h24v24H0V0z\" fill=\"none\"/>\n",
              "    <path d=\"M18.56 5.44l.94 2.06.94-2.06 2.06-.94-2.06-.94-.94-2.06-.94 2.06-2.06.94zm-11 1L8.5 8.5l.94-2.06 2.06-.94-2.06-.94L8.5 2.5l-.94 2.06-2.06.94zm10 10l.94 2.06.94-2.06 2.06-.94-2.06-.94-.94-2.06-.94 2.06-2.06.94z\"/><path d=\"M17.41 7.96l-1.37-1.37c-.4-.4-.92-.59-1.43-.59-.52 0-1.04.2-1.43.59L10.3 9.45l-7.72 7.72c-.78.78-.78 2.05 0 2.83L4 21.41c.39.39.9.59 1.41.59.51 0 1.02-.2 1.41-.59l7.78-7.78 2.81-2.81c.8-.78.8-2.07 0-2.86zM5.41 20L4 18.59l7.72-7.72 1.47 1.35L5.41 20z\"/>\n",
              "  </svg>\n",
              "      </button>\n",
              "      \n",
              "  <style>\n",
              "    .colab-df-container {\n",
              "      display:flex;\n",
              "      flex-wrap:wrap;\n",
              "      gap: 12px;\n",
              "    }\n",
              "\n",
              "    .colab-df-convert {\n",
              "      background-color: #E8F0FE;\n",
              "      border: none;\n",
              "      border-radius: 50%;\n",
              "      cursor: pointer;\n",
              "      display: none;\n",
              "      fill: #1967D2;\n",
              "      height: 32px;\n",
              "      padding: 0 0 0 0;\n",
              "      width: 32px;\n",
              "    }\n",
              "\n",
              "    .colab-df-convert:hover {\n",
              "      background-color: #E2EBFA;\n",
              "      box-shadow: 0px 1px 2px rgba(60, 64, 67, 0.3), 0px 1px 3px 1px rgba(60, 64, 67, 0.15);\n",
              "      fill: #174EA6;\n",
              "    }\n",
              "\n",
              "    [theme=dark] .colab-df-convert {\n",
              "      background-color: #3B4455;\n",
              "      fill: #D2E3FC;\n",
              "    }\n",
              "\n",
              "    [theme=dark] .colab-df-convert:hover {\n",
              "      background-color: #434B5C;\n",
              "      box-shadow: 0px 1px 3px 1px rgba(0, 0, 0, 0.15);\n",
              "      filter: drop-shadow(0px 1px 2px rgba(0, 0, 0, 0.3));\n",
              "      fill: #FFFFFF;\n",
              "    }\n",
              "  </style>\n",
              "\n",
              "      <script>\n",
              "        const buttonEl =\n",
              "          document.querySelector('#df-cdae28c1-6743-44b5-93f6-d3c188f77801 button.colab-df-convert');\n",
              "        buttonEl.style.display =\n",
              "          google.colab.kernel.accessAllowed ? 'block' : 'none';\n",
              "\n",
              "        async function convertToInteractive(key) {\n",
              "          const element = document.querySelector('#df-cdae28c1-6743-44b5-93f6-d3c188f77801');\n",
              "          const dataTable =\n",
              "            await google.colab.kernel.invokeFunction('convertToInteractive',\n",
              "                                                     [key], {});\n",
              "          if (!dataTable) return;\n",
              "\n",
              "          const docLinkHtml = 'Like what you see? Visit the ' +\n",
              "            '<a target=\"_blank\" href=https://colab.research.google.com/notebooks/data_table.ipynb>data table notebook</a>'\n",
              "            + ' to learn more about interactive tables.';\n",
              "          element.innerHTML = '';\n",
              "          dataTable['output_type'] = 'display_data';\n",
              "          await google.colab.output.renderOutput(dataTable, element);\n",
              "          const docLink = document.createElement('div');\n",
              "          docLink.innerHTML = docLinkHtml;\n",
              "          element.appendChild(docLink);\n",
              "        }\n",
              "      </script>\n",
              "    </div>\n",
              "  </div>\n",
              "  "
            ],
            "text/plain": [
              "       name       region  ... will_it_rain  chance_of_rain\n",
              "523  Iloilo  Iloilo City  ...            0               2\n",
              "524  Iloilo  Iloilo City  ...            0              51\n",
              "525  Iloilo  Iloilo City  ...            0               0\n",
              "526  Iloilo  Iloilo City  ...            0              51\n",
              "527  Iloilo  Iloilo City  ...            0               3\n",
              "\n",
              "[5 rows x 19 columns]"
            ]
          },
          "metadata": {},
          "execution_count": 2
        }
      ],
      "source": [
        "df = pd.read_csv(\n",
        "    path, \n",
        "    low_memory=False,\n",
        "    parse_dates=['time']\n",
        ")\n",
        "\n",
        "df.tail()"
      ]
    },
    {
      "cell_type": "code",
      "execution_count": 3,
      "metadata": {
        "colab": {
          "base_uri": "https://localhost:8080/"
        },
        "id": "icDVCO4n3v1S",
        "outputId": "80db58d8-35ad-4434-9b07-9958222d1212"
      },
      "outputs": [
        {
          "output_type": "stream",
          "name": "stdout",
          "text": [
            "<class 'pandas.core.frame.DataFrame'>\n",
            "RangeIndex: 528 entries, 0 to 527\n",
            "Data columns (total 19 columns):\n",
            " #   Column             Non-Null Count  Dtype         \n",
            "---  ------             --------------  -----         \n",
            " 0   name               528 non-null    object        \n",
            " 1   region             528 non-null    object        \n",
            " 2   country            528 non-null    object        \n",
            " 3   longitude          528 non-null    float64       \n",
            " 4   latitude           528 non-null    float64       \n",
            " 5   time               528 non-null    datetime64[ns]\n",
            " 6   temp_c             528 non-null    float64       \n",
            " 7   is_day             528 non-null    int64         \n",
            " 8   condition          528 non-null    object        \n",
            " 9   wind_kph           528 non-null    float64       \n",
            " 10  wind_degree        528 non-null    int64         \n",
            " 11  wind_dir           528 non-null    object        \n",
            " 12  air_pressure       528 non-null    float64       \n",
            " 13  precipitation      528 non-null    float64       \n",
            " 14  relative_humidity  528 non-null    float64       \n",
            " 15  cloud              528 non-null    int64         \n",
            " 16  feelslike_c        528 non-null    float64       \n",
            " 17  will_it_rain       528 non-null    int64         \n",
            " 18  chance_of_rain     528 non-null    int64         \n",
            "dtypes: datetime64[ns](1), float64(8), int64(5), object(5)\n",
            "memory usage: 78.5+ KB\n"
          ]
        }
      ],
      "source": [
        "df.info()"
      ]
    },
    {
      "cell_type": "code",
      "execution_count": 4,
      "metadata": {
        "colab": {
          "base_uri": "https://localhost:8080/"
        },
        "id": "062LMb2B31en",
        "outputId": "876effc1-ece4-401d-8712-f0581dbc25c9"
      },
      "outputs": [
        {
          "output_type": "execute_result",
          "data": {
            "text/plain": [
              "0   2021-12-10 00:00:00\n",
              "1   2021-12-10 01:00:00\n",
              "2   2021-12-10 02:00:00\n",
              "3   2021-12-10 03:00:00\n",
              "4   2021-12-10 04:00:00\n",
              "Name: time, dtype: datetime64[ns]"
            ]
          },
          "metadata": {},
          "execution_count": 4
        }
      ],
      "source": [
        "df.time.head()"
      ]
    },
    {
      "cell_type": "code",
      "execution_count": 5,
      "metadata": {
        "colab": {
          "base_uri": "https://localhost:8080/"
        },
        "id": "7n28bMA94p3H",
        "outputId": "dd13cd12-57d4-458c-ecdc-5fb697955f3b"
      },
      "outputs": [
        {
          "output_type": "execute_result",
          "data": {
            "text/plain": [
              "0   2021-12-10 00:00:00\n",
              "1   2021-12-10 01:00:00\n",
              "2   2021-12-10 02:00:00\n",
              "3   2021-12-10 03:00:00\n",
              "4   2021-12-10 04:00:00\n",
              "Name: time, dtype: datetime64[ns]"
            ]
          },
          "metadata": {},
          "execution_count": 5
        }
      ],
      "source": [
        "df.sort_values(by=['time'], ascending=True)\n",
        "\n",
        "df.time.head()"
      ]
    },
    {
      "cell_type": "markdown",
      "metadata": {
        "id": "mu1y8jlT43Hp"
      },
      "source": [
        "## Feature Engineering"
      ]
    },
    {
      "cell_type": "code",
      "execution_count": 6,
      "metadata": {
        "colab": {
          "base_uri": "https://localhost:8080/",
          "height": 864
        },
        "id": "7k4xMbeJ5UMk",
        "outputId": "ebb35579-332e-422c-ebc9-284b7511c333"
      },
      "outputs": [
        {
          "output_type": "execute_result",
          "data": {
            "text/html": [
              "\n",
              "  <div id=\"df-92445a69-905a-4b55-acc1-befec2770c33\">\n",
              "    <div class=\"colab-df-container\">\n",
              "      <div>\n",
              "<style scoped>\n",
              "    .dataframe tbody tr th:only-of-type {\n",
              "        vertical-align: middle;\n",
              "    }\n",
              "\n",
              "    .dataframe tbody tr th {\n",
              "        vertical-align: top;\n",
              "    }\n",
              "\n",
              "    .dataframe thead th {\n",
              "        text-align: right;\n",
              "    }\n",
              "</style>\n",
              "<table border=\"1\" class=\"dataframe\">\n",
              "  <thead>\n",
              "    <tr style=\"text-align: right;\">\n",
              "      <th></th>\n",
              "      <th>0</th>\n",
              "      <th>1</th>\n",
              "      <th>2</th>\n",
              "      <th>3</th>\n",
              "      <th>4</th>\n",
              "    </tr>\n",
              "  </thead>\n",
              "  <tbody>\n",
              "    <tr>\n",
              "      <th>name</th>\n",
              "      <td>Iloilo</td>\n",
              "      <td>Iloilo</td>\n",
              "      <td>Iloilo</td>\n",
              "      <td>Iloilo</td>\n",
              "      <td>Iloilo</td>\n",
              "    </tr>\n",
              "    <tr>\n",
              "      <th>region</th>\n",
              "      <td>Iloilo City</td>\n",
              "      <td>Iloilo City</td>\n",
              "      <td>Iloilo City</td>\n",
              "      <td>Iloilo City</td>\n",
              "      <td>Iloilo City</td>\n",
              "    </tr>\n",
              "    <tr>\n",
              "      <th>country</th>\n",
              "      <td>Philippines</td>\n",
              "      <td>Philippines</td>\n",
              "      <td>Philippines</td>\n",
              "      <td>Philippines</td>\n",
              "      <td>Philippines</td>\n",
              "    </tr>\n",
              "    <tr>\n",
              "      <th>longitude</th>\n",
              "      <td>122.56</td>\n",
              "      <td>122.56</td>\n",
              "      <td>122.56</td>\n",
              "      <td>122.56</td>\n",
              "      <td>122.56</td>\n",
              "    </tr>\n",
              "    <tr>\n",
              "      <th>latitude</th>\n",
              "      <td>10.7</td>\n",
              "      <td>10.7</td>\n",
              "      <td>10.7</td>\n",
              "      <td>10.7</td>\n",
              "      <td>10.7</td>\n",
              "    </tr>\n",
              "    <tr>\n",
              "      <th>time</th>\n",
              "      <td>2021-12-10 00:00:00</td>\n",
              "      <td>2021-12-10 01:00:00</td>\n",
              "      <td>2021-12-10 02:00:00</td>\n",
              "      <td>2021-12-10 03:00:00</td>\n",
              "      <td>2021-12-10 04:00:00</td>\n",
              "    </tr>\n",
              "    <tr>\n",
              "      <th>temp_c</th>\n",
              "      <td>24.7</td>\n",
              "      <td>24.7</td>\n",
              "      <td>24.6</td>\n",
              "      <td>24.6</td>\n",
              "      <td>24.6</td>\n",
              "    </tr>\n",
              "    <tr>\n",
              "      <th>is_day</th>\n",
              "      <td>0</td>\n",
              "      <td>0</td>\n",
              "      <td>0</td>\n",
              "      <td>0</td>\n",
              "      <td>0</td>\n",
              "    </tr>\n",
              "    <tr>\n",
              "      <th>condition</th>\n",
              "      <td>Cloudy</td>\n",
              "      <td>Cloudy</td>\n",
              "      <td>Cloudy</td>\n",
              "      <td>Cloudy</td>\n",
              "      <td>Cloudy</td>\n",
              "    </tr>\n",
              "    <tr>\n",
              "      <th>wind_kph</th>\n",
              "      <td>24.8</td>\n",
              "      <td>24.7</td>\n",
              "      <td>24.6</td>\n",
              "      <td>24.5</td>\n",
              "      <td>24.8</td>\n",
              "    </tr>\n",
              "    <tr>\n",
              "      <th>wind_degree</th>\n",
              "      <td>22</td>\n",
              "      <td>22</td>\n",
              "      <td>22</td>\n",
              "      <td>23</td>\n",
              "      <td>22</td>\n",
              "    </tr>\n",
              "    <tr>\n",
              "      <th>wind_dir</th>\n",
              "      <td>NNE</td>\n",
              "      <td>NNE</td>\n",
              "      <td>NNE</td>\n",
              "      <td>NNE</td>\n",
              "      <td>NNE</td>\n",
              "    </tr>\n",
              "    <tr>\n",
              "      <th>air_pressure</th>\n",
              "      <td>1010.96</td>\n",
              "      <td>1010.72</td>\n",
              "      <td>1010.47</td>\n",
              "      <td>1010.22</td>\n",
              "      <td>1009.57</td>\n",
              "    </tr>\n",
              "    <tr>\n",
              "      <th>precipitation</th>\n",
              "      <td>0.02</td>\n",
              "      <td>0.02</td>\n",
              "      <td>0.02</td>\n",
              "      <td>0.02</td>\n",
              "      <td>0.03</td>\n",
              "    </tr>\n",
              "    <tr>\n",
              "      <th>relative_humidity</th>\n",
              "      <td>79.7</td>\n",
              "      <td>76.93</td>\n",
              "      <td>74.17</td>\n",
              "      <td>71.4</td>\n",
              "      <td>72.53</td>\n",
              "    </tr>\n",
              "    <tr>\n",
              "      <th>cloud</th>\n",
              "      <td>63</td>\n",
              "      <td>64</td>\n",
              "      <td>64</td>\n",
              "      <td>65</td>\n",
              "      <td>63</td>\n",
              "    </tr>\n",
              "    <tr>\n",
              "      <th>feelslike_c</th>\n",
              "      <td>27.2</td>\n",
              "      <td>27.2</td>\n",
              "      <td>27.1</td>\n",
              "      <td>27.1</td>\n",
              "      <td>27.1</td>\n",
              "    </tr>\n",
              "    <tr>\n",
              "      <th>will_it_rain</th>\n",
              "      <td>0</td>\n",
              "      <td>0</td>\n",
              "      <td>0</td>\n",
              "      <td>0</td>\n",
              "      <td>0</td>\n",
              "    </tr>\n",
              "    <tr>\n",
              "      <th>chance_of_rain</th>\n",
              "      <td>0</td>\n",
              "      <td>2</td>\n",
              "      <td>2</td>\n",
              "      <td>0</td>\n",
              "      <td>2</td>\n",
              "    </tr>\n",
              "    <tr>\n",
              "      <th>year</th>\n",
              "      <td>2021</td>\n",
              "      <td>2021</td>\n",
              "      <td>2021</td>\n",
              "      <td>2021</td>\n",
              "      <td>2021</td>\n",
              "    </tr>\n",
              "    <tr>\n",
              "      <th>month</th>\n",
              "      <td>12</td>\n",
              "      <td>12</td>\n",
              "      <td>12</td>\n",
              "      <td>12</td>\n",
              "      <td>12</td>\n",
              "    </tr>\n",
              "    <tr>\n",
              "      <th>day</th>\n",
              "      <td>10</td>\n",
              "      <td>10</td>\n",
              "      <td>10</td>\n",
              "      <td>10</td>\n",
              "      <td>10</td>\n",
              "    </tr>\n",
              "    <tr>\n",
              "      <th>hour</th>\n",
              "      <td>0</td>\n",
              "      <td>1</td>\n",
              "      <td>2</td>\n",
              "      <td>3</td>\n",
              "      <td>4</td>\n",
              "    </tr>\n",
              "    <tr>\n",
              "      <th>dayOfWeek</th>\n",
              "      <td>4</td>\n",
              "      <td>4</td>\n",
              "      <td>4</td>\n",
              "      <td>4</td>\n",
              "      <td>4</td>\n",
              "    </tr>\n",
              "  </tbody>\n",
              "</table>\n",
              "</div>\n",
              "      <button class=\"colab-df-convert\" onclick=\"convertToInteractive('df-92445a69-905a-4b55-acc1-befec2770c33')\"\n",
              "              title=\"Convert this dataframe to an interactive table.\"\n",
              "              style=\"display:none;\">\n",
              "        \n",
              "  <svg xmlns=\"http://www.w3.org/2000/svg\" height=\"24px\"viewBox=\"0 0 24 24\"\n",
              "       width=\"24px\">\n",
              "    <path d=\"M0 0h24v24H0V0z\" fill=\"none\"/>\n",
              "    <path d=\"M18.56 5.44l.94 2.06.94-2.06 2.06-.94-2.06-.94-.94-2.06-.94 2.06-2.06.94zm-11 1L8.5 8.5l.94-2.06 2.06-.94-2.06-.94L8.5 2.5l-.94 2.06-2.06.94zm10 10l.94 2.06.94-2.06 2.06-.94-2.06-.94-.94-2.06-.94 2.06-2.06.94z\"/><path d=\"M17.41 7.96l-1.37-1.37c-.4-.4-.92-.59-1.43-.59-.52 0-1.04.2-1.43.59L10.3 9.45l-7.72 7.72c-.78.78-.78 2.05 0 2.83L4 21.41c.39.39.9.59 1.41.59.51 0 1.02-.2 1.41-.59l7.78-7.78 2.81-2.81c.8-.78.8-2.07 0-2.86zM5.41 20L4 18.59l7.72-7.72 1.47 1.35L5.41 20z\"/>\n",
              "  </svg>\n",
              "      </button>\n",
              "      \n",
              "  <style>\n",
              "    .colab-df-container {\n",
              "      display:flex;\n",
              "      flex-wrap:wrap;\n",
              "      gap: 12px;\n",
              "    }\n",
              "\n",
              "    .colab-df-convert {\n",
              "      background-color: #E8F0FE;\n",
              "      border: none;\n",
              "      border-radius: 50%;\n",
              "      cursor: pointer;\n",
              "      display: none;\n",
              "      fill: #1967D2;\n",
              "      height: 32px;\n",
              "      padding: 0 0 0 0;\n",
              "      width: 32px;\n",
              "    }\n",
              "\n",
              "    .colab-df-convert:hover {\n",
              "      background-color: #E2EBFA;\n",
              "      box-shadow: 0px 1px 2px rgba(60, 64, 67, 0.3), 0px 1px 3px 1px rgba(60, 64, 67, 0.15);\n",
              "      fill: #174EA6;\n",
              "    }\n",
              "\n",
              "    [theme=dark] .colab-df-convert {\n",
              "      background-color: #3B4455;\n",
              "      fill: #D2E3FC;\n",
              "    }\n",
              "\n",
              "    [theme=dark] .colab-df-convert:hover {\n",
              "      background-color: #434B5C;\n",
              "      box-shadow: 0px 1px 3px 1px rgba(0, 0, 0, 0.15);\n",
              "      filter: drop-shadow(0px 1px 2px rgba(0, 0, 0, 0.3));\n",
              "      fill: #FFFFFF;\n",
              "    }\n",
              "  </style>\n",
              "\n",
              "      <script>\n",
              "        const buttonEl =\n",
              "          document.querySelector('#df-92445a69-905a-4b55-acc1-befec2770c33 button.colab-df-convert');\n",
              "        buttonEl.style.display =\n",
              "          google.colab.kernel.accessAllowed ? 'block' : 'none';\n",
              "\n",
              "        async function convertToInteractive(key) {\n",
              "          const element = document.querySelector('#df-92445a69-905a-4b55-acc1-befec2770c33');\n",
              "          const dataTable =\n",
              "            await google.colab.kernel.invokeFunction('convertToInteractive',\n",
              "                                                     [key], {});\n",
              "          if (!dataTable) return;\n",
              "\n",
              "          const docLinkHtml = 'Like what you see? Visit the ' +\n",
              "            '<a target=\"_blank\" href=https://colab.research.google.com/notebooks/data_table.ipynb>data table notebook</a>'\n",
              "            + ' to learn more about interactive tables.';\n",
              "          element.innerHTML = '';\n",
              "          dataTable['output_type'] = 'display_data';\n",
              "          await google.colab.output.renderOutput(dataTable, element);\n",
              "          const docLink = document.createElement('div');\n",
              "          docLink.innerHTML = docLinkHtml;\n",
              "          element.appendChild(docLink);\n",
              "        }\n",
              "      </script>\n",
              "    </div>\n",
              "  </div>\n",
              "  "
            ],
            "text/plain": [
              "                                     0  ...                    4\n",
              "name                            Iloilo  ...               Iloilo\n",
              "region                     Iloilo City  ...          Iloilo City\n",
              "country                    Philippines  ...          Philippines\n",
              "longitude                       122.56  ...               122.56\n",
              "latitude                          10.7  ...                 10.7\n",
              "time               2021-12-10 00:00:00  ...  2021-12-10 04:00:00\n",
              "temp_c                            24.7  ...                 24.6\n",
              "is_day                               0  ...                    0\n",
              "condition                       Cloudy  ...               Cloudy\n",
              "wind_kph                          24.8  ...                 24.8\n",
              "wind_degree                         22  ...                   22\n",
              "wind_dir                           NNE  ...                  NNE\n",
              "air_pressure                   1010.96  ...              1009.57\n",
              "precipitation                     0.02  ...                 0.03\n",
              "relative_humidity                 79.7  ...                72.53\n",
              "cloud                               63  ...                   63\n",
              "feelslike_c                       27.2  ...                 27.1\n",
              "will_it_rain                         0  ...                    0\n",
              "chance_of_rain                       0  ...                    2\n",
              "year                              2021  ...                 2021\n",
              "month                               12  ...                   12\n",
              "day                                 10  ...                   10\n",
              "hour                                 0  ...                    4\n",
              "dayOfWeek                            4  ...                    4\n",
              "\n",
              "[24 rows x 5 columns]"
            ]
          },
          "metadata": {},
          "execution_count": 6
        }
      ],
      "source": [
        "df['year'] = df.time.dt.year\n",
        "df['month'] = df.time.dt.month\n",
        "df['day'] = df.time.dt.day\n",
        "df['hour'] = df.time.dt.hour\n",
        "df['dayOfWeek'] = df.time.dt.dayofweek\n",
        "\n",
        "df.head().T"
      ]
    },
    {
      "cell_type": "code",
      "execution_count": 7,
      "metadata": {
        "colab": {
          "base_uri": "https://localhost:8080/",
          "height": 864
        },
        "id": "EtZgSuVh5uR0",
        "outputId": "d2122aad-8aa6-4ef7-d9fa-b78dce1ab131"
      },
      "outputs": [
        {
          "output_type": "execute_result",
          "data": {
            "text/html": [
              "\n",
              "  <div id=\"df-033151c7-8e1f-4b84-85e1-044207d8b7db\">\n",
              "    <div class=\"colab-df-container\">\n",
              "      <div>\n",
              "<style scoped>\n",
              "    .dataframe tbody tr th:only-of-type {\n",
              "        vertical-align: middle;\n",
              "    }\n",
              "\n",
              "    .dataframe tbody tr th {\n",
              "        vertical-align: top;\n",
              "    }\n",
              "\n",
              "    .dataframe thead th {\n",
              "        text-align: right;\n",
              "    }\n",
              "</style>\n",
              "<table border=\"1\" class=\"dataframe\">\n",
              "  <thead>\n",
              "    <tr style=\"text-align: right;\">\n",
              "      <th></th>\n",
              "      <th>523</th>\n",
              "      <th>524</th>\n",
              "      <th>525</th>\n",
              "      <th>526</th>\n",
              "      <th>527</th>\n",
              "    </tr>\n",
              "  </thead>\n",
              "  <tbody>\n",
              "    <tr>\n",
              "      <th>name</th>\n",
              "      <td>Iloilo</td>\n",
              "      <td>Iloilo</td>\n",
              "      <td>Iloilo</td>\n",
              "      <td>Iloilo</td>\n",
              "      <td>Iloilo</td>\n",
              "    </tr>\n",
              "    <tr>\n",
              "      <th>region</th>\n",
              "      <td>Iloilo City</td>\n",
              "      <td>Iloilo City</td>\n",
              "      <td>Iloilo City</td>\n",
              "      <td>Iloilo City</td>\n",
              "      <td>Iloilo City</td>\n",
              "    </tr>\n",
              "    <tr>\n",
              "      <th>country</th>\n",
              "      <td>Philippines</td>\n",
              "      <td>Philippines</td>\n",
              "      <td>Philippines</td>\n",
              "      <td>Philippines</td>\n",
              "      <td>Philippines</td>\n",
              "    </tr>\n",
              "    <tr>\n",
              "      <th>longitude</th>\n",
              "      <td>122.56</td>\n",
              "      <td>122.56</td>\n",
              "      <td>122.56</td>\n",
              "      <td>122.56</td>\n",
              "      <td>122.56</td>\n",
              "    </tr>\n",
              "    <tr>\n",
              "      <th>latitude</th>\n",
              "      <td>10.7</td>\n",
              "      <td>10.7</td>\n",
              "      <td>10.7</td>\n",
              "      <td>10.7</td>\n",
              "      <td>10.7</td>\n",
              "    </tr>\n",
              "    <tr>\n",
              "      <th>time</th>\n",
              "      <td>2021-12-31 19:00:00</td>\n",
              "      <td>2021-12-31 20:00:00</td>\n",
              "      <td>2021-12-31 21:00:00</td>\n",
              "      <td>2021-12-31 22:00:00</td>\n",
              "      <td>2021-12-31 23:00:00</td>\n",
              "    </tr>\n",
              "    <tr>\n",
              "      <th>temp_c</th>\n",
              "      <td>24.9</td>\n",
              "      <td>24.7</td>\n",
              "      <td>24.5</td>\n",
              "      <td>24.4</td>\n",
              "      <td>24.3</td>\n",
              "    </tr>\n",
              "    <tr>\n",
              "      <th>is_day</th>\n",
              "      <td>0</td>\n",
              "      <td>0</td>\n",
              "      <td>0</td>\n",
              "      <td>0</td>\n",
              "      <td>0</td>\n",
              "    </tr>\n",
              "    <tr>\n",
              "      <th>condition</th>\n",
              "      <td>Cloudy</td>\n",
              "      <td>Light drizzle</td>\n",
              "      <td>Light drizzle</td>\n",
              "      <td>Light drizzle</td>\n",
              "      <td>Overcast</td>\n",
              "    </tr>\n",
              "    <tr>\n",
              "      <th>wind_kph</th>\n",
              "      <td>33.8</td>\n",
              "      <td>33.8</td>\n",
              "      <td>33.8</td>\n",
              "      <td>32.8</td>\n",
              "      <td>31.7</td>\n",
              "    </tr>\n",
              "    <tr>\n",
              "      <th>wind_degree</th>\n",
              "      <td>32</td>\n",
              "      <td>33</td>\n",
              "      <td>35</td>\n",
              "      <td>33</td>\n",
              "      <td>32</td>\n",
              "    </tr>\n",
              "    <tr>\n",
              "      <th>wind_dir</th>\n",
              "      <td>NNE</td>\n",
              "      <td>NNE</td>\n",
              "      <td>NE</td>\n",
              "      <td>NNE</td>\n",
              "      <td>NNE</td>\n",
              "    </tr>\n",
              "    <tr>\n",
              "      <th>air_pressure</th>\n",
              "      <td>1011.92</td>\n",
              "      <td>1011.91</td>\n",
              "      <td>1011.9</td>\n",
              "      <td>1012.59</td>\n",
              "      <td>1013.29</td>\n",
              "    </tr>\n",
              "    <tr>\n",
              "      <th>precipitation</th>\n",
              "      <td>0.36</td>\n",
              "      <td>0.52</td>\n",
              "      <td>0.68</td>\n",
              "      <td>0.5</td>\n",
              "      <td>0.31</td>\n",
              "    </tr>\n",
              "    <tr>\n",
              "      <th>relative_humidity</th>\n",
              "      <td>89.2</td>\n",
              "      <td>88.2</td>\n",
              "      <td>87.2</td>\n",
              "      <td>87.6</td>\n",
              "      <td>88</td>\n",
              "    </tr>\n",
              "    <tr>\n",
              "      <th>cloud</th>\n",
              "      <td>88</td>\n",
              "      <td>94</td>\n",
              "      <td>100</td>\n",
              "      <td>100</td>\n",
              "      <td>100</td>\n",
              "    </tr>\n",
              "    <tr>\n",
              "      <th>feelslike_c</th>\n",
              "      <td>27.3</td>\n",
              "      <td>27</td>\n",
              "      <td>26.8</td>\n",
              "      <td>26.7</td>\n",
              "      <td>26.5</td>\n",
              "    </tr>\n",
              "    <tr>\n",
              "      <th>will_it_rain</th>\n",
              "      <td>0</td>\n",
              "      <td>0</td>\n",
              "      <td>0</td>\n",
              "      <td>0</td>\n",
              "      <td>0</td>\n",
              "    </tr>\n",
              "    <tr>\n",
              "      <th>chance_of_rain</th>\n",
              "      <td>2</td>\n",
              "      <td>51</td>\n",
              "      <td>0</td>\n",
              "      <td>51</td>\n",
              "      <td>3</td>\n",
              "    </tr>\n",
              "    <tr>\n",
              "      <th>year</th>\n",
              "      <td>2021</td>\n",
              "      <td>2021</td>\n",
              "      <td>2021</td>\n",
              "      <td>2021</td>\n",
              "      <td>2021</td>\n",
              "    </tr>\n",
              "    <tr>\n",
              "      <th>month</th>\n",
              "      <td>12</td>\n",
              "      <td>12</td>\n",
              "      <td>12</td>\n",
              "      <td>12</td>\n",
              "      <td>12</td>\n",
              "    </tr>\n",
              "    <tr>\n",
              "      <th>day</th>\n",
              "      <td>31</td>\n",
              "      <td>31</td>\n",
              "      <td>31</td>\n",
              "      <td>31</td>\n",
              "      <td>31</td>\n",
              "    </tr>\n",
              "    <tr>\n",
              "      <th>hour</th>\n",
              "      <td>19</td>\n",
              "      <td>20</td>\n",
              "      <td>21</td>\n",
              "      <td>22</td>\n",
              "      <td>23</td>\n",
              "    </tr>\n",
              "    <tr>\n",
              "      <th>dayOfWeek</th>\n",
              "      <td>4</td>\n",
              "      <td>4</td>\n",
              "      <td>4</td>\n",
              "      <td>4</td>\n",
              "      <td>4</td>\n",
              "    </tr>\n",
              "  </tbody>\n",
              "</table>\n",
              "</div>\n",
              "      <button class=\"colab-df-convert\" onclick=\"convertToInteractive('df-033151c7-8e1f-4b84-85e1-044207d8b7db')\"\n",
              "              title=\"Convert this dataframe to an interactive table.\"\n",
              "              style=\"display:none;\">\n",
              "        \n",
              "  <svg xmlns=\"http://www.w3.org/2000/svg\" height=\"24px\"viewBox=\"0 0 24 24\"\n",
              "       width=\"24px\">\n",
              "    <path d=\"M0 0h24v24H0V0z\" fill=\"none\"/>\n",
              "    <path d=\"M18.56 5.44l.94 2.06.94-2.06 2.06-.94-2.06-.94-.94-2.06-.94 2.06-2.06.94zm-11 1L8.5 8.5l.94-2.06 2.06-.94-2.06-.94L8.5 2.5l-.94 2.06-2.06.94zm10 10l.94 2.06.94-2.06 2.06-.94-2.06-.94-.94-2.06-.94 2.06-2.06.94z\"/><path d=\"M17.41 7.96l-1.37-1.37c-.4-.4-.92-.59-1.43-.59-.52 0-1.04.2-1.43.59L10.3 9.45l-7.72 7.72c-.78.78-.78 2.05 0 2.83L4 21.41c.39.39.9.59 1.41.59.51 0 1.02-.2 1.41-.59l7.78-7.78 2.81-2.81c.8-.78.8-2.07 0-2.86zM5.41 20L4 18.59l7.72-7.72 1.47 1.35L5.41 20z\"/>\n",
              "  </svg>\n",
              "      </button>\n",
              "      \n",
              "  <style>\n",
              "    .colab-df-container {\n",
              "      display:flex;\n",
              "      flex-wrap:wrap;\n",
              "      gap: 12px;\n",
              "    }\n",
              "\n",
              "    .colab-df-convert {\n",
              "      background-color: #E8F0FE;\n",
              "      border: none;\n",
              "      border-radius: 50%;\n",
              "      cursor: pointer;\n",
              "      display: none;\n",
              "      fill: #1967D2;\n",
              "      height: 32px;\n",
              "      padding: 0 0 0 0;\n",
              "      width: 32px;\n",
              "    }\n",
              "\n",
              "    .colab-df-convert:hover {\n",
              "      background-color: #E2EBFA;\n",
              "      box-shadow: 0px 1px 2px rgba(60, 64, 67, 0.3), 0px 1px 3px 1px rgba(60, 64, 67, 0.15);\n",
              "      fill: #174EA6;\n",
              "    }\n",
              "\n",
              "    [theme=dark] .colab-df-convert {\n",
              "      background-color: #3B4455;\n",
              "      fill: #D2E3FC;\n",
              "    }\n",
              "\n",
              "    [theme=dark] .colab-df-convert:hover {\n",
              "      background-color: #434B5C;\n",
              "      box-shadow: 0px 1px 3px 1px rgba(0, 0, 0, 0.15);\n",
              "      filter: drop-shadow(0px 1px 2px rgba(0, 0, 0, 0.3));\n",
              "      fill: #FFFFFF;\n",
              "    }\n",
              "  </style>\n",
              "\n",
              "      <script>\n",
              "        const buttonEl =\n",
              "          document.querySelector('#df-033151c7-8e1f-4b84-85e1-044207d8b7db button.colab-df-convert');\n",
              "        buttonEl.style.display =\n",
              "          google.colab.kernel.accessAllowed ? 'block' : 'none';\n",
              "\n",
              "        async function convertToInteractive(key) {\n",
              "          const element = document.querySelector('#df-033151c7-8e1f-4b84-85e1-044207d8b7db');\n",
              "          const dataTable =\n",
              "            await google.colab.kernel.invokeFunction('convertToInteractive',\n",
              "                                                     [key], {});\n",
              "          if (!dataTable) return;\n",
              "\n",
              "          const docLinkHtml = 'Like what you see? Visit the ' +\n",
              "            '<a target=\"_blank\" href=https://colab.research.google.com/notebooks/data_table.ipynb>data table notebook</a>'\n",
              "            + ' to learn more about interactive tables.';\n",
              "          element.innerHTML = '';\n",
              "          dataTable['output_type'] = 'display_data';\n",
              "          await google.colab.output.renderOutput(dataTable, element);\n",
              "          const docLink = document.createElement('div');\n",
              "          docLink.innerHTML = docLinkHtml;\n",
              "          element.appendChild(docLink);\n",
              "        }\n",
              "      </script>\n",
              "    </div>\n",
              "  </div>\n",
              "  "
            ],
            "text/plain": [
              "                                   523  ...                  527\n",
              "name                            Iloilo  ...               Iloilo\n",
              "region                     Iloilo City  ...          Iloilo City\n",
              "country                    Philippines  ...          Philippines\n",
              "longitude                       122.56  ...               122.56\n",
              "latitude                          10.7  ...                 10.7\n",
              "time               2021-12-31 19:00:00  ...  2021-12-31 23:00:00\n",
              "temp_c                            24.9  ...                 24.3\n",
              "is_day                               0  ...                    0\n",
              "condition                       Cloudy  ...             Overcast\n",
              "wind_kph                          33.8  ...                 31.7\n",
              "wind_degree                         32  ...                   32\n",
              "wind_dir                           NNE  ...                  NNE\n",
              "air_pressure                   1011.92  ...              1013.29\n",
              "precipitation                     0.36  ...                 0.31\n",
              "relative_humidity                 89.2  ...                   88\n",
              "cloud                               88  ...                  100\n",
              "feelslike_c                       27.3  ...                 26.5\n",
              "will_it_rain                         0  ...                    0\n",
              "chance_of_rain                       2  ...                    3\n",
              "year                              2021  ...                 2021\n",
              "month                               12  ...                   12\n",
              "day                                 31  ...                   31\n",
              "hour                                19  ...                   23\n",
              "dayOfWeek                            4  ...                    4\n",
              "\n",
              "[24 rows x 5 columns]"
            ]
          },
          "metadata": {},
          "execution_count": 7
        }
      ],
      "source": [
        "df.tail().T"
      ]
    },
    {
      "cell_type": "code",
      "execution_count": 8,
      "metadata": {
        "colab": {
          "base_uri": "https://localhost:8080/",
          "height": 771
        },
        "id": "oDYUWdkW9Gyo",
        "outputId": "2dd436d7-f9bc-481e-dba1-0fc8f3af5841"
      },
      "outputs": [
        {
          "output_type": "execute_result",
          "data": {
            "text/html": [
              "\n",
              "  <div id=\"df-6bbc3657-a5e8-4621-b0f0-a4b9a6d77264\">\n",
              "    <div class=\"colab-df-container\">\n",
              "      <div>\n",
              "<style scoped>\n",
              "    .dataframe tbody tr th:only-of-type {\n",
              "        vertical-align: middle;\n",
              "    }\n",
              "\n",
              "    .dataframe tbody tr th {\n",
              "        vertical-align: top;\n",
              "    }\n",
              "\n",
              "    .dataframe thead th {\n",
              "        text-align: right;\n",
              "    }\n",
              "</style>\n",
              "<table border=\"1\" class=\"dataframe\">\n",
              "  <thead>\n",
              "    <tr style=\"text-align: right;\">\n",
              "      <th></th>\n",
              "      <th>0</th>\n",
              "      <th>1</th>\n",
              "      <th>2</th>\n",
              "      <th>3</th>\n",
              "      <th>4</th>\n",
              "    </tr>\n",
              "  </thead>\n",
              "  <tbody>\n",
              "    <tr>\n",
              "      <th>name</th>\n",
              "      <td>Iloilo</td>\n",
              "      <td>Iloilo</td>\n",
              "      <td>Iloilo</td>\n",
              "      <td>Iloilo</td>\n",
              "      <td>Iloilo</td>\n",
              "    </tr>\n",
              "    <tr>\n",
              "      <th>region</th>\n",
              "      <td>Iloilo City</td>\n",
              "      <td>Iloilo City</td>\n",
              "      <td>Iloilo City</td>\n",
              "      <td>Iloilo City</td>\n",
              "      <td>Iloilo City</td>\n",
              "    </tr>\n",
              "    <tr>\n",
              "      <th>country</th>\n",
              "      <td>Philippines</td>\n",
              "      <td>Philippines</td>\n",
              "      <td>Philippines</td>\n",
              "      <td>Philippines</td>\n",
              "      <td>Philippines</td>\n",
              "    </tr>\n",
              "    <tr>\n",
              "      <th>longitude</th>\n",
              "      <td>122.56</td>\n",
              "      <td>122.56</td>\n",
              "      <td>122.56</td>\n",
              "      <td>122.56</td>\n",
              "      <td>122.56</td>\n",
              "    </tr>\n",
              "    <tr>\n",
              "      <th>latitude</th>\n",
              "      <td>10.7</td>\n",
              "      <td>10.7</td>\n",
              "      <td>10.7</td>\n",
              "      <td>10.7</td>\n",
              "      <td>10.7</td>\n",
              "    </tr>\n",
              "    <tr>\n",
              "      <th>temp_c</th>\n",
              "      <td>24.7</td>\n",
              "      <td>24.7</td>\n",
              "      <td>24.6</td>\n",
              "      <td>24.6</td>\n",
              "      <td>24.6</td>\n",
              "    </tr>\n",
              "    <tr>\n",
              "      <th>is_day</th>\n",
              "      <td>0</td>\n",
              "      <td>0</td>\n",
              "      <td>0</td>\n",
              "      <td>0</td>\n",
              "      <td>0</td>\n",
              "    </tr>\n",
              "    <tr>\n",
              "      <th>condition</th>\n",
              "      <td>Cloudy</td>\n",
              "      <td>Cloudy</td>\n",
              "      <td>Cloudy</td>\n",
              "      <td>Cloudy</td>\n",
              "      <td>Cloudy</td>\n",
              "    </tr>\n",
              "    <tr>\n",
              "      <th>wind_kph</th>\n",
              "      <td>24.8</td>\n",
              "      <td>24.7</td>\n",
              "      <td>24.6</td>\n",
              "      <td>24.5</td>\n",
              "      <td>24.8</td>\n",
              "    </tr>\n",
              "    <tr>\n",
              "      <th>wind_degree</th>\n",
              "      <td>22</td>\n",
              "      <td>22</td>\n",
              "      <td>22</td>\n",
              "      <td>23</td>\n",
              "      <td>22</td>\n",
              "    </tr>\n",
              "    <tr>\n",
              "      <th>wind_dir</th>\n",
              "      <td>NNE</td>\n",
              "      <td>NNE</td>\n",
              "      <td>NNE</td>\n",
              "      <td>NNE</td>\n",
              "      <td>NNE</td>\n",
              "    </tr>\n",
              "    <tr>\n",
              "      <th>air_pressure</th>\n",
              "      <td>1010.96</td>\n",
              "      <td>1010.72</td>\n",
              "      <td>1010.47</td>\n",
              "      <td>1010.22</td>\n",
              "      <td>1009.57</td>\n",
              "    </tr>\n",
              "    <tr>\n",
              "      <th>precipitation</th>\n",
              "      <td>0.02</td>\n",
              "      <td>0.02</td>\n",
              "      <td>0.02</td>\n",
              "      <td>0.02</td>\n",
              "      <td>0.03</td>\n",
              "    </tr>\n",
              "    <tr>\n",
              "      <th>relative_humidity</th>\n",
              "      <td>79.7</td>\n",
              "      <td>76.93</td>\n",
              "      <td>74.17</td>\n",
              "      <td>71.4</td>\n",
              "      <td>72.53</td>\n",
              "    </tr>\n",
              "    <tr>\n",
              "      <th>cloud</th>\n",
              "      <td>63</td>\n",
              "      <td>64</td>\n",
              "      <td>64</td>\n",
              "      <td>65</td>\n",
              "      <td>63</td>\n",
              "    </tr>\n",
              "    <tr>\n",
              "      <th>feelslike_c</th>\n",
              "      <td>27.2</td>\n",
              "      <td>27.2</td>\n",
              "      <td>27.1</td>\n",
              "      <td>27.1</td>\n",
              "      <td>27.1</td>\n",
              "    </tr>\n",
              "    <tr>\n",
              "      <th>will_it_rain</th>\n",
              "      <td>0</td>\n",
              "      <td>0</td>\n",
              "      <td>0</td>\n",
              "      <td>0</td>\n",
              "      <td>0</td>\n",
              "    </tr>\n",
              "    <tr>\n",
              "      <th>chance_of_rain</th>\n",
              "      <td>0</td>\n",
              "      <td>2</td>\n",
              "      <td>2</td>\n",
              "      <td>0</td>\n",
              "      <td>2</td>\n",
              "    </tr>\n",
              "    <tr>\n",
              "      <th>year</th>\n",
              "      <td>2021</td>\n",
              "      <td>2021</td>\n",
              "      <td>2021</td>\n",
              "      <td>2021</td>\n",
              "      <td>2021</td>\n",
              "    </tr>\n",
              "    <tr>\n",
              "      <th>month</th>\n",
              "      <td>12</td>\n",
              "      <td>12</td>\n",
              "      <td>12</td>\n",
              "      <td>12</td>\n",
              "      <td>12</td>\n",
              "    </tr>\n",
              "    <tr>\n",
              "      <th>day</th>\n",
              "      <td>10</td>\n",
              "      <td>10</td>\n",
              "      <td>10</td>\n",
              "      <td>10</td>\n",
              "      <td>10</td>\n",
              "    </tr>\n",
              "    <tr>\n",
              "      <th>hour</th>\n",
              "      <td>0</td>\n",
              "      <td>1</td>\n",
              "      <td>2</td>\n",
              "      <td>3</td>\n",
              "      <td>4</td>\n",
              "    </tr>\n",
              "    <tr>\n",
              "      <th>dayOfWeek</th>\n",
              "      <td>4</td>\n",
              "      <td>4</td>\n",
              "      <td>4</td>\n",
              "      <td>4</td>\n",
              "      <td>4</td>\n",
              "    </tr>\n",
              "  </tbody>\n",
              "</table>\n",
              "</div>\n",
              "      <button class=\"colab-df-convert\" onclick=\"convertToInteractive('df-6bbc3657-a5e8-4621-b0f0-a4b9a6d77264')\"\n",
              "              title=\"Convert this dataframe to an interactive table.\"\n",
              "              style=\"display:none;\">\n",
              "        \n",
              "  <svg xmlns=\"http://www.w3.org/2000/svg\" height=\"24px\"viewBox=\"0 0 24 24\"\n",
              "       width=\"24px\">\n",
              "    <path d=\"M0 0h24v24H0V0z\" fill=\"none\"/>\n",
              "    <path d=\"M18.56 5.44l.94 2.06.94-2.06 2.06-.94-2.06-.94-.94-2.06-.94 2.06-2.06.94zm-11 1L8.5 8.5l.94-2.06 2.06-.94-2.06-.94L8.5 2.5l-.94 2.06-2.06.94zm10 10l.94 2.06.94-2.06 2.06-.94-2.06-.94-.94-2.06-.94 2.06-2.06.94z\"/><path d=\"M17.41 7.96l-1.37-1.37c-.4-.4-.92-.59-1.43-.59-.52 0-1.04.2-1.43.59L10.3 9.45l-7.72 7.72c-.78.78-.78 2.05 0 2.83L4 21.41c.39.39.9.59 1.41.59.51 0 1.02-.2 1.41-.59l7.78-7.78 2.81-2.81c.8-.78.8-2.07 0-2.86zM5.41 20L4 18.59l7.72-7.72 1.47 1.35L5.41 20z\"/>\n",
              "  </svg>\n",
              "      </button>\n",
              "      \n",
              "  <style>\n",
              "    .colab-df-container {\n",
              "      display:flex;\n",
              "      flex-wrap:wrap;\n",
              "      gap: 12px;\n",
              "    }\n",
              "\n",
              "    .colab-df-convert {\n",
              "      background-color: #E8F0FE;\n",
              "      border: none;\n",
              "      border-radius: 50%;\n",
              "      cursor: pointer;\n",
              "      display: none;\n",
              "      fill: #1967D2;\n",
              "      height: 32px;\n",
              "      padding: 0 0 0 0;\n",
              "      width: 32px;\n",
              "    }\n",
              "\n",
              "    .colab-df-convert:hover {\n",
              "      background-color: #E2EBFA;\n",
              "      box-shadow: 0px 1px 2px rgba(60, 64, 67, 0.3), 0px 1px 3px 1px rgba(60, 64, 67, 0.15);\n",
              "      fill: #174EA6;\n",
              "    }\n",
              "\n",
              "    [theme=dark] .colab-df-convert {\n",
              "      background-color: #3B4455;\n",
              "      fill: #D2E3FC;\n",
              "    }\n",
              "\n",
              "    [theme=dark] .colab-df-convert:hover {\n",
              "      background-color: #434B5C;\n",
              "      box-shadow: 0px 1px 3px 1px rgba(0, 0, 0, 0.15);\n",
              "      filter: drop-shadow(0px 1px 2px rgba(0, 0, 0, 0.3));\n",
              "      fill: #FFFFFF;\n",
              "    }\n",
              "  </style>\n",
              "\n",
              "      <script>\n",
              "        const buttonEl =\n",
              "          document.querySelector('#df-6bbc3657-a5e8-4621-b0f0-a4b9a6d77264 button.colab-df-convert');\n",
              "        buttonEl.style.display =\n",
              "          google.colab.kernel.accessAllowed ? 'block' : 'none';\n",
              "\n",
              "        async function convertToInteractive(key) {\n",
              "          const element = document.querySelector('#df-6bbc3657-a5e8-4621-b0f0-a4b9a6d77264');\n",
              "          const dataTable =\n",
              "            await google.colab.kernel.invokeFunction('convertToInteractive',\n",
              "                                                     [key], {});\n",
              "          if (!dataTable) return;\n",
              "\n",
              "          const docLinkHtml = 'Like what you see? Visit the ' +\n",
              "            '<a target=\"_blank\" href=https://colab.research.google.com/notebooks/data_table.ipynb>data table notebook</a>'\n",
              "            + ' to learn more about interactive tables.';\n",
              "          element.innerHTML = '';\n",
              "          dataTable['output_type'] = 'display_data';\n",
              "          await google.colab.output.renderOutput(dataTable, element);\n",
              "          const docLink = document.createElement('div');\n",
              "          docLink.innerHTML = docLinkHtml;\n",
              "          element.appendChild(docLink);\n",
              "        }\n",
              "      </script>\n",
              "    </div>\n",
              "  </div>\n",
              "  "
            ],
            "text/plain": [
              "                             0            1  ...            3            4\n",
              "name                    Iloilo       Iloilo  ...       Iloilo       Iloilo\n",
              "region             Iloilo City  Iloilo City  ...  Iloilo City  Iloilo City\n",
              "country            Philippines  Philippines  ...  Philippines  Philippines\n",
              "longitude               122.56       122.56  ...       122.56       122.56\n",
              "latitude                  10.7         10.7  ...         10.7         10.7\n",
              "temp_c                    24.7         24.7  ...         24.6         24.6\n",
              "is_day                       0            0  ...            0            0\n",
              "condition               Cloudy       Cloudy  ...       Cloudy       Cloudy\n",
              "wind_kph                  24.8         24.7  ...         24.5         24.8\n",
              "wind_degree                 22           22  ...           23           22\n",
              "wind_dir                   NNE          NNE  ...          NNE          NNE\n",
              "air_pressure           1010.96      1010.72  ...      1010.22      1009.57\n",
              "precipitation             0.02         0.02  ...         0.02         0.03\n",
              "relative_humidity         79.7        76.93  ...         71.4        72.53\n",
              "cloud                       63           64  ...           65           63\n",
              "feelslike_c               27.2         27.2  ...         27.1         27.1\n",
              "will_it_rain                 0            0  ...            0            0\n",
              "chance_of_rain               0            2  ...            0            2\n",
              "year                      2021         2021  ...         2021         2021\n",
              "month                       12           12  ...           12           12\n",
              "day                         10           10  ...           10           10\n",
              "hour                         0            1  ...            3            4\n",
              "dayOfWeek                    4            4  ...            4            4\n",
              "\n",
              "[23 rows x 5 columns]"
            ]
          },
          "metadata": {},
          "execution_count": 8
        }
      ],
      "source": [
        "x_time = df['time']\n",
        "df.drop(columns=['time'], inplace=True, axis=1)\n",
        "df.head().T"
      ]
    },
    {
      "cell_type": "markdown",
      "metadata": {
        "id": "IlFOLPQO9VPy"
      },
      "source": [
        "## Model driven EDA"
      ]
    },
    {
      "cell_type": "code",
      "execution_count": 9,
      "metadata": {
        "id": "zOLWBiVEBHgX"
      },
      "outputs": [],
      "source": [
        "from sklearn.ensemble import RandomForestRegressor \n",
        "\n",
        "model = RandomForestRegressor(\n",
        "    n_jobs=1,\n",
        "    random_state=42\n",
        ")"
      ]
    },
    {
      "cell_type": "markdown",
      "metadata": {
        "id": "gtvKG3HZBcjc"
      },
      "source": [
        "### Turning data into pandas categories"
      ]
    },
    {
      "cell_type": "code",
      "execution_count": 10,
      "metadata": {
        "colab": {
          "base_uri": "https://localhost:8080/"
        },
        "id": "Nz_ZFSvmBfDt",
        "outputId": "0ede0481-cf37-4e71-ecef-cb901c0a1eba"
      },
      "outputs": [
        {
          "output_type": "stream",
          "name": "stdout",
          "text": [
            "name\n",
            "region\n",
            "country\n",
            "condition\n",
            "wind_dir\n"
          ]
        }
      ],
      "source": [
        "for label, content in df.items():\n",
        "    if pd.api.types.is_string_dtype(content):\n",
        "        print(label)"
      ]
    },
    {
      "cell_type": "code",
      "execution_count": 11,
      "metadata": {
        "id": "5By1HkPEBnBO"
      },
      "outputs": [],
      "source": [
        "for label, content in df.items(): \n",
        "    if pd.api.types.is_string_dtype(content):\n",
        "        df[label] = content.astype('category').cat.as_ordered()"
      ]
    },
    {
      "cell_type": "code",
      "execution_count": 12,
      "metadata": {
        "colab": {
          "base_uri": "https://localhost:8080/"
        },
        "id": "jn63oXi5B5x8",
        "outputId": "0c3b8c35-d32a-463a-a425-6aef85e60aa8"
      },
      "outputs": [
        {
          "output_type": "stream",
          "name": "stdout",
          "text": [
            "<class 'pandas.core.frame.DataFrame'>\n",
            "RangeIndex: 528 entries, 0 to 527\n",
            "Data columns (total 23 columns):\n",
            " #   Column             Non-Null Count  Dtype   \n",
            "---  ------             --------------  -----   \n",
            " 0   name               528 non-null    category\n",
            " 1   region             528 non-null    category\n",
            " 2   country            528 non-null    category\n",
            " 3   longitude          528 non-null    float64 \n",
            " 4   latitude           528 non-null    float64 \n",
            " 5   temp_c             528 non-null    float64 \n",
            " 6   is_day             528 non-null    int64   \n",
            " 7   condition          528 non-null    category\n",
            " 8   wind_kph           528 non-null    float64 \n",
            " 9   wind_degree        528 non-null    int64   \n",
            " 10  wind_dir           528 non-null    category\n",
            " 11  air_pressure       528 non-null    float64 \n",
            " 12  precipitation      528 non-null    float64 \n",
            " 13  relative_humidity  528 non-null    float64 \n",
            " 14  cloud              528 non-null    int64   \n",
            " 15  feelslike_c        528 non-null    float64 \n",
            " 16  will_it_rain       528 non-null    int64   \n",
            " 17  chance_of_rain     528 non-null    int64   \n",
            " 18  year               528 non-null    int64   \n",
            " 19  month              528 non-null    int64   \n",
            " 20  day                528 non-null    int64   \n",
            " 21  hour               528 non-null    int64   \n",
            " 22  dayOfWeek          528 non-null    int64   \n",
            "dtypes: category(5), float64(8), int64(10)\n",
            "memory usage: 78.0 KB\n"
          ]
        }
      ],
      "source": [
        "df.info()"
      ]
    },
    {
      "cell_type": "code",
      "execution_count": 13,
      "metadata": {
        "colab": {
          "base_uri": "https://localhost:8080/"
        },
        "id": "_Y5LVTlUB7Di",
        "outputId": "c84eff96-35d1-4838-e905-61430c6a470f"
      },
      "outputs": [
        {
          "output_type": "stream",
          "name": "stdout",
          "text": [
            "name                 0.0\n",
            "region               0.0\n",
            "country              0.0\n",
            "longitude            0.0\n",
            "latitude             0.0\n",
            "temp_c               0.0\n",
            "is_day               0.0\n",
            "condition            0.0\n",
            "wind_kph             0.0\n",
            "wind_degree          0.0\n",
            "wind_dir             0.0\n",
            "air_pressure         0.0\n",
            "precipitation        0.0\n",
            "relative_humidity    0.0\n",
            "cloud                0.0\n",
            "feelslike_c          0.0\n",
            "will_it_rain         0.0\n",
            "chance_of_rain       0.0\n",
            "year                 0.0\n",
            "month                0.0\n",
            "day                  0.0\n",
            "hour                 0.0\n",
            "dayOfWeek            0.0\n",
            "dtype: float64%\n"
          ]
        }
      ],
      "source": [
        "print(f'{df.isnull().sum() / len(df) * 100}%')"
      ]
    },
    {
      "cell_type": "code",
      "execution_count": 14,
      "metadata": {
        "id": "DZwoN6N0CGoT"
      },
      "outputs": [],
      "source": [
        "\n",
        "\n",
        "# Check if there is any null numeric values\n",
        "for label, content in df.items():\n",
        "    if pd.api.types.is_numeric_dtype(content):\n",
        "        if pd.isnull(content).sum():\n",
        "            print(label)"
      ]
    },
    {
      "cell_type": "code",
      "execution_count": 15,
      "metadata": {
        "colab": {
          "base_uri": "https://localhost:8080/"
        },
        "id": "bXRzy5BvCgsD",
        "outputId": "36f95b46-5e0d-4827-83a5-03c57204d254"
      },
      "outputs": [
        {
          "output_type": "stream",
          "name": "stdout",
          "text": [
            "name\n",
            "region\n",
            "country\n",
            "condition\n",
            "wind_dir\n"
          ]
        }
      ],
      "source": [
        "\n",
        "\n",
        "# Check for columns which aren't numeric\n",
        "for label, content in df.items():\n",
        "    if not pd.api.types.is_numeric_dtype(content):\n",
        "        print(label)\n",
        "\n"
      ]
    },
    {
      "cell_type": "code",
      "execution_count": 16,
      "metadata": {
        "id": "1hrMRPtOCk1d"
      },
      "outputs": [],
      "source": [
        "# Turns categorical variables into numbers and fills missing\n",
        "for label, content in df.items():\n",
        "    if not pd.api.types.is_numeric_dtype(content):\n",
        "        #add binary column to indicate whether sample has missing value\n",
        "        df[label+'_is_missing'] = pd.isnull(content)\n",
        "        #turns categories into numbers and add + 1\n",
        "        # Add 1 to avoid having -1 values in the data (ie, missing values)\n",
        "        df[label] = pd.Categorical(content).codes + 1\n"
      ]
    },
    {
      "cell_type": "code",
      "execution_count": 17,
      "metadata": {
        "colab": {
          "base_uri": "https://localhost:8080/"
        },
        "id": "lHcw0vufCy8_",
        "outputId": "9b342420-5231-4e1a-db18-2dde83dc3570"
      },
      "outputs": [
        {
          "output_type": "execute_result",
          "data": {
            "text/plain": [
              "name                    0\n",
              "region                  0\n",
              "country                 0\n",
              "longitude               0\n",
              "latitude                0\n",
              "temp_c                  0\n",
              "is_day                  0\n",
              "condition               0\n",
              "wind_kph                0\n",
              "wind_degree             0\n",
              "wind_dir                0\n",
              "air_pressure            0\n",
              "precipitation           0\n",
              "relative_humidity       0\n",
              "cloud                   0\n",
              "feelslike_c             0\n",
              "will_it_rain            0\n",
              "chance_of_rain          0\n",
              "year                    0\n",
              "month                   0\n",
              "day                     0\n",
              "hour                    0\n",
              "dayOfWeek               0\n",
              "name_is_missing         0\n",
              "region_is_missing       0\n",
              "country_is_missing      0\n",
              "condition_is_missing    0\n",
              "wind_dir_is_missing     0\n",
              "dtype: int64"
            ]
          },
          "metadata": {},
          "execution_count": 17
        }
      ],
      "source": [
        "df.isna().sum()"
      ]
    },
    {
      "cell_type": "code",
      "execution_count": 18,
      "metadata": {
        "colab": {
          "base_uri": "https://localhost:8080/",
          "height": 270
        },
        "id": "cjU77Eo-C03i",
        "outputId": "b461906b-4de1-4005-e411-dfe07a9a74f1"
      },
      "outputs": [
        {
          "output_type": "execute_result",
          "data": {
            "text/html": [
              "\n",
              "  <div id=\"df-8b2ea62c-7c1c-4b63-b5e5-f12768198ec8\">\n",
              "    <div class=\"colab-df-container\">\n",
              "      <div>\n",
              "<style scoped>\n",
              "    .dataframe tbody tr th:only-of-type {\n",
              "        vertical-align: middle;\n",
              "    }\n",
              "\n",
              "    .dataframe tbody tr th {\n",
              "        vertical-align: top;\n",
              "    }\n",
              "\n",
              "    .dataframe thead th {\n",
              "        text-align: right;\n",
              "    }\n",
              "</style>\n",
              "<table border=\"1\" class=\"dataframe\">\n",
              "  <thead>\n",
              "    <tr style=\"text-align: right;\">\n",
              "      <th></th>\n",
              "      <th>name</th>\n",
              "      <th>region</th>\n",
              "      <th>country</th>\n",
              "      <th>longitude</th>\n",
              "      <th>latitude</th>\n",
              "      <th>temp_c</th>\n",
              "      <th>is_day</th>\n",
              "      <th>condition</th>\n",
              "      <th>wind_kph</th>\n",
              "      <th>wind_degree</th>\n",
              "      <th>wind_dir</th>\n",
              "      <th>air_pressure</th>\n",
              "      <th>precipitation</th>\n",
              "      <th>relative_humidity</th>\n",
              "      <th>cloud</th>\n",
              "      <th>feelslike_c</th>\n",
              "      <th>will_it_rain</th>\n",
              "      <th>chance_of_rain</th>\n",
              "      <th>year</th>\n",
              "      <th>month</th>\n",
              "      <th>day</th>\n",
              "      <th>hour</th>\n",
              "      <th>dayOfWeek</th>\n",
              "      <th>name_is_missing</th>\n",
              "      <th>region_is_missing</th>\n",
              "      <th>country_is_missing</th>\n",
              "      <th>condition_is_missing</th>\n",
              "      <th>wind_dir_is_missing</th>\n",
              "    </tr>\n",
              "  </thead>\n",
              "  <tbody>\n",
              "    <tr>\n",
              "      <th>0</th>\n",
              "      <td>1</td>\n",
              "      <td>1</td>\n",
              "      <td>1</td>\n",
              "      <td>122.56</td>\n",
              "      <td>10.7</td>\n",
              "      <td>24.7</td>\n",
              "      <td>0</td>\n",
              "      <td>2</td>\n",
              "      <td>24.8</td>\n",
              "      <td>22</td>\n",
              "      <td>6</td>\n",
              "      <td>1010.96</td>\n",
              "      <td>0.02</td>\n",
              "      <td>79.70</td>\n",
              "      <td>63</td>\n",
              "      <td>27.2</td>\n",
              "      <td>0</td>\n",
              "      <td>0</td>\n",
              "      <td>2021</td>\n",
              "      <td>12</td>\n",
              "      <td>10</td>\n",
              "      <td>0</td>\n",
              "      <td>4</td>\n",
              "      <td>False</td>\n",
              "      <td>False</td>\n",
              "      <td>False</td>\n",
              "      <td>False</td>\n",
              "      <td>False</td>\n",
              "    </tr>\n",
              "    <tr>\n",
              "      <th>1</th>\n",
              "      <td>1</td>\n",
              "      <td>1</td>\n",
              "      <td>1</td>\n",
              "      <td>122.56</td>\n",
              "      <td>10.7</td>\n",
              "      <td>24.7</td>\n",
              "      <td>0</td>\n",
              "      <td>2</td>\n",
              "      <td>24.7</td>\n",
              "      <td>22</td>\n",
              "      <td>6</td>\n",
              "      <td>1010.72</td>\n",
              "      <td>0.02</td>\n",
              "      <td>76.93</td>\n",
              "      <td>64</td>\n",
              "      <td>27.2</td>\n",
              "      <td>0</td>\n",
              "      <td>2</td>\n",
              "      <td>2021</td>\n",
              "      <td>12</td>\n",
              "      <td>10</td>\n",
              "      <td>1</td>\n",
              "      <td>4</td>\n",
              "      <td>False</td>\n",
              "      <td>False</td>\n",
              "      <td>False</td>\n",
              "      <td>False</td>\n",
              "      <td>False</td>\n",
              "    </tr>\n",
              "    <tr>\n",
              "      <th>2</th>\n",
              "      <td>1</td>\n",
              "      <td>1</td>\n",
              "      <td>1</td>\n",
              "      <td>122.56</td>\n",
              "      <td>10.7</td>\n",
              "      <td>24.6</td>\n",
              "      <td>0</td>\n",
              "      <td>2</td>\n",
              "      <td>24.6</td>\n",
              "      <td>22</td>\n",
              "      <td>6</td>\n",
              "      <td>1010.47</td>\n",
              "      <td>0.02</td>\n",
              "      <td>74.17</td>\n",
              "      <td>64</td>\n",
              "      <td>27.1</td>\n",
              "      <td>0</td>\n",
              "      <td>2</td>\n",
              "      <td>2021</td>\n",
              "      <td>12</td>\n",
              "      <td>10</td>\n",
              "      <td>2</td>\n",
              "      <td>4</td>\n",
              "      <td>False</td>\n",
              "      <td>False</td>\n",
              "      <td>False</td>\n",
              "      <td>False</td>\n",
              "      <td>False</td>\n",
              "    </tr>\n",
              "    <tr>\n",
              "      <th>3</th>\n",
              "      <td>1</td>\n",
              "      <td>1</td>\n",
              "      <td>1</td>\n",
              "      <td>122.56</td>\n",
              "      <td>10.7</td>\n",
              "      <td>24.6</td>\n",
              "      <td>0</td>\n",
              "      <td>2</td>\n",
              "      <td>24.5</td>\n",
              "      <td>23</td>\n",
              "      <td>6</td>\n",
              "      <td>1010.22</td>\n",
              "      <td>0.02</td>\n",
              "      <td>71.40</td>\n",
              "      <td>65</td>\n",
              "      <td>27.1</td>\n",
              "      <td>0</td>\n",
              "      <td>0</td>\n",
              "      <td>2021</td>\n",
              "      <td>12</td>\n",
              "      <td>10</td>\n",
              "      <td>3</td>\n",
              "      <td>4</td>\n",
              "      <td>False</td>\n",
              "      <td>False</td>\n",
              "      <td>False</td>\n",
              "      <td>False</td>\n",
              "      <td>False</td>\n",
              "    </tr>\n",
              "    <tr>\n",
              "      <th>4</th>\n",
              "      <td>1</td>\n",
              "      <td>1</td>\n",
              "      <td>1</td>\n",
              "      <td>122.56</td>\n",
              "      <td>10.7</td>\n",
              "      <td>24.6</td>\n",
              "      <td>0</td>\n",
              "      <td>2</td>\n",
              "      <td>24.8</td>\n",
              "      <td>22</td>\n",
              "      <td>6</td>\n",
              "      <td>1009.57</td>\n",
              "      <td>0.03</td>\n",
              "      <td>72.53</td>\n",
              "      <td>63</td>\n",
              "      <td>27.1</td>\n",
              "      <td>0</td>\n",
              "      <td>2</td>\n",
              "      <td>2021</td>\n",
              "      <td>12</td>\n",
              "      <td>10</td>\n",
              "      <td>4</td>\n",
              "      <td>4</td>\n",
              "      <td>False</td>\n",
              "      <td>False</td>\n",
              "      <td>False</td>\n",
              "      <td>False</td>\n",
              "      <td>False</td>\n",
              "    </tr>\n",
              "  </tbody>\n",
              "</table>\n",
              "</div>\n",
              "      <button class=\"colab-df-convert\" onclick=\"convertToInteractive('df-8b2ea62c-7c1c-4b63-b5e5-f12768198ec8')\"\n",
              "              title=\"Convert this dataframe to an interactive table.\"\n",
              "              style=\"display:none;\">\n",
              "        \n",
              "  <svg xmlns=\"http://www.w3.org/2000/svg\" height=\"24px\"viewBox=\"0 0 24 24\"\n",
              "       width=\"24px\">\n",
              "    <path d=\"M0 0h24v24H0V0z\" fill=\"none\"/>\n",
              "    <path d=\"M18.56 5.44l.94 2.06.94-2.06 2.06-.94-2.06-.94-.94-2.06-.94 2.06-2.06.94zm-11 1L8.5 8.5l.94-2.06 2.06-.94-2.06-.94L8.5 2.5l-.94 2.06-2.06.94zm10 10l.94 2.06.94-2.06 2.06-.94-2.06-.94-.94-2.06-.94 2.06-2.06.94z\"/><path d=\"M17.41 7.96l-1.37-1.37c-.4-.4-.92-.59-1.43-.59-.52 0-1.04.2-1.43.59L10.3 9.45l-7.72 7.72c-.78.78-.78 2.05 0 2.83L4 21.41c.39.39.9.59 1.41.59.51 0 1.02-.2 1.41-.59l7.78-7.78 2.81-2.81c.8-.78.8-2.07 0-2.86zM5.41 20L4 18.59l7.72-7.72 1.47 1.35L5.41 20z\"/>\n",
              "  </svg>\n",
              "      </button>\n",
              "      \n",
              "  <style>\n",
              "    .colab-df-container {\n",
              "      display:flex;\n",
              "      flex-wrap:wrap;\n",
              "      gap: 12px;\n",
              "    }\n",
              "\n",
              "    .colab-df-convert {\n",
              "      background-color: #E8F0FE;\n",
              "      border: none;\n",
              "      border-radius: 50%;\n",
              "      cursor: pointer;\n",
              "      display: none;\n",
              "      fill: #1967D2;\n",
              "      height: 32px;\n",
              "      padding: 0 0 0 0;\n",
              "      width: 32px;\n",
              "    }\n",
              "\n",
              "    .colab-df-convert:hover {\n",
              "      background-color: #E2EBFA;\n",
              "      box-shadow: 0px 1px 2px rgba(60, 64, 67, 0.3), 0px 1px 3px 1px rgba(60, 64, 67, 0.15);\n",
              "      fill: #174EA6;\n",
              "    }\n",
              "\n",
              "    [theme=dark] .colab-df-convert {\n",
              "      background-color: #3B4455;\n",
              "      fill: #D2E3FC;\n",
              "    }\n",
              "\n",
              "    [theme=dark] .colab-df-convert:hover {\n",
              "      background-color: #434B5C;\n",
              "      box-shadow: 0px 1px 3px 1px rgba(0, 0, 0, 0.15);\n",
              "      filter: drop-shadow(0px 1px 2px rgba(0, 0, 0, 0.3));\n",
              "      fill: #FFFFFF;\n",
              "    }\n",
              "  </style>\n",
              "\n",
              "      <script>\n",
              "        const buttonEl =\n",
              "          document.querySelector('#df-8b2ea62c-7c1c-4b63-b5e5-f12768198ec8 button.colab-df-convert');\n",
              "        buttonEl.style.display =\n",
              "          google.colab.kernel.accessAllowed ? 'block' : 'none';\n",
              "\n",
              "        async function convertToInteractive(key) {\n",
              "          const element = document.querySelector('#df-8b2ea62c-7c1c-4b63-b5e5-f12768198ec8');\n",
              "          const dataTable =\n",
              "            await google.colab.kernel.invokeFunction('convertToInteractive',\n",
              "                                                     [key], {});\n",
              "          if (!dataTable) return;\n",
              "\n",
              "          const docLinkHtml = 'Like what you see? Visit the ' +\n",
              "            '<a target=\"_blank\" href=https://colab.research.google.com/notebooks/data_table.ipynb>data table notebook</a>'\n",
              "            + ' to learn more about interactive tables.';\n",
              "          element.innerHTML = '';\n",
              "          dataTable['output_type'] = 'display_data';\n",
              "          await google.colab.output.renderOutput(dataTable, element);\n",
              "          const docLink = document.createElement('div');\n",
              "          docLink.innerHTML = docLinkHtml;\n",
              "          element.appendChild(docLink);\n",
              "        }\n",
              "      </script>\n",
              "    </div>\n",
              "  </div>\n",
              "  "
            ],
            "text/plain": [
              "   name  region  ...  condition_is_missing  wind_dir_is_missing\n",
              "0     1       1  ...                 False                False\n",
              "1     1       1  ...                 False                False\n",
              "2     1       1  ...                 False                False\n",
              "3     1       1  ...                 False                False\n",
              "4     1       1  ...                 False                False\n",
              "\n",
              "[5 rows x 28 columns]"
            ]
          },
          "metadata": {},
          "execution_count": 18
        }
      ],
      "source": [
        "df.head()"
      ]
    },
    {
      "cell_type": "code",
      "execution_count": 19,
      "metadata": {
        "colab": {
          "base_uri": "https://localhost:8080/",
          "height": 270
        },
        "id": "58jPozbqC2Op",
        "outputId": "9c7eede1-62e3-4ee3-b45f-cc36d81cfdc0"
      },
      "outputs": [
        {
          "output_type": "execute_result",
          "data": {
            "text/html": [
              "\n",
              "  <div id=\"df-48ecf507-7012-48ce-865b-cbef7d0ed539\">\n",
              "    <div class=\"colab-df-container\">\n",
              "      <div>\n",
              "<style scoped>\n",
              "    .dataframe tbody tr th:only-of-type {\n",
              "        vertical-align: middle;\n",
              "    }\n",
              "\n",
              "    .dataframe tbody tr th {\n",
              "        vertical-align: top;\n",
              "    }\n",
              "\n",
              "    .dataframe thead th {\n",
              "        text-align: right;\n",
              "    }\n",
              "</style>\n",
              "<table border=\"1\" class=\"dataframe\">\n",
              "  <thead>\n",
              "    <tr style=\"text-align: right;\">\n",
              "      <th></th>\n",
              "      <th>name</th>\n",
              "      <th>country</th>\n",
              "      <th>longitude</th>\n",
              "      <th>latitude</th>\n",
              "      <th>temp_c</th>\n",
              "      <th>is_day</th>\n",
              "      <th>condition</th>\n",
              "      <th>wind_kph</th>\n",
              "      <th>wind_degree</th>\n",
              "      <th>wind_dir</th>\n",
              "      <th>air_pressure</th>\n",
              "      <th>precipitation</th>\n",
              "      <th>relative_humidity</th>\n",
              "      <th>cloud</th>\n",
              "      <th>feelslike_c</th>\n",
              "      <th>will_it_rain</th>\n",
              "      <th>chance_of_rain</th>\n",
              "      <th>year</th>\n",
              "      <th>month</th>\n",
              "      <th>day</th>\n",
              "      <th>hour</th>\n",
              "      <th>dayOfWeek</th>\n",
              "    </tr>\n",
              "  </thead>\n",
              "  <tbody>\n",
              "    <tr>\n",
              "      <th>0</th>\n",
              "      <td>1</td>\n",
              "      <td>1</td>\n",
              "      <td>122.56</td>\n",
              "      <td>10.7</td>\n",
              "      <td>24.7</td>\n",
              "      <td>0</td>\n",
              "      <td>2</td>\n",
              "      <td>24.8</td>\n",
              "      <td>22</td>\n",
              "      <td>6</td>\n",
              "      <td>1010.96</td>\n",
              "      <td>0.02</td>\n",
              "      <td>79.70</td>\n",
              "      <td>63</td>\n",
              "      <td>27.2</td>\n",
              "      <td>0</td>\n",
              "      <td>0</td>\n",
              "      <td>2021</td>\n",
              "      <td>12</td>\n",
              "      <td>10</td>\n",
              "      <td>0</td>\n",
              "      <td>4</td>\n",
              "    </tr>\n",
              "    <tr>\n",
              "      <th>1</th>\n",
              "      <td>1</td>\n",
              "      <td>1</td>\n",
              "      <td>122.56</td>\n",
              "      <td>10.7</td>\n",
              "      <td>24.7</td>\n",
              "      <td>0</td>\n",
              "      <td>2</td>\n",
              "      <td>24.7</td>\n",
              "      <td>22</td>\n",
              "      <td>6</td>\n",
              "      <td>1010.72</td>\n",
              "      <td>0.02</td>\n",
              "      <td>76.93</td>\n",
              "      <td>64</td>\n",
              "      <td>27.2</td>\n",
              "      <td>0</td>\n",
              "      <td>2</td>\n",
              "      <td>2021</td>\n",
              "      <td>12</td>\n",
              "      <td>10</td>\n",
              "      <td>1</td>\n",
              "      <td>4</td>\n",
              "    </tr>\n",
              "    <tr>\n",
              "      <th>2</th>\n",
              "      <td>1</td>\n",
              "      <td>1</td>\n",
              "      <td>122.56</td>\n",
              "      <td>10.7</td>\n",
              "      <td>24.6</td>\n",
              "      <td>0</td>\n",
              "      <td>2</td>\n",
              "      <td>24.6</td>\n",
              "      <td>22</td>\n",
              "      <td>6</td>\n",
              "      <td>1010.47</td>\n",
              "      <td>0.02</td>\n",
              "      <td>74.17</td>\n",
              "      <td>64</td>\n",
              "      <td>27.1</td>\n",
              "      <td>0</td>\n",
              "      <td>2</td>\n",
              "      <td>2021</td>\n",
              "      <td>12</td>\n",
              "      <td>10</td>\n",
              "      <td>2</td>\n",
              "      <td>4</td>\n",
              "    </tr>\n",
              "    <tr>\n",
              "      <th>3</th>\n",
              "      <td>1</td>\n",
              "      <td>1</td>\n",
              "      <td>122.56</td>\n",
              "      <td>10.7</td>\n",
              "      <td>24.6</td>\n",
              "      <td>0</td>\n",
              "      <td>2</td>\n",
              "      <td>24.5</td>\n",
              "      <td>23</td>\n",
              "      <td>6</td>\n",
              "      <td>1010.22</td>\n",
              "      <td>0.02</td>\n",
              "      <td>71.40</td>\n",
              "      <td>65</td>\n",
              "      <td>27.1</td>\n",
              "      <td>0</td>\n",
              "      <td>0</td>\n",
              "      <td>2021</td>\n",
              "      <td>12</td>\n",
              "      <td>10</td>\n",
              "      <td>3</td>\n",
              "      <td>4</td>\n",
              "    </tr>\n",
              "    <tr>\n",
              "      <th>4</th>\n",
              "      <td>1</td>\n",
              "      <td>1</td>\n",
              "      <td>122.56</td>\n",
              "      <td>10.7</td>\n",
              "      <td>24.6</td>\n",
              "      <td>0</td>\n",
              "      <td>2</td>\n",
              "      <td>24.8</td>\n",
              "      <td>22</td>\n",
              "      <td>6</td>\n",
              "      <td>1009.57</td>\n",
              "      <td>0.03</td>\n",
              "      <td>72.53</td>\n",
              "      <td>63</td>\n",
              "      <td>27.1</td>\n",
              "      <td>0</td>\n",
              "      <td>2</td>\n",
              "      <td>2021</td>\n",
              "      <td>12</td>\n",
              "      <td>10</td>\n",
              "      <td>4</td>\n",
              "      <td>4</td>\n",
              "    </tr>\n",
              "  </tbody>\n",
              "</table>\n",
              "</div>\n",
              "      <button class=\"colab-df-convert\" onclick=\"convertToInteractive('df-48ecf507-7012-48ce-865b-cbef7d0ed539')\"\n",
              "              title=\"Convert this dataframe to an interactive table.\"\n",
              "              style=\"display:none;\">\n",
              "        \n",
              "  <svg xmlns=\"http://www.w3.org/2000/svg\" height=\"24px\"viewBox=\"0 0 24 24\"\n",
              "       width=\"24px\">\n",
              "    <path d=\"M0 0h24v24H0V0z\" fill=\"none\"/>\n",
              "    <path d=\"M18.56 5.44l.94 2.06.94-2.06 2.06-.94-2.06-.94-.94-2.06-.94 2.06-2.06.94zm-11 1L8.5 8.5l.94-2.06 2.06-.94-2.06-.94L8.5 2.5l-.94 2.06-2.06.94zm10 10l.94 2.06.94-2.06 2.06-.94-2.06-.94-.94-2.06-.94 2.06-2.06.94z\"/><path d=\"M17.41 7.96l-1.37-1.37c-.4-.4-.92-.59-1.43-.59-.52 0-1.04.2-1.43.59L10.3 9.45l-7.72 7.72c-.78.78-.78 2.05 0 2.83L4 21.41c.39.39.9.59 1.41.59.51 0 1.02-.2 1.41-.59l7.78-7.78 2.81-2.81c.8-.78.8-2.07 0-2.86zM5.41 20L4 18.59l7.72-7.72 1.47 1.35L5.41 20z\"/>\n",
              "  </svg>\n",
              "      </button>\n",
              "      \n",
              "  <style>\n",
              "    .colab-df-container {\n",
              "      display:flex;\n",
              "      flex-wrap:wrap;\n",
              "      gap: 12px;\n",
              "    }\n",
              "\n",
              "    .colab-df-convert {\n",
              "      background-color: #E8F0FE;\n",
              "      border: none;\n",
              "      border-radius: 50%;\n",
              "      cursor: pointer;\n",
              "      display: none;\n",
              "      fill: #1967D2;\n",
              "      height: 32px;\n",
              "      padding: 0 0 0 0;\n",
              "      width: 32px;\n",
              "    }\n",
              "\n",
              "    .colab-df-convert:hover {\n",
              "      background-color: #E2EBFA;\n",
              "      box-shadow: 0px 1px 2px rgba(60, 64, 67, 0.3), 0px 1px 3px 1px rgba(60, 64, 67, 0.15);\n",
              "      fill: #174EA6;\n",
              "    }\n",
              "\n",
              "    [theme=dark] .colab-df-convert {\n",
              "      background-color: #3B4455;\n",
              "      fill: #D2E3FC;\n",
              "    }\n",
              "\n",
              "    [theme=dark] .colab-df-convert:hover {\n",
              "      background-color: #434B5C;\n",
              "      box-shadow: 0px 1px 3px 1px rgba(0, 0, 0, 0.15);\n",
              "      filter: drop-shadow(0px 1px 2px rgba(0, 0, 0, 0.3));\n",
              "      fill: #FFFFFF;\n",
              "    }\n",
              "  </style>\n",
              "\n",
              "      <script>\n",
              "        const buttonEl =\n",
              "          document.querySelector('#df-48ecf507-7012-48ce-865b-cbef7d0ed539 button.colab-df-convert');\n",
              "        buttonEl.style.display =\n",
              "          google.colab.kernel.accessAllowed ? 'block' : 'none';\n",
              "\n",
              "        async function convertToInteractive(key) {\n",
              "          const element = document.querySelector('#df-48ecf507-7012-48ce-865b-cbef7d0ed539');\n",
              "          const dataTable =\n",
              "            await google.colab.kernel.invokeFunction('convertToInteractive',\n",
              "                                                     [key], {});\n",
              "          if (!dataTable) return;\n",
              "\n",
              "          const docLinkHtml = 'Like what you see? Visit the ' +\n",
              "            '<a target=\"_blank\" href=https://colab.research.google.com/notebooks/data_table.ipynb>data table notebook</a>'\n",
              "            + ' to learn more about interactive tables.';\n",
              "          element.innerHTML = '';\n",
              "          dataTable['output_type'] = 'display_data';\n",
              "          await google.colab.output.renderOutput(dataTable, element);\n",
              "          const docLink = document.createElement('div');\n",
              "          docLink.innerHTML = docLinkHtml;\n",
              "          element.appendChild(docLink);\n",
              "        }\n",
              "      </script>\n",
              "    </div>\n",
              "  </div>\n",
              "  "
            ],
            "text/plain": [
              "   name  country  longitude  latitude  ...  month  day  hour  dayOfWeek\n",
              "0     1        1     122.56      10.7  ...     12   10     0          4\n",
              "1     1        1     122.56      10.7  ...     12   10     1          4\n",
              "2     1        1     122.56      10.7  ...     12   10     2          4\n",
              "3     1        1     122.56      10.7  ...     12   10     3          4\n",
              "4     1        1     122.56      10.7  ...     12   10     4          4\n",
              "\n",
              "[5 rows x 22 columns]"
            ]
          },
          "metadata": {},
          "execution_count": 19
        }
      ],
      "source": [
        "df.drop(columns=['region', 'region_is_missing', 'name_is_missing', 'country_is_missing', 'condition_is_missing', 'wind_dir_is_missing'], inplace=True, axis=1)\n",
        "\n",
        "df.head()"
      ]
    },
    {
      "cell_type": "markdown",
      "metadata": {
        "id": "0jashT4ADXIM"
      },
      "source": [
        "### Train and Test Sets"
      ]
    },
    {
      "cell_type": "code",
      "source": [
        "HORIZON = 1\n",
        "WINDOW = 7\n",
        "\n",
        "for i in range(WINDOW): # Shift values for each step in WINDOW_SIZE\n",
        "    df[f\"precipitation+{i+1}\"] = df[\"precipitation\"].shift(periods=i+1)\n",
        "df.head()"
      ],
      "metadata": {
        "colab": {
          "base_uri": "https://localhost:8080/",
          "height": 270
        },
        "id": "0Bq7n882rZvO",
        "outputId": "44f0319d-5736-439c-e610-03223af94035"
      },
      "execution_count": 20,
      "outputs": [
        {
          "output_type": "execute_result",
          "data": {
            "text/html": [
              "\n",
              "  <div id=\"df-7acf858b-a59c-4e15-ac15-c493690e6798\">\n",
              "    <div class=\"colab-df-container\">\n",
              "      <div>\n",
              "<style scoped>\n",
              "    .dataframe tbody tr th:only-of-type {\n",
              "        vertical-align: middle;\n",
              "    }\n",
              "\n",
              "    .dataframe tbody tr th {\n",
              "        vertical-align: top;\n",
              "    }\n",
              "\n",
              "    .dataframe thead th {\n",
              "        text-align: right;\n",
              "    }\n",
              "</style>\n",
              "<table border=\"1\" class=\"dataframe\">\n",
              "  <thead>\n",
              "    <tr style=\"text-align: right;\">\n",
              "      <th></th>\n",
              "      <th>name</th>\n",
              "      <th>country</th>\n",
              "      <th>longitude</th>\n",
              "      <th>latitude</th>\n",
              "      <th>temp_c</th>\n",
              "      <th>is_day</th>\n",
              "      <th>condition</th>\n",
              "      <th>wind_kph</th>\n",
              "      <th>wind_degree</th>\n",
              "      <th>wind_dir</th>\n",
              "      <th>air_pressure</th>\n",
              "      <th>precipitation</th>\n",
              "      <th>relative_humidity</th>\n",
              "      <th>cloud</th>\n",
              "      <th>feelslike_c</th>\n",
              "      <th>will_it_rain</th>\n",
              "      <th>chance_of_rain</th>\n",
              "      <th>year</th>\n",
              "      <th>month</th>\n",
              "      <th>day</th>\n",
              "      <th>hour</th>\n",
              "      <th>dayOfWeek</th>\n",
              "      <th>precipitation+1</th>\n",
              "      <th>precipitation+2</th>\n",
              "      <th>precipitation+3</th>\n",
              "      <th>precipitation+4</th>\n",
              "      <th>precipitation+5</th>\n",
              "      <th>precipitation+6</th>\n",
              "      <th>precipitation+7</th>\n",
              "    </tr>\n",
              "  </thead>\n",
              "  <tbody>\n",
              "    <tr>\n",
              "      <th>0</th>\n",
              "      <td>1</td>\n",
              "      <td>1</td>\n",
              "      <td>122.56</td>\n",
              "      <td>10.7</td>\n",
              "      <td>24.7</td>\n",
              "      <td>0</td>\n",
              "      <td>2</td>\n",
              "      <td>24.8</td>\n",
              "      <td>22</td>\n",
              "      <td>6</td>\n",
              "      <td>1010.96</td>\n",
              "      <td>0.02</td>\n",
              "      <td>79.70</td>\n",
              "      <td>63</td>\n",
              "      <td>27.2</td>\n",
              "      <td>0</td>\n",
              "      <td>0</td>\n",
              "      <td>2021</td>\n",
              "      <td>12</td>\n",
              "      <td>10</td>\n",
              "      <td>0</td>\n",
              "      <td>4</td>\n",
              "      <td>NaN</td>\n",
              "      <td>NaN</td>\n",
              "      <td>NaN</td>\n",
              "      <td>NaN</td>\n",
              "      <td>NaN</td>\n",
              "      <td>NaN</td>\n",
              "      <td>NaN</td>\n",
              "    </tr>\n",
              "    <tr>\n",
              "      <th>1</th>\n",
              "      <td>1</td>\n",
              "      <td>1</td>\n",
              "      <td>122.56</td>\n",
              "      <td>10.7</td>\n",
              "      <td>24.7</td>\n",
              "      <td>0</td>\n",
              "      <td>2</td>\n",
              "      <td>24.7</td>\n",
              "      <td>22</td>\n",
              "      <td>6</td>\n",
              "      <td>1010.72</td>\n",
              "      <td>0.02</td>\n",
              "      <td>76.93</td>\n",
              "      <td>64</td>\n",
              "      <td>27.2</td>\n",
              "      <td>0</td>\n",
              "      <td>2</td>\n",
              "      <td>2021</td>\n",
              "      <td>12</td>\n",
              "      <td>10</td>\n",
              "      <td>1</td>\n",
              "      <td>4</td>\n",
              "      <td>0.02</td>\n",
              "      <td>NaN</td>\n",
              "      <td>NaN</td>\n",
              "      <td>NaN</td>\n",
              "      <td>NaN</td>\n",
              "      <td>NaN</td>\n",
              "      <td>NaN</td>\n",
              "    </tr>\n",
              "    <tr>\n",
              "      <th>2</th>\n",
              "      <td>1</td>\n",
              "      <td>1</td>\n",
              "      <td>122.56</td>\n",
              "      <td>10.7</td>\n",
              "      <td>24.6</td>\n",
              "      <td>0</td>\n",
              "      <td>2</td>\n",
              "      <td>24.6</td>\n",
              "      <td>22</td>\n",
              "      <td>6</td>\n",
              "      <td>1010.47</td>\n",
              "      <td>0.02</td>\n",
              "      <td>74.17</td>\n",
              "      <td>64</td>\n",
              "      <td>27.1</td>\n",
              "      <td>0</td>\n",
              "      <td>2</td>\n",
              "      <td>2021</td>\n",
              "      <td>12</td>\n",
              "      <td>10</td>\n",
              "      <td>2</td>\n",
              "      <td>4</td>\n",
              "      <td>0.02</td>\n",
              "      <td>0.02</td>\n",
              "      <td>NaN</td>\n",
              "      <td>NaN</td>\n",
              "      <td>NaN</td>\n",
              "      <td>NaN</td>\n",
              "      <td>NaN</td>\n",
              "    </tr>\n",
              "    <tr>\n",
              "      <th>3</th>\n",
              "      <td>1</td>\n",
              "      <td>1</td>\n",
              "      <td>122.56</td>\n",
              "      <td>10.7</td>\n",
              "      <td>24.6</td>\n",
              "      <td>0</td>\n",
              "      <td>2</td>\n",
              "      <td>24.5</td>\n",
              "      <td>23</td>\n",
              "      <td>6</td>\n",
              "      <td>1010.22</td>\n",
              "      <td>0.02</td>\n",
              "      <td>71.40</td>\n",
              "      <td>65</td>\n",
              "      <td>27.1</td>\n",
              "      <td>0</td>\n",
              "      <td>0</td>\n",
              "      <td>2021</td>\n",
              "      <td>12</td>\n",
              "      <td>10</td>\n",
              "      <td>3</td>\n",
              "      <td>4</td>\n",
              "      <td>0.02</td>\n",
              "      <td>0.02</td>\n",
              "      <td>0.02</td>\n",
              "      <td>NaN</td>\n",
              "      <td>NaN</td>\n",
              "      <td>NaN</td>\n",
              "      <td>NaN</td>\n",
              "    </tr>\n",
              "    <tr>\n",
              "      <th>4</th>\n",
              "      <td>1</td>\n",
              "      <td>1</td>\n",
              "      <td>122.56</td>\n",
              "      <td>10.7</td>\n",
              "      <td>24.6</td>\n",
              "      <td>0</td>\n",
              "      <td>2</td>\n",
              "      <td>24.8</td>\n",
              "      <td>22</td>\n",
              "      <td>6</td>\n",
              "      <td>1009.57</td>\n",
              "      <td>0.03</td>\n",
              "      <td>72.53</td>\n",
              "      <td>63</td>\n",
              "      <td>27.1</td>\n",
              "      <td>0</td>\n",
              "      <td>2</td>\n",
              "      <td>2021</td>\n",
              "      <td>12</td>\n",
              "      <td>10</td>\n",
              "      <td>4</td>\n",
              "      <td>4</td>\n",
              "      <td>0.02</td>\n",
              "      <td>0.02</td>\n",
              "      <td>0.02</td>\n",
              "      <td>0.02</td>\n",
              "      <td>NaN</td>\n",
              "      <td>NaN</td>\n",
              "      <td>NaN</td>\n",
              "    </tr>\n",
              "  </tbody>\n",
              "</table>\n",
              "</div>\n",
              "      <button class=\"colab-df-convert\" onclick=\"convertToInteractive('df-7acf858b-a59c-4e15-ac15-c493690e6798')\"\n",
              "              title=\"Convert this dataframe to an interactive table.\"\n",
              "              style=\"display:none;\">\n",
              "        \n",
              "  <svg xmlns=\"http://www.w3.org/2000/svg\" height=\"24px\"viewBox=\"0 0 24 24\"\n",
              "       width=\"24px\">\n",
              "    <path d=\"M0 0h24v24H0V0z\" fill=\"none\"/>\n",
              "    <path d=\"M18.56 5.44l.94 2.06.94-2.06 2.06-.94-2.06-.94-.94-2.06-.94 2.06-2.06.94zm-11 1L8.5 8.5l.94-2.06 2.06-.94-2.06-.94L8.5 2.5l-.94 2.06-2.06.94zm10 10l.94 2.06.94-2.06 2.06-.94-2.06-.94-.94-2.06-.94 2.06-2.06.94z\"/><path d=\"M17.41 7.96l-1.37-1.37c-.4-.4-.92-.59-1.43-.59-.52 0-1.04.2-1.43.59L10.3 9.45l-7.72 7.72c-.78.78-.78 2.05 0 2.83L4 21.41c.39.39.9.59 1.41.59.51 0 1.02-.2 1.41-.59l7.78-7.78 2.81-2.81c.8-.78.8-2.07 0-2.86zM5.41 20L4 18.59l7.72-7.72 1.47 1.35L5.41 20z\"/>\n",
              "  </svg>\n",
              "      </button>\n",
              "      \n",
              "  <style>\n",
              "    .colab-df-container {\n",
              "      display:flex;\n",
              "      flex-wrap:wrap;\n",
              "      gap: 12px;\n",
              "    }\n",
              "\n",
              "    .colab-df-convert {\n",
              "      background-color: #E8F0FE;\n",
              "      border: none;\n",
              "      border-radius: 50%;\n",
              "      cursor: pointer;\n",
              "      display: none;\n",
              "      fill: #1967D2;\n",
              "      height: 32px;\n",
              "      padding: 0 0 0 0;\n",
              "      width: 32px;\n",
              "    }\n",
              "\n",
              "    .colab-df-convert:hover {\n",
              "      background-color: #E2EBFA;\n",
              "      box-shadow: 0px 1px 2px rgba(60, 64, 67, 0.3), 0px 1px 3px 1px rgba(60, 64, 67, 0.15);\n",
              "      fill: #174EA6;\n",
              "    }\n",
              "\n",
              "    [theme=dark] .colab-df-convert {\n",
              "      background-color: #3B4455;\n",
              "      fill: #D2E3FC;\n",
              "    }\n",
              "\n",
              "    [theme=dark] .colab-df-convert:hover {\n",
              "      background-color: #434B5C;\n",
              "      box-shadow: 0px 1px 3px 1px rgba(0, 0, 0, 0.15);\n",
              "      filter: drop-shadow(0px 1px 2px rgba(0, 0, 0, 0.3));\n",
              "      fill: #FFFFFF;\n",
              "    }\n",
              "  </style>\n",
              "\n",
              "      <script>\n",
              "        const buttonEl =\n",
              "          document.querySelector('#df-7acf858b-a59c-4e15-ac15-c493690e6798 button.colab-df-convert');\n",
              "        buttonEl.style.display =\n",
              "          google.colab.kernel.accessAllowed ? 'block' : 'none';\n",
              "\n",
              "        async function convertToInteractive(key) {\n",
              "          const element = document.querySelector('#df-7acf858b-a59c-4e15-ac15-c493690e6798');\n",
              "          const dataTable =\n",
              "            await google.colab.kernel.invokeFunction('convertToInteractive',\n",
              "                                                     [key], {});\n",
              "          if (!dataTable) return;\n",
              "\n",
              "          const docLinkHtml = 'Like what you see? Visit the ' +\n",
              "            '<a target=\"_blank\" href=https://colab.research.google.com/notebooks/data_table.ipynb>data table notebook</a>'\n",
              "            + ' to learn more about interactive tables.';\n",
              "          element.innerHTML = '';\n",
              "          dataTable['output_type'] = 'display_data';\n",
              "          await google.colab.output.renderOutput(dataTable, element);\n",
              "          const docLink = document.createElement('div');\n",
              "          docLink.innerHTML = docLinkHtml;\n",
              "          element.appendChild(docLink);\n",
              "        }\n",
              "      </script>\n",
              "    </div>\n",
              "  </div>\n",
              "  "
            ],
            "text/plain": [
              "   name  country  longitude  ...  precipitation+5  precipitation+6  precipitation+7\n",
              "0     1        1     122.56  ...              NaN              NaN              NaN\n",
              "1     1        1     122.56  ...              NaN              NaN              NaN\n",
              "2     1        1     122.56  ...              NaN              NaN              NaN\n",
              "3     1        1     122.56  ...              NaN              NaN              NaN\n",
              "4     1        1     122.56  ...              NaN              NaN              NaN\n",
              "\n",
              "[5 rows x 29 columns]"
            ]
          },
          "metadata": {},
          "execution_count": 20
        }
      ]
    },
    {
      "cell_type": "code",
      "execution_count": 21,
      "metadata": {
        "colab": {
          "base_uri": "https://localhost:8080/",
          "height": 270
        },
        "id": "z531RQt9HafZ",
        "outputId": "b0340c92-89a2-4b8f-da87-e2b3705f1aa1"
      },
      "outputs": [
        {
          "output_type": "execute_result",
          "data": {
            "text/html": [
              "\n",
              "  <div id=\"df-430633d7-2f19-444d-8157-9a0c39fbaca4\">\n",
              "    <div class=\"colab-df-container\">\n",
              "      <div>\n",
              "<style scoped>\n",
              "    .dataframe tbody tr th:only-of-type {\n",
              "        vertical-align: middle;\n",
              "    }\n",
              "\n",
              "    .dataframe tbody tr th {\n",
              "        vertical-align: top;\n",
              "    }\n",
              "\n",
              "    .dataframe thead th {\n",
              "        text-align: right;\n",
              "    }\n",
              "</style>\n",
              "<table border=\"1\" class=\"dataframe\">\n",
              "  <thead>\n",
              "    <tr style=\"text-align: right;\">\n",
              "      <th></th>\n",
              "      <th>name</th>\n",
              "      <th>country</th>\n",
              "      <th>longitude</th>\n",
              "      <th>latitude</th>\n",
              "      <th>temp_c</th>\n",
              "      <th>is_day</th>\n",
              "      <th>condition</th>\n",
              "      <th>wind_kph</th>\n",
              "      <th>wind_degree</th>\n",
              "      <th>wind_dir</th>\n",
              "      <th>air_pressure</th>\n",
              "      <th>relative_humidity</th>\n",
              "      <th>cloud</th>\n",
              "      <th>feelslike_c</th>\n",
              "      <th>will_it_rain</th>\n",
              "      <th>chance_of_rain</th>\n",
              "      <th>year</th>\n",
              "      <th>month</th>\n",
              "      <th>day</th>\n",
              "      <th>hour</th>\n",
              "      <th>dayOfWeek</th>\n",
              "      <th>precipitation+1</th>\n",
              "      <th>precipitation+2</th>\n",
              "      <th>precipitation+3</th>\n",
              "      <th>precipitation+4</th>\n",
              "      <th>precipitation+5</th>\n",
              "      <th>precipitation+6</th>\n",
              "      <th>precipitation+7</th>\n",
              "    </tr>\n",
              "  </thead>\n",
              "  <tbody>\n",
              "    <tr>\n",
              "      <th>7</th>\n",
              "      <td>1.0</td>\n",
              "      <td>1.0</td>\n",
              "      <td>122.559998</td>\n",
              "      <td>10.7</td>\n",
              "      <td>25.500000</td>\n",
              "      <td>1.0</td>\n",
              "      <td>9.0</td>\n",
              "      <td>27.500000</td>\n",
              "      <td>23.0</td>\n",
              "      <td>6.0</td>\n",
              "      <td>1008.340027</td>\n",
              "      <td>76.570000</td>\n",
              "      <td>64.0</td>\n",
              "      <td>28.299999</td>\n",
              "      <td>0.0</td>\n",
              "      <td>1.0</td>\n",
              "      <td>2021.0</td>\n",
              "      <td>12.0</td>\n",
              "      <td>10.0</td>\n",
              "      <td>7.0</td>\n",
              "      <td>4.0</td>\n",
              "      <td>0.05</td>\n",
              "      <td>0.04</td>\n",
              "      <td>0.03</td>\n",
              "      <td>0.02</td>\n",
              "      <td>0.02</td>\n",
              "      <td>0.02</td>\n",
              "      <td>0.02</td>\n",
              "    </tr>\n",
              "    <tr>\n",
              "      <th>8</th>\n",
              "      <td>1.0</td>\n",
              "      <td>1.0</td>\n",
              "      <td>122.559998</td>\n",
              "      <td>10.7</td>\n",
              "      <td>26.400000</td>\n",
              "      <td>1.0</td>\n",
              "      <td>2.0</td>\n",
              "      <td>29.400000</td>\n",
              "      <td>24.0</td>\n",
              "      <td>6.0</td>\n",
              "      <td>1008.409973</td>\n",
              "      <td>78.330002</td>\n",
              "      <td>67.0</td>\n",
              "      <td>29.500000</td>\n",
              "      <td>0.0</td>\n",
              "      <td>2.0</td>\n",
              "      <td>2021.0</td>\n",
              "      <td>12.0</td>\n",
              "      <td>10.0</td>\n",
              "      <td>8.0</td>\n",
              "      <td>4.0</td>\n",
              "      <td>0.05</td>\n",
              "      <td>0.05</td>\n",
              "      <td>0.04</td>\n",
              "      <td>0.03</td>\n",
              "      <td>0.02</td>\n",
              "      <td>0.02</td>\n",
              "      <td>0.02</td>\n",
              "    </tr>\n",
              "    <tr>\n",
              "      <th>9</th>\n",
              "      <td>1.0</td>\n",
              "      <td>1.0</td>\n",
              "      <td>122.559998</td>\n",
              "      <td>10.7</td>\n",
              "      <td>27.200001</td>\n",
              "      <td>1.0</td>\n",
              "      <td>2.0</td>\n",
              "      <td>31.299999</td>\n",
              "      <td>25.0</td>\n",
              "      <td>6.0</td>\n",
              "      <td>1008.479980</td>\n",
              "      <td>80.099998</td>\n",
              "      <td>70.0</td>\n",
              "      <td>30.700001</td>\n",
              "      <td>0.0</td>\n",
              "      <td>0.0</td>\n",
              "      <td>2021.0</td>\n",
              "      <td>12.0</td>\n",
              "      <td>10.0</td>\n",
              "      <td>9.0</td>\n",
              "      <td>4.0</td>\n",
              "      <td>0.05</td>\n",
              "      <td>0.05</td>\n",
              "      <td>0.05</td>\n",
              "      <td>0.04</td>\n",
              "      <td>0.03</td>\n",
              "      <td>0.02</td>\n",
              "      <td>0.02</td>\n",
              "    </tr>\n",
              "    <tr>\n",
              "      <th>10</th>\n",
              "      <td>1.0</td>\n",
              "      <td>1.0</td>\n",
              "      <td>122.559998</td>\n",
              "      <td>10.7</td>\n",
              "      <td>27.700001</td>\n",
              "      <td>1.0</td>\n",
              "      <td>2.0</td>\n",
              "      <td>31.700001</td>\n",
              "      <td>26.0</td>\n",
              "      <td>6.0</td>\n",
              "      <td>1009.020020</td>\n",
              "      <td>80.599998</td>\n",
              "      <td>73.0</td>\n",
              "      <td>31.600000</td>\n",
              "      <td>0.0</td>\n",
              "      <td>2.0</td>\n",
              "      <td>2021.0</td>\n",
              "      <td>12.0</td>\n",
              "      <td>10.0</td>\n",
              "      <td>10.0</td>\n",
              "      <td>4.0</td>\n",
              "      <td>0.05</td>\n",
              "      <td>0.05</td>\n",
              "      <td>0.05</td>\n",
              "      <td>0.05</td>\n",
              "      <td>0.04</td>\n",
              "      <td>0.03</td>\n",
              "      <td>0.02</td>\n",
              "    </tr>\n",
              "    <tr>\n",
              "      <th>11</th>\n",
              "      <td>1.0</td>\n",
              "      <td>1.0</td>\n",
              "      <td>122.559998</td>\n",
              "      <td>10.7</td>\n",
              "      <td>28.299999</td>\n",
              "      <td>1.0</td>\n",
              "      <td>2.0</td>\n",
              "      <td>32.000000</td>\n",
              "      <td>28.0</td>\n",
              "      <td>6.0</td>\n",
              "      <td>1009.559998</td>\n",
              "      <td>81.099998</td>\n",
              "      <td>75.0</td>\n",
              "      <td>32.500000</td>\n",
              "      <td>0.0</td>\n",
              "      <td>2.0</td>\n",
              "      <td>2021.0</td>\n",
              "      <td>12.0</td>\n",
              "      <td>10.0</td>\n",
              "      <td>11.0</td>\n",
              "      <td>4.0</td>\n",
              "      <td>0.07</td>\n",
              "      <td>0.05</td>\n",
              "      <td>0.05</td>\n",
              "      <td>0.05</td>\n",
              "      <td>0.05</td>\n",
              "      <td>0.04</td>\n",
              "      <td>0.03</td>\n",
              "    </tr>\n",
              "  </tbody>\n",
              "</table>\n",
              "</div>\n",
              "      <button class=\"colab-df-convert\" onclick=\"convertToInteractive('df-430633d7-2f19-444d-8157-9a0c39fbaca4')\"\n",
              "              title=\"Convert this dataframe to an interactive table.\"\n",
              "              style=\"display:none;\">\n",
              "        \n",
              "  <svg xmlns=\"http://www.w3.org/2000/svg\" height=\"24px\"viewBox=\"0 0 24 24\"\n",
              "       width=\"24px\">\n",
              "    <path d=\"M0 0h24v24H0V0z\" fill=\"none\"/>\n",
              "    <path d=\"M18.56 5.44l.94 2.06.94-2.06 2.06-.94-2.06-.94-.94-2.06-.94 2.06-2.06.94zm-11 1L8.5 8.5l.94-2.06 2.06-.94-2.06-.94L8.5 2.5l-.94 2.06-2.06.94zm10 10l.94 2.06.94-2.06 2.06-.94-2.06-.94-.94-2.06-.94 2.06-2.06.94z\"/><path d=\"M17.41 7.96l-1.37-1.37c-.4-.4-.92-.59-1.43-.59-.52 0-1.04.2-1.43.59L10.3 9.45l-7.72 7.72c-.78.78-.78 2.05 0 2.83L4 21.41c.39.39.9.59 1.41.59.51 0 1.02-.2 1.41-.59l7.78-7.78 2.81-2.81c.8-.78.8-2.07 0-2.86zM5.41 20L4 18.59l7.72-7.72 1.47 1.35L5.41 20z\"/>\n",
              "  </svg>\n",
              "      </button>\n",
              "      \n",
              "  <style>\n",
              "    .colab-df-container {\n",
              "      display:flex;\n",
              "      flex-wrap:wrap;\n",
              "      gap: 12px;\n",
              "    }\n",
              "\n",
              "    .colab-df-convert {\n",
              "      background-color: #E8F0FE;\n",
              "      border: none;\n",
              "      border-radius: 50%;\n",
              "      cursor: pointer;\n",
              "      display: none;\n",
              "      fill: #1967D2;\n",
              "      height: 32px;\n",
              "      padding: 0 0 0 0;\n",
              "      width: 32px;\n",
              "    }\n",
              "\n",
              "    .colab-df-convert:hover {\n",
              "      background-color: #E2EBFA;\n",
              "      box-shadow: 0px 1px 2px rgba(60, 64, 67, 0.3), 0px 1px 3px 1px rgba(60, 64, 67, 0.15);\n",
              "      fill: #174EA6;\n",
              "    }\n",
              "\n",
              "    [theme=dark] .colab-df-convert {\n",
              "      background-color: #3B4455;\n",
              "      fill: #D2E3FC;\n",
              "    }\n",
              "\n",
              "    [theme=dark] .colab-df-convert:hover {\n",
              "      background-color: #434B5C;\n",
              "      box-shadow: 0px 1px 3px 1px rgba(0, 0, 0, 0.15);\n",
              "      filter: drop-shadow(0px 1px 2px rgba(0, 0, 0, 0.3));\n",
              "      fill: #FFFFFF;\n",
              "    }\n",
              "  </style>\n",
              "\n",
              "      <script>\n",
              "        const buttonEl =\n",
              "          document.querySelector('#df-430633d7-2f19-444d-8157-9a0c39fbaca4 button.colab-df-convert');\n",
              "        buttonEl.style.display =\n",
              "          google.colab.kernel.accessAllowed ? 'block' : 'none';\n",
              "\n",
              "        async function convertToInteractive(key) {\n",
              "          const element = document.querySelector('#df-430633d7-2f19-444d-8157-9a0c39fbaca4');\n",
              "          const dataTable =\n",
              "            await google.colab.kernel.invokeFunction('convertToInteractive',\n",
              "                                                     [key], {});\n",
              "          if (!dataTable) return;\n",
              "\n",
              "          const docLinkHtml = 'Like what you see? Visit the ' +\n",
              "            '<a target=\"_blank\" href=https://colab.research.google.com/notebooks/data_table.ipynb>data table notebook</a>'\n",
              "            + ' to learn more about interactive tables.';\n",
              "          element.innerHTML = '';\n",
              "          dataTable['output_type'] = 'display_data';\n",
              "          await google.colab.output.renderOutput(dataTable, element);\n",
              "          const docLink = document.createElement('div');\n",
              "          docLink.innerHTML = docLinkHtml;\n",
              "          element.appendChild(docLink);\n",
              "        }\n",
              "      </script>\n",
              "    </div>\n",
              "  </div>\n",
              "  "
            ],
            "text/plain": [
              "    name  country  ...  precipitation+6  precipitation+7\n",
              "7    1.0      1.0  ...             0.02             0.02\n",
              "8    1.0      1.0  ...             0.02             0.02\n",
              "9    1.0      1.0  ...             0.02             0.02\n",
              "10   1.0      1.0  ...             0.03             0.02\n",
              "11   1.0      1.0  ...             0.04             0.03\n",
              "\n",
              "[5 rows x 28 columns]"
            ]
          },
          "metadata": {},
          "execution_count": 21
        }
      ],
      "source": [
        "X = df.dropna().drop(\"precipitation\", axis=1).astype(np.float32) \n",
        "y = df.dropna()[\"precipitation\"].astype(np.float32)\n",
        "X.head()"
      ]
    },
    {
      "cell_type": "code",
      "execution_count": 22,
      "metadata": {
        "colab": {
          "base_uri": "https://localhost:8080/"
        },
        "id": "AFirdVtpHsb-",
        "outputId": "5089aff1-f112-4f0c-cda4-613d1061eb67"
      },
      "outputs": [
        {
          "output_type": "execute_result",
          "data": {
            "text/plain": [
              "7     0.05\n",
              "8     0.05\n",
              "9     0.05\n",
              "10    0.07\n",
              "11    0.09\n",
              "Name: precipitation, dtype: float32"
            ]
          },
          "metadata": {},
          "execution_count": 22
        }
      ],
      "source": [
        "y.head()"
      ]
    },
    {
      "cell_type": "code",
      "execution_count": 23,
      "metadata": {
        "colab": {
          "base_uri": "https://localhost:8080/"
        },
        "id": "AxuiCiy0H3yQ",
        "outputId": "2376fb0b-7303-40ee-c2db-bebd2989d23a"
      },
      "outputs": [
        {
          "output_type": "execute_result",
          "data": {
            "text/plain": [
              "(416, 416, 105, 105, 416, 105)"
            ]
          },
          "metadata": {},
          "execution_count": 23
        }
      ],
      "source": [
        "# Make train and test sets\n",
        "split_size = int(len(X) * 0.8)\n",
        "X_train, y_train = X[:split_size], y[:split_size]\n",
        "X_columns = X.columns\n",
        "X_time_train, X_time_test = x_time[:split_size], x_time[split_size:]\n",
        "X_time_test = X_time_test[7:]\n",
        "X_test, y_test = X[split_size:], y[split_size:]\n",
        "len(X_train), len(y_train), len(X_test), len(y_test), len(X_time_train), len(X_time_test)"
      ]
    },
    {
      "cell_type": "markdown",
      "metadata": {
        "id": "PTsSLqVTH-Qm"
      },
      "source": [
        "### Baseline model"
      ]
    },
    {
      "cell_type": "code",
      "execution_count": 24,
      "metadata": {
        "colab": {
          "base_uri": "https://localhost:8080/"
        },
        "id": "NZp1oNuYIx5A",
        "outputId": "cff32262-b2b5-49b8-a893-406e90b3436a"
      },
      "outputs": [
        {
          "output_type": "execute_result",
          "data": {
            "text/plain": [
              "(423    0.08\n",
              " 424    0.06\n",
              " 425    0.03\n",
              " 426    0.01\n",
              " 427    0.01\n",
              " 428    0.00\n",
              " 429    0.00\n",
              " 430    0.00\n",
              " 431    0.00\n",
              " 432    0.00\n",
              " Name: precipitation, dtype: float32, 517    0.55\n",
              " 518    0.37\n",
              " 519    0.18\n",
              " 520    0.19\n",
              " 521    0.19\n",
              " 522    0.19\n",
              " 523    0.36\n",
              " 524    0.52\n",
              " 525    0.68\n",
              " 526    0.50\n",
              " Name: precipitation, dtype: float32)"
            ]
          },
          "metadata": {},
          "execution_count": 24
        }
      ],
      "source": [
        "# Create a naïve forecast\n",
        "naive_forecast = y_test[:-1] # Naïve forecast equals every value excluding the last value\n",
        "naive_forecast[:10], naive_forecast[-10:] # View frist 10 and last 10 "
      ]
    },
    {
      "cell_type": "code",
      "execution_count": 25,
      "metadata": {
        "id": "xuimtq0qJWkN"
      },
      "outputs": [],
      "source": [
        "def plot_time_series(timesteps, values, format='.', start=0, end=None, label=None):\n",
        "  \"\"\"\n",
        "  Plots a timesteps (a series of points in time) against values (a series of values across timesteps).\n",
        "  \n",
        "  Parameters\n",
        "  ---------\n",
        "  timesteps : array of timesteps\n",
        "  values : array of values across time\n",
        "  format : style of plot, default \".\"\n",
        "  start : where to start the plot (setting a value will index from start of timesteps & values)\n",
        "  end : where to end the plot (setting a value will index from end of timesteps & values)\n",
        "  label : label to show on plot of values\n",
        "  \"\"\"\n",
        "  # Plot the series\n",
        "  plt.plot(timesteps[start:end], values[start:end], format, label=label)\n",
        "  plt.xlabel(\"Time\")\n",
        "  plt.ylabel(\"Hourly Rain Precipitation\")\n",
        "  if label:\n",
        "    plt.legend(fontsize=14) # make label bigger\n",
        "  plt.grid(True)"
      ]
    },
    {
      "cell_type": "code",
      "execution_count": 26,
      "metadata": {
        "colab": {
          "base_uri": "https://localhost:8080/",
          "height": 442
        },
        "id": "m-upRvqnJgdE",
        "outputId": "6c907977-7055-4b96-ad6e-1db3deefcdf6"
      },
      "outputs": [
        {
          "output_type": "display_data",
          "data": {
            "image/png": "[encoded data removed]",
            "text/plain": [
              "<Figure size 720x504 with 1 Axes>"
            ]
          },
          "metadata": {
            "needs_background": "light"
          }
        }
      ],
      "source": [
        "# Try out our plotting function\n",
        "plt.figure(figsize=(10, 7))\n",
        "plot_time_series(timesteps=X_time_train, values=y_train, label=\"Train data\")\n",
        "plot_time_series(timesteps=X_time_test, values=y_test, label=\"Test data\")"
      ]
    },
    {
      "cell_type": "code",
      "execution_count": 27,
      "metadata": {
        "colab": {
          "base_uri": "https://localhost:8080/",
          "height": 442
        },
        "id": "pm3P1lSQJkWQ",
        "outputId": "4319d066-8a45-43e4-abb6-bb6a577862fc"
      },
      "outputs": [
        {
          "output_type": "display_data",
          "data": {
            "image/png": "[encoded data removed]",
            "text/plain": [
              "<Figure size 720x504 with 1 Axes>"
            ]
          },
          "metadata": {
            "needs_background": "light"
          }
        }
      ],
      "source": [
        "# Plot naive forecast\n",
        "plt.figure(figsize=(10, 7))\n",
        "plot_time_series(timesteps=X_time_train, values=y_train, label=\"Train data\")\n",
        "plot_time_series(timesteps=X_time_test, values=y_test, label=\"Test data\")\n",
        "plot_time_series(timesteps=X_time_test[1:], values=naive_forecast, format=\"-\", label=\"Naive forecast\");"
      ]
    },
    {
      "cell_type": "code",
      "execution_count": 28,
      "metadata": {
        "colab": {
          "base_uri": "https://localhost:8080/",
          "height": 442
        },
        "id": "m4ErFloxLSqN",
        "outputId": "97ad539d-4d89-42bc-fc4a-3abe4c68cb0c"
      },
      "outputs": [
        {
          "output_type": "display_data",
          "data": {
            "image/png": "[encoded data removed]",
            "text/plain": [
              "<Figure size 720x504 with 1 Axes>"
            ]
          },
          "metadata": {
            "needs_background": "light"
          }
        }
      ],
      "source": [
        "plt.figure(figsize=(10, 7))\n",
        "offset = 10 # offset the values by 300 timesteps \n",
        "plot_time_series(timesteps=X_time_test,  values=y_test, label=\"Test data\")\n",
        "plot_time_series(timesteps=X_time_test[1:], values=naive_forecast, format=\"-\",  label=\"Naive forecast\");"
      ]
    },
    {
      "cell_type": "code",
      "execution_count": 29,
      "metadata": {
        "id": "jw7q9e1cNmLt"
      },
      "outputs": [],
      "source": [
        "import tensorflow as tf\n",
        "# MASE implemented courtesy of sktime - https://github.com/alan-turing-institute/sktime/blob/ee7a06843a44f4aaec7582d847e36073a9ab0566/sktime/performance_metrics/forecasting/_functions.py#L16\n",
        "def mean_absolute_scaled_error(y_true, y_pred):\n",
        "  \"\"\"\n",
        "  Implement MASE (assuming no seasonality of data).\n",
        "  \"\"\"\n",
        "  mae = tf.reduce_mean(tf.abs(y_true - y_pred))\n",
        "\n",
        "  # Find MAE of naive forecast (no seasonality)\n",
        "  mae_naive_no_season = tf.reduce_mean(tf.abs(y_true[1:] - y_true[:-1])) # our seasonality is 1 day (hence the shifting of 1 day)\n",
        "\n",
        "  return mae / mae_naive_no_season\n",
        "def evaluate_preds(y_true, y_pred):\n",
        "  # Make sure float32 (for metric calculations)\n",
        "  y_true = tf.cast(y_true, dtype=tf.float32)\n",
        "  y_pred = tf.cast(y_pred, dtype=tf.float32)\n",
        "\n",
        "  # Calculate various metrics\n",
        "  # train_mae = tf.keras.metrics.mean_absolute_error(y_train, )\n",
        "  mae = tf.keras.metrics.mean_absolute_error(y_true, y_pred)\n",
        "  mse = tf.keras.metrics.mean_squared_error(y_true, y_pred) # puts and emphasis on outliers (all errors get squared)\n",
        "  rmse = tf.sqrt(mse)\n",
        "  mape = tf.keras.metrics.mean_absolute_percentage_error(y_true, y_pred)\n",
        "  \n",
        "  return {\"mae\": mae.numpy(),\n",
        "          \"mse\": mse.numpy(),\n",
        "          \"rmse\": rmse.numpy(),\n",
        "          \"mape\": mape.numpy(),}"
      ]
    },
    {
      "cell_type": "code",
      "execution_count": 30,
      "metadata": {
        "colab": {
          "base_uri": "https://localhost:8080/"
        },
        "id": "OmmtERoXNzs-",
        "outputId": "cdcb4a25-5b94-4738-a992-a5f865fea31b"
      },
      "outputs": [
        {
          "output_type": "execute_result",
          "data": {
            "text/plain": [
              "{'mae': 0.14913462, 'mape': 96193.86, 'mse': 0.07065482, 'rmse': 0.26580974}"
            ]
          },
          "metadata": {},
          "execution_count": 30
        }
      ],
      "source": [
        "naive_results = evaluate_preds(y_true=y_test[1:],\n",
        "                               y_pred=naive_forecast)\n",
        "naive_results"
      ]
    },
    {
      "cell_type": "markdown",
      "metadata": {
        "id": "NkcXa6IcM3s3"
      },
      "source": [
        "### RandomForestRegressor"
      ]
    },
    {
      "cell_type": "code",
      "execution_count": 31,
      "metadata": {
        "colab": {
          "base_uri": "https://localhost:8080/"
        },
        "id": "deZjFqD0Ljmg",
        "outputId": "2b7df08f-fb9b-4497-b0a3-e47a613608b5"
      },
      "outputs": [
        {
          "output_type": "execute_result",
          "data": {
            "text/plain": [
              "RandomForestRegressor(n_jobs=-1)"
            ]
          },
          "metadata": {},
          "execution_count": 31
        }
      ],
      "source": [
        "# Reducing data using max_samples\n",
        "from sklearn.ensemble import RandomForestRegressor\n",
        "\n",
        "np.random.seed(42)\n",
        "model = RandomForestRegressor(\n",
        "    n_jobs=-1,\n",
        "    # random_state=42,\n",
        "    # max_samples=10000, #minimizes the data\n",
        ")\n",
        "\n",
        "X_train = np.asarray(X_train)\n",
        "y_train = np.asarray(y_train)\n",
        "model.fit(X_train, y_train)"
      ]
    },
    {
      "cell_type": "code",
      "execution_count": 32,
      "metadata": {
        "colab": {
          "base_uri": "https://localhost:8080/"
        },
        "id": "p-3Whi83T5iY",
        "outputId": "9e3623b3-5156-4b04-c333-9fdc709198f4"
      },
      "outputs": [
        {
          "output_type": "execute_result",
          "data": {
            "text/plain": [
              "((416, 28), (416,), (105, 28), (105,))"
            ]
          },
          "metadata": {},
          "execution_count": 32
        }
      ],
      "source": [
        "X_train.shape, y_train.shape, X_test.shape, y_test.shape"
      ]
    },
    {
      "cell_type": "code",
      "execution_count": 33,
      "metadata": {
        "colab": {
          "base_uri": "https://localhost:8080/"
        },
        "id": "KnKFRVj2M7zk",
        "outputId": "bdca0db5-ece6-4045-8d11-664d07656e4d"
      },
      "outputs": [
        {
          "output_type": "stream",
          "name": "stderr",
          "text": [
            "/usr/local/lib/python3.7/dist-packages/sklearn/base.py:444: UserWarning: X has feature names, but RandomForestRegressor was fitted without feature names\n",
            "  f\"X has feature names, but {self.__class__.__name__} was fitted without\"\n"
          ]
        },
        {
          "output_type": "execute_result",
          "data": {
            "text/plain": [
              "{'mae': 0.2478200015287314,\n",
              " 'mape': 1749970117785.0205,\n",
              " 'mse': 0.2494405640881407,\n",
              " 'rmse': 0.499440250768939,\n",
              " 'train_mae': 0.021465384258637924,\n",
              " 'train_mape': 4686558362135.72,\n",
              " 'train_mse': 0.01312147146056339,\n",
              " 'train_rmse': 0.11454899153010205}"
            ]
          },
          "metadata": {},
          "execution_count": 33
        }
      ],
      "source": [
        "from tensorflow.python.ops.gen_math_ops import sqrt\n",
        "from sklearn.metrics import mean_absolute_error, mean_squared_error, mean_absolute_percentage_error\n",
        "\n",
        "def show_scores_sklearn(model):\n",
        "    train_preds = model.predict(X_train)\n",
        "    val_preds = model.predict(X_test) \n",
        "\n",
        "    train_mae =  mean_absolute_error(y_train, train_preds)\n",
        "    mae = mean_absolute_error(y_test, val_preds)\n",
        "    train_mse = mean_squared_error(y_train, train_preds)\n",
        "    mse = mean_squared_error(y_test, val_preds)\n",
        "    train_rmse = sqrt(train_mse)\n",
        "    rmse = sqrt(mse)\n",
        "    train_mape = mean_absolute_percentage_error(y_train, train_preds)\n",
        "    mape = mean_absolute_percentage_error(y_test, val_preds)\n",
        "    return {\"mae\": mae,\n",
        "            \"train_mae\": train_mae,\n",
        "          \"mse\": mse,\n",
        "          \"train_mse\": train_mse,\n",
        "          \"rmse\": rmse.numpy(),\n",
        "          \"train_rmse\": train_rmse.numpy(),\n",
        "          \"mape\": mape,\n",
        "          \"train_mape\": train_mape\n",
        "          }\n",
        "\n",
        "# Score model\n",
        "random_forest = show_scores_sklearn(model)\n",
        "random_forest"
      ]
    },
    {
      "cell_type": "code",
      "execution_count": 34,
      "metadata": {
        "colab": {
          "base_uri": "https://localhost:8080/"
        },
        "id": "SIaSfLx0sQtj",
        "outputId": "c9550196-cae6-4265-949b-5827fcb8c6d1"
      },
      "outputs": [
        {
          "output_type": "stream",
          "name": "stderr",
          "text": [
            "/usr/local/lib/python3.7/dist-packages/sklearn/base.py:444: UserWarning: X has feature names, but RandomForestRegressor was fitted without feature names\n",
            "  f\"X has feature names, but {self.__class__.__name__} was fitted without\"\n"
          ]
        },
        {
          "output_type": "execute_result",
          "data": {
            "text/plain": [
              "(0.9785382660426064, 0.47496818990773015)"
            ]
          },
          "metadata": {},
          "execution_count": 34
        }
      ],
      "source": [
        "model.score(X_train, y_train), model.score(X_test, y_test)"
      ]
    },
    {
      "cell_type": "code",
      "execution_count": 35,
      "metadata": {
        "colab": {
          "base_uri": "https://localhost:8080/"
        },
        "id": "BxF3iX_jk_aX",
        "outputId": "99f8516d-44d6-44aa-c378-d0aeb4181795"
      },
      "outputs": [
        {
          "output_type": "stream",
          "name": "stderr",
          "text": [
            "/usr/local/lib/python3.7/dist-packages/sklearn/base.py:444: UserWarning: X has feature names, but RandomForestRegressor was fitted without feature names\n",
            "  f\"X has feature names, but {self.__class__.__name__} was fitted without\"\n"
          ]
        },
        {
          "output_type": "execute_result",
          "data": {
            "text/plain": [
              "0.2478200015287314"
            ]
          },
          "metadata": {},
          "execution_count": 35
        }
      ],
      "source": [
        "train_preds = model.predict(X_train)\n",
        "val_preds = model.predict(X_test) \n",
        "\n",
        "mean_absolute_error(y_test, val_preds)"
      ]
    },
    {
      "cell_type": "code",
      "execution_count": 36,
      "metadata": {
        "colab": {
          "base_uri": "https://localhost:8080/"
        },
        "id": "Rq7h01fyNEr3",
        "outputId": "134717dd-4130-40dd-b226-98ce6b8d1cce"
      },
      "outputs": [
        {
          "output_type": "execute_result",
          "data": {
            "text/plain": [
              "{'mae': 0.14913462, 'mape': 96193.86, 'mse': 0.07065482, 'rmse': 0.26580974}"
            ]
          },
          "metadata": {},
          "execution_count": 36
        }
      ],
      "source": [
        "naive_results"
      ]
    },
    {
      "cell_type": "markdown",
      "metadata": {
        "id": "3zfFYdKLsEzr"
      },
      "source": [
        "#### Parameter Tuning"
      ]
    },
    {
      "cell_type": "code",
      "execution_count": 37,
      "metadata": {
        "colab": {
          "base_uri": "https://localhost:8080/"
        },
        "id": "WmZQBQeDsHw-",
        "outputId": "54cf14b4-916f-42ef-ade5-4f75a3a331ba"
      },
      "outputs": [
        {
          "output_type": "stream",
          "name": "stdout",
          "text": [
            "Fitting 5 folds for each of 30 candidates, totalling 150 fits\n"
          ]
        },
        {
          "output_type": "execute_result",
          "data": {
            "text/plain": [
              "RandomizedSearchCV(cv=5, estimator=RandomForestRegressor(n_jobs=-1), n_iter=30,\n",
              "                   param_distributions={'max_depth': [None, 3, 5, 10],\n",
              "                                        'max_features': [0.5, 1, 'sqrt',\n",
              "                                                         'auto'],\n",
              "                                        'max_samples': [332],\n",
              "                                        'min_samples_leaf': array([ 1,  3,  5,  7,  9, 11, 13, 15, 17, 19]),\n",
              "                                        'min_samples_split': array([ 2,  4,  6,  8, 10, 12, 14, 16, 18]),\n",
              "                                        'n_estimators': array([10, 20, 30, 40, 50, 60, 70, 80, 90])},\n",
              "                   verbose=True)"
            ]
          },
          "metadata": {},
          "execution_count": 37
        }
      ],
      "source": [
        "\n",
        "\n",
        "from sklearn.model_selection import RandomizedSearchCV\n",
        "\n",
        "rf_grid = {\n",
        "    'n_estimators': np.arange(10, 100, 10),\n",
        "    'max_depth': [None, 3, 5, 10],\n",
        "    'min_samples_split': np.arange(2, 20, 2),\n",
        "    'min_samples_leaf': np.arange(1, 20, 2),\n",
        "    'max_features': [0.5, 1, 'sqrt', 'auto'],\n",
        "    'max_samples': [332]\n",
        "}\n",
        "\n",
        "np.random.seed(42)\n",
        "#instantiate ranomdized search cv model\n",
        "rs_model = RandomizedSearchCV(\n",
        "    RandomForestRegressor(\n",
        "        n_jobs=-1,\n",
        "    ),\n",
        "    param_distributions=rf_grid,\n",
        "    n_iter=30,\n",
        "    cv=5,\n",
        "    verbose=True\n",
        ")\n",
        "\n",
        "#Fit the randomized search cv model\n",
        "rs_model.fit(X_train, y_train)"
      ]
    },
    {
      "cell_type": "code",
      "execution_count": 38,
      "metadata": {
        "colab": {
          "base_uri": "https://localhost:8080/"
        },
        "id": "GnupHk8-tGtn",
        "outputId": "6bc7cdc9-4554-4f27-b3ec-b41b7b2423d3"
      },
      "outputs": [
        {
          "output_type": "stream",
          "name": "stderr",
          "text": [
            "/usr/local/lib/python3.7/dist-packages/sklearn/base.py:444: UserWarning: X has feature names, but RandomForestRegressor was fitted without feature names\n",
            "  f\"X has feature names, but {self.__class__.__name__} was fitted without\"\n"
          ]
        },
        {
          "output_type": "execute_result",
          "data": {
            "text/plain": [
              "(0.8067216394366622, 0.5712693980343836)"
            ]
          },
          "metadata": {},
          "execution_count": 38
        }
      ],
      "source": [
        "rs_model.score(X_train, y_train), rs_model.score(X_test, y_test)"
      ]
    },
    {
      "cell_type": "code",
      "execution_count": 39,
      "metadata": {
        "colab": {
          "base_uri": "https://localhost:8080/"
        },
        "id": "lKQ6cr-5t1km",
        "outputId": "6d838b62-795a-45e5-fe9d-4b1c79cf2987"
      },
      "outputs": [
        {
          "output_type": "stream",
          "name": "stderr",
          "text": [
            "/usr/local/lib/python3.7/dist-packages/sklearn/base.py:444: UserWarning: X has feature names, but RandomForestRegressor was fitted without feature names\n",
            "  f\"X has feature names, but {self.__class__.__name__} was fitted without\"\n"
          ]
        },
        {
          "output_type": "execute_result",
          "data": {
            "text/plain": [
              "{'mae': 0.2270491824586869,\n",
              " 'mape': 1045875058468.6472,\n",
              " 'mse': 0.20368823591347196,\n",
              " 'rmse': 0.45131833101866353,\n",
              " 'train_mae': 0.062131569636054707,\n",
              " 'train_mape': 7470532577723.051,\n",
              " 'train_mse': 0.11816829418867306,\n",
              " 'train_rmse': 0.3437561551284181}"
            ]
          },
          "metadata": {},
          "execution_count": 39
        }
      ],
      "source": [
        "random_forest_ideal = show_scores_sklearn(rs_model)\n",
        "random_forest_ideal"
      ]
    },
    {
      "cell_type": "code",
      "execution_count": 40,
      "metadata": {
        "id": "YdOeW9pIuCNf"
      },
      "outputs": [],
      "source": [
        "mae = []\n",
        "mape = []\n",
        "mse = []\n",
        "rmse = []"
      ]
    },
    {
      "cell_type": "code",
      "execution_count": 41,
      "metadata": {
        "id": "q4jpobFLuSvA"
      },
      "outputs": [],
      "source": [
        "mae.append(naive_results['mae'])\n",
        "mae.append(random_forest['mae'])\n",
        "mae.append(random_forest_ideal['mae'])\n",
        "\n",
        "mape.append(naive_results['mape'])\n",
        "mape.append(random_forest['mape'])\n",
        "mape.append(random_forest_ideal['mape'])\n",
        "\n",
        "mse.append(naive_results['mse'])\n",
        "mse.append(random_forest['mse'])\n",
        "mse.append(random_forest_ideal['mse'])\n",
        "\n",
        "rmse.append(naive_results['rmse'])\n",
        "rmse.append(random_forest['rmse'])\n",
        "rmse.append(random_forest_ideal['rmse'])"
      ]
    },
    {
      "cell_type": "code",
      "execution_count": 42,
      "metadata": {
        "id": "jZ8iBpjcvdzn"
      },
      "outputs": [],
      "source": [
        "models = []"
      ]
    },
    {
      "cell_type": "code",
      "execution_count": 43,
      "metadata": {
        "id": "Aa2X-OnkvfId"
      },
      "outputs": [],
      "source": [
        "models.append('Naive')\n",
        "models.append('Random Forest')\n",
        "models.append('Random Forest Randomized Search')"
      ]
    },
    {
      "cell_type": "code",
      "execution_count": 44,
      "metadata": {
        "colab": {
          "base_uri": "https://localhost:8080/",
          "height": 277
        },
        "id": "dvZy0y6ruoxR",
        "outputId": "4f3fa5d5-4805-4087-8122-89239b30ba4d"
      },
      "outputs": [
        {
          "output_type": "execute_result",
          "data": {
            "text/html": [
              "\n",
              "  <div id=\"df-67ebec7b-6948-472d-a5db-55417594dda5\">\n",
              "    <div class=\"colab-df-container\">\n",
              "      <div>\n",
              "<style scoped>\n",
              "    .dataframe tbody tr th:only-of-type {\n",
              "        vertical-align: middle;\n",
              "    }\n",
              "\n",
              "    .dataframe tbody tr th {\n",
              "        vertical-align: top;\n",
              "    }\n",
              "\n",
              "    .dataframe thead th {\n",
              "        text-align: right;\n",
              "    }\n",
              "</style>\n",
              "<table border=\"1\" class=\"dataframe\">\n",
              "  <thead>\n",
              "    <tr style=\"text-align: right;\">\n",
              "      <th></th>\n",
              "      <th>models</th>\n",
              "      <th>mae</th>\n",
              "      <th>mape</th>\n",
              "      <th>mse</th>\n",
              "      <th>rmse</th>\n",
              "    </tr>\n",
              "  </thead>\n",
              "  <tbody>\n",
              "    <tr>\n",
              "      <th>0</th>\n",
              "      <td>Naive</td>\n",
              "      <td>0.149135</td>\n",
              "      <td>9.619386e+04</td>\n",
              "      <td>0.070655</td>\n",
              "      <td>0.265810</td>\n",
              "    </tr>\n",
              "    <tr>\n",
              "      <th>1</th>\n",
              "      <td>Random Forest</td>\n",
              "      <td>0.247820</td>\n",
              "      <td>1.749970e+12</td>\n",
              "      <td>0.249441</td>\n",
              "      <td>0.499440</td>\n",
              "    </tr>\n",
              "    <tr>\n",
              "      <th>2</th>\n",
              "      <td>Random Forest Randomized Search</td>\n",
              "      <td>0.227049</td>\n",
              "      <td>1.045875e+12</td>\n",
              "      <td>0.203688</td>\n",
              "      <td>0.451318</td>\n",
              "    </tr>\n",
              "  </tbody>\n",
              "</table>\n",
              "</div>\n",
              "      <button class=\"colab-df-convert\" onclick=\"convertToInteractive('df-67ebec7b-6948-472d-a5db-55417594dda5')\"\n",
              "              title=\"Convert this dataframe to an interactive table.\"\n",
              "              style=\"display:none;\">\n",
              "        \n",
              "  <svg xmlns=\"http://www.w3.org/2000/svg\" height=\"24px\"viewBox=\"0 0 24 24\"\n",
              "       width=\"24px\">\n",
              "    <path d=\"M0 0h24v24H0V0z\" fill=\"none\"/>\n",
              "    <path d=\"M18.56 5.44l.94 2.06.94-2.06 2.06-.94-2.06-.94-.94-2.06-.94 2.06-2.06.94zm-11 1L8.5 8.5l.94-2.06 2.06-.94-2.06-.94L8.5 2.5l-.94 2.06-2.06.94zm10 10l.94 2.06.94-2.06 2.06-.94-2.06-.94-.94-2.06-.94 2.06-2.06.94z\"/><path d=\"M17.41 7.96l-1.37-1.37c-.4-.4-.92-.59-1.43-.59-.52 0-1.04.2-1.43.59L10.3 9.45l-7.72 7.72c-.78.78-.78 2.05 0 2.83L4 21.41c.39.39.9.59 1.41.59.51 0 1.02-.2 1.41-.59l7.78-7.78 2.81-2.81c.8-.78.8-2.07 0-2.86zM5.41 20L4 18.59l7.72-7.72 1.47 1.35L5.41 20z\"/>\n",
              "  </svg>\n",
              "      </button>\n",
              "      \n",
              "  <style>\n",
              "    .colab-df-container {\n",
              "      display:flex;\n",
              "      flex-wrap:wrap;\n",
              "      gap: 12px;\n",
              "    }\n",
              "\n",
              "    .colab-df-convert {\n",
              "      background-color: #E8F0FE;\n",
              "      border: none;\n",
              "      border-radius: 50%;\n",
              "      cursor: pointer;\n",
              "      display: none;\n",
              "      fill: #1967D2;\n",
              "      height: 32px;\n",
              "      padding: 0 0 0 0;\n",
              "      width: 32px;\n",
              "    }\n",
              "\n",
              "    .colab-df-convert:hover {\n",
              "      background-color: #E2EBFA;\n",
              "      box-shadow: 0px 1px 2px rgba(60, 64, 67, 0.3), 0px 1px 3px 1px rgba(60, 64, 67, 0.15);\n",
              "      fill: #174EA6;\n",
              "    }\n",
              "\n",
              "    [theme=dark] .colab-df-convert {\n",
              "      background-color: #3B4455;\n",
              "      fill: #D2E3FC;\n",
              "    }\n",
              "\n",
              "    [theme=dark] .colab-df-convert:hover {\n",
              "      background-color: #434B5C;\n",
              "      box-shadow: 0px 1px 3px 1px rgba(0, 0, 0, 0.15);\n",
              "      filter: drop-shadow(0px 1px 2px rgba(0, 0, 0, 0.3));\n",
              "      fill: #FFFFFF;\n",
              "    }\n",
              "  </style>\n",
              "\n",
              "      <script>\n",
              "        const buttonEl =\n",
              "          document.querySelector('#df-67ebec7b-6948-472d-a5db-55417594dda5 button.colab-df-convert');\n",
              "        buttonEl.style.display =\n",
              "          google.colab.kernel.accessAllowed ? 'block' : 'none';\n",
              "\n",
              "        async function convertToInteractive(key) {\n",
              "          const element = document.querySelector('#df-67ebec7b-6948-472d-a5db-55417594dda5');\n",
              "          const dataTable =\n",
              "            await google.colab.kernel.invokeFunction('convertToInteractive',\n",
              "                                                     [key], {});\n",
              "          if (!dataTable) return;\n",
              "\n",
              "          const docLinkHtml = 'Like what you see? Visit the ' +\n",
              "            '<a target=\"_blank\" href=https://colab.research.google.com/notebooks/data_table.ipynb>data table notebook</a>'\n",
              "            + ' to learn more about interactive tables.';\n",
              "          element.innerHTML = '';\n",
              "          dataTable['output_type'] = 'display_data';\n",
              "          await google.colab.output.renderOutput(dataTable, element);\n",
              "          const docLink = document.createElement('div');\n",
              "          docLink.innerHTML = docLinkHtml;\n",
              "          element.appendChild(docLink);\n",
              "        }\n",
              "      </script>\n",
              "    </div>\n",
              "  </div>\n",
              "  "
            ],
            "text/plain": [
              "                            models       mae          mape       mse      rmse\n",
              "0                            Naive  0.149135  9.619386e+04  0.070655  0.265810\n",
              "1                    Random Forest  0.247820  1.749970e+12  0.249441  0.499440\n",
              "2  Random Forest Randomized Search  0.227049  1.045875e+12  0.203688  0.451318"
            ]
          },
          "metadata": {},
          "execution_count": 44
        }
      ],
      "source": [
        "scores = pd.DataFrame(\n",
        "    data={\n",
        "        'models': models,\n",
        "        'mae': mae,\n",
        "        'mape': mape,\n",
        "        'mse': mse,\n",
        "        'rmse': rmse,\n",
        "    }    \n",
        ")\n",
        "\n",
        "scores"
      ]
    },
    {
      "cell_type": "markdown",
      "metadata": {
        "id": "joBn_h1TVcx-"
      },
      "source": [
        "### KNeighboursRegressor\n"
      ]
    },
    {
      "cell_type": "code",
      "execution_count": 45,
      "metadata": {
        "id": "5HMOfId8I0H9"
      },
      "outputs": [],
      "source": [
        "from sklearn.neighbors import KNeighborsRegressor"
      ]
    },
    {
      "cell_type": "code",
      "execution_count": 46,
      "metadata": {
        "colab": {
          "base_uri": "https://localhost:8080/"
        },
        "id": "oq4JtPOe1lMh",
        "outputId": "3c3d1974-f5bd-4275-b4b6-def20b644d45"
      },
      "outputs": [
        {
          "output_type": "execute_result",
          "data": {
            "text/plain": [
              "KNeighborsRegressor(n_jobs=-1)"
            ]
          },
          "metadata": {},
          "execution_count": 46
        }
      ],
      "source": [
        "np.random.seed(42)\n",
        "k_model = KNeighborsRegressor(\n",
        "    n_jobs=-1,\n",
        "    #n_neighbors=2,\n",
        "    # random_state=42,\n",
        "    # max_samples=10000, #minimizes the data\n",
        ")\n",
        "\n",
        "# X_train = np.asarray(X_train)\n",
        "# y_train = np.asarray(y_train)\n",
        "k_model.fit(X_train, y_train)"
      ]
    },
    {
      "cell_type": "code",
      "execution_count": 47,
      "metadata": {
        "colab": {
          "base_uri": "https://localhost:8080/"
        },
        "id": "D7pJgpvzJBBp",
        "outputId": "1235836e-86fe-4005-aaf4-081a4ae66faf"
      },
      "outputs": [
        {
          "output_type": "stream",
          "name": "stderr",
          "text": [
            "/usr/local/lib/python3.7/dist-packages/sklearn/base.py:444: UserWarning: X has feature names, but KNeighborsRegressor was fitted without feature names\n",
            "  f\"X has feature names, but {self.__class__.__name__} was fitted without\"\n"
          ]
        },
        {
          "output_type": "execute_result",
          "data": {
            "text/plain": [
              "(0.5127933546754293, -0.3612531479232701)"
            ]
          },
          "metadata": {},
          "execution_count": 47
        }
      ],
      "source": [
        "k_model.score(X_train, y_train), k_model.score(X_test, y_test)"
      ]
    },
    {
      "cell_type": "code",
      "execution_count": 48,
      "metadata": {
        "colab": {
          "base_uri": "https://localhost:8080/"
        },
        "id": "bAUcD5KOLVOm",
        "outputId": "4e5664b0-8939-4494-d015-4629a131835a"
      },
      "outputs": [
        {
          "output_type": "stream",
          "name": "stderr",
          "text": [
            "/usr/local/lib/python3.7/dist-packages/sklearn/base.py:444: UserWarning: X has feature names, but KNeighborsRegressor was fitted without feature names\n",
            "  f\"X has feature names, but {self.__class__.__name__} was fitted without\"\n"
          ]
        },
        {
          "output_type": "execute_result",
          "data": {
            "text/plain": [
              "{'mae': 0.46554285,\n",
              " 'mape': 11666468000000.0,\n",
              " 'mse': 0.64672613,\n",
              " 'rmse': 0.80419284,\n",
              " 'train_mae': 0.11971635,\n",
              " 'train_mape': 123069520000000.0,\n",
              " 'train_mse': 0.29787284,\n",
              " 'train_rmse': 0.54577726}"
            ]
          },
          "metadata": {},
          "execution_count": 48
        }
      ],
      "source": [
        "k_scores = show_scores_sklearn(k_model)\n",
        "k_scores"
      ]
    },
    {
      "cell_type": "code",
      "execution_count": 49,
      "metadata": {
        "colab": {
          "base_uri": "https://localhost:8080/"
        },
        "id": "S_OyGb0xLYUu",
        "outputId": "6a3d3391-0054-4b8e-aa3f-d0b323a8df3d"
      },
      "outputs": [
        {
          "output_type": "stream",
          "name": "stdout",
          "text": [
            "Fitting 5 folds for each of 30 candidates, totalling 150 fits\n"
          ]
        },
        {
          "output_type": "execute_result",
          "data": {
            "text/plain": [
              "RandomizedSearchCV(cv=5, estimator=KNeighborsRegressor(n_jobs=-1), n_iter=30,\n",
              "                   param_distributions={'algorithm': ['auto', 'ball_tree',\n",
              "                                                      'kd_tree', 'brute'],\n",
              "                                        'leaf_size': [20, 30, 40, 50, 60],\n",
              "                                        'n_neighbors': [1, 3, 5, 10, 20]},\n",
              "                   verbose=True)"
            ]
          },
          "metadata": {},
          "execution_count": 49
        }
      ],
      "source": [
        "rf_k_params = {\n",
        "    'n_neighbors': [1, 3, 5, 10, 20],\n",
        "    'algorithm': ['auto', 'ball_tree', 'kd_tree', 'brute'],\n",
        "    'leaf_size': [20, 30, 40, 50, 60]\n",
        "}\n",
        "\n",
        "np.random.seed(42)\n",
        "rs_k_model = RandomizedSearchCV(\n",
        "    KNeighborsRegressor(\n",
        "        n_jobs=-1,\n",
        "        #random_state=42,\n",
        "    ),\n",
        "    param_distributions=rf_k_params,\n",
        "    n_iter=30,\n",
        "    cv=5,\n",
        "    verbose=True\n",
        ")\n",
        "\n",
        "#Fit the randomized search cv model\n",
        "rs_k_model.fit(X_train, y_train)"
      ]
    },
    {
      "cell_type": "code",
      "execution_count": 50,
      "metadata": {
        "colab": {
          "base_uri": "https://localhost:8080/"
        },
        "id": "fnoiIMAKMxS5",
        "outputId": "788b8bb7-a8f1-41bb-f14c-cb339fb9d110"
      },
      "outputs": [
        {
          "output_type": "stream",
          "name": "stderr",
          "text": [
            "/usr/local/lib/python3.7/dist-packages/sklearn/base.py:444: UserWarning: X has feature names, but KNeighborsRegressor was fitted without feature names\n",
            "  f\"X has feature names, but {self.__class__.__name__} was fitted without\"\n"
          ]
        },
        {
          "output_type": "execute_result",
          "data": {
            "text/plain": [
              "(0.18966865124343713, -0.2552710866570096)"
            ]
          },
          "metadata": {},
          "execution_count": 50
        }
      ],
      "source": [
        "rs_k_model.score(X_train, y_train), rs_k_model.score(X_test, y_test)"
      ]
    },
    {
      "cell_type": "code",
      "execution_count": 51,
      "metadata": {
        "colab": {
          "base_uri": "https://localhost:8080/"
        },
        "id": "M4Ka8jPzM3bA",
        "outputId": "423108f1-086b-4aca-f854-39761fd254a4"
      },
      "outputs": [
        {
          "output_type": "stream",
          "name": "stderr",
          "text": [
            "/usr/local/lib/python3.7/dist-packages/sklearn/base.py:444: UserWarning: X has feature names, but KNeighborsRegressor was fitted without feature names\n",
            "  f\"X has feature names, but {self.__class__.__name__} was fitted without\"\n"
          ]
        },
        {
          "output_type": "execute_result",
          "data": {
            "text/plain": [
              "{'mae': 0.43633336,\n",
              " 'mape': 12953209000000.0,\n",
              " 'mse': 0.59637445,\n",
              " 'rmse': 0.77225286,\n",
              " 'train_mae': 0.17568868,\n",
              " 'train_mape': 178758250000000.0,\n",
              " 'train_mse': 0.4954278,\n",
              " 'train_rmse': 0.7038663}"
            ]
          },
          "metadata": {},
          "execution_count": 51
        }
      ],
      "source": [
        "knr_ideal = show_scores_sklearn(rs_k_model)\n",
        "knr_ideal"
      ]
    },
    {
      "cell_type": "code",
      "execution_count": 52,
      "metadata": {
        "colab": {
          "base_uri": "https://localhost:8080/",
          "height": 305
        },
        "id": "V4VasUrjNBm9",
        "outputId": "d9955790-e359-475a-f0b2-8b7941f7fc4b"
      },
      "outputs": [
        {
          "output_type": "execute_result",
          "data": {
            "text/html": [
              "\n",
              "  <div id=\"df-df0c1f8e-43e4-4ac5-b52f-11c7a147db42\">\n",
              "    <div class=\"colab-df-container\">\n",
              "      <div>\n",
              "<style scoped>\n",
              "    .dataframe tbody tr th:only-of-type {\n",
              "        vertical-align: middle;\n",
              "    }\n",
              "\n",
              "    .dataframe tbody tr th {\n",
              "        vertical-align: top;\n",
              "    }\n",
              "\n",
              "    .dataframe thead th {\n",
              "        text-align: right;\n",
              "    }\n",
              "</style>\n",
              "<table border=\"1\" class=\"dataframe\">\n",
              "  <thead>\n",
              "    <tr style=\"text-align: right;\">\n",
              "      <th></th>\n",
              "      <th>models</th>\n",
              "      <th>mae</th>\n",
              "      <th>mape</th>\n",
              "      <th>mse</th>\n",
              "      <th>rmse</th>\n",
              "    </tr>\n",
              "  </thead>\n",
              "  <tbody>\n",
              "    <tr>\n",
              "      <th>0</th>\n",
              "      <td>Naive</td>\n",
              "      <td>0.149135</td>\n",
              "      <td>9.619386e+04</td>\n",
              "      <td>0.070655</td>\n",
              "      <td>0.265810</td>\n",
              "    </tr>\n",
              "    <tr>\n",
              "      <th>1</th>\n",
              "      <td>Random Forest</td>\n",
              "      <td>0.247820</td>\n",
              "      <td>1.749970e+12</td>\n",
              "      <td>0.249441</td>\n",
              "      <td>0.499440</td>\n",
              "    </tr>\n",
              "    <tr>\n",
              "      <th>2</th>\n",
              "      <td>Random Forest Randomized Search</td>\n",
              "      <td>0.227049</td>\n",
              "      <td>1.045875e+12</td>\n",
              "      <td>0.203688</td>\n",
              "      <td>0.451318</td>\n",
              "    </tr>\n",
              "    <tr>\n",
              "      <th>3</th>\n",
              "      <td>KNeighboursRegressor</td>\n",
              "      <td>0.465543</td>\n",
              "      <td>1.166647e+13</td>\n",
              "      <td>0.646726</td>\n",
              "      <td>0.804193</td>\n",
              "    </tr>\n",
              "    <tr>\n",
              "      <th>4</th>\n",
              "      <td>KNeighboursRegressor Randomized Search</td>\n",
              "      <td>0.436333</td>\n",
              "      <td>1.295321e+13</td>\n",
              "      <td>0.596374</td>\n",
              "      <td>0.772253</td>\n",
              "    </tr>\n",
              "  </tbody>\n",
              "</table>\n",
              "</div>\n",
              "      <button class=\"colab-df-convert\" onclick=\"convertToInteractive('df-df0c1f8e-43e4-4ac5-b52f-11c7a147db42')\"\n",
              "              title=\"Convert this dataframe to an interactive table.\"\n",
              "              style=\"display:none;\">\n",
              "        \n",
              "  <svg xmlns=\"http://www.w3.org/2000/svg\" height=\"24px\"viewBox=\"0 0 24 24\"\n",
              "       width=\"24px\">\n",
              "    <path d=\"M0 0h24v24H0V0z\" fill=\"none\"/>\n",
              "    <path d=\"M18.56 5.44l.94 2.06.94-2.06 2.06-.94-2.06-.94-.94-2.06-.94 2.06-2.06.94zm-11 1L8.5 8.5l.94-2.06 2.06-.94-2.06-.94L8.5 2.5l-.94 2.06-2.06.94zm10 10l.94 2.06.94-2.06 2.06-.94-2.06-.94-.94-2.06-.94 2.06-2.06.94z\"/><path d=\"M17.41 7.96l-1.37-1.37c-.4-.4-.92-.59-1.43-.59-.52 0-1.04.2-1.43.59L10.3 9.45l-7.72 7.72c-.78.78-.78 2.05 0 2.83L4 21.41c.39.39.9.59 1.41.59.51 0 1.02-.2 1.41-.59l7.78-7.78 2.81-2.81c.8-.78.8-2.07 0-2.86zM5.41 20L4 18.59l7.72-7.72 1.47 1.35L5.41 20z\"/>\n",
              "  </svg>\n",
              "      </button>\n",
              "      \n",
              "  <style>\n",
              "    .colab-df-container {\n",
              "      display:flex;\n",
              "      flex-wrap:wrap;\n",
              "      gap: 12px;\n",
              "    }\n",
              "\n",
              "    .colab-df-convert {\n",
              "      background-color: #E8F0FE;\n",
              "      border: none;\n",
              "      border-radius: 50%;\n",
              "      cursor: pointer;\n",
              "      display: none;\n",
              "      fill: #1967D2;\n",
              "      height: 32px;\n",
              "      padding: 0 0 0 0;\n",
              "      width: 32px;\n",
              "    }\n",
              "\n",
              "    .colab-df-convert:hover {\n",
              "      background-color: #E2EBFA;\n",
              "      box-shadow: 0px 1px 2px rgba(60, 64, 67, 0.3), 0px 1px 3px 1px rgba(60, 64, 67, 0.15);\n",
              "      fill: #174EA6;\n",
              "    }\n",
              "\n",
              "    [theme=dark] .colab-df-convert {\n",
              "      background-color: #3B4455;\n",
              "      fill: #D2E3FC;\n",
              "    }\n",
              "\n",
              "    [theme=dark] .colab-df-convert:hover {\n",
              "      background-color: #434B5C;\n",
              "      box-shadow: 0px 1px 3px 1px rgba(0, 0, 0, 0.15);\n",
              "      filter: drop-shadow(0px 1px 2px rgba(0, 0, 0, 0.3));\n",
              "      fill: #FFFFFF;\n",
              "    }\n",
              "  </style>\n",
              "\n",
              "      <script>\n",
              "        const buttonEl =\n",
              "          document.querySelector('#df-df0c1f8e-43e4-4ac5-b52f-11c7a147db42 button.colab-df-convert');\n",
              "        buttonEl.style.display =\n",
              "          google.colab.kernel.accessAllowed ? 'block' : 'none';\n",
              "\n",
              "        async function convertToInteractive(key) {\n",
              "          const element = document.querySelector('#df-df0c1f8e-43e4-4ac5-b52f-11c7a147db42');\n",
              "          const dataTable =\n",
              "            await google.colab.kernel.invokeFunction('convertToInteractive',\n",
              "                                                     [key], {});\n",
              "          if (!dataTable) return;\n",
              "\n",
              "          const docLinkHtml = 'Like what you see? Visit the ' +\n",
              "            '<a target=\"_blank\" href=https://colab.research.google.com/notebooks/data_table.ipynb>data table notebook</a>'\n",
              "            + ' to learn more about interactive tables.';\n",
              "          element.innerHTML = '';\n",
              "          dataTable['output_type'] = 'display_data';\n",
              "          await google.colab.output.renderOutput(dataTable, element);\n",
              "          const docLink = document.createElement('div');\n",
              "          docLink.innerHTML = docLinkHtml;\n",
              "          element.appendChild(docLink);\n",
              "        }\n",
              "      </script>\n",
              "    </div>\n",
              "  </div>\n",
              "  "
            ],
            "text/plain": [
              "                                   models       mae  ...       mse      rmse\n",
              "0                                   Naive  0.149135  ...  0.070655  0.265810\n",
              "1                           Random Forest  0.247820  ...  0.249441  0.499440\n",
              "2         Random Forest Randomized Search  0.227049  ...  0.203688  0.451318\n",
              "3                    KNeighboursRegressor  0.465543  ...  0.646726  0.804193\n",
              "4  KNeighboursRegressor Randomized Search  0.436333  ...  0.596374  0.772253\n",
              "\n",
              "[5 rows x 5 columns]"
            ]
          },
          "metadata": {},
          "execution_count": 52
        }
      ],
      "source": [
        "models.append('KNeighboursRegressor')\n",
        "models.append('KNeighboursRegressor Randomized Search')\n",
        "\n",
        "mae.append(k_scores['mae'])\n",
        "mape.append(k_scores['mape'])\n",
        "mse.append(k_scores['mse']) \n",
        "rmse.append(k_scores['rmse'])\n",
        "\n",
        "mae.append(knr_ideal['mae'])\n",
        "mape.append(knr_ideal['mape'])\n",
        "mse.append(knr_ideal['mse']) \n",
        "rmse.append(knr_ideal['rmse']) \n",
        "\n",
        "scores = pd.DataFrame(\n",
        "    data={\n",
        "        'models': models,\n",
        "        'mae': mae,\n",
        "        'mape': mape,\n",
        "        'mse': mse,\n",
        "        'rmse': rmse,\n",
        "    }    \n",
        ")\n",
        "\n",
        "scores"
      ]
    },
    {
      "cell_type": "markdown",
      "metadata": {
        "id": "GJfKLypvO-_t"
      },
      "source": [
        "### Support Vector Regressor"
      ]
    },
    {
      "cell_type": "code",
      "execution_count": 53,
      "metadata": {
        "id": "RL2jeGfUPCgq"
      },
      "outputs": [],
      "source": [
        "from sklearn.svm import SVR"
      ]
    },
    {
      "cell_type": "code",
      "execution_count": 54,
      "metadata": {
        "colab": {
          "base_uri": "https://localhost:8080/"
        },
        "id": "jSJbLIBvPggp",
        "outputId": "1bf31ab4-c5e4-4b6e-dcc1-a76d92a86a8b"
      },
      "outputs": [
        {
          "output_type": "execute_result",
          "data": {
            "text/plain": [
              "SVR()"
            ]
          },
          "metadata": {},
          "execution_count": 54
        }
      ],
      "source": [
        "np.random.seed(42)\n",
        "svr_model = SVR()\n",
        "\n",
        "# X_train = np.asarray(X_train)|\n",
        "# y_train = np.asarray(y_train)\n",
        "svr_model.fit(X_train, y_train)"
      ]
    },
    {
      "cell_type": "code",
      "execution_count": 55,
      "metadata": {
        "colab": {
          "base_uri": "https://localhost:8080/"
        },
        "id": "So6s8Q1RQRkc",
        "outputId": "534ffd18-ed95-4b58-a4e7-c3492d436f06"
      },
      "outputs": [
        {
          "output_type": "stream",
          "name": "stderr",
          "text": [
            "/usr/local/lib/python3.7/dist-packages/sklearn/base.py:444: UserWarning: X has feature names, but SVR was fitted without feature names\n",
            "  f\"X has feature names, but {self.__class__.__name__} was fitted without\"\n"
          ]
        },
        {
          "output_type": "execute_result",
          "data": {
            "text/plain": [
              "(0.0010850874192736004, -0.38572991466620543)"
            ]
          },
          "metadata": {},
          "execution_count": 55
        }
      ],
      "source": [
        "svr_model.score(X_train, y_train), svr_model.score(X_test, y_test)"
      ]
    },
    {
      "cell_type": "code",
      "execution_count": 56,
      "metadata": {
        "colab": {
          "base_uri": "https://localhost:8080/"
        },
        "id": "UkUxqJy1QVwy",
        "outputId": "226b69ba-0e49-4c51-cfe9-92da0b40f7bb"
      },
      "outputs": [
        {
          "output_type": "stream",
          "name": "stderr",
          "text": [
            "/usr/local/lib/python3.7/dist-packages/sklearn/base.py:444: UserWarning: X has feature names, but SVR was fitted without feature names\n",
            "  f\"X has feature names, but {self.__class__.__name__} was fitted without\"\n"
          ]
        },
        {
          "output_type": "execute_result",
          "data": {
            "text/plain": [
              "{'mae': 0.4589229107859985,\n",
              " 'mape': 21296326374310.56,\n",
              " 'mse': 0.6583548747787358,\n",
              " 'rmse': 0.8113907041485845,\n",
              " 'train_mae': 0.20931614938591062,\n",
              " 'train_mape': 218761079399186.8,\n",
              " 'train_mse': 0.6107257476483504,\n",
              " 'train_rmse': 0.7814894418022232}"
            ]
          },
          "metadata": {},
          "execution_count": 56
        }
      ],
      "source": [
        "svr_scores = show_scores_sklearn(svr_model)\n",
        "svr_scores"
      ]
    },
    {
      "cell_type": "code",
      "execution_count": 57,
      "metadata": {
        "colab": {
          "base_uri": "https://localhost:8080/"
        },
        "id": "tg_nJX3TQbYV",
        "outputId": "2340efdb-2981-4d5a-876b-ddcf3d4f7305"
      },
      "outputs": [
        {
          "output_type": "stream",
          "name": "stdout",
          "text": [
            "Fitting 5 folds for each of 5 candidates, totalling 25 fits\n"
          ]
        },
        {
          "output_type": "execute_result",
          "data": {
            "text/plain": [
              "RandomizedSearchCV(cv=5, estimator=SVR(), n_iter=5,\n",
              "                   param_distributions={'C': [1, 3, 5, 7, 9],\n",
              "                                        'degree': [1, 3, 5, 7, 9],\n",
              "                                        'epsilon': [0.1, 0.3, 0.5, 0.7, 0.9],\n",
              "                                        'gamma': ['scale', 'auto'],\n",
              "                                        'kernel': ['linear', 'poly', 'rbf',\n",
              "                                                   'sigmoid']},\n",
              "                   verbose=True)"
            ]
          },
          "metadata": {},
          "execution_count": 57
        }
      ],
      "source": [
        "rf_svr_params = {\n",
        "    'kernel': ['linear', 'poly', 'rbf', 'sigmoid'],\n",
        "    'gamma': ['scale', 'auto'],\n",
        "    'degree': [1, 3, 5, 7, 9],\n",
        "    'epsilon': [0.1, 0.3, 0.5, 0.7, 0.9],\n",
        "    'C': [1, 3, 5, 7, 9], \n",
        "}\n",
        "\n",
        "np.random.seed(42)\n",
        "rs_svr_model = RandomizedSearchCV(\n",
        "    SVR(),\n",
        "    param_distributions=rf_svr_params,\n",
        "    n_iter=5,\n",
        "    cv=5,\n",
        "    verbose=True\n",
        ")\n",
        "\n",
        "# X_train = np.asarray(X_train)\n",
        "# y_train = np.asarray(y_train)\n",
        "#Fit the randomized search cv model\n",
        "rs_svr_model.fit(X_train, y_train)"
      ]
    },
    {
      "cell_type": "code",
      "execution_count": 58,
      "metadata": {
        "colab": {
          "base_uri": "https://localhost:8080/"
        },
        "id": "TfX7YWArTwFW",
        "outputId": "1f30285a-4bc6-4961-9fa6-d61023f372fe"
      },
      "outputs": [
        {
          "output_type": "stream",
          "name": "stderr",
          "text": [
            "/usr/local/lib/python3.7/dist-packages/sklearn/base.py:444: UserWarning: X has feature names, but SVR was fitted without feature names\n",
            "  f\"X has feature names, but {self.__class__.__name__} was fitted without\"\n"
          ]
        },
        {
          "output_type": "execute_result",
          "data": {
            "text/plain": [
              "(0.0910875115511931, -0.0006375251246413249)"
            ]
          },
          "metadata": {},
          "execution_count": 58
        }
      ],
      "source": [
        "rs_svr_model.score(X_train, y_train), rs_svr_model.score(X_test, y_test)"
      ]
    },
    {
      "cell_type": "code",
      "execution_count": 59,
      "metadata": {
        "colab": {
          "base_uri": "https://localhost:8080/"
        },
        "id": "LyRPXhMuUSvM",
        "outputId": "303109b2-0c50-45f7-fbf9-fccb3994f004"
      },
      "outputs": [
        {
          "output_type": "stream",
          "name": "stderr",
          "text": [
            "/usr/local/lib/python3.7/dist-packages/sklearn/base.py:444: UserWarning: X has feature names, but SVR was fitted without feature names\n",
            "  f\"X has feature names, but {self.__class__.__name__} was fitted without\"\n"
          ]
        },
        {
          "output_type": "execute_result",
          "data": {
            "text/plain": [
              "{'mae': 0.5065153666240702,\n",
              " 'mape': 121225731427091.22,\n",
              " 'mse': 0.475398983293958,\n",
              " 'rmse': 0.6894918297514178,\n",
              " 'train_mae': 0.5247609076693992,\n",
              " 'train_mape': 1141505954683854.5,\n",
              " 'train_mse': 0.5556992413104661,\n",
              " 'train_rmse': 0.7454523736030801}"
            ]
          },
          "metadata": {},
          "execution_count": 59
        }
      ],
      "source": [
        "rs_svr_scores = show_scores_sklearn(rs_svr_model)\n",
        "rs_svr_scores"
      ]
    },
    {
      "cell_type": "code",
      "execution_count": 60,
      "metadata": {
        "colab": {
          "base_uri": "https://localhost:8080/",
          "height": 420
        },
        "id": "eI666yozUWpo",
        "outputId": "911deec7-7e8e-42d0-cfb4-752c8c32b2f9"
      },
      "outputs": [
        {
          "output_type": "execute_result",
          "data": {
            "text/html": [
              "\n",
              "  <div id=\"df-ecfcf97f-8209-4fcd-a8dd-02880bdeae00\">\n",
              "    <div class=\"colab-df-container\">\n",
              "      <div>\n",
              "<style scoped>\n",
              "    .dataframe tbody tr th:only-of-type {\n",
              "        vertical-align: middle;\n",
              "    }\n",
              "\n",
              "    .dataframe tbody tr th {\n",
              "        vertical-align: top;\n",
              "    }\n",
              "\n",
              "    .dataframe thead th {\n",
              "        text-align: right;\n",
              "    }\n",
              "</style>\n",
              "<table border=\"1\" class=\"dataframe\">\n",
              "  <thead>\n",
              "    <tr style=\"text-align: right;\">\n",
              "      <th></th>\n",
              "      <th>models</th>\n",
              "      <th>mae</th>\n",
              "      <th>mape</th>\n",
              "      <th>mse</th>\n",
              "      <th>rmse</th>\n",
              "    </tr>\n",
              "  </thead>\n",
              "  <tbody>\n",
              "    <tr>\n",
              "      <th>0</th>\n",
              "      <td>Naive</td>\n",
              "      <td>0.149135</td>\n",
              "      <td>9.619386e+04</td>\n",
              "      <td>0.070655</td>\n",
              "      <td>0.265810</td>\n",
              "    </tr>\n",
              "    <tr>\n",
              "      <th>1</th>\n",
              "      <td>Random Forest</td>\n",
              "      <td>0.247820</td>\n",
              "      <td>1.749970e+12</td>\n",
              "      <td>0.249441</td>\n",
              "      <td>0.499440</td>\n",
              "    </tr>\n",
              "    <tr>\n",
              "      <th>2</th>\n",
              "      <td>Random Forest Randomized Search</td>\n",
              "      <td>0.227049</td>\n",
              "      <td>1.045875e+12</td>\n",
              "      <td>0.203688</td>\n",
              "      <td>0.451318</td>\n",
              "    </tr>\n",
              "    <tr>\n",
              "      <th>3</th>\n",
              "      <td>KNeighboursRegressor</td>\n",
              "      <td>0.465543</td>\n",
              "      <td>1.166647e+13</td>\n",
              "      <td>0.646726</td>\n",
              "      <td>0.804193</td>\n",
              "    </tr>\n",
              "    <tr>\n",
              "      <th>4</th>\n",
              "      <td>KNeighboursRegressor Randomized Search</td>\n",
              "      <td>0.436333</td>\n",
              "      <td>1.295321e+13</td>\n",
              "      <td>0.596374</td>\n",
              "      <td>0.772253</td>\n",
              "    </tr>\n",
              "    <tr>\n",
              "      <th>5</th>\n",
              "      <td>Support Vector Regression</td>\n",
              "      <td>0.458923</td>\n",
              "      <td>2.129633e+13</td>\n",
              "      <td>0.658355</td>\n",
              "      <td>0.811391</td>\n",
              "    </tr>\n",
              "    <tr>\n",
              "      <th>6</th>\n",
              "      <td>Support Vector Regression Randomized Search</td>\n",
              "      <td>0.506515</td>\n",
              "      <td>1.212257e+14</td>\n",
              "      <td>0.475399</td>\n",
              "      <td>0.689492</td>\n",
              "    </tr>\n",
              "  </tbody>\n",
              "</table>\n",
              "</div>\n",
              "      <button class=\"colab-df-convert\" onclick=\"convertToInteractive('df-ecfcf97f-8209-4fcd-a8dd-02880bdeae00')\"\n",
              "              title=\"Convert this dataframe to an interactive table.\"\n",
              "              style=\"display:none;\">\n",
              "        \n",
              "  <svg xmlns=\"http://www.w3.org/2000/svg\" height=\"24px\"viewBox=\"0 0 24 24\"\n",
              "       width=\"24px\">\n",
              "    <path d=\"M0 0h24v24H0V0z\" fill=\"none\"/>\n",
              "    <path d=\"M18.56 5.44l.94 2.06.94-2.06 2.06-.94-2.06-.94-.94-2.06-.94 2.06-2.06.94zm-11 1L8.5 8.5l.94-2.06 2.06-.94-2.06-.94L8.5 2.5l-.94 2.06-2.06.94zm10 10l.94 2.06.94-2.06 2.06-.94-2.06-.94-.94-2.06-.94 2.06-2.06.94z\"/><path d=\"M17.41 7.96l-1.37-1.37c-.4-.4-.92-.59-1.43-.59-.52 0-1.04.2-1.43.59L10.3 9.45l-7.72 7.72c-.78.78-.78 2.05 0 2.83L4 21.41c.39.39.9.59 1.41.59.51 0 1.02-.2 1.41-.59l7.78-7.78 2.81-2.81c.8-.78.8-2.07 0-2.86zM5.41 20L4 18.59l7.72-7.72 1.47 1.35L5.41 20z\"/>\n",
              "  </svg>\n",
              "      </button>\n",
              "      \n",
              "  <style>\n",
              "    .colab-df-container {\n",
              "      display:flex;\n",
              "      flex-wrap:wrap;\n",
              "      gap: 12px;\n",
              "    }\n",
              "\n",
              "    .colab-df-convert {\n",
              "      background-color: #E8F0FE;\n",
              "      border: none;\n",
              "      border-radius: 50%;\n",
              "      cursor: pointer;\n",
              "      display: none;\n",
              "      fill: #1967D2;\n",
              "      height: 32px;\n",
              "      padding: 0 0 0 0;\n",
              "      width: 32px;\n",
              "    }\n",
              "\n",
              "    .colab-df-convert:hover {\n",
              "      background-color: #E2EBFA;\n",
              "      box-shadow: 0px 1px 2px rgba(60, 64, 67, 0.3), 0px 1px 3px 1px rgba(60, 64, 67, 0.15);\n",
              "      fill: #174EA6;\n",
              "    }\n",
              "\n",
              "    [theme=dark] .colab-df-convert {\n",
              "      background-color: #3B4455;\n",
              "      fill: #D2E3FC;\n",
              "    }\n",
              "\n",
              "    [theme=dark] .colab-df-convert:hover {\n",
              "      background-color: #434B5C;\n",
              "      box-shadow: 0px 1px 3px 1px rgba(0, 0, 0, 0.15);\n",
              "      filter: drop-shadow(0px 1px 2px rgba(0, 0, 0, 0.3));\n",
              "      fill: #FFFFFF;\n",
              "    }\n",
              "  </style>\n",
              "\n",
              "      <script>\n",
              "        const buttonEl =\n",
              "          document.querySelector('#df-ecfcf97f-8209-4fcd-a8dd-02880bdeae00 button.colab-df-convert');\n",
              "        buttonEl.style.display =\n",
              "          google.colab.kernel.accessAllowed ? 'block' : 'none';\n",
              "\n",
              "        async function convertToInteractive(key) {\n",
              "          const element = document.querySelector('#df-ecfcf97f-8209-4fcd-a8dd-02880bdeae00');\n",
              "          const dataTable =\n",
              "            await google.colab.kernel.invokeFunction('convertToInteractive',\n",
              "                                                     [key], {});\n",
              "          if (!dataTable) return;\n",
              "\n",
              "          const docLinkHtml = 'Like what you see? Visit the ' +\n",
              "            '<a target=\"_blank\" href=https://colab.research.google.com/notebooks/data_table.ipynb>data table notebook</a>'\n",
              "            + ' to learn more about interactive tables.';\n",
              "          element.innerHTML = '';\n",
              "          dataTable['output_type'] = 'display_data';\n",
              "          await google.colab.output.renderOutput(dataTable, element);\n",
              "          const docLink = document.createElement('div');\n",
              "          docLink.innerHTML = docLinkHtml;\n",
              "          element.appendChild(docLink);\n",
              "        }\n",
              "      </script>\n",
              "    </div>\n",
              "  </div>\n",
              "  "
            ],
            "text/plain": [
              "                                        models       mae  ...       mse      rmse\n",
              "0                                        Naive  0.149135  ...  0.070655  0.265810\n",
              "1                                Random Forest  0.247820  ...  0.249441  0.499440\n",
              "2              Random Forest Randomized Search  0.227049  ...  0.203688  0.451318\n",
              "3                         KNeighboursRegressor  0.465543  ...  0.646726  0.804193\n",
              "4       KNeighboursRegressor Randomized Search  0.436333  ...  0.596374  0.772253\n",
              "5                    Support Vector Regression  0.458923  ...  0.658355  0.811391\n",
              "6  Support Vector Regression Randomized Search  0.506515  ...  0.475399  0.689492\n",
              "\n",
              "[7 rows x 5 columns]"
            ]
          },
          "metadata": {},
          "execution_count": 60
        }
      ],
      "source": [
        "models.append('Support Vector Regression')\n",
        "models.append('Support Vector Regression Randomized Search')\n",
        "\n",
        "mae.append(svr_scores['mae'])\n",
        "mape.append(svr_scores['mape'])\n",
        "mse.append(svr_scores['mse']) \n",
        "rmse.append(svr_scores['rmse'])\n",
        "\n",
        "mae.append(rs_svr_scores['mae'])\n",
        "mape.append(rs_svr_scores['mape'])\n",
        "mse.append(rs_svr_scores['mse']) \n",
        "rmse.append(rs_svr_scores['rmse']) \n",
        "\n",
        "scores = pd.DataFrame(\n",
        "    data={\n",
        "        'models': models,\n",
        "        'mae': mae,\n",
        "        'mape': mape,\n",
        "        'mse': mse,\n",
        "        'rmse': rmse,\n",
        "    }    \n",
        ")\n",
        "\n",
        "scores"
      ]
    },
    {
      "cell_type": "markdown",
      "metadata": {
        "id": "NLwiiLiLngVq"
      },
      "source": [
        "### Ensemble Methods"
      ]
    },
    {
      "cell_type": "markdown",
      "metadata": {
        "id": "d1MPTF1no7VC"
      },
      "source": [
        "#### Combining RFR, KNR, and SVR"
      ]
    },
    {
      "cell_type": "code",
      "execution_count": 61,
      "metadata": {
        "id": "kUcSa3i2siXW"
      },
      "outputs": [],
      "source": [
        "from sklearn.ensemble import VotingRegressor"
      ]
    },
    {
      "cell_type": "code",
      "execution_count": 62,
      "metadata": {
        "id": "pnbKjenfskGI",
        "colab": {
          "base_uri": "https://localhost:8080/"
        },
        "outputId": "7a8412c1-2295-462c-8511-93c825905242"
      },
      "outputs": [
        {
          "output_type": "stream",
          "name": "stdout",
          "text": [
            "Fitting 5 folds for each of 30 candidates, totalling 150 fits\n",
            "Fitting 5 folds for each of 30 candidates, totalling 150 fits\n",
            "Fitting 5 folds for each of 5 candidates, totalling 25 fits\n"
          ]
        },
        {
          "output_type": "execute_result",
          "data": {
            "text/plain": [
              "VotingRegressor(estimators=[('rfr',\n",
              "                             RandomizedSearchCV(cv=5,\n",
              "                                                estimator=RandomForestRegressor(n_jobs=-1),\n",
              "                                                n_iter=30,\n",
              "                                                param_distributions={'max_depth': [None,\n",
              "                                                                                   3,\n",
              "                                                                                   5,\n",
              "                                                                                   10],\n",
              "                                                                     'max_features': [0.5,\n",
              "                                                                                      1,\n",
              "                                                                                      'sqrt',\n",
              "                                                                                      'auto'],\n",
              "                                                                     'max_samples': [332],\n",
              "                                                                     'min_samples_leaf': array([ 1,  3,  5,  7,  9, 11, 13, 15, 17, 19]),\n",
              "                                                                     'min_samples_split': array([ 2,  4,  6,  8, 10, 12, 14, 16, 18]),\n",
              "                                                                     'n_estimators': array([10, 20, 3...\n",
              "                                                param_distributions={'algorithm': ['auto',\n",
              "                                                                                   'ball_tree',\n",
              "                                                                                   'kd_tree',\n",
              "                                                                                   'brute'],\n",
              "                                                                     'leaf_size': [20,\n",
              "                                                                                   30,\n",
              "                                                                                   40,\n",
              "                                                                                   50,\n",
              "                                                                                   60],\n",
              "                                                                     'n_neighbors': [1,\n",
              "                                                                                     3,\n",
              "                                                                                     5,\n",
              "                                                                                     10,\n",
              "                                                                                     20]},\n",
              "                                                verbose=True)),\n",
              "                            ('svr',\n",
              "                             RandomizedSearchCV(cv=5, estimator=SVR(), n_iter=5,\n",
              "                                                param_distributions={'C': [1, 3,\n",
              "                                                                           5, 7,\n",
              "                                                                           9],\n",
              "                                                                     'degree': [1,\n",
              "                                                                                3,\n",
              "                                                                                5,\n",
              "                                                                                7,\n",
              "                                                                                9],\n",
              "                                                                     'epsilon': [0.1,\n",
              "                                                                                 0.3,\n",
              "                                                                                 0.5,\n",
              "                                                                                 0.7,\n",
              "                                                                                 0.9],\n",
              "                                                                     'gamma': ['scale',\n",
              "                                                                               'auto'],\n",
              "                                                                     'kernel': ['linear',\n",
              "                                                                                'poly',\n",
              "                                                                                'rbf',\n",
              "                                                                                'sigmoid']},\n",
              "                                                verbose=True))])"
            ]
          },
          "metadata": {},
          "execution_count": 62
        }
      ],
      "source": [
        "vr_model = VotingRegressor(\n",
        "    estimators=[\n",
        "        ('rfr', rs_model),\n",
        "        ('knr', rs_k_model),\n",
        "        ('svr', rs_svr_model),\n",
        "    ]\n",
        ")\n",
        "\n",
        "np.random.seed(42)\n",
        "# X_train_dot = np.dot(X_train, X_train.T)\n",
        "# X_test_dot = np.dot(X_test, X_train.T)\n",
        "vr_model.fit(X_train, y_train)"
      ]
    },
    {
      "cell_type": "code",
      "source": [
        "vr_model.score(X_train, y_train), vr_model.score(X_test, y_test)"
      ],
      "metadata": {
        "id": "VAQLbxGquGcq",
        "colab": {
          "base_uri": "https://localhost:8080/"
        },
        "outputId": "a544df09-e30e-4654-8dd3-b531153f5e39"
      },
      "execution_count": 63,
      "outputs": [
        {
          "output_type": "stream",
          "name": "stderr",
          "text": [
            "/usr/local/lib/python3.7/dist-packages/sklearn/base.py:444: UserWarning: X has feature names, but RandomForestRegressor was fitted without feature names\n",
            "  f\"X has feature names, but {self.__class__.__name__} was fitted without\"\n",
            "/usr/local/lib/python3.7/dist-packages/sklearn/base.py:444: UserWarning: X has feature names, but KNeighborsRegressor was fitted without feature names\n",
            "  f\"X has feature names, but {self.__class__.__name__} was fitted without\"\n",
            "/usr/local/lib/python3.7/dist-packages/sklearn/base.py:444: UserWarning: X has feature names, but SVR was fitted without feature names\n",
            "  f\"X has feature names, but {self.__class__.__name__} was fitted without\"\n"
          ]
        },
        {
          "output_type": "execute_result",
          "data": {
            "text/plain": [
              "(0.45308560916830376, 0.2205026491437836)"
            ]
          },
          "metadata": {},
          "execution_count": 63
        }
      ]
    },
    {
      "cell_type": "code",
      "source": [
        "vr_scores = show_scores_sklearn(vr_model)\n",
        "vr_scores"
      ],
      "metadata": {
        "id": "GjoQAHzww1LQ",
        "colab": {
          "base_uri": "https://localhost:8080/"
        },
        "outputId": "0dd4687f-f198-4d8a-893a-51b5c10dc1ff"
      },
      "execution_count": 64,
      "outputs": [
        {
          "output_type": "stream",
          "name": "stderr",
          "text": [
            "/usr/local/lib/python3.7/dist-packages/sklearn/base.py:444: UserWarning: X has feature names, but RandomForestRegressor was fitted without feature names\n",
            "  f\"X has feature names, but {self.__class__.__name__} was fitted without\"\n",
            "/usr/local/lib/python3.7/dist-packages/sklearn/base.py:444: UserWarning: X has feature names, but KNeighborsRegressor was fitted without feature names\n",
            "  f\"X has feature names, but {self.__class__.__name__} was fitted without\"\n",
            "/usr/local/lib/python3.7/dist-packages/sklearn/base.py:444: UserWarning: X has feature names, but SVR was fitted without feature names\n",
            "  f\"X has feature names, but {self.__class__.__name__} was fitted without\"\n"
          ]
        },
        {
          "output_type": "execute_result",
          "data": {
            "text/plain": [
              "{'mae': 0.33417792167128213,\n",
              " 'mape': 38231150786059.664,\n",
              " 'mse': 0.3703361494775242,\n",
              " 'rmse': 0.6085525034682909,\n",
              " 'train_mae': 0.22501270309944532,\n",
              " 'train_mape': 409456056008470.94,\n",
              " 'train_mse': 0.3343775290904336,\n",
              " 'train_rmse': 0.578253862149172}"
            ]
          },
          "metadata": {},
          "execution_count": 64
        }
      ]
    },
    {
      "cell_type": "code",
      "source": [
        "models.append('VotingRegressor')\n",
        "\n",
        "mae.append(vr_scores['mae'])\n",
        "mape.append(vr_scores['mape'])\n",
        "mse.append(vr_scores['mse']) \n",
        "rmse.append(vr_scores['rmse'])\n",
        "\n",
        "scores = pd.DataFrame(\n",
        "    data={\n",
        "        'models': models,\n",
        "        'mae': mae,\n",
        "        'mape': mape,\n",
        "        'mse': mse,\n",
        "        'rmse': rmse,\n",
        "    }    \n",
        ")\n",
        "\n",
        "scores"
      ],
      "metadata": {
        "id": "370ediEKw65u",
        "colab": {
          "base_uri": "https://localhost:8080/",
          "height": 451
        },
        "outputId": "a759ce28-7462-4117-e9d4-feea7ef7f0bd"
      },
      "execution_count": 65,
      "outputs": [
        {
          "output_type": "execute_result",
          "data": {
            "text/html": [
              "\n",
              "  <div id=\"df-c6bc6a30-a6ac-4bca-8864-29747b6a4acd\">\n",
              "    <div class=\"colab-df-container\">\n",
              "      <div>\n",
              "<style scoped>\n",
              "    .dataframe tbody tr th:only-of-type {\n",
              "        vertical-align: middle;\n",
              "    }\n",
              "\n",
              "    .dataframe tbody tr th {\n",
              "        vertical-align: top;\n",
              "    }\n",
              "\n",
              "    .dataframe thead th {\n",
              "        text-align: right;\n",
              "    }\n",
              "</style>\n",
              "<table border=\"1\" class=\"dataframe\">\n",
              "  <thead>\n",
              "    <tr style=\"text-align: right;\">\n",
              "      <th></th>\n",
              "      <th>models</th>\n",
              "      <th>mae</th>\n",
              "      <th>mape</th>\n",
              "      <th>mse</th>\n",
              "      <th>rmse</th>\n",
              "    </tr>\n",
              "  </thead>\n",
              "  <tbody>\n",
              "    <tr>\n",
              "      <th>0</th>\n",
              "      <td>Naive</td>\n",
              "      <td>0.149135</td>\n",
              "      <td>9.619386e+04</td>\n",
              "      <td>0.070655</td>\n",
              "      <td>0.265810</td>\n",
              "    </tr>\n",
              "    <tr>\n",
              "      <th>1</th>\n",
              "      <td>Random Forest</td>\n",
              "      <td>0.247820</td>\n",
              "      <td>1.749970e+12</td>\n",
              "      <td>0.249441</td>\n",
              "      <td>0.499440</td>\n",
              "    </tr>\n",
              "    <tr>\n",
              "      <th>2</th>\n",
              "      <td>Random Forest Randomized Search</td>\n",
              "      <td>0.227049</td>\n",
              "      <td>1.045875e+12</td>\n",
              "      <td>0.203688</td>\n",
              "      <td>0.451318</td>\n",
              "    </tr>\n",
              "    <tr>\n",
              "      <th>3</th>\n",
              "      <td>KNeighboursRegressor</td>\n",
              "      <td>0.465543</td>\n",
              "      <td>1.166647e+13</td>\n",
              "      <td>0.646726</td>\n",
              "      <td>0.804193</td>\n",
              "    </tr>\n",
              "    <tr>\n",
              "      <th>4</th>\n",
              "      <td>KNeighboursRegressor Randomized Search</td>\n",
              "      <td>0.436333</td>\n",
              "      <td>1.295321e+13</td>\n",
              "      <td>0.596374</td>\n",
              "      <td>0.772253</td>\n",
              "    </tr>\n",
              "    <tr>\n",
              "      <th>5</th>\n",
              "      <td>Support Vector Regression</td>\n",
              "      <td>0.458923</td>\n",
              "      <td>2.129633e+13</td>\n",
              "      <td>0.658355</td>\n",
              "      <td>0.811391</td>\n",
              "    </tr>\n",
              "    <tr>\n",
              "      <th>6</th>\n",
              "      <td>Support Vector Regression Randomized Search</td>\n",
              "      <td>0.506515</td>\n",
              "      <td>1.212257e+14</td>\n",
              "      <td>0.475399</td>\n",
              "      <td>0.689492</td>\n",
              "    </tr>\n",
              "    <tr>\n",
              "      <th>7</th>\n",
              "      <td>VotingRegressor</td>\n",
              "      <td>0.334178</td>\n",
              "      <td>3.823115e+13</td>\n",
              "      <td>0.370336</td>\n",
              "      <td>0.608553</td>\n",
              "    </tr>\n",
              "  </tbody>\n",
              "</table>\n",
              "</div>\n",
              "      <button class=\"colab-df-convert\" onclick=\"convertToInteractive('df-c6bc6a30-a6ac-4bca-8864-29747b6a4acd')\"\n",
              "              title=\"Convert this dataframe to an interactive table.\"\n",
              "              style=\"display:none;\">\n",
              "        \n",
              "  <svg xmlns=\"http://www.w3.org/2000/svg\" height=\"24px\"viewBox=\"0 0 24 24\"\n",
              "       width=\"24px\">\n",
              "    <path d=\"M0 0h24v24H0V0z\" fill=\"none\"/>\n",
              "    <path d=\"M18.56 5.44l.94 2.06.94-2.06 2.06-.94-2.06-.94-.94-2.06-.94 2.06-2.06.94zm-11 1L8.5 8.5l.94-2.06 2.06-.94-2.06-.94L8.5 2.5l-.94 2.06-2.06.94zm10 10l.94 2.06.94-2.06 2.06-.94-2.06-.94-.94-2.06-.94 2.06-2.06.94z\"/><path d=\"M17.41 7.96l-1.37-1.37c-.4-.4-.92-.59-1.43-.59-.52 0-1.04.2-1.43.59L10.3 9.45l-7.72 7.72c-.78.78-.78 2.05 0 2.83L4 21.41c.39.39.9.59 1.41.59.51 0 1.02-.2 1.41-.59l7.78-7.78 2.81-2.81c.8-.78.8-2.07 0-2.86zM5.41 20L4 18.59l7.72-7.72 1.47 1.35L5.41 20z\"/>\n",
              "  </svg>\n",
              "      </button>\n",
              "      \n",
              "  <style>\n",
              "    .colab-df-container {\n",
              "      display:flex;\n",
              "      flex-wrap:wrap;\n",
              "      gap: 12px;\n",
              "    }\n",
              "\n",
              "    .colab-df-convert {\n",
              "      background-color: #E8F0FE;\n",
              "      border: none;\n",
              "      border-radius: 50%;\n",
              "      cursor: pointer;\n",
              "      display: none;\n",
              "      fill: #1967D2;\n",
              "      height: 32px;\n",
              "      padding: 0 0 0 0;\n",
              "      width: 32px;\n",
              "    }\n",
              "\n",
              "    .colab-df-convert:hover {\n",
              "      background-color: #E2EBFA;\n",
              "      box-shadow: 0px 1px 2px rgba(60, 64, 67, 0.3), 0px 1px 3px 1px rgba(60, 64, 67, 0.15);\n",
              "      fill: #174EA6;\n",
              "    }\n",
              "\n",
              "    [theme=dark] .colab-df-convert {\n",
              "      background-color: #3B4455;\n",
              "      fill: #D2E3FC;\n",
              "    }\n",
              "\n",
              "    [theme=dark] .colab-df-convert:hover {\n",
              "      background-color: #434B5C;\n",
              "      box-shadow: 0px 1px 3px 1px rgba(0, 0, 0, 0.15);\n",
              "      filter: drop-shadow(0px 1px 2px rgba(0, 0, 0, 0.3));\n",
              "      fill: #FFFFFF;\n",
              "    }\n",
              "  </style>\n",
              "\n",
              "      <script>\n",
              "        const buttonEl =\n",
              "          document.querySelector('#df-c6bc6a30-a6ac-4bca-8864-29747b6a4acd button.colab-df-convert');\n",
              "        buttonEl.style.display =\n",
              "          google.colab.kernel.accessAllowed ? 'block' : 'none';\n",
              "\n",
              "        async function convertToInteractive(key) {\n",
              "          const element = document.querySelector('#df-c6bc6a30-a6ac-4bca-8864-29747b6a4acd');\n",
              "          const dataTable =\n",
              "            await google.colab.kernel.invokeFunction('convertToInteractive',\n",
              "                                                     [key], {});\n",
              "          if (!dataTable) return;\n",
              "\n",
              "          const docLinkHtml = 'Like what you see? Visit the ' +\n",
              "            '<a target=\"_blank\" href=https://colab.research.google.com/notebooks/data_table.ipynb>data table notebook</a>'\n",
              "            + ' to learn more about interactive tables.';\n",
              "          element.innerHTML = '';\n",
              "          dataTable['output_type'] = 'display_data';\n",
              "          await google.colab.output.renderOutput(dataTable, element);\n",
              "          const docLink = document.createElement('div');\n",
              "          docLink.innerHTML = docLinkHtml;\n",
              "          element.appendChild(docLink);\n",
              "        }\n",
              "      </script>\n",
              "    </div>\n",
              "  </div>\n",
              "  "
            ],
            "text/plain": [
              "                                        models       mae  ...       mse      rmse\n",
              "0                                        Naive  0.149135  ...  0.070655  0.265810\n",
              "1                                Random Forest  0.247820  ...  0.249441  0.499440\n",
              "2              Random Forest Randomized Search  0.227049  ...  0.203688  0.451318\n",
              "3                         KNeighboursRegressor  0.465543  ...  0.646726  0.804193\n",
              "4       KNeighboursRegressor Randomized Search  0.436333  ...  0.596374  0.772253\n",
              "5                    Support Vector Regression  0.458923  ...  0.658355  0.811391\n",
              "6  Support Vector Regression Randomized Search  0.506515  ...  0.475399  0.689492\n",
              "7                              VotingRegressor  0.334178  ...  0.370336  0.608553\n",
              "\n",
              "[8 rows x 5 columns]"
            ]
          },
          "metadata": {},
          "execution_count": 65
        }
      ]
    },
    {
      "cell_type": "markdown",
      "source": [
        "#### GradientTreeBoosting Regressor"
      ],
      "metadata": {
        "id": "gWyQsnRkxKCG"
      }
    },
    {
      "cell_type": "code",
      "source": [
        "from sklearn.ensemble import GradientBoostingRegressor\n",
        "from sklearn.ensemble import StackingRegressor"
      ],
      "metadata": {
        "id": "Uoi3CXxtxfKC"
      },
      "execution_count": 66,
      "outputs": []
    },
    {
      "cell_type": "code",
      "source": [
        "np.random.seed(42)\n",
        "gbr_model = GradientBoostingRegressor()\n",
        "\n",
        "gbr_model.fit(X_train, y_train)"
      ],
      "metadata": {
        "id": "4ImrZjcHzgYV",
        "colab": {
          "base_uri": "https://localhost:8080/"
        },
        "outputId": "e24383aa-1114-43cc-b536-1de148fa502c"
      },
      "execution_count": 67,
      "outputs": [
        {
          "output_type": "execute_result",
          "data": {
            "text/plain": [
              "GradientBoostingRegressor()"
            ]
          },
          "metadata": {},
          "execution_count": 67
        }
      ]
    },
    {
      "cell_type": "code",
      "source": [
        "gbr_scores = show_scores_sklearn(gbr_model)\n",
        "gbr_scores"
      ],
      "metadata": {
        "id": "bwqZjpwVzzs4",
        "colab": {
          "base_uri": "https://localhost:8080/"
        },
        "outputId": "c3274a04-ccd8-4d1e-80ba-026837972ccd"
      },
      "execution_count": 68,
      "outputs": [
        {
          "output_type": "stream",
          "name": "stderr",
          "text": [
            "/usr/local/lib/python3.7/dist-packages/sklearn/base.py:444: UserWarning: X has feature names, but GradientBoostingRegressor was fitted without feature names\n",
            "  f\"X has feature names, but {self.__class__.__name__} was fitted without\"\n"
          ]
        },
        {
          "output_type": "execute_result",
          "data": {
            "text/plain": [
              "{'mae': 0.3232404915765161,\n",
              " 'mape': 2263976343384.8643,\n",
              " 'mse': 0.5147214766493315,\n",
              " 'rmse': 0.7174409220621106,\n",
              " 'train_mae': 0.006485155274150088,\n",
              " 'train_mape': 5206056670667.829,\n",
              " 'train_mse': 0.0001109474056763794,\n",
              " 'train_rmse': 0.010533157440975589}"
            ]
          },
          "metadata": {},
          "execution_count": 68
        }
      ]
    },
    {
      "cell_type": "code",
      "source": [
        "models.append('GradientTreeBoosting Regressor')\n",
        "\n",
        "mae.append(gbr_scores['mae'])\n",
        "mape.append(gbr_scores['mape'])\n",
        "mse.append(gbr_scores['mse']) \n",
        "rmse.append(gbr_scores['rmse'])\n",
        "\n",
        "scores = pd.DataFrame(\n",
        "    data={\n",
        "        'models': models,\n",
        "        'mae': mae,\n",
        "        'mape': mape,\n",
        "        'mse': mse,\n",
        "        'rmse': rmse,\n",
        "    }    \n",
        ")\n",
        "\n",
        "scores"
      ],
      "metadata": {
        "id": "GRfQqQOAz5kf",
        "colab": {
          "base_uri": "https://localhost:8080/",
          "height": 500
        },
        "outputId": "95bb1e6d-119d-4497-8023-cfa706193804"
      },
      "execution_count": 69,
      "outputs": [
        {
          "output_type": "execute_result",
          "data": {
            "text/html": [
              "\n",
              "  <div id=\"df-0db0d6b6-ea0d-44be-aa1c-e9189bf8a221\">\n",
              "    <div class=\"colab-df-container\">\n",
              "      <div>\n",
              "<style scoped>\n",
              "    .dataframe tbody tr th:only-of-type {\n",
              "        vertical-align: middle;\n",
              "    }\n",
              "\n",
              "    .dataframe tbody tr th {\n",
              "        vertical-align: top;\n",
              "    }\n",
              "\n",
              "    .dataframe thead th {\n",
              "        text-align: right;\n",
              "    }\n",
              "</style>\n",
              "<table border=\"1\" class=\"dataframe\">\n",
              "  <thead>\n",
              "    <tr style=\"text-align: right;\">\n",
              "      <th></th>\n",
              "      <th>models</th>\n",
              "      <th>mae</th>\n",
              "      <th>mape</th>\n",
              "      <th>mse</th>\n",
              "      <th>rmse</th>\n",
              "    </tr>\n",
              "  </thead>\n",
              "  <tbody>\n",
              "    <tr>\n",
              "      <th>0</th>\n",
              "      <td>Naive</td>\n",
              "      <td>0.149135</td>\n",
              "      <td>9.619386e+04</td>\n",
              "      <td>0.070655</td>\n",
              "      <td>0.265810</td>\n",
              "    </tr>\n",
              "    <tr>\n",
              "      <th>1</th>\n",
              "      <td>Random Forest</td>\n",
              "      <td>0.247820</td>\n",
              "      <td>1.749970e+12</td>\n",
              "      <td>0.249441</td>\n",
              "      <td>0.499440</td>\n",
              "    </tr>\n",
              "    <tr>\n",
              "      <th>2</th>\n",
              "      <td>Random Forest Randomized Search</td>\n",
              "      <td>0.227049</td>\n",
              "      <td>1.045875e+12</td>\n",
              "      <td>0.203688</td>\n",
              "      <td>0.451318</td>\n",
              "    </tr>\n",
              "    <tr>\n",
              "      <th>3</th>\n",
              "      <td>KNeighboursRegressor</td>\n",
              "      <td>0.465543</td>\n",
              "      <td>1.166647e+13</td>\n",
              "      <td>0.646726</td>\n",
              "      <td>0.804193</td>\n",
              "    </tr>\n",
              "    <tr>\n",
              "      <th>4</th>\n",
              "      <td>KNeighboursRegressor Randomized Search</td>\n",
              "      <td>0.436333</td>\n",
              "      <td>1.295321e+13</td>\n",
              "      <td>0.596374</td>\n",
              "      <td>0.772253</td>\n",
              "    </tr>\n",
              "    <tr>\n",
              "      <th>5</th>\n",
              "      <td>Support Vector Regression</td>\n",
              "      <td>0.458923</td>\n",
              "      <td>2.129633e+13</td>\n",
              "      <td>0.658355</td>\n",
              "      <td>0.811391</td>\n",
              "    </tr>\n",
              "    <tr>\n",
              "      <th>6</th>\n",
              "      <td>Support Vector Regression Randomized Search</td>\n",
              "      <td>0.506515</td>\n",
              "      <td>1.212257e+14</td>\n",
              "      <td>0.475399</td>\n",
              "      <td>0.689492</td>\n",
              "    </tr>\n",
              "    <tr>\n",
              "      <th>7</th>\n",
              "      <td>VotingRegressor</td>\n",
              "      <td>0.334178</td>\n",
              "      <td>3.823115e+13</td>\n",
              "      <td>0.370336</td>\n",
              "      <td>0.608553</td>\n",
              "    </tr>\n",
              "    <tr>\n",
              "      <th>8</th>\n",
              "      <td>GradientTreeBoosting Regressor</td>\n",
              "      <td>0.323240</td>\n",
              "      <td>2.263976e+12</td>\n",
              "      <td>0.514721</td>\n",
              "      <td>0.717441</td>\n",
              "    </tr>\n",
              "  </tbody>\n",
              "</table>\n",
              "</div>\n",
              "      <button class=\"colab-df-convert\" onclick=\"convertToInteractive('df-0db0d6b6-ea0d-44be-aa1c-e9189bf8a221')\"\n",
              "              title=\"Convert this dataframe to an interactive table.\"\n",
              "              style=\"display:none;\">\n",
              "        \n",
              "  <svg xmlns=\"http://www.w3.org/2000/svg\" height=\"24px\"viewBox=\"0 0 24 24\"\n",
              "       width=\"24px\">\n",
              "    <path d=\"M0 0h24v24H0V0z\" fill=\"none\"/>\n",
              "    <path d=\"M18.56 5.44l.94 2.06.94-2.06 2.06-.94-2.06-.94-.94-2.06-.94 2.06-2.06.94zm-11 1L8.5 8.5l.94-2.06 2.06-.94-2.06-.94L8.5 2.5l-.94 2.06-2.06.94zm10 10l.94 2.06.94-2.06 2.06-.94-2.06-.94-.94-2.06-.94 2.06-2.06.94z\"/><path d=\"M17.41 7.96l-1.37-1.37c-.4-.4-.92-.59-1.43-.59-.52 0-1.04.2-1.43.59L10.3 9.45l-7.72 7.72c-.78.78-.78 2.05 0 2.83L4 21.41c.39.39.9.59 1.41.59.51 0 1.02-.2 1.41-.59l7.78-7.78 2.81-2.81c.8-.78.8-2.07 0-2.86zM5.41 20L4 18.59l7.72-7.72 1.47 1.35L5.41 20z\"/>\n",
              "  </svg>\n",
              "      </button>\n",
              "      \n",
              "  <style>\n",
              "    .colab-df-container {\n",
              "      display:flex;\n",
              "      flex-wrap:wrap;\n",
              "      gap: 12px;\n",
              "    }\n",
              "\n",
              "    .colab-df-convert {\n",
              "      background-color: #E8F0FE;\n",
              "      border: none;\n",
              "      border-radius: 50%;\n",
              "      cursor: pointer;\n",
              "      display: none;\n",
              "      fill: #1967D2;\n",
              "      height: 32px;\n",
              "      padding: 0 0 0 0;\n",
              "      width: 32px;\n",
              "    }\n",
              "\n",
              "    .colab-df-convert:hover {\n",
              "      background-color: #E2EBFA;\n",
              "      box-shadow: 0px 1px 2px rgba(60, 64, 67, 0.3), 0px 1px 3px 1px rgba(60, 64, 67, 0.15);\n",
              "      fill: #174EA6;\n",
              "    }\n",
              "\n",
              "    [theme=dark] .colab-df-convert {\n",
              "      background-color: #3B4455;\n",
              "      fill: #D2E3FC;\n",
              "    }\n",
              "\n",
              "    [theme=dark] .colab-df-convert:hover {\n",
              "      background-color: #434B5C;\n",
              "      box-shadow: 0px 1px 3px 1px rgba(0, 0, 0, 0.15);\n",
              "      filter: drop-shadow(0px 1px 2px rgba(0, 0, 0, 0.3));\n",
              "      fill: #FFFFFF;\n",
              "    }\n",
              "  </style>\n",
              "\n",
              "      <script>\n",
              "        const buttonEl =\n",
              "          document.querySelector('#df-0db0d6b6-ea0d-44be-aa1c-e9189bf8a221 button.colab-df-convert');\n",
              "        buttonEl.style.display =\n",
              "          google.colab.kernel.accessAllowed ? 'block' : 'none';\n",
              "\n",
              "        async function convertToInteractive(key) {\n",
              "          const element = document.querySelector('#df-0db0d6b6-ea0d-44be-aa1c-e9189bf8a221');\n",
              "          const dataTable =\n",
              "            await google.colab.kernel.invokeFunction('convertToInteractive',\n",
              "                                                     [key], {});\n",
              "          if (!dataTable) return;\n",
              "\n",
              "          const docLinkHtml = 'Like what you see? Visit the ' +\n",
              "            '<a target=\"_blank\" href=https://colab.research.google.com/notebooks/data_table.ipynb>data table notebook</a>'\n",
              "            + ' to learn more about interactive tables.';\n",
              "          element.innerHTML = '';\n",
              "          dataTable['output_type'] = 'display_data';\n",
              "          await google.colab.output.renderOutput(dataTable, element);\n",
              "          const docLink = document.createElement('div');\n",
              "          docLink.innerHTML = docLinkHtml;\n",
              "          element.appendChild(docLink);\n",
              "        }\n",
              "      </script>\n",
              "    </div>\n",
              "  </div>\n",
              "  "
            ],
            "text/plain": [
              "                                        models       mae  ...       mse      rmse\n",
              "0                                        Naive  0.149135  ...  0.070655  0.265810\n",
              "1                                Random Forest  0.247820  ...  0.249441  0.499440\n",
              "2              Random Forest Randomized Search  0.227049  ...  0.203688  0.451318\n",
              "3                         KNeighboursRegressor  0.465543  ...  0.646726  0.804193\n",
              "4       KNeighboursRegressor Randomized Search  0.436333  ...  0.596374  0.772253\n",
              "5                    Support Vector Regression  0.458923  ...  0.658355  0.811391\n",
              "6  Support Vector Regression Randomized Search  0.506515  ...  0.475399  0.689492\n",
              "7                              VotingRegressor  0.334178  ...  0.370336  0.608553\n",
              "8               GradientTreeBoosting Regressor  0.323240  ...  0.514721  0.717441\n",
              "\n",
              "[9 rows x 5 columns]"
            ]
          },
          "metadata": {},
          "execution_count": 69
        }
      ]
    },
    {
      "cell_type": "code",
      "source": [
        "np.random.seed(42)\n",
        "rf_gbr_params = {\n",
        "    'loss' : ['squared_error', 'absolute_error', 'huber', 'quantile'],\n",
        "    'n_estimators': [100, 200, 400, 800, 1000, 1600],\n",
        "    'criterion': ['friedman_mse', 'squared_error', 'absolute_error'],\n",
        "    'max_features': ['auto', 'sqrt', 'log2'],\n",
        "    'max_depth': [1, 3, 5, 10, 20, 50],\n",
        "    'min_samples_leaf': [1, 5, 10, 20],\n",
        "    'learning_rate': [0.1, 0.001, 0.005, 0.0001]\n",
        "}\n",
        "\n",
        "rs_gbr_model = RandomizedSearchCV(\n",
        "    GradientBoostingRegressor(),\n",
        "    param_distributions=rf_gbr_params,\n",
        "    n_iter=5,\n",
        "    cv=5,\n",
        "    verbose=True\n",
        ")\n",
        "\n",
        "#Fit the randomized search cv model\n",
        "rs_gbr_model.fit(X_train, y_train)"
      ],
      "metadata": {
        "id": "hLuqkhXY0Fxp",
        "colab": {
          "base_uri": "https://localhost:8080/"
        },
        "outputId": "0eb10713-f0c1-40db-b8b2-e73c29866521"
      },
      "execution_count": 70,
      "outputs": [
        {
          "output_type": "stream",
          "name": "stderr",
          "text": [
            "/usr/local/lib/python3.7/dist-packages/sklearn/ensemble/_gb.py:1859: FutureWarning: criterion='mae' was deprecated in version 0.24 and will be removed in version 1.1 (renaming of 0.26). The correct way of minimizing the absolute error is to use  loss='absolute_error' instead.\n",
            "  FutureWarning,\n"
          ]
        },
        {
          "output_type": "stream",
          "name": "stdout",
          "text": [
            "Fitting 5 folds for each of 5 candidates, totalling 25 fits\n"
          ]
        },
        {
          "output_type": "stream",
          "name": "stderr",
          "text": [
            "/usr/local/lib/python3.7/dist-packages/sklearn/ensemble/_gb.py:1859: FutureWarning: criterion='mae' was deprecated in version 0.24 and will be removed in version 1.1 (renaming of 0.26). The correct way of minimizing the absolute error is to use  loss='absolute_error' instead.\n",
            "  FutureWarning,\n",
            "/usr/local/lib/python3.7/dist-packages/sklearn/ensemble/_gb.py:1859: FutureWarning: criterion='mae' was deprecated in version 0.24 and will be removed in version 1.1 (renaming of 0.26). The correct way of minimizing the absolute error is to use  loss='absolute_error' instead.\n",
            "  FutureWarning,\n",
            "/usr/local/lib/python3.7/dist-packages/sklearn/ensemble/_gb.py:1859: FutureWarning: criterion='mae' was deprecated in version 0.24 and will be removed in version 1.1 (renaming of 0.26). The correct way of minimizing the absolute error is to use  loss='absolute_error' instead.\n",
            "  FutureWarning,\n",
            "/usr/local/lib/python3.7/dist-packages/sklearn/ensemble/_gb.py:1859: FutureWarning: criterion='mae' was deprecated in version 0.24 and will be removed in version 1.1 (renaming of 0.26). The correct way of minimizing the absolute error is to use  loss='absolute_error' instead.\n",
            "  FutureWarning,\n"
          ]
        },
        {
          "output_type": "execute_result",
          "data": {
            "text/plain": [
              "RandomizedSearchCV(cv=5, estimator=GradientBoostingRegressor(), n_iter=5,\n",
              "                   param_distributions={'criterion': ['friedman_mse',\n",
              "                                                      'squared_error',\n",
              "                                                      'absolute_error'],\n",
              "                                        'learning_rate': [0.1, 0.001, 0.005,\n",
              "                                                          0.0001],\n",
              "                                        'loss': ['squared_error',\n",
              "                                                 'absolute_error', 'huber',\n",
              "                                                 'quantile'],\n",
              "                                        'max_depth': [1, 3, 5, 10, 20, 50],\n",
              "                                        'max_features': ['auto', 'sqrt',\n",
              "                                                         'log2'],\n",
              "                                        'min_samples_leaf': [1, 5, 10, 20],\n",
              "                                        'n_estimators': [100, 200, 400, 800,\n",
              "                                                         1000, 1600]},\n",
              "                   verbose=True)"
            ]
          },
          "metadata": {},
          "execution_count": 70
        }
      ]
    },
    {
      "cell_type": "code",
      "source": [
        "rs_gbr_scores = show_scores_sklearn(rs_gbr_model)\n",
        "rs_gbr_scores"
      ],
      "metadata": {
        "id": "ehNDJGJI1P8j",
        "colab": {
          "base_uri": "https://localhost:8080/"
        },
        "outputId": "d582eab1-b990-44f3-d82f-3f5d3d61ab63"
      },
      "execution_count": 71,
      "outputs": [
        {
          "output_type": "stream",
          "name": "stderr",
          "text": [
            "/usr/local/lib/python3.7/dist-packages/sklearn/base.py:444: UserWarning: X has feature names, but GradientBoostingRegressor was fitted without feature names\n",
            "  f\"X has feature names, but {self.__class__.__name__} was fitted without\"\n"
          ]
        },
        {
          "output_type": "execute_result",
          "data": {
            "text/plain": [
              "{'mae': 0.2869658855925547,\n",
              " 'mape': 2353586783147.065,\n",
              " 'mse': 0.275675522638637,\n",
              " 'rmse': 0.5250481145939265,\n",
              " 'train_mae': 0.07813008232342261,\n",
              " 'train_mape': 3315059110969.143,\n",
              " 'train_mse': 0.3252036626505965,\n",
              " 'train_rmse': 0.5702663085354039}"
            ]
          },
          "metadata": {},
          "execution_count": 71
        }
      ]
    },
    {
      "cell_type": "code",
      "source": [
        "models.append('GradientTreeBoosting Regressor Randomized Search')\n",
        "\n",
        "mae.append(rs_gbr_scores['mae'])\n",
        "mape.append(rs_gbr_scores['mape'])\n",
        "mse.append(rs_gbr_scores['mse']) \n",
        "rmse.append(rs_gbr_scores['rmse'])\n",
        "\n",
        "scores = pd.DataFrame(\n",
        "    data={\n",
        "        'models': models,\n",
        "        'mae': mae,\n",
        "        'mape': mape,\n",
        "        'mse': mse,\n",
        "        'rmse': rmse,\n",
        "    }    \n",
        ")\n",
        "\n",
        "scores"
      ],
      "metadata": {
        "id": "Zcoe3BXm1oXt",
        "colab": {
          "base_uri": "https://localhost:8080/",
          "height": 566
        },
        "outputId": "c8dbb653-f5fa-4e08-c57c-a90038a72746"
      },
      "execution_count": 72,
      "outputs": [
        {
          "output_type": "execute_result",
          "data": {
            "text/html": [
              "\n",
              "  <div id=\"df-faad084d-75c1-4203-b4f9-c39d505a973a\">\n",
              "    <div class=\"colab-df-container\">\n",
              "      <div>\n",
              "<style scoped>\n",
              "    .dataframe tbody tr th:only-of-type {\n",
              "        vertical-align: middle;\n",
              "    }\n",
              "\n",
              "    .dataframe tbody tr th {\n",
              "        vertical-align: top;\n",
              "    }\n",
              "\n",
              "    .dataframe thead th {\n",
              "        text-align: right;\n",
              "    }\n",
              "</style>\n",
              "<table border=\"1\" class=\"dataframe\">\n",
              "  <thead>\n",
              "    <tr style=\"text-align: right;\">\n",
              "      <th></th>\n",
              "      <th>models</th>\n",
              "      <th>mae</th>\n",
              "      <th>mape</th>\n",
              "      <th>mse</th>\n",
              "      <th>rmse</th>\n",
              "    </tr>\n",
              "  </thead>\n",
              "  <tbody>\n",
              "    <tr>\n",
              "      <th>0</th>\n",
              "      <td>Naive</td>\n",
              "      <td>0.149135</td>\n",
              "      <td>9.619386e+04</td>\n",
              "      <td>0.070655</td>\n",
              "      <td>0.265810</td>\n",
              "    </tr>\n",
              "    <tr>\n",
              "      <th>1</th>\n",
              "      <td>Random Forest</td>\n",
              "      <td>0.247820</td>\n",
              "      <td>1.749970e+12</td>\n",
              "      <td>0.249441</td>\n",
              "      <td>0.499440</td>\n",
              "    </tr>\n",
              "    <tr>\n",
              "      <th>2</th>\n",
              "      <td>Random Forest Randomized Search</td>\n",
              "      <td>0.227049</td>\n",
              "      <td>1.045875e+12</td>\n",
              "      <td>0.203688</td>\n",
              "      <td>0.451318</td>\n",
              "    </tr>\n",
              "    <tr>\n",
              "      <th>3</th>\n",
              "      <td>KNeighboursRegressor</td>\n",
              "      <td>0.465543</td>\n",
              "      <td>1.166647e+13</td>\n",
              "      <td>0.646726</td>\n",
              "      <td>0.804193</td>\n",
              "    </tr>\n",
              "    <tr>\n",
              "      <th>4</th>\n",
              "      <td>KNeighboursRegressor Randomized Search</td>\n",
              "      <td>0.436333</td>\n",
              "      <td>1.295321e+13</td>\n",
              "      <td>0.596374</td>\n",
              "      <td>0.772253</td>\n",
              "    </tr>\n",
              "    <tr>\n",
              "      <th>5</th>\n",
              "      <td>Support Vector Regression</td>\n",
              "      <td>0.458923</td>\n",
              "      <td>2.129633e+13</td>\n",
              "      <td>0.658355</td>\n",
              "      <td>0.811391</td>\n",
              "    </tr>\n",
              "    <tr>\n",
              "      <th>6</th>\n",
              "      <td>Support Vector Regression Randomized Search</td>\n",
              "      <td>0.506515</td>\n",
              "      <td>1.212257e+14</td>\n",
              "      <td>0.475399</td>\n",
              "      <td>0.689492</td>\n",
              "    </tr>\n",
              "    <tr>\n",
              "      <th>7</th>\n",
              "      <td>VotingRegressor</td>\n",
              "      <td>0.334178</td>\n",
              "      <td>3.823115e+13</td>\n",
              "      <td>0.370336</td>\n",
              "      <td>0.608553</td>\n",
              "    </tr>\n",
              "    <tr>\n",
              "      <th>8</th>\n",
              "      <td>GradientTreeBoosting Regressor</td>\n",
              "      <td>0.323240</td>\n",
              "      <td>2.263976e+12</td>\n",
              "      <td>0.514721</td>\n",
              "      <td>0.717441</td>\n",
              "    </tr>\n",
              "    <tr>\n",
              "      <th>9</th>\n",
              "      <td>GradientTreeBoosting Regressor Randomized Search</td>\n",
              "      <td>0.286966</td>\n",
              "      <td>2.353587e+12</td>\n",
              "      <td>0.275676</td>\n",
              "      <td>0.525048</td>\n",
              "    </tr>\n",
              "  </tbody>\n",
              "</table>\n",
              "</div>\n",
              "      <button class=\"colab-df-convert\" onclick=\"convertToInteractive('df-faad084d-75c1-4203-b4f9-c39d505a973a')\"\n",
              "              title=\"Convert this dataframe to an interactive table.\"\n",
              "              style=\"display:none;\">\n",
              "        \n",
              "  <svg xmlns=\"http://www.w3.org/2000/svg\" height=\"24px\"viewBox=\"0 0 24 24\"\n",
              "       width=\"24px\">\n",
              "    <path d=\"M0 0h24v24H0V0z\" fill=\"none\"/>\n",
              "    <path d=\"M18.56 5.44l.94 2.06.94-2.06 2.06-.94-2.06-.94-.94-2.06-.94 2.06-2.06.94zm-11 1L8.5 8.5l.94-2.06 2.06-.94-2.06-.94L8.5 2.5l-.94 2.06-2.06.94zm10 10l.94 2.06.94-2.06 2.06-.94-2.06-.94-.94-2.06-.94 2.06-2.06.94z\"/><path d=\"M17.41 7.96l-1.37-1.37c-.4-.4-.92-.59-1.43-.59-.52 0-1.04.2-1.43.59L10.3 9.45l-7.72 7.72c-.78.78-.78 2.05 0 2.83L4 21.41c.39.39.9.59 1.41.59.51 0 1.02-.2 1.41-.59l7.78-7.78 2.81-2.81c.8-.78.8-2.07 0-2.86zM5.41 20L4 18.59l7.72-7.72 1.47 1.35L5.41 20z\"/>\n",
              "  </svg>\n",
              "      </button>\n",
              "      \n",
              "  <style>\n",
              "    .colab-df-container {\n",
              "      display:flex;\n",
              "      flex-wrap:wrap;\n",
              "      gap: 12px;\n",
              "    }\n",
              "\n",
              "    .colab-df-convert {\n",
              "      background-color: #E8F0FE;\n",
              "      border: none;\n",
              "      border-radius: 50%;\n",
              "      cursor: pointer;\n",
              "      display: none;\n",
              "      fill: #1967D2;\n",
              "      height: 32px;\n",
              "      padding: 0 0 0 0;\n",
              "      width: 32px;\n",
              "    }\n",
              "\n",
              "    .colab-df-convert:hover {\n",
              "      background-color: #E2EBFA;\n",
              "      box-shadow: 0px 1px 2px rgba(60, 64, 67, 0.3), 0px 1px 3px 1px rgba(60, 64, 67, 0.15);\n",
              "      fill: #174EA6;\n",
              "    }\n",
              "\n",
              "    [theme=dark] .colab-df-convert {\n",
              "      background-color: #3B4455;\n",
              "      fill: #D2E3FC;\n",
              "    }\n",
              "\n",
              "    [theme=dark] .colab-df-convert:hover {\n",
              "      background-color: #434B5C;\n",
              "      box-shadow: 0px 1px 3px 1px rgba(0, 0, 0, 0.15);\n",
              "      filter: drop-shadow(0px 1px 2px rgba(0, 0, 0, 0.3));\n",
              "      fill: #FFFFFF;\n",
              "    }\n",
              "  </style>\n",
              "\n",
              "      <script>\n",
              "        const buttonEl =\n",
              "          document.querySelector('#df-faad084d-75c1-4203-b4f9-c39d505a973a button.colab-df-convert');\n",
              "        buttonEl.style.display =\n",
              "          google.colab.kernel.accessAllowed ? 'block' : 'none';\n",
              "\n",
              "        async function convertToInteractive(key) {\n",
              "          const element = document.querySelector('#df-faad084d-75c1-4203-b4f9-c39d505a973a');\n",
              "          const dataTable =\n",
              "            await google.colab.kernel.invokeFunction('convertToInteractive',\n",
              "                                                     [key], {});\n",
              "          if (!dataTable) return;\n",
              "\n",
              "          const docLinkHtml = 'Like what you see? Visit the ' +\n",
              "            '<a target=\"_blank\" href=https://colab.research.google.com/notebooks/data_table.ipynb>data table notebook</a>'\n",
              "            + ' to learn more about interactive tables.';\n",
              "          element.innerHTML = '';\n",
              "          dataTable['output_type'] = 'display_data';\n",
              "          await google.colab.output.renderOutput(dataTable, element);\n",
              "          const docLink = document.createElement('div');\n",
              "          docLink.innerHTML = docLinkHtml;\n",
              "          element.appendChild(docLink);\n",
              "        }\n",
              "      </script>\n",
              "    </div>\n",
              "  </div>\n",
              "  "
            ],
            "text/plain": [
              "                                             models  ...      rmse\n",
              "0                                             Naive  ...  0.265810\n",
              "1                                     Random Forest  ...  0.499440\n",
              "2                   Random Forest Randomized Search  ...  0.451318\n",
              "3                              KNeighboursRegressor  ...  0.804193\n",
              "4            KNeighboursRegressor Randomized Search  ...  0.772253\n",
              "5                         Support Vector Regression  ...  0.811391\n",
              "6       Support Vector Regression Randomized Search  ...  0.689492\n",
              "7                                   VotingRegressor  ...  0.608553\n",
              "8                    GradientTreeBoosting Regressor  ...  0.717441\n",
              "9  GradientTreeBoosting Regressor Randomized Search  ...  0.525048\n",
              "\n",
              "[10 rows x 5 columns]"
            ]
          },
          "metadata": {},
          "execution_count": 72
        }
      ]
    },
    {
      "cell_type": "markdown",
      "source": [
        "### Plotting best model evaluations"
      ],
      "metadata": {
        "id": "pANNgLrORnOS"
      }
    },
    {
      "cell_type": "code",
      "source": [
        "# Plot forecasts\n",
        "rs_forecast = model.predict(X_test)\n",
        "rs_ideal_forecast = rs_model.predict(X_test)\n",
        "k_forecast = k_model.predict(X_test)\n",
        "rs_k_forecast = rs_k_model.predict(X_test)\n",
        "svr_forecast = svr_model.predict(X_test)\n",
        "rs_svr_forecast = rs_svr_model.predict(X_test) \n",
        "vr_forecast = vr_model.predict(X_test)\n",
        "gbr_forecast = gbr_model.predict(X_test)\n",
        "rs_gbr_forecast = rs_gbr_model.predict(X_test)"
      ],
      "metadata": {
        "colab": {
          "base_uri": "https://localhost:8080/"
        },
        "id": "SPyZblZPT9md",
        "outputId": "7b8e3afc-ca77-4b7f-d6c3-394b2f2d1890"
      },
      "execution_count": 73,
      "outputs": [
        {
          "output_type": "stream",
          "name": "stderr",
          "text": [
            "/usr/local/lib/python3.7/dist-packages/sklearn/base.py:444: UserWarning: X has feature names, but RandomForestRegressor was fitted without feature names\n",
            "  f\"X has feature names, but {self.__class__.__name__} was fitted without\"\n",
            "/usr/local/lib/python3.7/dist-packages/sklearn/base.py:444: UserWarning: X has feature names, but RandomForestRegressor was fitted without feature names\n",
            "  f\"X has feature names, but {self.__class__.__name__} was fitted without\"\n",
            "/usr/local/lib/python3.7/dist-packages/sklearn/base.py:444: UserWarning: X has feature names, but KNeighborsRegressor was fitted without feature names\n",
            "  f\"X has feature names, but {self.__class__.__name__} was fitted without\"\n",
            "/usr/local/lib/python3.7/dist-packages/sklearn/base.py:444: UserWarning: X has feature names, but KNeighborsRegressor was fitted without feature names\n",
            "  f\"X has feature names, but {self.__class__.__name__} was fitted without\"\n",
            "/usr/local/lib/python3.7/dist-packages/sklearn/base.py:444: UserWarning: X has feature names, but SVR was fitted without feature names\n",
            "  f\"X has feature names, but {self.__class__.__name__} was fitted without\"\n",
            "/usr/local/lib/python3.7/dist-packages/sklearn/base.py:444: UserWarning: X has feature names, but SVR was fitted without feature names\n",
            "  f\"X has feature names, but {self.__class__.__name__} was fitted without\"\n",
            "/usr/local/lib/python3.7/dist-packages/sklearn/base.py:444: UserWarning: X has feature names, but RandomForestRegressor was fitted without feature names\n",
            "  f\"X has feature names, but {self.__class__.__name__} was fitted without\"\n",
            "/usr/local/lib/python3.7/dist-packages/sklearn/base.py:444: UserWarning: X has feature names, but KNeighborsRegressor was fitted without feature names\n",
            "  f\"X has feature names, but {self.__class__.__name__} was fitted without\"\n",
            "/usr/local/lib/python3.7/dist-packages/sklearn/base.py:444: UserWarning: X has feature names, but SVR was fitted without feature names\n",
            "  f\"X has feature names, but {self.__class__.__name__} was fitted without\"\n",
            "/usr/local/lib/python3.7/dist-packages/sklearn/base.py:444: UserWarning: X has feature names, but GradientBoostingRegressor was fitted without feature names\n",
            "  f\"X has feature names, but {self.__class__.__name__} was fitted without\"\n",
            "/usr/local/lib/python3.7/dist-packages/sklearn/base.py:444: UserWarning: X has feature names, but GradientBoostingRegressor was fitted without feature names\n",
            "  f\"X has feature names, but {self.__class__.__name__} was fitted without\"\n"
          ]
        }
      ]
    },
    {
      "cell_type": "code",
      "source": [
        "plt.figure(figsize=(18, 7))\n",
        "offset = 10 # offset the values by 300 timesteps \n",
        "plot_time_series(timesteps=X_time_test,  values=y_test, label=\"Test data\")\n",
        "plot_time_series(timesteps=X_time_test[1:], values=naive_forecast, format=\"-\",  label=\"Naive forecast\")\n",
        "plot_time_series(timesteps=X_time_test, start=offset, values=rs_forecast, label='RandomForest forecast')\n",
        "plot_time_series(timesteps=X_time_test,  values=rs_ideal_forecast, label='Randomized Search RandomForest forecast')\n",
        "# plot_time_series(timesteps=X_time_test, start=offset, values=k_forecast, label='KNR forecast')\n",
        "# plot_time_series(timesteps=X_time_test, start=offset, values=rs_k_forecast, label='Ideal KNR forecast')\n",
        "# plot_time_series(timesteps=X_time_test, start=offset, values=svr_forecast, label='SVR forecast')\n",
        "# plot_time_series(timesteps=X_time_test, start=offset, values=rs_svr_forecast, label='Ideal SVR forecast')\n",
        "# plot_time_series(timesteps=X_time_test, start=offset, values=vr_forecast, label='VotingRegressor forecast')\n",
        "plot_time_series(timesteps=X_time_test, start=offset, values=gbr_forecast, label='GradientTree forecast')\n",
        "plot_time_series(timesteps=X_time_test, values=rs_gbr_forecast, label='Randomized Search GradientTree forecast')\n",
        "plt.title('Best Model Predictions for Iloilo', fontsize=18, fontweight='bold')\n",
        "\n",
        "plt.show();"
      ],
      "metadata": {
        "colab": {
          "base_uri": "https://localhost:8080/",
          "height": 54
        },
        "id": "voq3SajUW68E",
        "outputId": "613b7242-3672-4a0f-cafe-8ad52f93b025"
      },
      "execution_count": 74,
      "outputs": [
        {
          "output_type": "display_data",
          "data": {
            "image/png": "[encoded data removed]",
            "text/plain": [
              "<Figure size 1296x504 with 1 Axes>"
            ]
          },
          "metadata": {
            "needs_background": "light"
          }
        }
      ]
    },
    {
      "cell_type": "markdown",
      "source": [
        " ### Feature importance"
      ],
      "metadata": {
        "id": "tB_TlVhgf3Qa"
      }
    },
    {
      "cell_type": "code",
      "source": [
        "rs_model.best_params_"
      ],
      "metadata": {
        "colab": {
          "base_uri": "https://localhost:8080/"
        },
        "id": "I4MtLukZhhfw",
        "outputId": "bf1876ef-8b5b-460a-c91f-130df5c7d43e"
      },
      "execution_count": 75,
      "outputs": [
        {
          "output_type": "execute_result",
          "data": {
            "text/plain": [
              "{'max_depth': 10,\n",
              " 'max_features': 'auto',\n",
              " 'max_samples': 332,\n",
              " 'min_samples_leaf': 3,\n",
              " 'min_samples_split': 18,\n",
              " 'n_estimators': 70}"
            ]
          },
          "metadata": {},
          "execution_count": 75
        }
      ]
    },
    {
      "cell_type": "code",
      "source": [
        "# best_rs_model = RandomForestRegressor(\n",
        "#     n_jobs=-1,\n",
        "#     max_depth=30,\n",
        "#     max_features='auto',\n",
        "#     max_samples=416,\n",
        "#     min_samples_leaf=10,\n",
        "#     min_samples_split=40,\n",
        "#     n_estimators=200\n",
        "# )\n",
        "\n",
        "# best_rs_model.fit(X_train, y_train)\n",
        "np.random.seed(1)\n",
        "best_rs_model = RandomForestRegressor(\n",
        "    n_jobs=-1,\n",
        "    max_depth=150,\n",
        "    max_features='auto',\n",
        "    max_samples=416,\n",
        "    min_samples_leaf=10,\n",
        "    min_samples_split=60,\n",
        "    n_estimators=700\n",
        ")\n",
        "\n",
        "best_rs_model.fit(X_train, y_train)"
      ],
      "metadata": {
        "colab": {
          "base_uri": "https://localhost:8080/"
        },
        "id": "fEB5eZTqv1Gl",
        "outputId": "32278e98-5a86-4355-cb10-4672f4457f90"
      },
      "execution_count": 76,
      "outputs": [
        {
          "output_type": "execute_result",
          "data": {
            "text/plain": [
              "RandomForestRegressor(max_depth=150, max_samples=416, min_samples_leaf=10,\n",
              "                      min_samples_split=60, n_estimators=700, n_jobs=-1)"
            ]
          },
          "metadata": {},
          "execution_count": 76
        }
      ]
    },
    {
      "cell_type": "code",
      "source": [
        "best_rs_scores = show_scores_sklearn(best_rs_model)\n",
        "best_rs_scores"
      ],
      "metadata": {
        "colab": {
          "base_uri": "https://localhost:8080/"
        },
        "id": "Zpe3xzZKiF18",
        "outputId": "1d3efecf-b436-452f-ced1-b916c7f0d145"
      },
      "execution_count": 77,
      "outputs": [
        {
          "output_type": "stream",
          "name": "stderr",
          "text": [
            "/usr/local/lib/python3.7/dist-packages/sklearn/base.py:444: UserWarning: X has feature names, but RandomForestRegressor was fitted without feature names\n",
            "  f\"X has feature names, but {self.__class__.__name__} was fitted without\"\n"
          ]
        },
        {
          "output_type": "execute_result",
          "data": {
            "text/plain": [
              "{'mae': 0.2059499962206294,\n",
              " 'mape': 910361206506.7616,\n",
              " 'mse': 0.15569557720145136,\n",
              " 'rmse': 0.3945827887800624,\n",
              " 'train_mae': 0.08743100592517482,\n",
              " 'train_mape': 8464580601329.007,\n",
              " 'train_mse': 0.2152750326976146,\n",
              " 'train_rmse': 0.4639774053740275}"
            ]
          },
          "metadata": {},
          "execution_count": 77
        }
      ]
    },
    {
      "cell_type": "code",
      "source": [
        "scores"
      ],
      "metadata": {
        "colab": {
          "base_uri": "https://localhost:8080/",
          "height": 459
        },
        "id": "W13J_o0TxASu",
        "outputId": "4cfe461c-ca1e-490e-fd84-3494ba8ce7a5"
      },
      "execution_count": 78,
      "outputs": [
        {
          "output_type": "execute_result",
          "data": {
            "text/html": [
              "\n",
              "  <div id=\"df-e4218474-2b78-498a-8fc6-8ea178f2754b\">\n",
              "    <div class=\"colab-df-container\">\n",
              "      <div>\n",
              "<style scoped>\n",
              "    .dataframe tbody tr th:only-of-type {\n",
              "        vertical-align: middle;\n",
              "    }\n",
              "\n",
              "    .dataframe tbody tr th {\n",
              "        vertical-align: top;\n",
              "    }\n",
              "\n",
              "    .dataframe thead th {\n",
              "        text-align: right;\n",
              "    }\n",
              "</style>\n",
              "<table border=\"1\" class=\"dataframe\">\n",
              "  <thead>\n",
              "    <tr style=\"text-align: right;\">\n",
              "      <th></th>\n",
              "      <th>models</th>\n",
              "      <th>mae</th>\n",
              "      <th>mape</th>\n",
              "      <th>mse</th>\n",
              "      <th>rmse</th>\n",
              "    </tr>\n",
              "  </thead>\n",
              "  <tbody>\n",
              "    <tr>\n",
              "      <th>0</th>\n",
              "      <td>Naive</td>\n",
              "      <td>0.149135</td>\n",
              "      <td>9.619386e+04</td>\n",
              "      <td>0.070655</td>\n",
              "      <td>0.265810</td>\n",
              "    </tr>\n",
              "    <tr>\n",
              "      <th>1</th>\n",
              "      <td>Random Forest</td>\n",
              "      <td>0.247820</td>\n",
              "      <td>1.749970e+12</td>\n",
              "      <td>0.249441</td>\n",
              "      <td>0.499440</td>\n",
              "    </tr>\n",
              "    <tr>\n",
              "      <th>2</th>\n",
              "      <td>Random Forest Randomized Search</td>\n",
              "      <td>0.227049</td>\n",
              "      <td>1.045875e+12</td>\n",
              "      <td>0.203688</td>\n",
              "      <td>0.451318</td>\n",
              "    </tr>\n",
              "    <tr>\n",
              "      <th>3</th>\n",
              "      <td>KNeighboursRegressor</td>\n",
              "      <td>0.465543</td>\n",
              "      <td>1.166647e+13</td>\n",
              "      <td>0.646726</td>\n",
              "      <td>0.804193</td>\n",
              "    </tr>\n",
              "    <tr>\n",
              "      <th>4</th>\n",
              "      <td>KNeighboursRegressor Randomized Search</td>\n",
              "      <td>0.436333</td>\n",
              "      <td>1.295321e+13</td>\n",
              "      <td>0.596374</td>\n",
              "      <td>0.772253</td>\n",
              "    </tr>\n",
              "    <tr>\n",
              "      <th>5</th>\n",
              "      <td>Support Vector Regression</td>\n",
              "      <td>0.458923</td>\n",
              "      <td>2.129633e+13</td>\n",
              "      <td>0.658355</td>\n",
              "      <td>0.811391</td>\n",
              "    </tr>\n",
              "    <tr>\n",
              "      <th>6</th>\n",
              "      <td>Support Vector Regression Randomized Search</td>\n",
              "      <td>0.506515</td>\n",
              "      <td>1.212257e+14</td>\n",
              "      <td>0.475399</td>\n",
              "      <td>0.689492</td>\n",
              "    </tr>\n",
              "    <tr>\n",
              "      <th>7</th>\n",
              "      <td>VotingRegressor</td>\n",
              "      <td>0.334178</td>\n",
              "      <td>3.823115e+13</td>\n",
              "      <td>0.370336</td>\n",
              "      <td>0.608553</td>\n",
              "    </tr>\n",
              "    <tr>\n",
              "      <th>8</th>\n",
              "      <td>GradientTreeBoosting Regressor</td>\n",
              "      <td>0.323240</td>\n",
              "      <td>2.263976e+12</td>\n",
              "      <td>0.514721</td>\n",
              "      <td>0.717441</td>\n",
              "    </tr>\n",
              "    <tr>\n",
              "      <th>9</th>\n",
              "      <td>GradientTreeBoosting Regressor Randomized Search</td>\n",
              "      <td>0.286966</td>\n",
              "      <td>2.353587e+12</td>\n",
              "      <td>0.275676</td>\n",
              "      <td>0.525048</td>\n",
              "    </tr>\n",
              "  </tbody>\n",
              "</table>\n",
              "</div>\n",
              "      <button class=\"colab-df-convert\" onclick=\"convertToInteractive('df-e4218474-2b78-498a-8fc6-8ea178f2754b')\"\n",
              "              title=\"Convert this dataframe to an interactive table.\"\n",
              "              style=\"display:none;\">\n",
              "        \n",
              "  <svg xmlns=\"http://www.w3.org/2000/svg\" height=\"24px\"viewBox=\"0 0 24 24\"\n",
              "       width=\"24px\">\n",
              "    <path d=\"M0 0h24v24H0V0z\" fill=\"none\"/>\n",
              "    <path d=\"M18.56 5.44l.94 2.06.94-2.06 2.06-.94-2.06-.94-.94-2.06-.94 2.06-2.06.94zm-11 1L8.5 8.5l.94-2.06 2.06-.94-2.06-.94L8.5 2.5l-.94 2.06-2.06.94zm10 10l.94 2.06.94-2.06 2.06-.94-2.06-.94-.94-2.06-.94 2.06-2.06.94z\"/><path d=\"M17.41 7.96l-1.37-1.37c-.4-.4-.92-.59-1.43-.59-.52 0-1.04.2-1.43.59L10.3 9.45l-7.72 7.72c-.78.78-.78 2.05 0 2.83L4 21.41c.39.39.9.59 1.41.59.51 0 1.02-.2 1.41-.59l7.78-7.78 2.81-2.81c.8-.78.8-2.07 0-2.86zM5.41 20L4 18.59l7.72-7.72 1.47 1.35L5.41 20z\"/>\n",
              "  </svg>\n",
              "      </button>\n",
              "      \n",
              "  <style>\n",
              "    .colab-df-container {\n",
              "      display:flex;\n",
              "      flex-wrap:wrap;\n",
              "      gap: 12px;\n",
              "    }\n",
              "\n",
              "    .colab-df-convert {\n",
              "      background-color: #E8F0FE;\n",
              "      border: none;\n",
              "      border-radius: 50%;\n",
              "      cursor: pointer;\n",
              "      display: none;\n",
              "      fill: #1967D2;\n",
              "      height: 32px;\n",
              "      padding: 0 0 0 0;\n",
              "      width: 32px;\n",
              "    }\n",
              "\n",
              "    .colab-df-convert:hover {\n",
              "      background-color: #E2EBFA;\n",
              "      box-shadow: 0px 1px 2px rgba(60, 64, 67, 0.3), 0px 1px 3px 1px rgba(60, 64, 67, 0.15);\n",
              "      fill: #174EA6;\n",
              "    }\n",
              "\n",
              "    [theme=dark] .colab-df-convert {\n",
              "      background-color: #3B4455;\n",
              "      fill: #D2E3FC;\n",
              "    }\n",
              "\n",
              "    [theme=dark] .colab-df-convert:hover {\n",
              "      background-color: #434B5C;\n",
              "      box-shadow: 0px 1px 3px 1px rgba(0, 0, 0, 0.15);\n",
              "      filter: drop-shadow(0px 1px 2px rgba(0, 0, 0, 0.3));\n",
              "      fill: #FFFFFF;\n",
              "    }\n",
              "  </style>\n",
              "\n",
              "      <script>\n",
              "        const buttonEl =\n",
              "          document.querySelector('#df-e4218474-2b78-498a-8fc6-8ea178f2754b button.colab-df-convert');\n",
              "        buttonEl.style.display =\n",
              "          google.colab.kernel.accessAllowed ? 'block' : 'none';\n",
              "\n",
              "        async function convertToInteractive(key) {\n",
              "          const element = document.querySelector('#df-e4218474-2b78-498a-8fc6-8ea178f2754b');\n",
              "          const dataTable =\n",
              "            await google.colab.kernel.invokeFunction('convertToInteractive',\n",
              "                                                     [key], {});\n",
              "          if (!dataTable) return;\n",
              "\n",
              "          const docLinkHtml = 'Like what you see? Visit the ' +\n",
              "            '<a target=\"_blank\" href=https://colab.research.google.com/notebooks/data_table.ipynb>data table notebook</a>'\n",
              "            + ' to learn more about interactive tables.';\n",
              "          element.innerHTML = '';\n",
              "          dataTable['output_type'] = 'display_data';\n",
              "          await google.colab.output.renderOutput(dataTable, element);\n",
              "          const docLink = document.createElement('div');\n",
              "          docLink.innerHTML = docLinkHtml;\n",
              "          element.appendChild(docLink);\n",
              "        }\n",
              "      </script>\n",
              "    </div>\n",
              "  </div>\n",
              "  "
            ],
            "text/plain": [
              "                                             models  ...      rmse\n",
              "0                                             Naive  ...  0.265810\n",
              "1                                     Random Forest  ...  0.499440\n",
              "2                   Random Forest Randomized Search  ...  0.451318\n",
              "3                              KNeighboursRegressor  ...  0.804193\n",
              "4            KNeighboursRegressor Randomized Search  ...  0.772253\n",
              "5                         Support Vector Regression  ...  0.811391\n",
              "6       Support Vector Regression Randomized Search  ...  0.689492\n",
              "7                                   VotingRegressor  ...  0.608553\n",
              "8                    GradientTreeBoosting Regressor  ...  0.717441\n",
              "9  GradientTreeBoosting Regressor Randomized Search  ...  0.525048\n",
              "\n",
              "[10 rows x 5 columns]"
            ]
          },
          "metadata": {},
          "execution_count": 78
        }
      ]
    },
    {
      "cell_type": "code",
      "source": [
        "models.append('Random Forest Manually Tuned')\n",
        "\n",
        "mae.append(best_rs_scores['mae'])\n",
        "mape.append(best_rs_scores['mape'])\n",
        "mse.append(best_rs_scores['mse']) \n",
        "rmse.append(best_rs_scores['rmse'])\n",
        "\n",
        "scores = pd.DataFrame(\n",
        "    data={\n",
        "        'models': models,\n",
        "        'mae': mae,\n",
        "        'mape': mape,\n",
        "        'mse': mse,\n",
        "        'rmse': rmse,\n",
        "    }    \n",
        ")\n",
        "\n",
        "scores"
      ],
      "metadata": {
        "colab": {
          "base_uri": "https://localhost:8080/",
          "height": 491
        },
        "id": "_wqdH43xvys0",
        "outputId": "2f3c2e45-07d6-4b87-8995-a30b9d4947a1"
      },
      "execution_count": 79,
      "outputs": [
        {
          "output_type": "execute_result",
          "data": {
            "text/html": [
              "\n",
              "  <div id=\"df-d2b16abb-a032-485f-9a0c-0e6536c00ba5\">\n",
              "    <div class=\"colab-df-container\">\n",
              "      <div>\n",
              "<style scoped>\n",
              "    .dataframe tbody tr th:only-of-type {\n",
              "        vertical-align: middle;\n",
              "    }\n",
              "\n",
              "    .dataframe tbody tr th {\n",
              "        vertical-align: top;\n",
              "    }\n",
              "\n",
              "    .dataframe thead th {\n",
              "        text-align: right;\n",
              "    }\n",
              "</style>\n",
              "<table border=\"1\" class=\"dataframe\">\n",
              "  <thead>\n",
              "    <tr style=\"text-align: right;\">\n",
              "      <th></th>\n",
              "      <th>models</th>\n",
              "      <th>mae</th>\n",
              "      <th>mape</th>\n",
              "      <th>mse</th>\n",
              "      <th>rmse</th>\n",
              "    </tr>\n",
              "  </thead>\n",
              "  <tbody>\n",
              "    <tr>\n",
              "      <th>0</th>\n",
              "      <td>Naive</td>\n",
              "      <td>0.149135</td>\n",
              "      <td>9.619386e+04</td>\n",
              "      <td>0.070655</td>\n",
              "      <td>0.265810</td>\n",
              "    </tr>\n",
              "    <tr>\n",
              "      <th>1</th>\n",
              "      <td>Random Forest</td>\n",
              "      <td>0.247820</td>\n",
              "      <td>1.749970e+12</td>\n",
              "      <td>0.249441</td>\n",
              "      <td>0.499440</td>\n",
              "    </tr>\n",
              "    <tr>\n",
              "      <th>2</th>\n",
              "      <td>Random Forest Randomized Search</td>\n",
              "      <td>0.227049</td>\n",
              "      <td>1.045875e+12</td>\n",
              "      <td>0.203688</td>\n",
              "      <td>0.451318</td>\n",
              "    </tr>\n",
              "    <tr>\n",
              "      <th>3</th>\n",
              "      <td>KNeighboursRegressor</td>\n",
              "      <td>0.465543</td>\n",
              "      <td>1.166647e+13</td>\n",
              "      <td>0.646726</td>\n",
              "      <td>0.804193</td>\n",
              "    </tr>\n",
              "    <tr>\n",
              "      <th>4</th>\n",
              "      <td>KNeighboursRegressor Randomized Search</td>\n",
              "      <td>0.436333</td>\n",
              "      <td>1.295321e+13</td>\n",
              "      <td>0.596374</td>\n",
              "      <td>0.772253</td>\n",
              "    </tr>\n",
              "    <tr>\n",
              "      <th>5</th>\n",
              "      <td>Support Vector Regression</td>\n",
              "      <td>0.458923</td>\n",
              "      <td>2.129633e+13</td>\n",
              "      <td>0.658355</td>\n",
              "      <td>0.811391</td>\n",
              "    </tr>\n",
              "    <tr>\n",
              "      <th>6</th>\n",
              "      <td>Support Vector Regression Randomized Search</td>\n",
              "      <td>0.506515</td>\n",
              "      <td>1.212257e+14</td>\n",
              "      <td>0.475399</td>\n",
              "      <td>0.689492</td>\n",
              "    </tr>\n",
              "    <tr>\n",
              "      <th>7</th>\n",
              "      <td>VotingRegressor</td>\n",
              "      <td>0.334178</td>\n",
              "      <td>3.823115e+13</td>\n",
              "      <td>0.370336</td>\n",
              "      <td>0.608553</td>\n",
              "    </tr>\n",
              "    <tr>\n",
              "      <th>8</th>\n",
              "      <td>GradientTreeBoosting Regressor</td>\n",
              "      <td>0.323240</td>\n",
              "      <td>2.263976e+12</td>\n",
              "      <td>0.514721</td>\n",
              "      <td>0.717441</td>\n",
              "    </tr>\n",
              "    <tr>\n",
              "      <th>9</th>\n",
              "      <td>GradientTreeBoosting Regressor Randomized Search</td>\n",
              "      <td>0.286966</td>\n",
              "      <td>2.353587e+12</td>\n",
              "      <td>0.275676</td>\n",
              "      <td>0.525048</td>\n",
              "    </tr>\n",
              "    <tr>\n",
              "      <th>10</th>\n",
              "      <td>Random Forest Manually Tuned</td>\n",
              "      <td>0.205950</td>\n",
              "      <td>9.103612e+11</td>\n",
              "      <td>0.155696</td>\n",
              "      <td>0.394583</td>\n",
              "    </tr>\n",
              "  </tbody>\n",
              "</table>\n",
              "</div>\n",
              "      <button class=\"colab-df-convert\" onclick=\"convertToInteractive('df-d2b16abb-a032-485f-9a0c-0e6536c00ba5')\"\n",
              "              title=\"Convert this dataframe to an interactive table.\"\n",
              "              style=\"display:none;\">\n",
              "        \n",
              "  <svg xmlns=\"http://www.w3.org/2000/svg\" height=\"24px\"viewBox=\"0 0 24 24\"\n",
              "       width=\"24px\">\n",
              "    <path d=\"M0 0h24v24H0V0z\" fill=\"none\"/>\n",
              "    <path d=\"M18.56 5.44l.94 2.06.94-2.06 2.06-.94-2.06-.94-.94-2.06-.94 2.06-2.06.94zm-11 1L8.5 8.5l.94-2.06 2.06-.94-2.06-.94L8.5 2.5l-.94 2.06-2.06.94zm10 10l.94 2.06.94-2.06 2.06-.94-2.06-.94-.94-2.06-.94 2.06-2.06.94z\"/><path d=\"M17.41 7.96l-1.37-1.37c-.4-.4-.92-.59-1.43-.59-.52 0-1.04.2-1.43.59L10.3 9.45l-7.72 7.72c-.78.78-.78 2.05 0 2.83L4 21.41c.39.39.9.59 1.41.59.51 0 1.02-.2 1.41-.59l7.78-7.78 2.81-2.81c.8-.78.8-2.07 0-2.86zM5.41 20L4 18.59l7.72-7.72 1.47 1.35L5.41 20z\"/>\n",
              "  </svg>\n",
              "      </button>\n",
              "      \n",
              "  <style>\n",
              "    .colab-df-container {\n",
              "      display:flex;\n",
              "      flex-wrap:wrap;\n",
              "      gap: 12px;\n",
              "    }\n",
              "\n",
              "    .colab-df-convert {\n",
              "      background-color: #E8F0FE;\n",
              "      border: none;\n",
              "      border-radius: 50%;\n",
              "      cursor: pointer;\n",
              "      display: none;\n",
              "      fill: #1967D2;\n",
              "      height: 32px;\n",
              "      padding: 0 0 0 0;\n",
              "      width: 32px;\n",
              "    }\n",
              "\n",
              "    .colab-df-convert:hover {\n",
              "      background-color: #E2EBFA;\n",
              "      box-shadow: 0px 1px 2px rgba(60, 64, 67, 0.3), 0px 1px 3px 1px rgba(60, 64, 67, 0.15);\n",
              "      fill: #174EA6;\n",
              "    }\n",
              "\n",
              "    [theme=dark] .colab-df-convert {\n",
              "      background-color: #3B4455;\n",
              "      fill: #D2E3FC;\n",
              "    }\n",
              "\n",
              "    [theme=dark] .colab-df-convert:hover {\n",
              "      background-color: #434B5C;\n",
              "      box-shadow: 0px 1px 3px 1px rgba(0, 0, 0, 0.15);\n",
              "      filter: drop-shadow(0px 1px 2px rgba(0, 0, 0, 0.3));\n",
              "      fill: #FFFFFF;\n",
              "    }\n",
              "  </style>\n",
              "\n",
              "      <script>\n",
              "        const buttonEl =\n",
              "          document.querySelector('#df-d2b16abb-a032-485f-9a0c-0e6536c00ba5 button.colab-df-convert');\n",
              "        buttonEl.style.display =\n",
              "          google.colab.kernel.accessAllowed ? 'block' : 'none';\n",
              "\n",
              "        async function convertToInteractive(key) {\n",
              "          const element = document.querySelector('#df-d2b16abb-a032-485f-9a0c-0e6536c00ba5');\n",
              "          const dataTable =\n",
              "            await google.colab.kernel.invokeFunction('convertToInteractive',\n",
              "                                                     [key], {});\n",
              "          if (!dataTable) return;\n",
              "\n",
              "          const docLinkHtml = 'Like what you see? Visit the ' +\n",
              "            '<a target=\"_blank\" href=https://colab.research.google.com/notebooks/data_table.ipynb>data table notebook</a>'\n",
              "            + ' to learn more about interactive tables.';\n",
              "          element.innerHTML = '';\n",
              "          dataTable['output_type'] = 'display_data';\n",
              "          await google.colab.output.renderOutput(dataTable, element);\n",
              "          const docLink = document.createElement('div');\n",
              "          docLink.innerHTML = docLinkHtml;\n",
              "          element.appendChild(docLink);\n",
              "        }\n",
              "      </script>\n",
              "    </div>\n",
              "  </div>\n",
              "  "
            ],
            "text/plain": [
              "                                              models  ...      rmse\n",
              "0                                              Naive  ...  0.265810\n",
              "1                                      Random Forest  ...  0.499440\n",
              "2                    Random Forest Randomized Search  ...  0.451318\n",
              "3                               KNeighboursRegressor  ...  0.804193\n",
              "4             KNeighboursRegressor Randomized Search  ...  0.772253\n",
              "5                          Support Vector Regression  ...  0.811391\n",
              "6        Support Vector Regression Randomized Search  ...  0.689492\n",
              "7                                    VotingRegressor  ...  0.608553\n",
              "8                     GradientTreeBoosting Regressor  ...  0.717441\n",
              "9   GradientTreeBoosting Regressor Randomized Search  ...  0.525048\n",
              "10                      Random Forest Manually Tuned  ...  0.394583\n",
              "\n",
              "[11 rows x 5 columns]"
            ]
          },
          "metadata": {},
          "execution_count": 79
        }
      ]
    },
    {
      "cell_type": "code",
      "source": [
        "best_rs_forecast = best_rs_model.predict(X_test)"
      ],
      "metadata": {
        "colab": {
          "base_uri": "https://localhost:8080/"
        },
        "id": "QWMaEYYBiIze",
        "outputId": "b5114ef4-11b6-4976-f9d0-299ea25df5f0"
      },
      "execution_count": 80,
      "outputs": [
        {
          "output_type": "stream",
          "name": "stderr",
          "text": [
            "/usr/local/lib/python3.7/dist-packages/sklearn/base.py:444: UserWarning: X has feature names, but RandomForestRegressor was fitted without feature names\n",
            "  f\"X has feature names, but {self.__class__.__name__} was fitted without\"\n"
          ]
        }
      ]
    },
    {
      "cell_type": "code",
      "source": [
        "plt.figure(figsize=(10, 7))\n",
        "offset = 10 # offset the values by 300 timesteps \n",
        "plot_time_series(timesteps=X_time_test,  values=y_test, label=\"Test data\")\n",
        "plot_time_series(timesteps=X_time_test[1:], values=naive_forecast, format=\"-\",  label=\"Naive forecast\")\n",
        "# plot_time_series(timesteps=X_time_test, start=offset, values=rs_forecast, label='RandomForest forecast')\n",
        "plot_time_series(timesteps=X_time_test,  values=rs_ideal_forecast, label='RS RandomForest forecast')\n",
        "# plot_time_series(timesteps=X_time_test, start=offset, values=k_forecast, label='KNR forecast')\n",
        "# plot_time_series(timesteps=X_time_test, start=offset, values=rs_k_forecast, label='Ideal KNR forecast')\n",
        "# plot_time_series(timesteps=X_time_test, start=offset, values=svr_forecast, label='SVR forecast')\n",
        "# plot_time_series(timesteps=X_time_test, start=offset, values=rs_svr_forecast, label='Ideal SVR forecast')\n",
        "# plot_time_series(timesteps=X_time_test, start=offset, values=vr_forecast, label='VotingRegressor forecast')\n",
        "# plot_time_series(timesteps=X_time_test, start=offset, values=gbr_forecast, label='GradientTree forecast')\n",
        "# plot_time_series(timesteps=X_time_test, values=rs_gbr_forecast, label='Randomized Search GradientTree forecast')\n",
        "# plot_time_series(timesteps=X_time_test, values=best_rs_forecast, label='Best RandomForest forecast')\n",
        "plt.title('RS Random Forrest Model vs Base Model in Iloilo', fontsize=18, fontweight='bold')\n",
        "\n",
        "plt.show();"
      ],
      "metadata": {
        "colab": {
          "base_uri": "https://localhost:8080/",
          "height": 462
        },
        "id": "2bWGfa12iauK",
        "outputId": "94290d6f-7738-4910-c3b4-79abfa494ba9"
      },
      "execution_count": 83,
      "outputs": [
        {
          "output_type": "display_data",
          "data": {
            "image/png": "[encoded data removed]",
            "text/plain": [
              "<Figure size 720x504 with 1 Axes>"
            ]
          },
          "metadata": {
            "needs_background": "light"
          }
        }
      ]
    },
    {
      "cell_type": "code",
      "source": [
        "plt.figure(figsize=(10, 7))\n",
        "offset = 10 # offset the values by 300 timesteps \n",
        "plot_time_series(timesteps=X_time_test,  values=y_test, label=\"Test data\")\n",
        "plot_time_series(timesteps=X_time_test[1:], values=naive_forecast, format=\"-\",  label=\"Naive forecast\")\n",
        "# plot_time_series(timesteps=X_time_test, start=offset, values=rs_forecast, label='RandomForest forecast')\n",
        "plot_time_series(timesteps=X_time_test,  values=rs_ideal_forecast, label='RS RandomForest forecast')\n",
        "# plot_time_series(timesteps=X_time_test, start=offset, values=k_forecast, label='KNR forecast')\n",
        "# plot_time_series(timesteps=X_time_test, start=offset, values=rs_k_forecast, label='Ideal KNR forecast')\n",
        "# plot_time_series(timesteps=X_time_test, start=offset, values=svr_forecast, label='SVR forecast')\n",
        "# plot_time_series(timesteps=X_time_test, start=offset, values=rs_svr_forecast, label='Ideal SVR forecast')\n",
        "# plot_time_series(timesteps=X_time_test, start=offset, values=vr_forecast, label='VotingRegressor forecast')\n",
        "# plot_time_series(timesteps=X_time_test, start=offset, values=gbr_forecast, label='GradientTree forecast')\n",
        "# plot_time_series(timesteps=X_time_test, values=rs_gbr_forecast, label='Randomized Search GradientTree forecast')\n",
        "plot_time_series(timesteps=X_time_test, values=best_rs_forecast, label='MT RandomForest forecast')\n",
        "plt.title('Manually Tuned Random Forrest Model vs RS Random \\nForrest Model vs Base Model in Iloilo', fontsize=16, fontweight='bold')\n",
        "\n",
        "plt.show();"
      ],
      "metadata": {
        "colab": {
          "base_uri": "https://localhost:8080/",
          "height": 478
        },
        "id": "TZG378NiX37-",
        "outputId": "dec5aba7-8c4c-48b8-ef7a-579b7d68ea18"
      },
      "execution_count": 84,
      "outputs": [
        {
          "output_type": "display_data",
          "data": {
            "image/png": "[encoded data removed]",
            "text/plain": [
              "<Figure size 720x504 with 1 Axes>"
            ]
          },
          "metadata": {
            "needs_background": "light"
          }
        }
      ]
    },
    {
      "cell_type": "code",
      "source": [
        "best_rs_model.feature_importances_"
      ],
      "metadata": {
        "colab": {
          "base_uri": "https://localhost:8080/"
        },
        "id": "0oaL23KPieCm",
        "outputId": "9ad0b3c6-0852-4d1f-fa1c-e37fd0974b7b"
      },
      "execution_count": null,
      "outputs": [
        {
          "output_type": "execute_result",
          "data": {
            "text/plain": [
              "array([0.00000000e+00, 0.00000000e+00, 0.00000000e+00, 0.00000000e+00,\n",
              "       2.13090122e-07, 0.00000000e+00, 3.53086140e-10, 9.72896734e-07,\n",
              "       2.94809625e-07, 0.00000000e+00, 5.93495072e-01, 2.89943991e-06,\n",
              "       5.86219083e-07, 2.50129101e-07, 0.00000000e+00, 7.45160898e-08,\n",
              "       0.00000000e+00, 0.00000000e+00, 4.64257949e-07, 6.83248831e-07,\n",
              "       7.87407536e-07, 3.26203330e-01, 5.43023348e-02, 1.93174604e-02,\n",
              "       3.99258266e-03, 2.68003475e-03, 6.48017540e-07, 1.31177054e-06])"
            ]
          },
          "metadata": {},
          "execution_count": 91
        }
      ]
    },
    {
      "cell_type": "code",
      "source": [
        "def plot_features(columns, importances, n=20):\n",
        "    df = (pd.DataFrame({\n",
        "        'features': columns,\n",
        "        'feature_importances': importances\n",
        "    }).sort_values('feature_importances', ascending=False).reset_index(drop=True))\n",
        "\n",
        "    #plot df\n",
        "    fig, ax = plt.subplots()\n",
        "    ax.barh(df['features'][:n], df['feature_importances'][:n])\n",
        "    ax.set_ylabel('Features')\n",
        "    ax.set_xlabel('Feature Importance')\n",
        "    ax.invert_yaxis()\n",
        "    plt.title('Feature Importance in Iloilo', fontweight='bold', fontsize=14)"
      ],
      "metadata": {
        "id": "nGmdiARHjDNZ"
      },
      "execution_count": null,
      "outputs": []
    },
    {
      "cell_type": "code",
      "source": [
        "plot_features(X_columns, best_rs_model.feature_importances_)"
      ],
      "metadata": {
        "colab": {
          "base_uri": "https://localhost:8080/",
          "height": 296
        },
        "id": "5tqXm-lfjN8w",
        "outputId": "001421db-5f39-479d-8ebd-c2d0da0d3b3c"
      },
      "execution_count": null,
      "outputs": [
        {
          "output_type": "display_data",
          "data": {
            "image/png": "[encoded data removed]",
            "text/plain": [
              "<Figure size 432x288 with 1 Axes>"
            ]
          },
          "metadata": {
            "needs_background": "light"
          }
        }
      ]
    },
    {
      "cell_type": "code",
      "source": [
        "scores"
      ],
      "metadata": {
        "colab": {
          "base_uri": "https://localhost:8080/",
          "height": 394
        },
        "id": "tuWH11-vm28W",
        "outputId": "5b7a26a1-3486-4c08-e9ed-25438229a8c1"
      },
      "execution_count": null,
      "outputs": [
        {
          "output_type": "execute_result",
          "data": {
            "text/html": [
              "\n",
              "  <div id=\"df-1ec99e8e-410e-47dc-8e37-611b7b34aca2\">\n",
              "    <div class=\"colab-df-container\">\n",
              "      <div>\n",
              "<style scoped>\n",
              "    .dataframe tbody tr th:only-of-type {\n",
              "        vertical-align: middle;\n",
              "    }\n",
              "\n",
              "    .dataframe tbody tr th {\n",
              "        vertical-align: top;\n",
              "    }\n",
              "\n",
              "    .dataframe thead th {\n",
              "        text-align: right;\n",
              "    }\n",
              "</style>\n",
              "<table border=\"1\" class=\"dataframe\">\n",
              "  <thead>\n",
              "    <tr style=\"text-align: right;\">\n",
              "      <th></th>\n",
              "      <th>models</th>\n",
              "      <th>mae</th>\n",
              "      <th>mape</th>\n",
              "      <th>mse</th>\n",
              "      <th>rmse</th>\n",
              "    </tr>\n",
              "  </thead>\n",
              "  <tbody>\n",
              "    <tr>\n",
              "      <th>0</th>\n",
              "      <td>Naive</td>\n",
              "      <td>0.149135</td>\n",
              "      <td>9.619386e+04</td>\n",
              "      <td>0.070655</td>\n",
              "      <td>0.265810</td>\n",
              "    </tr>\n",
              "    <tr>\n",
              "      <th>1</th>\n",
              "      <td>Random Forest</td>\n",
              "      <td>0.247820</td>\n",
              "      <td>1.749970e+12</td>\n",
              "      <td>0.249441</td>\n",
              "      <td>0.499440</td>\n",
              "    </tr>\n",
              "    <tr>\n",
              "      <th>2</th>\n",
              "      <td>Random Forest Randomized Search</td>\n",
              "      <td>0.227049</td>\n",
              "      <td>1.045875e+12</td>\n",
              "      <td>0.203688</td>\n",
              "      <td>0.451318</td>\n",
              "    </tr>\n",
              "    <tr>\n",
              "      <th>3</th>\n",
              "      <td>KNeighboursRegressor</td>\n",
              "      <td>0.465543</td>\n",
              "      <td>1.166647e+13</td>\n",
              "      <td>0.646726</td>\n",
              "      <td>0.804193</td>\n",
              "    </tr>\n",
              "    <tr>\n",
              "      <th>4</th>\n",
              "      <td>KNeighboursRegressor Randomized Search</td>\n",
              "      <td>0.436333</td>\n",
              "      <td>1.295321e+13</td>\n",
              "      <td>0.596374</td>\n",
              "      <td>0.772253</td>\n",
              "    </tr>\n",
              "    <tr>\n",
              "      <th>5</th>\n",
              "      <td>Support Vector Regression</td>\n",
              "      <td>0.458923</td>\n",
              "      <td>2.129633e+13</td>\n",
              "      <td>0.658355</td>\n",
              "      <td>0.811391</td>\n",
              "    </tr>\n",
              "    <tr>\n",
              "      <th>6</th>\n",
              "      <td>Support Vector Regression Randomized Search</td>\n",
              "      <td>0.506515</td>\n",
              "      <td>1.212257e+14</td>\n",
              "      <td>0.475399</td>\n",
              "      <td>0.689492</td>\n",
              "    </tr>\n",
              "    <tr>\n",
              "      <th>7</th>\n",
              "      <td>VotingRegressor</td>\n",
              "      <td>0.334178</td>\n",
              "      <td>3.823115e+13</td>\n",
              "      <td>0.370336</td>\n",
              "      <td>0.608553</td>\n",
              "    </tr>\n",
              "    <tr>\n",
              "      <th>8</th>\n",
              "      <td>GradientTreeBoosting Regressor</td>\n",
              "      <td>0.323240</td>\n",
              "      <td>2.263976e+12</td>\n",
              "      <td>0.514721</td>\n",
              "      <td>0.717441</td>\n",
              "    </tr>\n",
              "    <tr>\n",
              "      <th>9</th>\n",
              "      <td>GradientTreeBoosting Regressor Randomized Search</td>\n",
              "      <td>0.286966</td>\n",
              "      <td>2.353587e+12</td>\n",
              "      <td>0.275676</td>\n",
              "      <td>0.525048</td>\n",
              "    </tr>\n",
              "    <tr>\n",
              "      <th>10</th>\n",
              "      <td>Random Forest Manually Tuned</td>\n",
              "      <td>0.205950</td>\n",
              "      <td>9.103612e+11</td>\n",
              "      <td>0.155696</td>\n",
              "      <td>0.394583</td>\n",
              "    </tr>\n",
              "  </tbody>\n",
              "</table>\n",
              "</div>\n",
              "      <button class=\"colab-df-convert\" onclick=\"convertToInteractive('df-1ec99e8e-410e-47dc-8e37-611b7b34aca2')\"\n",
              "              title=\"Convert this dataframe to an interactive table.\"\n",
              "              style=\"display:none;\">\n",
              "        \n",
              "  <svg xmlns=\"http://www.w3.org/2000/svg\" height=\"24px\"viewBox=\"0 0 24 24\"\n",
              "       width=\"24px\">\n",
              "    <path d=\"M0 0h24v24H0V0z\" fill=\"none\"/>\n",
              "    <path d=\"M18.56 5.44l.94 2.06.94-2.06 2.06-.94-2.06-.94-.94-2.06-.94 2.06-2.06.94zm-11 1L8.5 8.5l.94-2.06 2.06-.94-2.06-.94L8.5 2.5l-.94 2.06-2.06.94zm10 10l.94 2.06.94-2.06 2.06-.94-2.06-.94-.94-2.06-.94 2.06-2.06.94z\"/><path d=\"M17.41 7.96l-1.37-1.37c-.4-.4-.92-.59-1.43-.59-.52 0-1.04.2-1.43.59L10.3 9.45l-7.72 7.72c-.78.78-.78 2.05 0 2.83L4 21.41c.39.39.9.59 1.41.59.51 0 1.02-.2 1.41-.59l7.78-7.78 2.81-2.81c.8-.78.8-2.07 0-2.86zM5.41 20L4 18.59l7.72-7.72 1.47 1.35L5.41 20z\"/>\n",
              "  </svg>\n",
              "      </button>\n",
              "      \n",
              "  <style>\n",
              "    .colab-df-container {\n",
              "      display:flex;\n",
              "      flex-wrap:wrap;\n",
              "      gap: 12px;\n",
              "    }\n",
              "\n",
              "    .colab-df-convert {\n",
              "      background-color: #E8F0FE;\n",
              "      border: none;\n",
              "      border-radius: 50%;\n",
              "      cursor: pointer;\n",
              "      display: none;\n",
              "      fill: #1967D2;\n",
              "      height: 32px;\n",
              "      padding: 0 0 0 0;\n",
              "      width: 32px;\n",
              "    }\n",
              "\n",
              "    .colab-df-convert:hover {\n",
              "      background-color: #E2EBFA;\n",
              "      box-shadow: 0px 1px 2px rgba(60, 64, 67, 0.3), 0px 1px 3px 1px rgba(60, 64, 67, 0.15);\n",
              "      fill: #174EA6;\n",
              "    }\n",
              "\n",
              "    [theme=dark] .colab-df-convert {\n",
              "      background-color: #3B4455;\n",
              "      fill: #D2E3FC;\n",
              "    }\n",
              "\n",
              "    [theme=dark] .colab-df-convert:hover {\n",
              "      background-color: #434B5C;\n",
              "      box-shadow: 0px 1px 3px 1px rgba(0, 0, 0, 0.15);\n",
              "      filter: drop-shadow(0px 1px 2px rgba(0, 0, 0, 0.3));\n",
              "      fill: #FFFFFF;\n",
              "    }\n",
              "  </style>\n",
              "\n",
              "      <script>\n",
              "        const buttonEl =\n",
              "          document.querySelector('#df-1ec99e8e-410e-47dc-8e37-611b7b34aca2 button.colab-df-convert');\n",
              "        buttonEl.style.display =\n",
              "          google.colab.kernel.accessAllowed ? 'block' : 'none';\n",
              "\n",
              "        async function convertToInteractive(key) {\n",
              "          const element = document.querySelector('#df-1ec99e8e-410e-47dc-8e37-611b7b34aca2');\n",
              "          const dataTable =\n",
              "            await google.colab.kernel.invokeFunction('convertToInteractive',\n",
              "                                                     [key], {});\n",
              "          if (!dataTable) return;\n",
              "\n",
              "          const docLinkHtml = 'Like what you see? Visit the ' +\n",
              "            '<a target=\"_blank\" href=https://colab.research.google.com/notebooks/data_table.ipynb>data table notebook</a>'\n",
              "            + ' to learn more about interactive tables.';\n",
              "          element.innerHTML = '';\n",
              "          dataTable['output_type'] = 'display_data';\n",
              "          await google.colab.output.renderOutput(dataTable, element);\n",
              "          const docLink = document.createElement('div');\n",
              "          docLink.innerHTML = docLinkHtml;\n",
              "          element.appendChild(docLink);\n",
              "        }\n",
              "      </script>\n",
              "    </div>\n",
              "  </div>\n",
              "  "
            ],
            "text/plain": [
              "                                              models  ...      rmse\n",
              "0                                              Naive  ...  0.265810\n",
              "1                                      Random Forest  ...  0.499440\n",
              "2                    Random Forest Randomized Search  ...  0.451318\n",
              "3                               KNeighboursRegressor  ...  0.804193\n",
              "4             KNeighboursRegressor Randomized Search  ...  0.772253\n",
              "5                          Support Vector Regression  ...  0.811391\n",
              "6        Support Vector Regression Randomized Search  ...  0.689492\n",
              "7                                    VotingRegressor  ...  0.608553\n",
              "8                     GradientTreeBoosting Regressor  ...  0.717441\n",
              "9   GradientTreeBoosting Regressor Randomized Search  ...  0.525048\n",
              "10                      Random Forest Manually Tuned  ...  0.394583\n",
              "\n",
              "[11 rows x 5 columns]"
            ]
          },
          "metadata": {},
          "execution_count": 95
        }
      ]
    },
    {
      "cell_type": "code",
      "source": [
        ""
      ],
      "metadata": {
        "id": "zkHpSoqKwfRm"
      },
      "execution_count": null,
      "outputs": []
    }
  ],
  "metadata": {
    "accelerator": "GPU",
    "colab": {
      "name": "iloilo",
      "provenance": [],
      "mount_file_id": "1Tc8aM9o9s46Wn6I1anlzfIIkYWuQxU50",
      "authorship_tag": "ABX9TyP31tOaEwjaJvhpy5dolCqO",
      "include_colab_link": true
    },
    "kernelspec": {
      "display_name": "Python 3",
      "name": "python3"
    },
    "language_info": {
      "name": "python"
    }
  },
  "nbformat": 4,
  "nbformat_minor": 0
}